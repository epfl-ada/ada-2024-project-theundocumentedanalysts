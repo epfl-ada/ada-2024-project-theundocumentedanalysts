{
 "cells": [
  {
   "cell_type": "code",
   "execution_count": 1,
   "metadata": {},
   "outputs": [],
   "source": [
    "import pandas as pd\n",
    "import os\n",
    "import networkx as nx\n",
    "import matplotlib.pyplot as plt\n",
    "from collections import Counter\n",
    "import numpy as np\n",
    "\n",
    "ABS_PATH = os.getcwd()\n",
    "awards_df =pd.read_csv(ABS_PATH+'/data/the_oscar_award.csv')\n",
    "movies_df = pd.read_csv(ABS_PATH+'/data/movie_data.csv')"
   ]
  },
  {
   "cell_type": "markdown",
   "metadata": {},
   "source": [
    "Steps to Calculate Star Power Index\n",
    "\t1.\tData Preparation:\n",
    "\t•\tClean and preprocess the movie dataset to calculate metrics like average IMDb score and user votes for each actor.\n",
    "\t•\tIntegrate the awards data to count nominations and wins for each actor.\n",
    "\t2.\tMetrics for Star Power:\n",
    "\t•\tAverage IMDb Rating: Compute the average IMDb rating for movies in which the actor appeared.\n",
    "\t•\tAwards Metrics: Count nominations and wins using the awards CSV.\n",
    "\t•\tLongevity: Calculate the number of unique years an actor has movies in the dataset.\n",
    "\t•\tConsistency: Standard deviation or variance of IMDb scores across an actor’s movies (lower variance reflects consistency).\n",
    "\t3.\tStar Power Index:\n",
    "\t•\tCombine all the metrics into a weighted score. For example:\n",
    "\n",
    "\n",
    "$ \\text{Star Power Index} = w_1 \\times \\text{Avg IMDb Score} + w_2 \\times \\text{Awards Score} + w_3 \\times \\text{Longevity} + w_4 \\times \\text{Consistency} $\n",
    "\n",
    "\n",
    "\t•\tNormalize the metrics to ensure fair contribution to the index.\n",
    "\t4.\tDeliverables:\n",
    "\t•\tStar Power Index: A ranked list of actors based on the index.\n",
    "\t•\tVisualization: Bar charts or heatmaps showing the contributions of individual metrics to the index.\n",
    "\n",
    "HERE I STILL DIDNT DO A PLOT"
   ]
  },
  {
   "cell_type": "code",
   "execution_count": 2,
   "metadata": {},
   "outputs": [
    {
     "name": "stdout",
     "output_type": "stream",
     "text": [
      "                   actor  star_power_index\n",
      "4914      Robert De Niro          9.544134\n",
      "2175       Harrison Ford          8.078749\n",
      "4209      Morgan Freeman          7.925011\n",
      "5725          Tom Cruise          7.865203\n",
      "674            Brad Pitt          7.802226\n",
      "1474   Denzel Washington          7.709261\n",
      "5734           Tom Hanks          7.617085\n",
      "388      Anthony Hopkins          7.597885\n",
      "5520  Sylvester Stallone          7.374420\n",
      "2901         Johnny Depp          7.347770\n"
     ]
    }
   ],
   "source": [
    "# Load awards data into DataFrame\n",
    "awards = awards_df\n",
    "movies = movies_df\n",
    "\n",
    "# Star Power Calculation\n",
    "def calculate_star_power(movie_data, awards_data):\n",
    "    # Preprocess the movies data\n",
    "    actor_columns = ['actor_1_name', 'actor_2_name', 'actor_3_name']\n",
    "    actor_movies = pd.melt(movie_data, id_vars=['movie_title', 'imdb_score', 'title_year'], \n",
    "                           value_vars=actor_columns, value_name='actor').dropna()\n",
    "\n",
    "    # Average IMDb rating per actor\n",
    "    actor_ratings = actor_movies.groupby('actor')['imdb_score'].mean().reset_index()\n",
    "    actor_ratings.rename(columns={'imdb_score': 'avg_imdb_score'}, inplace=True)\n",
    "\n",
    "    # Longevity (unique years)\n",
    "    actor_longevity = actor_movies.groupby('actor')['title_year'].nunique().reset_index()\n",
    "    actor_longevity.rename(columns={'title_year': 'longevity'}, inplace=True)\n",
    "\n",
    "    # Consistency (standard deviation of IMDb scores)\n",
    "    actor_consistency = actor_movies.groupby('actor')['imdb_score'].std().reset_index()\n",
    "    actor_consistency.rename(columns={'imdb_score': 'consistency'}, inplace=True)\n",
    "\n",
    "    # Merge actor metrics\n",
    "    actor_metrics = actor_ratings.merge(actor_longevity, on='actor', how='left') \\\n",
    "                                 .merge(actor_consistency, on='actor', how='left')\n",
    "\n",
    "    # Process awards data\n",
    "    awards_count = awards_data.groupby('name').agg(\n",
    "        nominations=('winner', 'count'),\n",
    "        wins=('winner', 'sum')\n",
    "    ).reset_index()\n",
    "    awards_count.rename(columns={'name': 'actor'}, inplace=True)\n",
    "\n",
    "    # Merge awards with actor metrics\n",
    "    star_power_df = actor_metrics.merge(awards_count, on='actor', how='left').fillna(0)\n",
    "\n",
    "    # Calculate Star Power Index\n",
    "    star_power_df['star_power_index'] = (\n",
    "        0.4 * star_power_df['avg_imdb_score'] +\n",
    "        0.3 * star_power_df['wins'] +\n",
    "        0.2 * star_power_df['longevity'] +\n",
    "        0.1 * (1 / (1 + star_power_df['consistency']))\n",
    "    )\n",
    "\n",
    "    return star_power_df.sort_values('star_power_index', ascending=False)\n",
    "\n",
    "# Calculate Star Power Index\n",
    "star_power_df = calculate_star_power(movies, awards)\n",
    "\n",
    "# Display the top actors based on Star Power Index\n",
    "print(star_power_df[['actor', 'star_power_index']].head(10))"
   ]
  },
  {
   "cell_type": "markdown",
   "metadata": {},
   "source": [
    "### the next histograms can be grouped en fonction de ce qu'on veut mettre ensemble, feel free to tell me lesquels vont les uns avec les autres et je changerai en fonction"
   ]
  },
  {
   "cell_type": "code",
   "execution_count": null,
   "metadata": {},
   "outputs": [
    {
     "data": {
      "application/vnd.jupyter.widget-view+json": {
       "model_id": "35870add40d74d54b7c638a3d0b4fad7",
       "version_major": 2,
       "version_minor": 0
      },
      "text/plain": [
       "interactive(children=(Dropdown(description='Filter by:', options=('Actors', 'Non-Actors'), value='Actors'), Ou…"
      ]
     },
     "metadata": {},
     "output_type": "display_data"
    }
   ],
   "source": [
    "from ipywidgets import widgets\n",
    "from IPython.display import display\n",
    "import matplotlib.pyplot as plt\n",
    "import pandas as pd\n",
    "\n",
    "# Analyze years with the most or fewest awards\n",
    "awards_per_year = awards_df.groupby('year_ceremony').size()\n",
    "\n",
    "# Study consistently nominated movies or individuals\n",
    "nominations_per_film = awards_df.groupby('film').size().sort_values(ascending=False).head(10)\n",
    "nominations_per_person = awards_df.groupby('name').size().sort_values(ascending=False).head(10)\n",
    "\n",
    "# Filter nominations to include actors/actresses and others\n",
    "actor_nominations = awards_df[awards_df['category'].str.contains('ACTOR|ACTRESS', case=False, na=False)]\n",
    "non_actor_nominations = awards_df[~awards_df['category'].str.contains('ACTOR|ACTRESS', case=False, na=False)]\n",
    "\n",
    "# Group by name and count nominations\n",
    "nominations_per_actor = actor_nominations.groupby('name').size().sort_values(ascending=False).head(10)\n",
    "nominations_per_non_actor = non_actor_nominations.groupby('name').size().sort_values(ascending=False).head(10)\n",
    "\n",
    "# Create a dropdown widget for selecting filter type\n",
    "filter_type = widgets.Dropdown(\n",
    "    options=['Actors', 'Non-Actors'],\n",
    "    value='Actors',\n",
    "    description='Filter by:',\n",
    "    disabled=False,\n",
    ")\n",
    "\n",
    "# Function to update the plot based on the selected filter\n",
    "def update_plot(filter_type):\n",
    "    if filter_type == 'Actors':\n",
    "        data = nominations_per_actor\n",
    "        title = 'Top 10 Most-Nominated Actors'\n",
    "    else:\n",
    "        data = nominations_per_non_actor\n",
    "        title = 'Top 10 Most-Nominated Non-Actors'\n",
    "    \n",
    "    if data.empty:  # Check if the data is empty\n",
    "        print(f\"No data available for {filter_type}.\")\n",
    "        return\n",
    "    \n",
    "    plt.figure(figsize=(12, 8))\n",
    "    data.plot(kind='bar', color='lightblue')\n",
    "    plt.title(title, fontsize=16)\n",
    "    plt.xlabel('Name', fontsize=14)\n",
    "    plt.ylabel('Number of Nominations', fontsize=14)\n",
    "    plt.xticks(rotation=45)\n",
    "    plt.grid(axis='y')\n",
    "    plt.tight_layout()\n",
    "    plt.show()\n",
    "\n",
    "# Interactive plot with dropdown\n",
    "interactive_plot = widgets.interactive(update_plot, filter_type=filter_type)\n",
    "display(interactive_plot)\n"
   ]
  },
  {
   "cell_type": "markdown",
   "metadata": {},
   "source": [
    "some alternative filtering for the same plot"
   ]
  },
  {
   "cell_type": "code",
   "execution_count": null,
   "metadata": {},
   "outputs": [
    {
     "data": {
      "application/vnd.jupyter.widget-view+json": {
       "model_id": "0657aafd2f09437c92233ca50e7a8723",
       "version_major": 2,
       "version_minor": 0
      },
      "text/plain": [
       "interactive(children=(Dropdown(description='Filter by:', options=('DIRECTING', 'FILM EDITING', 'ACTOR IN A SUP…"
      ]
     },
     "metadata": {},
     "output_type": "display_data"
    }
   ],
   "source": [
    "from ipywidgets import widgets\n",
    "from IPython.display import display\n",
    "import matplotlib.pyplot as plt\n",
    "import pandas as pd\n",
    "\n",
    "# Assume awards_df is already defined and loaded\n",
    "# Example: awards_df = pd.read_csv('awards_data.csv')\n",
    "\n",
    "# Compute the average nominations per category\n",
    "average_nominations_per_category = awards_df.groupby('category').size().reset_index(name='nomination_count')\n",
    "filtered_categories = (\n",
    "    average_nominations_per_category\n",
    "    .sort_values(by='nomination_count', ascending=False)\n",
    "    .head(20)\n",
    "    ['category']\n",
    ")\n",
    "\n",
    "# Create a dropdown widget for selecting filter type\n",
    "filter_type = widgets.Dropdown(\n",
    "    options=filtered_categories.tolist(),  # Use only filtered categories\n",
    "    value=filtered_categories.iloc[0] if not filtered_categories.empty else None,  # Default to first filtered category\n",
    "    description='Filter by:',\n",
    "    disabled=False,\n",
    ")\n",
    "\n",
    "# Function to update the plot based on the selected filter\n",
    "def update_plot(filter_type):\n",
    "    if filter_type is None:\n",
    "        print(\"No categories meet the criteria of average nominations > 4.\")\n",
    "        return\n",
    "    \n",
    "    filtered_nominations = awards_df[awards_df['category'] == filter_type]\n",
    "    nominations_per_name = filtered_nominations.groupby('name').size().sort_values(ascending=False).head(10)\n",
    "    \n",
    "    if nominations_per_name.empty:  # Check if the data is empty\n",
    "        print(f\"No data available for category: {filter_type}.\")\n",
    "        return\n",
    "    \n",
    "    plt.figure(figsize=(12, 8))\n",
    "    nominations_per_name.plot(kind='bar', color='lightblue')\n",
    "    plt.title(f\"Top 10 Most-Nominated in Category: {filter_type}\", fontsize=16)\n",
    "    plt.xlabel('Name', fontsize=14)\n",
    "    plt.ylabel('Number of Nominations', fontsize=14)\n",
    "    plt.xticks(rotation=45)\n",
    "    plt.grid(axis='y')\n",
    "    plt.tight_layout()\n",
    "    plt.show()\n",
    "\n",
    "# Interactive plot with dropdown\n",
    "interactive_plot = widgets.interactive(update_plot, filter_type=filter_type)\n",
    "display(interactive_plot)"
   ]
  },
  {
   "cell_type": "code",
   "execution_count": null,
   "metadata": {},
   "outputs": [
    {
     "data": {
      "application/vnd.jupyter.widget-view+json": {
       "model_id": "bfff6b40b5be4ee8b5fafab99e84d235",
       "version_major": 2,
       "version_minor": 0
      },
      "text/plain": [
       "interactive(children=(Dropdown(description='View:', options=('Top Actors', 'Top Directors'), value='Top Actors…"
      ]
     },
     "metadata": {},
     "output_type": "display_data"
    }
   ],
   "source": [
    "import pandas as pd\n",
    "import matplotlib.pyplot as plt\n",
    "from ipywidgets import widgets\n",
    "from IPython.display import display\n",
    "\n",
    "# Load the dataset\n",
    "movies_df = pd.read_csv(ABS_PATH + '/data/movie_data.csv')  # Movies dataset\n",
    "\n",
    "# Prepare data for actors\n",
    "actor_columns = ['actor_1_name', 'actor_2_name', 'actor_3_name']\n",
    "actors_df = movies_df[actor_columns].melt(value_name='actor').dropna(subset=['actor'])\n",
    "top_actors = actors_df['actor'].value_counts().head(10)\n",
    "\n",
    "# Prepare data for directors\n",
    "top_directors = movies_df['director_name'].value_counts().head(10)\n",
    "\n",
    "# Visualization function\n",
    "def update_plot(view_option):\n",
    "    if view_option == 'Top Actors':\n",
    "        plt.figure(figsize=(12, 8))\n",
    "        top_actors.plot(kind='bar', color='skyblue')\n",
    "        plt.title('Top 10 Most Prolific Actors by Number of Movies', fontsize=16)\n",
    "        plt.xlabel('Actor', fontsize=14)\n",
    "        plt.ylabel('Number of Movies', fontsize=14)\n",
    "        plt.xticks(rotation=45)\n",
    "        plt.grid(axis='y')\n",
    "        plt.tight_layout()\n",
    "        plt.show()\n",
    "    elif view_option == 'Top Directors':\n",
    "        plt.figure(figsize=(12, 8))\n",
    "        top_directors.plot(kind='bar', color='lightgreen')\n",
    "        plt.title('Top 10 Most Prolific Directors by Number of Movies', fontsize=16)\n",
    "        plt.xlabel('Director', fontsize=14)\n",
    "        plt.ylabel('Number of Movies', fontsize=14)\n",
    "        plt.xticks(rotation=45)\n",
    "        plt.grid(axis='y')\n",
    "        plt.tight_layout()\n",
    "        plt.show()\n",
    "\n",
    "# Dropdown menu for switching views\n",
    "view_dropdown = widgets.Dropdown(\n",
    "    options=['Top Actors', 'Top Directors'],\n",
    "    value='Top Actors',\n",
    "    description='View:',\n",
    ")\n",
    "\n",
    "# Interactive plot display\n",
    "interactive_plot = widgets.interactive(update_plot, view_option=view_dropdown)\n",
    "display(interactive_plot)"
   ]
  },
  {
   "cell_type": "code",
   "execution_count": 32,
   "metadata": {},
   "outputs": [
    {
     "data": {
      "application/vnd.jupyter.widget-view+json": {
       "model_id": "00a89ce7c52c4927a03a4fde4a368b2b",
       "version_major": 2,
       "version_minor": 0
      },
      "text/plain": [
       "interactive(children=(Dropdown(description='View:', options=('Top Actors', 'Top Directors'), value='Top Actors…"
      ]
     },
     "metadata": {},
     "output_type": "display_data"
    }
   ],
   "source": [
    "import pandas as pd\n",
    "import matplotlib.pyplot as plt\n",
    "from ipywidgets import widgets\n",
    "from IPython.display import display\n",
    "\n",
    "# Load the dataset\n",
    "movies_df = pd.read_csv(ABS_PATH + '/data/movie_data.csv')  # Movies dataset\n",
    "\n",
    "# Prepare data for actors\n",
    "actor_columns = ['actor_1_name', 'actor_2_name', 'actor_3_name']\n",
    "actors_df = movies_df.melt(\n",
    "    id_vars=['imdb_score'], value_vars=actor_columns, value_name='actor'\n",
    ").dropna(subset=['actor'])\n",
    "\n",
    "# Filter actors with at least 20 movies\n",
    "actor_movie_counts = actors_df['actor'].value_counts()\n",
    "eligible_actors = actor_movie_counts[actor_movie_counts >= 20].index\n",
    "filtered_actors_df = actors_df[actors_df['actor'].isin(eligible_actors)]\n",
    "\n",
    "# Calculate average IMDb scores for eligible actors\n",
    "actors_avg_score = filtered_actors_df.groupby('actor')['imdb_score'].mean().sort_values(ascending=False).head(10)\n",
    "\n",
    "# Prepare data for directors\n",
    "director_movie_counts = movies_df['director_name'].value_counts()\n",
    "eligible_directors = director_movie_counts[director_movie_counts >= 5].index\n",
    "filtered_movies_df = movies_df[movies_df['director_name'].isin(eligible_directors)]\n",
    "\n",
    "# Calculate average IMDb scores for eligible directors\n",
    "directors_avg_score = filtered_movies_df.groupby('director_name')['imdb_score'].mean().sort_values(ascending=False).head(10)\n",
    "\n",
    "# Visualization function\n",
    "def update_plot(view_option):\n",
    "    if view_option == 'Top Actors':\n",
    "        plt.figure(figsize=(12, 8))\n",
    "        actors_avg_score.plot(kind='bar', color='coral')\n",
    "        plt.title('Top 10 Actors by Average IMDb Score (Actors with 20+ Movies)', fontsize=16)\n",
    "        plt.xlabel('Actor', fontsize=14)\n",
    "        plt.ylabel('Average IMDb Score', fontsize=14)\n",
    "        plt.xticks(rotation=45)\n",
    "        plt.grid(axis='y')\n",
    "        plt.tight_layout()\n",
    "        plt.show()\n",
    "    elif view_option == 'Top Directors':\n",
    "        plt.figure(figsize=(12, 8))\n",
    "        directors_avg_score.plot(kind='bar', color='orange')\n",
    "        plt.title('Top 10 Directors by Average IMDb Score (Directors with 5+ Movies)', fontsize=16)\n",
    "        plt.xlabel('Director', fontsize=14)\n",
    "        plt.ylabel('Average IMDb Score', fontsize=14)\n",
    "        plt.xticks(rotation=45)\n",
    "        plt.grid(axis='y')\n",
    "        plt.tight_layout()\n",
    "        plt.show()\n",
    "\n",
    "# Dropdown menu for switching views\n",
    "view_dropdown = widgets.Dropdown(\n",
    "    options=['Top Actors', 'Top Directors'],\n",
    "    value='Top Actors',\n",
    "    description='View:',\n",
    ")\n",
    "\n",
    "# Interactive plot display\n",
    "interactive_plot = widgets.interactive(update_plot, view_option=view_dropdown)\n",
    "display(interactive_plot)"
   ]
  },
  {
   "cell_type": "markdown",
   "metadata": {},
   "source": [
    "#### FROM RESULTS.IPYNB"
   ]
  },
  {
   "cell_type": "code",
   "execution_count": 21,
   "metadata": {},
   "outputs": [],
   "source": [
    "character_metadata = pd.read_csv(ABS_PATH+'/data/CMU_dataset/character.metadata.tsv', sep='\\t')\n",
    "movie_metadata = pd.read_csv(ABS_PATH+'/data/CMU_dataset/movie.metadata.tsv', sep='\\t')\n",
    "oscar_data =pd.read_csv(ABS_PATH+'/data/the_oscar_award.csv')\n",
    "movie_data = pd.read_csv(ABS_PATH+'/data/movie_data.csv')"
   ]
  },
  {
   "cell_type": "code",
   "execution_count": 22,
   "metadata": {},
   "outputs": [],
   "source": [
    "movie_metadata.columns =['Wikipedia movie ID','Freebase movie ID','Movie name','Movie release date',\n",
    "                        'Movie box office revenue','Movie runtime','Movie languages',\n",
    "                        'Movie countries','Movie genres']\n",
    "character_metadata.columns = [\n",
    "    'Wikipedia movie ID',\n",
    "    'Freebase movie ID',\n",
    "    'Movie release date',\n",
    "    'Character name',\n",
    "    'Actor date of birth',\n",
    "    'Actor gender',\n",
    "    'Actor height (in meters)',\n",
    "    'Actor ethnicity (Freebase ID)',\n",
    "    'Actor name',\n",
    "    'Actor age at movie release',\n",
    "    'Freebase character/actor map ID',\n",
    "    'Freebase character ID',\n",
    "    'Freebase actor ID'\n",
    "]"
   ]
  },
  {
   "cell_type": "code",
   "execution_count": 23,
   "metadata": {},
   "outputs": [
    {
     "data": {
      "text/html": [
       "<div>\n",
       "<style scoped>\n",
       "    .dataframe tbody tr th:only-of-type {\n",
       "        vertical-align: middle;\n",
       "    }\n",
       "\n",
       "    .dataframe tbody tr th {\n",
       "        vertical-align: top;\n",
       "    }\n",
       "\n",
       "    .dataframe thead th {\n",
       "        text-align: right;\n",
       "    }\n",
       "</style>\n",
       "<table border=\"1\" class=\"dataframe\">\n",
       "  <thead>\n",
       "    <tr style=\"text-align: right;\">\n",
       "      <th></th>\n",
       "      <th>Wikipedia movie ID</th>\n",
       "      <th>Movie release date_x</th>\n",
       "      <th>Character name</th>\n",
       "      <th>Actor date of birth</th>\n",
       "      <th>Actor gender</th>\n",
       "      <th>Actor height (in meters)</th>\n",
       "      <th>Actor ethnicity (Freebase ID)</th>\n",
       "      <th>Actor name</th>\n",
       "      <th>Actor age at movie release</th>\n",
       "      <th>Movie name</th>\n",
       "      <th>Movie release date_y</th>\n",
       "      <th>Movie box office revenue</th>\n",
       "      <th>Movie runtime</th>\n",
       "      <th>Movie genres</th>\n",
       "    </tr>\n",
       "  </thead>\n",
       "  <tbody>\n",
       "    <tr>\n",
       "      <th>0</th>\n",
       "      <td>3196793</td>\n",
       "      <td>2000-02-16</td>\n",
       "      <td>Police Officer</td>\n",
       "      <td>NaN</td>\n",
       "      <td>M</td>\n",
       "      <td>NaN</td>\n",
       "      <td>NaN</td>\n",
       "      <td>Allen Cutler</td>\n",
       "      <td>NaN</td>\n",
       "      <td>Getting Away with Murder: The JonBenét Ramsey ...</td>\n",
       "      <td>2000-02-16</td>\n",
       "      <td>NaN</td>\n",
       "      <td>95.0</td>\n",
       "      <td>{\"/m/02n4kr\": \"Mystery\", \"/m/03bxz7\": \"Biograp...</td>\n",
       "    </tr>\n",
       "    <tr>\n",
       "      <th>1</th>\n",
       "      <td>3196793</td>\n",
       "      <td>2000-02-16</td>\n",
       "      <td>Reporter</td>\n",
       "      <td>1956-12-19</td>\n",
       "      <td>F</td>\n",
       "      <td>NaN</td>\n",
       "      <td>NaN</td>\n",
       "      <td>Alice Barrett</td>\n",
       "      <td>43.0</td>\n",
       "      <td>Getting Away with Murder: The JonBenét Ramsey ...</td>\n",
       "      <td>2000-02-16</td>\n",
       "      <td>NaN</td>\n",
       "      <td>95.0</td>\n",
       "      <td>{\"/m/02n4kr\": \"Mystery\", \"/m/03bxz7\": \"Biograp...</td>\n",
       "    </tr>\n",
       "    <tr>\n",
       "      <th>2</th>\n",
       "      <td>3196793</td>\n",
       "      <td>2000-02-16</td>\n",
       "      <td>NaN</td>\n",
       "      <td>NaN</td>\n",
       "      <td>M</td>\n",
       "      <td>NaN</td>\n",
       "      <td>NaN</td>\n",
       "      <td>Rod Britt</td>\n",
       "      <td>NaN</td>\n",
       "      <td>Getting Away with Murder: The JonBenét Ramsey ...</td>\n",
       "      <td>2000-02-16</td>\n",
       "      <td>NaN</td>\n",
       "      <td>95.0</td>\n",
       "      <td>{\"/m/02n4kr\": \"Mystery\", \"/m/03bxz7\": \"Biograp...</td>\n",
       "    </tr>\n",
       "    <tr>\n",
       "      <th>3</th>\n",
       "      <td>3196793</td>\n",
       "      <td>2000-02-16</td>\n",
       "      <td>NaN</td>\n",
       "      <td>NaN</td>\n",
       "      <td>F</td>\n",
       "      <td>NaN</td>\n",
       "      <td>NaN</td>\n",
       "      <td>Hildy Brooks</td>\n",
       "      <td>NaN</td>\n",
       "      <td>Getting Away with Murder: The JonBenét Ramsey ...</td>\n",
       "      <td>2000-02-16</td>\n",
       "      <td>NaN</td>\n",
       "      <td>95.0</td>\n",
       "      <td>{\"/m/02n4kr\": \"Mystery\", \"/m/03bxz7\": \"Biograp...</td>\n",
       "    </tr>\n",
       "    <tr>\n",
       "      <th>4</th>\n",
       "      <td>3196793</td>\n",
       "      <td>2000-02-16</td>\n",
       "      <td>FBI Profiler Robert Hanks</td>\n",
       "      <td>1950-01-05</td>\n",
       "      <td>M</td>\n",
       "      <td>NaN</td>\n",
       "      <td>NaN</td>\n",
       "      <td>Robert Catrini</td>\n",
       "      <td>50.0</td>\n",
       "      <td>Getting Away with Murder: The JonBenét Ramsey ...</td>\n",
       "      <td>2000-02-16</td>\n",
       "      <td>NaN</td>\n",
       "      <td>95.0</td>\n",
       "      <td>{\"/m/02n4kr\": \"Mystery\", \"/m/03bxz7\": \"Biograp...</td>\n",
       "    </tr>\n",
       "    <tr>\n",
       "      <th>...</th>\n",
       "      <td>...</td>\n",
       "      <td>...</td>\n",
       "      <td>...</td>\n",
       "      <td>...</td>\n",
       "      <td>...</td>\n",
       "      <td>...</td>\n",
       "      <td>...</td>\n",
       "      <td>...</td>\n",
       "      <td>...</td>\n",
       "      <td>...</td>\n",
       "      <td>...</td>\n",
       "      <td>...</td>\n",
       "      <td>...</td>\n",
       "      <td>...</td>\n",
       "    </tr>\n",
       "    <tr>\n",
       "      <th>450647</th>\n",
       "      <td>913762</td>\n",
       "      <td>1992-05-21</td>\n",
       "      <td>Elensh</td>\n",
       "      <td>1970-05</td>\n",
       "      <td>F</td>\n",
       "      <td>NaN</td>\n",
       "      <td>NaN</td>\n",
       "      <td>Dorothy Elias-Fahn</td>\n",
       "      <td>NaN</td>\n",
       "      <td>The Super Dimension Fortress Macross II: Lover...</td>\n",
       "      <td>1992-05-21</td>\n",
       "      <td>NaN</td>\n",
       "      <td>150.0</td>\n",
       "      <td>{\"/m/06n90\": \"Science Fiction\", \"/m/0gw5n2f\": ...</td>\n",
       "    </tr>\n",
       "    <tr>\n",
       "      <th>450648</th>\n",
       "      <td>913762</td>\n",
       "      <td>1992-05-21</td>\n",
       "      <td>Hibiki</td>\n",
       "      <td>1965-04-12</td>\n",
       "      <td>M</td>\n",
       "      <td>NaN</td>\n",
       "      <td>NaN</td>\n",
       "      <td>Jonathan Fahn</td>\n",
       "      <td>27.0</td>\n",
       "      <td>The Super Dimension Fortress Macross II: Lover...</td>\n",
       "      <td>1992-05-21</td>\n",
       "      <td>NaN</td>\n",
       "      <td>150.0</td>\n",
       "      <td>{\"/m/06n90\": \"Science Fiction\", \"/m/0gw5n2f\": ...</td>\n",
       "    </tr>\n",
       "    <tr>\n",
       "      <th>450649</th>\n",
       "      <td>28308153</td>\n",
       "      <td>1957</td>\n",
       "      <td>NaN</td>\n",
       "      <td>1941-11-18</td>\n",
       "      <td>M</td>\n",
       "      <td>1.73</td>\n",
       "      <td>/m/02w7gg</td>\n",
       "      <td>David Hemmings</td>\n",
       "      <td>15.0</td>\n",
       "      <td>Five Clues to Fortune</td>\n",
       "      <td>1957</td>\n",
       "      <td>NaN</td>\n",
       "      <td>129.0</td>\n",
       "      <td>{\"/m/0lsxr\": \"Crime Fiction\"}</td>\n",
       "    </tr>\n",
       "    <tr>\n",
       "      <th>450650</th>\n",
       "      <td>28308153</td>\n",
       "      <td>1957</td>\n",
       "      <td>NaN</td>\n",
       "      <td>NaN</td>\n",
       "      <td>NaN</td>\n",
       "      <td>NaN</td>\n",
       "      <td>NaN</td>\n",
       "      <td>Roberta Paterson</td>\n",
       "      <td>NaN</td>\n",
       "      <td>Five Clues to Fortune</td>\n",
       "      <td>1957</td>\n",
       "      <td>NaN</td>\n",
       "      <td>129.0</td>\n",
       "      <td>{\"/m/0lsxr\": \"Crime Fiction\"}</td>\n",
       "    </tr>\n",
       "    <tr>\n",
       "      <th>450651</th>\n",
       "      <td>28308153</td>\n",
       "      <td>1957</td>\n",
       "      <td>NaN</td>\n",
       "      <td>NaN</td>\n",
       "      <td>NaN</td>\n",
       "      <td>NaN</td>\n",
       "      <td>NaN</td>\n",
       "      <td>John Rogers</td>\n",
       "      <td>NaN</td>\n",
       "      <td>Five Clues to Fortune</td>\n",
       "      <td>1957</td>\n",
       "      <td>NaN</td>\n",
       "      <td>129.0</td>\n",
       "      <td>{\"/m/0lsxr\": \"Crime Fiction\"}</td>\n",
       "    </tr>\n",
       "  </tbody>\n",
       "</table>\n",
       "<p>450652 rows × 14 columns</p>\n",
       "</div>"
      ],
      "text/plain": [
       "        Wikipedia movie ID Movie release date_x             Character name  \\\n",
       "0                  3196793           2000-02-16             Police Officer   \n",
       "1                  3196793           2000-02-16                   Reporter   \n",
       "2                  3196793           2000-02-16                        NaN   \n",
       "3                  3196793           2000-02-16                        NaN   \n",
       "4                  3196793           2000-02-16  FBI Profiler Robert Hanks   \n",
       "...                    ...                  ...                        ...   \n",
       "450647              913762           1992-05-21                     Elensh   \n",
       "450648              913762           1992-05-21                     Hibiki   \n",
       "450649            28308153                 1957                        NaN   \n",
       "450650            28308153                 1957                        NaN   \n",
       "450651            28308153                 1957                        NaN   \n",
       "\n",
       "       Actor date of birth Actor gender  Actor height (in meters)  \\\n",
       "0                      NaN            M                       NaN   \n",
       "1               1956-12-19            F                       NaN   \n",
       "2                      NaN            M                       NaN   \n",
       "3                      NaN            F                       NaN   \n",
       "4               1950-01-05            M                       NaN   \n",
       "...                    ...          ...                       ...   \n",
       "450647             1970-05            F                       NaN   \n",
       "450648          1965-04-12            M                       NaN   \n",
       "450649          1941-11-18            M                      1.73   \n",
       "450650                 NaN          NaN                       NaN   \n",
       "450651                 NaN          NaN                       NaN   \n",
       "\n",
       "       Actor ethnicity (Freebase ID)          Actor name  \\\n",
       "0                                NaN        Allen Cutler   \n",
       "1                                NaN       Alice Barrett   \n",
       "2                                NaN           Rod Britt   \n",
       "3                                NaN        Hildy Brooks   \n",
       "4                                NaN      Robert Catrini   \n",
       "...                              ...                 ...   \n",
       "450647                           NaN  Dorothy Elias-Fahn   \n",
       "450648                           NaN       Jonathan Fahn   \n",
       "450649                     /m/02w7gg      David Hemmings   \n",
       "450650                           NaN    Roberta Paterson   \n",
       "450651                           NaN         John Rogers   \n",
       "\n",
       "        Actor age at movie release  \\\n",
       "0                              NaN   \n",
       "1                             43.0   \n",
       "2                              NaN   \n",
       "3                              NaN   \n",
       "4                             50.0   \n",
       "...                            ...   \n",
       "450647                         NaN   \n",
       "450648                        27.0   \n",
       "450649                        15.0   \n",
       "450650                         NaN   \n",
       "450651                         NaN   \n",
       "\n",
       "                                               Movie name  \\\n",
       "0       Getting Away with Murder: The JonBenét Ramsey ...   \n",
       "1       Getting Away with Murder: The JonBenét Ramsey ...   \n",
       "2       Getting Away with Murder: The JonBenét Ramsey ...   \n",
       "3       Getting Away with Murder: The JonBenét Ramsey ...   \n",
       "4       Getting Away with Murder: The JonBenét Ramsey ...   \n",
       "...                                                   ...   \n",
       "450647  The Super Dimension Fortress Macross II: Lover...   \n",
       "450648  The Super Dimension Fortress Macross II: Lover...   \n",
       "450649                              Five Clues to Fortune   \n",
       "450650                              Five Clues to Fortune   \n",
       "450651                              Five Clues to Fortune   \n",
       "\n",
       "       Movie release date_y  Movie box office revenue  Movie runtime  \\\n",
       "0                2000-02-16                       NaN           95.0   \n",
       "1                2000-02-16                       NaN           95.0   \n",
       "2                2000-02-16                       NaN           95.0   \n",
       "3                2000-02-16                       NaN           95.0   \n",
       "4                2000-02-16                       NaN           95.0   \n",
       "...                     ...                       ...            ...   \n",
       "450647           1992-05-21                       NaN          150.0   \n",
       "450648           1992-05-21                       NaN          150.0   \n",
       "450649                 1957                       NaN          129.0   \n",
       "450650                 1957                       NaN          129.0   \n",
       "450651                 1957                       NaN          129.0   \n",
       "\n",
       "                                             Movie genres  \n",
       "0       {\"/m/02n4kr\": \"Mystery\", \"/m/03bxz7\": \"Biograp...  \n",
       "1       {\"/m/02n4kr\": \"Mystery\", \"/m/03bxz7\": \"Biograp...  \n",
       "2       {\"/m/02n4kr\": \"Mystery\", \"/m/03bxz7\": \"Biograp...  \n",
       "3       {\"/m/02n4kr\": \"Mystery\", \"/m/03bxz7\": \"Biograp...  \n",
       "4       {\"/m/02n4kr\": \"Mystery\", \"/m/03bxz7\": \"Biograp...  \n",
       "...                                                   ...  \n",
       "450647  {\"/m/06n90\": \"Science Fiction\", \"/m/0gw5n2f\": ...  \n",
       "450648  {\"/m/06n90\": \"Science Fiction\", \"/m/0gw5n2f\": ...  \n",
       "450649                      {\"/m/0lsxr\": \"Crime Fiction\"}  \n",
       "450650                      {\"/m/0lsxr\": \"Crime Fiction\"}  \n",
       "450651                      {\"/m/0lsxr\": \"Crime Fiction\"}  \n",
       "\n",
       "[450652 rows x 14 columns]"
      ]
     },
     "execution_count": 23,
     "metadata": {},
     "output_type": "execute_result"
    }
   ],
   "source": [
    "merged_movie_character = pd.merge(character_metadata, movie_metadata, \n",
    "                                  left_on='Wikipedia movie ID', \n",
    "                                  right_on='Wikipedia movie ID', \n",
    "                                  how='inner')\n",
    "merged_movie_character.drop(columns=['Movie languages','Movie countries',\n",
    "                                    'Freebase character/actor map ID','Freebase character ID','Freebase actor ID',\n",
    "                                    'Freebase movie ID_y','Freebase movie ID_x'])"
   ]
  },
  {
   "cell_type": "code",
   "execution_count": 24,
   "metadata": {},
   "outputs": [],
   "source": [
    "oscar_movie_character = pd.merge(oscar_data,merged_movie_character, left_on ='film',right_on ='Movie name')"
   ]
  },
  {
   "cell_type": "code",
   "execution_count": 25,
   "metadata": {},
   "outputs": [
    {
     "name": "stdout",
     "output_type": "stream",
     "text": [
      "(24686, 28)\n"
     ]
    }
   ],
   "source": [
    "#only keep actors and actresses\n",
    "filtered_oscar_data = oscar_movie_character[oscar_movie_character['category'].str.contains('ACTRESS|ACTOR', case=False, na=False)]\n",
    "print(filtered_oscar_data.shape)"
   ]
  },
  {
   "cell_type": "code",
   "execution_count": 26,
   "metadata": {},
   "outputs": [
    {
     "data": {
      "text/plain": [
       "Index(['year_film', 'year_ceremony', 'ceremony', 'category', 'name', 'film',\n",
       "       'winner', 'Wikipedia movie ID', 'Freebase movie ID_x',\n",
       "       'Movie release date_x', 'Character name', 'Actor date of birth',\n",
       "       'Actor gender', 'Actor height (in meters)',\n",
       "       'Actor ethnicity (Freebase ID)', 'Actor name',\n",
       "       'Actor age at movie release', 'Freebase character/actor map ID',\n",
       "       'Freebase character ID', 'Freebase actor ID', 'Freebase movie ID_y',\n",
       "       'Movie name', 'Movie release date_y', 'Movie box office revenue',\n",
       "       'Movie runtime', 'Movie languages', 'Movie countries', 'Movie genres'],\n",
       "      dtype='object')"
      ]
     },
     "execution_count": 26,
     "metadata": {},
     "output_type": "execute_result"
    }
   ],
   "source": [
    "filtered_matching_oscar_data = filtered_oscar_data[filtered_oscar_data['name'] == filtered_oscar_data['Actor name']]\n",
    "filtered_matching_oscar_data.columns"
   ]
  },
  {
   "cell_type": "code",
   "execution_count": 27,
   "metadata": {},
   "outputs": [
    {
     "name": "stdout",
     "output_type": "stream",
     "text": [
      "winner        False  True \n",
      "Actor gender              \n",
      "F               584    156\n",
      "M               599    158\n"
     ]
    }
   ],
   "source": [
    "# Count representation of genders in Oscar-winning roles\n",
    "gender_representation = filtered_matching_oscar_data.groupby(['Actor gender', 'winner']).size().unstack()\n",
    "print(gender_representation)"
   ]
  },
  {
   "cell_type": "code",
   "execution_count": 28,
   "metadata": {},
   "outputs": [
    {
     "name": "stdout",
     "output_type": "stream",
     "text": [
      "Average Box Office Revenue (Actors): 91138551.9736842\n",
      "Average Box Office Revenue (Actresses): 86507486.60185185\n"
     ]
    }
   ],
   "source": [
    "# Compare average box office revenue between winning actors and actresses\n",
    "winning_actors = filtered_matching_oscar_data[(filtered_matching_oscar_data['category'].str.contains('ACTOR')) & (filtered_matching_oscar_data['winner'] == True)]\n",
    "winning_actresses = filtered_matching_oscar_data[(filtered_matching_oscar_data['category'].str.contains('ACTRESS')) & (filtered_matching_oscar_data['winner'] == True)]\n",
    "\n",
    "avg_revenue_actors = winning_actors['Movie box office revenue'].mean()\n",
    "avg_revenue_actresses = winning_actresses['Movie box office revenue'].mean()\n",
    "\n",
    "print(f\"Average Box Office Revenue (Actors): {avg_revenue_actors}\")\n",
    "print(f\"Average Box Office Revenue (Actresses): {avg_revenue_actresses}\")"
   ]
  },
  {
   "cell_type": "code",
   "execution_count": 29,
   "metadata": {},
   "outputs": [
    {
     "data": {
      "application/vnd.plotly.v1+json": {
       "config": {
        "plotlyServerURL": "https://plot.ly"
       },
       "data": [
        {
         "boxmean": "sd",
         "boxpoints": "all",
         "customdata": [
          "Norma Shearer"
         ],
         "hovertemplate": "Age: %{y}<br>Actor: %{customdata}<extra></extra>",
         "jitter": 0.3,
         "line": {
          "color": "blue",
          "width": 1.5
         },
         "marker": {
          "color": "lightblue"
         },
         "name": "1920s",
         "pointpos": -1.5,
         "showlegend": false,
         "type": "box",
         "visible": true,
         "y": [
          27
         ]
        },
        {
         "boxmean": "sd",
         "boxpoints": "all",
         "customdata": [
          "Helen Hayes",
          "Katharine Hepburn",
          "Clark Gable",
          "Claudette Colbert",
          "Bette Davis",
          "Luise Rainer",
          "Spencer Tracy",
          "Luise Rainer",
          "Spencer Tracy",
          "Bette Davis",
          "Robert Donat",
          "Vivien Leigh"
         ],
         "hovertemplate": "Age: %{y}<br>Actor: %{customdata}<extra></extra>",
         "jitter": 0.3,
         "line": {
          "color": "blue",
          "width": 1.5
         },
         "marker": {
          "color": "lightblue"
         },
         "name": "1930s",
         "pointpos": -1.5,
         "showlegend": false,
         "type": "box",
         "visible": false,
         "y": [
          31,
          26,
          33,
          30,
          27,
          26,
          36,
          27,
          37,
          29,
          33,
          26
         ]
        },
        {
         "boxmean": "sd",
         "boxpoints": "all",
         "customdata": [
          "James Stewart",
          "Gary Cooper",
          "Joan Fontaine",
          "Mary Astor",
          "Van Heflin",
          "Greer Garson",
          "Teresa Wright",
          "Jennifer Jones",
          "Katina Paxinou",
          "Bing Crosby",
          "Ingrid Bergman",
          "Ray Milland",
          "Joan Crawford",
          "Anne Revere",
          "Harold Russell",
          "Olivia de Havilland",
          "Anne Baxter",
          "Loretta Young",
          "Celeste Holm",
          "Laurence Olivier",
          "Jane Wyman",
          "Claire Trevor",
          "Dean Jagger",
          "Olivia de Havilland"
         ],
         "hovertemplate": "Age: %{y}<br>Actor: %{customdata}<extra></extra>",
         "jitter": 0.3,
         "line": {
          "color": "blue",
          "width": 1.5
         },
         "marker": {
          "color": "lightblue"
         },
         "name": "1940s",
         "pointpos": -1.5,
         "showlegend": false,
         "type": "box",
         "visible": false,
         "y": [
          32,
          39,
          24,
          34,
          30,
          37,
          23,
          24,
          42,
          41,
          28,
          37,
          40,
          41,
          31,
          29,
          23,
          34,
          29,
          40,
          30,
          38,
          45,
          33
         ]
        },
        {
         "boxmean": "sd",
         "boxpoints": "all",
         "customdata": [
          "José Ferrer",
          "Judy Holliday",
          "Karl Malden",
          "Vivien Leigh",
          "Kim Hunter",
          "Gary Cooper",
          "Anthony Quinn",
          "Gloria Grahame",
          "William Holden",
          "Frank Sinatra",
          "Audrey Hepburn",
          "Donna Reed",
          "Marlon Brando",
          "Edmond O'Brien",
          "Grace Kelly",
          "Eva Marie Saint",
          "Ernest Borgnine",
          "Jack Lemmon",
          "Anna Magnani",
          "Jo Van Fleet",
          "Yul Brynner",
          "Anthony Quinn",
          "Ingrid Bergman",
          "Ingrid Bergman",
          "Dorothy Malone",
          "Alec Guinness",
          "Red Buttons",
          "Joanne Woodward",
          "Miyoshi Umeki",
          "Burl Ives",
          "Susan Hayward",
          "Charlton Heston",
          "Hugh Griffith",
          "Simone Signoret",
          "Shelley Winters"
         ],
         "hovertemplate": "Age: %{y}<br>Actor: %{customdata}<extra></extra>",
         "jitter": 0.3,
         "line": {
          "color": "blue",
          "width": 1.5
         },
         "marker": {
          "color": "lightblue"
         },
         "name": "1950s",
         "pointpos": -1.5,
         "showlegend": false,
         "type": "box",
         "visible": false,
         "y": [
          37,
          29,
          39,
          38,
          29,
          51,
          36,
          29,
          34,
          37,
          24,
          32,
          30,
          38,
          25,
          29,
          38,
          30,
          47,
          40,
          35,
          41,
          41,
          41,
          30,
          43,
          38,
          27,
          28,
          49,
          41,
          36,
          47,
          38,
          38
         ]
        },
        {
         "boxmean": "sd",
         "boxpoints": "all",
         "customdata": [
          "Burt Lancaster",
          "Peter Ustinov",
          "Shirley Jones",
          "Maximilian Schell",
          "George Chakiris",
          "Sophia Loren",
          "Rita Moreno",
          "Gregory Peck",
          "Anne Bancroft",
          "Patty Duke",
          "Sidney Poitier",
          "Melvyn Douglas",
          "Patricia Neal",
          "Rex Harrison",
          "Peter Ustinov",
          "Julie Andrews",
          "Lila Kedrova",
          "Lee Marvin",
          "Lee Marvin",
          "Martin Balsam",
          "Julie Christie",
          "Shelley Winters",
          "Paul Scofield",
          "Walter Matthau",
          "Elizabeth Taylor",
          "Sandy Dennis",
          "Rod Steiger",
          "George Kennedy",
          "Katharine Hepburn",
          "Estelle Parsons",
          "Cliff Robertson",
          "Jack Albertson",
          "Katharine Hepburn",
          "Barbra Streisand",
          "John Wayne",
          "Gig Young",
          "Maggie Smith",
          "Goldie Hawn"
         ],
         "hovertemplate": "Age: %{y}<br>Actor: %{customdata}<extra></extra>",
         "jitter": 0.3,
         "line": {
          "color": "blue",
          "width": 1.5
         },
         "marker": {
          "color": "lightblue"
         },
         "name": "1960s",
         "pointpos": -1.5,
         "showlegend": false,
         "type": "box",
         "visible": false,
         "y": [
          46,
          39,
          26,
          31,
          27,
          26,
          29,
          46,
          30,
          15,
          36,
          61,
          36,
          56,
          43,
          28,
          46,
          41,
          41,
          46,
          24,
          44,
          44,
          45,
          34,
          29,
          42,
          42,
          60,
          39,
          45,
          61,
          61,
          26,
          62,
          56,
          34,
          24
         ]
        },
        {
         "boxmean": "sd",
         "boxpoints": "all",
         "customdata": [
          "George C. Scott",
          "John Mills",
          "Gene Hackman",
          "Ben Johnson",
          "Jane Fonda",
          "Cloris Leachman",
          "Marlon Brando",
          "Joel Grey",
          "Liza Minnelli",
          "Eileen Heckart",
          "Jack Lemmon",
          "John Houseman",
          "Glenda Jackson",
          "Tatum O'Neal",
          "Art Carney",
          "Robert De Niro",
          "Ellen Burstyn",
          "Ingrid Bergman",
          "Lee Grant",
          "Peter Finch",
          "Jason Robards",
          "Faye Dunaway",
          "Beatrice Straight",
          "Richard Dreyfuss",
          "Jason Robards",
          "Diane Keaton",
          "Vanessa Redgrave",
          "Jon Voight",
          "Christopher Walken",
          "Jane Fonda",
          "Maggie Smith",
          "Dustin Hoffman",
          "Melvyn Douglas",
          "Sally Field",
          "Meryl Streep"
         ],
         "hovertemplate": "Age: %{y}<br>Actor: %{customdata}<extra></extra>",
         "jitter": 0.3,
         "line": {
          "color": "blue",
          "width": 1.5
         },
         "marker": {
          "color": "lightblue"
         },
         "name": "1970s",
         "pointpos": -1.5,
         "showlegend": false,
         "type": "box",
         "visible": false,
         "y": [
          42,
          61,
          41,
          53,
          33,
          45,
          47,
          39,
          25,
          53,
          48,
          71,
          37,
          9,
          55,
          31,
          42,
          59,
          49,
          60,
          53,
          35,
          62,
          30,
          55,
          31,
          40,
          39,
          35,
          40,
          43,
          41,
          78,
          32,
          29
         ]
        },
        {
         "boxmean": "sd",
         "boxpoints": "all",
         "customdata": [
          "Robert De Niro",
          "Timothy Hutton",
          "Sissy Spacek",
          "Mary Steenburgen",
          "Henry Fonda",
          "John Gielgud",
          "Katharine Hepburn",
          "Maureen Stapleton",
          "Ben Kingsley",
          "Louis Gossett, Jr.",
          "Meryl Streep",
          "Jessica Lange",
          "Robert Duvall",
          "Jack Nicholson",
          "Shirley MacLaine",
          "Linda Hunt",
          "F. Murray Abraham",
          "Haing S. Ngor",
          "Sally Field",
          "Peggy Ashcroft",
          "William Hurt",
          "Don Ameche",
          "Geraldine Page",
          "Anjelica Huston",
          "Paul Newman",
          "Michael Caine",
          "Marlee Matlin",
          "Dianne Wiest",
          "Michael Douglas",
          "Sean Connery",
          "Cher",
          "Olympia Dukakis",
          "Dustin Hoffman",
          "Kevin Kline",
          "Jodie Foster",
          "Geena Davis",
          "Denzel Washington",
          "Jessica Tandy",
          "Brenda Fricker"
         ],
         "hovertemplate": "Age: %{y}<br>Actor: %{customdata}<extra></extra>",
         "jitter": 0.3,
         "line": {
          "color": "blue",
          "width": 1.5
         },
         "marker": {
          "color": "lightblue"
         },
         "name": "1980s",
         "pointpos": -1.5,
         "showlegend": false,
         "type": "box",
         "visible": false,
         "y": [
          37,
          20,
          30,
          26,
          76,
          77,
          74,
          55,
          38,
          46,
          33,
          33,
          52,
          46,
          49,
          37,
          44,
          43,
          37,
          76,
          35,
          77,
          61,
          33,
          61,
          52,
          21,
          37,
          43,
          56,
          40,
          55,
          51,
          40,
          25,
          32,
          34,
          80,
          44
         ]
        },
        {
         "boxmean": "sd",
         "boxpoints": "all",
         "customdata": [
          "Jeremy Irons",
          "Kathy Bates",
          "Whoopi Goldberg",
          "Anthony Hopkins",
          "Jack Palance",
          "Jodie Foster",
          "Al Pacino",
          "Gene Hackman",
          "Emma Thompson",
          "Marisa Tomei",
          "Tom Hanks",
          "Tommy Lee Jones",
          "Holly Hunter",
          "Anna Paquin",
          "Tom Hanks",
          "Martin Landau",
          "Jessica Lange",
          "Nicolas Cage",
          "Susan Sarandon",
          "Geoffrey Rush",
          "Cuba Gooding, Jr.",
          "Frances McDormand",
          "Juliette Binoche",
          "Jack Nicholson",
          "Robin Williams",
          "Helen Hunt",
          "Kim Basinger",
          "Roberto Benigni",
          "James Coburn",
          "Gwyneth Paltrow",
          "Judi Dench",
          "Kevin Spacey",
          "Michael Caine",
          "Hilary Swank",
          "Angelina Jolie"
         ],
         "hovertemplate": "Age: %{y}<br>Actor: %{customdata}<extra></extra>",
         "jitter": 0.3,
         "line": {
          "color": "blue",
          "width": 1.5
         },
         "marker": {
          "color": "lightblue"
         },
         "name": "1990s",
         "pointpos": -1.5,
         "showlegend": false,
         "type": "box",
         "visible": false,
         "y": [
          41,
          42,
          34,
          53,
          72,
          28,
          52,
          62,
          32,
          27,
          36,
          46,
          35,
          10,
          37,
          66,
          45,
          31,
          49,
          44,
          28,
          38,
          32,
          60,
          46,
          34,
          43,
          45,
          69,
          26,
          63,
          40,
          66,
          25,
          24
         ]
        },
        {
         "boxmean": "sd",
         "boxpoints": "all",
         "customdata": [
          "Russell Crowe",
          "Julia Roberts",
          "Marcia Gay Harden",
          "Denzel Washington",
          "Jim Broadbent",
          "Halle Berry",
          "Jennifer Connelly",
          "Adrien Brody",
          "Chris Cooper",
          "Nicole Kidman",
          "Catherine Zeta-Jones",
          "Sean Penn",
          "Tim Robbins",
          "Charlize Theron",
          "Renée Zellweger",
          "Jamie Foxx",
          "Morgan Freeman",
          "Hilary Swank",
          "Cate Blanchett",
          "Philip Seymour Hoffman",
          "George Clooney",
          "Reese Witherspoon",
          "Rachel Weisz",
          "Forest Whitaker",
          "Alan Arkin",
          "Helen Mirren",
          "Jennifer Hudson",
          "Daniel Day-Lewis",
          "Javier Bardem",
          "Tilda Swinton",
          "Sean Penn",
          "Heath Ledger",
          "Kate Winslet",
          "Penélope Cruz",
          "Jeff Bridges",
          "Christoph Waltz",
          "Sandra Bullock"
         ],
         "hovertemplate": "Age: %{y}<br>Actor: %{customdata}<extra></extra>",
         "jitter": 0.3,
         "line": {
          "color": "blue",
          "width": 1.5
         },
         "marker": {
          "color": "lightblue"
         },
         "name": "2000s",
         "pointpos": -1.5,
         "showlegend": false,
         "type": "box",
         "visible": false,
         "y": [
          36,
          32,
          41,
          46,
          52,
          35,
          31,
          29,
          51,
          35,
          33,
          42,
          44,
          28,
          34,
          36,
          67,
          30,
          34,
          38,
          44,
          29,
          35,
          45,
          71,
          60,
          25,
          50,
          38,
          46,
          48,
          29,
          33,
          34,
          60,
          52,
          45
         ]
        },
        {
         "boxmean": "sd",
         "boxpoints": "all",
         "customdata": [
          "Colin Firth",
          "Christian Bale",
          "Natalie Portman",
          "Melissa Leo",
          "Jean Dujardin",
          "Christopher Plummer",
          "Meryl Streep",
          "Octavia Spencer",
          "Daniel Day-Lewis",
          "Christoph Waltz",
          "Anne Hathaway",
          "Patricia Arquette"
         ],
         "hovertemplate": "Age: %{y}<br>Actor: %{customdata}<extra></extra>",
         "jitter": 0.3,
         "line": {
          "color": "blue",
          "width": 1.5
         },
         "marker": {
          "color": "lightblue"
         },
         "name": "2010s",
         "pointpos": -1.5,
         "showlegend": false,
         "type": "box",
         "visible": false,
         "y": [
          50,
          36,
          29,
          50,
          38,
          80,
          62,
          39,
          55,
          56,
          30,
          44
         ]
        }
       ],
       "layout": {
        "annotations": [
         {
          "align": "center",
          "font": {
           "size": 14
          },
          "showarrow": false,
          "text": "Select Decade:",
          "x": 0.5,
          "xref": "paper",
          "y": 1.2,
          "yref": "paper"
         }
        ],
        "template": {
         "data": {
          "bar": [
           {
            "error_x": {
             "color": "#2a3f5f"
            },
            "error_y": {
             "color": "#2a3f5f"
            },
            "marker": {
             "line": {
              "color": "white",
              "width": 0.5
             },
             "pattern": {
              "fillmode": "overlay",
              "size": 10,
              "solidity": 0.2
             }
            },
            "type": "bar"
           }
          ],
          "barpolar": [
           {
            "marker": {
             "line": {
              "color": "white",
              "width": 0.5
             },
             "pattern": {
              "fillmode": "overlay",
              "size": 10,
              "solidity": 0.2
             }
            },
            "type": "barpolar"
           }
          ],
          "carpet": [
           {
            "aaxis": {
             "endlinecolor": "#2a3f5f",
             "gridcolor": "#C8D4E3",
             "linecolor": "#C8D4E3",
             "minorgridcolor": "#C8D4E3",
             "startlinecolor": "#2a3f5f"
            },
            "baxis": {
             "endlinecolor": "#2a3f5f",
             "gridcolor": "#C8D4E3",
             "linecolor": "#C8D4E3",
             "minorgridcolor": "#C8D4E3",
             "startlinecolor": "#2a3f5f"
            },
            "type": "carpet"
           }
          ],
          "choropleth": [
           {
            "colorbar": {
             "outlinewidth": 0,
             "ticks": ""
            },
            "type": "choropleth"
           }
          ],
          "contour": [
           {
            "colorbar": {
             "outlinewidth": 0,
             "ticks": ""
            },
            "colorscale": [
             [
              0,
              "#0d0887"
             ],
             [
              0.1111111111111111,
              "#46039f"
             ],
             [
              0.2222222222222222,
              "#7201a8"
             ],
             [
              0.3333333333333333,
              "#9c179e"
             ],
             [
              0.4444444444444444,
              "#bd3786"
             ],
             [
              0.5555555555555556,
              "#d8576b"
             ],
             [
              0.6666666666666666,
              "#ed7953"
             ],
             [
              0.7777777777777778,
              "#fb9f3a"
             ],
             [
              0.8888888888888888,
              "#fdca26"
             ],
             [
              1,
              "#f0f921"
             ]
            ],
            "type": "contour"
           }
          ],
          "contourcarpet": [
           {
            "colorbar": {
             "outlinewidth": 0,
             "ticks": ""
            },
            "type": "contourcarpet"
           }
          ],
          "heatmap": [
           {
            "colorbar": {
             "outlinewidth": 0,
             "ticks": ""
            },
            "colorscale": [
             [
              0,
              "#0d0887"
             ],
             [
              0.1111111111111111,
              "#46039f"
             ],
             [
              0.2222222222222222,
              "#7201a8"
             ],
             [
              0.3333333333333333,
              "#9c179e"
             ],
             [
              0.4444444444444444,
              "#bd3786"
             ],
             [
              0.5555555555555556,
              "#d8576b"
             ],
             [
              0.6666666666666666,
              "#ed7953"
             ],
             [
              0.7777777777777778,
              "#fb9f3a"
             ],
             [
              0.8888888888888888,
              "#fdca26"
             ],
             [
              1,
              "#f0f921"
             ]
            ],
            "type": "heatmap"
           }
          ],
          "heatmapgl": [
           {
            "colorbar": {
             "outlinewidth": 0,
             "ticks": ""
            },
            "colorscale": [
             [
              0,
              "#0d0887"
             ],
             [
              0.1111111111111111,
              "#46039f"
             ],
             [
              0.2222222222222222,
              "#7201a8"
             ],
             [
              0.3333333333333333,
              "#9c179e"
             ],
             [
              0.4444444444444444,
              "#bd3786"
             ],
             [
              0.5555555555555556,
              "#d8576b"
             ],
             [
              0.6666666666666666,
              "#ed7953"
             ],
             [
              0.7777777777777778,
              "#fb9f3a"
             ],
             [
              0.8888888888888888,
              "#fdca26"
             ],
             [
              1,
              "#f0f921"
             ]
            ],
            "type": "heatmapgl"
           }
          ],
          "histogram": [
           {
            "marker": {
             "pattern": {
              "fillmode": "overlay",
              "size": 10,
              "solidity": 0.2
             }
            },
            "type": "histogram"
           }
          ],
          "histogram2d": [
           {
            "colorbar": {
             "outlinewidth": 0,
             "ticks": ""
            },
            "colorscale": [
             [
              0,
              "#0d0887"
             ],
             [
              0.1111111111111111,
              "#46039f"
             ],
             [
              0.2222222222222222,
              "#7201a8"
             ],
             [
              0.3333333333333333,
              "#9c179e"
             ],
             [
              0.4444444444444444,
              "#bd3786"
             ],
             [
              0.5555555555555556,
              "#d8576b"
             ],
             [
              0.6666666666666666,
              "#ed7953"
             ],
             [
              0.7777777777777778,
              "#fb9f3a"
             ],
             [
              0.8888888888888888,
              "#fdca26"
             ],
             [
              1,
              "#f0f921"
             ]
            ],
            "type": "histogram2d"
           }
          ],
          "histogram2dcontour": [
           {
            "colorbar": {
             "outlinewidth": 0,
             "ticks": ""
            },
            "colorscale": [
             [
              0,
              "#0d0887"
             ],
             [
              0.1111111111111111,
              "#46039f"
             ],
             [
              0.2222222222222222,
              "#7201a8"
             ],
             [
              0.3333333333333333,
              "#9c179e"
             ],
             [
              0.4444444444444444,
              "#bd3786"
             ],
             [
              0.5555555555555556,
              "#d8576b"
             ],
             [
              0.6666666666666666,
              "#ed7953"
             ],
             [
              0.7777777777777778,
              "#fb9f3a"
             ],
             [
              0.8888888888888888,
              "#fdca26"
             ],
             [
              1,
              "#f0f921"
             ]
            ],
            "type": "histogram2dcontour"
           }
          ],
          "mesh3d": [
           {
            "colorbar": {
             "outlinewidth": 0,
             "ticks": ""
            },
            "type": "mesh3d"
           }
          ],
          "parcoords": [
           {
            "line": {
             "colorbar": {
              "outlinewidth": 0,
              "ticks": ""
             }
            },
            "type": "parcoords"
           }
          ],
          "pie": [
           {
            "automargin": true,
            "type": "pie"
           }
          ],
          "scatter": [
           {
            "fillpattern": {
             "fillmode": "overlay",
             "size": 10,
             "solidity": 0.2
            },
            "type": "scatter"
           }
          ],
          "scatter3d": [
           {
            "line": {
             "colorbar": {
              "outlinewidth": 0,
              "ticks": ""
             }
            },
            "marker": {
             "colorbar": {
              "outlinewidth": 0,
              "ticks": ""
             }
            },
            "type": "scatter3d"
           }
          ],
          "scattercarpet": [
           {
            "marker": {
             "colorbar": {
              "outlinewidth": 0,
              "ticks": ""
             }
            },
            "type": "scattercarpet"
           }
          ],
          "scattergeo": [
           {
            "marker": {
             "colorbar": {
              "outlinewidth": 0,
              "ticks": ""
             }
            },
            "type": "scattergeo"
           }
          ],
          "scattergl": [
           {
            "marker": {
             "colorbar": {
              "outlinewidth": 0,
              "ticks": ""
             }
            },
            "type": "scattergl"
           }
          ],
          "scattermapbox": [
           {
            "marker": {
             "colorbar": {
              "outlinewidth": 0,
              "ticks": ""
             }
            },
            "type": "scattermapbox"
           }
          ],
          "scatterpolar": [
           {
            "marker": {
             "colorbar": {
              "outlinewidth": 0,
              "ticks": ""
             }
            },
            "type": "scatterpolar"
           }
          ],
          "scatterpolargl": [
           {
            "marker": {
             "colorbar": {
              "outlinewidth": 0,
              "ticks": ""
             }
            },
            "type": "scatterpolargl"
           }
          ],
          "scatterternary": [
           {
            "marker": {
             "colorbar": {
              "outlinewidth": 0,
              "ticks": ""
             }
            },
            "type": "scatterternary"
           }
          ],
          "surface": [
           {
            "colorbar": {
             "outlinewidth": 0,
             "ticks": ""
            },
            "colorscale": [
             [
              0,
              "#0d0887"
             ],
             [
              0.1111111111111111,
              "#46039f"
             ],
             [
              0.2222222222222222,
              "#7201a8"
             ],
             [
              0.3333333333333333,
              "#9c179e"
             ],
             [
              0.4444444444444444,
              "#bd3786"
             ],
             [
              0.5555555555555556,
              "#d8576b"
             ],
             [
              0.6666666666666666,
              "#ed7953"
             ],
             [
              0.7777777777777778,
              "#fb9f3a"
             ],
             [
              0.8888888888888888,
              "#fdca26"
             ],
             [
              1,
              "#f0f921"
             ]
            ],
            "type": "surface"
           }
          ],
          "table": [
           {
            "cells": {
             "fill": {
              "color": "#EBF0F8"
             },
             "line": {
              "color": "white"
             }
            },
            "header": {
             "fill": {
              "color": "#C8D4E3"
             },
             "line": {
              "color": "white"
             }
            },
            "type": "table"
           }
          ]
         },
         "layout": {
          "annotationdefaults": {
           "arrowcolor": "#2a3f5f",
           "arrowhead": 0,
           "arrowwidth": 1
          },
          "autotypenumbers": "strict",
          "coloraxis": {
           "colorbar": {
            "outlinewidth": 0,
            "ticks": ""
           }
          },
          "colorscale": {
           "diverging": [
            [
             0,
             "#8e0152"
            ],
            [
             0.1,
             "#c51b7d"
            ],
            [
             0.2,
             "#de77ae"
            ],
            [
             0.3,
             "#f1b6da"
            ],
            [
             0.4,
             "#fde0ef"
            ],
            [
             0.5,
             "#f7f7f7"
            ],
            [
             0.6,
             "#e6f5d0"
            ],
            [
             0.7,
             "#b8e186"
            ],
            [
             0.8,
             "#7fbc41"
            ],
            [
             0.9,
             "#4d9221"
            ],
            [
             1,
             "#276419"
            ]
           ],
           "sequential": [
            [
             0,
             "#0d0887"
            ],
            [
             0.1111111111111111,
             "#46039f"
            ],
            [
             0.2222222222222222,
             "#7201a8"
            ],
            [
             0.3333333333333333,
             "#9c179e"
            ],
            [
             0.4444444444444444,
             "#bd3786"
            ],
            [
             0.5555555555555556,
             "#d8576b"
            ],
            [
             0.6666666666666666,
             "#ed7953"
            ],
            [
             0.7777777777777778,
             "#fb9f3a"
            ],
            [
             0.8888888888888888,
             "#fdca26"
            ],
            [
             1,
             "#f0f921"
            ]
           ],
           "sequentialminus": [
            [
             0,
             "#0d0887"
            ],
            [
             0.1111111111111111,
             "#46039f"
            ],
            [
             0.2222222222222222,
             "#7201a8"
            ],
            [
             0.3333333333333333,
             "#9c179e"
            ],
            [
             0.4444444444444444,
             "#bd3786"
            ],
            [
             0.5555555555555556,
             "#d8576b"
            ],
            [
             0.6666666666666666,
             "#ed7953"
            ],
            [
             0.7777777777777778,
             "#fb9f3a"
            ],
            [
             0.8888888888888888,
             "#fdca26"
            ],
            [
             1,
             "#f0f921"
            ]
           ]
          },
          "colorway": [
           "#636efa",
           "#EF553B",
           "#00cc96",
           "#ab63fa",
           "#FFA15A",
           "#19d3f3",
           "#FF6692",
           "#B6E880",
           "#FF97FF",
           "#FECB52"
          ],
          "font": {
           "color": "#2a3f5f"
          },
          "geo": {
           "bgcolor": "white",
           "lakecolor": "white",
           "landcolor": "white",
           "showlakes": true,
           "showland": true,
           "subunitcolor": "#C8D4E3"
          },
          "hoverlabel": {
           "align": "left"
          },
          "hovermode": "closest",
          "mapbox": {
           "style": "light"
          },
          "paper_bgcolor": "white",
          "plot_bgcolor": "white",
          "polar": {
           "angularaxis": {
            "gridcolor": "#EBF0F8",
            "linecolor": "#EBF0F8",
            "ticks": ""
           },
           "bgcolor": "white",
           "radialaxis": {
            "gridcolor": "#EBF0F8",
            "linecolor": "#EBF0F8",
            "ticks": ""
           }
          },
          "scene": {
           "xaxis": {
            "backgroundcolor": "white",
            "gridcolor": "#DFE8F3",
            "gridwidth": 2,
            "linecolor": "#EBF0F8",
            "showbackground": true,
            "ticks": "",
            "zerolinecolor": "#EBF0F8"
           },
           "yaxis": {
            "backgroundcolor": "white",
            "gridcolor": "#DFE8F3",
            "gridwidth": 2,
            "linecolor": "#EBF0F8",
            "showbackground": true,
            "ticks": "",
            "zerolinecolor": "#EBF0F8"
           },
           "zaxis": {
            "backgroundcolor": "white",
            "gridcolor": "#DFE8F3",
            "gridwidth": 2,
            "linecolor": "#EBF0F8",
            "showbackground": true,
            "ticks": "",
            "zerolinecolor": "#EBF0F8"
           }
          },
          "shapedefaults": {
           "line": {
            "color": "#2a3f5f"
           }
          },
          "ternary": {
           "aaxis": {
            "gridcolor": "#DFE8F3",
            "linecolor": "#A2B1C6",
            "ticks": ""
           },
           "baxis": {
            "gridcolor": "#DFE8F3",
            "linecolor": "#A2B1C6",
            "ticks": ""
           },
           "bgcolor": "white",
           "caxis": {
            "gridcolor": "#DFE8F3",
            "linecolor": "#A2B1C6",
            "ticks": ""
           }
          },
          "title": {
           "x": 0.05
          },
          "xaxis": {
           "automargin": true,
           "gridcolor": "#EBF0F8",
           "linecolor": "#EBF0F8",
           "ticks": "",
           "title": {
            "standoff": 15
           },
           "zerolinecolor": "#EBF0F8",
           "zerolinewidth": 2
          },
          "yaxis": {
           "automargin": true,
           "gridcolor": "#EBF0F8",
           "linecolor": "#EBF0F8",
           "ticks": "",
           "title": {
            "standoff": 15
           },
           "zerolinecolor": "#EBF0F8",
           "zerolinewidth": 2
          }
         }
        },
        "title": {
         "text": "Actor Ages Across Decades with Actor Names"
        },
        "updatemenus": [
         {
          "buttons": [
           {
            "args": [
             {
              "visible": [
               true,
               false,
               false,
               false,
               false,
               false,
               false,
               false,
               false,
               false
              ]
             },
             {
              "title": "Actor Ages in the 1920s"
             }
            ],
            "label": "1920s",
            "method": "update"
           },
           {
            "args": [
             {
              "visible": [
               false,
               true,
               false,
               false,
               false,
               false,
               false,
               false,
               false,
               false
              ]
             },
             {
              "title": "Actor Ages in the 1930s"
             }
            ],
            "label": "1930s",
            "method": "update"
           },
           {
            "args": [
             {
              "visible": [
               false,
               false,
               true,
               false,
               false,
               false,
               false,
               false,
               false,
               false
              ]
             },
             {
              "title": "Actor Ages in the 1940s"
             }
            ],
            "label": "1940s",
            "method": "update"
           },
           {
            "args": [
             {
              "visible": [
               false,
               false,
               false,
               true,
               false,
               false,
               false,
               false,
               false,
               false
              ]
             },
             {
              "title": "Actor Ages in the 1950s"
             }
            ],
            "label": "1950s",
            "method": "update"
           },
           {
            "args": [
             {
              "visible": [
               false,
               false,
               false,
               false,
               true,
               false,
               false,
               false,
               false,
               false
              ]
             },
             {
              "title": "Actor Ages in the 1960s"
             }
            ],
            "label": "1960s",
            "method": "update"
           },
           {
            "args": [
             {
              "visible": [
               false,
               false,
               false,
               false,
               false,
               true,
               false,
               false,
               false,
               false
              ]
             },
             {
              "title": "Actor Ages in the 1970s"
             }
            ],
            "label": "1970s",
            "method": "update"
           },
           {
            "args": [
             {
              "visible": [
               false,
               false,
               false,
               false,
               false,
               false,
               true,
               false,
               false,
               false
              ]
             },
             {
              "title": "Actor Ages in the 1980s"
             }
            ],
            "label": "1980s",
            "method": "update"
           },
           {
            "args": [
             {
              "visible": [
               false,
               false,
               false,
               false,
               false,
               false,
               false,
               true,
               false,
               false
              ]
             },
             {
              "title": "Actor Ages in the 1990s"
             }
            ],
            "label": "1990s",
            "method": "update"
           },
           {
            "args": [
             {
              "visible": [
               false,
               false,
               false,
               false,
               false,
               false,
               false,
               false,
               true,
               false
              ]
             },
             {
              "title": "Actor Ages in the 2000s"
             }
            ],
            "label": "2000s",
            "method": "update"
           },
           {
            "args": [
             {
              "visible": [
               false,
               false,
               false,
               false,
               false,
               false,
               false,
               false,
               false,
               true
              ]
             },
             {
              "title": "Actor Ages in the 2010s"
             }
            ],
            "label": "2010s",
            "method": "update"
           }
          ],
          "direction": "down",
          "showactive": true,
          "x": 0.5,
          "xanchor": "center",
          "y": 1.15,
          "yanchor": "top"
         }
        ],
        "yaxis": {
         "title": {
          "text": "Actor Age"
         }
        }
       }
      }
     },
     "metadata": {},
     "output_type": "display_data"
    },
    {
     "data": {
      "application/vnd.plotly.v1+json": {
       "config": {
        "plotlyServerURL": "https://plot.ly"
       },
       "data": [
        {
         "marker": {
          "color": "skyblue"
         },
         "name": "Average Age",
         "type": "bar",
         "x": [
          1929,
          1931,
          1932,
          1934,
          1935,
          1936,
          1937,
          1938,
          1939,
          1940,
          1941,
          1942,
          1943,
          1944,
          1945,
          1946,
          1947,
          1948,
          1949,
          1950,
          1951,
          1952,
          1953,
          1954,
          1955,
          1956,
          1957,
          1958,
          1959,
          1960,
          1961,
          1962,
          1963,
          1964,
          1965,
          1966,
          1967,
          1968,
          1969,
          1970,
          1971,
          1972,
          1973,
          1974,
          1975,
          1976,
          1977,
          1978,
          1979,
          1980,
          1981,
          1982,
          1983,
          1984,
          1985,
          1986,
          1987,
          1988,
          1989,
          1990,
          1991,
          1992,
          1993,
          1994,
          1995,
          1996,
          1997,
          1998,
          1999,
          2000,
          2001,
          2002,
          2003,
          2004,
          2005,
          2006,
          2007,
          2008,
          2009,
          2010,
          2011,
          2012,
          2014
         ],
         "y": [
          27,
          31,
          26,
          31.5,
          27,
          26,
          31.5,
          33,
          29.5,
          32,
          32.333333333333336,
          30,
          33,
          34.5,
          39.333333333333336,
          27.666666666666668,
          31.5,
          36,
          39,
          33,
          35.333333333333336,
          38.666666666666664,
          31.75,
          30.5,
          38.75,
          37.6,
          34,
          45,
          39.75,
          37,
          28.25,
          30.333333333333332,
          44.333333333333336,
          43.25,
          39.2,
          38,
          45.75,
          48.25,
          44,
          51.5,
          43,
          41,
          41.25,
          46.75,
          49,
          52.5,
          39,
          39.25,
          45,
          28.25,
          70.5,
          37.5,
          46,
          50,
          51.5,
          42.75,
          48.5,
          37,
          52.666666666666664,
          39,
          51,
          43.25,
          31.75,
          49.333333333333336,
          40,
          35.5,
          45.75,
          50.75,
          38.75,
          36.333333333333336,
          41,
          37,
          37,
          41.75,
          36.5,
          50.25,
          44.666666666666664,
          36,
          52.333333333333336,
          41.25,
          54.75,
          47,
          44
         ]
        },
        {
         "line": {
          "color": "green",
          "dash": "dash",
          "width": 2
         },
         "mode": "lines",
         "name": "5-Year Rolling Average",
         "type": "scatter",
         "x": [
          1929,
          1931,
          1932,
          1934,
          1935,
          1936,
          1937,
          1938,
          1939,
          1940,
          1941,
          1942,
          1943,
          1944,
          1945,
          1946,
          1947,
          1948,
          1949,
          1950,
          1951,
          1952,
          1953,
          1954,
          1955,
          1956,
          1957,
          1958,
          1959,
          1960,
          1961,
          1962,
          1963,
          1964,
          1965,
          1966,
          1967,
          1968,
          1969,
          1970,
          1971,
          1972,
          1973,
          1974,
          1975,
          1976,
          1977,
          1978,
          1979,
          1980,
          1981,
          1982,
          1983,
          1984,
          1985,
          1986,
          1987,
          1988,
          1989,
          1990,
          1991,
          1992,
          1993,
          1994,
          1995,
          1996,
          1997,
          1998,
          1999,
          2000,
          2001,
          2002,
          2003,
          2004,
          2005,
          2006,
          2007,
          2008,
          2009,
          2010,
          2011,
          2012,
          2014
         ],
         "y": [
          null,
          null,
          null,
          null,
          28.5,
          28.3,
          28.4,
          29.8,
          29.4,
          30.4,
          31.666666666666668,
          31.366666666666667,
          31.366666666666667,
          32.36666666666667,
          33.833333333333336,
          32.9,
          33.2,
          33.8,
          34.7,
          33.43333333333334,
          34.96666666666667,
          36.4,
          35.55,
          33.85,
          35,
          35.45333333333333,
          34.519999999999996,
          37.17,
          39.019999999999996,
          38.67,
          36.8,
          36.06666666666667,
          35.93333333333334,
          36.63333333333334,
          37.07333333333334,
          39.02333333333333,
          42.10666666666667,
          42.89,
          43.04,
          45.5,
          46.5,
          45.55,
          44.15,
          44.7,
          44.2,
          46.1,
          45.7,
          45.3,
          44.95,
          40.8,
          44.4,
          44.1,
          45.45,
          46.45,
          51.1,
          45.55,
          47.75,
          45.95,
          46.483333333333334,
          43.983333333333334,
          45.63333333333333,
          44.58333333333333,
          43.53333333333333,
          42.86666666666667,
          43.06666666666667,
          39.96666666666667,
          40.46666666666667,
          44.266666666666666,
          42.15,
          41.41666666666667,
          42.516666666666666,
          40.766666666666666,
          38.016666666666666,
          38.61666666666667,
          38.65,
          40.5,
          42.03333333333333,
          41.83333333333333,
          43.95,
          44.9,
          45.8,
          46.266666666666666,
          47.86666666666667
         ]
        },
        {
         "line": {
          "color": "red",
          "width": 2
         },
         "mode": "lines",
         "name": "Trend Line",
         "type": "scatter",
         "x": [
          1929,
          1931,
          1932,
          1934,
          1935,
          1936,
          1937,
          1938,
          1939,
          1940,
          1941,
          1942,
          1943,
          1944,
          1945,
          1946,
          1947,
          1948,
          1949,
          1950,
          1951,
          1952,
          1953,
          1954,
          1955,
          1956,
          1957,
          1958,
          1959,
          1960,
          1961,
          1962,
          1963,
          1964,
          1965,
          1966,
          1967,
          1968,
          1969,
          1970,
          1971,
          1972,
          1973,
          1974,
          1975,
          1976,
          1977,
          1978,
          1979,
          1980,
          1981,
          1982,
          1983,
          1984,
          1985,
          1986,
          1987,
          1988,
          1989,
          1990,
          1991,
          1992,
          1993,
          1994,
          1995,
          1996,
          1997,
          1998,
          1999,
          2000,
          2001,
          2002,
          2003,
          2004,
          2005,
          2006,
          2007,
          2008,
          2009,
          2010,
          2011,
          2012,
          2014
         ],
         "y": [
          31.342170449730304,
          31.733075209127776,
          31.928527588826512,
          32.31943234822404,
          32.51488472792278,
          32.71033710762151,
          32.90578948732025,
          33.101241867018985,
          33.29669424671772,
          33.49214662641646,
          33.68759900611519,
          33.88305138581393,
          34.07850376551272,
          34.27395614521146,
          34.46940852491019,
          34.66486090460893,
          34.860313284307665,
          35.0557656640064,
          35.25121804370514,
          35.44667042340387,
          35.64212280310261,
          35.8375751828014,
          36.03302756250014,
          36.228479942198874,
          36.42393232189761,
          36.619384701596346,
          36.81483708129508,
          37.01028946099382,
          37.20574184069255,
          37.40119422039129,
          37.596646600090025,
          37.79209897978882,
          37.987551359487554,
          38.18300373918629,
          38.378456118885026,
          38.57390849858376,
          38.7693608782825,
          38.964813257981234,
          39.16026563767997,
          39.355718017378706,
          39.5511703970775,
          39.746622776776235,
          39.94207515647497,
          40.13752753617371,
          40.33297991587244,
          40.52843229557118,
          40.723884675269915,
          40.91933705496865,
          41.11478943466739,
          41.31024181436618,
          41.505694194064915,
          41.70114657376365,
          41.89659895346239,
          42.09205133316112,
          42.28750371285986,
          42.482956092558595,
          42.67840847225733,
          42.87386085195607,
          43.06931323165486,
          43.264765611353596,
          43.46021799105233,
          43.65567037075107,
          43.851122750449804,
          44.04657513014854,
          44.242027509847276,
          44.43747988954601,
          44.63293226924475,
          44.82838464894354,
          45.023837028642276,
          45.21928940834101,
          45.41474178803975,
          45.610194167738484,
          45.80564654743722,
          46.001098927135956,
          46.19655130683469,
          46.39200368653343,
          46.58745606623222,
          46.78290844593096,
          46.97836082562969,
          47.17381320532843,
          47.369265585027165,
          47.5647179647259,
          47.95562272412337
         ]
        }
       ],
       "layout": {
        "legend": {
         "orientation": "h",
         "x": 1,
         "xanchor": "right",
         "y": 1.02,
         "yanchor": "bottom"
        },
        "template": {
         "data": {
          "bar": [
           {
            "error_x": {
             "color": "#2a3f5f"
            },
            "error_y": {
             "color": "#2a3f5f"
            },
            "marker": {
             "line": {
              "color": "white",
              "width": 0.5
             },
             "pattern": {
              "fillmode": "overlay",
              "size": 10,
              "solidity": 0.2
             }
            },
            "type": "bar"
           }
          ],
          "barpolar": [
           {
            "marker": {
             "line": {
              "color": "white",
              "width": 0.5
             },
             "pattern": {
              "fillmode": "overlay",
              "size": 10,
              "solidity": 0.2
             }
            },
            "type": "barpolar"
           }
          ],
          "carpet": [
           {
            "aaxis": {
             "endlinecolor": "#2a3f5f",
             "gridcolor": "#C8D4E3",
             "linecolor": "#C8D4E3",
             "minorgridcolor": "#C8D4E3",
             "startlinecolor": "#2a3f5f"
            },
            "baxis": {
             "endlinecolor": "#2a3f5f",
             "gridcolor": "#C8D4E3",
             "linecolor": "#C8D4E3",
             "minorgridcolor": "#C8D4E3",
             "startlinecolor": "#2a3f5f"
            },
            "type": "carpet"
           }
          ],
          "choropleth": [
           {
            "colorbar": {
             "outlinewidth": 0,
             "ticks": ""
            },
            "type": "choropleth"
           }
          ],
          "contour": [
           {
            "colorbar": {
             "outlinewidth": 0,
             "ticks": ""
            },
            "colorscale": [
             [
              0,
              "#0d0887"
             ],
             [
              0.1111111111111111,
              "#46039f"
             ],
             [
              0.2222222222222222,
              "#7201a8"
             ],
             [
              0.3333333333333333,
              "#9c179e"
             ],
             [
              0.4444444444444444,
              "#bd3786"
             ],
             [
              0.5555555555555556,
              "#d8576b"
             ],
             [
              0.6666666666666666,
              "#ed7953"
             ],
             [
              0.7777777777777778,
              "#fb9f3a"
             ],
             [
              0.8888888888888888,
              "#fdca26"
             ],
             [
              1,
              "#f0f921"
             ]
            ],
            "type": "contour"
           }
          ],
          "contourcarpet": [
           {
            "colorbar": {
             "outlinewidth": 0,
             "ticks": ""
            },
            "type": "contourcarpet"
           }
          ],
          "heatmap": [
           {
            "colorbar": {
             "outlinewidth": 0,
             "ticks": ""
            },
            "colorscale": [
             [
              0,
              "#0d0887"
             ],
             [
              0.1111111111111111,
              "#46039f"
             ],
             [
              0.2222222222222222,
              "#7201a8"
             ],
             [
              0.3333333333333333,
              "#9c179e"
             ],
             [
              0.4444444444444444,
              "#bd3786"
             ],
             [
              0.5555555555555556,
              "#d8576b"
             ],
             [
              0.6666666666666666,
              "#ed7953"
             ],
             [
              0.7777777777777778,
              "#fb9f3a"
             ],
             [
              0.8888888888888888,
              "#fdca26"
             ],
             [
              1,
              "#f0f921"
             ]
            ],
            "type": "heatmap"
           }
          ],
          "heatmapgl": [
           {
            "colorbar": {
             "outlinewidth": 0,
             "ticks": ""
            },
            "colorscale": [
             [
              0,
              "#0d0887"
             ],
             [
              0.1111111111111111,
              "#46039f"
             ],
             [
              0.2222222222222222,
              "#7201a8"
             ],
             [
              0.3333333333333333,
              "#9c179e"
             ],
             [
              0.4444444444444444,
              "#bd3786"
             ],
             [
              0.5555555555555556,
              "#d8576b"
             ],
             [
              0.6666666666666666,
              "#ed7953"
             ],
             [
              0.7777777777777778,
              "#fb9f3a"
             ],
             [
              0.8888888888888888,
              "#fdca26"
             ],
             [
              1,
              "#f0f921"
             ]
            ],
            "type": "heatmapgl"
           }
          ],
          "histogram": [
           {
            "marker": {
             "pattern": {
              "fillmode": "overlay",
              "size": 10,
              "solidity": 0.2
             }
            },
            "type": "histogram"
           }
          ],
          "histogram2d": [
           {
            "colorbar": {
             "outlinewidth": 0,
             "ticks": ""
            },
            "colorscale": [
             [
              0,
              "#0d0887"
             ],
             [
              0.1111111111111111,
              "#46039f"
             ],
             [
              0.2222222222222222,
              "#7201a8"
             ],
             [
              0.3333333333333333,
              "#9c179e"
             ],
             [
              0.4444444444444444,
              "#bd3786"
             ],
             [
              0.5555555555555556,
              "#d8576b"
             ],
             [
              0.6666666666666666,
              "#ed7953"
             ],
             [
              0.7777777777777778,
              "#fb9f3a"
             ],
             [
              0.8888888888888888,
              "#fdca26"
             ],
             [
              1,
              "#f0f921"
             ]
            ],
            "type": "histogram2d"
           }
          ],
          "histogram2dcontour": [
           {
            "colorbar": {
             "outlinewidth": 0,
             "ticks": ""
            },
            "colorscale": [
             [
              0,
              "#0d0887"
             ],
             [
              0.1111111111111111,
              "#46039f"
             ],
             [
              0.2222222222222222,
              "#7201a8"
             ],
             [
              0.3333333333333333,
              "#9c179e"
             ],
             [
              0.4444444444444444,
              "#bd3786"
             ],
             [
              0.5555555555555556,
              "#d8576b"
             ],
             [
              0.6666666666666666,
              "#ed7953"
             ],
             [
              0.7777777777777778,
              "#fb9f3a"
             ],
             [
              0.8888888888888888,
              "#fdca26"
             ],
             [
              1,
              "#f0f921"
             ]
            ],
            "type": "histogram2dcontour"
           }
          ],
          "mesh3d": [
           {
            "colorbar": {
             "outlinewidth": 0,
             "ticks": ""
            },
            "type": "mesh3d"
           }
          ],
          "parcoords": [
           {
            "line": {
             "colorbar": {
              "outlinewidth": 0,
              "ticks": ""
             }
            },
            "type": "parcoords"
           }
          ],
          "pie": [
           {
            "automargin": true,
            "type": "pie"
           }
          ],
          "scatter": [
           {
            "fillpattern": {
             "fillmode": "overlay",
             "size": 10,
             "solidity": 0.2
            },
            "type": "scatter"
           }
          ],
          "scatter3d": [
           {
            "line": {
             "colorbar": {
              "outlinewidth": 0,
              "ticks": ""
             }
            },
            "marker": {
             "colorbar": {
              "outlinewidth": 0,
              "ticks": ""
             }
            },
            "type": "scatter3d"
           }
          ],
          "scattercarpet": [
           {
            "marker": {
             "colorbar": {
              "outlinewidth": 0,
              "ticks": ""
             }
            },
            "type": "scattercarpet"
           }
          ],
          "scattergeo": [
           {
            "marker": {
             "colorbar": {
              "outlinewidth": 0,
              "ticks": ""
             }
            },
            "type": "scattergeo"
           }
          ],
          "scattergl": [
           {
            "marker": {
             "colorbar": {
              "outlinewidth": 0,
              "ticks": ""
             }
            },
            "type": "scattergl"
           }
          ],
          "scattermapbox": [
           {
            "marker": {
             "colorbar": {
              "outlinewidth": 0,
              "ticks": ""
             }
            },
            "type": "scattermapbox"
           }
          ],
          "scatterpolar": [
           {
            "marker": {
             "colorbar": {
              "outlinewidth": 0,
              "ticks": ""
             }
            },
            "type": "scatterpolar"
           }
          ],
          "scatterpolargl": [
           {
            "marker": {
             "colorbar": {
              "outlinewidth": 0,
              "ticks": ""
             }
            },
            "type": "scatterpolargl"
           }
          ],
          "scatterternary": [
           {
            "marker": {
             "colorbar": {
              "outlinewidth": 0,
              "ticks": ""
             }
            },
            "type": "scatterternary"
           }
          ],
          "surface": [
           {
            "colorbar": {
             "outlinewidth": 0,
             "ticks": ""
            },
            "colorscale": [
             [
              0,
              "#0d0887"
             ],
             [
              0.1111111111111111,
              "#46039f"
             ],
             [
              0.2222222222222222,
              "#7201a8"
             ],
             [
              0.3333333333333333,
              "#9c179e"
             ],
             [
              0.4444444444444444,
              "#bd3786"
             ],
             [
              0.5555555555555556,
              "#d8576b"
             ],
             [
              0.6666666666666666,
              "#ed7953"
             ],
             [
              0.7777777777777778,
              "#fb9f3a"
             ],
             [
              0.8888888888888888,
              "#fdca26"
             ],
             [
              1,
              "#f0f921"
             ]
            ],
            "type": "surface"
           }
          ],
          "table": [
           {
            "cells": {
             "fill": {
              "color": "#EBF0F8"
             },
             "line": {
              "color": "white"
             }
            },
            "header": {
             "fill": {
              "color": "#C8D4E3"
             },
             "line": {
              "color": "white"
             }
            },
            "type": "table"
           }
          ]
         },
         "layout": {
          "annotationdefaults": {
           "arrowcolor": "#2a3f5f",
           "arrowhead": 0,
           "arrowwidth": 1
          },
          "autotypenumbers": "strict",
          "coloraxis": {
           "colorbar": {
            "outlinewidth": 0,
            "ticks": ""
           }
          },
          "colorscale": {
           "diverging": [
            [
             0,
             "#8e0152"
            ],
            [
             0.1,
             "#c51b7d"
            ],
            [
             0.2,
             "#de77ae"
            ],
            [
             0.3,
             "#f1b6da"
            ],
            [
             0.4,
             "#fde0ef"
            ],
            [
             0.5,
             "#f7f7f7"
            ],
            [
             0.6,
             "#e6f5d0"
            ],
            [
             0.7,
             "#b8e186"
            ],
            [
             0.8,
             "#7fbc41"
            ],
            [
             0.9,
             "#4d9221"
            ],
            [
             1,
             "#276419"
            ]
           ],
           "sequential": [
            [
             0,
             "#0d0887"
            ],
            [
             0.1111111111111111,
             "#46039f"
            ],
            [
             0.2222222222222222,
             "#7201a8"
            ],
            [
             0.3333333333333333,
             "#9c179e"
            ],
            [
             0.4444444444444444,
             "#bd3786"
            ],
            [
             0.5555555555555556,
             "#d8576b"
            ],
            [
             0.6666666666666666,
             "#ed7953"
            ],
            [
             0.7777777777777778,
             "#fb9f3a"
            ],
            [
             0.8888888888888888,
             "#fdca26"
            ],
            [
             1,
             "#f0f921"
            ]
           ],
           "sequentialminus": [
            [
             0,
             "#0d0887"
            ],
            [
             0.1111111111111111,
             "#46039f"
            ],
            [
             0.2222222222222222,
             "#7201a8"
            ],
            [
             0.3333333333333333,
             "#9c179e"
            ],
            [
             0.4444444444444444,
             "#bd3786"
            ],
            [
             0.5555555555555556,
             "#d8576b"
            ],
            [
             0.6666666666666666,
             "#ed7953"
            ],
            [
             0.7777777777777778,
             "#fb9f3a"
            ],
            [
             0.8888888888888888,
             "#fdca26"
            ],
            [
             1,
             "#f0f921"
            ]
           ]
          },
          "colorway": [
           "#636efa",
           "#EF553B",
           "#00cc96",
           "#ab63fa",
           "#FFA15A",
           "#19d3f3",
           "#FF6692",
           "#B6E880",
           "#FF97FF",
           "#FECB52"
          ],
          "font": {
           "color": "#2a3f5f"
          },
          "geo": {
           "bgcolor": "white",
           "lakecolor": "white",
           "landcolor": "white",
           "showlakes": true,
           "showland": true,
           "subunitcolor": "#C8D4E3"
          },
          "hoverlabel": {
           "align": "left"
          },
          "hovermode": "closest",
          "mapbox": {
           "style": "light"
          },
          "paper_bgcolor": "white",
          "plot_bgcolor": "white",
          "polar": {
           "angularaxis": {
            "gridcolor": "#EBF0F8",
            "linecolor": "#EBF0F8",
            "ticks": ""
           },
           "bgcolor": "white",
           "radialaxis": {
            "gridcolor": "#EBF0F8",
            "linecolor": "#EBF0F8",
            "ticks": ""
           }
          },
          "scene": {
           "xaxis": {
            "backgroundcolor": "white",
            "gridcolor": "#DFE8F3",
            "gridwidth": 2,
            "linecolor": "#EBF0F8",
            "showbackground": true,
            "ticks": "",
            "zerolinecolor": "#EBF0F8"
           },
           "yaxis": {
            "backgroundcolor": "white",
            "gridcolor": "#DFE8F3",
            "gridwidth": 2,
            "linecolor": "#EBF0F8",
            "showbackground": true,
            "ticks": "",
            "zerolinecolor": "#EBF0F8"
           },
           "zaxis": {
            "backgroundcolor": "white",
            "gridcolor": "#DFE8F3",
            "gridwidth": 2,
            "linecolor": "#EBF0F8",
            "showbackground": true,
            "ticks": "",
            "zerolinecolor": "#EBF0F8"
           }
          },
          "shapedefaults": {
           "line": {
            "color": "#2a3f5f"
           }
          },
          "ternary": {
           "aaxis": {
            "gridcolor": "#DFE8F3",
            "linecolor": "#A2B1C6",
            "ticks": ""
           },
           "baxis": {
            "gridcolor": "#DFE8F3",
            "linecolor": "#A2B1C6",
            "ticks": ""
           },
           "bgcolor": "white",
           "caxis": {
            "gridcolor": "#DFE8F3",
            "linecolor": "#A2B1C6",
            "ticks": ""
           }
          },
          "title": {
           "x": 0.05
          },
          "xaxis": {
           "automargin": true,
           "gridcolor": "#EBF0F8",
           "linecolor": "#EBF0F8",
           "ticks": "",
           "title": {
            "standoff": 15
           },
           "zerolinecolor": "#EBF0F8",
           "zerolinewidth": 2
          },
          "yaxis": {
           "automargin": true,
           "gridcolor": "#EBF0F8",
           "linecolor": "#EBF0F8",
           "ticks": "",
           "title": {
            "standoff": 15
           },
           "zerolinecolor": "#EBF0F8",
           "zerolinewidth": 2
          }
         }
        },
        "title": {
         "text": "Average Age of Oscar Winners Over Time"
        },
        "xaxis": {
         "title": {
          "text": "Year of Film"
         }
        },
        "yaxis": {
         "title": {
          "text": "Average Age"
         }
        }
       }
      }
     },
     "metadata": {},
     "output_type": "display_data"
    }
   ],
   "source": [
    "import pandas as pd\n",
    "import numpy as np\n",
    "import plotly.graph_objects as go\n",
    "from scipy.stats import linregress\n",
    "\n",
    "# Ensure the winning_data DataFrame is prepared as before\n",
    "winning_data = filtered_matching_oscar_data[filtered_matching_oscar_data['winner'] == True]\n",
    "winning_data = winning_data.dropna(subset=['Actor age at movie release'])\n",
    "\n",
    "# Add a decade column\n",
    "winning_data['decade'] = (winning_data['year_film'] // 10) * 10\n",
    "\n",
    "# --- Boxplots by Decade with Actor Names ---\n",
    "decades = sorted(winning_data['decade'].unique())\n",
    "boxplots = []\n",
    "\n",
    "for decade in decades:\n",
    "    # Filter data for the current decade\n",
    "    decade_data = winning_data[winning_data['decade'] == decade]\n",
    "    ages = decade_data['Actor age at movie release']\n",
    "    actor_names = decade_data['name']  # Assuming a column for actor names\n",
    "    \n",
    "    # Add trace for the boxplot with actor names\n",
    "    boxplots.append(go.Box(\n",
    "        y=ages,\n",
    "        name=f\"{decade}s\",\n",
    "        boxmean='sd',  # Show mean and standard deviation\n",
    "        marker=dict(color='lightblue'),\n",
    "        line=dict(color='blue', width=1.5),  # Whiskers\n",
    "        jitter=0.3,  # Add jitter to data points for better visualization\n",
    "        pointpos=-1.5,  # Position of points (relative to box)\n",
    "        boxpoints=\"all\",  # Display all points\n",
    "        customdata=actor_names,  # Pass actor names\n",
    "        hovertemplate=\"Age: %{y}<br>Actor: %{customdata}<extra></extra>\",  # Custom hover text\n",
    "        showlegend=False\n",
    "    ))\n",
    "\n",
    "# Create dropdown menu for boxplots\n",
    "boxplot_dropdown = go.Figure()\n",
    "for i, box in enumerate(boxplots):\n",
    "    boxplot_dropdown.add_trace(box)\n",
    "    boxplot_dropdown.data[i].visible = (i == 0)  # Only show the first decade initially\n",
    "\n",
    "buttons = [\n",
    "    dict(label=f\"{decade}s\",\n",
    "         method=\"update\",\n",
    "         args=[{\"visible\": [j == i for j in range(len(boxplots))]},\n",
    "               {\"title\": f\"Actor Ages in the {decade}s\"}])\n",
    "    for i, decade in enumerate(decades)\n",
    "]\n",
    "\n",
    "boxplot_dropdown.update_layout(\n",
    "    updatemenus=[{\n",
    "        \"buttons\": buttons,\n",
    "        \"direction\": \"down\",\n",
    "        \"showactive\": True,\n",
    "        \"x\": 0.5,\n",
    "        \"xanchor\": \"center\",\n",
    "        \"y\": 1.15,\n",
    "        \"yanchor\": \"top\"\n",
    "    }],\n",
    "    title=\"Actor Ages Across Decades with Actor Names\",\n",
    "    yaxis_title=\"Actor Age\",\n",
    "    template=\"plotly_white\",\n",
    "    annotations=[\n",
    "        dict(\n",
    "            text=\"Select Decade:\",\n",
    "            showarrow=False,\n",
    "            x=0.5,\n",
    "            y=1.2,\n",
    "            xref=\"paper\",\n",
    "            yref=\"paper\",\n",
    "            align=\"center\",\n",
    "            font=dict(size=14)\n",
    "        )\n",
    "    ]\n",
    ")\n",
    "\n",
    "# --- Average Age Over Time ---\n",
    "avg_age_over_years = winning_data.groupby('year_film')['Actor age at movie release'].mean()\n",
    "years = avg_age_over_years.index.values\n",
    "avg_ages = avg_age_over_years.values\n",
    "rolling_avg = avg_age_over_years.rolling(window=5).mean()\n",
    "\n",
    "# Perform linear regression for trend line\n",
    "slope, intercept, r_value, p_value, std_err = linregress(years, avg_ages)\n",
    "trend_line = slope * years + intercept\n",
    "\n",
    "# Create plot for average age over time\n",
    "avg_age_plot = go.Figure()\n",
    "\n",
    "# Bar chart for average age\n",
    "avg_age_plot.add_trace(go.Bar(\n",
    "    x=years,\n",
    "    y=avg_ages,\n",
    "    name=\"Average Age\",\n",
    "    marker_color='skyblue'\n",
    "))\n",
    "\n",
    "# Add rolling average line\n",
    "avg_age_plot.add_trace(go.Scatter(\n",
    "    x=years,\n",
    "    y=rolling_avg,\n",
    "    mode='lines',\n",
    "    name=\"5-Year Rolling Average\",\n",
    "    line=dict(color='green', dash='dash', width=2)\n",
    "))\n",
    "\n",
    "# Add trend line\n",
    "avg_age_plot.add_trace(go.Scatter(\n",
    "    x=years,\n",
    "    y=trend_line,\n",
    "    mode='lines',\n",
    "    name=\"Trend Line\",\n",
    "    line=dict(color='red', width=2)\n",
    "))\n",
    "\n",
    "avg_age_plot.update_layout(\n",
    "    title=\"Average Age of Oscar Winners Over Time\",\n",
    "    xaxis_title=\"Year of Film\",\n",
    "    yaxis_title=\"Average Age\",\n",
    "    template=\"plotly_white\",\n",
    "    legend=dict(orientation=\"h\", yanchor=\"bottom\", y=1.02, xanchor=\"right\", x=1)\n",
    ")\n",
    "\n",
    "# Show the plots\n",
    "boxplot_dropdown.show()\n",
    "avg_age_plot.show()\n"
   ]
  },
  {
   "cell_type": "code",
   "execution_count": 30,
   "metadata": {},
   "outputs": [
    {
     "data": {
      "image/png": "[encoded data removed]",
      "text/plain": [
       "<Figure size 1200x600 with 2 Axes>"
      ]
     },
     "metadata": {},
     "output_type": "display_data"
    }
   ],
   "source": [
    "from src.helpers_actors_analysis import *\n",
    "\n",
    "top_500_grossing_movies = filter_top_grossing_movies(merged_movie_character, top_n=500)\n",
    "\n",
    "# Get the genres for these top movies and proceed with further analysis or visualization if needed\n",
    "all_genres = top_500_grossing_movies['Movie genres'].dropna().str.split('|').sum()\n",
    "genre_counts = Counter(all_genres)\n",
    "top_50_genres = [genre for genre, count in genre_counts.most_common(50)]\n",
    "\n",
    "# Filter the top 500 movies by top 50 genres if needed\n",
    "filtered_top_movies = top_500_grossing_movies[top_500_grossing_movies['Movie genres'].apply(\n",
    "    lambda genres: any(g in top_50_genres for g in genres.split('|')))]\n",
    "\n",
    "actor_pair_genres = analyze_genre_preferences_by_actor_pairings(filtered_top_movies, top_n_pairs=500)\n",
    "# Calculate diversity scores for the actor pairs\n",
    "diversity_scores_df = calculate_genre_diversity(actor_pair_genres)\n",
    "\n",
    "# Extract the top 10 actor pairs by diversity score\n",
    "top_10_diversity_scores_df = diversity_scores_df.head(10)\n",
    "\n",
    "# Plotting the Diversity Scores and Unique Genre Count for the Top 10 Actor Pairs\n",
    "plt.figure(figsize=(12, 6))\n",
    "\n",
    "# Plot Shannon Diversity Score as bars\n",
    "ax1 = plt.gca()\n",
    "ax1.barh(top_10_diversity_scores_df['Actor Pair'], top_10_diversity_scores_df['Shannon Diversity Score'], color='skyblue')\n",
    "ax1.set_xlabel('Shannon Diversity Score')\n",
    "ax1.set_title('Top 10 Actor Pairs by Genre Diversity Score')\n",
    "ax1.invert_yaxis()  # Invert y-axis to have the highest score at the top\n",
    "ax1.set_xlim([0, max(top_10_diversity_scores_df['Shannon Diversity Score']) * 1.1])\n",
    "\n",
    "# Create a secondary axis for the unique genre count\n",
    "ax2 = ax1.twiny()\n",
    "ax2.plot(top_10_diversity_scores_df['Unique Genres'], top_10_diversity_scores_df['Actor Pair'], 'ro', label='Number of Unique Genres')\n",
    "ax2.set_xlabel('Number of Unique Genres')\n",
    "ax2.set_xlim([0, max(top_10_diversity_scores_df['Unique Genres']) * 1.1])\n",
    "ax2.legend(loc='lower right')\n",
    "\n",
    "plt.tight_layout()\n",
    "plt.show()\n"
   ]
  },
  {
   "cell_type": "markdown",
   "metadata": {},
   "source": [
    "the last one is still bugging"
   ]
  },
  {
   "cell_type": "code",
   "execution_count": null,
   "metadata": {},
   "outputs": [],
   "source": []
  }
 ],
 "metadata": {
  "kernelspec": {
   "display_name": "ada_new",
   "language": "python",
   "name": "python3"
  },
  "language_info": {
   "codemirror_mode": {
    "name": "ipython",
    "version": 3
   },
   "file_extension": ".py",
   "mimetype": "text/x-python",
   "name": "python",
   "nbconvert_exporter": "python",
   "pygments_lexer": "ipython3",
   "version": "3.11.10"
  }
 },
 "nbformat": 4,
 "nbformat_minor": 2
}

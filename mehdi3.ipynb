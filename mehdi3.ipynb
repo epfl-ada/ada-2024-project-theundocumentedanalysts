{
 "cells": [
  {
   "cell_type": "markdown",
   "id": "e3dc9fd7",
   "metadata": {},
   "source": [
    "\n",
    "# Movie Data Analysis Notebook\n",
    "\n",
    "This notebook contains a series of analyses performed on two datasets related to movies and awards. The analyses include trends over time, correlations, and visual insights.\n",
    "\n",
    "### Datasets:\n",
    "1. **Movies Dataset**: Contains information about movies, such as title, director, genres, IMDb scores, and user reviews.\n",
    "2. **Awards Dataset**: Contains information about awards, including categories, winners, and films.\n",
    "\n",
    "Each analysis is implemented in its own section for clarity.\n"
   ]
  },
  {
   "cell_type": "markdown",
   "id": "2977ed12",
   "metadata": {},
   "source": [
    "\n",
    "## 1. Load and Explore the Datasets\n",
    "\n",
    "We start by loading the datasets and exploring their structure to understand the available information.\n",
    "\n",
    "```python\n",
    "import pandas as pd\n",
    "\n",
    "# Paths to the datasets (replace with actual paths)\n",
    "movies_path = 'movies.csv'  # Example movies dataset path\n",
    "awards_path = 'awards.csv'  # Example awards dataset path\n",
    "\n",
    "# Load datasets\n",
    "movies_df = pd.read_csv(movies_path)\n",
    "awards_df = pd.read_csv(awards_path)\n",
    "\n",
    "# Display the first few rows of each dataset\n",
    "print(\"Movies Dataset:\")\n",
    "print(movies_df.head())\n",
    "\n",
    "print(\"\\nAwards Dataset:\")\n",
    "print(awards_df.head())\n",
    "```\n"
   ]
  },
  {
   "cell_type": "markdown",
   "id": "3fd480d2",
   "metadata": {},
   "source": [
    "## 2. Genre Trends Over Time"
   ]
  },
  {
   "cell_type": "code",
   "execution_count": null,
   "id": "7a7f003b",
   "metadata": {},
   "outputs": [],
   "source": [
    "\n",
    "We analyze the trends in movie genres over time.\n",
    "\n",
    "```python\n",
    "# Preprocess genres data\n",
    "movies_df['genres'] = movies_df['genres'].str.split('|')\n",
    "movies_expanded = movies_df.explode('genres')\n",
    "\n",
    "# Group by year and genre\n",
    "genres_over_time = movies_expanded.groupby(['title_year', 'genres']).size().unstack(fill_value=0)\n",
    "\n",
    "# Plot genre trends over time\n",
    "import matplotlib.pyplot as plt\n",
    "\n",
    "plt.figure(figsize=(12, 8))\n",
    "for genre in genres_over_time.columns:\n",
    "    plt.plot(genres_over_time.index, genres_over_time[genre], label=genre)\n",
    "\n",
    "plt.title('Genre Trends Over Time')\n",
    "plt.xlabel('Year')\n",
    "plt.ylabel('Number of Movies')\n",
    "plt.legend(title='Genres', bbox_to_anchor=(1.05, 1), loc='upper left')\n",
    "plt.grid()\n",
    "plt.show()\n",
    "```\n"
   ]
  },
  {
   "cell_type": "markdown",
   "id": "9472bc14",
   "metadata": {},
   "source": [
    "## 3. Movie Duration Trends"
   ]
  },
  {
   "cell_type": "code",
   "execution_count": null,
   "id": "971f927a",
   "metadata": {},
   "outputs": [],
   "source": [
    "\n",
    "We analyze how the average duration of movies has changed over time.\n",
    "\n",
    "```python\n",
    "# Group by year and calculate average duration\n",
    "duration_trends = movies_df.groupby('title_year')['duration'].mean()\n",
    "\n",
    "# Plot the trend\n",
    "plt.figure(figsize=(12, 8))\n",
    "plt.plot(duration_trends.index, duration_trends.values, marker='o')\n",
    "plt.title('Average Movie Duration Over Time')\n",
    "plt.xlabel('Year')\n",
    "plt.ylabel('Duration (minutes)')\n",
    "plt.grid()\n",
    "plt.show()\n",
    "```\n"
   ]
  }
 ],
 "metadata": {},
 "nbformat": 4,
 "nbformat_minor": 5
}

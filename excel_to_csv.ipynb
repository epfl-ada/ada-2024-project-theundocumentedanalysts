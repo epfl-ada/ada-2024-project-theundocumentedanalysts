{
 "cells": [
  {
   "cell_type": "code",
   "execution_count": 1,
   "metadata": {},
   "outputs": [],
   "source": [
    "import pandas as pd"
   ]
  },
  {
   "cell_type": "code",
   "execution_count": 3,
   "metadata": {},
   "outputs": [],
   "source": [
    "def excel_to_csv(excel_file_path, file_name, output_folder):\n",
    "    \"\"\"\n",
    "    Converts all sheets of an Excel file to individual CSV files.\n",
    "    \n",
    "    Parameters:\n",
    "        excel_file_path (str): Path to the Excel file.\n",
    "        output_folder (str): Folder where the CSV files will be saved.\n",
    "    \"\"\"\n",
    "    # Load the Excel file\n",
    "    excel_data = pd.ExcelFile(excel_file_path)\n",
    "    \n",
    "    # Loop through each sheet and save it as a CSV\n",
    "    for sheet_name in excel_data.sheet_names:\n",
    "        # Read the sheet into a DataFrame\n",
    "        df = excel_data.parse(sheet_name)\n",
    "        \n",
    "        # Create a CSV file path\n",
    "        csv_file_path = f\"{output_folder}/{file_name}.csv\"\n",
    "        \n",
    "        # Save the DataFrame to CSV\n",
    "        df.to_csv(csv_file_path, index=False)\n",
    "        print(f\"Converted '{sheet_name}' to '{csv_file_path}'\")"
   ]
  },
  {
   "cell_type": "code",
   "execution_count": 8,
   "metadata": {},
   "outputs": [
    {
     "name": "stdout",
     "output_type": "stream",
     "text": [
      "Converted 'Data' to '/Users/mehdibouchoucha/Desktop/ADA/ada-2024-project-theundocumentedanalysts/data/TMDB_dataset_csv/MOVIE_GENRE.csv'\n"
     ]
    }
   ],
   "source": [
    "file_name = \"MOVIE_GENRE\"\n",
    "input_path = f\"/Users/mehdibouchoucha/Desktop/ADA/ada-2024-project-theundocumentedanalysts/data/TMDB_dataset/{file_name}.xlsx\"\n",
    "output_folder = \"/Users/mehdibouchoucha/Desktop/ADA/ada-2024-project-theundocumentedanalysts/data/TMDB_dataset_csv\"\n",
    "excel_to_csv(input_path, file_name, output_folder)"
   ]
  },
  {
   "cell_type": "code",
   "execution_count": 2,
   "metadata": {},
   "outputs": [
    {
     "data": {
      "application/vnd.plotly.v1+json": {
       "config": {
        "plotlyServerURL": "https://plot.ly"
       },
       "data": [
        {
         "customdata": [
          [
           "Mulan"
          ],
          [
           "Peninsula"
          ],
          [
           "Birds of Prey (and the Fantabulous Emancipation of One Harley Quinn)"
          ],
          [
           "Bad Boys for Life"
          ],
          [
           "Bloodshot"
          ],
          [
           "Onward"
          ],
          [
           "Sonic the Hedgehog"
          ],
          [
           "Fast & Furious Presents: Hobbs & Shaw"
          ],
          [
           "1917"
          ],
          [
           "Frozen II"
          ],
          [
           "Forbidden Empire"
          ],
          [
           "Coco"
          ],
          [
           "Avengers: Infinity War"
          ],
          [
           "Pinocchio"
          ],
          [
           "Antebellum"
          ],
          [
           "Jumanji: The Next Level"
          ],
          [
           "Spider-Man: Far from Home"
          ],
          [
           "Avengers: Endgame"
          ],
          [
           "Ocean's Eleven"
          ],
          [
           "A Walk Among the Tombstones"
          ],
          [
           "Fantastic Four"
          ],
          [
           "Bolt"
          ],
          [
           "The Human Centipede (First Sequence)"
          ],
          [
           "Dumb and Dumber To"
          ],
          [
           "Midsommar"
          ],
          [
           "After"
          ],
          [
           "Aladdin"
          ],
          [
           "The Lion King"
          ],
          [
           "Tenet"
          ],
          [
           "The Addams Family"
          ],
          [
           "John Wick: Chapter 3 - Parabellum"
          ],
          [
           "Elysium"
          ],
          [
           "Insidious: The Last Key"
          ],
          [
           "Legion"
          ],
          [
           "Ghost Ship"
          ],
          [
           "It Chapter Two"
          ],
          [
           "Ju-on: The Grudge"
          ],
          [
           "Zombieland: Double Tap"
          ],
          [
           "Underworld"
          ],
          [
           "Hancock"
          ],
          [
           "Ray"
          ],
          [
           "The Transporter"
          ],
          [
           "Dolittle"
          ],
          [
           "Pokémon Detective Pikachu"
          ],
          [
           "Star Wars: The Rise of Skywalker"
          ],
          [
           "The New Mutants"
          ],
          [
           "Spider-Man: Into the Spider-Verse"
          ],
          [
           "Ralph Breaks the Internet"
          ],
          [
           "Abigail"
          ],
          [
           "Rambo: Last Blood"
          ],
          [
           "Godzilla: King of the Monsters"
          ],
          [
           "How to Train Your Dragon: The Hidden World"
          ],
          [
           "Dark Phoenix"
          ],
          [
           "Angel Has Fallen"
          ],
          [
           "The First Purge"
          ],
          [
           "Mission: Impossible - Fallout"
          ],
          [
           "Captain Marvel"
          ],
          [
           "Dragon Ball Z: Resurrection 'F'"
          ],
          [
           "Venom"
          ],
          [
           "The Call of the Wild"
          ],
          [
           "Hotel Transylvania 3: Summer Vacation"
          ],
          [
           "Charlie's Angels"
          ],
          [
           "Spies in Disguise"
          ],
          [
           "Jurassic World: Fallen Kingdom"
          ],
          [
           "The Meg"
          ],
          [
           "Father There Is Only One 2"
          ],
          [
           "Ready Player One"
          ],
          [
           "Thor: Ragnarok"
          ],
          [
           "Shazam!"
          ],
          [
           "Spider-Man: Homecoming"
          ],
          [
           "The Gentlemen"
          ],
          [
           "Justice League"
          ],
          [
           "Hacksaw Ridge"
          ],
          [
           "Harry Potter and the Goblet of Fire"
          ],
          [
           "Harry Potter and the Philosopher's Stone"
          ],
          [
           "Dora and the Lost City of Gold"
          ],
          [
           "The Reaping"
          ],
          [
           "Harry Potter and the Prisoner of Azkaban"
          ],
          [
           "Parasite"
          ],
          [
           "Ocean's Eight"
          ],
          [
           "Wonder Woman"
          ],
          [
           "Deadpool 2"
          ],
          [
           "Skyscraper"
          ],
          [
           "Black Panther"
          ],
          [
           "Incredibles 2"
          ],
          [
           "Anna"
          ],
          [
           "The Predator"
          ],
          [
           "Whiteout"
          ],
          [
           "Abominable"
          ],
          [
           "Mama"
          ],
          [
           "Nanny McPhee"
          ],
          [
           "The Day After Tomorrow"
          ],
          [
           "High School Musical 3: Senior Year"
          ],
          [
           "National Lampoon's Christmas Vacation"
          ],
          [
           "Ford v Ferrari"
          ],
          [
           "The Croods"
          ],
          [
           "Harry Potter and the Half-Blood Prince"
          ],
          [
           "Aquaman"
          ],
          [
           "Blade Runner 2049"
          ],
          [
           "Hocus Pocus"
          ],
          [
           "Crawl"
          ],
          [
           "Deadpool"
          ],
          [
           "The Purge: Election Year"
          ],
          [
           "Dragon Ball Super: Broly"
          ],
          [
           "Fifty Shades of Grey"
          ],
          [
           "Creed II"
          ],
          [
           "Harry Potter and the Deathly Hallows: Part 2"
          ],
          [
           "The Hobbit: The Battle of the Five Armies"
          ],
          [
           "Ted 2"
          ],
          [
           "Big Hero 6"
          ],
          [
           "Rampage"
          ],
          [
           "Stuber"
          ],
          [
           "American Pie"
          ],
          [
           "Miss Peregrine's Home for Peculiar Children"
          ],
          [
           "Mulan"
          ],
          [
           "Jurassic World"
          ],
          [
           "Harry Potter and the Deathly Hallows: Part 1"
          ],
          [
           "Logan"
          ],
          [
           "X-Men: Apocalypse"
          ],
          [
           "Doctor Strange"
          ],
          [
           "Fifty Shades Freed"
          ],
          [
           "Avatar"
          ],
          [
           "Glass"
          ],
          [
           "The Conjuring"
          ],
          [
           "X-Men: Days of Future Past"
          ],
          [
           "The Fanatic"
          ],
          [
           "The Dark Knight"
          ],
          [
           "Penguins of Madagascar"
          ],
          [
           "The Purge"
          ],
          [
           "Ad Astra"
          ],
          [
           "21 Bridges"
          ],
          [
           "John Wick: Chapter 2"
          ],
          [
           "Pacific Rim: Uprising"
          ],
          [
           "The Maze Runner"
          ],
          [
           "Trolls"
          ],
          [
           "The Fate of the Furious"
          ],
          [
           "It"
          ],
          [
           "Annihilation"
          ],
          [
           "Insurgent"
          ],
          [
           "The Emoji Movie"
          ],
          [
           "Coraline"
          ],
          [
           "Bumblebee"
          ],
          [
           "Vivarium"
          ],
          [
           "Shrek"
          ],
          [
           "Interstellar"
          ],
          [
           "Call Me by Your Name"
          ],
          [
           "Danger Close"
          ],
          [
           "Pink Floyd: The Wall"
          ],
          [
           "The Purge: Anarchy"
          ],
          [
           "Lucy"
          ],
          [
           "The Simpsons Movie"
          ],
          [
           "Shrek 2"
          ],
          [
           "The Nun"
          ],
          [
           "Avengers: Age of Ultron"
          ],
          [
           "Wild Things"
          ],
          [
           "Train to Busan"
          ],
          [
           "Ant-Man and the Wasp"
          ],
          [
           "Scooby-Doo"
          ],
          [
           "Taken 3"
          ],
          [
           "Invasion of the Body Snatchers"
          ],
          [
           "Alien: Covenant"
          ],
          [
           "Kong: Skull Island"
          ],
          [
           "Bohemian Rhapsody"
          ],
          [
           "Guardians of the Galaxy Vol. 2"
          ],
          [
           "Escape Plan: The Extractors"
          ],
          [
           "Captain America: Civil War"
          ],
          [
           "Geostorm"
          ],
          [
           "Bordello of Blood"
          ],
          [
           "After.Life"
          ],
          [
           "Corpse Bride"
          ],
          [
           "Mortal Engines"
          ],
          [
           "Alpha"
          ],
          [
           "Fantastic Beasts: The Crimes of Grindelwald"
          ],
          [
           "The Twilight Saga: Breaking Dawn - Part 2"
          ],
          [
           "Ferdinand"
          ],
          [
           "Primer"
          ],
          [
           "Frozen"
          ],
          [
           "Kung Fu Panda 3"
          ],
          [
           "Hellboy"
          ],
          [
           "Twilight"
          ],
          [
           "Iron Man 3"
          ],
          [
           "Hotel Transylvania 2"
          ],
          [
           "The Amazing Spider-Man 2"
          ],
          [
           "The Hunt"
          ],
          [
           "Friday the 13th"
          ],
          [
           "Captive State"
          ],
          [
           "Maze Runner: The Death Cure"
          ],
          [
           "Back to the Future"
          ],
          [
           "Jumanji: Welcome to the Jungle"
          ],
          [
           "Pacific Rim"
          ],
          [
           "Baby Driver"
          ],
          [
           "Hitman"
          ],
          [
           "American Sniper"
          ],
          [
           "Like a Boss"
          ],
          [
           "Beauty and the Beast"
          ],
          [
           "Dunkirk"
          ],
          [
           "Teenage Mutant Ninja Turtles"
          ],
          [
           "Suicide Squad"
          ],
          [
           "San Andreas"
          ],
          [
           "Annabelle: Creation"
          ],
          [
           "Fury"
          ],
          [
           "Pixels"
          ],
          [
           "Baywatch"
          ],
          [
           "Katy Perry: Part of Me"
          ],
          [
           "Project X"
          ],
          [
           "Dumbo"
          ],
          [
           "Paranormal Activity: The Marked Ones"
          ],
          [
           "Star Wars"
          ],
          [
           "Playing with Fire"
          ],
          [
           "The Hunger Games: Mockingjay - Part 1"
          ],
          [
           "Shrek Forever After"
          ],
          [
           "The Green Mile"
          ],
          [
           "Dark Places"
          ],
          [
           "Cold Pursuit"
          ],
          [
           "Little Women"
          ],
          [
           "Mary Poppins Returns"
          ],
          [
           "American Pie Presents: Beta House"
          ],
          [
           "Titanic"
          ],
          [
           "Annabelle Comes Home"
          ],
          [
           "Fantastic Beasts and Where to Find Them"
          ],
          [
           "Iron Man"
          ],
          [
           "Never Back Down"
          ],
          [
           "American Pie 2"
          ],
          [
           "Pirates of the Caribbean: Dead Man's Chest"
          ],
          [
           "Ice Age: Continental Drift"
          ],
          [
           "Spider-Man"
          ],
          [
           "The Conjuring 2"
          ],
          [
           "Terminator Genisys"
          ],
          [
           "How to Train Your Dragon 2"
          ],
          [
           "Star Wars: The Last Jedi"
          ],
          [
           "The Twilight Saga: Eclipse"
          ],
          [
           "Tomb Raider"
          ],
          [
           "Batman v Superman: Dawn of Justice"
          ],
          [
           "Spider-Man 3"
          ],
          [
           "Toy Story"
          ],
          [
           "Along with the Gods: The Last 49 Days"
          ],
          [
           "The Shack"
          ],
          [
           "Pirates of the Caribbean: The Curse of the Black Pearl"
          ],
          [
           "6 Souls"
          ],
          [
           "Pirates of the Caribbean: Dead Men Tell No Tales"
          ],
          [
           "Superbad"
          ],
          [
           "Ice Age: Collision Course"
          ],
          [
           "The Hangover"
          ],
          [
           "The Lord of the Rings: The Fellowship of the Ring"
          ],
          [
           "Exodus: Gods and Kings"
          ],
          [
           "Inside Out"
          ],
          [
           "Miss Bala"
          ],
          [
           "How to Train Your Dragon"
          ],
          [
           "Zootopia"
          ],
          [
           "The Twilight Saga: Breaking Dawn - Part 1"
          ],
          [
           "The Last Witch Hunter"
          ],
          [
           "The Lord of the Rings: The Two Towers"
          ],
          [
           "Mad Max: Fury Road"
          ],
          [
           "Furious 7"
          ],
          [
           "Ice Age"
          ],
          [
           "Kingsman: The Golden Circle"
          ],
          [
           "Sicario: Day of the Soldado"
          ],
          [
           "Free Fire"
          ],
          [
           "The Equalizer 2"
          ],
          [
           "White Snake"
          ],
          [
           "Ice Age: The Meltdown"
          ],
          [
           "The Dark Knight Rises"
          ],
          [
           "Goosebumps 2: Haunted Halloween"
          ],
          [
           "The Hobbit: An Unexpected Journey"
          ],
          [
           "London Has Fallen"
          ],
          [
           "Peppermint"
          ],
          [
           "Knives Out"
          ],
          [
           "American Reunion"
          ],
          [
           "Peter Rabbit"
          ],
          [
           "A Dog's Way Home"
          ],
          [
           "The Lego Movie 2: The Second Part"
          ],
          [
           "Saw"
          ],
          [
           "Spirited Away"
          ],
          [
           "Wreck-It Ralph"
          ],
          [
           "Alien"
          ],
          [
           "Children of the Corn"
          ],
          [
           "No Escape"
          ],
          [
           "Thor"
          ],
          [
           "Thor: The Dark World"
          ],
          [
           "Iron Man 2"
          ],
          [
           "12 Strong"
          ],
          [
           "War for the Planet of the Apes"
          ],
          [
           "Valerian and the City of a Thousand Planets"
          ],
          [
           "Pirates of the Caribbean: At World's End"
          ],
          [
           "Gods of Egypt"
          ],
          [
           "Hunter Killer"
          ],
          [
           "The Twilight Saga: New Moon"
          ],
          [
           "Me Before You"
          ],
          [
           "Transformers: The Last Knight"
          ],
          [
           "The Lion King"
          ],
          [
           "The Martian"
          ],
          [
           "Maze Runner: The Scorch Trials"
          ],
          [
           "Toy Story 3"
          ],
          [
           "P2"
          ],
          [
           "Hercules"
          ],
          [
           "God's Not Dead 2"
          ],
          [
           "Megamind"
          ],
          [
           "Hollow Man"
          ],
          [
           "The Village"
          ],
          [
           "The Loft"
          ],
          [
           "The Terminator"
          ],
          [
           "The Book of Life"
          ],
          [
           "Siberia"
          ],
          [
           "The SpongeBob SquarePants Movie"
          ],
          [
           "Monsters, Inc."
          ],
          [
           "Once Upon a Time… in Hollywood"
          ],
          [
           "Jupiter Ascending"
          ],
          [
           "The Wolf of Wall Street"
          ],
          [
           "Teen Titans Go! To the Movies"
          ],
          [
           "Star Wars: The Force Awakens"
          ],
          [
           "Paranormal Activity"
          ],
          [
           "The Nutcracker and the Four Realms"
          ],
          [
           "Apocalypto"
          ],
          [
           "The Lord of the Rings: The Return of the King"
          ],
          [
           "Seed of Chucky"
          ],
          [
           "In Time"
          ],
          [
           "Inception"
          ],
          [
           "Overlord"
          ],
          [
           "Paranormal Activity 3"
          ],
          [
           "Charlie and the Chocolate Factory"
          ],
          [
           "Friday the 13th Part VIII: Jason Takes Manhattan"
          ],
          [
           "Hostiles"
          ],
          [
           "Rambo"
          ],
          [
           "Transformers: Age of Extinction"
          ],
          [
           "World War Z"
          ],
          [
           "The Shining"
          ],
          [
           "First Blood"
          ],
          [
           "Now You See Me 2"
          ],
          [
           "Knock Knock"
          ],
          [
           "Ice Age: Dawn of the Dinosaurs"
          ],
          [
           "Unbound"
          ],
          [
           "Cats"
          ],
          [
           "Hotel Transylvania"
          ],
          [
           "Child's Play"
          ],
          [
           "Doctor Sleep"
          ],
          [
           "Solo: A Star Wars Story"
          ],
          [
           "Night of the Living Dead"
          ],
          [
           "Despicable Me 3"
          ],
          [
           "The Hobbit: The Desolation of Smaug"
          ],
          [
           "District 9"
          ],
          [
           "Taken"
          ],
          [
           "Along with the Gods: The Two Worlds"
          ],
          [
           "Batman Begins"
          ],
          [
           "Motherless Brooklyn"
          ],
          [
           "xXx: Return of Xander Cage"
          ],
          [
           "A Nightmare on Elm Street"
          ],
          [
           "The Hangover Part III"
          ],
          [
           "Split"
          ],
          [
           "The Return of the Living Dead"
          ],
          [
           "Watchmen"
          ],
          [
           "Cinderella"
          ],
          [
           "My Neighbor Totoro"
          ],
          [
           "SuperFly"
          ],
          [
           "The Amazing Spider-Man"
          ],
          [
           "The Hangover Part II"
          ],
          [
           "Jennifer's Body"
          ],
          [
           "The Chronicles of Narnia: The Lion, the Witch and the Wardrobe"
          ],
          [
           "King Kong"
          ],
          [
           "The Imitation Game"
          ],
          [
           "The Great Wall"
          ],
          [
           "Freddy vs. Jason"
          ],
          [
           "The Jungle Book"
          ],
          [
           "Friday the 13th Part 2"
          ],
          [
           "9"
          ],
          [
           "Creed"
          ],
          [
           "American Pie Presents: The Book of Love"
          ],
          [
           "Ratatouille"
          ],
          [
           "Tangled"
          ],
          [
           "Sex Tape"
          ],
          [
           "The Hunger Games: Mockingjay - Part 2"
          ],
          [
           "Edge of Tomorrow"
          ],
          [
           "Grown Ups"
          ],
          [
           "The Incredible Hulk"
          ],
          [
           "Terminator 2: Judgment Day"
          ],
          [
           "The Curse of La Llorona"
          ],
          [
           "A Haunted House 2"
          ],
          [
           "The Lighthouse"
          ],
          [
           "Traffik"
          ],
          [
           "The Lego Ninjago Movie"
          ],
          [
           "Homefront"
          ],
          [
           "Despicable Me 2"
          ],
          [
           "Cars 2"
          ],
          [
           "Contagion"
          ],
          [
           "Allegiant"
          ],
          [
           "Kingsman: The Secret Service"
          ],
          [
           "Bride of Chucky"
          ],
          [
           "Spectre"
          ],
          [
           "Underworld: Blood Wars"
          ],
          [
           "Den of Thieves"
          ],
          [
           "I Spit on Your Grave"
          ],
          [
           "Wrong Turn"
          ],
          [
           "The Little Mermaid"
          ],
          [
           "John Wick"
          ],
          [
           "Divergent"
          ],
          [
           "The Angry Birds Movie"
          ],
          [
           "Jojo Rabbit"
          ],
          [
           "Power Rangers"
          ],
          [
           "Thir13en Ghosts"
          ],
          [
           "The Matrix Reloaded"
          ],
          [
           "The Invisible Man"
          ],
          [
           "Goosebumps"
          ],
          [
           "The Godfather"
          ],
          [
           "The Thing"
          ],
          [
           "Coma"
          ],
          [
           "A Hidden Life"
          ],
          [
           "Friday the 13th Part III"
          ],
          [
           "The Irishman"
          ],
          [
           "Home"
          ],
          [
           "The Last Full Measure"
          ],
          [
           "I Am Legend"
          ],
          [
           "Howl's Moving Castle"
          ],
          [
           "The Skin I Live In"
          ],
          [
           "Rocky IV"
          ],
          [
           "Journey 2: The Mysterious Island"
          ],
          [
           "Paul, Apostle of Christ"
          ],
          [
           "The Shawshank Redemption"
          ],
          [
           "Forrest Gump"
          ],
          [
           "The Good Dinosaur"
          ],
          [
           "The Hitman's Bodyguard"
          ],
          [
           "Arrival"
          ],
          [
           "The Equalizer"
          ],
          [
           "Hercules"
          ],
          [
           "Friday the 13th: The Final Chapter"
          ],
          [
           "Grown Ups 2"
          ],
          [
           "Saving Private Ryan"
          ],
          [
           "Toy Story 2"
          ],
          [
           "Shrek the Third"
          ],
          [
           "Silent Hill"
          ],
          [
           "The Texas Chainsaw Massacre"
          ],
          [
           "The Dark Tower"
          ],
          [
           "Rambo: First Blood Part II"
          ],
          [
           "Bleach"
          ],
          [
           "Tesla"
          ],
          [
           "First Man"
          ],
          [
           "Halloween"
          ],
          [
           "Scary Stories to Tell in the Dark"
          ],
          [
           "Batman: Gotham by Gaslight"
          ],
          [
           "The Shape of Water"
          ],
          [
           "UglyDolls"
          ],
          [
           "Prometheus"
          ],
          [
           "Chappie"
          ],
          [
           "Scary Movie"
          ],
          [
           "Whiplash"
          ],
          [
           "Brave"
          ],
          [
           "Alice Through the Looking Glass"
          ],
          [
           "American Renegades"
          ],
          [
           "Ghost in the Shell"
          ],
          [
           "The Passion of the Christ"
          ],
          [
           "Léon: The Professional"
          ],
          [
           "Fifty Shades Darker"
          ],
          [
           "Finding Nemo"
          ],
          [
           "Godzilla"
          ],
          [
           "American Wedding"
          ],
          [
           "Men in Black"
          ],
          [
           "Fight Club"
          ],
          [
           "Constantine"
          ],
          [
           "Up"
          ],
          [
           "Zombieland"
          ],
          [
           "Insidious"
          ],
          [
           "Captain Underpants: The First Epic Movie"
          ],
          [
           "Love, Simon"
          ],
          [
           "The Host"
          ],
          [
           "A Star Is Born"
          ],
          [
           "Bombshell"
          ],
          [
           "Dawn of the Planet of the Apes"
          ],
          [
           "300"
          ],
          [
           "Despicable Me"
          ],
          [
           "Jaws"
          ],
          [
           "Cinderella"
          ],
          [
           "The Hurricane Heist"
          ],
          [
           "Dead Silence"
          ],
          [
           "WALL·E"
          ],
          [
           "Frankenweenie"
          ],
          [
           "Fifty Shades of Black"
          ],
          [
           "Guardians"
          ],
          [
           "Independence Day: Resurgence"
          ],
          [
           "The Karate Kid"
          ],
          [
           "Jason X"
          ],
          [
           "Final Destination"
          ],
          [
           "The Incredibles"
          ],
          [
           "Blade"
          ],
          [
           "The Matrix Revolutions"
          ],
          [
           "The Villainess"
          ],
          [
           "Marriage Story"
          ],
          [
           "The Hills Have Eyes"
          ],
          [
           "Uncut Gems"
          ],
          [
           "Pet Sematary"
          ],
          [
           "Taken 2"
          ],
          [
           "Good Boys"
          ],
          [
           "The Upside"
          ],
          [
           "Mile 22"
          ],
          [
           "Pitch Perfect 2"
          ],
          [
           "Saw IV"
          ],
          [
           "Saw II"
          ],
          [
           "Hostel: Part II"
          ],
          [
           "Wonder Park"
          ],
          [
           "Percy Jackson & the Olympians: The Lightning Thief"
          ],
          [
           "Schindler's List"
          ],
          [
           "Ghost Rider: Spirit of Vengeance"
          ],
          [
           "The Karate Kid"
          ],
          [
           "Southpaw"
          ],
          [
           "The Family"
          ],
          [
           "Back to the Future Part II"
          ],
          [
           "The Fault in Our Stars"
          ],
          [
           "Friday the 13th"
          ],
          [
           "Cloudy with a Chance of Meatballs 2"
          ],
          [
           "The Evil Dead"
          ],
          [
           "Tracers"
          ],
          [
           "Annabelle"
          ],
          [
           "Sherlock Holmes: A Game of Shadows"
          ],
          [
           "Monsters University"
          ],
          [
           "American Beauty"
          ],
          [
           "Hereditary"
          ],
          [
           "Rise of the Guardians"
          ],
          [
           "Long Shot"
          ],
          [
           "Fracture"
          ],
          [
           "Dark City"
          ],
          [
           "28 Days Later"
          ],
          [
           "Troy"
          ],
          [
           "Pulp Fiction"
          ],
          [
           "Aladdin"
          ],
          [
           "The Parent Trap"
          ],
          [
           "It Follows"
          ],
          [
           "Child's Play 3"
          ],
          [
           "300: Rise of an Empire"
          ],
          [
           "Cujo"
          ],
          [
           "The Accountant"
          ],
          [
           "Miracles from Heaven"
          ],
          [
           "Warcraft"
          ],
          [
           "Kin"
          ],
          [
           "Jigsaw"
          ],
          [
           "Gifted"
          ],
          [
           "As Above, So Below"
          ],
          [
           "101 Dalmatians"
          ],
          [
           "Mechanic: Resurrection"
          ],
          [
           "Midway"
          ],
          [
           "The Art of Racing in the Rain"
          ],
          [
           "13 Hours: The Secret Soldiers of Benghazi"
          ],
          [
           "Captain America: The First Avenger"
          ],
          [
           "Searching"
          ],
          [
           "Shaft"
          ],
          [
           "Beauty and the Beast"
          ],
          [
           "Hitman: Agent 47"
          ],
          [
           "Rio 2"
          ],
          [
           "Predator"
          ],
          [
           "Mission: Impossible - Ghost Protocol"
          ],
          [
           "Saw 3D"
          ],
          [
           "I'm Not Ashamed"
          ],
          [
           "Man of Steel"
          ],
          [
           "2001: A Space Odyssey"
          ],
          [
           "Aliens vs Predator: Requiem"
          ],
          [
           "Overboard"
          ],
          [
           "Sausage Party"
          ],
          [
           "Batman"
          ],
          [
           "The Polar Express"
          ],
          [
           "King Arthur: Legend of the Sword"
          ],
          [
           "Dreamcatcher"
          ],
          [
           "Freddy's Dead: The Final Nightmare"
          ],
          [
           "Rio"
          ],
          [
           "Storks"
          ],
          [
           "Red Sparrow"
          ],
          [
           "Ready or Not"
          ],
          [
           "Ghostbusters"
          ],
          [
           "Life of Pi"
          ],
          [
           "Piranha"
          ],
          [
           "Sherlock Holmes"
          ],
          [
           "Transporter 2"
          ],
          [
           "Casino Royale"
          ],
          [
           "Snow White and the Seven Dwarfs"
          ],
          [
           "Seventh Son"
          ],
          [
           "Madagascar 3: Europe's Most Wanted"
          ],
          [
           "The 5th Wave"
          ],
          [
           "Die Another Day"
          ],
          [
           "The Hunger Games: Catching Fire"
          ],
          [
           "The Circle"
          ],
          [
           "Black Hawk Down"
          ],
          [
           "Get Out"
          ],
          [
           "The Expendables 3"
          ],
          [
           "Gladiator"
          ],
          [
           "The Prestige"
          ],
          [
           "Rendel"
          ],
          [
           "Green Lantern"
          ],
          [
           "Rango"
          ],
          [
           "The Iron Giant"
          ],
          [
           "The Ring"
          ],
          [
           "Kung Fu Panda"
          ],
          [
           "Captain America: The Winter Soldier"
          ],
          [
           "Pinocchio"
          ],
          [
           "The Longest Yard"
          ],
          [
           "The Revenant"
          ],
          [
           "Return of the Living Dead 3"
          ],
          [
           "Salt"
          ],
          [
           "Mission: Impossible - Rogue Nation"
          ],
          [
           "Blended"
          ],
          [
           "ParaNorman"
          ],
          [
           "The House with a Clock in Its Walls"
          ],
          [
           "Bad Boys II"
          ],
          [
           "Battleship"
          ],
          [
           "Central Intelligence"
          ],
          [
           "No Good Deed"
          ],
          [
           "Scarface"
          ],
          [
           "Atomic Blonde"
          ],
          [
           "The A-Team"
          ],
          [
           "This Means War"
          ],
          [
           "Saw V"
          ],
          [
           "Django Unchained"
          ],
          [
           "The Best of Me"
          ],
          [
           "Raiders of the Lost Ark"
          ],
          [
           "Sleepy Hollow"
          ],
          [
           "Rogue One: A Star Wars Story"
          ],
          [
           "Attraction"
          ],
          [
           "Bāhubali 2: The Conclusion"
          ],
          [
           "About Time"
          ],
          [
           "The Social Network"
          ],
          [
           "The Boss Baby"
          ],
          [
           "4x4"
          ],
          [
           "The Departed"
          ],
          [
           "One Hundred and One Dalmatians"
          ],
          [
           "Terminator Salvation"
          ],
          [
           "Kung Fu Panda 2"
          ],
          [
           "Escape Plan"
          ],
          [
           "2012"
          ],
          [
           "Yesterday"
          ],
          [
           "Jeepers Creepers"
          ],
          [
           "Scream 2"
          ],
          [
           "A Dog's Purpose"
          ],
          [
           "Poltergeist"
          ],
          [
           "Cloudy with a Chance of Meatballs"
          ],
          [
           "Life"
          ],
          [
           "Halloween 5: The Revenge of Michael Myers"
          ],
          [
           "Orphan"
          ],
          [
           "The Commuter"
          ],
          [
           "Sí, Mi Amor"
          ],
          [
           "Predator 2"
          ],
          [
           "Truth or Dare"
          ],
          [
           "Ouija"
          ],
          [
           "Widows"
          ],
          [
           "A Million Ways to Die in the West"
          ],
          [
           "Drag Me to Hell"
          ],
          [
           "Wrath of the Titans"
          ],
          [
           "Brahms: The Boy II"
          ],
          [
           "Madagascar"
          ],
          [
           "(500) Days of Summer"
          ],
          [
           "Halloween 4: The Return of Michael Myers"
          ],
          [
           "Nightcrawler"
          ],
          [
           "The Addams Family"
          ],
          [
           "The Witch"
          ],
          [
           "Death Wish"
          ],
          [
           "Halloween"
          ],
          [
           "Hummingbird"
          ],
          [
           "Booksmart"
          ],
          [
           "The Mountain Between Us"
          ],
          [
           "Beetlejuice"
          ],
          [
           "Need for Speed"
          ],
          [
           "Dragonball Evolution"
          ],
          [
           "Just Go with It"
          ],
          [
           "Rocky"
          ],
          [
           "A Haunted House"
          ],
          [
           "Everest"
          ],
          [
           "Saw III"
          ],
          [
           "Happy Death Day 2U"
          ],
          [
           "Wolf Warrior 2"
          ],
          [
           "Princess Mononoke"
          ],
          [
           "Pan"
          ],
          [
           "The NeverEnding Story"
          ],
          [
           "The Princess and the Frog"
          ],
          [
           "The Amityville Horror"
          ],
          [
           "Green Book"
          ],
          [
           "Fantasy Island"
          ],
          [
           "The Road to El Dorado"
          ],
          [
           "White Chicks"
          ],
          [
           "Se7en"
          ],
          [
           "The Lorax"
          ],
          [
           "Ben-Hur"
          ],
          [
           "Endless Love"
          ],
          [
           "Leprechaun"
          ],
          [
           "Love & Other Drugs"
          ],
          [
           "Undisputed"
          ],
          [
           "Brother Bear"
          ],
          [
           "Stand by Me Doraemon"
          ],
          [
           "The Blind Side"
          ],
          [
           "Ben-Hur"
          ],
          [
           "Apocalypse Now"
          ],
          [
           "Hellboy"
          ],
          [
           "The Longest Ride"
          ],
          [
           "Nerve"
          ],
          [
           "The Foreigner"
          ],
          [
           "The Empire Strikes Back"
          ],
          [
           "Space Pirate Captain Harlock"
          ],
          [
           "Walking with Dinosaurs"
          ],
          [
           "Red Riding Hood"
          ],
          [
           "Hustlers"
          ],
          [
           "Dirty Grandpa"
          ],
          [
           "The Tuxedo"
          ],
          [
           "Scary Movie 5"
          ],
          [
           "Abraham Lincoln: Vampire Hunter"
          ],
          [
           "Guardians of the Galaxy"
          ],
          [
           "Jason Goes to Hell: The Final Friday"
          ],
          [
           "Mission: Impossible"
          ],
          [
           "Madagascar: Escape 2 Africa"
          ],
          [
           "Ghost Rider"
          ],
          [
           "Saw VI"
          ],
          [
           "Case 39"
          ],
          [
           "Pride & Prejudice"
          ],
          [
           "South Park: Bigger, Longer & Uncut"
          ],
          [
           "Taxi Driver"
          ],
          [
           "The Godfather: Part II"
          ],
          [
           "Ip Man 3"
          ],
          [
           "Child's Play"
          ],
          [
           "Aliens"
          ],
          [
           "The Notebook"
          ],
          [
           "Scream"
          ],
          [
           "The Unborn"
          ],
          [
           "Fireproof"
          ],
          [
           "The Chronicles of Narnia: Prince Caspian"
          ],
          [
           "Focus"
          ],
          [
           "The Wizard of Oz"
          ],
          [
           "Jack Reacher: Never Go Back"
          ],
          [
           "Norbit"
          ],
          [
           "Alien Resurrection"
          ],
          [
           "Robin Hood: Prince of Thieves"
          ],
          [
           "Stuart Little"
          ],
          [
           "Operation Mekong"
          ],
          [
           "Final Destination 5"
          ],
          [
           "Mr. Peabody & Sherman"
          ],
          [
           "Johnny English Strikes Again"
          ],
          [
           "Child's Play 2"
          ],
          [
           "Mandy"
          ],
          [
           "Scary Movie 2"
          ],
          [
           "Impractical Jokers: The Movie"
          ],
          [
           "Interview with the Vampire"
          ],
          [
           "Dracula"
          ],
          [
           "Big Fish & Begonia"
          ],
          [
           "Final Destination 3"
          ],
          [
           "Trainwreck"
          ],
          [
           "Daddy's Home 2"
          ],
          [
           "47 Ronin"
          ],
          [
           "Courageous"
          ],
          [
           "Justin Bieber: Never Say Never"
          ],
          [
           "Laggies"
          ],
          [
           "The Towering Inferno"
          ],
          [
           "Tomorrowland"
          ],
          [
           "Patriots Day"
          ],
          [
           "2 Guns"
          ],
          [
           "T-34"
          ],
          [
           "Small Soldiers"
          ],
          [
           "The Invisible Guest"
          ],
          [
           "The Final Destination"
          ],
          [
           "Van Helsing"
          ],
          [
           "Friday the 13th Part VI: Jason Lives"
          ],
          [
           "Olympus Has Fallen"
          ],
          [
           "Edward Scissorhands"
          ],
          [
           "Smurfs: The Lost Village"
          ],
          [
           "Skyfall"
          ],
          [
           "Push"
          ],
          [
           "Kill Bill: Vol. 1"
          ],
          [
           "Eyes Wide Shut"
          ],
          [
           "Home Alone 2: Lost in New York"
          ],
          [
           "Bruce Almighty"
          ],
          [
           "Psycho"
          ],
          [
           "Kung Fu Yoga"
          ],
          [
           "Quantum of Solace"
          ],
          [
           "Friday the 13th: A New Beginning"
          ],
          [
           "Adrift"
          ],
          [
           "Catch Me If You Can"
          ],
          [
           "Night at the Museum: Secret of the Tomb"
          ],
          [
           "What Men Want"
          ],
          [
           "Men in Black 3"
          ],
          [
           "The Fifth Element"
          ],
          [
           "The Ten Commandments: The Movie"
          ],
          [
           "Scary Movie 3"
          ],
          [
           "Rush Hour 3"
          ],
          [
           "Sicario"
          ],
          [
           "Self/less"
          ],
          [
           "Alvin and the Chipmunks: The Squeakquel"
          ],
          [
           "Finding Dory"
          ],
          [
           "A Walk to Remember"
          ],
          [
           "The Orphanage"
          ],
          [
           "The Peanuts Movie"
          ],
          [
           "Police Story 3: Super Cop"
          ],
          [
           "The Thing"
          ],
          [
           "Cats & Dogs: The Revenge of Kitty Galore"
          ],
          [
           "War of the Worlds"
          ],
          [
           "A Bug's Life"
          ],
          [
           "The Proposal"
          ],
          [
           "Birdman or (The Unexpected Virtue of Ignorance)"
          ],
          [
           "New Nightmare"
          ],
          [
           "Mission: Impossible III"
          ],
          [
           "Carrie"
          ],
          [
           "Lionheart"
          ],
          [
           "Mean Girls"
          ],
          [
           "Tarzan"
          ],
          [
           "Just Mercy"
          ],
          [
           "Back to the Future Part III"
          ],
          [
           "The Lovely Bones"
          ],
          [
           "Lilo & Stitch"
          ],
          [
           "Payback"
          ],
          [
           "Minions"
          ],
          [
           "The Karate Kid Part II"
          ],
          [
           "The Good, the Bad and the Ugly"
          ],
          [
           "Kickboxer: Retaliation"
          ],
          [
           "Child 44"
          ],
          [
           "Scouts Guide to the Zombie Apocalypse"
          ],
          [
           "Basic Instinct"
          ],
          [
           "1987: When the Day Comes"
          ],
          [
           "Don't Breathe"
          ],
          [
           "Monster Trucks"
          ],
          [
           "Alice in Wonderland"
          ],
          [
           "Army of Darkness"
          ],
          [
           "One Flew Over the Cuckoo's Nest"
          ],
          [
           "Batman: The Killing Joke"
          ],
          [
           "The Magnificent Seven"
          ],
          [
           "Meet the Robinsons"
          ],
          [
           "Sinbad: Legend of the Seven Seas"
          ],
          [
           "Dirty Dancing"
          ],
          [
           "Vampire Academy"
          ],
          [
           "If I Stay"
          ],
          [
           "Warm Bodies"
          ],
          [
           "Ballerina"
          ],
          [
           "Halloween: The Curse of Michael Myers"
          ],
          [
           "Paddington 2"
          ],
          [
           "Happy Death Day"
          ],
          [
           "Annie"
          ],
          [
           "Bee Movie"
          ],
          [
           "Neighbors 2: Sorority Rising"
          ],
          [
           "Rambo III"
          ],
          [
           "Garfield"
          ],
          [
           "Final Destination 2"
          ],
          [
           "Blitz"
          ],
          [
           "Bill & Ted's Excellent Adventure"
          ],
          [
           "8 Mile"
          ],
          [
           "Bambi"
          ],
          [
           "Revenge"
          ],
          [
           "Every Day"
          ],
          [
           "Abduction"
          ],
          [
           "The Wedding Ringer"
          ],
          [
           "Batman & Robin"
          ],
          [
           "Full Metal Jacket"
          ],
          [
           "Death Note"
          ],
          [
           "The Grudge"
          ],
          [
           "Shark Tale"
          ],
          [
           "Hansel & Gretel: Witch Hunters"
          ],
          [
           "The Secret World of Arrietty"
          ],
          [
           "Star Trek Into Darkness"
          ],
          [
           "The Lego Movie"
          ],
          [
           "Alice in Wonderland"
          ],
          [
           "Sleepless"
          ],
          [
           "The Turning"
          ],
          [
           "The Howling"
          ],
          [
           "Christopher Robin"
          ],
          [
           "Dinosaur"
          ],
          [
           "Terminator 3: Rise of the Machines"
          ],
          [
           "Justice League: War"
          ],
          [
           "A Bad Moms Christmas"
          ],
          [
           "Live Free or Die Hard"
          ],
          [
           "The Mummy"
          ],
          [
           "The Railway Man"
          ],
          [
           "The Mask"
          ],
          [
           "Friends with Benefits"
          ],
          [
           "Casper"
          ],
          [
           "War Room"
          ],
          [
           "RoboCop"
          ],
          [
           "Next"
          ],
          [
           "The Grudge"
          ],
          [
           "Halloween III: Season of the Witch"
          ],
          [
           "Max"
          ],
          [
           "A Nightmare on Elm Street"
          ],
          [
           "Kick-Ass 2"
          ],
          [
           "The Texas Chainsaw Massacre: The Beginning"
          ],
          [
           "What Happens in Vegas"
          ],
          [
           "Inglourious Basterds"
          ],
          [
           "Step Up All In"
          ],
          [
           "Rise of the Planet of the Apes"
          ],
          [
           "Puss in Boots"
          ],
          [
           "Fantastic Four: Rise of the Silver Surfer"
          ],
          [
           "Alien³"
          ],
          [
           "Almost Famous"
          ],
          [
           "Critters"
          ],
          [
           "The Nut Job 2: Nutty by Nature"
          ],
          [
           "Countdown"
          ],
          [
           "Paul"
          ],
          [
           "Perfume: The Story of a Murderer"
          ],
          [
           "The Punisher"
          ],
          [
           "Winchester"
          ],
          [
           "The Girl Next Door"
          ],
          [
           "I Am Number Four"
          ],
          [
           "Zero Dark Thirty"
          ],
          [
           "Game Night"
          ],
          [
           "Hostel"
          ],
          [
           "The Rundown"
          ],
          [
           "Sex and the City"
          ],
          [
           "True Lies"
          ],
          [
           "Blackhat"
          ],
          [
           "The Greatest Showman"
          ],
          [
           "Chronicle"
          ],
          [
           "Chicken Run"
          ],
          [
           "xXx: State of the Union"
          ],
          [
           "No Country for Old Men"
          ],
          [
           "Braveheart"
          ],
          [
           "Cloverfield"
          ],
          [
           "Missing Link"
          ],
          [
           "The Mummy Returns"
          ],
          [
           "Looper"
          ],
          [
           "Top Gun"
          ],
          [
           "Fantastic Four"
          ],
          [
           "The Expendables 2"
          ],
          [
           "The Aristocats"
          ],
          [
           "The Choice"
          ],
          [
           "Battle: Los Angeles"
          ],
          [
           "Clash of the Titans"
          ],
          [
           "Blade: Trinity"
          ],
          [
           "The Mortal Instruments: City of Bones"
          ],
          [
           "Predators"
          ],
          [
           "Addams Family Values"
          ],
          [
           "Escape Room"
          ],
          [
           "Little"
          ],
          [
           "The Godfather: Part III"
          ],
          [
           "White House Down"
          ],
          [
           "This Is the End"
          ],
          [
           "Lone Survivor"
          ],
          [
           "Scott Pilgrim vs. the World"
          ],
          [
           "Pain & Gain"
          ],
          [
           "The Mummy"
          ],
          [
           "Life Is Beautiful"
          ],
          [
           "The Mist"
          ],
          [
           "Lady Bird"
          ],
          [
           "Peter Pan"
          ],
          [
           "50 First Dates"
          ],
          [
           "Selena"
          ],
          [
           "Silent Hill: Revelation 3D"
          ],
          [
           "The Interview"
          ],
          [
           "Twelve Monkeys"
          ],
          [
           "Jeepers Creepers 2"
          ],
          [
           "Replicas"
          ],
          [
           "Deepwater Horizon"
          ],
          [
           "Batman Forever"
          ],
          [
           "The Man with the Iron Heart"
          ],
          [
           "Only the Brave"
          ],
          [
           "Eragon"
          ],
          [
           "Rings"
          ],
          [
           "The Lego Batman Movie"
          ],
          [
           "Rush Hour"
          ],
          [
           "Forever My Girl"
          ],
          [
           "Gravity"
          ],
          [
           "Max Steel"
          ],
          [
           "The Huntsman: Winter's War"
          ],
          [
           "The Ten Commandments"
          ],
          [
           "Insidious: Chapter 3"
          ],
          [
           "Free Birds"
          ],
          [
           "Robin Hood"
          ],
          [
           "Lion"
          ],
          [
           "Star Wars: The Clone Wars"
          ],
          [
           "Us"
          ],
          [
           "The Cabin in the Woods"
          ],
          [
           "A Wrinkle in Time"
          ],
          [
           "The Muppets"
          ],
          [
           "Speed"
          ],
          [
           "The Pianist"
          ],
          [
           "Early Man"
          ],
          [
           "Volcano"
          ],
          [
           "Blue Is the Warmest Color"
          ],
          [
           "RED 2"
          ],
          [
           "The Neon Demon"
          ],
          [
           "The Handmaiden"
          ],
          [
           "Warrior"
          ],
          [
           "Hotel Artemis"
          ],
          [
           "Machete"
          ],
          [
           "Star Wars: Episode II - Attack of the Clones"
          ],
          [
           "Downsizing"
          ],
          [
           "Ghostbusters"
          ],
          [
           "Men in Black II"
          ],
          [
           "The Legend of Tarzan"
          ],
          [
           "Rear Window"
          ],
          [
           "Anastasia"
          ],
          [
           "Fighting with My Family"
          ],
          [
           "I, Robot"
          ],
          [
           "Hachi: A Dog's Tale"
          ],
          [
           "Cats & Dogs"
          ],
          [
           "That's My Boy"
          ],
          [
           "Cast Away"
          ],
          [
           "The Kid Who Would Be King"
          ],
          [
           "The Vow"
          ],
          [
           "Batman Returns"
          ],
          [
           "Jack Reacher"
          ],
          [
           "Herbie Fully Loaded"
          ],
          [
           "GoldenEye"
          ],
          [
           "Gone in Sixty Seconds"
          ],
          [
           "Cars"
          ],
          [
           "We Are Your Friends"
          ],
          [
           "Ponyo"
          ],
          [
           "The BFG"
          ],
          [
           "The Intouchables"
          ],
          [
           "House of Wax"
          ],
          [
           "Godzilla"
          ],
          [
           "Ocean's Twelve"
          ],
          [
           "Evan Almighty"
          ],
          [
           "Jumper"
          ],
          [
           "Oblivion"
          ],
          [
           "Die Hard"
          ],
          [
           "Upgrade"
          ],
          [
           "The Perks of Being a Wallflower"
          ],
          [
           "Brokeback Mountain"
          ],
          [
           "Ocean's Thirteen"
          ],
          [
           "Ex Machina"
          ],
          [
           "The Emperor's New Groove"
          ],
          [
           "Straight Outta Compton"
          ],
          [
           "Mars Needs Moms"
          ],
          [
           "Flash Gordon"
          ],
          [
           "Peter Pan"
          ],
          [
           "Gremlins"
          ],
          [
           "Die Hard: With a Vengeance"
          ],
          [
           "City of God"
          ],
          [
           "BlacKkKlansman"
          ],
          [
           "Huevos: Little Rooster's Egg-Cellent Adventure"
          ],
          [
           "The Expendables"
          ],
          [
           "Under the Skin"
          ],
          [
           "The Chronicles of Narnia: The Voyage of the Dawn Treader"
          ],
          [
           "Man on Fire"
          ],
          [
           "Indiana Jones and the Temple of Doom"
          ],
          [
           "No Strings Attached"
          ],
          [
           "A Simple Favor"
          ],
          [
           "We're the Millers"
          ],
          [
           "Creepshow"
          ],
          [
           "Prisoners"
          ],
          [
           "I Can Only Imagine"
          ],
          [
           "Acts of Vengeance"
          ],
          [
           "Blade II"
          ],
          [
           "Fantasia"
          ],
          [
           "Unbroken"
          ],
          [
           "The Lords of Salem"
          ],
          [
           "You Don't Mess with the Zohan"
          ],
          [
           "Shooter"
          ],
          [
           "Identity"
          ],
          [
           "Hulk"
          ],
          [
           "Epic"
          ],
          [
           "Eternal Sunshine of the Spotless Mind"
          ],
          [
           "The Man from U.N.C.L.E."
          ],
          [
           "A Christmas Carol"
          ],
          [
           "American Made"
          ],
          [
           "Independence Day"
          ],
          [
           "Predestination"
          ],
          [
           "The Truman Show"
          ],
          [
           "The Goonies"
          ],
          [
           "Hugo"
          ],
          [
           "V for Vendetta"
          ],
          [
           "Silence"
          ],
          [
           "The Craft"
          ],
          [
           "[REC]⁴ Apocalypse"
          ],
          [
           "Sinister"
          ],
          [
           "Rush Hour 2"
          ],
          [
           "Star Wars: Episode I - The Phantom Menace"
          ],
          [
           "RoboCop"
          ],
          [
           "Step Up Revolution"
          ],
          [
           "Left Behind"
          ],
          [
           "Pan's Labyrinth"
          ],
          [
           "Beautiful Boy"
          ],
          [
           "The Jungle Book"
          ],
          [
           "Unfriended: Dark Web"
          ],
          [
           "Rocky V"
          ],
          [
           "Shoot 'Em Up"
          ],
          [
           "10 Things I Hate About You"
          ],
          [
           "Unleashed"
          ],
          [
           "The Fighter"
          ],
          [
           "Rosemary's Baby"
          ],
          [
           "The Vatican Tapes"
          ],
          [
           "American Assassin"
          ],
          [
           "The Drop"
          ],
          [
           "Woodlawn"
          ],
          [
           "Zathura: A Space Adventure"
          ],
          [
           "Rocketman"
          ],
          [
           "Riddick"
          ],
          [
           "Indiana Jones and the Last Crusade"
          ],
          [
           "Outcast"
          ],
          [
           "Air Force One"
          ],
          [
           "Pet Sematary"
          ],
          [
           "Dawn of the Dead"
          ],
          [
           "Night School"
          ],
          [
           "Assassin's Creed"
          ],
          [
           "Kubo and the Two Strings"
          ],
          [
           "A Clockwork Orange"
          ],
          [
           "Leprechaun 2"
          ],
          [
           "Seeking Justice"
          ],
          [
           "12 Angry Men"
          ],
          [
           "Sex and the City 2"
          ],
          [
           "The Boy in the Striped Pyjamas"
          ],
          [
           "Treasure Planet"
          ],
          [
           "The Town"
          ],
          [
           "Tears of the Sun"
          ],
          [
           "The Humanity Bureau"
          ],
          [
           "A Nightmare on Elm Street Part 2: Freddy's Revenge"
          ],
          [
           "The Game Plan"
          ],
          [
           "The Usual Suspects"
          ],
          [
           "Deep Impact"
          ],
          [
           "Clueless"
          ],
          [
           "Halloween: Resurrection"
          ],
          [
           "Willy Wonka & the Chocolate Factory"
          ],
          [
           "Allied"
          ],
          [
           "Memento"
          ],
          [
           "Monsters vs Aliens"
          ],
          [
           "King Arthur"
          ],
          [
           "From Dusk Till Dawn"
          ],
          [
           "Meet Joe Black"
          ],
          [
           "Father There Is Only One"
          ],
          [
           "The Bourne Ultimatum"
          ],
          [
           "Mars Attacks!"
          ],
          [
           "Zack and Miri Make a Porno"
          ],
          [
           "Limitless"
          ],
          [
           "Return of the Jedi"
          ],
          [
           "Amélie"
          ],
          [
           "Dracula Untold"
          ],
          [
           "War"
          ],
          [
           "Pitch Perfect 3"
          ],
          [
           "Non-Stop"
          ],
          [
           "Prince of Persia: The Sands of Time"
          ],
          [
           "The Number 23"
          ],
          [
           "The Day the Earth Stood Still"
          ],
          [
           "The Curious Case of Benjamin Button"
          ],
          [
           "Oculus"
          ],
          [
           "The Smurfs 2"
          ],
          [
           "Tad the Lost Explorer and the Secret of King Midas"
          ],
          [
           "Transporter 3"
          ],
          [
           "Kingdom of Heaven"
          ],
          [
           "The Messengers"
          ],
          [
           "Die Hard 2"
          ],
          [
           "Lovelace"
          ],
          [
           "Going in Style"
          ],
          [
           "Nausicaä of the Valley of the Wind"
          ],
          [
           "Mad Max 2"
          ],
          [
           "Crazy, Stupid, Love."
          ],
          [
           "Reservoir Dogs"
          ],
          [
           "The Collector"
          ],
          [
           "Snow White and the Huntsman"
          ],
          [
           "Blood Diamond"
          ],
          [
           "Poltergeist"
          ],
          [
           "Sherlock Gnomes"
          ],
          [
           "Conan the Barbarian"
          ],
          [
           "Step Up 3D"
          ],
          [
           "The Sixth Sense"
          ],
          [
           "Mortal Kombat: Annihilation"
          ],
          [
           "Drive Angry"
          ],
          [
           "Antz"
          ],
          [
           "Breaking In"
          ],
          [
           "The Deer Hunter"
          ],
          [
           "30 Days of Night"
          ],
          [
           "Highlander"
          ],
          [
           "The Ring Two"
          ],
          [
           "Crank: High Voltage"
          ],
          [
           "God's Not Dead"
          ],
          [
           "Con Air"
          ],
          [
           "Jason Bourne"
          ],
          [
           "Neighbors"
          ],
          [
           "[REC]"
          ],
          [
           "Mission: Impossible II"
          ],
          [
           "Hellraiser"
          ],
          [
           "Paper Towns"
          ],
          [
           "Anaconda"
          ],
          [
           "The Adventures of Sharkboy and Lavagirl"
          ],
          [
           "Blockers"
          ],
          [
           "Star Wars: Episode III - Revenge of the Sith"
          ],
          [
           "The Fountain"
          ],
          [
           "Sin City: A Dame to Kill For"
          ],
          [
           "The Strangers"
          ],
          [
           "Project Almanac"
          ],
          [
           "Instant Family"
          ],
          [
           "I, Tonya"
          ],
          [
           "47 Meters Down"
          ],
          [
           "Superman"
          ],
          [
           "Patriot Games"
          ],
          [
           "G.I. Joe: The Rise of Cobra"
          ],
          [
           "Shame"
          ],
          [
           "Gangs of New York"
          ],
          [
           "House of 1000 Corpses"
          ],
          [
           "Demolition"
          ],
          [
           "American History X"
          ],
          [
           "Austin Powers in Goldmember"
          ],
          [
           "Flipped"
          ],
          [
           "Black Swan"
          ],
          [
           "TRON: Legacy"
          ],
          [
           "Scream 4"
          ],
          [
           "Mad Max"
          ],
          [
           "E.T. the Extra-Terrestrial"
          ],
          [
           "Point Break"
          ],
          [
           "Me, Myself & Irene"
          ],
          [
           "Tomorrow Never Dies"
          ],
          [
           "28 Weeks Later"
          ],
          [
           "A Cinderella Story"
          ],
          [
           "Horrible Bosses 2"
          ],
          [
           "Lady and the Tramp"
          ],
          [
           "The Girl in the Spider's Web"
          ],
          [
           "Unforgiven"
          ],
          [
           "Donnie Darko"
          ],
          [
           "Universal Soldier: Day of Reckoning"
          ],
          [
           "The Spy Who Dumped Me"
          ],
          [
           "17 Again"
          ],
          [
           "The Call"
          ],
          [
           "The Warriors"
          ],
          [
           "Rocky Balboa"
          ],
          [
           "Night at the Museum: Battle of the Smithsonian"
          ],
          [
           "The Prince of Egypt"
          ],
          [
           "The Mummy: Tomb of the Dragon Emperor"
          ],
          [
           "Sully"
          ],
          [
           "mother!"
          ],
          [
           "Daddy's Home"
          ],
          [
           "After Earth"
          ],
          [
           "Pride and Prejudice and Zombies"
          ],
          [
           "Epic Movie"
          ],
          [
           "Rock Dog"
          ],
          [
           "Open Season"
          ],
          [
           "The American"
          ],
          [
           "The Iceman"
          ],
          [
           "Gnomeo & Juliet"
          ],
          [
           "Martyrs"
          ],
          [
           "The Patriot"
          ],
          [
           "Underworld: Awakening"
          ],
          [
           "La La Land"
          ],
          [
           "Turbo"
          ],
          [
           "The Theory of Everything"
          ],
          [
           "The Boy"
          ],
          [
           "Mrs. Doubtfire"
          ],
          [
           "10,000 BC"
          ],
          [
           "The Princess Diaries 2: Royal Engagement"
          ],
          [
           "Ouija: Origin of Evil"
          ],
          [
           "21 Jump Street"
          ],
          [
           "Hannah Montana: The Movie"
          ],
          [
           "22 Jump Street"
          ],
          [
           "Youth"
          ],
          [
           "21"
          ],
          [
           "The Last Samurai"
          ],
          [
           "Knocked Up"
          ],
          [
           "Big Trouble in Little China"
          ],
          [
           "American Psycho"
          ],
          [
           "Taxi"
          ],
          [
           "The Grand Budapest Hotel"
          ],
          [
           "The Blair Witch Project"
          ],
          [
           "Evil Dead II"
          ],
          [
           "Sweet November"
          ],
          [
           "The Black Cauldron"
          ],
          [
           "How to Lose a Guy in 10 Days"
          ],
          [
           "The Crazies"
          ],
          [
           "Starship Troopers"
          ],
          [
           "Skiptrace"
          ],
          [
           "The November Man"
          ],
          [
           "Agent Cody Banks"
          ],
          [
           "Couples Retreat"
          ],
          [
           "The Spiderwick Chronicles"
          ],
          [
           "The Flintstones"
          ],
          [
           "Hurricane"
          ],
          [
           "Exorcist II: The Heretic"
          ],
          [
           "I Am Sam"
          ],
          [
           "The Pursuit of Happyness"
          ],
          [
           "GoodFellas"
          ],
          [
           "Hitch"
          ],
          [
           "St. Vincent"
          ],
          [
           "The Big Lebowski"
          ],
          [
           "The Gambler"
          ],
          [
           "From Hell"
          ],
          [
           "Rocky II"
          ],
          [
           "Noah"
          ],
          [
           "The Wedding Planner"
          ],
          [
           "Home Alone 3"
          ],
          [
           "Mortal Kombat"
          ],
          [
           "Raw Deal"
          ],
          [
           "Return of the Living Dead Part II"
          ],
          [
           "Signs"
          ],
          [
           "Horrible Bosses"
          ],
          [
           "Kick-Ass"
          ],
          [
           "The Woman in Black"
          ],
          [
           "Kill Bill: Vol. 2"
          ],
          [
           "Beastly"
          ],
          [
           "The Road"
          ],
          [
           "Nanny McPhee and the Big Bang"
          ],
          [
           "Evil Dead"
          ],
          [
           "Aftermath"
          ],
          [
           "Underworld: Rise of the Lycans"
          ],
          [
           "Chloe"
          ],
          [
           "Dr. No"
          ],
          [
           "The World Is Not Enough"
          ],
          [
           "Where the Wild Things Are"
          ],
          [
           "Seven Pounds"
          ],
          [
           "Christine"
          ],
          [
           "Zodiac"
          ],
          [
           "Ace Ventura: Pet Detective"
          ],
          [
           "The Favourite"
          ],
          [
           "Jaws 3-D"
          ],
          [
           "Bāhubali: The Beginning"
          ],
          [
           "The Bodyguard"
          ],
          [
           "The Impossible"
          ],
          [
           "Why Him?"
          ],
          [
           "A Perfect Getaway"
          ],
          [
           "Blair Witch"
          ],
          [
           "Sherrybaby"
          ],
          [
           "Three Billboards Outside Ebbing, Missouri"
          ],
          [
           "Mandela: Long Walk to Freedom"
          ],
          [
           "Charlie's Angels"
          ],
          [
           "Risen"
          ],
          [
           "The Devil Inside"
          ],
          [
           "Supergirl"
          ],
          [
           "Darkest Hour"
          ],
          [
           "Total Recall"
          ],
          [
           "Legends of Oz: Dorothy's Return"
          ],
          [
           "3 Days to Kill"
          ],
          [
           "The Smurfs"
          ],
          [
           "The Hateful Eight"
          ],
          [
           "Cliffhanger"
          ],
          [
           "The Judge"
          ],
          [
           "Tag"
          ],
          [
           "Cradle 2 the Grave"
          ],
          [
           "Sinister 2"
          ],
          [
           "One Day"
          ],
          [
           "The Heartbreak Kid"
          ],
          [
           "The Finest Hours"
          ],
          [
           "Shaun of the Dead"
          ],
          [
           "Perfect Stranger"
          ],
          [
           "Stigmata"
          ],
          [
           "Blood Father"
          ],
          [
           "The Man with the Golden Gun"
          ],
          [
           "Indiana Jones and the Kingdom of the Crystal Skull"
          ],
          [
           "The Bourne Legacy"
          ],
          [
           "Tad, the Lost Explorer"
          ],
          [
           "Gulliver's Travels"
          ],
          [
           "The Recall"
          ],
          [
           "Hereafter"
          ],
          [
           "Queen & Slim"
          ],
          [
           "Night at the Museum"
          ],
          [
           "Safe House"
          ],
          [
           "The Princess Diaries"
          ],
          [
           "Paul Blart: Mall Cop 2"
          ],
          [
           "Home on the Range"
          ],
          [
           "Journey to the Center of the Earth"
          ],
          [
           "Safe"
          ],
          [
           "Pitch Perfect"
          ],
          [
           "Wind River"
          ],
          [
           "Silver Linings Playbook"
          ],
          [
           "Kung Fu Hustle"
          ],
          [
           "Pompeii"
          ],
          [
           "The Son of Bigfoot"
          ],
          [
           "Legally Blonde"
          ],
          [
           "The Adventures of Tintin"
          ],
          [
           "Room"
          ],
          [
           "Minority Report"
          ],
          [
           "Ma"
          ],
          [
           "The Naked Gun: From the Files of Police Squad!"
          ],
          [
           "Hide and Seek"
          ],
          [
           "Season of the Witch"
          ],
          [
           "Lost in Translation"
          ],
          [
           "The Last Airbender"
          ],
          [
           "National Treasure: Book of Secrets"
          ],
          [
           "The Mule"
          ],
          [
           "Demolition Man"
          ],
          [
           "Underworld: Evolution"
          ],
          [
           "Source Code"
          ],
          [
           "Vertigo"
          ],
          [
           "Dune"
          ],
          [
           "Astro Boy"
          ],
          [
           "Commando"
          ],
          [
           "A Thousand Words"
          ],
          [
           "Rocky III"
          ],
          [
           "The Adventurer: The Curse of the Midas Box"
          ],
          [
           "The 15:17 to Paris"
          ],
          [
           "Fantastic Mr. Fox"
          ],
          [
           "Heat"
          ],
          [
           "Platoon"
          ],
          [
           "Hard Target"
          ],
          [
           "Second Act"
          ],
          [
           "The Big Short"
          ],
          [
           "Planet of the Apes"
          ],
          [
           "Her"
          ],
          [
           "The Bourne Supremacy"
          ],
          [
           "The Wedding Singer"
          ],
          [
           "Ninja Assassin"
          ],
          [
           "The Ritual"
          ],
          [
           "My Girl"
          ],
          [
           "I Now Pronounce You Chuck & Larry"
          ],
          [
           "Tremors"
          ],
          [
           "Spy Kids 3-D: Game Over"
          ],
          [
           "Enchanted"
          ],
          [
           "The Great Gatsby"
          ],
          [
           "Not Another Teen Movie"
          ],
          [
           "Richard Jewell"
          ],
          [
           "The Strangers: Prey at Night"
          ],
          [
           "Good Luck Chuck"
          ],
          [
           "25th Hour"
          ],
          [
           "Tolkien"
          ],
          [
           "U-571"
          ],
          [
           "Daredevil"
          ],
          [
           "Suburbicon"
          ],
          [
           "Star Trek: Nemesis"
          ],
          [
           "Crimson Peak"
          ],
          [
           "Virus"
          ],
          [
           "Cake"
          ],
          [
           "The Quest"
          ],
          [
           "The Grudge 2"
          ],
          [
           "Beautiful Creatures"
          ],
          [
           "The Miseducation of Cameron Post"
          ],
          [
           "A Good Day to Die Hard"
          ],
          [
           "The Lone Ranger"
          ],
          [
           "The Descent: Part 2"
          ],
          [
           "Delivery Man"
          ],
          [
           "Species II"
          ],
          [
           "Dark Shadows"
          ],
          [
           "Law Abiding Citizen"
          ],
          [
           "Collide"
          ],
          [
           "Tombstone"
          ],
          [
           "Mr. & Mrs. Smith"
          ],
          [
           "The 6th Day"
          ],
          [
           "Space Jam"
          ],
          [
           "Notting Hill"
          ],
          [
           "Little Man"
          ],
          [
           "Hellboy II: The Golden Army"
          ],
          [
           "Looney Tunes: Back in Action"
          ],
          [
           "Unbreakable"
          ],
          [
           "Enemy at the Gates"
          ],
          [
           "Battle of the Sexes"
          ],
          [
           "Cadillac Records"
          ],
          [
           "Seberg"
          ],
          [
           "The Dictator"
          ],
          [
           "Knowing"
          ],
          [
           "The One"
          ],
          [
           "Burning"
          ],
          [
           "The Wind Rises"
          ],
          [
           "Paranormal Activity 4"
          ],
          [
           "Lights Out"
          ],
          [
           "Collateral"
          ],
          [
           "The Host"
          ],
          [
           "Hot Fuzz"
          ],
          [
           "Life As We Know It"
          ],
          [
           "It's a Wonderful Life"
          ],
          [
           "The Good Doctor"
          ],
          [
           "Triple 9"
          ],
          [
           "Life of the Party"
          ],
          [
           "Half Past Dead"
          ],
          [
           "Aquamarine"
          ],
          [
           "The Omen"
          ],
          [
           "Oldboy"
          ],
          [
           "I Know What You Did Last Summer"
          ],
          [
           "Chicken Little"
          ],
          [
           "The Marine"
          ],
          [
           "Isle of Dogs"
          ],
          [
           "R.I.P.D."
          ],
          [
           "Spy Kids"
          ],
          [
           "Before I Go to Sleep"
          ],
          [
           "Stargate"
          ],
          [
           "Over the Hedge"
          ],
          [
           "School of Rock"
          ],
          [
           "Caligula"
          ],
          [
           "The Descendants"
          ],
          [
           "A Beautiful Day in the Neighborhood"
          ],
          [
           "The Best Is Yet to Come"
          ],
          [
           "Monkey King: Hero Is Back"
          ],
          [
           "The Woman in Black 2: Angel of Death"
          ],
          [
           "Bachelor Party"
          ],
          [
           "Maggie"
          ],
          [
           "Big Fish"
          ],
          [
           "Sphere"
          ],
          [
           "Dumb and Dumber"
          ],
          [
           "Face/Off"
          ],
          [
           "Moonlight"
          ],
          [
           "Nacho Libre"
          ],
          [
           "Original Sin"
          ],
          [
           "J. Edgar"
          ],
          [
           "The Hurt Locker"
          ],
          [
           "Machete Kills"
          ],
          [
           "The Grandmaster"
          ],
          [
           "The Wailing"
          ],
          [
           "King Kong"
          ],
          [
           "Mary Poppins"
          ],
          [
           "Cruel Intentions"
          ],
          [
           "Step Up"
          ],
          [
           "Agora"
          ],
          [
           "Children of Men"
          ],
          [
           "Ali"
          ],
          [
           "Diary of a Wimpy Kid: The Long Haul"
          ],
          [
           "U.S. Marshals"
          ],
          [
           "Deep Rising"
          ],
          [
           "Luther"
          ],
          [
           "AVP: Alien vs. Predator"
          ],
          [
           "Sex Drive"
          ],
          [
           "Dead Trigger"
          ],
          [
           "Street Kings"
          ],
          [
           "Practical Magic"
          ],
          [
           "Knight and Day"
          ],
          [
           "Legally Blonde 2: Red, White & Blonde"
          ],
          [
           "Moonrise Kingdom"
          ],
          [
           "Borat: Cultural Learnings of America for Make Benefit Glorious Nation of Kazakhstan"
          ],
          [
           "Double Impact"
          ],
          [
           "9 Songs"
          ],
          [
           "P.S. I Love You"
          ],
          [
           "Ultraviolet"
          ],
          [
           "Acrimony"
          ],
          [
           "Colombiana"
          ],
          [
           "The Bad Batch"
          ],
          [
           "Blue Jasmine"
          ],
          [
           "The Thin Red Line"
          ],
          [
           "Empire State"
          ],
          [
           "Moana"
          ],
          [
           "Safe Haven"
          ],
          [
           "Entourage"
          ],
          [
           "Johnny English Reborn"
          ],
          [
           "The Time Machine"
          ],
          [
           "The Rock"
          ],
          [
           "Spring Breakers"
          ],
          [
           "Æon Flux"
          ],
          [
           "The Italian Job"
          ],
          [
           "Ong Bak: Muay Thai Warrior"
          ],
          [
           "American Hustle"
          ],
          [
           "Home Again"
          ],
          [
           "War Dogs"
          ],
          [
           "The Order"
          ],
          [
           "Spy"
          ],
          [
           "Liar Liar"
          ],
          [
           "Flushed Away"
          ],
          [
           "13 Going on 30"
          ],
          [
           "Click"
          ],
          [
           "The Babadook"
          ],
          [
           "Judge Dredd"
          ],
          [
           "Snake Eyes"
          ],
          [
           "Doomsday"
          ],
          [
           "Hidden Figures"
          ],
          [
           "The Texas Chain Saw Massacre"
          ],
          [
           "Happy Feet"
          ],
          [
           "Virgin Territory"
          ],
          [
           "Spy Kids 2: The Island of Lost Dreams"
          ],
          [
           "The Bourne Identity"
          ],
          [
           "Death Sentence"
          ],
          [
           "See No Evil"
          ],
          [
           "The Spectacular Now"
          ],
          [
           "Paddington"
          ],
          [
           "The Girl with the Dragon Tattoo"
          ],
          [
           "Bad Times at the El Royale"
          ],
          [
           "Captain Phillips"
          ],
          [
           "Lockout"
          ],
          [
           "The Possession of Hannah Grace"
          ],
          [
           "Lawrence of Arabia"
          ],
          [
           "Justice League: The New Frontier"
          ],
          [
           "End of Watch"
          ],
          [
           "Vacation"
          ],
          [
           "Hidalgo"
          ],
          [
           "Sabotage"
          ],
          [
           "The Crow"
          ],
          [
           "Drive"
          ],
          [
           "Mortdecai"
          ],
          [
           "Ninja"
          ],
          [
           "Private Lessons"
          ],
          [
           "Conan the Destroyer"
          ],
          [
           "Lara Croft: Tomb Raider"
          ],
          [
           "The Heat"
          ],
          [
           "50/50"
          ],
          [
           "Remember the Titans"
          ],
          [
           "The Pirates! In an Adventure with Scientists!"
          ],
          [
           "The Happening"
          ],
          [
           "Momentum"
          ],
          [
           "Gothika"
          ],
          [
           "The Da Vinci Code"
          ],
          [
           "Romeo Must Die"
          ],
          [
           "Killer Elite"
          ],
          [
           "Big Momma's House"
          ],
          [
           "Slender Man"
          ],
          [
           "Third Person"
          ],
          [
           "Big Momma's House 2"
          ],
          [
           "The Fly"
          ],
          [
           "Edge of Darkness"
          ],
          [
           "Robin Hood"
          ],
          [
           "Passengers"
          ],
          [
           "Tower Heist"
          ],
          [
           "Dr. Strangelove or: How I Learned to Stop Worrying and Love the Bomb"
          ],
          [
           "The Tree of Life"
          ],
          [
           "Romeo + Juliet"
          ],
          [
           "Dragged Across Concrete"
          ],
          [
           "The Rescuers"
          ],
          [
           "The Messenger: The Story of Joan of Arc"
          ],
          [
           "All Eyez on Me"
          ],
          [
           "Suspiria"
          ],
          [
           "Dark Skies"
          ],
          [
           "12 Years a Slave"
          ],
          [
           "EverAfter"
          ],
          [
           "Metropolis"
          ],
          [
           "Pay It Forward"
          ],
          [
           "Lethal Weapon 2"
          ],
          [
           "Super 8"
          ],
          [
           "The Visit"
          ],
          [
           "Oldboy"
          ],
          [
           "New in Town"
          ],
          [
           "S.W.A.T."
          ],
          [
           "Reign of Fire"
          ],
          [
           "Parker"
          ],
          [
           "Stomp the Yard"
          ],
          [
           "Into the Storm"
          ],
          [
           "Metallica: Through the Never"
          ],
          [
           "The Three Stooges"
          ],
          [
           "Bloodsport"
          ],
          [
           "Desperado"
          ],
          [
           "Killers"
          ],
          [
           "Free State of Jones"
          ],
          [
           "Nurse 3-D"
          ],
          [
           "A Knight's Tale"
          ],
          [
           "The Core"
          ],
          [
           "The Bye Bye Man"
          ],
          [
           "Total Recall"
          ],
          [
           "Murder on the Orient Express"
          ],
          [
           "The Cat in the Hat"
          ],
          [
           "Fire with Fire"
          ],
          [
           "Some Like It Hot"
          ],
          [
           "Escape to Victory"
          ],
          [
           "The Fox and the Hound"
          ],
          [
           "Starsky & Hutch"
          ],
          [
           "Shanghai Noon"
          ],
          [
           "Hearts Beat Loud"
          ],
          [
           "The Fourth Kind"
          ],
          [
           "Training Day"
          ],
          [
           "Monte Carlo"
          ],
          [
           "Boo 2! A Madea Halloween"
          ],
          [
           "Paranormal Activity 2"
          ],
          [
           "The Sorcerer's Apprentice"
          ],
          [
           "Street Fighter"
          ],
          [
           "Deep Blue Sea"
          ],
          [
           "Into the Woods"
          ],
          [
           "The Other Woman"
          ],
          [
           "Shaolin Soccer"
          ],
          [
           "The Faculty"
          ],
          [
           "Grimsby"
          ],
          [
           "Spy Kids: All the Time in the World"
          ],
          [
           "Spider-Man 2"
          ],
          [
           "The Next Karate Kid"
          ],
          [
           "Heaven Is for Real"
          ],
          [
           "The Legend of Drunken Master"
          ],
          [
           "Death Race"
          ],
          [
           "Doom"
          ],
          [
           "Waterworld"
          ],
          [
           "Precious Cargo"
          ],
          [
           "The Scorpion King"
          ],
          [
           "Raw"
          ],
          [
           "Igor"
          ],
          [
           "Stuart Little 2"
          ],
          [
           "The Mermaid"
          ],
          [
           "The Devil's Advocate"
          ],
          [
           "The Man in the Iron Mask"
          ],
          [
           "The Rugrats Movie"
          ],
          [
           "The Butterfly Effect"
          ],
          [
           "Beowulf"
          ],
          [
           "Kiss of the Dragon"
          ],
          [
           "Good Will Hunting"
          ],
          [
           "Trapped"
          ],
          [
           "Underdogs"
          ],
          [
           "The Legend of Zorro"
          ],
          [
           "Mimic"
          ],
          [
           "Pandorum"
          ],
          [
           "Dredd"
          ],
          [
           "Paranormal Activity: The Ghost Dimension"
          ],
          [
           "Yes Man"
          ],
          [
           "Dream House"
          ],
          [
           "Juno"
          ],
          [
           "Phantom Thread"
          ],
          [
           "Due Date"
          ],
          [
           "13 Assassins"
          ],
          [
           "The Forbidden Kingdom"
          ],
          [
           "Angels & Demons"
          ],
          [
           "Meet the Blacks"
          ],
          [
           "Love Actually"
          ],
          [
           "Year One"
          ],
          [
           "Jackass Presents: Bad Grandpa"
          ],
          [
           "Holmes & Watson"
          ],
          [
           "Piranha 3DD"
          ],
          [
           "Argo"
          ],
          [
           "1408"
          ],
          [
           "Disclosure"
          ],
          [
           "Pete's Dragon"
          ],
          [
           "Priest"
          ],
          [
           "Vice"
          ],
          [
           "Cobra"
          ],
          [
           "The Space Between Us"
          ],
          [
           "Inferno"
          ],
          [
           "The Lost Boys"
          ],
          [
           "Poseidon"
          ],
          [
           "The Snowman"
          ],
          [
           "Fortress"
          ],
          [
           "Dallas Buyers Club"
          ],
          [
           "Oz the Great and Powerful"
          ],
          [
           "Molly's Game"
          ],
          [
           "Leap Year"
          ],
          [
           "The Haunting"
          ],
          [
           "Déjà Vu"
          ],
          [
           "Mr. Bean's Holiday"
          ],
          [
           "The Mechanic"
          ],
          [
           "The Possession"
          ],
          [
           "Dead Poets Society"
          ],
          [
           "Patch Adams"
          ],
          [
           "The Color Purple"
          ],
          [
           "Maleficent: Mistress of Evil"
          ],
          [
           "Toy Story 4"
          ],
          [
           "Terminator: Dark Fate"
          ],
          [
           "The Secret Life of Pets 2"
          ],
          [
           "The Angry Birds Movie 2"
          ],
          [
           "Underwater"
          ],
          [
           "Alita: Battle Angel"
          ],
          [
           "Men in Black: International"
          ],
          [
           "The Avengers"
          ],
          [
           "Sing"
          ],
          [
           "Harry Potter and the Order of the Phoenix"
          ],
          [
           "American Pie Presents: The Naked Mile"
          ],
          [
           "Robin Hood"
          ],
          [
           "Pirates of the Caribbean: On Stranger Tides"
          ],
          [
           "Brian Banks"
          ],
          [
           "Spirit: Stallion of the Cimarron"
          ],
          [
           "Snowpiercer"
          ],
          [
           "Aloha"
          ],
          [
           "Krampus"
          ],
          [
           "Honey"
          ],
          [
           "Late Night"
          ],
          [
           "The Running Man"
          ],
          [
           "Pearl Harbor"
          ],
          [
           "Still Alice"
          ],
          [
           "Along Came a Spider"
          ],
          [
           "Deception"
          ],
          [
           "Snatch"
          ],
          [
           "Sleepwalkers"
          ],
          [
           "Machine Gun Preacher"
          ],
          [
           "Deuce Bigalow: European Gigolo"
          ],
          [
           "Inherent Vice"
          ],
          [
           "Les Misérables"
          ],
          [
           "A.I. Artificial Intelligence"
          ],
          [
           "Bridget Jones's Diary"
          ],
          [
           "Secret Window"
          ],
          [
           "Little Women"
          ],
          [
           "Flight"
          ],
          [
           "Naked Gun 33⅓: The Final Insult"
          ],
          [
           "A Nightmare on Elm Street: The Dream Child"
          ],
          [
           "In the Heart of the Sea"
          ],
          [
           "Ronin"
          ],
          [
           "Brick Mansions"
          ],
          [
           "Get Hard"
          ],
          [
           "Catwoman"
          ],
          [
           "Yu-Gi-Oh! The Movie"
          ],
          [
           "Torque"
          ],
          [
           "Movie 43"
          ],
          [
           "The Boxtrolls"
          ],
          [
           "Jackass 3D"
          ],
          [
           "Spotlight"
          ],
          [
           "Immortals"
          ],
          [
           "Eden Lake"
          ],
          [
           "The Shallows"
          ],
          [
           "Jaws: The Revenge"
          ],
          [
           "The Girl on the Train"
          ],
          [
           "Turner & Hooch"
          ],
          [
           "Jacob's Ladder"
          ],
          [
           "Friday"
          ],
          [
           "Sucker Punch"
          ],
          [
           "Unknown"
          ],
          [
           "Nocturnal Animals"
          ],
          [
           "Big Mommas: Like Father, Like Son"
          ],
          [
           "Devil's Due"
          ],
          [
           "Hall Pass"
          ],
          [
           "Sky High"
          ],
          [
           "The Last House on the Left"
          ],
          [
           "Bullet to the Head"
          ],
          [
           "Species"
          ],
          [
           "Sin City"
          ],
          [
           "Easy A"
          ],
          [
           "EuroTrip"
          ],
          [
           "We Were Soldiers"
          ],
          [
           "Everything, Everything"
          ],
          [
           "Lethal Weapon"
          ],
          [
           "The Holiday"
          ],
          [
           "The Counselor"
          ],
          [
           "The Rite"
          ],
          [
           "Unfaithful"
          ],
          [
           "The Mask of Zorro"
          ],
          [
           "Show Dogs"
          ],
          [
           "The Bone Collector"
          ],
          [
           "Shin Godzilla"
          ],
          [
           "The Brothers Grimm"
          ],
          [
           "The Blue Lagoon"
          ],
          [
           "The Hunt for Red October"
          ],
          [
           "The 13th Warrior"
          ],
          [
           "Closer"
          ],
          [
           "Alexander"
          ],
          [
           "High Crimes"
          ],
          [
           "Jurassic Park"
          ],
          [
           "Trainspotting"
          ],
          [
           "Ghost"
          ],
          [
           "Robinson Crusoe: The Wild Life"
          ],
          [
           "The Belko Experiment"
          ],
          [
           "Coming to America"
          ],
          [
           "Thunderball"
          ],
          [
           "Walking Tall"
          ],
          [
           "The Water Horse"
          ],
          [
           "The Hitchhiker's Guide to the Galaxy"
          ],
          [
           "Elektra"
          ],
          [
           "Capernaum"
          ],
          [
           "Gremlins 2: The New Batch"
          ],
          [
           "A View to a Kill"
          ],
          [
           "Panic Room"
          ],
          [
           "Death Note: The Last Name"
          ],
          [
           "Lethal Weapon 3"
          ],
          [
           "Tango & Cash"
          ],
          [
           "A Company Man"
          ],
          [
           "Superman Returns"
          ],
          [
           "48 Hrs."
          ],
          [
           "The Specialist"
          ],
          [
           "Freaky Friday"
          ],
          [
           "Babe: Pig in the City"
          ],
          [
           "Solomon Kane"
          ],
          [
           "Planes"
          ],
          [
           "An American Werewolf in Paris"
          ],
          [
           "Into the Blue"
          ],
          [
           "Cleopatra"
          ],
          [
           "Matilda"
          ],
          [
           "The Invasion"
          ],
          [
           "Boyz n the Hood"
          ],
          [
           "Step Up 2: The Streets"
          ],
          [
           "31"
          ],
          [
           "Brick"
          ],
          [
           "The Eye"
          ],
          [
           "The Help"
          ],
          [
           "The Watch"
          ],
          [
           "Casino"
          ],
          [
           "Cold Mountain"
          ],
          [
           "Dante's Peak"
          ],
          [
           "Mad Max Beyond Thunderdome"
          ],
          [
           "Howard the Duck"
          ],
          [
           "That Awkward Moment"
          ],
          [
           "Jingle All the Way"
          ],
          [
           "Wanted"
          ],
          [
           "Operation Finale"
          ],
          [
           "Octopussy"
          ],
          [
           "Skyline"
          ],
          [
           "Rough Night"
          ],
          [
           "The Omen"
          ],
          [
           "Eraser"
          ],
          [
           "Miss Congeniality"
          ],
          [
           "Mike and Dave Need Wedding Dates"
          ],
          [
           "The X Files: I Want to Believe"
          ],
          [
           "The Lucky One"
          ],
          [
           "Heartbreak Ridge"
          ],
          [
           "Jack Ryan: Shadow Recruit"
          ],
          [
           "Flatliners"
          ],
          [
           "Orca: The Killer Whale"
          ],
          [
           "I Feel Pretty"
          ],
          [
           "The Great Dictator"
          ],
          [
           "He's Just Not That Into You"
          ],
          [
           "The Post"
          ],
          [
           "RED"
          ],
          [
           "The Protector"
          ],
          [
           "Public Enemies"
          ],
          [
           "Poltergeist II: The Other Side"
          ],
          [
           "Broken City"
          ],
          [
           "Death Becomes Her"
          ],
          [
           "Serenity"
          ],
          [
           "Pet Sematary II"
          ],
          [
           "Fargo"
          ],
          [
           "Hero"
          ],
          [
           "Freedom Writers"
          ],
          [
           "Into the Labyrinth"
          ],
          [
           "Along Came Polly"
          ],
          [
           "Winter's Tale"
          ],
          [
           "Mighty Morphin Power Rangers: The Movie"
          ],
          [
           "The Awakening"
          ],
          [
           "The Founder"
          ],
          [
           "Hoodwinked!"
          ],
          [
           "The Sisterhood of the Traveling Pants 2"
          ],
          [
           "Metropolis"
          ],
          [
           "Agent Cody Banks 2: Destination London"
          ],
          [
           "The Lizzie McGuire Movie"
          ],
          [
           "Million Dollar Baby"
          ],
          [
           "Johnny English"
          ],
          [
           "The Illusionist"
          ],
          [
           "Splash"
          ],
          [
           "Dead Calm"
          ],
          [
           "Unfriended"
          ],
          [
           "Sweeney Todd: The Demon Barber of Fleet Street"
          ],
          [
           "The Raid"
          ],
          [
           "The League of Extraordinary Gentlemen"
          ],
          [
           "Fantasia 2000"
          ],
          [
           "The Hate U Give"
          ],
          [
           "Mirrors"
          ],
          [
           "Double Indemnity"
          ],
          [
           "xXx"
          ],
          [
           "Ride Along 2"
          ],
          [
           "The Sitter"
          ],
          [
           "From Paris with Love"
          ],
          [
           "StreetDance 3D"
          ],
          [
           "The Way of the Dragon"
          ],
          [
           "RoboCop 3"
          ],
          [
           "Maverick"
          ],
          [
           "The Three Musketeers"
          ],
          [
           "Mamma Mia! Here We Go Again"
          ],
          [
           "Mr. Holmes"
          ],
          [
           "The Ant Bully"
          ],
          [
           "Gattaca"
          ],
          [
           "Mamma Mia!"
          ],
          [
           "Lolita"
          ],
          [
           "True Romance"
          ],
          [
           "The Wrestler"
          ],
          [
           "Crank"
          ],
          [
           "Percy Jackson: Sea of Monsters"
          ],
          [
           "The Machinist"
          ],
          [
           "The Lookout"
          ],
          [
           "Enemy of the State"
          ],
          [
           "Coyote Ugly"
          ],
          [
           "Vegas Vacation"
          ],
          [
           "Stay Alive"
          ],
          [
           "Turbulence"
          ],
          [
           "On the Basis of Sex"
          ],
          [
           "Last Action Hero"
          ],
          [
           "Trance"
          ],
          [
           "The World's End"
          ],
          [
           "Dear John"
          ],
          [
           "The Book of Eli"
          ],
          [
           "Lethal Weapon 4"
          ],
          [
           "Zoom"
          ],
          [
           "Hellbound: Hellraiser II"
          ],
          [
           "Jonah Hex"
          ],
          [
           "Gamer"
          ],
          [
           "Casablanca"
          ],
          [
           "Memoirs of a Geisha"
          ],
          [
           "Osmosis Jones"
          ],
          [
           "Cop Out"
          ],
          [
           "Manchester by the Sea"
          ],
          [
           "Roman J. Israel, Esq."
          ],
          [
           "Eight Legged Freaks"
          ],
          [
           "Moonwalker"
          ],
          [
           "The Beguiled"
          ],
          [
           "Dracula 2000"
          ],
          [
           "The Last Castle"
          ],
          [
           "Conan the Barbarian"
          ],
          [
           "Memories of Murder"
          ],
          [
           "From Russia with Love"
          ],
          [
           "Mr. Popper's Penguins"
          ],
          [
           "Double Jeopardy"
          ],
          [
           "Magic Mike XXL"
          ],
          [
           "Vacancy"
          ],
          [
           "Office Space"
          ],
          [
           "K-19: The Widowmaker"
          ],
          [
           "Beverly Hills Cop"
          ],
          [
           "Wedding Crashers"
          ],
          [
           "Beneath the Planet of the Apes"
          ],
          [
           "American Ultra"
          ],
          [
           "Captain Fantastic"
          ],
          [
           "Grease"
          ],
          [
           "Crazy Heart"
          ],
          [
           "Secret in Their Eyes"
          ],
          [
           "Let Me In"
          ],
          [
           "Deuce Bigalow: Male Gigolo"
          ],
          [
           "Once Upon a Time in Mexico"
          ],
          [
           "Walk of Shame"
          ],
          [
           "They Live"
          ],
          [
           "Cheaper by the Dozen"
          ],
          [
           "Once Upon a Time in America"
          ],
          [
           "Assault on Precinct 13"
          ],
          [
           "Moneyball"
          ],
          [
           "Robots"
          ],
          [
           "Blast from the Past"
          ],
          [
           "Passengers"
          ],
          [
           "Wild at Heart"
          ],
          [
           "Charlie's Angels: Full Throttle"
          ],
          [
           "The Ottoman Lieutenant"
          ],
          [
           "DragonHeart"
          ],
          [
           "Rebecca"
          ],
          [
           "The Reader"
          ],
          [
           "Ride Along"
          ],
          [
           "Remember Me"
          ],
          [
           "Rush"
          ],
          [
           "Mr. Nobody"
          ],
          [
           "The Legend of Bagger Vance"
          ],
          [
           "Universal Soldier: The Return"
          ],
          [
           "Tropic Thunder"
          ],
          [
           "Tooth Fairy"
          ],
          [
           "The Pyramid"
          ],
          [
           "Whatever Works"
          ],
          [
           "Red Dawn"
          ],
          [
           "Moon"
          ],
          [
           "Happy Feet Two"
          ],
          [
           "Sudden Death"
          ],
          [
           "The Kingdom"
          ],
          [
           "Instructions Not Included"
          ],
          [
           "Wish Upon"
          ],
          [
           "Valentine's Day"
          ],
          [
           "Hearts in Atlantis"
          ],
          [
           "The Count of Monte Cristo"
          ],
          [
           "Kickboxer"
          ],
          [
           "Triangle"
          ],
          [
           "The Birds"
          ],
          [
           "The Tourist"
          ],
          [
           "The Terminal"
          ],
          [
           "12 Rounds"
          ],
          [
           "End of Days"
          ],
          [
           "John Tucker Must Die"
          ],
          [
           "Miss Sloane"
          ],
          [
           "The Little Vampire"
          ],
          [
           "The Words"
          ],
          [
           "The Golden Compass"
          ],
          [
           "The Walk"
          ],
          [
           "The Grudge 3"
          ],
          [
           "Twin Peaks: Fire Walk with Me"
          ],
          [
           "Unstoppable"
          ],
          [
           "Charlie St. Cloud"
          ],
          [
           "Hot Shots!"
          ],
          [
           "Planet 51"
          ],
          [
           "Children of the Corn II: The Final Sacrifice"
          ],
          [
           "Beverly Hills Chihuahua"
          ],
          [
           "Last Vegas"
          ],
          [
           "War Horse"
          ],
          [
           "Rounders"
          ],
          [
           "Star Trek: The Motion Picture"
          ],
          [
           "Burlesque"
          ],
          [
           "Wolf Creek"
          ],
          [
           "Hoodwinked Too! Hood VS. Evil"
          ],
          [
           "Ken Park"
          ],
          [
           "The Wave"
          ],
          [
           "Diamonds Are Forever"
          ],
          [
           "Repo Man"
          ],
          [
           "Licence to Kill"
          ],
          [
           "Drumline"
          ],
          [
           "Hardcore Henry"
          ],
          [
           "Tusk"
          ],
          [
           "Dances with Wolves"
          ],
          [
           "On Deadly Ground"
          ],
          [
           "Dawn of the Dead"
          ],
          [
           "Nobody's Fool"
          ],
          [
           "To Kill a Mockingbird"
          ],
          [
           "Logan Lucky"
          ],
          [
           "The Rocker"
          ],
          [
           "Date Movie"
          ],
          [
           "Porky's"
          ],
          [
           "Man on a Ledge"
          ],
          [
           "What Women Want"
          ],
          [
           "Faster"
          ],
          [
           "mid90s"
          ],
          [
           "16 Blocks"
          ],
          [
           "Overdrive"
          ],
          [
           "Friday After Next"
          ],
          [
           "Lolita"
          ],
          [
           "A Beautiful Mind"
          ],
          [
           "Happy Gilmore"
          ],
          [
           "Bridget Jones's Baby"
          ],
          [
           "Iron Sky"
          ],
          [
           "Hope Springs"
          ],
          [
           "Blue Story"
          ],
          [
           "G.I. Joe: Retaliation"
          ],
          [
           "Citizen Kane"
          ],
          [
           "Bad Teacher"
          ],
          [
           "Incarnate"
          ],
          [
           "Snakes on a Plane"
          ],
          [
           "Seven Samurai"
          ],
          [
           "The Raid 2"
          ],
          [
           "You Only Live Twice"
          ],
          [
           "The Gallows"
          ],
          [
           "Man of Tai Chi"
          ],
          [
           "Dangerous Minds"
          ],
          [
           "The Sword in the Stone"
          ],
          [
           "Kung Fu Jungle"
          ],
          [
           "Live and Let Die"
          ],
          [
           "Midnight in Paris"
          ],
          [
           "Multiplicity"
          ],
          [
           "Critters 2"
          ],
          [
           "A Monster Calls"
          ],
          [
           "Forgetting Sarah Marshall"
          ],
          [
           "Elle"
          ],
          [
           "Slumdog Millionaire"
          ],
          [
           "Scream 3"
          ],
          [
           "Bug"
          ],
          [
           "Event Horizon"
          ],
          [
           "The Pacifier"
          ],
          [
           "Mystic River"
          ],
          [
           "Repo Men"
          ],
          [
           "Ace Ventura: When Nature Calls"
          ],
          [
           "Free Willy"
          ],
          [
           "Universal Soldier: Regeneration"
          ],
          [
           "The Spy Who Loved Me"
          ],
          [
           "Meet the Spartans"
          ],
          [
           "Fun with Dick and Jane"
          ],
          [
           "Mission to Mars"
          ],
          [
           "Sabrina"
          ],
          [
           "Poltergeist III"
          ],
          [
           "Four Weddings and a Funeral"
          ],
          [
           "Take Shelter"
          ],
          [
           "Ratchet & Clank"
          ],
          [
           "Footloose"
          ],
          [
           "Miami Vice"
          ],
          [
           "Area 51"
          ],
          [
           "The Bank Job"
          ],
          [
           "Spartan"
          ],
          [
           "The Frighteners"
          ],
          [
           "What Lies Beneath"
          ],
          [
           "Without a Paddle"
          ],
          [
           "BloodRayne"
          ],
          [
           "Eat Pray Love"
          ],
          [
           "Romancing the Stone"
          ],
          [
           "Mr. Magoo"
          ],
          [
           "Confessions of a Dangerous Mind"
          ],
          [
           "Dragon: The Bruce Lee Story"
          ],
          [
           "Edison"
          ],
          [
           "Cube"
          ],
          [
           "Serenity"
          ],
          [
           "Pokémon: The First Movie - Mewtwo Strikes Back"
          ],
          [
           "Awake"
          ],
          [
           "Don't Be Afraid of the Dark"
          ],
          [
           "Babe"
          ],
          [
           "Pathfinder"
          ],
          [
           "The Haunted Mansion"
          ],
          [
           "The House of Magic"
          ],
          [
           "Zoolander 2"
          ],
          [
           "The Fugitive"
          ],
          [
           "The Eagle"
          ],
          [
           "Short Circuit 2"
          ],
          [
           "Marley & Me"
          ],
          [
           "Chinatown"
          ],
          [
           "Batman: Most Wanted"
          ],
          [
           "The Other Guys"
          ],
          [
           "Biker Boyz"
          ],
          [
           "CHiPS"
          ],
          [
           "The Apparition"
          ],
          [
           "The Girl with the Dragon Tattoo"
          ],
          [
           "Texas Chainsaw Massacre: The Next Generation"
          ],
          [
           "Can't Buy Me Love"
          ],
          [
           "Next of Kin"
          ],
          [
           "The Waterboy"
          ],
          [
           "A Cure for Wellness"
          ],
          [
           "The Rocky Horror Picture Show"
          ],
          [
           "It Comes at Night"
          ],
          [
           "Gone with the Wind"
          ],
          [
           "Buffalo '66"
          ],
          [
           "Harold & Kumar Escape from Guantanamo Bay"
          ],
          [
           "Clear and Present Danger"
          ],
          [
           "Keeping Up with the Joneses"
          ],
          [
           "Deliver Us from Evil"
          ],
          [
           "Love & Friendship"
          ],
          [
           "The Break-Up"
          ],
          [
           "Meet the Parents"
          ],
          [
           "Four Brothers"
          ],
          [
           "The Danish Girl"
          ],
          [
           "White Noise"
          ],
          [
           "The Client"
          ],
          [
           "Speed 2: Cruise Control"
          ],
          [
           "Buried"
          ],
          [
           "Black Mass"
          ],
          [
           "Confessions of a Shopaholic"
          ],
          [
           "The Age of Adaline"
          ],
          [
           "The Skeleton Key"
          ],
          [
           "The Disaster Artist"
          ],
          [
           "[REC]³ Genesis"
          ],
          [
           "Little Fockers"
          ],
          [
           "Tinker Tailor Soldier Spy"
          ],
          [
           "Basic Instinct 2"
          ],
          [
           "Austin Powers: The Spy Who Shagged Me"
          ],
          [
           "The Head Hunter"
          ],
          [
           "Nine 1/2 Weeks"
          ],
          [
           "The House Bunny"
          ],
          [
           "The Grey"
          ],
          [
           "The Secret Life of Pets"
          ],
          [
           "Unsane"
          ],
          [
           "The Darkest Hour"
          ],
          [
           "Goldfinger"
          ],
          [
           "Sister Act"
          ],
          [
           "Enemy Mine"
          ],
          [
           "Morgan"
          ],
          [
           "Blow"
          ],
          [
           "The Island"
          ],
          [
           "Inside Man"
          ],
          [
           "Marrowbone"
          ],
          [
           "Death Proof"
          ],
          [
           "We Need to Talk About Kevin"
          ],
          [
           "Father Figures"
          ],
          [
           "World Trade Center"
          ],
          [
           "Marie Antoinette"
          ],
          [
           "State of Play"
          ],
          [
           "Bad Moms"
          ],
          [
           "Jackass: The Movie"
          ],
          [
           "Café Society"
          ],
          [
           "The Animal"
          ],
          [
           "As Good as It Gets"
          ],
          [
           "Behind Enemy Lines"
          ],
          [
           "Assassins"
          ],
          [
           "The Time Traveler's Wife"
          ],
          [
           "Shallow Hal"
          ],
          [
           "Eye for an Eye"
          ],
          [
           "My Bloody Valentine"
          ],
          [
           "30 Minutes or Less"
          ],
          [
           "The Outlaws"
          ],
          [
           "Pokémon: The Movie 2000"
          ],
          [
           "[REC]²"
          ],
          [
           "A Goofy Movie"
          ],
          [
           "Red Tails"
          ],
          [
           "Vertical Limit"
          ],
          [
           "Danny Collins"
          ],
          [
           "Pineapple Express"
          ],
          [
           "TEKKEN"
          ],
          [
           "Be Cool"
          ],
          [
           "Bean"
          ],
          [
           "Turbo: A Power Rangers Movie"
          ],
          [
           "Escobar: Paradise Lost"
          ],
          [
           "A Dangerous Method"
          ],
          [
           "Rock of Ages"
          ],
          [
           "Psycho"
          ],
          [
           "The Florida Project"
          ],
          [
           "Outbreak"
          ],
          [
           "The Frozen Ground"
          ],
          [
           "Ong Bak 2"
          ],
          [
           "The Big Wedding"
          ],
          [
           "Soul Surfer"
          ],
          [
           "Frantic"
          ],
          [
           "The Adventures of Pluto Nash"
          ],
          [
           "Hot Shots! Part Deux"
          ],
          [
           "Swordfish"
          ],
          [
           "Dope"
          ],
          [
           "Hellraiser: Bloodline"
          ],
          [
           "Stand by Me"
          ],
          [
           "Nick and Norah's Infinite Playlist"
          ],
          [
           "Safety Not Guaranteed"
          ],
          [
           "Lucky Number Slevin"
          ],
          [
           "K-9"
          ],
          [
           "Point Break"
          ],
          [
           "Digimon: The Movie"
          ],
          [
           "The Jackal"
          ],
          [
           "Get Rich or Die Tryin'"
          ],
          [
           "Falcon Rising"
          ],
          [
           "Fahrenheit 9/11"
          ],
          [
           "The Young Messiah"
          ],
          [
           "Film Stars Don't Die in Liverpool"
          ],
          [
           "National Lampoon's Vacation"
          ],
          [
           "Heist"
          ],
          [
           "Concussion"
          ],
          [
           "The Avengers"
          ],
          [
           "Ice Princess"
          ],
          [
           "Slither"
          ],
          [
           "How to Be Single"
          ],
          [
           "Elite Squad"
          ],
          [
           "Under Siege"
          ],
          [
           "Just My Luck"
          ],
          [
           "Diary of a Wimpy Kid: Dog Days"
          ],
          [
           "Killer Klowns from Outer Space"
          ],
          [
           "On Her Majesty's Secret Service"
          ],
          [
           "Doctor Dolittle"
          ],
          [
           "Godsend"
          ],
          [
           "Bridge of Spies"
          ],
          [
           "Planes: Fire & Rescue"
          ],
          [
           "Harold & Kumar Go to White Castle"
          ],
          [
           "Legend"
          ],
          [
           "Surrogates"
          ],
          [
           "Thumbelina"
          ],
          [
           "Red Heat"
          ],
          [
           "Rugrats Go Wild"
          ],
          [
           "The Death of Stalin"
          ],
          [
           "The Lobster"
          ],
          [
           "Drop Dead Gorgeous"
          ],
          [
           "Norm of the North"
          ],
          [
           "Live Twice, Love Once"
          ],
          [
           "Drive Me Crazy"
          ],
          [
           "The Man Who Shot Liberty Valance"
          ],
          [
           "Amityville II: The Possession"
          ],
          [
           "A Most Violent Year"
          ],
          [
           "The Blues Brothers"
          ],
          [
           "Jerry Maguire"
          ],
          [
           "Guess Who"
          ],
          [
           "The Sting"
          ],
          [
           "Doubt"
          ],
          [
           "Basic"
          ],
          [
           "Smokin' Aces"
          ],
          [
           "Son of God"
          ],
          [
           "Secretariat"
          ],
          [
           "Brooklyn's Finest"
          ],
          [
           "Lake Placid"
          ],
          [
           "Defiance"
          ],
          [
           "Meet the Fockers"
          ],
          [
           "Pokémon 3: The Movie - Spell of the Unown"
          ],
          [
           "Snitch"
          ],
          [
           "Jimmy Neutron: Boy Genius"
          ],
          [
           "Honey, I Shrunk the Kids"
          ],
          [
           "Teenage Mutant Ninja Turtles"
          ],
          [
           "The Texas Chainsaw Massacre 2"
          ],
          [
           "Broken Arrow"
          ],
          [
           "Carlito's Way"
          ],
          [
           "The Man from Nowhere"
          ],
          [
           "Big"
          ],
          [
           "The Jungle Book 2"
          ],
          [
           "Identity Thief"
          ],
          [
           "The Big Sick"
          ],
          [
           "Johnson Family Vacation"
          ],
          [
           "Great Expectations"
          ],
          [
           "Teenage Mutant Ninja Turtles III"
          ],
          [
           "The Sound of Music"
          ],
          [
           "Flubber"
          ],
          [
           "Airplane!"
          ],
          [
           "Into the Wild"
          ],
          [
           "Shaft"
          ],
          [
           "White Fang"
          ],
          [
           "Flyboys"
          ],
          [
           "Flashdance"
          ],
          [
           "The Change-Up"
          ],
          [
           "Mindhunters"
          ],
          [
           "Atlantis: The Lost Empire"
          ],
          [
           "Apollo 13"
          ],
          [
           "All About Eve"
          ],
          [
           "You've Got Mail"
          ],
          [
           "Candyman"
          ],
          [
           "National Treasure"
          ],
          [
           "Criminal"
          ],
          [
           "Crouching Tiger, Hidden Dragon"
          ],
          [
           "Sisters"
          ],
          [
           "Lawless"
          ],
          [
           "Six Days Seven Nights"
          ],
          [
           "The Ugly Truth"
          ],
          [
           "Legend"
          ],
          [
           "District B13"
          ],
          [
           "This Is It"
          ],
          [
           "The Princess Bride"
          ],
          [
           "Ricki and the Flash"
          ],
          [
           "Mr. Deeds"
          ],
          [
           "Alone in the Dark"
          ],
          [
           "Daybreakers"
          ],
          [
           "Runner Runner"
          ],
          [
           "Phantom"
          ],
          [
           "Soldier"
          ],
          [
           "Inkheart"
          ],
          [
           "High Life"
          ],
          [
           "The Bounty Hunter"
          ],
          [
           "Sing Street"
          ],
          [
           "Wild Child"
          ],
          [
           "Grandma"
          ],
          [
           "Barnyard"
          ],
          [
           "Innerspace"
          ],
          [
           "Weird Science"
          ],
          [
           "Must Love Dogs"
          ],
          [
           "Dennis the Menace"
          ],
          [
           "Once Upon a Time in the West"
          ],
          [
           "The Way Back"
          ],
          [
           "The English Patient"
          ],
          [
           "Alfie"
          ],
          [
           "Final Fantasy: The Spirits Within"
          ],
          [
           "Superman III"
          ],
          [
           "Black Knight"
          ],
          [
           "Marmaduke"
          ],
          [
           "The Kid"
          ],
          [
           "I, Frankenstein"
          ],
          [
           "No Reservations"
          ],
          [
           "Erin Brockovich"
          ],
          [
           "Cool World"
          ],
          [
           "Infamous"
          ],
          [
           "Amores Perros"
          ],
          [
           "Southland Tales"
          ],
          [
           "The Transformers: The Movie"
          ],
          [
           "John Q"
          ],
          [
           "Waiting..."
          ],
          [
           "Never Say Never Again"
          ],
          [
           "Eighth Grade"
          ],
          [
           "Star Trek: Insurrection"
          ],
          [
           "Jaws 2"
          ],
          [
           "Excalibur"
          ],
          [
           "Begin Again"
          ],
          [
           "Mercury Rising"
          ],
          [
           "Men of Honor"
          ],
          [
           "Trading Places"
          ],
          [
           "Welcome to Marwen"
          ],
          [
           "True Grit"
          ],
          [
           "George of the Jungle"
          ],
          [
           "Jack"
          ],
          [
           "Cirque du Freak: The Vampire's Assistant"
          ],
          [
           "Chef"
          ],
          [
           "I Love You, Beth Cooper"
          ],
          [
           "Sister Act 2: Back in the Habit"
          ],
          [
           "Zoolander"
          ],
          [
           "Paycheck"
          ],
          [
           "Das Boot"
          ],
          [
           "When the Bough Breaks"
          ],
          [
           "Dilwale"
          ],
          [
           "Jane Got a Gun"
          ],
          [
           "Stardust"
          ],
          [
           "Austin Powers: International Man of Mystery"
          ],
          [
           "Strange Days"
          ],
          [
           "The Cell"
          ],
          [
           "Look Who's Talking"
          ],
          [
           "The Salvation"
          ],
          [
           "Legends of the Fall"
          ],
          [
           "Firewall"
          ],
          [
           "Charlotte's Web"
          ],
          [
           "Superman IV: The Quest for Peace"
          ],
          [
           "Sliver"
          ],
          [
           "The Wave"
          ],
          [
           "Traffic"
          ],
          [
           "The Dukes of Hazzard"
          ],
          [
           "The Lazarus Effect"
          ],
          [
           "The Goddess of Fortune"
          ],
          [
           "The Pelican Brief"
          ],
          [
           "Timecop"
          ],
          [
           "Get Smart"
          ],
          [
           "Nebraska"
          ],
          [
           "Virtuosity"
          ],
          [
           "Rain Man"
          ],
          [
           "Head of State"
          ],
          [
           "Muppets Most Wanted"
          ],
          [
           "Burn After Reading"
          ],
          [
           "Fear and Loathing in Las Vegas"
          ],
          [
           "Surf's Up"
          ],
          [
           "Take Me Home Tonight"
          ],
          [
           "The Next Three Days"
          ],
          [
           "Billy Lynn's Long Halftime Walk"
          ],
          [
           "Fright Night"
          ],
          [
           "Out of Time"
          ],
          [
           "Jack and Jill"
          ],
          [
           "Wyatt Earp"
          ],
          [
           "Confessions of a Teenage Drama Queen"
          ],
          [
           "Loving Pablo"
          ],
          [
           "Party Monster"
          ],
          [
           "Maximum Overdrive"
          ],
          [
           "Amadeus"
          ],
          [
           "Resident Evil"
          ],
          [
           "Super Troopers 2"
          ],
          [
           "The Soloist"
          ],
          [
           "Fright Night"
          ],
          [
           "Wild Tales"
          ],
          [
           "Hell or High Water"
          ],
          [
           "Moulin Rouge!"
          ],
          [
           "Joy"
          ],
          [
           "Ghostbusters II"
          ],
          [
           "Ip Man"
          ],
          [
           "The 'Burbs"
          ],
          [
           "Gotti"
          ],
          [
           "Stolen"
          ],
          [
           "Road to Perdition"
          ],
          [
           "Battle Royale"
          ],
          [
           "Star Trek IV: The Voyage Home"
          ],
          [
           "Shark Night 3D"
          ],
          [
           "Rock Star"
          ],
          [
           "Dominion: Prequel to the Exorcist"
          ],
          [
           "L.A. Confidential"
          ],
          [
           "Punisher: War Zone"
          ],
          [
           "Radio"
          ],
          [
           "Australia"
          ],
          [
           "Shall We Dance?"
          ],
          [
           "The 40 Year Old Virgin"
          ],
          [
           "Tulip Fever"
          ],
          [
           "Evolution"
          ],
          [
           "Dilwale Dulhania Le Jayenge"
          ],
          [
           "The Cave"
          ],
          [
           "Spies Like Us"
          ],
          [
           "The Black Dahlia"
          ],
          [
           "The Dilemma"
          ],
          [
           "A Street Cat Named Bob"
          ],
          [
           "Mary Queen of Scots"
          ],
          [
           "TMNT"
          ],
          [
           "The 33"
          ],
          [
           "The Lawnmower Man"
          ],
          [
           "Spy Game"
          ],
          [
           "Gone Baby Gone"
          ],
          [
           "Space Cowboys"
          ],
          [
           "The Green Inferno"
          ],
          [
           "The Damned"
          ],
          [
           "Syriana"
          ],
          [
           "Escape from Planet Earth"
          ],
          [
           "Underdog"
          ],
          [
           "Chappaquiddick"
          ],
          [
           "Layer Cake"
          ],
          [
           "Delicatessen"
          ],
          [
           "The Devil's Rejects"
          ],
          [
           "A Walk in the Clouds"
          ],
          [
           "Tron"
          ],
          [
           "The Adjustment Bureau"
          ],
          [
           "Paris Can Wait"
          ],
          [
           "K-12"
          ],
          [
           "Close Encounters of the Third Kind"
          ],
          [
           "Think Like a Man Too"
          ],
          [
           "The Mission"
          ],
          [
           "Before I Fall"
          ],
          [
           "She's the Man"
          ],
          [
           "Before Sunrise"
          ],
          [
           "Pain and Glory"
          ],
          [
           "Goal! II: Living the Dream"
          ],
          [
           "Diary of a Wimpy Kid: Rodrick Rules"
          ],
          [
           "The Wild"
          ],
          [
           "Goal! The Dream Begins"
          ],
          [
           "D-Tox"
          ],
          [
           "Domino"
          ],
          [
           "Red Cliff Part II"
          ],
          [
           "Queen of Katwe"
          ],
          [
           "Moonraker"
          ],
          [
           "Disturbia"
          ],
          [
           "Twilight Zone: The Movie"
          ],
          [
           "Nightbreed"
          ],
          [
           "Curse of the Golden Flower"
          ],
          [
           "13 Sins"
          ],
          [
           "Condorito: The Movie"
          ],
          [
           "Wallace & Gromit: The Curse of the Were-Rabbit"
          ],
          [
           "United 93"
          ],
          [
           "The Fifth Estate"
          ],
          [
           "Sixteen Candles"
          ],
          [
           "Mulholland Drive"
          ],
          [
           "The Butler"
          ],
          [
           "Running with Scissors"
          ],
          [
           "Mojin: The Lost Legend"
          ],
          [
           "The Divide"
          ],
          [
           "Young Frankenstein"
          ],
          [
           "The King's Speech"
          ],
          [
           "Swiss Army Man"
          ],
          [
           "Surviving Christmas"
          ],
          [
           "Kiss the Girls"
          ],
          [
           "Dirty Dancing: Havana Nights"
          ],
          [
           "Exorcist: The Beginning"
          ],
          [
           "The Beach Bum"
          ],
          [
           "Footloose"
          ],
          [
           "The Ghost and the Darkness"
          ],
          [
           "A Few Good Men"
          ],
          [
           "Sunset Boulevard"
          ],
          [
           "The Bling Ring"
          ],
          [
           "Beverly Hills Cop II"
          ],
          [
           "Masterminds"
          ],
          [
           "Snowden"
          ],
          [
           "Rat Race"
          ],
          [
           "Setup"
          ],
          [
           "Irrational Man"
          ],
          [
           "The Happytime Murders"
          ],
          [
           "Labyrinth"
          ],
          [
           "Paul Blart: Mall Cop"
          ],
          [
           "The Bad Lieutenant: Port of Call - New Orleans"
          ],
          [
           "Camp X-Ray"
          ],
          [
           "The Long Kiss Goodnight"
          ],
          [
           "Congo"
          ],
          [
           "Blue Valentine"
          ],
          [
           "21 & Over"
          ],
          [
           "Shanghai Knights"
          ],
          [
           "Mr. Brooks"
          ],
          [
           "Santa Claus: The Movie"
          ],
          [
           "Graveyard Shift"
          ],
          [
           "Changeling"
          ],
          [
           "Superman II"
          ],
          [
           "Land of the Lost"
          ],
          [
           "3 Ninjas Kick Back"
          ],
          [
           "Three Kings"
          ],
          [
           "High Fidelity"
          ],
          [
           "Term Life"
          ],
          [
           "Wild Wild West"
          ],
          [
           "Magnolia"
          ],
          [
           "Save the Last Dance"
          ],
          [
           "The Pagemaster"
          ],
          [
           "Paranoia"
          ],
          [
           "Red Planet"
          ],
          [
           "Samson and Delilah"
          ],
          [
           "Open Water"
          ],
          [
           "Ran"
          ],
          [
           "Big Daddy"
          ],
          [
           "The Sisters Brothers"
          ],
          [
           "Passenger 57"
          ],
          [
           "The Piano"
          ],
          [
           "Under the Tuscan Sun"
          ],
          [
           "The Big Bad Fox and Other Tales"
          ],
          [
           "Khumba"
          ],
          [
           "Cape Fear"
          ],
          [
           "Tin Toy"
          ],
          [
           "The Jacket"
          ],
          [
           "The Santa Clause"
          ],
          [
           "Executive Decision"
          ],
          [
           "Doraemon: Nobita and the Space Heroes"
          ],
          [
           "The Game"
          ],
          [
           "The Descent"
          ],
          [
           "The Hunted"
          ],
          [
           "Urban Legends: Final Cut"
          ],
          [
           "Dragon Blade"
          ],
          [
           "Love Story"
          ],
          [
           "The Hunt"
          ],
          [
           "Center Stage"
          ],
          [
           "Mother's Day"
          ],
          [
           "Bugsy"
          ],
          [
           "Teenage Mutant Ninja Turtles II: The Secret of the Ooze"
          ],
          [
           "The Ghost Writer"
          ],
          [
           "Bedazzled"
          ],
          [
           "Gran Torino"
          ],
          [
           "RV"
          ],
          [
           "Barbershop 2: Back in Business"
          ],
          [
           "Out for Justice"
          ],
          [
           "Adaptation."
          ],
          [
           "The Giver"
          ],
          [
           "Snatched"
          ],
          [
           "Super Mario Bros."
          ],
          [
           "Hudson Hawk"
          ],
          [
           "The Hustler"
          ],
          [
           "Cheaper by the Dozen 2"
          ],
          [
           "August Rush"
          ],
          [
           "Short Circuit"
          ],
          [
           "Paris Is Burning"
          ],
          [
           "The Queen"
          ],
          [
           "The Immigrant"
          ],
          [
           "Fido"
          ],
          [
           "Alive"
          ],
          [
           "Wanderlust"
          ],
          [
           "What Dreams May Come"
          ],
          [
           "Spartacus"
          ],
          [
           "The Bucket List"
          ],
          [
           "The Wedding Date"
          ],
          [
           "The Whole Nine Yards"
          ],
          [
           "Captain Corelli's Mandolin"
          ],
          [
           "Gold"
          ],
          [
           "Deck the Halls"
          ],
          [
           "Wild"
          ],
          [
           "The Flintstones in Viva Rock Vegas"
          ],
          [
           "No One Lives"
          ],
          [
           "The Good Girl"
          ],
          [
           "Hunt for the Wilderpeople"
          ],
          [
           "Police Academy"
          ],
          [
           "Napoleon Dynamite"
          ],
          [
           "The Aviator"
          ],
          [
           "Funny People"
          ],
          [
           "Something Borrowed"
          ],
          [
           "Shut In"
          ],
          [
           "Old Dogs"
          ],
          [
           "City Slickers"
          ],
          [
           "The Rover"
          ],
          [
           "The Rookie"
          ],
          [
           "Where the Heart Is"
          ],
          [
           "27 Dresses"
          ],
          [
           "Kiss Me Deadly"
          ],
          [
           "Unforgettable"
          ],
          [
           "The Secret Life of Walter Mitty"
          ],
          [
           "Black Christmas"
          ],
          [
           "Singin' in the Rain"
          ],
          [
           "Trumbo"
          ],
          [
           "A Man Apart"
          ],
          [
           "The Book of Henry"
          ],
          [
           "Wonder Wheel"
          ],
          [
           "Equilibrium"
          ],
          [
           "Sweet Home Alabama"
          ],
          [
           "The Kid"
          ],
          [
           "Contraband"
          ],
          [
           "Mallrats"
          ],
          [
           "I Still Know What You Did Last Summer"
          ],
          [
           "Battle of the Year"
          ],
          [
           "Rugrats in Paris: The Movie"
          ],
          [
           "Escape from New York"
          ],
          [
           "Session 9"
          ],
          [
           "Modern Times"
          ],
          [
           "In the Mood for Love"
          ],
          [
           "Blackway"
          ],
          [
           "Water for Elephants"
          ],
          [
           "Life Itself"
          ],
          [
           "The Good Shepherd"
          ],
          [
           "Always"
          ],
          [
           "Atonement"
          ],
          [
           "Freeheld"
          ],
          [
           "Babel"
          ],
          [
           "Out of the Furnace"
          ],
          [
           "The Fall"
          ],
          [
           "Like Crazy"
          ],
          [
           "A Night at the Roxbury"
          ],
          [
           "I Spy"
          ],
          [
           "Out of Sight"
          ],
          [
           "Joy Ride"
          ],
          [
           "Entrapment"
          ],
          [
           "Mirror Mirror"
          ],
          [
           "Spaceballs"
          ],
          [
           "Life After Beth"
          ],
          [
           "The Name of the Rose"
          ],
          [
           "For Your Eyes Only"
          ],
          [
           "Winnie the Pooh"
          ],
          [
           "Stir of Echoes"
          ],
          [
           "Coach Carter"
          ],
          [
           "Monster-in-Law"
          ],
          [
           "Superhero Movie"
          ],
          [
           "The Boondock Saints"
          ],
          [
           "Escape from L.A."
          ],
          [
           "American Dreamz"
          ],
          [
           "Alad'2"
          ],
          [
           "Oliver Twist"
          ],
          [
           "Jersey Boys"
          ],
          [
           "The Talented Mr. Ripley"
          ],
          [
           "The Odd Life of Timothy Green"
          ],
          [
           "Girl, Interrupted"
          ],
          [
           "Two Weeks Notice"
          ],
          [
           "Return to Never Land"
          ],
          [
           "Snow Dogs"
          ],
          [
           "What's Your Number?"
          ],
          [
           "Malibu's Most Wanted"
          ],
          [
           "Sugar & Spice"
          ],
          [
           "National Lampoon's Van Wilder"
          ],
          [
           "Mystery Train"
          ],
          [
           "Pumpkinhead"
          ],
          [
           "We Bought a Zoo"
          ],
          [
           "The Perfect Storm"
          ],
          [
           "The Ruins"
          ],
          [
           "Insomnia"
          ],
          [
           "Another Earth"
          ],
          [
           "Murder at 1600"
          ],
          [
           "Life of Crime"
          ],
          [
           "Appaloosa"
          ],
          [
           "The Rocketeer"
          ],
          [
           "The Pink Panther"
          ],
          [
           "Elf"
          ],
          [
           "Think Like a Man"
          ],
          [
           "Kids"
          ],
          [
           "Barry Lyndon"
          ],
          [
           "Black Christmas"
          ],
          [
           "Sorority Row"
          ],
          [
           "The Other Boleyn Girl"
          ],
          [
           "You Again"
          ],
          [
           "Hop"
          ],
          [
           "Used Cars"
          ],
          [
           "Tenacious D in The Pick of Destiny"
          ],
          [
           "The Place Beyond the Pines"
          ],
          [
           "Kinky Boots"
          ],
          [
           "Intruders"
          ],
          [
           "The International"
          ],
          [
           "Groundhog Day"
          ],
          [
           "Cabin Fever"
          ],
          [
           "The Light Between Oceans"
          ],
          [
           "Burnt"
          ],
          [
           "Asterix & Obelix: Mission Cleopatra"
          ],
          [
           "Raise Your Voice"
          ],
          [
           "Song to Song"
          ],
          [
           "Operation Chromite"
          ],
          [
           "Death Wish 3"
          ],
          [
           "Raising Helen"
          ],
          [
           "El Mariachi"
          ],
          [
           "About Cherry"
          ],
          [
           "Krull"
          ],
          [
           "Pandora"
          ],
          [
           "Fire Down Below"
          ],
          [
           "Cellular"
          ],
          [
           "The Basketball Diaries"
          ],
          [
           "Urban Legend"
          ],
          [
           "The Santa Clause 3: The Escape Clause"
          ],
          [
           "Little Boy"
          ],
          [
           "The Phantom of the Opera"
          ],
          [
           "Robin Hood: Men in Tights"
          ],
          [
           "The Good Lie"
          ],
          [
           "Nothing Left to Fear"
          ],
          [
           "The Forgotten"
          ],
          [
           "O Brother, Where Art Thou?"
          ],
          [
           "Lemony Snicket's A Series of Unfortunate Events"
          ],
          [
           "How the West Was Won"
          ],
          [
           "Anchorman: The Legend of Ron Burgundy"
          ],
          [
           "Moms' Night Out"
          ],
          [
           "The Cable Guy"
          ],
          [
           "Misery"
          ],
          [
           "The Santa Clause 2"
          ],
          [
           "Valentine"
          ],
          [
           "Jackass Number Two"
          ],
          [
           "Inside Job"
          ],
          [
           "Traitor"
          ],
          [
           "The Boss"
          ],
          [
           "Hostage"
          ],
          [
           "The House That Jack Built"
          ],
          [
           "Detroit"
          ],
          [
           "Jobs"
          ],
          [
           "Almost Christmas"
          ],
          [
           "Penelope"
          ],
          [
           "The Zero Theorem"
          ],
          [
           "Downfall"
          ],
          [
           "Foxcatcher"
          ],
          [
           "Jessabelle"
          ],
          [
           "Hard Rain"
          ],
          [
           "Juice"
          ],
          [
           "Bedtime Stories"
          ],
          [
           "Bastille Day"
          ],
          [
           "Road Trip"
          ],
          [
           "Return to the Blue Lagoon"
          ],
          [
           "Lock Up"
          ],
          [
           "Munich"
          ],
          [
           "The Blob"
          ],
          [
           "Grand Hotel"
          ],
          [
           "Sense and Sensibility"
          ],
          [
           "Poison Ivy"
          ],
          [
           "Tini: The New Life of Violetta"
          ],
          [
           "Body of Lies"
          ],
          [
           "Meet Dave"
          ],
          [
           "Eastern Promises"
          ],
          [
           "Star Trek: First Contact"
          ],
          [
           "Mr. Nice Guy"
          ],
          [
           "A Dirty Shame"
          ],
          [
           "Lost in Space"
          ],
          [
           "The Mexican"
          ],
          [
           "The Stepfather"
          ],
          [
           "I'm Not There"
          ],
          [
           "Missing in Action"
          ],
          [
           "Over the Top"
          ],
          [
           "102 Dalmatians"
          ],
          [
           "What's Eating Gilbert Grape"
          ],
          [
           "The Cabinet of Dr. Caligari"
          ],
          [
           "Hart's War"
          ],
          [
           "Scent of a Woman"
          ],
          [
           "Crocodile Dundee in Los Angeles"
          ],
          [
           "Battlefield Earth"
          ],
          [
           "But I'm a Cheerleader"
          ],
          [
           "Finding Your Feet"
          ],
          [
           "Johnny Mnemonic"
          ],
          [
           "Frequency"
          ],
          [
           "New York Minute"
          ],
          [
           "Jackie Brown"
          ],
          [
           "The Virgin Suicides"
          ],
          [
           "Flicka"
          ],
          [
           "Striptease"
          ],
          [
           "Y Tu Mamá También"
          ],
          [
           "Natural Born Killers"
          ],
          [
           "The Witches of Eastwick"
          ],
          [
           "Wall Street"
          ],
          [
           "Welcome Home Roscoe Jenkins"
          ],
          [
           "The Dead Pool"
          ],
          [
           "The Great Debaters"
          ],
          [
           "Philadelphia"
          ],
          [
           "Florence Foster Jenkins"
          ],
          [
           "The Master"
          ],
          [
           "Glee: The Concert Movie"
          ],
          [
           "Hotel for Dogs"
          ],
          [
           "Nutty Professor II: The Klumps"
          ],
          [
           "Lost Highway"
          ],
          [
           "Witness"
          ],
          [
           "Soul Plane"
          ],
          [
           "What We Do in the Shadows"
          ],
          [
           "King Kong"
          ],
          [
           "Just Getting Started"
          ],
          [
           "Enough"
          ],
          [
           "The Assassination of Jesse James by the Coward Robert Ford"
          ],
          [
           "All Dogs Go to Heaven"
          ],
          [
           "The Alamo"
          ],
          [
           "A Fistful of Dollars"
          ],
          [
           "Side Effects"
          ],
          [
           "Stealth"
          ],
          [
           "Ali G Indahouse"
          ],
          [
           "Fire and Ice"
          ],
          [
           "DOA: Dead or Alive"
          ],
          [
           "Bowfinger"
          ],
          [
           "Only Lovers Left Alive"
          ],
          [
           "Watership Down"
          ],
          [
           "The Glass House"
          ],
          [
           "Under the Silver Lake"
          ],
          [
           "The Nut Job"
          ],
          [
           "Baby Geniuses"
          ],
          [
           "The Gunman"
          ],
          [
           "The Taking of Pelham 1 2 3"
          ],
          [
           "The Ledge"
          ],
          [
           "Don't Tell Mom the Babysitter's Dead"
          ],
          [
           "M*A*S*H"
          ],
          [
           "The Gift"
          ],
          [
           "Career Opportunities"
          ],
          [
           "Thelma & Louise"
          ],
          [
           "Lord of War"
          ],
          [
           "The Perfect Guy"
          ],
          [
           "Frailty"
          ],
          [
           "What a Girl Wants"
          ],
          [
           "The Dreamers"
          ],
          [
           "Promised Land"
          ],
          [
           "Denial"
          ],
          [
           "You, Me and Dupree"
          ],
          [
           "On the Waterfront"
          ],
          [
           "Blue Crush"
          ],
          [
           "In Bruges"
          ],
          [
           "Willow"
          ],
          [
           "History of the World: Part I"
          ],
          [
           "The Thirteenth Floor"
          ],
          [
           "Minuscule: Valley of the Lost Ants"
          ],
          [
           "Derailed"
          ],
          [
           "Empire of the Sun"
          ],
          [
           "Anger Management"
          ],
          [
           "Sahara"
          ],
          [
           "Morning Glory"
          ],
          [
           "The Doors"
          ],
          [
           "A Girl Walks Home Alone at Night"
          ],
          [
           "Showdown in Little Tokyo"
          ],
          [
           "Flags of Our Fathers"
          ],
          [
           "Cinderella Man"
          ],
          [
           "A League of Their Own"
          ],
          [
           "The Nutty Professor"
          ],
          [
           "Frost/Nixon"
          ],
          [
           "1941"
          ],
          [
           "Dreamgirls"
          ],
          [
           "Band Aid"
          ],
          [
           "The 51st State"
          ],
          [
           "The Guilt Trip"
          ],
          [
           "New Year's Eve"
          ],
          [
           "The Five-Year Engagement"
          ],
          [
           "Bangkok Dangerous"
          ],
          [
           "Mary Shelley's Frankenstein"
          ],
          [
           "The Paperboy"
          ],
          [
           "In the Cut"
          ],
          [
           "A Lot Like Love"
          ],
          [
           "Body Double"
          ],
          [
           "The Boy Next Door"
          ],
          [
           "Before Midnight"
          ],
          [
           "Fool's Gold"
          ],
          [
           "Tammy"
          ],
          [
           "While at War"
          ],
          [
           "Stitches"
          ],
          [
           "City of Angels"
          ],
          [
           "Twins"
          ],
          [
           "Crocodile Dundee"
          ],
          [
           "Friend Request"
          ],
          [
           "The Graduate"
          ],
          [
           "Streets of Fire"
          ],
          [
           "The Personal History of David Copperfield"
          ],
          [
           "Raising Arizona"
          ],
          [
           "RockNRolla"
          ],
          [
           "Night of the Living Dead"
          ],
          [
           "This Is 40"
          ],
          [
           "An American Werewolf in London"
          ],
          [
           "Marshall"
          ],
          [
           "So I Married an Axe Murderer"
          ],
          [
           "One Hour Photo"
          ],
          [
           "Rebound"
          ],
          [
           "Can't Hardly Wait"
          ],
          [
           "Psycho II"
          ],
          [
           "My Sister's Keeper"
          ],
          [
           "The Lincoln Lawyer"
          ],
          [
           "Rules of Engagement"
          ],
          [
           "Office Christmas Party"
          ],
          [
           "Crossroads"
          ],
          [
           "Sleepless in Seattle"
          ],
          [
           "Maid in Manhattan"
          ],
          [
           "The Covenant"
          ],
          [
           "FernGully: The Last Rainforest"
          ],
          [
           "Point Blank"
          ],
          [
           "The Edge of Seventeen"
          ],
          [
           "Serendipity"
          ],
          [
           "Obsessed"
          ],
          [
           "After Hours"
          ],
          [
           "The Ninth Gate"
          ],
          [
           "Letters to Juliet"
          ],
          [
           "Green Room"
          ],
          [
           "Hook"
          ],
          [
           "The Breakfast Club"
          ],
          [
           "Jarhead"
          ],
          [
           "Curious George"
          ],
          [
           "The Cold Light of Day"
          ],
          [
           "Picture Perfect"
          ],
          [
           "Deadfall"
          ],
          [
           "Red Dawn"
          ],
          [
           "Crash"
          ],
          [
           "Flawless"
          ],
          [
           "The Treasure of the Sierra Madre"
          ],
          [
           "Don Juan DeMarco"
          ],
          [
           "Mr. Smith Goes to Washington"
          ],
          [
           "A United Kingdom"
          ],
          [
           "Another Gay Movie"
          ],
          [
           "Antwone Fisher"
          ],
          [
           "Leaving Las Vegas"
          ],
          [
           "The Replacements"
          ],
          [
           "The Last of the Mohicans"
          ],
          [
           "Vantage Point"
          ],
          [
           "Untraceable"
          ],
          [
           "Casino Jack"
          ],
          [
           "Chain Reaction"
          ],
          [
           "The Cannonball Run"
          ],
          [
           "A Separation"
          ],
          [
           "Bulletproof Monk"
          ],
          [
           "Colonia"
          ],
          [
           "City of Ember"
          ],
          [
           "The Tale of the Princess Kaguya"
          ],
          [
           "The Birth of a Nation"
          ],
          [
           "T2 Trainspotting"
          ],
          [
           "I Love You, Man"
          ],
          [
           "Marathon Man"
          ],
          [
           "Red Lights"
          ],
          [
           "High Plains Drifter"
          ],
          [
           "Timecrimes"
          ],
          [
           "Dirty Harry"
          ],
          [
           "London Boulevard"
          ],
          [
           "Selma"
          ],
          [
           "Loving"
          ],
          [
           "Accepted"
          ],
          [
           "Bridesmaids"
          ],
          [
           "Melancholia"
          ],
          [
           "The To Do List"
          ],
          [
           "Angel Heart"
          ],
          [
           "Rumble in the Bronx"
          ],
          [
           "Act of Valor"
          ],
          [
           "The Sum of All Fears"
          ],
          [
           "Quarantine"
          ],
          [
           "Wuthering Heights"
          ],
          [
           "The Men Who Stare at Goats"
          ],
          [
           "Donnie Brasco"
          ],
          [
           "3 Idiots"
          ],
          [
           "54"
          ],
          [
           "Seabiscuit"
          ],
          [
           "Next Friday"
          ],
          [
           "Frankenstein"
          ],
          [
           "Red State"
          ],
          [
           "Xanadu"
          ],
          [
           "Shaun the Sheep Movie"
          ],
          [
           "Super"
          ],
          [
           "Hatchet"
          ],
          [
           "Chocolat"
          ],
          [
           "Papillon"
          ],
          [
           "The Room"
          ],
          [
           "Speed Racer"
          ],
          [
           "Dr. Dolittle 2"
          ],
          [
           "Primal Fear"
          ],
          [
           "Quo Vadis"
          ],
          [
           "The Young Victoria"
          ],
          [
           "Things to Do in Denver When You're Dead"
          ],
          [
           "Bones"
          ],
          [
           "Uncle Drew"
          ],
          [
           "The New Guy"
          ],
          [
           "Mustang"
          ],
          [
           "Stay"
          ],
          [
           "Match Point"
          ],
          [
           "Resident Evil: Apocalypse"
          ],
          [
           "The Water Diviner"
          ],
          [
           "Queen of the Damned"
          ],
          [
           "Hellraiser III: Hell on Earth"
          ],
          [
           "JFK"
          ],
          [
           "The Money Pit"
          ],
          [
           "Demonic"
          ],
          [
           "October Sky"
          ],
          [
           "The Gift"
          ],
          [
           "Mary and Max"
          ],
          [
           "Money Monster"
          ],
          [
           "Gosford Park"
          ],
          [
           "What to Expect When You're Expecting"
          ],
          [
           "First Reformed"
          ],
          [
           "Pi"
          ],
          [
           "It's Kind of a Funny Story"
          ],
          [
           "Racing Stripes"
          ],
          [
           "Take the Lead"
          ],
          [
           "The Lake House"
          ],
          [
           "The Brave One"
          ],
          [
           "Robot & Frank"
          ],
          [
           "Loving Vincent"
          ],
          [
           "Walk Hard: The Dewey Cox Story"
          ],
          [
           "Damien: Omen II"
          ],
          [
           "Boo! A Madea Halloween"
          ],
          [
           "The Tigger Movie"
          ],
          [
           "The Best Man"
          ],
          [
           "Dance Flick"
          ],
          [
           "The Bridge on the River Kwai"
          ],
          [
           "When a Stranger Calls"
          ],
          [
           "The Maltese Falcon"
          ],
          [
           "Hard to Kill"
          ],
          [
           "Proof"
          ],
          [
           "Mr. Holland's Opus"
          ],
          [
           "Dolphin Tale 2"
          ],
          [
           "We Are Marshall"
          ],
          [
           "An American Tail"
          ],
          [
           "Astérix at the Olympic Games"
          ],
          [
           "The Boondock Saints II: All Saints Day"
          ],
          [
           "Club Dread"
          ],
          [
           "Regarding Henry"
          ],
          [
           "Disturbing Behavior"
          ],
          [
           "The Express"
          ],
          [
           "The Black Hole"
          ],
          [
           "1492: Conquest of Paradise"
          ],
          [
           "Daddy Day Care"
          ],
          [
           "3 Ninjas"
          ],
          [
           "Lincoln"
          ],
          [
           "Joe Dirt"
          ],
          [
           "Brooklyn"
          ],
          [
           "Nine Lives"
          ],
          [
           "Kagemusha"
          ],
          [
           "Recess: School's Out"
          ],
          [
           "The Imaginarium of Doctor Parnassus"
          ],
          [
           "Old School"
          ],
          [
           "I Saw the Light"
          ],
          [
           "Ballistic: Ecks vs. Sever"
          ],
          [
           "Fences"
          ],
          [
           "Paterson"
          ],
          [
           "Unfinished Business"
          ],
          [
           "The Juror"
          ],
          [
           "Date Night"
          ],
          [
           "Labor Day"
          ],
          [
           "Ferris Bueller's Day Off"
          ],
          [
           "Color of Night"
          ],
          [
           "Teeth"
          ],
          [
           "Caddyshack"
          ],
          [
           "Quest for Camelot"
          ],
          [
           "Brothers"
          ],
          [
           "The Glass Castle"
          ],
          [
           "Dungeons & Dragons"
          ],
          [
           "Stake Land"
          ],
          [
           "Our Brand Is Crisis"
          ],
          [
           "Piglet's Big Movie"
          ],
          [
           "Hot Tub Time Machine"
          ],
          [
           "My Week with Marilyn"
          ],
          [
           "Stepmom"
          ],
          [
           "Mirror"
          ],
          [
           "The Quiet Ones"
          ],
          [
           "La Haine"
          ],
          [
           "Music and Lyrics"
          ],
          [
           "The Great Mouse Detective"
          ],
          [
           "The Corruptor"
          ],
          [
           "Hairspray"
          ],
          [
           "Dead Man Walking"
          ],
          [
           "Truth"
          ],
          [
           "The Warrior's Way"
          ],
          [
           "Hairspray"
          ],
          [
           "All About My Mother"
          ],
          [
           "Cyborg"
          ],
          [
           "Annie"
          ],
          [
           "Ringu"
          ],
          [
           "Anthropoid"
          ],
          [
           "The Bride of Frankenstein"
          ],
          [
           "Shocker"
          ],
          [
           "Friends with Money"
          ],
          [
           "All Is Lost"
          ],
          [
           "3000 Miles to Graceland"
          ],
          [
           "Sleepers"
          ],
          [
           "A Good Year"
          ],
          [
           "Centurion"
          ],
          [
           "There Will Be Blood"
          ],
          [
           "Fire in the Sky"
          ],
          [
           "If Beale Street Could Talk"
          ],
          [
           "Hit & Run"
          ],
          [
           "The Recruit"
          ],
          [
           "42"
          ],
          [
           "Stolen"
          ],
          [
           "The Greatest Game Ever Played"
          ],
          [
           "Never Let Me Go"
          ],
          [
           "Half Nelson"
          ],
          [
           "Above the Law"
          ],
          [
           "Conviction"
          ],
          [
           "How to Lose Friends & Alienate People"
          ],
          [
           "Tideland"
          ],
          [
           "The Return of Swamp Thing"
          ],
          [
           "Red Sonja"
          ],
          [
           "The Last Emperor"
          ],
          [
           "The Postman"
          ],
          [
           "Mother"
          ],
          [
           "City Lights"
          ],
          [
           "Ransom"
          ],
          [
           "Trespass"
          ],
          [
           "Hail, Caesar!"
          ],
          [
           "Sex and Death 101"
          ],
          [
           "Running Scared"
          ],
          [
           "Prom Night"
          ],
          [
           "Taps"
          ],
          [
           "The Fog"
          ],
          [
           "Monty Python and the Holy Grail"
          ],
          [
           "When Harry Met Sally..."
          ],
          [
           "Fast Times at Ridgemont High"
          ],
          [
           "Kicking & Screaming"
          ],
          [
           "Hanging Up"
          ],
          [
           "Duplicity"
          ],
          [
           "Big Game"
          ],
          [
           "The Land Before Time"
          ],
          [
           "An American Haunting"
          ],
          [
           "Alpha and Omega"
          ],
          [
           "Conspiracy Theory"
          ],
          [
           "Sanctum"
          ],
          [
           "Defendor"
          ],
          [
           "Harsh Times"
          ],
          [
           "Hanna"
          ],
          [
           "Wind Chill"
          ],
          [
           "Failure to Launch"
          ],
          [
           "Feast"
          ],
          [
           "The Back-Up Plan"
          ],
          [
           "Ruby Sparks"
          ],
          [
           "The Replacement Killers"
          ],
          [
           "The Night Before"
          ],
          [
           "The Final Countdown"
          ],
          [
           "The Idiots"
          ],
          [
           "The Midnight Meat Train"
          ],
          [
           "20th Century Women"
          ],
          [
           "Beerfest"
          ],
          [
           "The Life of David Gale"
          ],
          [
           "Life"
          ],
          [
           "Haywire"
          ],
          [
           "Bridget Jones: The Edge of Reason"
          ],
          [
           "Beasts of No Nation"
          ],
          [
           "Air Bud"
          ],
          [
           "Something's Gotta Give"
          ],
          [
           "Blaze"
          ],
          [
           "The Ward"
          ],
          [
           "Extraordinary Measures"
          ],
          [
           "Blue Thunder"
          ],
          [
           "Big Fat Liar"
          ],
          [
           "Crimson Tide"
          ],
          [
           "My Big Fat Greek Wedding 2"
          ],
          [
           "Raging Bull"
          ],
          [
           "The Hundred-Foot Journey"
          ],
          [
           "Videodrome"
          ],
          [
           "Day of the Dead"
          ],
          [
           "Gods and Generals"
          ],
          [
           "Little Miss Sunshine"
          ],
          [
           "Grease 2"
          ],
          [
           "North by Northwest"
          ],
          [
           "The Prodigy"
          ],
          [
           "G-Force"
          ],
          [
           "Madea's Family Reunion"
          ],
          [
           "License to Wed"
          ],
          [
           "Welcome to the Sticks"
          ],
          [
           "Blood Ties"
          ],
          [
           "Brother"
          ],
          [
           "Get on Up"
          ],
          [
           "The Apartment"
          ],
          [
           "Cool Runnings"
          ],
          [
           "Antichrist"
          ],
          [
           "Black Snake Moan"
          ],
          [
           "Four Rooms"
          ],
          [
           "Anomalisa"
          ],
          [
           "Four Christmases"
          ],
          [
           "Highlander III: The Sorcerer"
          ],
          [
           "Filth"
          ],
          [
           "Uptown Girls"
          ],
          [
           "Red Eye"
          ],
          [
           "Prince of Darkness"
          ],
          [
           "Finding Neverland"
          ],
          [
           "Duplex"
          ],
          [
           "Deconstructing Harry"
          ],
          [
           "The Crow: City of Angels"
          ],
          [
           "eXistenZ"
          ],
          [
           "Beyond the Lights"
          ],
          [
           "Flipper"
          ],
          [
           "James and the Giant Peach"
          ],
          [
           "The Straight Story"
          ],
          [
           "I Hate Valentine's Day"
          ],
          [
           "Courage Under Fire"
          ],
          [
           "Arthur and the Invisibles"
          ],
          [
           "Escape From Alcatraz"
          ],
          [
           "Kama Sutra: A Tale of Love"
          ],
          [
           "Get Shorty"
          ],
          [
           "Only God Forgives"
          ],
          [
           "Casino Royale"
          ],
          [
           "American Animals"
          ],
          [
           "Premonition"
          ],
          [
           "Forces of Nature"
          ],
          [
           "Life of Brian"
          ],
          [
           "Big Eyes"
          ],
          [
           "The Relic"
          ],
          [
           "Hatchet II"
          ],
          [
           "The Dark Crystal"
          ],
          [
           "Clue"
          ],
          [
           "Police Academy 2: Their First Assignment"
          ],
          [
           "Kill List"
          ],
          [
           "15 Minutes"
          ],
          [
           "Battle in Seattle"
          ],
          [
           "Monster"
          ],
          [
           "Little Manhattan"
          ],
          [
           "Sea of Love"
          ],
          [
           "Rashomon"
          ],
          [
           "Kuch Kuch Hota Hai"
          ],
          [
           "The Saint"
          ],
          [
           "Mara"
          ],
          [
           "House of Sand and Fog"
          ],
          [
           "Dumb and Dumberer: When Harry Met Lloyd"
          ],
          [
           "About Last Night"
          ],
          [
           "King of Kings"
          ],
          [
           "Maps to the Stars"
          ],
          [
           "Titan A.E."
          ],
          [
           "The Boat That Rocked"
          ],
          [
           "The Secret of Moonacre"
          ],
          [
           "Phone Booth"
          ],
          [
           "Vicky Cristina Barcelona"
          ],
          [
           "Spellbound"
          ],
          [
           "Inside Llewyn Davis"
          ],
          [
           "MacGruber"
          ],
          [
           "Kingpin"
          ],
          [
           "Laws of Attraction"
          ],
          [
           "School for Scoundrels"
          ],
          [
           "Re-Animator"
          ],
          [
           "The Nutcracker in 3D"
          ],
          [
           "Daddy Day Camp"
          ],
          [
           "To Die For"
          ],
          [
           "Going the Distance"
          ],
          [
           "Dark Angel"
          ],
          [
           "This Is Where I Leave You"
          ],
          [
           "DodgeBall: A True Underdog Story"
          ],
          [
           "Dragonfly"
          ],
          [
           "The Homesman"
          ],
          [
           "Ooops! Noah is Gone..."
          ],
          [
           "Phenomenon"
          ],
          [
           "An Education"
          ],
          [
           "Book Club"
          ],
          [
           "Flightplan"
          ],
          [
           "Shelter"
          ],
          [
           "Step Brothers"
          ],
          [
           "Last Holiday"
          ],
          [
           "From Up on Poppy Hill"
          ],
          [
           "Johnny Handsome"
          ],
          [
           "Battle for Terra"
          ],
          [
           "The Box"
          ],
          [
           "District 13: Ultimatum"
          ],
          [
           "Bowling for Columbine"
          ],
          [
           "The Mothman Prophecies"
          ],
          [
           "Anna and the King"
          ],
          [
           "Dark Blue"
          ],
          [
           "Pooh's Heffalump Movie"
          ],
          [
           "Runaway Bride"
          ],
          [
           "Someone Like You..."
          ],
          [
           "Cold War"
          ],
          [
           "Catch and Release"
          ],
          [
           "Notes on a Scandal"
          ],
          [
           "Hot Tub Time Machine 2"
          ],
          [
           "Ernest Saves Christmas"
          ],
          [
           "Bandslam"
          ],
          [
           "College Road Trip"
          ],
          [
           "Don't Say a Word"
          ],
          [
           "The Echo"
          ],
          [
           "Bulletproof"
          ],
          [
           "Champions"
          ],
          [
           "The Nice Guys"
          ],
          [
           "Ladder 49"
          ],
          [
           "You Kill Me"
          ],
          [
           "Open Your Eyes"
          ],
          [
           "The Hurricane"
          ],
          [
           "Police Academy: Mission to Moscow"
          ],
          [
           "The Meddler"
          ],
          [
           "The Incredible Burt Wonderstone"
          ],
          [
           "Billy Elliot"
          ],
          [
           "Magic Mike"
          ],
          [
           "Secretary"
          ],
          [
           "Woman in Gold"
          ],
          [
           "The Canyons"
          ],
          [
           "The City of Lost Children"
          ],
          [
           "Porky's 3: Revenge"
          ],
          [
           "Weekend"
          ],
          [
           "The Lives of Others"
          ],
          [
           "Sinbad and the Eye of the Tiger"
          ],
          [
           "Young Guns"
          ],
          [
           "Chasing Liberty"
          ],
          [
           "Before the Devil Knows You're Dead"
          ],
          [
           "Death Wish II"
          ],
          [
           "The Spy Next Door"
          ],
          [
           "Diary of a Wimpy Kid"
          ],
          [
           "The Zookeeper's Wife"
          ],
          [
           "Hardball"
          ],
          [
           "Winter's Bone"
          ],
          [
           "Earth to Echo"
          ],
          [
           "Hotel Rwanda"
          ],
          [
           "Menace II Society"
          ],
          [
           "Eddie the Eagle"
          ],
          [
           "The Last Temptation of Christ"
          ],
          [
           "Elizabeth: The Golden Age"
          ],
          [
           "The Living Daylights"
          ],
          [
           "Hard Eight"
          ],
          [
           "Spanglish"
          ],
          [
           "Rushmore"
          ],
          [
           "The Hitcher"
          ],
          [
           "The Jewel of the Nile"
          ],
          [
           "The Musketeer"
          ],
          [
           "Clerks"
          ],
          [
           "The Duel"
          ],
          [
           "Proud Mary"
          ],
          [
           "Darkman"
          ],
          [
           "Bad Santa 2"
          ],
          [
           "League of Gods"
          ],
          [
           "The Skulls"
          ],
          [
           "Fair Game"
          ],
          [
           "Role Models"
          ],
          [
           "The Campaign"
          ],
          [
           "White Boy Rick"
          ],
          [
           "Ghost Dog: The Way of the Samurai"
          ],
          [
           "Thunderstruck"
          ],
          [
           "My Name Is Khan"
          ],
          [
           "Kiss Kiss Bang Bang"
          ],
          [
           "Backdraft"
          ],
          [
           "Troll Hunter"
          ],
          [
           "Alex Cross"
          ],
          [
           "Cell 211"
          ],
          [
           "Blood Work"
          ],
          [
           "The Missing"
          ],
          [
           "Sunshine Cleaning"
          ],
          [
           "The Tale of Despereaux"
          ],
          [
           "Action Point"
          ],
          [
           "Ed Wood"
          ],
          [
           "Jersey Girl"
          ],
          [
           "Tucker and Dale vs. Evil"
          ],
          [
           "Valhalla"
          ],
          [
           "Dragon Hunters"
          ],
          [
           "The Bounty"
          ],
          [
           "Gridiron Gang"
          ],
          [
           "Capitalism: A Love Story"
          ],
          [
           "Donovan's Reef"
          ],
          [
           "Bad Education"
          ],
          [
           "A Guy Thing"
          ],
          [
           "The Lost City of Z"
          ],
          [
           "Boys Don't Cry"
          ],
          [
           "My Big Fat Greek Wedding"
          ],
          [
           "El Angel"
          ],
          [
           "Chaos"
          ],
          [
           "8MM"
          ],
          [
           "Death Wish 4: The Crackdown"
          ],
          [
           "Rumor Has It..."
          ],
          [
           "Dolphin Tale"
          ],
          [
           "A Very Harold & Kumar Christmas"
          ],
          [
           "Your Highness"
          ],
          [
           "Shopgirl"
          ],
          [
           "Undercover Brother"
          ],
          [
           "Stripes"
          ],
          [
           "Lars and the Real Girl"
          ],
          [
           "Fired Up!"
          ],
          [
           "Little Shop of Horrors"
          ],
          [
           "Whisper"
          ],
          [
           "K-PAX"
          ],
          [
           "Stay Tuned"
          ],
          [
           "Latter Days"
          ],
          [
           "A Home at the End of the World"
          ],
          [
           "Godzilla: Final Wars"
          ],
          [
           "The Brothers Bloom"
          ],
          [
           "Risky Business"
          ],
          [
           "Earth"
          ],
          [
           "Raising Cain"
          ],
          [
           "August: Osage County"
          ],
          [
           "Across the Universe"
          ],
          [
           "Hallam Foe"
          ],
          [
           "Screamers"
          ],
          [
           "Out of Africa"
          ],
          [
           "The Rage: Carrie 2"
          ],
          [
           "Margin Call"
          ],
          [
           "Wishmaster"
          ],
          [
           "Braindead"
          ],
          [
           "Bad Words"
          ],
          [
           "Parental Guidance"
          ],
          [
           "Staying Alive"
          ],
          [
           "A Bronx Tale"
          ],
          [
           "Angel Eyes"
          ],
          [
           "The Color of Money"
          ],
          [
           "Run Lola Run"
          ],
          [
           "Highlander: Endgame"
          ],
          [
           "Welcome to the Dollhouse"
          ],
          [
           "The Young and Prodigious T.S. Spivet"
          ],
          [
           "Live by Night"
          ],
          [
           "Cats Don't Dance"
          ],
          [
           "Midnight Express"
          ],
          [
           "The Weather Man"
          ],
          [
           "Special Forces"
          ],
          [
           "The Nanny Diaries"
          ],
          [
           "Being John Malkovich"
          ],
          [
           "The Last Boy Scout"
          ],
          [
           "The Astronaut's Wife"
          ],
          [
           "The Chronicles of Riddick"
          ],
          [
           "Lara Croft: Tomb Raider - The Cradle of Life"
          ],
          [
           "Invictus"
          ],
          [
           "The Last Days of Disco"
          ],
          [
           "Murder by Numbers"
          ],
          [
           "Sicko"
          ],
          [
           "Escape from the Planet of the Apes"
          ],
          [
           "Nothing but Trouble"
          ],
          [
           "Dial M for Murder"
          ],
          [
           "Rock the Kasbah"
          ],
          [
           "Solomon and Sheba"
          ],
          [
           "88 Minutes"
          ],
          [
           "Prison"
          ],
          [
           "Bachelorette"
          ],
          [
           "Up in the Air"
          ],
          [
           "Death Warrant"
          ],
          [
           "Fair Game"
          ],
          [
           "Honey, I Blew Up the Kid"
          ],
          [
           "The Double"
          ],
          [
           "Barbershop"
          ],
          [
           "Black Dog"
          ],
          [
           "Charade"
          ],
          [
           "No Escape"
          ],
          [
           "Upside Down"
          ],
          [
           "The Majestic"
          ],
          [
           "Maniac"
          ],
          [
           "Red River"
          ],
          [
           "Star Trek II: The Wrath of Khan"
          ],
          [
           "Country Strong"
          ],
          [
           "Annie Hall"
          ],
          [
           "Frida"
          ],
          [
           "Midnight Special"
          ],
          [
           "Yogi Bear"
          ],
          [
           "Punch-Drunk Love"
          ],
          [
           "Mobsters"
          ],
          [
           "Better Living Through Chemistry"
          ],
          [
           "Vampire in Brooklyn"
          ],
          [
           "Everything is Illuminated"
          ],
          [
           "Bicycle Thieves"
          ],
          [
           "The Fan"
          ],
          [
           "Reindeer Games"
          ],
          [
           "Gandhi"
          ],
          [
           "Friday Night Lights"
          ],
          [
           "The General's Daughter"
          ],
          [
           "Beauty Shop"
          ],
          [
           "Harley Davidson and the Marlboro Man"
          ],
          [
           "Stronger"
          ],
          [
           "Middle School: The Worst Years of My Life"
          ],
          [
           "Letters from Iwo Jima"
          ],
          [
           "Nothing But the Truth"
          ],
          [
           "Serpico"
          ],
          [
           "Hannah Montana & Miley Cyrus: Best of Both Worlds Concert"
          ],
          [
           "The Hand that Rocks the Cradle"
          ],
          [
           "The Painted Veil"
          ],
          [
           "The Entity"
          ],
          [
           "The Siege"
          ],
          [
           "The Vault"
          ],
          [
           "Jay and Silent Bob Strike Back"
          ],
          [
           "The Fog"
          ],
          [
           "House on Haunted Hill"
          ],
          [
           "Anchorman 2: The Legend Continues"
          ],
          [
           "Boyhood"
          ],
          [
           "Breakfast at Tiffany's"
          ],
          [
           "Star Trek V: The Final Frontier"
          ],
          [
           "Honey Boy"
          ],
          [
           "The Royal Tenenbaums"
          ],
          [
           "Dazed and Confused"
          ],
          [
           "Keanu"
          ],
          [
           "Mannequin"
          ],
          [
           "Hair"
          ],
          [
           "Everything You Always Wanted to Know About Sex *But Were Afraid to Ask"
          ],
          [
           "The Lord of the Rings"
          ],
          [
           "New York, I Love You"
          ],
          [
           "Pontypool"
          ],
          [
           "An Officer and a Gentleman"
          ],
          [
           "Flight of the Phoenix"
          ],
          [
           "Taking Lives"
          ],
          [
           "Cry-Baby"
          ],
          [
           "Green Zone"
          ],
          [
           "Ramona and Beezus"
          ],
          [
           "Hackers"
          ],
          [
           "Diary of the Dead"
          ],
          [
           "Absence of Malice"
          ],
          [
           "The King of Fighters"
          ],
          [
           "Baby Mama"
          ],
          [
           "Nim's Island"
          ],
          [
           "Midnight Cowboy"
          ],
          [
           "Analyze That"
          ],
          [
           "Masters of the Universe"
          ],
          [
           "Revolver"
          ],
          [
           "The Brown Bunny"
          ],
          [
           "Bitter Moon"
          ],
          [
           "Once"
          ],
          [
           "The War of the Roses"
          ],
          [
           "Buffy the Vampire Slayer"
          ],
          [
           "Ghosts of Mars"
          ],
          [
           "Paris, Texas"
          ],
          [
           "The Raven"
          ],
          [
           "Stuck on You"
          ],
          [
           "A Time to Kill"
          ],
          [
           "Back to School"
          ],
          [
           "American Outlaws"
          ],
          [
           "Collateral Damage"
          ],
          [
           "Billy Madison"
          ],
          [
           "The Scarlet Letter"
          ],
          [
           "Another 48 Hrs."
          ],
          [
           "CBGB"
          ],
          [
           "Fatal Attraction"
          ],
          [
           "Bad Company"
          ],
          [
           "Passion"
          ],
          [
           "Honeymoon in Vegas"
          ],
          [
           "The Man Who Knew Too Much"
          ],
          [
           "MouseHunt"
          ],
          [
           "The Grand Seduction"
          ],
          [
           "Ondine"
          ],
          [
           "Overboard"
          ],
          [
           "Flypaper"
          ],
          [
           "Byzantium"
          ],
          [
           "The Great Escape"
          ],
          [
           "Pawn Sacrifice"
          ],
          [
           "The Unbearable Lightness of Being"
          ],
          [
           "The Last Legion"
          ],
          [
           "The Gods Must Be Crazy"
          ],
          [
           "When the Game Stands Tall"
          ],
          [
           "Far and Away"
          ],
          [
           "The First Wives Club"
          ],
          [
           "Armed and Dangerous"
          ],
          [
           "The Switch"
          ],
          [
           "Away We Go"
          ],
          [
           "The Inbetweeners Movie"
          ],
          [
           "Dark Water"
          ],
          [
           "Double Dragon"
          ],
          [
           "The Bachelor"
          ],
          [
           "Tupac: Resurrection"
          ],
          [
           "Leviathan"
          ],
          [
           "An Inconvenient Sequel: Truth to Power"
          ],
          [
           "Wonderland"
          ],
          [
           "A History of Violence"
          ],
          [
           "Open Range"
          ],
          [
           "High Noon"
          ],
          [
           "Testament"
          ],
          [
           "The Salton Sea"
          ],
          [
           "Another Year"
          ],
          [
           "Malcolm X"
          ],
          [
           "The Insider"
          ],
          [
           "A Serious Man"
          ],
          [
           "To the Wonder"
          ],
          [
           "Hamlet 2"
          ],
          [
           "Attack the Block"
          ],
          [
           "Burke & Hare"
          ],
          [
           "Jawbreaker"
          ],
          [
           "The Good Son"
          ],
          [
           "Beginners"
          ],
          [
           "The Secret of NIMH"
          ],
          [
           "Last Night"
          ],
          [
           "The Spirit"
          ],
          [
           "Balkan Line"
          ],
          [
           "Taxi 3"
          ],
          [
           "Major League"
          ],
          [
           "Afflicted"
          ],
          [
           "Twisted"
          ],
          [
           "Beauty and the Beast"
          ],
          [
           "Lone Wolf McQuade"
          ],
          [
           "Born on the Fourth of July"
          ],
          [
           "The Rookie"
          ],
          [
           "Rising Sun"
          ],
          [
           "Idle Hands"
          ],
          [
           "The Last King of Scotland"
          ],
          [
           "Wicker Park"
          ],
          [
           "Just a Breath Away"
          ],
          [
           "Margaret"
          ],
          [
           "The Horse Whisperer"
          ],
          [
           "Just Married"
          ],
          [
           "Logan's Run"
          ],
          [
           "Quills"
          ],
          [
           "The Matador"
          ],
          [
           "Elizabethtown"
          ],
          [
           "Table 19"
          ],
          [
           "I Don't Know How She Does It"
          ],
          [
           "Tales from the Hood"
          ],
          [
           "Coal Miner's Daughter"
          ],
          [
           "Saving Mr. Banks"
          ],
          [
           "Serving Sara"
          ],
          [
           "Dancer in the Dark"
          ],
          [
           "Butch Cassidy and the Sundance Kid"
          ],
          [
           "Special 26"
          ],
          [
           "Money Train"
          ],
          [
           "Jennifer Eight"
          ],
          [
           "The Hudsucker Proxy"
          ],
          [
           "Heavy Metal"
          ],
          [
           "The Haunting in Connecticut"
          ],
          [
           "Phoenix Forgotten"
          ],
          [
           "Whip It"
          ],
          [
           "Almost Heroes"
          ],
          [
           "FearDotCom"
          ],
          [
           "Tetro"
          ],
          [
           "The Bronze"
          ],
          [
           "Aliens in the Attic"
          ],
          [
           "Equals"
          ],
          [
           "If Only"
          ],
          [
           "Bonnie and Clyde"
          ],
          [
           "Little Monsters"
          ],
          [
           "Pitch Black"
          ],
          [
           "What's the Worst That Could Happen?"
          ],
          [
           "Domestic Disturbance"
          ],
          [
           "A Perfect Murder"
          ],
          [
           "3 Men and a Baby"
          ],
          [
           "Horsemen"
          ],
          [
           "Thirteen"
          ],
          [
           "A Hologram for the King"
          ],
          [
           "At Close Range"
          ],
          [
           "Mystery Men"
          ],
          [
           "The Stepford Wives"
          ],
          [
           "Simply Irresistible"
          ],
          [
           "Pulse"
          ],
          [
           "See No Evil, Hear No Evil"
          ],
          [
           "Red Corner"
          ],
          [
           "Chicago"
          ],
          [
           "A Quiet Passion"
          ],
          [
           "Outland"
          ],
          [
           "Seeking a Friend for the End of the World"
          ],
          [
           "Flatliners"
          ],
          [
           "Eight Below"
          ],
          [
           "The Ice Storm"
          ],
          [
           "Glengarry Glen Ross"
          ],
          [
           "Sky Captain and the World of Tomorrow"
          ],
          [
           "House of the Dead"
          ],
          [
           "Mrs. Miniver"
          ],
          [
           "The Dead Zone"
          ],
          [
           "The NeverEnding Story II: The Next Chapter"
          ],
          [
           "The Last Starfighter"
          ],
          [
           "Borg vs McEnroe"
          ],
          [
           "Changing Lanes"
          ],
          [
           "For Your Consideration"
          ],
          [
           "The Iron Lady"
          ],
          [
           "Star Trek: Generations"
          ],
          [
           "The Quiet"
          ],
          [
           "Jem and the Holograms"
          ],
          [
           "The Bridges of Madison County"
          ],
          [
           "Mulan: Rise of a Warrior"
          ],
          [
           "Rabbit Hole"
          ],
          [
           "Broadcast News"
          ],
          [
           "Phantasm II"
          ],
          [
           "U Turn"
          ],
          [
           "The Beach"
          ],
          [
           "Firefox"
          ],
          [
           "Babylon A.D."
          ],
          [
           "The D Train"
          ],
          [
           "Doctor Zhivago"
          ],
          [
           "5 Days of War"
          ],
          [
           "Enter the Void"
          ],
          [
           "The History Boys"
          ],
          [
           "Lakeview Terrace"
          ],
          [
           "Bad News Bears"
          ],
          [
           "I Could Never Be Your Woman"
          ],
          [
           "Weekend at Bernie's"
          ],
          [
           "My Old Lady"
          ],
          [
           "Beyond Skyline"
          ],
          [
           "For Love of the Game"
          ],
          [
           "Rescue Dawn"
          ],
          [
           "Serial (Bad) Weddings"
          ],
          [
           "A Single Man"
          ],
          [
           "Battle for the Planet of the Apes"
          ],
          [
           "Captive"
          ],
          [
           "The Rainmaker"
          ],
          [
           "Our Idiot Brother"
          ],
          [
           "In the Name of the Father"
          ],
          [
           "The People vs. Larry Flynt"
          ],
          [
           "The Debt"
          ],
          [
           "Shadows and Fog"
          ],
          [
           "Junior"
          ],
          [
           "Super Troopers"
          ],
          [
           "The New World"
          ],
          [
           "The Shadow"
          ],
          [
           "Race to Witch Mountain"
          ],
          [
           "Wolf Creek 2"
          ],
          [
           "Disaster Movie"
          ],
          [
           "Arthur"
          ],
          [
           "Mickey's Christmas Carol"
          ],
          [
           "Simon Birch"
          ],
          [
           "Extract"
          ],
          [
           "Stormbreaker"
          ],
          [
           "Grudge Match"
          ],
          [
           "Starter for 10"
          ],
          [
           "Wayne's World"
          ],
          [
           "Meet Bill"
          ],
          [
           "One Missed Call"
          ],
          [
           "Absolute Power"
          ],
          [
           "Run, Fatboy, Run"
          ],
          [
           "Falling Down"
          ],
          [
           "On Chesil Beach"
          ],
          [
           "Silent Night, Deadly Night"
          ],
          [
           "Sympathy for Mr. Vengeance"
          ],
          [
           "Under Suspicion"
          ],
          [
           "The Family Stone"
          ],
          [
           "The River Wild"
          ],
          [
           "Working Girl"
          ],
          [
           "White Girl"
          ],
          [
           "Any Given Sunday"
          ],
          [
           "Zulu"
          ],
          [
           "Infernal Affairs"
          ],
          [
           "I Know Who Killed Me"
          ],
          [
           "Death Wish"
          ],
          [
           "Good Night, and Good Luck."
          ],
          [
           "Rope"
          ],
          [
           "Bound"
          ],
          [
           "Uncle Buck"
          ],
          [
           "Disconnect"
          ],
          [
           "Thirteen Days"
          ],
          [
           "A Mighty Wind"
          ],
          [
           "Sid & Nancy"
          ],
          [
           "Dinner for Schmucks"
          ],
          [
           "Happily N'Ever After"
          ],
          [
           "Lost Souls"
          ],
          [
           "Valmont"
          ],
          [
           "Lions for Lambs"
          ],
          [
           "Mutant Chronicles"
          ],
          [
           "Summer Catch"
          ],
          [
           "Death on the Nile"
          ],
          [
           "Breakin'"
          ],
          [
           "The Good German"
          ],
          [
           "May"
          ],
          [
           "Teaching Mrs. Tingle"
          ],
          [
           "Terminal Velocity"
          ],
          [
           "To Rome with Love"
          ],
          [
           "The Duchess"
          ],
          [
           "WarGames"
          ],
          [
           "Steve Jobs"
          ],
          [
           "Sydney White"
          ],
          [
           "Anywhere But Here"
          ],
          [
           "The Andromeda Strain"
          ],
          [
           "Men in Hope"
          ],
          [
           "Bajirao Mastani"
          ],
          [
           "Tadpole"
          ],
          [
           "Monkeybone"
          ],
          [
           "The Fly"
          ],
          [
           "Dr. T & the Women"
          ],
          [
           "Suffragette"
          ],
          [
           "Blazing Saddles"
          ],
          [
           "Sorcerer"
          ],
          [
           "The Three Burials of Melquiades Estrada"
          ],
          [
           "Broken Flowers"
          ],
          [
           "Keeping the Faith"
          ],
          [
           "It's All Gone Pete Tong"
          ],
          [
           "About Schmidt"
          ],
          [
           "Stoker"
          ],
          [
           "Darkness"
          ],
          [
           "Dracula: Prince of Darkness"
          ],
          [
           "Love the Coopers"
          ],
          [
           "My Stepmother is an Alien"
          ],
          [
           "The Kite Runner"
          ],
          [
           "Black or White"
          ],
          [
           "Gigli"
          ],
          [
           "The Lost Weekend"
          ],
          [
           "21 Grams"
          ],
          [
           "The Firm"
          ],
          [
           "The Wicker Man"
          ],
          [
           "Wish I Was Here"
          ],
          [
           "Madea's Witness Protection"
          ],
          [
           "Killing Me Softly"
          ],
          [
           "Stargate: The Ark of Truth"
          ],
          [
           "A Scanner Darkly"
          ],
          [
           "After the Sunset"
          ],
          [
           "Gummo"
          ],
          [
           "The Pebble and the Penguin"
          ],
          [
           "Love Happens"
          ],
          [
           "Dead & Buried"
          ],
          [
           "Win Win"
          ],
          [
           "In the Valley of Elah"
          ],
          [
           "Space Battleship Yamato"
          ],
          [
           "The Four Feathers"
          ],
          [
           "Heaven & Earth"
          ],
          [
           "Godzilla vs. Destoroyah"
          ],
          [
           "The Right Stuff"
          ],
          [
           "The Sea Inside"
          ],
          [
           "Driving Miss Daisy"
          ],
          [
           "Mr. 3000"
          ],
          [
           "Conquest of the Planet of the Apes"
          ],
          [
           "Jade"
          ],
          [
           "From Dusk Till Dawn 3: The Hangman's Daughter"
          ],
          [
           "The Devil's Backbone"
          ],
          [
           "Beverly Hills Cop III"
          ],
          [
           "Iceman"
          ],
          [
           "Hard Candy"
          ],
          [
           "Magic in the Moonlight"
          ],
          [
           "Let the Right One In"
          ],
          [
           "Bounce"
          ],
          [
           "Mermaids"
          ],
          [
           "Bandits"
          ],
          [
           "Brenda Starr"
          ],
          [
           "Street Fighter: The Legend of Chun-Li"
          ],
          [
           "Harry Brown"
          ],
          [
           "Team America: World Police"
          ],
          [
           "Cheri"
          ],
          [
           "Down with Love"
          ],
          [
           "Angela's Ashes"
          ],
          [
           "Shadowlands"
          ],
          [
           "Vera Drake"
          ],
          [
           "Mindscape"
          ],
          [
           "Renaissance Man"
          ],
          [
           "The Sweetest Thing"
          ],
          [
           "Muppets from Space"
          ],
          [
           "Galaxy Quest"
          ],
          [
           "Happiness"
          ],
          [
           "The Ides of March"
          ],
          [
           "The Great Outdoors"
          ],
          [
           "Downton Abbey"
          ],
          [
           "Saving Silverman"
          ],
          [
           "Warlock: The Armageddon"
          ],
          [
           "Rudderless"
          ],
          [
           "Runaway Jury"
          ],
          [
           "The Piano Teacher"
          ],
          [
           "Murphy's Law"
          ],
          [
           "Phantasm"
          ],
          [
           "The Way Way Back"
          ],
          [
           "Admission"
          ],
          [
           "This Must Be the Place"
          ],
          [
           "The Three Musketeers"
          ],
          [
           "What Just Happened"
          ],
          [
           "Fried Green Tomatoes"
          ],
          [
           "Leviathan"
          ],
          [
           "Time Bandits"
          ],
          [
           "Julie & Julia"
          ],
          [
           "Shakespeare in Love"
          ],
          [
           "Armored"
          ],
          [
           "Barbershop: The Next Cut"
          ],
          [
           "In the Mouth of Madness"
          ],
          [
           "The Station Agent"
          ],
          [
           "ATL"
          ],
          [
           "Killer Joe"
          ],
          [
           "I Love Trouble"
          ],
          [
           "Two Days, One Night"
          ],
          [
           "Locke"
          ],
          [
           "Dangerous Liaisons"
          ],
          [
           "I Am Dragon"
          ],
          [
           "Tidal Wave"
          ],
          [
           "Cool Hand Luke"
          ],
          [
           "How Do You Know"
          ],
          [
           "Kill the Messenger"
          ],
          [
           "Fun Size"
          ],
          [
           "Airport 1975"
          ],
          [
           "The Great Beauty"
          ],
          [
           "Out Cold"
          ],
          [
           "The Beastmaster"
          ],
          [
           "Little Children"
          ],
          [
           "Macbeth"
          ],
          [
           "The Fisher King"
          ],
          [
           "Get Carter"
          ],
          [
           "Timeline"
          ],
          [
           "All About Steve"
          ],
          [
           "The Contender"
          ],
          [
           "Yours, Mine & Ours"
          ],
          [
           "Dick"
          ],
          [
           "La Belle Époque"
          ],
          [
           "Getaway"
          ],
          [
           "The Proposition"
          ],
          [
           "Little Black Book"
          ],
          [
           "The Guns of Navarone"
          ],
          [
           "The Artist"
          ],
          [
           "Rock-A-Doodle"
          ],
          [
           "Throw Momma from the Train"
          ],
          [
           "Speed Kills"
          ],
          [
           "A Royal Affair"
          ],
          [
           "Cannonball"
          ],
          [
           "About a Boy"
          ],
          [
           "Silent House"
          ],
          [
           "Veronica Guerin"
          ],
          [
           "Killing Them Softly"
          ],
          [
           "The Girl Who Played with Fire"
          ],
          [
           "'71"
          ],
          [
           "Wolf Warrior"
          ],
          [
           "Compliance"
          ],
          [
           "Rookie of the Year"
          ],
          [
           "The Life Aquatic with Steve Zissou"
          ],
          [
           "The Dressmaker"
          ],
          [
           "Private Valentine: Blonde & Dangerous"
          ],
          [
           "The Sacrament"
          ],
          [
           "Choke"
          ],
          [
           "Below"
          ],
          [
           "Win a Date with Tad Hamilton!"
          ],
          [
           "All Quiet on the Western Front"
          ],
          [
           "Larry Crowne"
          ],
          [
           "American Ninja"
          ],
          [
           "Sleeping with the Enemy"
          ],
          [
           "Howards End"
          ],
          [
           "Tank Girl"
          ],
          [
           "The Thomas Crown Affair"
          ],
          [
           "Miller's Crossing"
          ],
          [
           "Man of the House"
          ],
          [
           "Grace of Monaco"
          ],
          [
           "Grandma's Boy"
          ],
          [
           "Bronson"
          ],
          [
           "What If"
          ],
          [
           "Children of Heaven"
          ],
          [
           "The Last Exorcism"
          ],
          [
           "Missing in Action 2: The Beginning"
          ],
          [
           "Madea's Big Happy Family"
          ],
          [
           "A Most Wanted Man"
          ],
          [
           "The Messenger"
          ],
          [
           "Body Snatchers"
          ],
          [
           "First Knight"
          ],
          [
           "Million Dollar Arm"
          ],
          [
           "Inside Deep Throat"
          ],
          [
           "Kabhi Alvida Naa Kehna"
          ],
          [
           "The Greatest Story Ever Told"
          ],
          [
           "Upstream Color"
          ],
          [
           "Apollo 18"
          ],
          [
           "Narc"
          ],
          [
           "Annapolis"
          ],
          [
           "The Mercy"
          ],
          [
           "Tomcats"
          ],
          [
           "Employee of the Month"
          ],
          [
           "The Darjeeling Limited"
          ],
          [
           "Everybody's Fine"
          ],
          [
           "Super Size Me"
          ],
          [
           "Operation Red Sea"
          ],
          [
           "Pride and Glory"
          ],
          [
           "A Walk in the Woods"
          ],
          [
           "Beowulf"
          ],
          [
           "Everybody Wants Some!!"
          ],
          [
           "Dead Presidents"
          ],
          [
           "Repo! The Genetic Opera"
          ],
          [
           "Iron Sky: The Coming Race"
          ],
          [
           "An Inconvenient Truth"
          ],
          [
           "Roman Holiday"
          ],
          [
           "Straw Dogs"
          ],
          [
           "Notorious"
          ],
          [
           "Bel Ami"
          ],
          [
           "War of the Arrows"
          ],
          [
           "Shattered Glass"
          ],
          [
           "Nashville"
          ],
          [
           "Women on the Verge of a Nervous Breakdown"
          ],
          [
           "The Art of War"
          ],
          [
           "The Roommate"
          ],
          [
           "Clash of the Titans"
          ],
          [
           "Baggage Claim"
          ],
          [
           "Rudy"
          ],
          [
           "The Powerpuff Girls Movie"
          ],
          [
           "Good Bye Lenin!"
          ],
          [
           "The Invisible"
          ],
          [
           "The Machine"
          ],
          [
           "Yentl"
          ],
          [
           "Snow Buddies"
          ],
          [
           "The Island of Dr. Moreau"
          ],
          [
           "The Interpreter"
          ],
          [
           "Pollock"
          ],
          [
           "Wall Street: Money Never Sleeps"
          ],
          [
           "Go"
          ],
          [
           "Space Chimps"
          ],
          [
           "The Perfect Game"
          ],
          [
           "The Quiet American"
          ],
          [
           "The Hollars"
          ],
          [
           "Asterix: The Mansions of the Gods"
          ],
          [
           "Funny Games"
          ],
          [
           "The Best Exotic Marigold Hotel"
          ],
          [
           "Empire"
          ],
          [
           "Bulworth"
          ],
          [
           "One for the Money"
          ],
          [
           "The Grace Card"
          ],
          [
           "The Sweet Hereafter"
          ],
          [
           "The Ramen Girl"
          ],
          [
           "5 Flights Up"
          ],
          [
           "The Player"
          ],
          [
           "TransSiberian"
          ],
          [
           "Kramer vs. Kramer"
          ],
          [
           "Rebel Without a Cause"
          ],
          [
           "The Yellow Handkerchief"
          ],
          [
           "Man-Thing"
          ],
          [
           "The Beautician and the Beast"
          ],
          [
           "Cosmopolis"
          ],
          [
           "Big Miracle"
          ],
          [
           "Reno 911!: Miami"
          ],
          [
           "The Constant Gardener"
          ],
          [
           "Dracula"
          ],
          [
           "Alex & Emma"
          ],
          [
           "Rendition"
          ],
          [
           "Scrooged"
          ],
          [
           "Jab We Met"
          ],
          [
           "High Anxiety"
          ],
          [
           "Man on the Moon"
          ],
          [
           "It Happened One Night"
          ],
          [
           "Godard Mon Amour"
          ],
          [
           "Cop Land"
          ],
          [
           "My Cousin Vinny"
          ],
          [
           "Unknown"
          ],
          [
           "We Own the Night"
          ],
          [
           "My Blueberry Nights"
          ],
          [
           "Thank You for Your Service"
          ],
          [
           "Whatever It Takes"
          ],
          [
           "Stone"
          ],
          [
           "Lean on Pete"
          ],
          [
           "The Man with the Iron Fists"
          ],
          [
           "Dragon Wars: D-War"
          ],
          [
           "The Bear"
          ],
          [
           "Canadian Bacon"
          ],
          [
           "20,000 Leagues Under the Sea"
          ],
          [
           "Requiem for a Dream"
          ],
          [
           "Suspect Zero"
          ],
          [
           "Dog Day Afternoon"
          ],
          [
           "The Kids Are All Right"
          ],
          [
           "The Devil's Own"
          ],
          [
           "Set It Off"
          ],
          [
           "Abandon"
          ],
          [
           "Death Wish V: The Face of Death"
          ],
          [
           "Postcards from the Edge"
          ],
          [
           "The Wild Bunch"
          ],
          [
           "Tristan & Isolde"
          ],
          [
           "Reign Over Me"
          ],
          [
           "Frank"
          ],
          [
           "Dogtooth"
          ],
          [
           "North Country"
          ],
          [
           "Baby Boom"
          ],
          [
           "Touch of Evil"
          ],
          [
           "Network"
          ],
          [
           "Witness for the Prosecution"
          ],
          [
           "Gimme Shelter"
          ],
          [
           "Private Parts"
          ],
          [
           "My Bloody Valentine"
          ],
          [
           "Max Payne"
          ],
          [
           "Veronica Mars"
          ],
          [
           "Get Him to the Greek"
          ],
          [
           "The Peacemaker"
          ],
          [
           "Interiors"
          ],
          [
           "Capture the Flag"
          ],
          [
           "Milk"
          ],
          [
           "Stagecoach"
          ],
          [
           "Anonymous"
          ],
          [
           "Jackie"
          ],
          [
           "The Year of Living Dangerously"
          ],
          [
           "Amour"
          ],
          [
           "Airport"
          ],
          [
           "Gallipoli"
          ],
          [
           "The Muppet Christmas Carol"
          ],
          [
           "An Unfinished Life"
          ],
          [
           "Prom"
          ],
          [
           "Joe"
          ],
          [
           "Nothing to Lose"
          ],
          [
           "It's Complicated"
          ],
          [
           "THX 1138"
          ],
          [
           "The Physician"
          ],
          [
           "The Girl Who Kicked the Hornet's Nest"
          ],
          [
           "Paparazzi"
          ],
          [
           "Fish Tank"
          ],
          [
           "Saturday Night Fever"
          ],
          [
           "Restless"
          ],
          [
           "Detective Dee and the Mystery of the Phantom Flame"
          ],
          [
           "Bingo"
          ],
          [
           "Little White Lies"
          ],
          [
           "Top Secret!"
          ],
          [
           "Earth Girls Are Easy"
          ],
          [
           "100 Feet"
          ],
          [
           "Godzilla vs. Biollante"
          ],
          [
           "Captivity"
          ],
          [
           "Alexander and the Terrible, Horrible, No Good, Very Bad Day"
          ],
          [
           "Lost River"
          ],
          [
           "EXIT"
          ],
          [
           "The Return"
          ],
          [
           "Days of Thunder"
          ],
          [
           "Brubaker"
          ],
          [
           "Confidence"
          ],
          [
           "Split Second"
          ],
          [
           "Smashed"
          ],
          [
           "Return to Me"
          ],
          [
           "The Door in the Floor"
          ],
          [
           "Swing Time"
          ],
          [
           "La Femme Nikita"
          ],
          [
           "Thelma"
          ],
          [
           "The Second Best Exotic Marigold Hotel"
          ],
          [
           "Pirates"
          ],
          [
           "Frankenhooker"
          ],
          [
           "Tora! Tora! Tora!"
          ],
          [
           "Driven"
          ],
          [
           "C'est la vie!"
          ],
          [
           "Open Windows"
          ],
          [
           "He Got Game"
          ],
          [
           "The Poseidon Adventure"
          ],
          [
           "DeepStar Six"
          ],
          [
           "Big Trouble"
          ],
          [
           "Spice World: The Movie"
          ],
          [
           "The East"
          ],
          [
           "The Great Raid"
          ],
          [
           "Dangal"
          ],
          [
           "Glory"
          ],
          [
           "Fiddler on the Roof"
          ],
          [
           "Death at a Funeral"
          ],
          [
           "Death at a Funeral"
          ],
          [
           "Kate & Leopold"
          ],
          [
           "Rent"
          ],
          [
           "Dark Tide"
          ],
          [
           "The Net"
          ],
          [
           "Funny Girl"
          ],
          [
           "The Score"
          ],
          [
           "The Hitcher"
          ],
          [
           "The Cider House Rules"
          ],
          [
           "Marshland"
          ],
          [
           "99 Homes"
          ],
          [
           "The Big Bounce"
          ],
          [
           "Suburban Commando"
          ],
          [
           "Starman"
          ],
          [
           "Elizabeth"
          ],
          [
           "City Island"
          ],
          [
           "The Monkey King 2"
          ],
          [
           "White Squall"
          ],
          [
           "Certain Women"
          ],
          [
           "My Fair Lady"
          ],
          [
           "Showtime"
          ],
          [
           "Boogie Nights"
          ],
          [
           "London Fields"
          ],
          [
           "Dirty Girl"
          ],
          [
           "The Astronaut Farmer"
          ],
          [
           "Valhalla Rising"
          ],
          [
           "My Life in Ruins"
          ],
          [
           "Smoke"
          ],
          [
           "African Cats"
          ],
          [
           "Breaking Away"
          ],
          [
           "A River Runs Through It"
          ],
          [
           "Austenland"
          ],
          [
           "SpaceCamp"
          ],
          [
           "Jungle 2 Jungle"
          ],
          [
           "Igby Goes Down"
          ],
          [
           "Highlander II: The Quickening"
          ],
          [
           "This Is Spinal Tap"
          ],
          [
           "Ghost Town"
          ],
          [
           "The Girlfriend Experience"
          ],
          [
           "Fathers' Day"
          ],
          [
           "Jumping the Broom"
          ],
          [
           "Dragnet"
          ],
          [
           "Around the World in Eighty Days"
          ],
          [
           "Dhoom 2"
          ],
          [
           "All the King's Men"
          ],
          [
           "Godzilla vs. King Ghidorah"
          ],
          [
           "Gossip"
          ],
          [
           "Night of the Demons"
          ],
          [
           "Adore"
          ],
          [
           "Railroad Tigers"
          ],
          [
           "The Whole Ten Yards"
          ],
          [
           "The Last Picture Show"
          ],
          [
           "Behind the Candelabra"
          ],
          [
           "The Purple Rose of Cairo"
          ],
          [
           "Philomena"
          ],
          [
           "Crossing Over"
          ],
          [
           "The Infiltrator"
          ],
          [
           "Monster's Ball"
          ],
          [
           "Strangers on a Train"
          ],
          [
           "Ace in the Hole"
          ],
          [
           "Metro"
          ],
          [
           "Angel-A"
          ],
          [
           "Freddy Got Fingered"
          ],
          [
           "Hustle & Flow"
          ],
          [
           "Let's Go to Prison"
          ],
          [
           "Heaven's Gate"
          ],
          [
           "Midnight in the Garden of Good and Evil"
          ],
          [
           "Heartthrob"
          ],
          [
           "The Magnificent Seven"
          ],
          [
           "The Golden Child"
          ],
          [
           "Bull Durham"
          ],
          [
           "Jackpot"
          ],
          [
           "The Black Cat"
          ],
          [
           "Paris"
          ],
          [
           "The Phantom"
          ],
          [
           "The Last Exorcism Part II"
          ],
          [
           "Vanity Fair"
          ],
          [
           "Jism"
          ],
          [
           "King of New York"
          ],
          [
           "Blowin' In The Wind"
          ],
          [
           "Howl"
          ],
          [
           "There Goes My Baby"
          ],
          [
           "Night Must Fall"
          ],
          [
           "Switchback"
          ],
          [
           "A Coffee in Berlin"
          ],
          [
           "The Wiz"
          ],
          [
           "Bullitt"
          ],
          [
           "Shooting Fish"
          ],
          [
           "2046"
          ],
          [
           "Random Hearts"
          ],
          [
           "For Richer or Poorer"
          ],
          [
           "Happy Times"
          ],
          [
           "Ek Tha Tiger"
          ],
          [
           "The New Adventures of Pippi Longstocking"
          ],
          [
           "Love & Basketball"
          ],
          [
           "The Wizard"
          ],
          [
           "Last Flight"
          ],
          [
           "A Conspiracy of Faith"
          ],
          [
           "Far Cry"
          ],
          [
           "The Green Hornet"
          ],
          [
           "My Best Friend's Wedding"
          ],
          [
           "Zookeeper"
          ],
          [
           "Turning Tide"
          ],
          [
           "Dolemite"
          ],
          [
           "Once Upon a Time in Mumbaai"
          ],
          [
           "Butterfly"
          ],
          [
           "Boat Trip"
          ],
          [
           "Extreme Job"
          ],
          [
           "Cabin in the Sky"
          ],
          [
           "Their Finest"
          ],
          [
           "Vampires Suck"
          ],
          [
           "Sholem Aleichem: Laughing In The Darkness"
          ],
          [
           "The Snow Queen"
          ],
          [
           "This Is Elvis"
          ],
          [
           "Animal House"
          ],
          [
           "The Indian Runner"
          ],
          [
           "Fletch Lives"
          ],
          [
           "Made in Dagenham"
          ],
          [
           "Evita"
          ],
          [
           "Following"
          ],
          [
           "The Verdict"
          ],
          [
           "Moscow Gold"
          ],
          [
           "Rang De Basanti"
          ],
          [
           "Leslie Nielsen's Bad Golf My Way"
          ],
          [
           "Dinner at Eight"
          ],
          [
           "Jason's Lyric"
          ],
          [
           "Blade Runner"
          ],
          [
           "Between Us"
          ],
          [
           "Mother of Mine"
          ],
          [
           "Vanishing on 7th Street"
          ],
          [
           "Boys on the Side"
          ],
          [
           "Gamera: Guardian of the Universe"
          ],
          [
           "Happy Family"
          ],
          [
           "Airport '77"
          ],
          [
           "The Lady in the Van"
          ],
          [
           "Viper in the Fist"
          ],
          [
           "Karan Arjun"
          ],
          [
           "House at the End of the Street"
          ],
          [
           "Brigham City"
          ],
          [
           "Cutaway"
          ],
          [
           "Lafangey Parindey"
          ],
          [
           "The Arrival"
          ],
          [
           "Tape"
          ],
          [
           "Bodyguards and Assassins"
          ],
          [
           "Philadelphia Experiment II"
          ],
          [
           "Double Take"
          ],
          [
           "The Runaway Bride"
          ],
          [
           "Pane e burlesque"
          ],
          [
           "Camilla"
          ],
          [
           "War"
          ],
          [
           "The Robe"
          ],
          [
           "Trois 2: Pandora's Box"
          ],
          [
           "Surveillance"
          ],
          [
           "Song One"
          ],
          [
           "The Barbarians"
          ],
          [
           "Mrs Palfrey at The Claremont"
          ],
          [
           "Skinning"
          ],
          [
           "Revelation"
          ],
          [
           "The Other Man"
          ],
          [
           "Mr. Destiny"
          ],
          [
           "Horton Hears a Who!"
          ],
          [
           "Ode to Billy Joe"
          ],
          [
           "The Illusionist"
          ],
          [
           "Red Dragon"
          ],
          [
           "The Cherry Orchard"
          ],
          [
           "It Came from Hollywood"
          ],
          [
           "Star Trek Beyond"
          ],
          [
           "Finn & the Sea of Noise"
          ],
          [
           "The King and I"
          ],
          [
           "A Farewell to Arms"
          ],
          [
           "The Adventures of Huck Finn"
          ],
          [
           "Lage Raho Munna Bhai"
          ],
          [
           "Last Stop 174"
          ],
          [
           "Judgment at Nuremberg"
          ],
          [
           "Two Much"
          ],
          [
           "Space Truckers"
          ],
          [
           "A Blood Pledge"
          ],
          [
           "The River"
          ],
          [
           "Twister"
          ],
          [
           "Honeymoon Travels Pvt. Ltd."
          ],
          [
           "Quartet"
          ],
          [
           "Paths of the Gods"
          ],
          [
           "Dark Figure of Crime"
          ],
          [
           "Jungle Fever"
          ],
          [
           "Carbon Copy"
          ],
          [
           "Sleep Dealer"
          ],
          [
           "Monkey Shines"
          ],
          [
           "Down"
          ],
          [
           "The Intern"
          ],
          [
           "Three Fugitives"
          ],
          [
           "Amelia"
          ],
          [
           "Road to Nowhere"
          ],
          [
           "Meet Me in St. Louis"
          ],
          [
           "Sarfarosh"
          ],
          [
           "Things to Come"
          ],
          [
           "Appleseed"
          ],
          [
           "Are We There Yet?"
          ],
          [
           "Cursed"
          ],
          [
           "Peggy Sue Got Married"
          ],
          [
           "Mars"
          ],
          [
           "The Wraith"
          ],
          [
           "Blow Out"
          ],
          [
           "Conversations with Other Women"
          ],
          [
           "Infernal Affairs II"
          ],
          [
           "The Secret of My Success"
          ],
          [
           "Star Trek"
          ],
          [
           "When in Rome"
          ],
          [
           "Very Bad Things"
          ],
          [
           "Joyeux Noel"
          ],
          [
           "The Sweeney"
          ],
          [
           "Casshern"
          ],
          [
           "Alatriste"
          ],
          [
           "The Good Night"
          ],
          [
           "Admiral"
          ],
          [
           "Kissing Jessica Stein"
          ],
          [
           "Who Killed the Electric Car?"
          ],
          [
           "The Monster Squad"
          ],
          [
           "Elegy"
          ],
          [
           "Mommie Dearest"
          ],
          [
           "The Internship"
          ],
          [
           "Halloween H20: 20 Years Later"
          ],
          [
           "The Weight of Water"
          ],
          [
           "Nobel Son"
          ],
          [
           "Connie and Carla"
          ],
          [
           "Doctor Who"
          ],
          [
           "Land of the Dead"
          ],
          [
           "City by the Sea"
          ],
          [
           "Love and Death"
          ],
          [
           "Opal Dream"
          ],
          [
           "The Shaggy Dog"
          ],
          [
           "Star Trek III: The Search for Spock"
          ],
          [
           "A Nightmare on Elm Street 3: Dream Warriors"
          ],
          [
           "Foodfight!"
          ],
          [
           "The Untouchables"
          ],
          [
           "A Sound of Thunder"
          ],
          [
           "That still Karloson!"
          ],
          [
           "War and Peace"
          ],
          [
           "No Way Out"
          ],
          [
           "The Big Kahuna"
          ],
          [
           "True Colors"
          ],
          [
           "Cry Wolf"
          ],
          [
           "The Blue Bird"
          ],
          [
           "Boy Culture"
          ],
          [
           "Transcendence"
          ],
          [
           "Fruitvale Station"
          ],
          [
           "In a World..."
          ],
          [
           "Vishwaroopam"
          ],
          [
           "Made"
          ],
          [
           "Action Jackson"
          ],
          [
           "My Best Friend's Girl"
          ],
          [
           "While She Was Out"
          ],
          [
           "Coriolanus"
          ],
          [
           "Naach"
          ],
          [
           "Flight of the Navigator"
          ],
          [
           "Company"
          ],
          [
           "Sophie's Choice"
          ],
          [
           "Colors"
          ],
          [
           "Alien Nation"
          ],
          [
           "Guru"
          ],
          [
           "A Nightmare on Elm Street 4: The Dream Master"
          ],
          [
           "Swades"
          ],
          [
           "Katyn"
          ],
          [
           "Talk Radio"
          ],
          [
           "Road House"
          ],
          [
           "Louder Than Bombs"
          ],
          [
           "Calendar Girl"
          ],
          [
           "Queen of the Desert"
          ],
          [
           "Cherry 2000"
          ],
          [
           "Casualties of War"
          ],
          [
           "The Bellboy"
          ],
          [
           "Bad Santa"
          ],
          [
           "Yossi"
          ],
          [
           "Another American Crime"
          ],
          [
           "Only the Strong"
          ],
          [
           "Gangs of Wasseypur - Part 1"
          ],
          [
           "Intolerable Cruelty"
          ],
          [
           "Sukiyaki Western Django"
          ],
          [
           "Department"
          ],
          [
           "My Left Foot: The Story of Christy Brown"
          ],
          [
           "Waking Ned"
          ],
          [
           "Rob Roy"
          ],
          [
           "Mother's Day"
          ],
          [
           "Marked for Death"
          ],
          [
           "The Caine Mutiny"
          ],
          [
           "Arthur"
          ],
          [
           "This Is England"
          ],
          [
           "Swing Vote"
          ],
          [
           "JCVD"
          ],
          [
           "Cocktail"
          ],
          [
           "Nine"
          ],
          [
           "Flight of the Intruder"
          ],
          [
           "Bottle Rocket"
          ],
          [
           "Around the World in 80 Days"
          ],
          [
           "The French Kissers"
          ],
          [
           "Don't Look Back"
          ],
          [
           "Message in a Bottle"
          ],
          [
           "Hideous Kinky"
          ],
          [
           "In Cold Blood"
          ],
          [
           "Sliding Doors"
          ],
          [
           "Wimbledon"
          ],
          [
           "Swingers"
          ],
          [
           "Diana"
          ],
          [
           "The Spy"
          ],
          [
           "HOUBA! On the Trail of the Marsupilami"
          ],
          [
           "Amistad"
          ],
          [
           "A Simple Plan"
          ],
          [
           "Bring It On"
          ],
          [
           "Aiyyaa"
          ],
          [
           "Fishtales"
          ],
          [
           "Locked Out"
          ],
          [
           "The Return of the Pink Panther"
          ],
          [
           "Chaahat"
          ],
          [
           "Trimurti"
          ],
          [
           "Copying Beethoven"
          ],
          [
           "First Love, Last Rites"
          ],
          [
           "Ernest Goes to Camp"
          ],
          [
           "20 Feet from Stardom"
          ],
          [
           "The Accidental Spy"
          ],
          [
           "Blood of May"
          ],
          [
           "Heavenly Creatures"
          ],
          [
           "Duplicate"
          ],
          [
           "The King Is Dancing"
          ],
          [
           "Vivre Sa Vie"
          ],
          [
           "Dave Chappelle's Block Party"
          ],
          [
           "Cop and ½"
          ],
          [
           "War, Inc."
          ],
          [
           "50 to 1"
          ],
          [
           "Killer Tongue"
          ],
          [
           "Pale Rider"
          ],
          [
           "Accidental Love"
          ],
          [
           "Marvin's Room"
          ],
          [
           "Pat Garrett & Billy the Kid"
          ],
          [
           "Wallander - The Secret"
          ],
          [
           "Tiger Zinda Hai"
          ],
          [
           "The Rum Diary"
          ],
          [
           "The Flowers of War"
          ],
          [
           "Don't Stop Me Now"
          ],
          [
           "Aftershock"
          ],
          [
           "The Fast and the Furious"
          ],
          [
           "How to Make an American Quilt"
          ],
          [
           "Akeelah and the Bee"
          ],
          [
           "Marty"
          ],
          [
           "English Vinglish"
          ],
          [
           "Best of the Best"
          ],
          [
           "Tamara"
          ],
          [
           "Rowdy Rathore"
          ],
          [
           "A Passage to India"
          ],
          [
           "Maleficent"
          ],
          [
           "Purple Rain"
          ],
          [
           "Tuck Everlasting"
          ],
          [
           "Make Your Move"
          ],
          [
           "The Horseman on the Roof"
          ],
          [
           "Cinderfella"
          ],
          [
           "Godzilla, King of the Monsters!"
          ],
          [
           "Shortbus"
          ],
          [
           "Dad"
          ],
          [
           "What About Bob?"
          ],
          [
           "Oscar"
          ],
          [
           "The Shaggy Dog"
          ],
          [
           "The Amateur"
          ],
          [
           "Summer of Sam"
          ],
          [
           "Mommies, Happy New Year!"
          ],
          [
           "Friday the 13th Part VII: The New Blood"
          ],
          [
           "Runaway Train"
          ],
          [
           "Lights in the Dusk"
          ],
          [
           "Wake Up Sid"
          ],
          [
           "Ryaba, My Chicken"
          ],
          [
           "Ant-Man"
          ],
          [
           "Bait"
          ],
          [
           "Gleaming the Cube"
          ],
          [
           "I Dreamed of Africa"
          ],
          [
           "Fast & Furious"
          ],
          [
           "Submersion of Japan"
          ],
          [
           "Student of the Year"
          ],
          [
           "Best Man Down"
          ],
          [
           "She's All That"
          ],
          [
           "Surfer, Dude"
          ],
          [
           "The Lazarus Project"
          ],
          [
           "Atlantic City"
          ],
          [
           "Vanilla Sky"
          ],
          [
           "City of Life and Death"
          ],
          [
           "Apartment 1303 3D"
          ],
          [
           "The Prince of Tides"
          ],
          [
           "Spawn"
          ],
          [
           "Valley Girl"
          ],
          [
           "Those Magnificent Men in Their Flying Machines or How I Flew from London to Paris in 25 hours 11 minutes"
          ],
          [
           "Moby Dick"
          ],
          [
           "Hetalia: Axis Powers: Paint It, White!"
          ],
          [
           "Once Bitten"
          ],
          [
           "Supercapitalist"
          ],
          [
           "Pure Luck"
          ],
          [
           "The Castle"
          ],
          [
           "The Dark Half"
          ],
          [
           "Special"
          ],
          [
           "The Affair of the Necklace"
          ],
          [
           "Vanishing Point"
          ],
          [
           "Ram Jaane"
          ],
          [
           "Zamaana Deewana"
          ],
          [
           "Navigating the Heart"
          ],
          [
           "The Visitors II: The Corridors of Time"
          ],
          [
           "English Babu Desi Mem"
          ],
          [
           "Vulgar"
          ],
          [
           "Bus Stop"
          ],
          [
           "Two Lovers"
          ],
          [
           "The Sheltering Sky"
          ],
          [
           "Joe's Apartment"
          ],
          [
           "Catch-22"
          ],
          [
           "Bombay Talkies"
          ],
          [
           "Tea with Mussolini"
          ],
          [
           "Paradise: Love"
          ],
          [
           "Much Ado About Nothing"
          ],
          [
           "Breaker! Breaker!"
          ],
          [
           "Mud"
          ],
          [
           "Citizen Ruth"
          ],
          [
           "The Prophecy"
          ],
          [
           "The Face of Love"
          ],
          [
           "Drop Dead Fred"
          ],
          [
           "Supernova"
          ],
          [
           "The Berlin File"
          ],
          [
           "Jimmy P."
          ],
          [
           "The Limey"
          ],
          [
           "She Wore a Yellow Ribbon"
          ],
          [
           "Death Defying Acts"
          ],
          [
           "Doctor Dolittle"
          ],
          [
           "Jacked$"
          ],
          [
           "Wolf"
          ],
          [
           "Happy, Texas"
          ],
          [
           "Diggstown"
          ],
          [
           "House Party"
          ],
          [
           "Strictly Ballroom"
          ],
          [
           "Gaby: A True Story"
          ],
          [
           "The Mighty Ducks"
          ],
          [
           "Thomas and the Magic Railroad"
          ],
          [
           "The Last Dragon"
          ],
          [
           "Yeh Lamhe Judaai Ke"
          ],
          [
           "The Sword and the Sorcerer"
          ],
          [
           "The Lunchbox"
          ],
          [
           "The Big Red One"
          ],
          [
           "An American Carol"
          ],
          [
           "The Death and Life of Bobby Z"
          ],
          [
           "All About the Benjamins"
          ],
          [
           "Biwi No.1"
          ],
          [
           "A Different Loyalty"
          ],
          [
           "Red Rock West"
          ],
          [
           "Fly Me to the Moon"
          ],
          [
           "Haunted Honeymoon"
          ],
          [
           "The Derby Stallion"
          ],
          [
           "The Good Mother"
          ],
          [
           "The Power of Few"
          ],
          [
           "Mad Dog and Glory"
          ],
          [
           "The Cotton Club"
          ],
          [
           "The Man From Snowy River II"
          ],
          [
           "The Age of Innocence"
          ],
          [
           "Miss Potter"
          ],
          [
           "Town & Country"
          ],
          [
           "Beethoven's 2nd"
          ],
          [
           "Body of Evidence"
          ],
          [
           "Manhattan Murder Mystery"
          ],
          [
           "The Women"
          ],
          [
           "Ghanchakkar"
          ],
          [
           "Stop Making Sense"
          ],
          [
           "Satya"
          ],
          [
           "Rapa Nui"
          ],
          [
           "Zero Effect"
          ],
          [
           "Roommates"
          ],
          [
           "Dil To Pagal Hai"
          ],
          [
           "An Ideal Husband"
          ],
          [
           "The Wackness"
          ],
          [
           "College"
          ],
          [
           "Tutto tutto niente niente"
          ],
          [
           "The Wood"
          ],
          [
           "Bottle Shock"
          ],
          [
           "Baby Boy"
          ],
          [
           "The Buddy Holly Story"
          ],
          [
           "Run All Night"
          ],
          [
           "Machuca"
          ],
          [
           "Tom Sawyer"
          ],
          [
           "The Riddle"
          ],
          [
           "Slacker"
          ],
          [
           "Tin Cup"
          ],
          [
           "The Preacher's Wife"
          ],
          [
           "Hello, Dolly!"
          ],
          [
           "Soul Survivors"
          ],
          [
           "Windtalkers"
          ],
          [
           "The Way of the Gun"
          ],
          [
           "Highway to Hell"
          ],
          [
           "The Guest"
          ],
          [
           "Lupin the 3rd"
          ],
          [
           "The Quick and the Dead"
          ],
          [
           "Socha Na Tha"
          ],
          [
           "Damaged Lives"
          ],
          [
           "Hooper"
          ],
          [
           "Wizards"
          ],
          [
           "Barefoot"
          ],
          [
           "Rangeela"
          ],
          [
           "Silent Trigger"
          ],
          [
           "Dark Passage"
          ],
          [
           "Dostana"
          ],
          [
           "A Prophet"
          ],
          [
           "The Signal"
          ],
          [
           "The French Connection"
          ],
          [
           "Jodhaa Akbar"
          ],
          [
           "The Black Hole"
          ],
          [
           "Cutthroat Island"
          ],
          [
           "The Big Swap"
          ],
          [
           "Excessive Force"
          ],
          [
           "Itty Bitty Titty Committee"
          ],
          [
           "Son of Sardaar"
          ],
          [
           "Bride Wars"
          ],
          [
           "Gunmen"
          ],
          [
           "W."
          ],
          [
           "9th Company"
          ],
          [
           "The Others"
          ],
          [
           "The Touch"
          ],
          [
           "Golden Earrings"
          ],
          [
           "The Crocodiles"
          ],
          [
           "Outlander"
          ],
          [
           "Voyage to the Bottom of the Sea"
          ],
          [
           "Pocahontas"
          ],
          [
           "Bad Lieutenant"
          ],
          [
           "The Rapture"
          ],
          [
           "Auto Focus"
          ],
          [
           "Fantastic Voyage"
          ],
          [
           "Nighthawks"
          ],
          [
           "Dil Aashna Hai"
          ],
          [
           "The Funeral"
          ],
          [
           "Tri mushketera"
          ],
          [
           "The Hunchback of Notre Dame"
          ],
          [
           "Chill Factor"
          ],
          [
           "Breakdown"
          ],
          [
           "The Flock"
          ],
          [
           "Sheena"
          ],
          [
           "The Man from Snowy River"
          ],
          [
           "Zaytoun"
          ],
          [
           "Twice Born"
          ],
          [
           "Rita's Last Fairy Tale"
          ],
          [
           "East Is East"
          ],
          [
           "The First Day of the Rest of Your Life"
          ],
          [
           "The Stupids"
          ],
          [
           "Matewan"
          ],
          [
           "Jealousy"
          ],
          [
           "Biloxi Blues"
          ],
          [
           "The Love Guru"
          ],
          [
           "Chak De! India"
          ],
          [
           "Boys and Girls"
          ],
          [
           "Standing Still"
          ],
          [
           "Let's Be Cops"
          ],
          [
           "Funny Farm"
          ],
          [
           "Laura"
          ],
          [
           "Goemon"
          ],
          [
           "Air Bud: Golden Receiver"
          ],
          [
           "Mississippi Burning"
          ],
          [
           "Valiant"
          ],
          [
           "The Rose"
          ],
          [
           "The Kung Fu Scholar"
          ],
          [
           "Boiler Room"
          ],
          [
           "Exodus"
          ],
          [
           "Please Don't Eat the Daisies"
          ],
          [
           "Luck by Chance"
          ],
          [
           "Billu"
          ],
          [
           "Pinocchio"
          ],
          [
           "Zorba the Greek"
          ],
          [
           "Nell"
          ],
          [
           "Wet Hot American Summer"
          ],
          [
           "The Best Little Whorehouse in Texas"
          ],
          [
           "The Story of Us"
          ],
          [
           "Across to Singapore"
          ],
          [
           "Crooked Arrows"
          ],
          [
           "The Mod Squad"
          ],
          [
           "Oliver & Company"
          ],
          [
           "It Came from Outer Space"
          ],
          [
           "The Night Flier"
          ],
          [
           "Curdled"
          ],
          [
           "Mongol: The Rise of Genghis Khan"
          ],
          [
           "Mo' Money"
          ],
          [
           "In the Heat of the Night"
          ],
          [
           "After Life"
          ],
          [
           "The Precocious and Brief Life of Sabina Rivas"
          ],
          [
           "Home Fries"
          ],
          [
           "Sholay"
          ],
          [
           "The Hills Have Eyes"
          ],
          [
           "Winter Passing"
          ],
          [
           "The Pink Panther Strikes Again"
          ],
          [
           "Neighbors"
          ],
          [
           "Initial D"
          ],
          [
           "Love Ke Liye Kuch Bhi Karega"
          ],
          [
           "Godzilla 2000: Millennium"
          ],
          [
           "Manderlay"
          ],
          [
           "Singh Is Kinng"
          ],
          [
           "The Enforcer"
          ],
          [
           "Savages Crossing"
          ],
          [
           "Sudden Impact"
          ],
          [
           "Beyond the Mat"
          ],
          [
           "Hoop Dreams"
          ],
          [
           "Gettysburg"
          ],
          [
           "Subway"
          ],
          [
           "Mean Creek"
          ],
          [
           "The Red Violin"
          ],
          [
           "Human Capital"
          ],
          [
           "RRRrrrr!!!"
          ],
          [
           "Last Tango in Paris"
          ],
          [
           "Miracle"
          ],
          [
           "Red Cliff"
          ],
          [
           "The Elephant Man"
          ],
          [
           "Deliverance"
          ],
          [
           "Sergeant York"
          ],
          [
           "Bringing Down the House"
          ],
          [
           "Doogal"
          ],
          [
           "Hero Wanted"
          ],
          [
           "Did You Hear About the Morgans?"
          ],
          [
           "Mutiny on the Bounty"
          ],
          [
           "Hamlet"
          ],
          [
           "Joe Somebody"
          ],
          [
           "Crazy/Beautiful"
          ],
          [
           "The Chase"
          ],
          [
           "Infinitely Polar Bear"
          ],
          [
           "Glitter"
          ],
          [
           "Summer Window"
          ],
          [
           "The Keeper of Lost Causes"
          ],
          [
           "My Name Is Bruce"
          ],
          [
           "A Star Is Born"
          ],
          [
           "Bedknobs and Broomsticks"
          ],
          [
           "The Squid and the Whale"
          ],
          [
           "Tarnation"
          ],
          [
           "Bluffmaster!"
          ],
          [
           "Crossover"
          ],
          [
           "Far from Heaven"
          ],
          [
           "Drona"
          ],
          [
           "The King and I"
          ],
          [
           "Demonlover"
          ],
          [
           "Captain Ron"
          ],
          [
           "Ishkq in Paris"
          ],
          [
           "Titanic"
          ],
          [
           "Wolfen"
          ],
          [
           "Romanzo criminale"
          ],
          [
           "The Dirty Dozen"
          ],
          [
           "Quick Change"
          ],
          [
           "Rhinestone"
          ],
          [
           "The Last of the Finest"
          ],
          [
           "LOL (Laughing Out Loud)"
          ],
          [
           "Love Aaj Kal"
          ],
          [
           "Daddy's Little Girls"
          ],
          [
           "Lagaan: Once Upon a Time in India"
          ],
          [
           "Kidnap"
          ],
          [
           "The Skippers of the Cameleon 2"
          ],
          [
           "Winter in Wartime"
          ],
          [
           "Sarkar Raj"
          ],
          [
           "Code Name: The Cleaner"
          ],
          [
           "The Outlaw Josey Wales"
          ],
          [
           "Perfect Child"
          ],
          [
           "The Hollywood Knights"
          ],
          [
           "Me and Orson Welles"
          ],
          [
           "Wings of Desire"
          ],
          [
           "Just One of the Guys"
          ],
          [
           "Bandidas"
          ],
          [
           "Jism 2"
          ],
          [
           "Virsa"
          ],
          [
           "Waitress"
          ],
          [
           "Made of Honor"
          ],
          [
           "Volver"
          ],
          [
           "Miracle at St. Anna"
          ],
          [
           "The Contract"
          ],
          [
           "Body Heat"
          ],
          [
           "Loose Cannons"
          ],
          [
           "Porky's II: The Next Day"
          ],
          [
           "Sangharsh"
          ],
          [
           "A Wednesday!"
          ],
          [
           "PCU"
          ],
          [
           "Ordinary People"
          ],
          [
           "La Bamba"
          ],
          [
           "I Think I Love My Wife"
          ],
          [
           "Jungle"
          ],
          [
           "Raise the Titanic"
          ],
          [
           "Yves Saint Laurent"
          ],
          [
           "Strangerland"
          ],
          [
           "Bhoot"
          ],
          [
           "Country of My Skull"
          ],
          [
           "Jackson County Jail"
          ],
          [
           "The Remains of the Day"
          ],
          [
           "Life or Something Like It"
          ],
          [
           "Empire of the Wolves"
          ],
          [
           "Main Aurr Mrs Khanna"
          ],
          [
           "The Other Side of Heaven"
          ],
          [
           "Showgirls"
          ],
          [
           "Kurbaan"
          ],
          [
           "Battle Beyond the Stars"
          ],
          [
           "The Manchurian Candidate"
          ],
          [
           "The Bridge"
          ],
          [
           "Bee Season"
          ],
          [
           "The Hidden"
          ],
          [
           "The Best Two Years"
          ],
          [
           "Hannibal Rising"
          ],
          [
           "The Oh in Ohio"
          ],
          [
           "March of the Penguins"
          ],
          [
           "East of Eden"
          ],
          [
           "I'm So Excited!"
          ],
          [
           "The Gingerbread Man"
          ],
          [
           "Trespass"
          ],
          [
           "The Twilight Samurai"
          ],
          [
           "The Draughtsman's Contract"
          ],
          [
           "Native Son"
          ],
          [
           "Sling Blade"
          ],
          [
           "Elmer Gantry"
          ],
          [
           "School Ghost"
          ],
          [
           "Dreaming of Joseph Lees"
          ],
          [
           "This Gun for Hire"
          ],
          [
           "Labor Pains"
          ],
          [
           "Cry Freedom"
          ],
          [
           "Mio in the Land of Faraway"
          ],
          [
           "Long Live Freedom"
          ],
          [
           "The Tracey Fragments"
          ],
          [
           "Love and the City"
          ],
          [
           "The Adventures of Baron Munchausen"
          ],
          [
           "Clouds of Sils Maria"
          ],
          [
           "The Namesake"
          ],
          [
           "Like Mother, Like Daughter"
          ],
          [
           "From Beyond"
          ],
          [
           "MirrorMask"
          ],
          [
           "Nixon"
          ],
          [
           "Maximum Risk"
          ],
          [
           "Foolproof"
          ],
          [
           "Bullett Raja"
          ],
          [
           "The In-Laws"
          ],
          [
           "The Ref"
          ],
          [
           "Shadow of the Vampire"
          ],
          [
           "Exit Wounds"
          ],
          [
           "Whale Rider"
          ],
          [
           "Miracle Mile"
          ],
          [
           "Avalon"
          ],
          [
           "Sleeping Beauty"
          ],
          [
           "Godzilla"
          ],
          [
           "Bad Day at Black Rock"
          ],
          [
           "Welcome to Mooseport"
          ],
          [
           "Hud"
          ],
          [
           "Giant Killer"
          ],
          [
           "Godzilla Raids Again"
          ],
          [
           "Veeram"
          ],
          [
           "The Mysterious Lady"
          ],
          [
           "When Unku was Ede's Girlfriend"
          ],
          [
           "The Players Club"
          ],
          [
           "Gymkata"
          ],
          [
           "Outside Providence"
          ],
          [
           "Hard Times"
          ],
          [
           "Kalifornia"
          ],
          [
           "Brideshead Revisited"
          ],
          [
           "Undertaking Betty"
          ],
          [
           "Pocketful of Miracles"
          ],
          [
           "Black Dynamite"
          ],
          [
           "A Mighty Heart"
          ],
          [
           "The Fury"
          ],
          [
           "The Ladies Man"
          ],
          [
           "One Night Stand"
          ],
          [
           "Little Buddha"
          ],
          [
           "Stranger Than Fiction"
          ],
          [
           "The Joy Luck Club"
          ],
          [
           "Love Is All You Need"
          ],
          [
           "Playing God"
          ],
          [
           "The Inhabited Island"
          ],
          [
           "Slums of Beverly Hills"
          ],
          [
           "Havana"
          ],
          [
           "Ernest & Celestine"
          ],
          [
           "Godzilla Against MechaGodzilla"
          ],
          [
           "The Car Keys"
          ],
          [
           "New York, New York"
          ],
          [
           "Gangs of Wasseypur - Part 2"
          ],
          [
           "The Birdcage"
          ],
          [
           "Blue Streak"
          ],
          [
           "Inhale"
          ],
          [
           "Smokey and the Bandit"
          ],
          [
           "Black Christmas"
          ],
          [
           "Bridge to Terabithia"
          ],
          [
           "Romasanta: The Werewolf Hunt"
          ],
          [
           "Boiling Point"
          ],
          [
           "Intermission"
          ],
          [
           "Laurence Anyways"
          ],
          [
           "Year of the Dragon"
          ],
          [
           "Hawaii"
          ],
          [
           "Red Scorpion"
          ],
          [
           "Night of the Living Dead 3D"
          ],
          [
           "Two Brothers"
          ],
          [
           "The Night of the Iguana"
          ],
          [
           "Donkey X"
          ],
          [
           "City Heat"
          ],
          [
           "The Frisco Kid"
          ],
          [
           "Dressed to Kill"
          ],
          [
           "The Great Gatsby"
          ],
          [
           "Head Over Heels"
          ],
          [
           "Tough Guys"
          ],
          [
           "99"
          ],
          [
           "Komaram Puli"
          ],
          [
           "Swim Little Fish Swim"
          ],
          [
           "Little Big Man"
          ],
          [
           "The Long Riders"
          ],
          [
           "The Barbarian Invasions"
          ],
          [
           "Without Limits"
          ],
          [
           "Camille Claudel, 1915"
          ],
          [
           "Acts of Death"
          ],
          [
           "Atlas Shrugged: Part III"
          ],
          [
           "Where Eagles Dare"
          ],
          [
           "Niagara"
          ],
          [
           "Gunga Din"
          ],
          [
           "Ride with the Devil"
          ],
          [
           "The Egyptian"
          ],
          [
           "Chandni Chowk to China"
          ],
          [
           "Revolution"
          ],
          [
           "Ishtar"
          ],
          [
           "Slackers"
          ],
          [
           "Dil Chahta Hai"
          ],
          [
           "Parnell"
          ],
          [
           "An Awfully Big Adventure"
          ],
          [
           "Ridicule"
          ],
          [
           "Ghosts of the Abyss"
          ],
          [
           "The End of the Affair"
          ],
          [
           "Brewster's Millions"
          ],
          [
           "Boomerang"
          ],
          [
           "Sunshine"
          ],
          [
           "Wabash Avenue"
          ],
          [
           "Hell's Angels"
          ],
          [
           "The Fighting Temptations"
          ],
          [
           "In Too Deep"
          ],
          [
           "Aitraaz"
          ],
          [
           "What Maisie Knew"
          ],
          [
           "The Diary of a Teenage Girl"
          ],
          [
           "The Worst Christmas of My Life"
          ],
          [
           "I Can Quit Whenever I Want"
          ],
          [
           "Draft Day"
          ],
          [
           "Mutiny on the Bounty"
          ],
          [
           "Riding in Cars with Boys"
          ],
          [
           "The Ten Commandments"
          ],
          [
           "Barbecue"
          ],
          [
           "Presumed Innocent"
          ],
          [
           "Broadway Danny Rose"
          ],
          [
           "Attack of the Helping Hand!"
          ],
          [
           "The Matriarch"
          ],
          [
           "Scarlet Street"
          ],
          [
           "Heavyweights"
          ],
          [
           "Wickie the Mighty Viking"
          ],
          [
           "Swept Away"
          ],
          [
           "Enthiran"
          ],
          [
           "Hank Williams First Nation"
          ],
          [
           "4 Months, 3 Weeks and 2 Days"
          ],
          [
           "Forty Guns"
          ],
          [
           "Blue Collar"
          ],
          [
           "Earthquake"
          ],
          [
           "White Tiger"
          ],
          [
           "The Green Berets"
          ],
          [
           "Human Traffic"
          ],
          [
           "Shool"
          ],
          [
           "The Ballad of Jack and Rose"
          ],
          [
           "The Rescuers Down Under"
          ],
          [
           "Kung Fu Dunk"
          ],
          [
           "Dennis the Menace"
          ],
          [
           "Giant"
          ],
          [
           "The Object of My Affection"
          ],
          [
           "Shorts"
          ],
          [
           "Aloft"
          ],
          [
           "The Last Detail"
          ],
          [
           "The Diving Bell and the Butterfly"
          ],
          [
           "Not Fade Away"
          ],
          [
           "Beyond a Reasonable Doubt"
          ],
          [
           "Secrets & Lies"
          ],
          [
           "The Wind That Shakes the Barley"
          ],
          [
           "The Edge of Heaven"
          ],
          [
           "Jude"
          ],
          [
           "Full Grown Men"
          ],
          [
           "Leaves of Grass"
          ],
          [
           "Peeping Tom"
          ],
          [
           "The Secret Life of Bees"
          ],
          [
           "Cowboys & Angels"
          ],
          [
           "Welcome to Sarajevo"
          ],
          [
           "Secret Sunshine"
          ],
          [
           "Days of Glory"
          ],
          [
           "Drowning Mona"
          ],
          [
           "Torrente 3: The Protector"
          ],
          [
           "Batman: Mask of the Phantasm"
          ],
          [
           "The Women of Brewster Place"
          ],
          [
           "Love's Deadly Triangle: The Texas Cadet Murder"
          ],
          [
           "Bright Lights, Big City"
          ],
          [
           "Paper Heart"
          ],
          [
           "Janky Promoters"
          ],
          [
           "The Fast and the Furious"
          ],
          [
           "Eye for an Eye"
          ],
          [
           "Miranda"
          ],
          [
           "World's Greatest Dad"
          ],
          [
           "Yaariyan"
          ],
          [
           "Patton"
          ],
          [
           "Treasures O.K."
          ],
          [
           "Annie Get Your Gun"
          ],
          [
           "The Women"
          ],
          [
           "Wait Until Dark"
          ],
          [
           "Narco"
          ],
          [
           "The Alamo"
          ],
          [
           "Cool as Ice"
          ],
          [
           "Why Did I Get Married?"
          ],
          [
           "For the Boys"
          ],
          [
           "Baby's Day Out"
          ],
          [
           "Houseguest"
          ],
          [
           "The Trouble with Harry"
          ],
          [
           "Welcome to Dongmakgol"
          ],
          [
           "Smart People"
          ],
          [
           "Best Defense"
          ],
          [
           "Daylight"
          ],
          [
           "The Cry Baby Killer"
          ],
          [
           "The Gorgeous Hussy"
          ],
          [
           "Catch a Fire"
          ],
          [
           "Hitchcock"
          ],
          [
           "The Wrong Man"
          ],
          [
           "My Beautiful Laundrette"
          ],
          [
           "Valkyrie"
          ],
          [
           "West Side Story"
          ],
          [
           "While We're Young"
          ],
          [
           "One Night with the King"
          ],
          [
           "The Pick-up Artist"
          ],
          [
           "A Room with a View"
          ],
          [
           "Chasing Amy"
          ],
          [
           "The Black Stallion"
          ],
          [
           "Bird on a Wire"
          ],
          [
           "Article 99"
          ],
          [
           "The Fall of the Roman Empire"
          ],
          [
           "Holy Ghost People"
          ],
          [
           "Clockstoppers"
          ],
          [
           "Cocoon: The Return"
          ],
          [
           "The Battle of Algiers"
          ],
          [
           "Paper Moon"
          ],
          [
           "Bol Bachchan"
          ],
          [
           "The Swan Princess"
          ],
          [
           "Luck"
          ],
          [
           "Birdy"
          ],
          [
           "Fat Albert"
          ],
          [
           "Bon Cop Bad Cop"
          ],
          [
           "The Broken Hearts Club: A Romantic Comedy"
          ],
          [
           "Bananas"
          ],
          [
           "Brainstorm"
          ],
          [
           "Extreme Measures"
          ],
          [
           "Mean Streets"
          ],
          [
           "The World According to Garp"
          ],
          [
           "Never Die Alone"
          ],
          [
           "Hardware"
          ],
          [
           "City Slickers II: The Legend of Curly's Gold"
          ],
          [
           "Say It Isn't So"
          ],
          [
           "The TV Set"
          ],
          [
           "Dinner Rush"
          ],
          [
           "Il nostro matrimonio è in crisi"
          ],
          [
           "The Other End of the Line"
          ],
          [
           "Extreme Ops"
          ],
          [
           "Pushing Hands"
          ],
          [
           "Force 10 from Navarone"
          ],
          [
           "The Informant!"
          ],
          [
           "Shutter Island"
          ],
          [
           "Rogue"
          ],
          [
           "Tommy"
          ],
          [
           "Bride Flight"
          ],
          [
           "Fighter Pilot: Operation Red Flag"
          ],
          [
           "South Pacific"
          ],
          [
           "Popeye"
          ],
          [
           "Stardust Memories"
          ],
          [
           "Into the Night"
          ],
          [
           "Warlock"
          ],
          [
           "Paris, Je T'Aime"
          ],
          [
           "The Zodiac"
          ],
          [
           "A Polish Vampire in Burbank"
          ],
          [
           "Inchon"
          ],
          [
           "The Lair of the White Worm"
          ],
          [
           "Cape Fear"
          ],
          [
           "Never Been Kissed"
          ],
          [
           "The Odd Couple"
          ],
          [
           "Lights of New York"
          ],
          [
           "And So It Goes"
          ],
          [
           "Dumbo"
          ],
          [
           "Stalingrad"
          ],
          [
           "She's the One"
          ],
          [
           "Blood Simple"
          ],
          [
           "Dutch"
          ],
          [
           "No Entry"
          ],
          [
           "Paint Your Wagon"
          ],
          [
           "Day Watch"
          ],
          [
           "Airborne"
          ],
          [
           "Hollywood Homicide"
          ],
          [
           "Resident Evil: The Final Chapter"
          ],
          [
           "The Outsiders"
          ],
          [
           "In the Land of Women"
          ],
          [
           "The Crying Game"
          ],
          [
           "Ramayya Vasthavayya"
          ],
          [
           "The Assassin"
          ],
          [
           "Лесная царевна"
          ],
          [
           "Brooklyn Rules"
          ],
          [
           "Star Trek VI: The Undiscovered Country"
          ],
          [
           "Miami Rhapsody"
          ],
          [
           "The Natural"
          ],
          [
           "The Sessions"
          ],
          [
           "Pretty Woman"
          ],
          [
           "Night Rush"
          ],
          [
           "Colosio"
          ],
          [
           "The Seeker: The Dark Is Rising"
          ],
          [
           "A Yank at Oxford"
          ],
          [
           "Full Frontal"
          ],
          [
           "Mystery, Alaska"
          ],
          [
           "From Here to Eternity"
          ],
          [
           "The Mother of Tears"
          ],
          [
           "The Informers"
          ],
          [
           "Bathory: Countess of Blood"
          ],
          [
           "Victory Through Air Power"
          ],
          [
           "Everyone's Hero"
          ],
          [
           "Pennies from Heaven"
          ],
          [
           "Mighty Aphrodite"
          ],
          [
           "Victor Frankenstein"
          ],
          [
           "Manhunter"
          ],
          [
           "Java Heat"
          ],
          [
           "The SpongeBob Movie: Sponge Out of Water"
          ],
          [
           "200 Cigarettes"
          ],
          [
           "Suspicion"
          ],
          [
           "The Best Offer"
          ],
          [
           "Rapid Fire"
          ],
          [
           "Hunting Elephants"
          ],
          [
           "Return to Oz"
          ],
          [
           "Ain't Them Bodies Saints"
          ],
          [
           "Dhoom"
          ],
          [
           "A Perfect Man"
          ],
          [
           "Catch That Kid"
          ],
          [
           "The Monuments Men"
          ],
          [
           "The Past"
          ],
          [
           "Out on a Limb"
          ],
          [
           "The Outlander"
          ],
          [
           "The Boys & Girls Guide to Getting Down"
          ],
          [
           "Doggie Tails, Vol. 1: Lucky's First Sleep-Over"
          ],
          [
           "Mangal Pandey - The Rising"
          ],
          [
           "Lootera"
          ],
          [
           "Chennai Express"
          ],
          [
           "Unlawful Entry"
          ],
          [
           "Kidulthood"
          ],
          [
           "Don"
          ],
          [
           "Firestarter"
          ],
          [
           "Josh"
          ],
          [
           "Love and Honor"
          ],
          [
           "10th & Wolf"
          ],
          [
           "The Serpent and the Rainbow"
          ],
          [
           "The Crucible"
          ],
          [
           "Jakob the Liar"
          ],
          [
           "Kazaam"
          ],
          [
           "Goya's Ghosts"
          ],
          [
           "Takers"
          ],
          [
           "Winged Migration"
          ],
          [
           "S. Darko"
          ],
          [
           "Perfect Assassins"
          ],
          [
           "Return to Sender"
          ],
          [
           "Belle"
          ],
          [
           "Rollerball"
          ],
          [
           "The Misfits"
          ],
          [
           "Mutant Action"
          ],
          [
           "Black Nativity"
          ],
          [
           "A Madea Christmas"
          ],
          [
           "Altered States"
          ],
          [
           "Seraphim Falls"
          ],
          [
           "Torrente 5"
          ],
          [
           "Clerks II"
          ],
          [
           "Son of Rambow"
          ],
          [
           "Surviving the Game"
          ],
          [
           "Cosy Dens"
          ],
          [
           "Manglehorn"
          ],
          [
           "Metropolitan"
          ],
          [
           "Play Misty for Me"
          ],
          [
           "Owning Mahowny"
          ],
          [
           "One 2 Ka 4"
          ],
          [
           "The Notorious Bettie Page"
          ],
          [
           "Silver Streak"
          ],
          [
           "Sleeper"
          ],
          [
           "Cat People"
          ],
          [
           "Crimes and Misdemeanors"
          ],
          [
           "Death Race 2000"
          ],
          [
           "Burke & Wills"
          ],
          [
           "The Pursuit Of Victory"
          ],
          [
           "Every Which Way But Loose"
          ],
          [
           "Blues Brothers 2000"
          ],
          [
           "The Cocoanuts"
          ],
          [
           "The House of Mirth"
          ],
          [
           "Home Run"
          ],
          [
           "Bhaag Milkha Bhaag"
          ],
          [
           "Journey to the Center of the Earth"
          ],
          [
           "Hood of Horror"
          ],
          [
           "Panic"
          ],
          [
           "Clean Sweep"
          ],
          [
           "I Accuse!"
          ],
          [
           "While You Were Sleeping"
          ],
          [
           "The Great Race"
          ],
          [
           "It's a Mad, Mad, Mad, Mad World"
          ],
          [
           "Clockers"
          ],
          [
           "Roadside Romeo"
          ],
          [
           "Miss Julie"
          ],
          [
           "Saathiya"
          ],
          [
           "The I Inside"
          ],
          [
           "Kelly's Heroes"
          ],
          [
           "Serial Mom"
          ],
          [
           "Kismat Konnection"
          ],
          [
           "Three O'Clock High"
          ],
          [
           "Lucas"
          ],
          [
           "Redd Inc."
          ],
          [
           "The Gauntlet"
          ],
          [
           "Redacted"
          ],
          [
           "The Card Player"
          ],
          [
           "Michael Collins"
          ],
          [
           "D-Day"
          ],
          [
           "The Invention of Lying"
          ],
          [
           "Snow Day"
          ],
          [
           "Brokedown Palace"
          ],
          [
           "Ready to Rumble"
          ],
          [
           "Tales from the Darkside: The Movie"
          ],
          [
           "Decoding Annie Parker"
          ],
          [
           "Corky Romano"
          ],
          [
           "The Adventures of Rocky & Bullwinkle"
          ],
          [
           "Shattered"
          ],
          [
           "Farewell to the King"
          ],
          [
           "Carrie"
          ],
          [
           "12"
          ],
          [
           "Righteous Kill"
          ],
          [
           "The Miracle Worker"
          ],
          [
           "The Children of Huang Shi"
          ],
          [
           "The Wash"
          ],
          [
           "Flirting with Disaster"
          ],
          [
           "Shootout at Lokhandwala"
          ],
          [
           "The Spanish Apartment"
          ],
          [
           "Play It to the Bone"
          ],
          [
           "Alan Partridge: Alpha Papa"
          ],
          [
           "Radio Flyer"
          ],
          [
           "It's Alive"
          ],
          [
           "Razia Sultan"
          ],
          [
           "Gracie"
          ],
          [
           "Japanese Story"
          ],
          [
           "Roger & Me"
          ],
          [
           "Rumble Fish"
          ],
          [
           "The Cowboys"
          ],
          [
           "Dangerous People"
          ],
          [
           "Freaked"
          ],
          [
           "Rosewood"
          ],
          [
           "Married to the Mob"
          ],
          [
           "Novocaine"
          ],
          [
           "Local Color"
          ],
          [
           "X-Men Origins: Wolverine"
          ],
          [
           "Ramaiya Vastavaiya"
          ],
          [
           "Joe Versus the Volcano"
          ],
          [
           "Flame and the Flesh"
          ],
          [
           "The Ballad of Cable Hogue"
          ],
          [
           "A Gambler's Story"
          ],
          [
           "8 Million Ways to Die"
          ],
          [
           "Nick of Time"
          ],
          [
           "Hinter Kaifeck"
          ],
          [
           "Romeo Is Bleeding"
          ],
          [
           "Post Grad"
          ],
          [
           "She Hate Me"
          ],
          [
           "Parkland"
          ],
          [
           "Ida"
          ],
          [
           "The Darkness"
          ],
          [
           "The Postman Always Rings Twice"
          ],
          [
           "House of Usher"
          ],
          [
           "The French Minister"
          ],
          [
           "The Tailor of Panama"
          ],
          [
           "Damnation Alley"
          ],
          [
           "Sarkar"
          ],
          [
           "Mozart and the Whale"
          ],
          [
           "The Bad News Bears"
          ],
          [
           "Brother 2"
          ],
          [
           "Kenny Begins"
          ],
          [
           "Precious"
          ],
          [
           "Class of 1999"
          ],
          [
           "Solaris"
          ],
          [
           "Beautiful"
          ],
          [
           "The Book of Masters"
          ],
          [
           "Underwater Warrior"
          ],
          [
           "The Pallbearer"
          ],
          [
           "What a Way to Go!"
          ],
          [
           "Muriel's Wedding"
          ],
          [
           "Saving Grace"
          ],
          [
           "We Don't Live Here Anymore"
          ],
          [
           "Legend of the Lost"
          ],
          [
           "Dahmer"
          ],
          [
           "Lock, Stock and Two Smoking Barrels"
          ],
          [
           "Show Boat"
          ],
          [
           "A Simple Wish"
          ],
          [
           "Troll"
          ],
          [
           "07th Changes Course"
          ],
          [
           "Because of Winn-Dixie"
          ],
          [
           "Earth's Most Beloved Son"
          ],
          [
           "Paheli"
          ],
          [
           "Mildred Pierce"
          ],
          [
           "My Dog Skip"
          ],
          [
           "Jurassic Park III"
          ],
          [
           "Kick"
          ],
          [
           "Oliver!"
          ],
          [
           "Undiscovered"
          ],
          [
           "Iron & Blood: The Legend of Taras Bulba"
          ],
          [
           "Dillinger"
          ],
          [
           "Who Is Cletis Tout?"
          ],
          [
           "Galaxina"
          ],
          [
           "Waterloo"
          ],
          [
           "Delirious"
          ],
          [
           "Crossfire"
          ],
          [
           "Witchboard"
          ],
          [
           "Babysitting 2"
          ],
          [
           "Friends: Naki on Monster Island"
          ],
          [
           "Salinger"
          ],
          [
           "Himmatwala"
          ],
          [
           "Elephant"
          ],
          [
           "More American Graffiti"
          ],
          [
           "Bilal: A New Breed of Hero"
          ],
          [
           "Tucker: The Man and His Dream"
          ],
          [
           "The Odyssey"
          ],
          [
           "Chashme Baddoor"
          ],
          [
           "Piku"
          ],
          [
           "Julieta"
          ],
          [
           "Bleed for This"
          ],
          [
           "Sylvia"
          ],
          [
           "Trick"
          ],
          [
           "12 and Holding"
          ],
          [
           "Eye in the Sky"
          ],
          [
           "10 Cloverfield Lane"
          ],
          [
           "Lowriders"
          ],
          [
           "Mr. Right"
          ],
          [
           "Assassination of a High School President"
          ],
          [
           "The House of Yes"
          ],
          [
           "Like Water for Chocolate"
          ],
          [
           "Kiki's Delivery Service"
          ],
          [
           "A Patch of Blue"
          ],
          [
           "Alone With Her"
          ],
          [
           "As White as in Snow"
          ],
          [
           "Parrish"
          ],
          [
           "Blue Hawaii"
          ],
          [
           "The Bashful Bachelor"
          ],
          [
           "Reds"
          ],
          [
           "The Crush"
          ],
          [
           "Russian Dolls"
          ],
          [
           "George Washington"
          ],
          [
           "Losing Isaiah"
          ],
          [
           "Naayak"
          ],
          [
           "The Next Best Thing"
          ],
          [
           "Dogma"
          ],
          [
           "Scaramouche"
          ],
          [
           "Farewell, My Lovely"
          ],
          [
           "The Country Bears"
          ],
          [
           "Project X"
          ],
          [
           "Legend No. 17"
          ],
          [
           "City of Industry"
          ],
          [
           "Once Upon a Forest"
          ],
          [
           "Swiss Family Robinson"
          ],
          [
           "Night of the Comet"
          ],
          [
           "Daddy and Them"
          ],
          [
           "The Long Goodbye"
          ],
          [
           "The Cookout"
          ],
          [
           "The Invisible Woman"
          ],
          [
           "Invisible Agent"
          ],
          [
           "Mary Kom"
          ],
          [
           "Heavy Petting"
          ],
          [
           "Ghoulies"
          ],
          [
           "Yeh Jawaani Hai Deewani"
          ],
          [
           "A Tale of Love and Darkness"
          ],
          [
           "Never Forever"
          ],
          [
           "Walker"
          ],
          [
           "The Celestine Prophecy"
          ],
          [
           "East/West"
          ],
          [
           "Fled"
          ],
          [
           "How Stella Got Her Groove Back"
          ],
          [
           "Satan's Blood"
          ],
          [
           "House of Wax"
          ],
          [
           "Transformers"
          ],
          [
           "10 to Midnight"
          ],
          [
           "Ninotchka"
          ],
          [
           "Gentleman's Agreement"
          ],
          [
           "Losin' It"
          ],
          [
           "Pit and the Pendulum"
          ],
          [
           "Fur: An Imaginary Portrait of Diane Arbus"
          ],
          [
           "I'm Staying"
          ],
          [
           "One-Eyed Jacks"
          ],
          [
           "Rudolph the Red-Nosed Reindeer: The Movie"
          ],
          [
           "Eye of the Beholder"
          ],
          [
           "Band of the Hand"
          ],
          [
           "A Kind of Loving"
          ],
          [
           "Capone"
          ],
          [
           "Sands of Iwo Jima"
          ],
          [
           "Gabbar Is Back"
          ],
          [
           "Attack of the 50 Foot Woman"
          ],
          [
           "Beyond Rangoon"
          ],
          [
           "L.I.E."
          ],
          [
           "Tell 'em Steve-Dave: Puppet Theater"
          ],
          [
           "The Last Breath"
          ],
          [
           "Grindhouse"
          ],
          [
           "Valentino"
          ],
          [
           "Slow Burn"
          ],
          [
           "Guess Who's Coming to Dinner"
          ],
          [
           "A Prayer for the Dying"
          ],
          [
           "Mao's Last Dancer"
          ],
          [
           "Blue Ruin"
          ],
          [
           "Finding Mr. Right"
          ],
          [
           "The Legend of Hercules"
          ],
          [
           "Night on Earth"
          ],
          [
           "Three… Extremes"
          ],
          [
           "The Girl in the Book"
          ],
          [
           "Deadfall"
          ],
          [
           "Shootout at Wadala"
          ],
          [
           "Levity"
          ],
          [
           "Gone Girl"
          ],
          [
           "Street Hero"
          ],
          [
           "Kevin Hart: What Now?"
          ],
          [
           "Army Daze"
          ],
          [
           "Malcolm"
          ],
          [
           "She's Out of My League"
          ],
          [
           "Warning Sign"
          ],
          [
           "Death of a President"
          ],
          [
           "Lakshya"
          ],
          [
           "Vibes"
          ],
          [
           "Personal Shopper"
          ],
          [
           "House of Voices"
          ],
          [
           "Ted Bundy"
          ],
          [
           "Spaced Invaders"
          ],
          [
           "Dil Se.."
          ],
          [
           "Margarita with a Straw"
          ],
          [
           "You Can't Take It with You"
          ],
          [
           "The Original Kings of Comedy"
          ],
          [
           "Einfach nur Liebe"
          ],
          [
           "New Old Story"
          ],
          [
           "Something Wicked This Way Comes"
          ],
          [
           "Fritz the Cat"
          ],
          [
           "Barfly"
          ],
          [
           "Thunderbirds"
          ],
          [
           "Pushing Tin"
          ],
          [
           "The Best Man Holiday"
          ],
          [
           "The Work and the Glory II: American Zion"
          ],
          [
           "New Jack City"
          ],
          [
           "Man Hamsarash Hastam"
          ],
          [
           "8 Seconds"
          ],
          [
           "The Vicious Breed"
          ],
          [
           "Sweet Country"
          ],
          [
           "Chalte Chalte"
          ],
          [
           "Peter and Vandy"
          ],
          [
           "Communion"
          ],
          [
           "Atithi Tum Kab Jaoge?"
          ],
          [
           "Spanish Affair"
          ],
          [
           "Midnight Sun"
          ],
          [
           "The Transporter Refueled"
          ],
          [
           "Larger than Life"
          ],
          [
           "Young Adam"
          ],
          [
           "Topaz"
          ],
          [
           "C.H.U.D."
          ],
          [
           "Vamp"
          ],
          [
           "Sylvia Scarlett"
          ],
          [
           "How About You..."
          ],
          [
           "Wind"
          ],
          [
           "Most Wanted"
          ],
          [
           "In Dreams"
          ],
          [
           "Murphy's Romance"
          ],
          [
           "Men with Brooms"
          ],
          [
           "How the Grinch Stole Christmas! Documentary"
          ],
          [
           "Mannequin Two: On the Move"
          ],
          [
           "No Man's Land"
          ],
          [
           "90 Minutes in Heaven"
          ],
          [
           "The Apostle"
          ],
          [
           "Teen Patti"
          ],
          [
           "Garfield and Friends: Dreams & Schemes"
          ],
          [
           "The Perfect Weapon"
          ],
          [
           "The Thief of Bagdad"
          ],
          [
           "Limelight"
          ],
          [
           "I'm No Angel"
          ],
          [
           "Barton Fink"
          ],
          [
           "Max Keeble's Big Move"
          ],
          [
           "Our Family Wedding"
          ],
          [
           "The Kid Stays in the Picture"
          ],
          [
           "Collateral Beauty"
          ],
          [
           "Fist Fight"
          ],
          [
           "All I See Is You"
          ],
          [
           "The Raven"
          ],
          [
           "Monster from the Ocean Floor"
          ],
          [
           "Gun Shy"
          ],
          [
           "Franchesca Page"
          ],
          [
           "Riding Giants"
          ],
          [
           "Ocean's Eleven"
          ],
          [
           "A Troll in Central Park"
          ],
          [
           "Look Who's Back"
          ],
          [
           "Raavan"
          ],
          [
           "About Love"
          ],
          [
           "The Perfect Weapon"
          ],
          [
           "Piranha 3D"
          ],
          [
           "She Done Him Wrong"
          ],
          [
           "Ip Man 2"
          ],
          [
           "Actor in Law"
          ],
          [
           "Hardcore"
          ],
          [
           "Ghosts of Mississippi"
          ],
          [
           "Invaders from Mars"
          ],
          [
           "Spanish Movie"
          ],
          [
           "Hideaway"
          ],
          [
           "The Valley of Decision"
          ],
          [
           "De Dana Dan"
          ],
          [
           "Prophecy"
          ],
          [
           "Salaam-e-Ishq"
          ],
          [
           "French Women"
          ],
          [
           "Four Lions"
          ],
          [
           "Joysticks"
          ],
          [
           "Godzilla vs. SpaceGodzilla"
          ],
          [
           "Ghost in the Machine"
          ],
          [
           "Godzilla vs. Megaguirus"
          ],
          [
           "May God Save Us"
          ],
          [
           "Silent Fall"
          ],
          [
           "Convention City"
          ],
          [
           "The Golden Bowl"
          ],
          [
           "Mafia: Survival Game"
          ],
          [
           "The Sicilian"
          ],
          [
           "King Kong Lives"
          ],
          [
           "Airlift"
          ],
          [
           "Why Did I Get Married Too?"
          ],
          [
           "Christopher Columbus: The Discovery"
          ],
          [
           "Ringmaster"
          ],
          [
           "The Bread, My Sweet"
          ],
          [
           "Jimmy Vestvood: Amerikan Hero"
          ],
          [
           "Stateside"
          ],
          [
           "Champion"
          ],
          [
           "Stonewall"
          ],
          [
           "Aferim!"
          ],
          [
           "Chasing Ghosts"
          ],
          [
           "Gold"
          ],
          [
           "Desert Blue"
          ],
          [
           "Cooley High"
          ],
          [
           "The Woman I Love"
          ],
          [
           "Hurricane Season"
          ],
          [
           "The Silence of the Lambs"
          ],
          [
           "Zabriskie Point"
          ],
          [
           "Father Son Therapy"
          ],
          [
           "The Good Boy"
          ],
          [
           "The Lure"
          ],
          [
           "Almost an Angel"
          ],
          [
           "Man's Best Friend"
          ],
          [
           "A Taxi Driver"
          ],
          [
           "Emma"
          ],
          [
           "The Science of Sleep"
          ],
          [
           "Who's Afraid of Virginia Woolf?"
          ],
          [
           "A Rage in Harlem"
          ],
          [
           "The Cat o' Nine Tails"
          ],
          [
           "Killer of Sheep"
          ],
          [
           "Ramta Jogi"
          ],
          [
           "Hope and Glory"
          ],
          [
           "Girls Trip"
          ],
          [
           "Hello, My Name Is Doris"
          ],
          [
           "Moscow Zero"
          ],
          [
           "Mississippi Masala"
          ],
          [
           "From the Land of the Moon"
          ],
          [
           "Anthony Daniels"
          ],
          [
           "The Killing Jar"
          ],
          [
           "Resident Evil: Afterlife"
          ],
          [
           "Mo' Better Blues"
          ],
          [
           "The King's Choice"
          ],
          [
           "Hooked on the Game"
          ],
          [
           "The Duelist"
          ],
          [
           "Possession"
          ],
          [
           "Surviving Picasso"
          ],
          [
           "Same Time, Next Year"
          ],
          [
           "Mambo Italiano"
          ],
          [
           "Sultan"
          ],
          [
           "The Unholy Three"
          ],
          [
           "West of Zanzibar"
          ],
          [
           "Bolshoi"
          ],
          [
           "Split"
          ],
          [
           "Wazir"
          ],
          [
           "Blood Done Sign My Name"
          ],
          [
           "Hangover Square"
          ],
          [
           "Cars 3"
          ],
          [
           "The Penguins of Madagascar: Operation Antarctica"
          ],
          [
           "Baadshah"
          ],
          [
           "Ready to Wear"
          ],
          [
           "The Bride Wore Black"
          ],
          [
           "I Hope They Serve Beer in Hell"
          ],
          [
           "Renesse"
          ],
          [
           "Starchaser: The Legend of Orin"
          ],
          [
           "Three"
          ],
          [
           "Waking the Dead"
          ],
          [
           "It's a Boy Girl Thing"
          ],
          [
           "Beastmaster 2: Through the Portal of Time"
          ],
          [
           "Phat Girlz"
          ],
          [
           "Aquarius"
          ],
          [
           "The Singing Detective"
          ],
          [
           "The Miracle of P. Tinto"
          ],
          [
           "The Abyss"
          ],
          [
           "Let's Try Again"
          ],
          [
           "Physical Evidence"
          ],
          [
           "Flamingo Road"
          ],
          [
           "Alexander's Ragtime Band"
          ],
          [
           "Capote"
          ],
          [
           "Life During Wartime"
          ],
          [
           "800 Bullets"
          ],
          [
           "Princess Ka'iulani"
          ],
          [
           "The Runaways"
          ],
          [
           "The Opposite Sex"
          ],
          [
           "Doctor Proctor: Bubble in the Bathtub"
          ],
          [
           "Consenting Adults"
          ],
          [
           "Antikiller"
          ],
          [
           "Blowfly Park"
          ],
          [
           "Rambling Rose"
          ],
          [
           "Love Me Tender"
          ],
          [
           "Cat on a Hot Tin Roof"
          ],
          [
           "Dr. Jekyll and Mr. Hyde"
          ],
          [
           "Birds of Passage"
          ],
          [
           "The Midwife"
          ],
          [
           "Salyut-7"
          ],
          [
           "The Manhattan Project"
          ],
          [
           "Mary of Scotland"
          ],
          [
           "Kangaroo"
          ],
          [
           "Duel in the Sun"
          ],
          [
           "Onegin"
          ],
          [
           "Baby It's You"
          ],
          [
           "San Francisco"
          ],
          [
           "Lost in the Sun"
          ],
          [
           "Kingdom of the Spiders"
          ],
          [
           "Swimming Pool"
          ],
          [
           "The Charge of the Light Brigade"
          ],
          [
           "Civil Brand"
          ],
          [
           "Udta Punjab"
          ],
          [
           "Badmaash Company"
          ],
          [
           "The Black Room"
          ],
          [
           "High Security Vacation"
          ],
          [
           "Badlapur"
          ],
          [
           "Tomorrow, When the War Began"
          ],
          [
           "My Soul to Take"
          ],
          [
           "Shadow of a Woman"
          ],
          [
           "Dylan Dog: Dead of Night"
          ],
          [
           "Gods and Monsters"
          ],
          [
           "Like Dandelion Dust"
          ],
          [
           "Mammuth"
          ],
          [
           "Devil"
          ],
          [
           "Freakonomics"
          ],
          [
           "A Bag of Marbles"
          ],
          [
           "The Doctor"
          ],
          [
           "Race"
          ],
          [
           "Naturally Native"
          ],
          [
           "Little Spirou"
          ],
          [
           "From a Whisper to a Scream"
          ],
          [
           "Tom and Jerry Meet Sherlock Holmes"
          ],
          [
           "The Grinch"
          ],
          [
           "Music of the Heart"
          ],
          [
           "Clifford"
          ],
          [
           "American Gigolo"
          ],
          [
           "Stanley & Iris"
          ],
          [
           "127 Hours"
          ],
          [
           "Cure"
          ],
          [
           "Mrs. Brown's Boys D'Movie"
          ],
          [
           "The Keep"
          ],
          [
           "The House Across the Bay"
          ],
          [
           "Frankie and Johnny"
          ],
          [
           "The Informer"
          ],
          [
           "Fan"
          ],
          [
           "Payback: Straight Up"
          ],
          [
           "Razorback"
          ],
          [
           "Real Women Have Curves"
          ],
          [
           "Lost in Galicia"
          ],
          [
           "Hooked on the Game 2. The Next Level"
          ],
          [
           "An American in Paris"
          ],
          [
           "Marci X"
          ],
          [
           "55 Days at Peking"
          ],
          [
           "The Return of Godzilla"
          ],
          [
           "The Hand"
          ],
          [
           "The Bad and the Beautiful"
          ],
          [
           "Down Terrace"
          ],
          [
           "The Legacy"
          ],
          [
           "The Work and the Glory"
          ],
          [
           "The In Crowd"
          ],
          [
           "The Sea Hawk"
          ],
          [
           "The Spacewalker"
          ],
          [
           "Lost & Found"
          ],
          [
           "Undercurrent"
          ],
          [
           "Human Nature"
          ],
          [
           "Tales from Earthsea"
          ],
          [
           "Harper"
          ],
          [
           "Police, Adjective"
          ],
          [
           "Two Girls and a Guy"
          ],
          [
           "Strangeland"
          ],
          [
           "Brown Sugar"
          ],
          [
           "Not of This Earth"
          ],
          [
           "Mrs. Winterbourne"
          ],
          [
           "The Miracle Man"
          ],
          [
           "Party Girl"
          ],
          [
           "Toilet: A Love Story"
          ],
          [
           "Prefontaine"
          ],
          [
           "Baadshaho"
          ],
          [
           "The Work and the Glory III: A House Divided"
          ],
          [
           "Night Watch"
          ],
          [
           "China Moon"
          ],
          [
           "Wild Target"
          ],
          [
           "The Believer"
          ],
          [
           "Chain Letter"
          ],
          [
           "Timebomb"
          ],
          [
           "Godzilla, Mothra and King Ghidorah: Giant Monsters All-Out Attack"
          ],
          [
           "Babysitting"
          ],
          [
           "The Company Men"
          ],
          [
           "Good Guys Wear Black"
          ],
          [
           "Flight Crew"
          ],
          [
           "Micmacs"
          ],
          [
           "Killing Poe"
          ],
          [
           "Shakes the Clown"
          ],
          [
           "The Molly Maguires"
          ],
          [
           "Popular Music"
          ],
          [
           "Star"
          ],
          [
           "Warlords of the 21st Century"
          ],
          [
           "Garden State"
          ],
          [
           "Smoke & Mirrors"
          ],
          [
           "Voiceless"
          ],
          [
           "The Hunted"
          ],
          [
           "A Low Down Dirty Shame"
          ],
          [
           "Prem Ratan Dhan Payo"
          ],
          [
           "G.I. Jane"
          ],
          [
           "Continental"
          ],
          [
           "Everybody Knows"
          ],
          [
           "Reality Bites"
          ],
          [
           "Valley of the Dolls"
          ],
          [
           "Hombre"
          ],
          [
           "Believe"
          ],
          [
           "Top Dog"
          ],
          [
           "Bengal Tiger"
          ],
          [
           "To Catch a Thief"
          ],
          [
           "Bunraku"
          ],
          [
           "42nd Street"
          ],
          [
           "Whiskey Tango Foxtrot"
          ],
          [
           "The Continent"
          ],
          [
           "Heathers"
          ],
          [
           "Cruel World"
          ],
          [
           "Power of Attorney"
          ],
          [
           "The Two Jakes"
          ],
          [
           "Heavy Traffic"
          ],
          [
           "The Big Parade"
          ],
          [
           "The House on Sorority Row"
          ],
          [
           "2010"
          ],
          [
           "Somebody Up There Likes Me"
          ],
          [
           "Scribblers"
          ],
          [
           "Mohenjo Daro"
          ],
          [
           "Macon County Line"
          ],
          [
           "Abracadabra"
          ],
          [
           "Intolerance: Love's Struggle Throughout the Ages"
          ],
          [
           "Tara Road"
          ],
          [
           "Shadow Conspiracy"
          ],
          [
           "She's Gotta Have It"
          ],
          [
           "The Age of Shadows"
          ],
          [
           "Aśoka"
          ],
          [
           "Hot to Trot"
          ],
          [
           "Veer-Zaara"
          ],
          [
           "A Long Way Off"
          ],
          [
           "Soulless 2"
          ],
          [
           "Rules Don't Apply"
          ],
          [
           "Scary Movie 4"
          ],
          [
           "The Double Hour"
          ],
          [
           "One More Round"
          ],
          [
           "Bitter Harvest"
          ],
          [
           "Xchange"
          ],
          [
           "Mirzya"
          ],
          [
           "Big Fan"
          ],
          [
           "Frankenstein Unbound"
          ],
          [
           "The Curse of Frankenstein"
          ],
          [
           "I Smile Back"
          ],
          [
           "R.A.I.D. Special Unit"
          ],
          [
           "Top Hat"
          ],
          [
           "Act of Violence"
          ],
          [
           "The Goalie's Anxiety at the Penalty Kick"
          ],
          [
           "Eyes of Laura Mars"
          ],
          [
           "Charly"
          ],
          [
           "Black Snow"
          ],
          [
           "Club Paradise"
          ],
          [
           "In Country"
          ],
          [
           "Force 2"
          ],
          [
           "Original Gangstas"
          ],
          [
           "The War in Space"
          ],
          [
           "Toro"
          ],
          [
           "Sanam Re"
          ],
          [
           "Caché"
          ],
          [
           "The Immortals"
          ],
          [
           "Out for a Kill"
          ],
          [
           "Tangerine"
          ],
          [
           "Todo menos la chica"
          ],
          [
           "Mummy, I'm a Zombie"
          ],
          [
           "Animal Kingdom"
          ],
          [
           "Teenage Mutant Ninja Turtles: Out of the Shadows"
          ],
          [
           "Holy Camp!"
          ],
          [
           "Standing Tall"
          ],
          [
           "Khatta Meetha"
          ],
          [
           "The Darkest Minds"
          ],
          [
           "Trapeze"
          ],
          [
           "Anjaana Anjaani"
          ],
          [
           "The Spanish Prisoner"
          ],
          [
           "Bob & Carol & Ted & Alice"
          ],
          [
           "A Soldier's Story"
          ],
          [
           "Heal the Living"
          ],
          [
           "Danger Signal"
          ],
          [
           "Sweet Charity"
          ],
          [
           "The Tulse Luper Suitcases, Part 3: From Sark to the Finish"
          ],
          [
           "Woman Thou Art Loosed"
          ],
          [
           "Transformers: Dark of the Moon"
          ],
          [
           "Aftershock"
          ],
          [
           "Table for Five"
          ],
          [
           "The Death of Mr. Lazarescu"
          ],
          [
           "X-Men: The Last Stand"
          ],
          [
           "The Tempest"
          ],
          [
           "The Deep End of the Ocean"
          ],
          [
           "Fashion Chicks"
          ],
          [
           "Solarbabies"
          ],
          [
           "In a Better World"
          ],
          [
           "Mike's Murder"
          ],
          [
           "Contempt"
          ],
          [
           "Winter Carnival"
          ],
          [
           "20th Century Boys 1: Beginning of the End"
          ],
          [
           "D'Unbelievables D'Mother"
          ],
          [
           "Meet the Deedles"
          ],
          [
           "Captain Hurricane"
          ],
          [
           "The Heart is Deceitful Above All Things"
          ],
          [
           "Mayday! Überfall auf hoher See"
          ],
          [
           "Moonlight Mile"
          ],
          [
           "X-Men"
          ],
          [
           "X2"
          ],
          [
           "The Born Losers"
          ],
          [
           "Sidewalks of New York"
          ],
          [
           "Noises Off..."
          ],
          [
           "The Thief and the Cobbler"
          ],
          [
           "Shane"
          ],
          [
           "Only The Brave"
          ],
          [
           "Indecent Proposal"
          ],
          [
           "Pollyanna"
          ],
          [
           "Bling"
          ],
          [
           "D'Unbelievables D'Telly"
          ],
          [
           "A Ghost Story"
          ],
          [
           "Solitary Man"
          ],
          [
           "The Tulse Luper Suitcases, Part 1: The Moab Story"
          ],
          [
           "Perfect Opposites"
          ],
          [
           "Love"
          ],
          [
           "3 Godfathers"
          ],
          [
           "The Gospel of John"
          ],
          [
           "The Sailor Takes a Wife"
          ],
          [
           "300 Worte Deutsch"
          ],
          [
           "The Lost World: Jurassic Park"
          ],
          [
           "Curse of the Pink Panther"
          ],
          [
           "The Tulse Luper Suitcases, Part 2: Vaux to the Sea"
          ],
          [
           "The Little Prince"
          ],
          [
           "Reckless Kelly"
          ],
          [
           "All the Money in the World"
          ],
          [
           "A Quiet Place"
          ],
          [
           "Wonder"
          ],
          [
           "Sunset"
          ],
          [
           "Space Dogs"
          ],
          [
           "Deadly Delicious"
          ],
          [
           "Our Russia. Eggs of Destiny"
          ],
          [
           "The Adventures of Huck Finn"
          ],
          [
           "The Disappearance of Alice Creed"
          ],
          [
           "The Newton Boys"
          ],
          [
           "Trio"
          ],
          [
           "Antikiller D.K"
          ],
          [
           "Punchline"
          ],
          [
           "From Justin to Kelly"
          ],
          [
           "A Star Is Born"
          ],
          [
           "Black Lightning"
          ],
          [
           "Desert Hearts"
          ],
          [
           "Guadalupe"
          ],
          [
           "The Losers"
          ],
          [
           "D'Unbelievables One Hell of a Do"
          ],
          [
           "4.3.2.1"
          ],
          [
           "kalabi"
          ],
          [
           "I Hate Luv Storys"
          ],
          [
           "Diamond 13"
          ],
          [
           "The Agony and the Ecstasy"
          ],
          [
           "The Train"
          ],
          [
           "Soul Kitchen"
          ],
          [
           "Norma Rae"
          ],
          [
           "Tim"
          ],
          [
           "Kidnap"
          ],
          [
           "Hesher"
          ],
          [
           "For Colored Girls Who Have Considered Suicide/When The Rainbow Is Enuf"
          ],
          [
           "My Baby's Daddy"
          ],
          [
           "Scandalize My Name: Stories from the Blacklist"
          ],
          [
           "Loose Cannons"
          ],
          [
           "Sleight"
          ],
          [
           "The Enforcer"
          ],
          [
           "One, Two, Three"
          ],
          [
           "Macabre"
          ],
          [
           "An Unmarried Woman"
          ],
          [
           "Horoscope for Good Luck"
          ],
          [
           "Off Limits"
          ],
          [
           "Poor White Trash"
          ],
          [
           "Tevar"
          ],
          [
           "The Time That Remains"
          ],
          [
           "The Legend of the Lone Ranger"
          ],
          [
           "Paradise"
          ],
          [
           "Lone Star"
          ],
          [
           "Kitchen in Paris"
          ],
          [
           "Switching Channels"
          ],
          [
           "Passion Play"
          ],
          [
           "Six Degrees of Celebration 1914"
          ],
          [
           "Roadgames"
          ],
          [
           "Waiting to Exhale"
          ],
          [
           "Flesh and the Devil"
          ],
          [
           "Çalgı Çengi İkimiz"
          ],
          [
           "Dhoom 3"
          ],
          [
           "Lady Frankenstein"
          ],
          [
           "Would I Lie to You? 2"
          ],
          [
           "Trust"
          ],
          [
           "Spanish Affair 2"
          ],
          [
           "Machine"
          ],
          [
           "Heaven's Prisoners"
          ],
          [
           "Myra Breckinridge"
          ],
          [
           "Never on Sunday"
          ],
          [
           "Big Bully"
          ],
          [
           "Eegah"
          ],
          [
           "The Killer Shrews"
          ],
          [
           "Taras Bulba"
          ],
          [
           "Memoirs of an Invisible Man"
          ],
          [
           "Little Ashes"
          ],
          [
           "Snow Cake"
          ],
          [
           "Let's Do It Again"
          ],
          [
           "Have Fun, Vasya!"
          ],
          [
           "Lion of the Desert"
          ],
          [
           "Chasing the Dragon"
          ],
          [
           "Things We Lost in the Fire"
          ],
          [
           "The Invincible Dragon"
          ],
          [
           "Candidate"
          ],
          [
           "Bajrangi Bhaijaan"
          ],
          [
           "I Am Not Your Negro"
          ],
          [
           "Hot Pursuit"
          ],
          [
           "The Mudge Boy"
          ],
          [
           "The Devil Wears Prada"
          ],
          [
           "Black Rain"
          ],
          [
           "Don 2"
          ],
          [
           "Edison And Leo"
          ],
          [
           "I Am Love"
          ],
          [
           "Evil Angels"
          ],
          [
           "Boogie Woogie"
          ],
          [
           "Black and White"
          ],
          [
           "The Beast from 20,000 Fathoms"
          ],
          [
           "Double Lover"
          ],
          [
           "The Cat's Meow"
          ],
          [
           "Mars: Pioneering the Planet"
          ],
          [
           "Hum Tum Aur Ghost"
          ],
          [
           "Under Siege 2: Dark Territory"
          ],
          [
           "By the Sea"
          ],
          [
           "The Lords of Flatbush"
          ],
          [
           "Monique"
          ],
          [
           "The Pirate"
          ],
          [
           "Rann"
          ],
          [
           "Samba"
          ],
          [
           "The Metamorphosis"
          ],
          [
           "Car 54, Where Are You?"
          ],
          [
           "Mercy Streets"
          ],
          [
           "Furry Vengeance"
          ],
          [
           "U2 3D"
          ],
          [
           "Bangistan"
          ],
          [
           "On the Town"
          ],
          [
           "Friendly Persuasion"
          ],
          [
           "No Holds Barred"
          ],
          [
           "A Woman Is a Woman"
          ],
          [
           "Jolly LLB 2"
          ],
          [
           "Saint John of Las Vegas"
          ],
          [
           "The Legend of Bhagat Singh"
          ],
          [
           "Heartbreaker"
          ],
          [
           "Queen Christina"
          ],
          [
           "The Nun's Story"
          ],
          [
           "Legend of the Guardians: The Owls of Ga'Hoole"
          ],
          [
           "How Green Was My Valley"
          ],
          [
           "The Fury of a Patient Man"
          ],
          [
           "Christian Mingle"
          ],
          [
           "Spacehunter: Adventures in the Forbidden Zone"
          ],
          [
           "I Was a Teenage Werewolf"
          ],
          [
           "To Steal from a Thief"
          ],
          [
           "Melodin från Gamla Stan"
          ],
          [
           "Seven Minutes in Heaven"
          ],
          [
           "The Big Picture"
          ],
          [
           "Ki & Ka"
          ],
          [
           "Pinocchio and the Emperor of the Night"
          ],
          [
           "Foolish Wives"
          ],
          [
           "The First Power"
          ],
          [
           "PK"
          ],
          [
           "Payback"
          ],
          [
           "The Thin Man"
          ],
          [
           "The Concorde... Airport '79"
          ],
          [
           "The Lucky Man"
          ],
          [
           "Someone to Watch Over Me"
          ],
          [
           "The Irony of Fate. The Sequel"
          ],
          [
           "Fightin' Fools"
          ],
          [
           "Ben-Hur: A Tale of the Christ"
          ],
          [
           "Gemini Man"
          ],
          [
           "Gold Diggers of 1933"
          ],
          [
           "What Men Talk About"
          ],
          [
           "Gautamiputra Satakarni"
          ],
          [
           "Silent Rage"
          ],
          [
           "The Villain"
          ],
          [
           "Ca$h"
          ],
          [
           "Robot Monster"
          ],
          [
           "The Naked Gun 2½: The Smell of Fear"
          ],
          [
           "Slack Bay"
          ],
          [
           "A Guy Named Joe"
          ],
          [
           "Cartels"
          ],
          [
           "Católicos"
          ],
          [
           "For Me and My Gal"
          ],
          [
           "Dear Zindagi"
          ],
          [
           "Major Dundee"
          ],
          [
           "The Marrying Man"
          ],
          [
           "Carlos"
          ],
          [
           "Mishima: A Life in Four Chapters"
          ],
          [
           "New Year's Eve"
          ],
          [
           "Parts Per Billion"
          ],
          [
           "Bend It Like Beckham"
          ],
          [
           "Real Steel"
          ],
          [
           "Pink"
          ],
          [
           "Godzilla 1985"
          ],
          [
           "Island in the Sun"
          ],
          [
           "Gemma Bovery"
          ],
          [
           "Young Soul Rebels"
          ],
          [
           "Mata Hari"
          ],
          [
           "Wise Guys"
          ],
          [
           "Crazy Rich Asians"
          ],
          [
           "Shalako"
          ],
          [
           "Mr. Stein Goes Online"
          ],
          [
           "Max & Leon"
          ],
          [
           "The Round Up"
          ],
          [
           "The Hunchback of Notre Dame"
          ],
          [
           "Suite Française"
          ],
          [
           "Carnosaur"
          ],
          [
           "Becoming Jane"
          ],
          [
           "The Miracle of the Bells"
          ],
          [
           "The Green Carriage"
          ],
          [
           "Bathing Beauty"
          ],
          [
           "A Countess from Hong Kong"
          ],
          [
           "The Meaning of Life"
          ],
          [
           "Affliction"
          ],
          [
           "Heyy Babyy"
          ],
          [
           "2.0"
          ],
          [
           "Bombay Velvet"
          ],
          [
           "Fort Apache"
          ],
          [
           "All The Queen's Men"
          ],
          [
           "Yuva"
          ],
          [
           "Zyzzyx Road"
          ],
          [
           "Mighty Joe Young"
          ],
          [
           "Breakout"
          ],
          [
           "Rubber"
          ],
          [
           "Cousins"
          ],
          [
           "Mr. Hobbs Takes a Vacation"
          ],
          [
           "Desperate Hours"
          ],
          [
           "Fatal"
          ],
          [
           "The Joneses"
          ],
          [
           "Revolutionary Road"
          ],
          [
           "My Life as a Zucchini"
          ],
          [
           "The Romantics"
          ],
          [
           "Would I Lie to You?"
          ],
          [
           "Geronimo: An American Legend"
          ],
          [
           "Judwaa 2"
          ],
          [
           "Hindi Medium"
          ],
          [
           "Everything Must Go"
          ],
          [
           "Michael Clayton"
          ],
          [
           "Journey to the West: The Demons Strike Back"
          ],
          [
           "A Regular Thing"
          ],
          [
           "Graduation"
          ],
          [
           "Dulha Mil Gaya"
          ],
          [
           "Trash"
          ],
          [
           "Roar"
          ],
          [
           "Black Rose"
          ],
          [
           "Sugar Hill"
          ],
          [
           "2 Fast 2 Furious"
          ],
          [
           "RoboCop 2"
          ],
          [
           "The Extraordinary Adventures of Adèle Blanc-Sec"
          ],
          [
           "Women in Trouble"
          ],
          [
           "Gloria"
          ],
          [
           "The DUFF"
          ],
          [
           "The Greatest Show on Earth"
          ],
          [
           "The Broadway Melody"
          ],
          [
           "Mahabharat"
          ],
          [
           "The Silver Chalice"
          ],
          [
           "Pharaoh"
          ],
          [
           "Charlie Wilson's War"
          ],
          [
           "Anna Karenina"
          ],
          [
           "A Better Life"
          ],
          [
           "Wag the Dog"
          ],
          [
           "The Japon"
          ],
          [
           "The New Year's Rate Plan"
          ],
          [
           "The Innkeepers"
          ],
          [
           "Boris - Il film"
          ],
          [
           "Star!"
          ],
          [
           "The Favor"
          ],
          [
           "Crimean Bridge. Made With Love!"
          ],
          [
           "Stereoblood"
          ],
          [
           "Family Plot"
          ],
          [
           "Woo"
          ],
          [
           "The Birth of a Nation"
          ],
          [
           "Waltzing Anna"
          ],
          [
           "Lust, Caution"
          ],
          [
           "Muslum"
          ],
          [
           "About Love. Adults Only"
          ],
          [
           "Boom Town"
          ],
          [
           "Superlopez"
          ],
          [
           "Closet Land"
          ],
          [
           "Prospero's Books"
          ],
          [
           "Girl 6"
          ],
          [
           "FRED: The Movie"
          ],
          [
           "Happy Birthday"
          ],
          [
           "Marnie"
          ],
          [
           "Empowered"
          ],
          [
           "Twice Upon a Time in the West"
          ],
          [
           "Killing Zoe"
          ],
          [
           "Grand Central Murder"
          ],
          [
           "Neon Flesh"
          ],
          [
           "Zor"
          ],
          [
           "Quest for Fire"
          ],
          [
           "Blue in the Face"
          ],
          [
           "Bolero"
          ],
          [
           "Silent Night, Deadly Night Part 2"
          ],
          [
           "The End of Poverty?"
          ],
          [
           "The Awakener"
          ],
          [
           "The Riven"
          ],
          [
           "Brightburn"
          ],
          [
           "Thawed Carp"
          ],
          [
           "C.H.U.D. II: Bud the Chud"
          ],
          [
           "Snow Flower and the Secret Fan"
          ],
          [
           "Henry's Crime"
          ],
          [
           "Wild Bill"
          ],
          [
           "Kokowääh"
          ],
          [
           "Hollywood & Wine"
          ],
          [
           "Constellation"
          ],
          [
           "Spy Cat"
          ],
          [
           "The Conversation"
          ],
          [
           "Sad Hill Unearthed"
          ],
          [
           "Godzilla vs. Mechagodzilla II"
          ],
          [
           "The Air Up There"
          ],
          [
           "Cavalcade"
          ],
          [
           "Mardaani 2"
          ],
          [
           "The Mother"
          ],
          [
           "Sarah's Key"
          ],
          [
           "Khelein Hum Jee Jaan Sey"
          ],
          [
           "The Beaver"
          ],
          [
           "Burnt by the Sun"
          ],
          [
           "From My Window, Without a Home"
          ],
          [
           "Jiu Jitsu"
          ],
          [
           "December Boys"
          ],
          [
           "The Monk"
          ],
          [
           "The Wounds"
          ],
          [
           "Mosebacke monarki"
          ],
          [
           "Apartment Zero"
          ],
          [
           "Disappearances"
          ],
          [
           "Shadowboxing"
          ],
          [
           "A Bridge Too Far"
          ],
          [
           "Higher Ground"
          ],
          [
           "The Super"
          ],
          [
           "The Hours"
          ],
          [
           "Sabrina"
          ],
          [
           "Ready"
          ],
          [
           "Haikyuu!! Movie 4: Battle of Concepts"
          ],
          [
           "Babumoshai Bandookbaaz"
          ],
          [
           "A Fish Called Wanda"
          ],
          [
           "El Dorado"
          ],
          [
           "The Sugarland Express"
          ],
          [
           "Yellow Is Not Just the Color of the Sun"
          ],
          [
           "The Body of My Enemy"
          ],
          [
           "Whispers: An Elephant's Tale"
          ],
          [
           "The Sand Pebbles"
          ],
          [
           "The Getaway"
          ],
          [
           "Baywatch: Hawaiian Wedding"
          ],
          [
           "Barood"
          ],
          [
           "Bigger Than the Sky"
          ],
          [
           "Of Gods and Men"
          ],
          [
           "Love, Wedding, Marriage"
          ],
          [
           "The Killing Fields"
          ],
          [
           "Bamako"
          ],
          [
           "Love in the Time of Cholera"
          ],
          [
           "Limbo"
          ],
          [
           "Scoop"
          ],
          [
           "Morphine"
          ],
          [
           "William & Kate"
          ],
          [
           "Cold Harvest"
          ],
          [
           "Lovey-Dovey 2"
          ],
          [
           "The Devil's Double"
          ],
          [
           "Central Station"
          ],
          [
           "The Good Liar"
          ],
          [
           "The Music Never Stopped"
          ],
          [
           "Savages"
          ],
          [
           "Fred Claus"
          ],
          [
           "Joe"
          ],
          [
           "Dingo"
          ],
          [
           "The Fox and the Child"
          ],
          [
           "My Own Private Idaho"
          ],
          [
           "Offending Angels"
          ],
          [
           "Fanny and Alexander"
          ],
          [
           "Fiza"
          ],
          [
           "Beyond"
          ],
          [
           "The Pledge"
          ],
          [
           "The Perez Family"
          ],
          [
           "Son of the Pink Panther"
          ],
          [
           "Hannah and Her Sisters"
          ],
          [
           "Barney's Version"
          ],
          [
           "Cameron's Closet"
          ],
          [
           "Rio Rita"
          ],
          [
           "The Last Circus"
          ],
          [
           "Kölcsönlakás"
          ],
          [
           "Quiet City"
          ],
          [
           "Permanent Record"
          ],
          [
           "30 Days"
          ],
          [
           "Atlas Shrugged: Part I"
          ],
          [
           "Star of Midnight"
          ],
          [
           "Klute"
          ],
          [
           "The 5th Quarter"
          ],
          [
           "Love's Labour's Lost"
          ],
          [
           "Eye of the Dolphin"
          ],
          [
           "Second Name"
          ],
          [
           "Delhi Belly"
          ],
          [
           "O Astrapogiannos"
          ],
          [
           "Pee-wee's Big Adventure"
          ],
          [
           "Living Out Loud"
          ],
          [
           "Meet Monica Velour"
          ],
          [
           "Hoosiers"
          ],
          [
           "Intersection"
          ],
          [
           "The Rose of the Rancho"
          ],
          [
           "Fast Five"
          ],
          [
           "Bad Dreams"
          ],
          [
           "Dum Maaro Dum"
          ],
          [
           "Brotherhood of the Wolf"
          ],
          [
           "At Play in the Fields of the Lord"
          ],
          [
           "Armed Response"
          ],
          [
           "Search and Destroy"
          ],
          [
           "The Treatment"
          ],
          [
           "The Chamber"
          ],
          [
           "Harry Potter and the Chamber of Secrets"
          ],
          [
           "Power"
          ],
          [
           "Judgment Night"
          ],
          [
           "Mr. Saturday Night"
          ],
          [
           "Hard Contract"
          ],
          [
           "Love, Sex, and Eating the Bones"
          ],
          [
           "At Long Last Love"
          ],
          [
           "BlackJack"
          ],
          [
           "Judy Moody and the Not Bummer Summer"
          ],
          [
           "Crook"
          ],
          [
           "The Realm"
          ],
          [
           "Five Graves to Cairo"
          ],
          [
           "Vixen!"
          ],
          [
           "Dream.net"
          ],
          [
           "Blood, Guts, Bullets and Octane"
          ],
          [
           "Beyond the Valley of the Dolls"
          ],
          [
           "3:10 to Yuma"
          ],
          [
           "Mickey"
          ],
          [
           "Blue Car"
          ],
          [
           "Gamera 3: Revenge of Iris"
          ],
          [
           "Come tu mi vuoi"
          ],
          [
           "Young Adult"
          ],
          [
           "The Extra Man"
          ],
          [
           "Bliss"
          ],
          [
           "The Goya Murders"
          ],
          [
           "I Can Quit Whenever I Want"
          ],
          [
           "The Private Life of Sherlock Holmes"
          ],
          [
           "The Wind in the Willows"
          ],
          [
           "Eila"
          ],
          [
           "Killer School Girls from Outer Space"
          ],
          [
           "The Ape"
          ],
          [
           "The Matrix"
          ],
          [
           "Aloha, Bobby and Rose"
          ],
          [
           "The Conspirator"
          ],
          [
           "Pina"
          ],
          [
           "Shubh Mangal Saavdhan"
          ],
          [
           "Another Happy Day"
          ],
          [
           "West Is West"
          ],
          [
           "The Last Warrior"
          ],
          [
           "There's Something About Mary"
          ],
          [
           "Frenzy"
          ],
          [
           "Mondays in the Sun"
          ],
          [
           "Racing with the Moon"
          ],
          [
           "Transamerica"
          ],
          [
           "Hey Ram"
          ],
          [
           "Carefree"
          ],
          [
           "The Guard"
          ],
          [
           "Swordsman"
          ],
          [
           "Mother Teresa of Calcutta"
          ],
          [
           "A Whole Life Ahead"
          ],
          [
           "Gooische Vrouwen"
          ],
          [
           "Arbitrage"
          ],
          [
           "Love in Persian"
          ],
          [
           "Black Bread"
          ],
          [
           "Dolphins and Whales: Tribes of the Ocean"
          ],
          [
           "One Eight Seven"
          ],
          [
           "Come Back to the 5 & Dime, Jimmy Dean, Jimmy Dean"
          ],
          [
           "The Robber"
          ],
          [
           "Stealing Sinatra"
          ],
          [
           "Nothing to Declare"
          ],
          [
           "Inhumans: The First Chapter"
          ],
          [
           "The Company"
          ],
          [
           "Mickey"
          ],
          [
           "Tom Jones"
          ],
          [
           "The Princess of Montpensier"
          ],
          [
           "Faithful"
          ],
          [
           "On the Hook!"
          ],
          [
           "Joker"
          ],
          [
           "Hot Naked Sex & the City"
          ],
          [
           "Kings Can Do Everything"
          ],
          [
           "Gloss"
          ],
          [
           "American Dresser"
          ],
          [
           "Little Ghost"
          ],
          [
           "Drugstore Cowboy"
          ],
          [
           "Basquiat"
          ],
          [
           "Tiny Furniture"
          ],
          [
           "Last Christmas"
          ],
          [
           "Poison"
          ],
          [
           "Sankofa"
          ],
          [
           "Swoon"
          ],
          [
           "Spirit of the Forest"
          ],
          [
           "Torn Curtain"
          ],
          [
           "Paradise"
          ],
          [
           "Stay Hungry"
          ],
          [
           "Bodies, Rest & Motion"
          ],
          [
           "Guinevere"
          ],
          [
           "The Painted Bird"
          ],
          [
           "Katyusha"
          ],
          [
           "Sleeping Beauty"
          ],
          [
           "Scenes from a Mall"
          ],
          [
           "Megalodon"
          ],
          [
           "Hidden 3D"
          ],
          [
           "Bummer 2"
          ],
          [
           "Tumbleweeds"
          ],
          [
           "Contact"
          ],
          [
           "Nadine"
          ],
          [
           "3 Strikes"
          ],
          [
           "Extremely Loud & Incredibly Close"
          ],
          [
           "City of Joy"
          ],
          [
           "Zindagi Na Milegi Dobara"
          ],
          [
           "Shanghai Surprise"
          ],
          [
           "Black Friday"
          ],
          [
           "Alvin and the Chipmunks"
          ],
          [
           "The Other Woman"
          ],
          [
           "Love! Valour! Compassion!"
          ],
          [
           "Honky Tonk Freeway"
          ],
          [
           "Lookin' to Get Out"
          ],
          [
           "Ruby in Paradise"
          ],
          [
           "Sphinx"
          ],
          [
           "Push"
          ],
          [
           "Church Ball"
          ],
          [
           "The Gun in Betty Lou's Handbag"
          ],
          [
           "Shaolin"
          ],
          [
           "The Spitfire Grill"
          ],
          [
           "Dogville"
          ],
          [
           "Alvin and the Chipmunks: Chipwrecked"
          ],
          [
           "Arachnophobia"
          ],
          [
           "Ladyhawke"
          ],
          [
           "The Sentinel"
          ],
          [
           "Mulk"
          ],
          [
           "Under the Rainbow"
          ],
          [
           "Sweet Sweetback's Baadasssss Song"
          ],
          [
           "When Time Ran Out..."
          ],
          [
           "Chalet Girl"
          ],
          [
           "White Dog"
          ],
          [
           "Thank You"
          ],
          [
           "Dil Toh Baccha Hai Ji"
          ],
          [
           "We will die together"
          ],
          [
           "Money for Nothing"
          ],
          [
           "Walk the Line"
          ],
          [
           "Tanu Weds Manu"
          ],
          [
           "Run"
          ],
          [
           "The White Massai"
          ],
          [
           "Shaft"
          ],
          [
           "The Terrorist"
          ],
          [
           "The Apparition"
          ],
          [
           "Parasite"
          ],
          [
           "Veere Di Wedding"
          ],
          [
           "The X Files"
          ],
          [
           "The House of Usher"
          ],
          [
           "The Book of Mormon Movie, Volume 1: The Journey"
          ],
          [
           "Dragonslayer"
          ],
          [
           "Agneepath"
          ],
          [
           "Raisin the Stakes: A Rock Opera in Three Acts"
          ],
          [
           "Benvenuti al Sud"
          ],
          [
           "Tingles"
          ],
          [
           "Welcome to the North"
          ],
          [
           "Halloween: The Curse of Michael Myers (The Producer's Cut)"
          ],
          [
           "Devil in a Blue Dress"
          ],
          [
           "Incident at Loch Ness"
          ],
          [
           "The Man Who Loved Women"
          ],
          [
           "Thief of Hearts"
          ],
          [
           "Lynch Mob"
          ],
          [
           "A Few Best Men"
          ],
          [
           "The Cook, the Thief, His Wife & Her Lover"
          ],
          [
           "Elles"
          ],
          [
           "The Seventh Cross"
          ],
          [
           "Who Framed Roger Rabbit"
          ],
          [
           "The House of Sun"
          ],
          [
           "House of the Dead - Director's Cut"
          ],
          [
           "ACAB : All Cops Are Bastards"
          ],
          [
           "The Hunger Games"
          ],
          [
           "My Way"
          ],
          [
           "Dick Tracy"
          ],
          [
           "A Streetcar Named Desire"
          ],
          [
           "The Student Teachers"
          ],
          [
           "Tezz"
          ],
          [
           "Master and Commander: The Far Side of the World"
          ],
          [
           "The Cheat"
          ],
          [
           "The Exorcism of Emily Rose"
          ],
          [
           "Josh and S.A.M."
          ],
          [
           "Stuck on You!"
          ],
          [
           "A Hard Day's Night"
          ],
          [
           "Tom, Dick and Harry"
          ],
          [
           "Labios Rojos"
          ],
          [
           "Vasool Raja MBBS"
          ],
          [
           "Thomas And The Magic Railroad [20th Anniversary Edition]"
          ],
          [
           "Tsotsi"
          ],
          [
           "Never Talk to Strangers"
          ],
          [
           "Seven Psychopaths"
          ],
          [
           "Would I Lie to You? 3"
          ],
          [
           "Planet of the Apes"
          ],
          [
           "The African Queen"
          ],
          [
           "Calendar Girls"
          ],
          [
           "A Little Night Music"
          ],
          [
           "Knockaround Guys"
          ],
          [
           "Singham"
          ],
          [
           "King of the Mountain"
          ],
          [
           "A Man for All Seasons"
          ],
          [
           "The Black Balloon"
          ],
          [
           "Like Stars on Earth"
          ],
          [
           "The Sea of Grass"
          ],
          [
           "Bulletproof"
          ],
          [
           "Ann Rule Presents: The Stranger Beside Me"
          ],
          [
           "Idiocracy"
          ],
          [
           "Jefferson in Paris"
          ],
          [
           "Cocktail"
          ],
          [
           "Sparkle"
          ],
          [
           "Is This Water?"
          ],
          [
           "Sunday"
          ],
          [
           "The Last Godfather"
          ],
          [
           "Manny & Lo"
          ],
          [
           "99 francs"
          ],
          [
           "Il Divo"
          ],
          [
           "Against the Ropes"
          ],
          [
           "Jumanji"
          ],
          [
           "Yes, Giorgio"
          ],
          [
           "Alice in Wonderland"
          ],
          [
           "Anna Karenina"
          ],
          [
           "Steel"
          ],
          [
           "Dude, Where's My Car?"
          ],
          [
           "Hobo with a Shotgun"
          ],
          [
           "Vampire's Kiss"
          ],
          [
           "Johnny the Partisan"
          ],
          [
           "The Best Years of Our Lives"
          ],
          [
           "How the Grinch Stole Christmas"
          ],
          [
           "Straight Lines: A Documentary"
          ],
          [
           "Beremennyy"
          ],
          [
           "Isn't She Great"
          ],
          [
           "keep on smiling"
          ],
          [
           "The Oranges"
          ],
          [
           "Rampart"
          ],
          [
           "All the President's Men"
          ],
          [
           "Angel Town"
          ],
          [
           "Now You See Me"
          ],
          [
           "The Rocket: The Legend of Rocket Richard"
          ],
          [
           "Rascals"
          ],
          [
           "I Love You Phillip Morris"
          ],
          [
           "Finding Forrester"
          ],
          [
           "Love Letters"
          ],
          [
           "Boogeyman"
          ],
          [
           "ATM"
          ],
          [
           "The Out-of-Towners"
          ],
          [
           "The Wolverine"
          ],
          [
           "Tentacles"
          ],
          [
           "Birdman of Alcatraz"
          ],
          [
           "Gully Boy"
          ],
          [
           "Paws"
          ],
          [
           "Stop-Loss"
          ],
          [
           "Bopha!"
          ],
          [
           "Ласковый май"
          ],
          [
           "1911"
          ],
          [
           "Just Like Heaven"
          ],
          [
           "Midnight Run"
          ],
          [
           "Squeeze"
          ],
          [
           "Cops and Robbers"
          ],
          [
           "Meet the Applegates"
          ],
          [
           "For Love or Money"
          ],
          [
           "The Banger Sisters"
          ],
          [
           "Edge of Seventeen"
          ],
          [
           "Gone Fishin'"
          ],
          [
           "Blue Fin"
          ],
          [
           "GS-MDS"
          ],
          [
           "Hum Tumhare Hain Sanam"
          ],
          [
           "Living in Oblivion"
          ],
          [
           "Black Book"
          ],
          [
           "Hang 'em High"
          ],
          [
           "Ask Any Girl"
          ],
          [
           "Corporal vs. Napoleon"
          ],
          [
           "Dangerous Game"
          ],
          [
           "Shaft's Big Score!"
          ],
          [
           "Harlem Nights"
          ],
          [
           "The American President"
          ],
          [
           "Samar"
          ],
          [
           "Mary Reilly"
          ],
          [
           "Beats"
          ],
          [
           "Medicine Man"
          ],
          [
           "Home Alone"
          ],
          [
           "Sunny"
          ],
          [
           "L!fe Happens"
          ],
          [
           "Late Autumn"
          ],
          [
           "Black Gold"
          ],
          [
           "Resident Evil: Extinction"
          ],
          [
           "Aiyaary"
          ],
          [
           "Hichki"
          ],
          [
           "Your Friends & Neighbors"
          ],
          [
           "Perfect"
          ],
          [
           "Rough Cut"
          ],
          [
           "Shaft in Africa"
          ],
          [
           "Resident Evil: Retribution"
          ],
          [
           "Xuxinha e Guto contra os Monstros do Espaço"
          ],
          [
           "Blind Date"
          ],
          [
           "Behind the Burly Q"
          ],
          [
           "Leatherheads"
          ],
          [
           "Trois"
          ],
          [
           "Dead Man"
          ],
          [
           "The Worst Week of My Life"
          ],
          [
           "Willie and Phil"
          ],
          [
           "Motorkavaljerer"
          ],
          [
           "Shipwrecked"
          ],
          [
           "Get on the Bus"
          ],
          [
           "Do the Right Thing"
          ],
          [
           "Bernie"
          ],
          [
           "A Home of Our Own"
          ],
          [
           "The Wedding Banquet"
          ],
          [
           "Tough Guys Don't Dance"
          ],
          [
           "Now and Then"
          ],
          [
           "An Alan Smithee Film: Burn, Hollywood, Burn"
          ],
          [
           "And Now for Something Completely Different"
          ],
          [
           "Chicken with Plums"
          ],
          [
           "Femme Fatale"
          ],
          [
           "The Longest Day"
          ],
          [
           "Premium Rush"
          ],
          [
           "John Carter"
          ],
          [
           "Be Kind Rewind"
          ],
          [
           "Monster House"
          ],
          [
           "Lucky Lady"
          ],
          [
           "Orlando"
          ],
          [
           "X-Men: First Class"
          ],
          [
           "Drop Zone"
          ],
          [
           "Kolya"
          ],
          [
           "Last Man Standing"
          ],
          [
           "Steal Big Steal Little"
          ],
          [
           "Beneath the Darkness"
          ],
          [
           "Garv: Pride and Honour"
          ],
          [
           "Marche avec moi"
          ],
          [
           "Shine"
          ],
          [
           "Down in the Valley"
          ],
          [
           "Bloodhounds of Broadway"
          ],
          [
           "Ted"
          ],
          [
           "Dan in Real Life"
          ],
          [
           "Carnage"
          ],
          [
           "For a Few Dollars More"
          ],
          [
           "Welcome to the Punch"
          ],
          [
           "In the Line of Fire"
          ],
          [
           "Thank You for Smoking"
          ],
          [
           "Renaissance"
          ],
          [
           "Before the Fall: Hitler's Elite"
          ],
          [
           "Aarakshan"
          ],
          [
           "Lost Place"
          ],
          [
           "Sanju"
          ],
          [
           "The Man Who Knew Too Little"
          ],
          [
           "The Dinner Game"
          ],
          [
           "A Civil Action"
          ],
          [
           "Impostor"
          ],
          [
           "Baaz: A Bird in Danger"
          ],
          [
           "The Full Monty"
          ],
          [
           "When I Grow Up"
          ],
          [
           "Leef!"
          ],
          [
           "Blue Velvet"
          ],
          [
           "Chariots of Fire"
          ],
          [
           "The Boost"
          ],
          [
           "The Big Hit"
          ],
          [
           "The Last Wave"
          ],
          [
           "Action Replayy"
          ],
          [
           "Black Serenade"
          ],
          [
           "Woodstock"
          ],
          [
           "Cookie's Fortune"
          ],
          [
           "Chimpanzee"
          ],
          [
           "The Nightmare Before Christmas"
          ],
          [
           "The Tie That Binds"
          ],
          [
           "Eyes of a Stranger"
          ],
          [
           "Sagar Alias Jacky Reloaded"
          ],
          [
           "Half Baked"
          ],
          [
           "Witness to a Rape"
          ],
          [
           "Armageddon"
          ],
          [
           "In the Land of Blood and Honey"
          ],
          [
           "Tanhaji : The Unsung Warrior"
          ],
          [
           "Dhada"
          ],
          [
           "Kindergarten Cop"
          ],
          [
           "The Five of Us"
          ],
          [
           "Garfield: A Tail of Two Kitties"
          ],
          [
           "Catcher: Cat City 2"
          ],
          [
           "Lightning Strikes Twice"
          ],
          [
           "Yes Boss"
          ],
          [
           "Analyze This"
          ],
          [
           "Bad Moon"
          ],
          [
           "Before Sunset"
          ],
          [
           "Scanners"
          ],
          [
           "Dead Ringers"
          ],
          [
           "Blues for Life"
          ],
          [
           "Sin"
          ],
          [
           "The Adventures of Ford Fairlane"
          ],
          [
           "Good Morning, Vietnam"
          ],
          [
           "The Exorcist"
          ],
          [
           "A Perfect World"
          ],
          [
           "American Gangster"
          ],
          [
           "Ender's Game"
          ],
          [
           "Tootsie"
          ],
          [
           "Divine Secrets of the Ya-Ya Sisterhood"
          ],
          [
           "Convoy"
          ],
          [
           "Batman Beyond: Tech Wars / Disappearing Inque"
          ],
          [
           "The Bonfire of the Vanities"
          ],
          [
           "Cowboys & Aliens"
          ],
          [
           "The Longest Yard"
          ],
          [
           "Single White Female"
          ],
          [
           "Matchstick Men"
          ],
          [
           "The Fast and the Furious: Tokyo Drift"
          ],
          [
           "Train of Life"
          ],
          [
           "The Gold Rush"
          ],
          [
           "W.E."
          ],
          [
           "The Negotiator"
          ],
          [
           "Barbarella"
          ],
          [
           "For Greater Glory: The True Story of Cristiada"
          ],
          [
           "The Last Lear"
          ],
          [
           "Band of Outsiders"
          ],
          [
           "Om Shanti Om"
          ],
          [
           "The Savage Eye"
          ],
          [
           "Broken Embraces"
          ],
          [
           "The Triplets of Belleville"
          ],
          [
           "Ringu 2"
          ],
          [
           "Diaz - Don't Clean Up This Blood"
          ],
          [
           "Repentance"
          ],
          [
           "Sideways"
          ],
          [
           "Jack the Giant Slayer"
          ],
          [
           "Keeping Mum"
          ],
          [
           "Running Time"
          ],
          [
           "Happy"
          ],
          [
           "Lady in the Water"
          ],
          [
           "The Lost City"
          ],
          [
           "Holy Man"
          ],
          [
           "The Dirty Picture"
          ],
          [
           "Hope Floats"
          ],
          [
           "Lovely & Amazing"
          ],
          [
           "Desperately Seeking Susan"
          ],
          [
           "Talladega Nights: The Ballad of Ricky Bobby"
          ],
          [
           "Bewitched"
          ],
          [
           "Killing the Shadows"
          ],
          [
           "Hannibal"
          ],
          [
           "A Lonely Place to Die"
          ],
          [
           "Vedam"
          ],
          [
           "Rust and Bone"
          ],
          [
           "Bad Boys"
          ],
          [
           "Fletch"
          ],
          [
           "Silenced"
          ],
          [
           "Break Ke Baad"
          ],
          [
           "Mad City"
          ],
          [
           "Simpatico"
          ],
          [
           "The Sisterhood of the Traveling Pants"
          ],
          [
           "Hate Story IV"
          ],
          [
           "Detroit Rock City"
          ],
          [
           "Lords of Dogtown"
          ],
          [
           "It Runs in the Family"
          ],
          [
           "Animal Factory"
          ],
          [
           "Attack of Jeffree Star"
          ],
          [
           "Synonyms"
          ],
          [
           "The Nutcracker"
          ],
          [
           "(T)Raumschiff Surprise - Periode 1"
          ],
          [
           "Paragraph 78: Film Two"
          ],
          [
           "Heartbeeps"
          ],
          [
           "The Manchurian Candidate"
          ],
          [
           "Captive"
          ],
          [
           "The Man Who Knew Too Much"
          ],
          [
           "The Painted Veil"
          ],
          [
           "The Man Who Would Be King"
          ],
          [
           "The Samaritan"
          ],
          [
           "Jane Austen's Mafia!"
          ],
          [
           "King Solomon's Mines"
          ],
          [
           "From Prada to Nada"
          ],
          [
           "The Opposite of Sex"
          ],
          [
           "Dance with the Devil"
          ],
          [
           "Sister, Sister"
          ],
          [
           "My Favorite Martian"
          ],
          [
           "Hitler's Children"
          ],
          [
           "Eraserhead"
          ],
          [
           "The Myth of Fingerprints"
          ],
          [
           "Half-Life: Alyx"
          ],
          [
           "People Like Us"
          ],
          [
           "Explorers"
          ],
          [
           "The China Syndrome"
          ],
          [
           "Playing by Heart"
          ],
          [
           "Man of the Year"
          ],
          [
           "Savages"
          ],
          [
           "Jeff, Who Lives at Home"
          ],
          [
           "The Producers"
          ],
          [
           "The Hoax"
          ],
          [
           "Two for the Money"
          ],
          [
           "Gangster Squad"
          ],
          [
           "Go Go Tales"
          ],
          [
           "Julia"
          ],
          [
           "Legal Eagles"
          ],
          [
           "Kahaani"
          ],
          [
           "Straw Dogs"
          ],
          [
           "Down and Out in Beverly Hills"
          ],
          [
           "Gorky Park"
          ],
          [
           "Poetic Justice"
          ],
          [
           "Find Me Guilty"
          ],
          [
           "Freedomland"
          ],
          [
           "Sparrows"
          ],
          [
           "Fast & Furious 6"
          ],
          [
           "Forbidden Planet"
          ],
          [
           "Last Minute Marocco"
          ],
          [
           "Rampage"
          ],
          [
           "Pink Flamingos"
          ],
          [
           "Swim High - The Military Industrial Complex"
          ],
          [
           "Antitrust"
          ],
          [
           "Love Child"
          ],
          [
           "Antibodies"
          ],
          [
           "Blindness"
          ],
          [
           "The Red Baron"
          ],
          [
           "Cloud Atlas"
          ],
          [
           "An Affair to Remember"
          ],
          [
           "Middle of Nowhere"
          ],
          [
           "Transformers: Revenge of the Fallen"
          ],
          [
           "On the Road"
          ],
          [
           "Citizen"
          ],
          [
           "American Graffiti"
          ],
          [
           "Albert Nobbs"
          ],
          [
           "Parasuram"
          ],
          [
           "How High"
          ],
          [
           "Na Tum Jaano Na Hum"
          ],
          [
           "What's Up, Doc?"
          ],
          [
           "The Big Year"
          ],
          [
           "Creature"
          ],
          [
           "My Best Girl"
          ],
          [
           "Wilson"
          ],
          [
           "Karusellen går"
          ],
          [
           "2 Days in New York"
          ],
          [
           "For a Good Time, Call..."
          ],
          [
           "Lay the Favorite"
          ],
          [
           "Shadow Dancer"
          ],
          [
           "Your Sister's Sister"
          ],
          [
           "Fanaa"
          ]
         ],
         "hovertemplate": "Budget (in dollars)=%{x}<br>Revenue (in dollars)=%{y}<br>TITLE=%{customdata[0]}<extra></extra>",
         "legendgroup": "",
         "marker": {
          "color": "#636efa",
          "opacity": 0.6,
          "size": 8,
          "symbol": "circle"
         },
         "mode": "markers+text",
         "name": "",
         "showlegend": false,
         "text": [
          "Mulan",
          "Peninsula",
          "Birds of Prey (and the Fantabulous Emancipation of One Harley Quinn)",
          "Bad Boys for Life",
          "Bloodshot",
          "Onward",
          "Sonic the Hedgehog",
          "Fast & Furious Presents: Hobbs & Shaw",
          "1917",
          "Frozen II",
          "Forbidden Empire",
          "Coco",
          "Avengers: Infinity War",
          "Pinocchio",
          "Antebellum",
          "Jumanji: The Next Level",
          "Spider-Man: Far from Home",
          "Avengers: Endgame",
          "Ocean's Eleven",
          "A Walk Among the Tombstones",
          "Fantastic Four",
          "Bolt",
          "The Human Centipede (First Sequence)",
          "Dumb and Dumber To",
          "Midsommar",
          "After",
          "Aladdin",
          "The Lion King",
          "Tenet",
          "The Addams Family",
          "John Wick: Chapter 3 - Parabellum",
          "Elysium",
          "Insidious: The Last Key",
          "Legion",
          "Ghost Ship",
          "It Chapter Two",
          "Ju-on: The Grudge",
          "Zombieland: Double Tap",
          "Underworld",
          "Hancock",
          "Ray",
          "The Transporter",
          "Dolittle",
          "Pokémon Detective Pikachu",
          "Star Wars: The Rise of Skywalker",
          "The New Mutants",
          "Spider-Man: Into the Spider-Verse",
          "Ralph Breaks the Internet",
          "Abigail",
          "Rambo: Last Blood",
          "Godzilla: King of the Monsters",
          "How to Train Your Dragon: The Hidden World",
          "Dark Phoenix",
          "Angel Has Fallen",
          "The First Purge",
          "Mission: Impossible - Fallout",
          "Captain Marvel",
          "Dragon Ball Z: Resurrection 'F'",
          "Venom",
          "The Call of the Wild",
          "Hotel Transylvania 3: Summer Vacation",
          "Charlie's Angels",
          "Spies in Disguise",
          "Jurassic World: Fallen Kingdom",
          "The Meg",
          "Father There Is Only One 2",
          "Ready Player One",
          "Thor: Ragnarok",
          "Shazam!",
          "Spider-Man: Homecoming",
          "The Gentlemen",
          "Justice League",
          "Hacksaw Ridge",
          "Harry Potter and the Goblet of Fire",
          "Harry Potter and the Philosopher's Stone",
          "Dora and the Lost City of Gold",
          "The Reaping",
          "Harry Potter and the Prisoner of Azkaban",
          "Parasite",
          "Ocean's Eight",
          "Wonder Woman",
          "Deadpool 2",
          "Skyscraper",
          "Black Panther",
          "Incredibles 2",
          "Anna",
          "The Predator",
          "Whiteout",
          "Abominable",
          "Mama",
          "Nanny McPhee",
          "The Day After Tomorrow",
          "High School Musical 3: Senior Year",
          "National Lampoon's Christmas Vacation",
          "Ford v Ferrari",
          "The Croods",
          "Harry Potter and the Half-Blood Prince",
          "Aquaman",
          "Blade Runner 2049",
          "Hocus Pocus",
          "Crawl",
          "Deadpool",
          "The Purge: Election Year",
          "Dragon Ball Super: Broly",
          "Fifty Shades of Grey",
          "Creed II",
          "Harry Potter and the Deathly Hallows: Part 2",
          "The Hobbit: The Battle of the Five Armies",
          "Ted 2",
          "Big Hero 6",
          "Rampage",
          "Stuber",
          "American Pie",
          "Miss Peregrine's Home for Peculiar Children",
          "Mulan",
          "Jurassic World",
          "Harry Potter and the Deathly Hallows: Part 1",
          "Logan",
          "X-Men: Apocalypse",
          "Doctor Strange",
          "Fifty Shades Freed",
          "Avatar",
          "Glass",
          "The Conjuring",
          "X-Men: Days of Future Past",
          "The Fanatic",
          "The Dark Knight",
          "Penguins of Madagascar",
          "The Purge",
          "Ad Astra",
          "21 Bridges",
          "John Wick: Chapter 2",
          "Pacific Rim: Uprising",
          "The Maze Runner",
          "Trolls",
          "The Fate of the Furious",
          "It",
          "Annihilation",
          "Insurgent",
          "The Emoji Movie",
          "Coraline",
          "Bumblebee",
          "Vivarium",
          "Shrek",
          "Interstellar",
          "Call Me by Your Name",
          "Danger Close",
          "Pink Floyd: The Wall",
          "The Purge: Anarchy",
          "Lucy",
          "The Simpsons Movie",
          "Shrek 2",
          "The Nun",
          "Avengers: Age of Ultron",
          "Wild Things",
          "Train to Busan",
          "Ant-Man and the Wasp",
          "Scooby-Doo",
          "Taken 3",
          "Invasion of the Body Snatchers",
          "Alien: Covenant",
          "Kong: Skull Island",
          "Bohemian Rhapsody",
          "Guardians of the Galaxy Vol. 2",
          "Escape Plan: The Extractors",
          "Captain America: Civil War",
          "Geostorm",
          "Bordello of Blood",
          "After.Life",
          "Corpse Bride",
          "Mortal Engines",
          "Alpha",
          "Fantastic Beasts: The Crimes of Grindelwald",
          "The Twilight Saga: Breaking Dawn - Part 2",
          "Ferdinand",
          "Primer",
          "Frozen",
          "Kung Fu Panda 3",
          "Hellboy",
          "Twilight",
          "Iron Man 3",
          "Hotel Transylvania 2",
          "The Amazing Spider-Man 2",
          "The Hunt",
          "Friday the 13th",
          "Captive State",
          "Maze Runner: The Death Cure",
          "Back to the Future",
          "Jumanji: Welcome to the Jungle",
          "Pacific Rim",
          "Baby Driver",
          "Hitman",
          "American Sniper",
          "Like a Boss",
          "Beauty and the Beast",
          "Dunkirk",
          "Teenage Mutant Ninja Turtles",
          "Suicide Squad",
          "San Andreas",
          "Annabelle: Creation",
          "Fury",
          "Pixels",
          "Baywatch",
          "Katy Perry: Part of Me",
          "Project X",
          "Dumbo",
          "Paranormal Activity: The Marked Ones",
          "Star Wars",
          "Playing with Fire",
          "The Hunger Games: Mockingjay - Part 1",
          "Shrek Forever After",
          "The Green Mile",
          "Dark Places",
          "Cold Pursuit",
          "Little Women",
          "Mary Poppins Returns",
          "American Pie Presents: Beta House",
          "Titanic",
          "Annabelle Comes Home",
          "Fantastic Beasts and Where to Find Them",
          "Iron Man",
          "Never Back Down",
          "American Pie 2",
          "Pirates of the Caribbean: Dead Man's Chest",
          "Ice Age: Continental Drift",
          "Spider-Man",
          "The Conjuring 2",
          "Terminator Genisys",
          "How to Train Your Dragon 2",
          "Star Wars: The Last Jedi",
          "The Twilight Saga: Eclipse",
          "Tomb Raider",
          "Batman v Superman: Dawn of Justice",
          "Spider-Man 3",
          "Toy Story",
          "Along with the Gods: The Last 49 Days",
          "The Shack",
          "Pirates of the Caribbean: The Curse of the Black Pearl",
          "6 Souls",
          "Pirates of the Caribbean: Dead Men Tell No Tales",
          "Superbad",
          "Ice Age: Collision Course",
          "The Hangover",
          "The Lord of the Rings: The Fellowship of the Ring",
          "Exodus: Gods and Kings",
          "Inside Out",
          "Miss Bala",
          "How to Train Your Dragon",
          "Zootopia",
          "The Twilight Saga: Breaking Dawn - Part 1",
          "The Last Witch Hunter",
          "The Lord of the Rings: The Two Towers",
          "Mad Max: Fury Road",
          "Furious 7",
          "Ice Age",
          "Kingsman: The Golden Circle",
          "Sicario: Day of the Soldado",
          "Free Fire",
          "The Equalizer 2",
          "White Snake",
          "Ice Age: The Meltdown",
          "The Dark Knight Rises",
          "Goosebumps 2: Haunted Halloween",
          "The Hobbit: An Unexpected Journey",
          "London Has Fallen",
          "Peppermint",
          "Knives Out",
          "American Reunion",
          "Peter Rabbit",
          "A Dog's Way Home",
          "The Lego Movie 2: The Second Part",
          "Saw",
          "Spirited Away",
          "Wreck-It Ralph",
          "Alien",
          "Children of the Corn",
          "No Escape",
          "Thor",
          "Thor: The Dark World",
          "Iron Man 2",
          "12 Strong",
          "War for the Planet of the Apes",
          "Valerian and the City of a Thousand Planets",
          "Pirates of the Caribbean: At World's End",
          "Gods of Egypt",
          "Hunter Killer",
          "The Twilight Saga: New Moon",
          "Me Before You",
          "Transformers: The Last Knight",
          "The Lion King",
          "The Martian",
          "Maze Runner: The Scorch Trials",
          "Toy Story 3",
          "P2",
          "Hercules",
          "God's Not Dead 2",
          "Megamind",
          "Hollow Man",
          "The Village",
          "The Loft",
          "The Terminator",
          "The Book of Life",
          "Siberia",
          "The SpongeBob SquarePants Movie",
          "Monsters, Inc.",
          "Once Upon a Time… in Hollywood",
          "Jupiter Ascending",
          "The Wolf of Wall Street",
          "Teen Titans Go! To the Movies",
          "Star Wars: The Force Awakens",
          "Paranormal Activity",
          "The Nutcracker and the Four Realms",
          "Apocalypto",
          "The Lord of the Rings: The Return of the King",
          "Seed of Chucky",
          "In Time",
          "Inception",
          "Overlord",
          "Paranormal Activity 3",
          "Charlie and the Chocolate Factory",
          "Friday the 13th Part VIII: Jason Takes Manhattan",
          "Hostiles",
          "Rambo",
          "Transformers: Age of Extinction",
          "World War Z",
          "The Shining",
          "First Blood",
          "Now You See Me 2",
          "Knock Knock",
          "Ice Age: Dawn of the Dinosaurs",
          "Unbound",
          "Cats",
          "Hotel Transylvania",
          "Child's Play",
          "Doctor Sleep",
          "Solo: A Star Wars Story",
          "Night of the Living Dead",
          "Despicable Me 3",
          "The Hobbit: The Desolation of Smaug",
          "District 9",
          "Taken",
          "Along with the Gods: The Two Worlds",
          "Batman Begins",
          "Motherless Brooklyn",
          "xXx: Return of Xander Cage",
          "A Nightmare on Elm Street",
          "The Hangover Part III",
          "Split",
          "The Return of the Living Dead",
          "Watchmen",
          "Cinderella",
          "My Neighbor Totoro",
          "SuperFly",
          "The Amazing Spider-Man",
          "The Hangover Part II",
          "Jennifer's Body",
          "The Chronicles of Narnia: The Lion, the Witch and the Wardrobe",
          "King Kong",
          "The Imitation Game",
          "The Great Wall",
          "Freddy vs. Jason",
          "The Jungle Book",
          "Friday the 13th Part 2",
          "9",
          "Creed",
          "American Pie Presents: The Book of Love",
          "Ratatouille",
          "Tangled",
          "Sex Tape",
          "The Hunger Games: Mockingjay - Part 2",
          "Edge of Tomorrow",
          "Grown Ups",
          "The Incredible Hulk",
          "Terminator 2: Judgment Day",
          "The Curse of La Llorona",
          "A Haunted House 2",
          "The Lighthouse",
          "Traffik",
          "The Lego Ninjago Movie",
          "Homefront",
          "Despicable Me 2",
          "Cars 2",
          "Contagion",
          "Allegiant",
          "Kingsman: The Secret Service",
          "Bride of Chucky",
          "Spectre",
          "Underworld: Blood Wars",
          "Den of Thieves",
          "I Spit on Your Grave",
          "Wrong Turn",
          "The Little Mermaid",
          "John Wick",
          "Divergent",
          "The Angry Birds Movie",
          "Jojo Rabbit",
          "Power Rangers",
          "Thir13en Ghosts",
          "The Matrix Reloaded",
          "The Invisible Man",
          "Goosebumps",
          "The Godfather",
          "The Thing",
          "Coma",
          "A Hidden Life",
          "Friday the 13th Part III",
          "The Irishman",
          "Home",
          "The Last Full Measure",
          "I Am Legend",
          "Howl's Moving Castle",
          "The Skin I Live In",
          "Rocky IV",
          "Journey 2: The Mysterious Island",
          "Paul, Apostle of Christ",
          "The Shawshank Redemption",
          "Forrest Gump",
          "The Good Dinosaur",
          "The Hitman's Bodyguard",
          "Arrival",
          "The Equalizer",
          "Hercules",
          "Friday the 13th: The Final Chapter",
          "Grown Ups 2",
          "Saving Private Ryan",
          "Toy Story 2",
          "Shrek the Third",
          "Silent Hill",
          "The Texas Chainsaw Massacre",
          "The Dark Tower",
          "Rambo: First Blood Part II",
          "Bleach",
          "Tesla",
          "First Man",
          "Halloween",
          "Scary Stories to Tell in the Dark",
          "Batman: Gotham by Gaslight",
          "The Shape of Water",
          "UglyDolls",
          "Prometheus",
          "Chappie",
          "Scary Movie",
          "Whiplash",
          "Brave",
          "Alice Through the Looking Glass",
          "American Renegades",
          "Ghost in the Shell",
          "The Passion of the Christ",
          "Léon: The Professional",
          "Fifty Shades Darker",
          "Finding Nemo",
          "Godzilla",
          "American Wedding",
          "Men in Black",
          "Fight Club",
          "Constantine",
          "Up",
          "Zombieland",
          "Insidious",
          "Captain Underpants: The First Epic Movie",
          "Love, Simon",
          "The Host",
          "A Star Is Born",
          "Bombshell",
          "Dawn of the Planet of the Apes",
          "300",
          "Despicable Me",
          "Jaws",
          "Cinderella",
          "The Hurricane Heist",
          "Dead Silence",
          "WALL·E",
          "Frankenweenie",
          "Fifty Shades of Black",
          "Guardians",
          "Independence Day: Resurgence",
          "The Karate Kid",
          "Jason X",
          "Final Destination",
          "The Incredibles",
          "Blade",
          "The Matrix Revolutions",
          "The Villainess",
          "Marriage Story",
          "The Hills Have Eyes",
          "Uncut Gems",
          "Pet Sematary",
          "Taken 2",
          "Good Boys",
          "The Upside",
          "Mile 22",
          "Pitch Perfect 2",
          "Saw IV",
          "Saw II",
          "Hostel: Part II",
          "Wonder Park",
          "Percy Jackson & the Olympians: The Lightning Thief",
          "Schindler's List",
          "Ghost Rider: Spirit of Vengeance",
          "The Karate Kid",
          "Southpaw",
          "The Family",
          "Back to the Future Part II",
          "The Fault in Our Stars",
          "Friday the 13th",
          "Cloudy with a Chance of Meatballs 2",
          "The Evil Dead",
          "Tracers",
          "Annabelle",
          "Sherlock Holmes: A Game of Shadows",
          "Monsters University",
          "American Beauty",
          "Hereditary",
          "Rise of the Guardians",
          "Long Shot",
          "Fracture",
          "Dark City",
          "28 Days Later",
          "Troy",
          "Pulp Fiction",
          "Aladdin",
          "The Parent Trap",
          "It Follows",
          "Child's Play 3",
          "300: Rise of an Empire",
          "Cujo",
          "The Accountant",
          "Miracles from Heaven",
          "Warcraft",
          "Kin",
          "Jigsaw",
          "Gifted",
          "As Above, So Below",
          "101 Dalmatians",
          "Mechanic: Resurrection",
          "Midway",
          "The Art of Racing in the Rain",
          "13 Hours: The Secret Soldiers of Benghazi",
          "Captain America: The First Avenger",
          "Searching",
          "Shaft",
          "Beauty and the Beast",
          "Hitman: Agent 47",
          "Rio 2",
          "Predator",
          "Mission: Impossible - Ghost Protocol",
          "Saw 3D",
          "I'm Not Ashamed",
          "Man of Steel",
          "2001: A Space Odyssey",
          "Aliens vs Predator: Requiem",
          "Overboard",
          "Sausage Party",
          "Batman",
          "The Polar Express",
          "King Arthur: Legend of the Sword",
          "Dreamcatcher",
          "Freddy's Dead: The Final Nightmare",
          "Rio",
          "Storks",
          "Red Sparrow",
          "Ready or Not",
          "Ghostbusters",
          "Life of Pi",
          "Piranha",
          "Sherlock Holmes",
          "Transporter 2",
          "Casino Royale",
          "Snow White and the Seven Dwarfs",
          "Seventh Son",
          "Madagascar 3: Europe's Most Wanted",
          "The 5th Wave",
          "Die Another Day",
          "The Hunger Games: Catching Fire",
          "The Circle",
          "Black Hawk Down",
          "Get Out",
          "The Expendables 3",
          "Gladiator",
          "The Prestige",
          "Rendel",
          "Green Lantern",
          "Rango",
          "The Iron Giant",
          "The Ring",
          "Kung Fu Panda",
          "Captain America: The Winter Soldier",
          "Pinocchio",
          "The Longest Yard",
          "The Revenant",
          "Return of the Living Dead 3",
          "Salt",
          "Mission: Impossible - Rogue Nation",
          "Blended",
          "ParaNorman",
          "The House with a Clock in Its Walls",
          "Bad Boys II",
          "Battleship",
          "Central Intelligence",
          "No Good Deed",
          "Scarface",
          "Atomic Blonde",
          "The A-Team",
          "This Means War",
          "Saw V",
          "Django Unchained",
          "The Best of Me",
          "Raiders of the Lost Ark",
          "Sleepy Hollow",
          "Rogue One: A Star Wars Story",
          "Attraction",
          "Bāhubali 2: The Conclusion",
          "About Time",
          "The Social Network",
          "The Boss Baby",
          "4x4",
          "The Departed",
          "One Hundred and One Dalmatians",
          "Terminator Salvation",
          "Kung Fu Panda 2",
          "Escape Plan",
          "2012",
          "Yesterday",
          "Jeepers Creepers",
          "Scream 2",
          "A Dog's Purpose",
          "Poltergeist",
          "Cloudy with a Chance of Meatballs",
          "Life",
          "Halloween 5: The Revenge of Michael Myers",
          "Orphan",
          "The Commuter",
          "Sí, Mi Amor",
          "Predator 2",
          "Truth or Dare",
          "Ouija",
          "Widows",
          "A Million Ways to Die in the West",
          "Drag Me to Hell",
          "Wrath of the Titans",
          "Brahms: The Boy II",
          "Madagascar",
          "(500) Days of Summer",
          "Halloween 4: The Return of Michael Myers",
          "Nightcrawler",
          "The Addams Family",
          "The Witch",
          "Death Wish",
          "Halloween",
          "Hummingbird",
          "Booksmart",
          "The Mountain Between Us",
          "Beetlejuice",
          "Need for Speed",
          "Dragonball Evolution",
          "Just Go with It",
          "Rocky",
          "A Haunted House",
          "Everest",
          "Saw III",
          "Happy Death Day 2U",
          "Wolf Warrior 2",
          "Princess Mononoke",
          "Pan",
          "The NeverEnding Story",
          "The Princess and the Frog",
          "The Amityville Horror",
          "Green Book",
          "Fantasy Island",
          "The Road to El Dorado",
          "White Chicks",
          "Se7en",
          "The Lorax",
          "Ben-Hur",
          "Endless Love",
          "Leprechaun",
          "Love & Other Drugs",
          "Undisputed",
          "Brother Bear",
          "Stand by Me Doraemon",
          "The Blind Side",
          "Ben-Hur",
          "Apocalypse Now",
          "Hellboy",
          "The Longest Ride",
          "Nerve",
          "The Foreigner",
          "The Empire Strikes Back",
          "Space Pirate Captain Harlock",
          "Walking with Dinosaurs",
          "Red Riding Hood",
          "Hustlers",
          "Dirty Grandpa",
          "The Tuxedo",
          "Scary Movie 5",
          "Abraham Lincoln: Vampire Hunter",
          "Guardians of the Galaxy",
          "Jason Goes to Hell: The Final Friday",
          "Mission: Impossible",
          "Madagascar: Escape 2 Africa",
          "Ghost Rider",
          "Saw VI",
          "Case 39",
          "Pride & Prejudice",
          "South Park: Bigger, Longer & Uncut",
          "Taxi Driver",
          "The Godfather: Part II",
          "Ip Man 3",
          "Child's Play",
          "Aliens",
          "The Notebook",
          "Scream",
          "The Unborn",
          "Fireproof",
          "The Chronicles of Narnia: Prince Caspian",
          "Focus",
          "The Wizard of Oz",
          "Jack Reacher: Never Go Back",
          "Norbit",
          "Alien Resurrection",
          "Robin Hood: Prince of Thieves",
          "Stuart Little",
          "Operation Mekong",
          "Final Destination 5",
          "Mr. Peabody & Sherman",
          "Johnny English Strikes Again",
          "Child's Play 2",
          "Mandy",
          "Scary Movie 2",
          "Impractical Jokers: The Movie",
          "Interview with the Vampire",
          "Dracula",
          "Big Fish & Begonia",
          "Final Destination 3",
          "Trainwreck",
          "Daddy's Home 2",
          "47 Ronin",
          "Courageous",
          "Justin Bieber: Never Say Never",
          "Laggies",
          "The Towering Inferno",
          "Tomorrowland",
          "Patriots Day",
          "2 Guns",
          "T-34",
          "Small Soldiers",
          "The Invisible Guest",
          "The Final Destination",
          "Van Helsing",
          "Friday the 13th Part VI: Jason Lives",
          "Olympus Has Fallen",
          "Edward Scissorhands",
          "Smurfs: The Lost Village",
          "Skyfall",
          "Push",
          "Kill Bill: Vol. 1",
          "Eyes Wide Shut",
          "Home Alone 2: Lost in New York",
          "Bruce Almighty",
          "Psycho",
          "Kung Fu Yoga",
          "Quantum of Solace",
          "Friday the 13th: A New Beginning",
          "Adrift",
          "Catch Me If You Can",
          "Night at the Museum: Secret of the Tomb",
          "What Men Want",
          "Men in Black 3",
          "The Fifth Element",
          "The Ten Commandments: The Movie",
          "Scary Movie 3",
          "Rush Hour 3",
          "Sicario",
          "Self/less",
          "Alvin and the Chipmunks: The Squeakquel",
          "Finding Dory",
          "A Walk to Remember",
          "The Orphanage",
          "The Peanuts Movie",
          "Police Story 3: Super Cop",
          "The Thing",
          "Cats & Dogs: The Revenge of Kitty Galore",
          "War of the Worlds",
          "A Bug's Life",
          "The Proposal",
          "Birdman or (The Unexpected Virtue of Ignorance)",
          "New Nightmare",
          "Mission: Impossible III",
          "Carrie",
          "Lionheart",
          "Mean Girls",
          "Tarzan",
          "Just Mercy",
          "Back to the Future Part III",
          "The Lovely Bones",
          "Lilo & Stitch",
          "Payback",
          "Minions",
          "The Karate Kid Part II",
          "The Good, the Bad and the Ugly",
          "Kickboxer: Retaliation",
          "Child 44",
          "Scouts Guide to the Zombie Apocalypse",
          "Basic Instinct",
          "1987: When the Day Comes",
          "Don't Breathe",
          "Monster Trucks",
          "Alice in Wonderland",
          "Army of Darkness",
          "One Flew Over the Cuckoo's Nest",
          "Batman: The Killing Joke",
          "The Magnificent Seven",
          "Meet the Robinsons",
          "Sinbad: Legend of the Seven Seas",
          "Dirty Dancing",
          "Vampire Academy",
          "If I Stay",
          "Warm Bodies",
          "Ballerina",
          "Halloween: The Curse of Michael Myers",
          "Paddington 2",
          "Happy Death Day",
          "Annie",
          "Bee Movie",
          "Neighbors 2: Sorority Rising",
          "Rambo III",
          "Garfield",
          "Final Destination 2",
          "Blitz",
          "Bill & Ted's Excellent Adventure",
          "8 Mile",
          "Bambi",
          "Revenge",
          "Every Day",
          "Abduction",
          "The Wedding Ringer",
          "Batman & Robin",
          "Full Metal Jacket",
          "Death Note",
          "The Grudge",
          "Shark Tale",
          "Hansel & Gretel: Witch Hunters",
          "The Secret World of Arrietty",
          "Star Trek Into Darkness",
          "The Lego Movie",
          "Alice in Wonderland",
          "Sleepless",
          "The Turning",
          "The Howling",
          "Christopher Robin",
          "Dinosaur",
          "Terminator 3: Rise of the Machines",
          "Justice League: War",
          "A Bad Moms Christmas",
          "Live Free or Die Hard",
          "The Mummy",
          "The Railway Man",
          "The Mask",
          "Friends with Benefits",
          "Casper",
          "War Room",
          "RoboCop",
          "Next",
          "The Grudge",
          "Halloween III: Season of the Witch",
          "Max",
          "A Nightmare on Elm Street",
          "Kick-Ass 2",
          "The Texas Chainsaw Massacre: The Beginning",
          "What Happens in Vegas",
          "Inglourious Basterds",
          "Step Up All In",
          "Rise of the Planet of the Apes",
          "Puss in Boots",
          "Fantastic Four: Rise of the Silver Surfer",
          "Alien³",
          "Almost Famous",
          "Critters",
          "The Nut Job 2: Nutty by Nature",
          "Countdown",
          "Paul",
          "Perfume: The Story of a Murderer",
          "The Punisher",
          "Winchester",
          "The Girl Next Door",
          "I Am Number Four",
          "Zero Dark Thirty",
          "Game Night",
          "Hostel",
          "The Rundown",
          "Sex and the City",
          "True Lies",
          "Blackhat",
          "The Greatest Showman",
          "Chronicle",
          "Chicken Run",
          "xXx: State of the Union",
          "No Country for Old Men",
          "Braveheart",
          "Cloverfield",
          "Missing Link",
          "The Mummy Returns",
          "Looper",
          "Top Gun",
          "Fantastic Four",
          "The Expendables 2",
          "The Aristocats",
          "The Choice",
          "Battle: Los Angeles",
          "Clash of the Titans",
          "Blade: Trinity",
          "The Mortal Instruments: City of Bones",
          "Predators",
          "Addams Family Values",
          "Escape Room",
          "Little",
          "The Godfather: Part III",
          "White House Down",
          "This Is the End",
          "Lone Survivor",
          "Scott Pilgrim vs. the World",
          "Pain & Gain",
          "The Mummy",
          "Life Is Beautiful",
          "The Mist",
          "Lady Bird",
          "Peter Pan",
          "50 First Dates",
          "Selena",
          "Silent Hill: Revelation 3D",
          "The Interview",
          "Twelve Monkeys",
          "Jeepers Creepers 2",
          "Replicas",
          "Deepwater Horizon",
          "Batman Forever",
          "The Man with the Iron Heart",
          "Only the Brave",
          "Eragon",
          "Rings",
          "The Lego Batman Movie",
          "Rush Hour",
          "Forever My Girl",
          "Gravity",
          "Max Steel",
          "The Huntsman: Winter's War",
          "The Ten Commandments",
          "Insidious: Chapter 3",
          "Free Birds",
          "Robin Hood",
          "Lion",
          "Star Wars: The Clone Wars",
          "Us",
          "The Cabin in the Woods",
          "A Wrinkle in Time",
          "The Muppets",
          "Speed",
          "The Pianist",
          "Early Man",
          "Volcano",
          "Blue Is the Warmest Color",
          "RED 2",
          "The Neon Demon",
          "The Handmaiden",
          "Warrior",
          "Hotel Artemis",
          "Machete",
          "Star Wars: Episode II - Attack of the Clones",
          "Downsizing",
          "Ghostbusters",
          "Men in Black II",
          "The Legend of Tarzan",
          "Rear Window",
          "Anastasia",
          "Fighting with My Family",
          "I, Robot",
          "Hachi: A Dog's Tale",
          "Cats & Dogs",
          "That's My Boy",
          "Cast Away",
          "The Kid Who Would Be King",
          "The Vow",
          "Batman Returns",
          "Jack Reacher",
          "Herbie Fully Loaded",
          "GoldenEye",
          "Gone in Sixty Seconds",
          "Cars",
          "We Are Your Friends",
          "Ponyo",
          "The BFG",
          "The Intouchables",
          "House of Wax",
          "Godzilla",
          "Ocean's Twelve",
          "Evan Almighty",
          "Jumper",
          "Oblivion",
          "Die Hard",
          "Upgrade",
          "The Perks of Being a Wallflower",
          "Brokeback Mountain",
          "Ocean's Thirteen",
          "Ex Machina",
          "The Emperor's New Groove",
          "Straight Outta Compton",
          "Mars Needs Moms",
          "Flash Gordon",
          "Peter Pan",
          "Gremlins",
          "Die Hard: With a Vengeance",
          "City of God",
          "BlacKkKlansman",
          "Huevos: Little Rooster's Egg-Cellent Adventure",
          "The Expendables",
          "Under the Skin",
          "The Chronicles of Narnia: The Voyage of the Dawn Treader",
          "Man on Fire",
          "Indiana Jones and the Temple of Doom",
          "No Strings Attached",
          "A Simple Favor",
          "We're the Millers",
          "Creepshow",
          "Prisoners",
          "I Can Only Imagine",
          "Acts of Vengeance",
          "Blade II",
          "Fantasia",
          "Unbroken",
          "The Lords of Salem",
          "You Don't Mess with the Zohan",
          "Shooter",
          "Identity",
          "Hulk",
          "Epic",
          "Eternal Sunshine of the Spotless Mind",
          "The Man from U.N.C.L.E.",
          "A Christmas Carol",
          "American Made",
          "Independence Day",
          "Predestination",
          "The Truman Show",
          "The Goonies",
          "Hugo",
          "V for Vendetta",
          "Silence",
          "The Craft",
          "[REC]⁴ Apocalypse",
          "Sinister",
          "Rush Hour 2",
          "Star Wars: Episode I - The Phantom Menace",
          "RoboCop",
          "Step Up Revolution",
          "Left Behind",
          "Pan's Labyrinth",
          "Beautiful Boy",
          "The Jungle Book",
          "Unfriended: Dark Web",
          "Rocky V",
          "Shoot 'Em Up",
          "10 Things I Hate About You",
          "Unleashed",
          "The Fighter",
          "Rosemary's Baby",
          "The Vatican Tapes",
          "American Assassin",
          "The Drop",
          "Woodlawn",
          "Zathura: A Space Adventure",
          "Rocketman",
          "Riddick",
          "Indiana Jones and the Last Crusade",
          "Outcast",
          "Air Force One",
          "Pet Sematary",
          "Dawn of the Dead",
          "Night School",
          "Assassin's Creed",
          "Kubo and the Two Strings",
          "A Clockwork Orange",
          "Leprechaun 2",
          "Seeking Justice",
          "12 Angry Men",
          "Sex and the City 2",
          "The Boy in the Striped Pyjamas",
          "Treasure Planet",
          "The Town",
          "Tears of the Sun",
          "The Humanity Bureau",
          "A Nightmare on Elm Street Part 2: Freddy's Revenge",
          "The Game Plan",
          "The Usual Suspects",
          "Deep Impact",
          "Clueless",
          "Halloween: Resurrection",
          "Willy Wonka & the Chocolate Factory",
          "Allied",
          "Memento",
          "Monsters vs Aliens",
          "King Arthur",
          "From Dusk Till Dawn",
          "Meet Joe Black",
          "Father There Is Only One",
          "The Bourne Ultimatum",
          "Mars Attacks!",
          "Zack and Miri Make a Porno",
          "Limitless",
          "Return of the Jedi",
          "Amélie",
          "Dracula Untold",
          "War",
          "Pitch Perfect 3",
          "Non-Stop",
          "Prince of Persia: The Sands of Time",
          "The Number 23",
          "The Day the Earth Stood Still",
          "The Curious Case of Benjamin Button",
          "Oculus",
          "The Smurfs 2",
          "Tad the Lost Explorer and the Secret of King Midas",
          "Transporter 3",
          "Kingdom of Heaven",
          "The Messengers",
          "Die Hard 2",
          "Lovelace",
          "Going in Style",
          "Nausicaä of the Valley of the Wind",
          "Mad Max 2",
          "Crazy, Stupid, Love.",
          "Reservoir Dogs",
          "The Collector",
          "Snow White and the Huntsman",
          "Blood Diamond",
          "Poltergeist",
          "Sherlock Gnomes",
          "Conan the Barbarian",
          "Step Up 3D",
          "The Sixth Sense",
          "Mortal Kombat: Annihilation",
          "Drive Angry",
          "Antz",
          "Breaking In",
          "The Deer Hunter",
          "30 Days of Night",
          "Highlander",
          "The Ring Two",
          "Crank: High Voltage",
          "God's Not Dead",
          "Con Air",
          "Jason Bourne",
          "Neighbors",
          "[REC]",
          "Mission: Impossible II",
          "Hellraiser",
          "Paper Towns",
          "Anaconda",
          "The Adventures of Sharkboy and Lavagirl",
          "Blockers",
          "Star Wars: Episode III - Revenge of the Sith",
          "The Fountain",
          "Sin City: A Dame to Kill For",
          "The Strangers",
          "Project Almanac",
          "Instant Family",
          "I, Tonya",
          "47 Meters Down",
          "Superman",
          "Patriot Games",
          "G.I. Joe: The Rise of Cobra",
          "Shame",
          "Gangs of New York",
          "House of 1000 Corpses",
          "Demolition",
          "American History X",
          "Austin Powers in Goldmember",
          "Flipped",
          "Black Swan",
          "TRON: Legacy",
          "Scream 4",
          "Mad Max",
          "E.T. the Extra-Terrestrial",
          "Point Break",
          "Me, Myself & Irene",
          "Tomorrow Never Dies",
          "28 Weeks Later",
          "A Cinderella Story",
          "Horrible Bosses 2",
          "Lady and the Tramp",
          "The Girl in the Spider's Web",
          "Unforgiven",
          "Donnie Darko",
          "Universal Soldier: Day of Reckoning",
          "The Spy Who Dumped Me",
          "17 Again",
          "The Call",
          "The Warriors",
          "Rocky Balboa",
          "Night at the Museum: Battle of the Smithsonian",
          "The Prince of Egypt",
          "The Mummy: Tomb of the Dragon Emperor",
          "Sully",
          "mother!",
          "Daddy's Home",
          "After Earth",
          "Pride and Prejudice and Zombies",
          "Epic Movie",
          "Rock Dog",
          "Open Season",
          "The American",
          "The Iceman",
          "Gnomeo & Juliet",
          "Martyrs",
          "The Patriot",
          "Underworld: Awakening",
          "La La Land",
          "Turbo",
          "The Theory of Everything",
          "The Boy",
          "Mrs. Doubtfire",
          "10,000 BC",
          "The Princess Diaries 2: Royal Engagement",
          "Ouija: Origin of Evil",
          "21 Jump Street",
          "Hannah Montana: The Movie",
          "22 Jump Street",
          "Youth",
          "21",
          "The Last Samurai",
          "Knocked Up",
          "Big Trouble in Little China",
          "American Psycho",
          "Taxi",
          "The Grand Budapest Hotel",
          "The Blair Witch Project",
          "Evil Dead II",
          "Sweet November",
          "The Black Cauldron",
          "How to Lose a Guy in 10 Days",
          "The Crazies",
          "Starship Troopers",
          "Skiptrace",
          "The November Man",
          "Agent Cody Banks",
          "Couples Retreat",
          "The Spiderwick Chronicles",
          "The Flintstones",
          "Hurricane",
          "Exorcist II: The Heretic",
          "I Am Sam",
          "The Pursuit of Happyness",
          "GoodFellas",
          "Hitch",
          "St. Vincent",
          "The Big Lebowski",
          "The Gambler",
          "From Hell",
          "Rocky II",
          "Noah",
          "The Wedding Planner",
          "Home Alone 3",
          "Mortal Kombat",
          "Raw Deal",
          "Return of the Living Dead Part II",
          "Signs",
          "Horrible Bosses",
          "Kick-Ass",
          "The Woman in Black",
          "Kill Bill: Vol. 2",
          "Beastly",
          "The Road",
          "Nanny McPhee and the Big Bang",
          "Evil Dead",
          "Aftermath",
          "Underworld: Rise of the Lycans",
          "Chloe",
          "Dr. No",
          "The World Is Not Enough",
          "Where the Wild Things Are",
          "Seven Pounds",
          "Christine",
          "Zodiac",
          "Ace Ventura: Pet Detective",
          "The Favourite",
          "Jaws 3-D",
          "Bāhubali: The Beginning",
          "The Bodyguard",
          "The Impossible",
          "Why Him?",
          "A Perfect Getaway",
          "Blair Witch",
          "Sherrybaby",
          "Three Billboards Outside Ebbing, Missouri",
          "Mandela: Long Walk to Freedom",
          "Charlie's Angels",
          "Risen",
          "The Devil Inside",
          "Supergirl",
          "Darkest Hour",
          "Total Recall",
          "Legends of Oz: Dorothy's Return",
          "3 Days to Kill",
          "The Smurfs",
          "The Hateful Eight",
          "Cliffhanger",
          "The Judge",
          "Tag",
          "Cradle 2 the Grave",
          "Sinister 2",
          "One Day",
          "The Heartbreak Kid",
          "The Finest Hours",
          "Shaun of the Dead",
          "Perfect Stranger",
          "Stigmata",
          "Blood Father",
          "The Man with the Golden Gun",
          "Indiana Jones and the Kingdom of the Crystal Skull",
          "The Bourne Legacy",
          "Tad, the Lost Explorer",
          "Gulliver's Travels",
          "The Recall",
          "Hereafter",
          "Queen & Slim",
          "Night at the Museum",
          "Safe House",
          "The Princess Diaries",
          "Paul Blart: Mall Cop 2",
          "Home on the Range",
          "Journey to the Center of the Earth",
          "Safe",
          "Pitch Perfect",
          "Wind River",
          "Silver Linings Playbook",
          "Kung Fu Hustle",
          "Pompeii",
          "The Son of Bigfoot",
          "Legally Blonde",
          "The Adventures of Tintin",
          "Room",
          "Minority Report",
          "Ma",
          "The Naked Gun: From the Files of Police Squad!",
          "Hide and Seek",
          "Season of the Witch",
          "Lost in Translation",
          "The Last Airbender",
          "National Treasure: Book of Secrets",
          "The Mule",
          "Demolition Man",
          "Underworld: Evolution",
          "Source Code",
          "Vertigo",
          "Dune",
          "Astro Boy",
          "Commando",
          "A Thousand Words",
          "Rocky III",
          "The Adventurer: The Curse of the Midas Box",
          "The 15:17 to Paris",
          "Fantastic Mr. Fox",
          "Heat",
          "Platoon",
          "Hard Target",
          "Second Act",
          "The Big Short",
          "Planet of the Apes",
          "Her",
          "The Bourne Supremacy",
          "The Wedding Singer",
          "Ninja Assassin",
          "The Ritual",
          "My Girl",
          "I Now Pronounce You Chuck & Larry",
          "Tremors",
          "Spy Kids 3-D: Game Over",
          "Enchanted",
          "The Great Gatsby",
          "Not Another Teen Movie",
          "Richard Jewell",
          "The Strangers: Prey at Night",
          "Good Luck Chuck",
          "25th Hour",
          "Tolkien",
          "U-571",
          "Daredevil",
          "Suburbicon",
          "Star Trek: Nemesis",
          "Crimson Peak",
          "Virus",
          "Cake",
          "The Quest",
          "The Grudge 2",
          "Beautiful Creatures",
          "The Miseducation of Cameron Post",
          "A Good Day to Die Hard",
          "The Lone Ranger",
          "The Descent: Part 2",
          "Delivery Man",
          "Species II",
          "Dark Shadows",
          "Law Abiding Citizen",
          "Collide",
          "Tombstone",
          "Mr. & Mrs. Smith",
          "The 6th Day",
          "Space Jam",
          "Notting Hill",
          "Little Man",
          "Hellboy II: The Golden Army",
          "Looney Tunes: Back in Action",
          "Unbreakable",
          "Enemy at the Gates",
          "Battle of the Sexes",
          "Cadillac Records",
          "Seberg",
          "The Dictator",
          "Knowing",
          "The One",
          "Burning",
          "The Wind Rises",
          "Paranormal Activity 4",
          "Lights Out",
          "Collateral",
          "The Host",
          "Hot Fuzz",
          "Life As We Know It",
          "It's a Wonderful Life",
          "The Good Doctor",
          "Triple 9",
          "Life of the Party",
          "Half Past Dead",
          "Aquamarine",
          "The Omen",
          "Oldboy",
          "I Know What You Did Last Summer",
          "Chicken Little",
          "The Marine",
          "Isle of Dogs",
          "R.I.P.D.",
          "Spy Kids",
          "Before I Go to Sleep",
          "Stargate",
          "Over the Hedge",
          "School of Rock",
          "Caligula",
          "The Descendants",
          "A Beautiful Day in the Neighborhood",
          "The Best Is Yet to Come",
          "Monkey King: Hero Is Back",
          "The Woman in Black 2: Angel of Death",
          "Bachelor Party",
          "Maggie",
          "Big Fish",
          "Sphere",
          "Dumb and Dumber",
          "Face/Off",
          "Moonlight",
          "Nacho Libre",
          "Original Sin",
          "J. Edgar",
          "The Hurt Locker",
          "Machete Kills",
          "The Grandmaster",
          "The Wailing",
          "King Kong",
          "Mary Poppins",
          "Cruel Intentions",
          "Step Up",
          "Agora",
          "Children of Men",
          "Ali",
          "Diary of a Wimpy Kid: The Long Haul",
          "U.S. Marshals",
          "Deep Rising",
          "Luther",
          "AVP: Alien vs. Predator",
          "Sex Drive",
          "Dead Trigger",
          "Street Kings",
          "Practical Magic",
          "Knight and Day",
          "Legally Blonde 2: Red, White & Blonde",
          "Moonrise Kingdom",
          "Borat: Cultural Learnings of America for Make Benefit Glorious Nation of Kazakhstan",
          "Double Impact",
          "9 Songs",
          "P.S. I Love You",
          "Ultraviolet",
          "Acrimony",
          "Colombiana",
          "The Bad Batch",
          "Blue Jasmine",
          "The Thin Red Line",
          "Empire State",
          "Moana",
          "Safe Haven",
          "Entourage",
          "Johnny English Reborn",
          "The Time Machine",
          "The Rock",
          "Spring Breakers",
          "Æon Flux",
          "The Italian Job",
          "Ong Bak: Muay Thai Warrior",
          "American Hustle",
          "Home Again",
          "War Dogs",
          "The Order",
          "Spy",
          "Liar Liar",
          "Flushed Away",
          "13 Going on 30",
          "Click",
          "The Babadook",
          "Judge Dredd",
          "Snake Eyes",
          "Doomsday",
          "Hidden Figures",
          "The Texas Chain Saw Massacre",
          "Happy Feet",
          "Virgin Territory",
          "Spy Kids 2: The Island of Lost Dreams",
          "The Bourne Identity",
          "Death Sentence",
          "See No Evil",
          "The Spectacular Now",
          "Paddington",
          "The Girl with the Dragon Tattoo",
          "Bad Times at the El Royale",
          "Captain Phillips",
          "Lockout",
          "The Possession of Hannah Grace",
          "Lawrence of Arabia",
          "Justice League: The New Frontier",
          "End of Watch",
          "Vacation",
          "Hidalgo",
          "Sabotage",
          "The Crow",
          "Drive",
          "Mortdecai",
          "Ninja",
          "Private Lessons",
          "Conan the Destroyer",
          "Lara Croft: Tomb Raider",
          "The Heat",
          "50/50",
          "Remember the Titans",
          "The Pirates! In an Adventure with Scientists!",
          "The Happening",
          "Momentum",
          "Gothika",
          "The Da Vinci Code",
          "Romeo Must Die",
          "Killer Elite",
          "Big Momma's House",
          "Slender Man",
          "Third Person",
          "Big Momma's House 2",
          "The Fly",
          "Edge of Darkness",
          "Robin Hood",
          "Passengers",
          "Tower Heist",
          "Dr. Strangelove or: How I Learned to Stop Worrying and Love the Bomb",
          "The Tree of Life",
          "Romeo + Juliet",
          "Dragged Across Concrete",
          "The Rescuers",
          "The Messenger: The Story of Joan of Arc",
          "All Eyez on Me",
          "Suspiria",
          "Dark Skies",
          "12 Years a Slave",
          "EverAfter",
          "Metropolis",
          "Pay It Forward",
          "Lethal Weapon 2",
          "Super 8",
          "The Visit",
          "Oldboy",
          "New in Town",
          "S.W.A.T.",
          "Reign of Fire",
          "Parker",
          "Stomp the Yard",
          "Into the Storm",
          "Metallica: Through the Never",
          "The Three Stooges",
          "Bloodsport",
          "Desperado",
          "Killers",
          "Free State of Jones",
          "Nurse 3-D",
          "A Knight's Tale",
          "The Core",
          "The Bye Bye Man",
          "Total Recall",
          "Murder on the Orient Express",
          "The Cat in the Hat",
          "Fire with Fire",
          "Some Like It Hot",
          "Escape to Victory",
          "The Fox and the Hound",
          "Starsky & Hutch",
          "Shanghai Noon",
          "Hearts Beat Loud",
          "The Fourth Kind",
          "Training Day",
          "Monte Carlo",
          "Boo 2! A Madea Halloween",
          "Paranormal Activity 2",
          "The Sorcerer's Apprentice",
          "Street Fighter",
          "Deep Blue Sea",
          "Into the Woods",
          "The Other Woman",
          "Shaolin Soccer",
          "The Faculty",
          "Grimsby",
          "Spy Kids: All the Time in the World",
          "Spider-Man 2",
          "The Next Karate Kid",
          "Heaven Is for Real",
          "The Legend of Drunken Master",
          "Death Race",
          "Doom",
          "Waterworld",
          "Precious Cargo",
          "The Scorpion King",
          "Raw",
          "Igor",
          "Stuart Little 2",
          "The Mermaid",
          "The Devil's Advocate",
          "The Man in the Iron Mask",
          "The Rugrats Movie",
          "The Butterfly Effect",
          "Beowulf",
          "Kiss of the Dragon",
          "Good Will Hunting",
          "Trapped",
          "Underdogs",
          "The Legend of Zorro",
          "Mimic",
          "Pandorum",
          "Dredd",
          "Paranormal Activity: The Ghost Dimension",
          "Yes Man",
          "Dream House",
          "Juno",
          "Phantom Thread",
          "Due Date",
          "13 Assassins",
          "The Forbidden Kingdom",
          "Angels & Demons",
          "Meet the Blacks",
          "Love Actually",
          "Year One",
          "Jackass Presents: Bad Grandpa",
          "Holmes & Watson",
          "Piranha 3DD",
          "Argo",
          "1408",
          "Disclosure",
          "Pete's Dragon",
          "Priest",
          "Vice",
          "Cobra",
          "The Space Between Us",
          "Inferno",
          "The Lost Boys",
          "Poseidon",
          "The Snowman",
          "Fortress",
          "Dallas Buyers Club",
          "Oz the Great and Powerful",
          "Molly's Game",
          "Leap Year",
          "The Haunting",
          "Déjà Vu",
          "Mr. Bean's Holiday",
          "The Mechanic",
          "The Possession",
          "Dead Poets Society",
          "Patch Adams",
          "The Color Purple",
          "Maleficent: Mistress of Evil",
          "Toy Story 4",
          "Terminator: Dark Fate",
          "The Secret Life of Pets 2",
          "The Angry Birds Movie 2",
          "Underwater",
          "Alita: Battle Angel",
          "Men in Black: International",
          "The Avengers",
          "Sing",
          "Harry Potter and the Order of the Phoenix",
          "American Pie Presents: The Naked Mile",
          "Robin Hood",
          "Pirates of the Caribbean: On Stranger Tides",
          "Brian Banks",
          "Spirit: Stallion of the Cimarron",
          "Snowpiercer",
          "Aloha",
          "Krampus",
          "Honey",
          "Late Night",
          "The Running Man",
          "Pearl Harbor",
          "Still Alice",
          "Along Came a Spider",
          "Deception",
          "Snatch",
          "Sleepwalkers",
          "Machine Gun Preacher",
          "Deuce Bigalow: European Gigolo",
          "Inherent Vice",
          "Les Misérables",
          "A.I. Artificial Intelligence",
          "Bridget Jones's Diary",
          "Secret Window",
          "Little Women",
          "Flight",
          "Naked Gun 33⅓: The Final Insult",
          "A Nightmare on Elm Street: The Dream Child",
          "In the Heart of the Sea",
          "Ronin",
          "Brick Mansions",
          "Get Hard",
          "Catwoman",
          "Yu-Gi-Oh! The Movie",
          "Torque",
          "Movie 43",
          "The Boxtrolls",
          "Jackass 3D",
          "Spotlight",
          "Immortals",
          "Eden Lake",
          "The Shallows",
          "Jaws: The Revenge",
          "The Girl on the Train",
          "Turner & Hooch",
          "Jacob's Ladder",
          "Friday",
          "Sucker Punch",
          "Unknown",
          "Nocturnal Animals",
          "Big Mommas: Like Father, Like Son",
          "Devil's Due",
          "Hall Pass",
          "Sky High",
          "The Last House on the Left",
          "Bullet to the Head",
          "Species",
          "Sin City",
          "Easy A",
          "EuroTrip",
          "We Were Soldiers",
          "Everything, Everything",
          "Lethal Weapon",
          "The Holiday",
          "The Counselor",
          "The Rite",
          "Unfaithful",
          "The Mask of Zorro",
          "Show Dogs",
          "The Bone Collector",
          "Shin Godzilla",
          "The Brothers Grimm",
          "The Blue Lagoon",
          "The Hunt for Red October",
          "The 13th Warrior",
          "Closer",
          "Alexander",
          "High Crimes",
          "Jurassic Park",
          "Trainspotting",
          "Ghost",
          "Robinson Crusoe: The Wild Life",
          "The Belko Experiment",
          "Coming to America",
          "Thunderball",
          "Walking Tall",
          "The Water Horse",
          "The Hitchhiker's Guide to the Galaxy",
          "Elektra",
          "Capernaum",
          "Gremlins 2: The New Batch",
          "A View to a Kill",
          "Panic Room",
          "Death Note: The Last Name",
          "Lethal Weapon 3",
          "Tango & Cash",
          "A Company Man",
          "Superman Returns",
          "48 Hrs.",
          "The Specialist",
          "Freaky Friday",
          "Babe: Pig in the City",
          "Solomon Kane",
          "Planes",
          "An American Werewolf in Paris",
          "Into the Blue",
          "Cleopatra",
          "Matilda",
          "The Invasion",
          "Boyz n the Hood",
          "Step Up 2: The Streets",
          "31",
          "Brick",
          "The Eye",
          "The Help",
          "The Watch",
          "Casino",
          "Cold Mountain",
          "Dante's Peak",
          "Mad Max Beyond Thunderdome",
          "Howard the Duck",
          "That Awkward Moment",
          "Jingle All the Way",
          "Wanted",
          "Operation Finale",
          "Octopussy",
          "Skyline",
          "Rough Night",
          "The Omen",
          "Eraser",
          "Miss Congeniality",
          "Mike and Dave Need Wedding Dates",
          "The X Files: I Want to Believe",
          "The Lucky One",
          "Heartbreak Ridge",
          "Jack Ryan: Shadow Recruit",
          "Flatliners",
          "Orca: The Killer Whale",
          "I Feel Pretty",
          "The Great Dictator",
          "He's Just Not That Into You",
          "The Post",
          "RED",
          "The Protector",
          "Public Enemies",
          "Poltergeist II: The Other Side",
          "Broken City",
          "Death Becomes Her",
          "Serenity",
          "Pet Sematary II",
          "Fargo",
          "Hero",
          "Freedom Writers",
          "Into the Labyrinth",
          "Along Came Polly",
          "Winter's Tale",
          "Mighty Morphin Power Rangers: The Movie",
          "The Awakening",
          "The Founder",
          "Hoodwinked!",
          "The Sisterhood of the Traveling Pants 2",
          "Metropolis",
          "Agent Cody Banks 2: Destination London",
          "The Lizzie McGuire Movie",
          "Million Dollar Baby",
          "Johnny English",
          "The Illusionist",
          "Splash",
          "Dead Calm",
          "Unfriended",
          "Sweeney Todd: The Demon Barber of Fleet Street",
          "The Raid",
          "The League of Extraordinary Gentlemen",
          "Fantasia 2000",
          "The Hate U Give",
          "Mirrors",
          "Double Indemnity",
          "xXx",
          "Ride Along 2",
          "The Sitter",
          "From Paris with Love",
          "StreetDance 3D",
          "The Way of the Dragon",
          "RoboCop 3",
          "Maverick",
          "The Three Musketeers",
          "Mamma Mia! Here We Go Again",
          "Mr. Holmes",
          "The Ant Bully",
          "Gattaca",
          "Mamma Mia!",
          "Lolita",
          "True Romance",
          "The Wrestler",
          "Crank",
          "Percy Jackson: Sea of Monsters",
          "The Machinist",
          "The Lookout",
          "Enemy of the State",
          "Coyote Ugly",
          "Vegas Vacation",
          "Stay Alive",
          "Turbulence",
          "On the Basis of Sex",
          "Last Action Hero",
          "Trance",
          "The World's End",
          "Dear John",
          "The Book of Eli",
          "Lethal Weapon 4",
          "Zoom",
          "Hellbound: Hellraiser II",
          "Jonah Hex",
          "Gamer",
          "Casablanca",
          "Memoirs of a Geisha",
          "Osmosis Jones",
          "Cop Out",
          "Manchester by the Sea",
          "Roman J. Israel, Esq.",
          "Eight Legged Freaks",
          "Moonwalker",
          "The Beguiled",
          "Dracula 2000",
          "The Last Castle",
          "Conan the Barbarian",
          "Memories of Murder",
          "From Russia with Love",
          "Mr. Popper's Penguins",
          "Double Jeopardy",
          "Magic Mike XXL",
          "Vacancy",
          "Office Space",
          "K-19: The Widowmaker",
          "Beverly Hills Cop",
          "Wedding Crashers",
          "Beneath the Planet of the Apes",
          "American Ultra",
          "Captain Fantastic",
          "Grease",
          "Crazy Heart",
          "Secret in Their Eyes",
          "Let Me In",
          "Deuce Bigalow: Male Gigolo",
          "Once Upon a Time in Mexico",
          "Walk of Shame",
          "They Live",
          "Cheaper by the Dozen",
          "Once Upon a Time in America",
          "Assault on Precinct 13",
          "Moneyball",
          "Robots",
          "Blast from the Past",
          "Passengers",
          "Wild at Heart",
          "Charlie's Angels: Full Throttle",
          "The Ottoman Lieutenant",
          "DragonHeart",
          "Rebecca",
          "The Reader",
          "Ride Along",
          "Remember Me",
          "Rush",
          "Mr. Nobody",
          "The Legend of Bagger Vance",
          "Universal Soldier: The Return",
          "Tropic Thunder",
          "Tooth Fairy",
          "The Pyramid",
          "Whatever Works",
          "Red Dawn",
          "Moon",
          "Happy Feet Two",
          "Sudden Death",
          "The Kingdom",
          "Instructions Not Included",
          "Wish Upon",
          "Valentine's Day",
          "Hearts in Atlantis",
          "The Count of Monte Cristo",
          "Kickboxer",
          "Triangle",
          "The Birds",
          "The Tourist",
          "The Terminal",
          "12 Rounds",
          "End of Days",
          "John Tucker Must Die",
          "Miss Sloane",
          "The Little Vampire",
          "The Words",
          "The Golden Compass",
          "The Walk",
          "The Grudge 3",
          "Twin Peaks: Fire Walk with Me",
          "Unstoppable",
          "Charlie St. Cloud",
          "Hot Shots!",
          "Planet 51",
          "Children of the Corn II: The Final Sacrifice",
          "Beverly Hills Chihuahua",
          "Last Vegas",
          "War Horse",
          "Rounders",
          "Star Trek: The Motion Picture",
          "Burlesque",
          "Wolf Creek",
          "Hoodwinked Too! Hood VS. Evil",
          "Ken Park",
          "The Wave",
          "Diamonds Are Forever",
          "Repo Man",
          "Licence to Kill",
          "Drumline",
          "Hardcore Henry",
          "Tusk",
          "Dances with Wolves",
          "On Deadly Ground",
          "Dawn of the Dead",
          "Nobody's Fool",
          "To Kill a Mockingbird",
          "Logan Lucky",
          "The Rocker",
          "Date Movie",
          "Porky's",
          "Man on a Ledge",
          "What Women Want",
          "Faster",
          "mid90s",
          "16 Blocks",
          "Overdrive",
          "Friday After Next",
          "Lolita",
          "A Beautiful Mind",
          "Happy Gilmore",
          "Bridget Jones's Baby",
          "Iron Sky",
          "Hope Springs",
          "Blue Story",
          "G.I. Joe: Retaliation",
          "Citizen Kane",
          "Bad Teacher",
          "Incarnate",
          "Snakes on a Plane",
          "Seven Samurai",
          "The Raid 2",
          "You Only Live Twice",
          "The Gallows",
          "Man of Tai Chi",
          "Dangerous Minds",
          "The Sword in the Stone",
          "Kung Fu Jungle",
          "Live and Let Die",
          "Midnight in Paris",
          "Multiplicity",
          "Critters 2",
          "A Monster Calls",
          "Forgetting Sarah Marshall",
          "Elle",
          "Slumdog Millionaire",
          "Scream 3",
          "Bug",
          "Event Horizon",
          "The Pacifier",
          "Mystic River",
          "Repo Men",
          "Ace Ventura: When Nature Calls",
          "Free Willy",
          "Universal Soldier: Regeneration",
          "The Spy Who Loved Me",
          "Meet the Spartans",
          "Fun with Dick and Jane",
          "Mission to Mars",
          "Sabrina",
          "Poltergeist III",
          "Four Weddings and a Funeral",
          "Take Shelter",
          "Ratchet & Clank",
          "Footloose",
          "Miami Vice",
          "Area 51",
          "The Bank Job",
          "Spartan",
          "The Frighteners",
          "What Lies Beneath",
          "Without a Paddle",
          "BloodRayne",
          "Eat Pray Love",
          "Romancing the Stone",
          "Mr. Magoo",
          "Confessions of a Dangerous Mind",
          "Dragon: The Bruce Lee Story",
          "Edison",
          "Cube",
          "Serenity",
          "Pokémon: The First Movie - Mewtwo Strikes Back",
          "Awake",
          "Don't Be Afraid of the Dark",
          "Babe",
          "Pathfinder",
          "The Haunted Mansion",
          "The House of Magic",
          "Zoolander 2",
          "The Fugitive",
          "The Eagle",
          "Short Circuit 2",
          "Marley & Me",
          "Chinatown",
          "Batman: Most Wanted",
          "The Other Guys",
          "Biker Boyz",
          "CHiPS",
          "The Apparition",
          "The Girl with the Dragon Tattoo",
          "Texas Chainsaw Massacre: The Next Generation",
          "Can't Buy Me Love",
          "Next of Kin",
          "The Waterboy",
          "A Cure for Wellness",
          "The Rocky Horror Picture Show",
          "It Comes at Night",
          "Gone with the Wind",
          "Buffalo '66",
          "Harold & Kumar Escape from Guantanamo Bay",
          "Clear and Present Danger",
          "Keeping Up with the Joneses",
          "Deliver Us from Evil",
          "Love & Friendship",
          "The Break-Up",
          "Meet the Parents",
          "Four Brothers",
          "The Danish Girl",
          "White Noise",
          "The Client",
          "Speed 2: Cruise Control",
          "Buried",
          "Black Mass",
          "Confessions of a Shopaholic",
          "The Age of Adaline",
          "The Skeleton Key",
          "The Disaster Artist",
          "[REC]³ Genesis",
          "Little Fockers",
          "Tinker Tailor Soldier Spy",
          "Basic Instinct 2",
          "Austin Powers: The Spy Who Shagged Me",
          "The Head Hunter",
          "Nine 1/2 Weeks",
          "The House Bunny",
          "The Grey",
          "The Secret Life of Pets",
          "Unsane",
          "The Darkest Hour",
          "Goldfinger",
          "Sister Act",
          "Enemy Mine",
          "Morgan",
          "Blow",
          "The Island",
          "Inside Man",
          "Marrowbone",
          "Death Proof",
          "We Need to Talk About Kevin",
          "Father Figures",
          "World Trade Center",
          "Marie Antoinette",
          "State of Play",
          "Bad Moms",
          "Jackass: The Movie",
          "Café Society",
          "The Animal",
          "As Good as It Gets",
          "Behind Enemy Lines",
          "Assassins",
          "The Time Traveler's Wife",
          "Shallow Hal",
          "Eye for an Eye",
          "My Bloody Valentine",
          "30 Minutes or Less",
          "The Outlaws",
          "Pokémon: The Movie 2000",
          "[REC]²",
          "A Goofy Movie",
          "Red Tails",
          "Vertical Limit",
          "Danny Collins",
          "Pineapple Express",
          "TEKKEN",
          "Be Cool",
          "Bean",
          "Turbo: A Power Rangers Movie",
          "Escobar: Paradise Lost",
          "A Dangerous Method",
          "Rock of Ages",
          "Psycho",
          "The Florida Project",
          "Outbreak",
          "The Frozen Ground",
          "Ong Bak 2",
          "The Big Wedding",
          "Soul Surfer",
          "Frantic",
          "The Adventures of Pluto Nash",
          "Hot Shots! Part Deux",
          "Swordfish",
          "Dope",
          "Hellraiser: Bloodline",
          "Stand by Me",
          "Nick and Norah's Infinite Playlist",
          "Safety Not Guaranteed",
          "Lucky Number Slevin",
          "K-9",
          "Point Break",
          "Digimon: The Movie",
          "The Jackal",
          "Get Rich or Die Tryin'",
          "Falcon Rising",
          "Fahrenheit 9/11",
          "The Young Messiah",
          "Film Stars Don't Die in Liverpool",
          "National Lampoon's Vacation",
          "Heist",
          "Concussion",
          "The Avengers",
          "Ice Princess",
          "Slither",
          "How to Be Single",
          "Elite Squad",
          "Under Siege",
          "Just My Luck",
          "Diary of a Wimpy Kid: Dog Days",
          "Killer Klowns from Outer Space",
          "On Her Majesty's Secret Service",
          "Doctor Dolittle",
          "Godsend",
          "Bridge of Spies",
          "Planes: Fire & Rescue",
          "Harold & Kumar Go to White Castle",
          "Legend",
          "Surrogates",
          "Thumbelina",
          "Red Heat",
          "Rugrats Go Wild",
          "The Death of Stalin",
          "The Lobster",
          "Drop Dead Gorgeous",
          "Norm of the North",
          "Live Twice, Love Once",
          "Drive Me Crazy",
          "The Man Who Shot Liberty Valance",
          "Amityville II: The Possession",
          "A Most Violent Year",
          "The Blues Brothers",
          "Jerry Maguire",
          "Guess Who",
          "The Sting",
          "Doubt",
          "Basic",
          "Smokin' Aces",
          "Son of God",
          "Secretariat",
          "Brooklyn's Finest",
          "Lake Placid",
          "Defiance",
          "Meet the Fockers",
          "Pokémon 3: The Movie - Spell of the Unown",
          "Snitch",
          "Jimmy Neutron: Boy Genius",
          "Honey, I Shrunk the Kids",
          "Teenage Mutant Ninja Turtles",
          "The Texas Chainsaw Massacre 2",
          "Broken Arrow",
          "Carlito's Way",
          "The Man from Nowhere",
          "Big",
          "The Jungle Book 2",
          "Identity Thief",
          "The Big Sick",
          "Johnson Family Vacation",
          "Great Expectations",
          "Teenage Mutant Ninja Turtles III",
          "The Sound of Music",
          "Flubber",
          "Airplane!",
          "Into the Wild",
          "Shaft",
          "White Fang",
          "Flyboys",
          "Flashdance",
          "The Change-Up",
          "Mindhunters",
          "Atlantis: The Lost Empire",
          "Apollo 13",
          "All About Eve",
          "You've Got Mail",
          "Candyman",
          "National Treasure",
          "Criminal",
          "Crouching Tiger, Hidden Dragon",
          "Sisters",
          "Lawless",
          "Six Days Seven Nights",
          "The Ugly Truth",
          "Legend",
          "District B13",
          "This Is It",
          "The Princess Bride",
          "Ricki and the Flash",
          "Mr. Deeds",
          "Alone in the Dark",
          "Daybreakers",
          "Runner Runner",
          "Phantom",
          "Soldier",
          "Inkheart",
          "High Life",
          "The Bounty Hunter",
          "Sing Street",
          "Wild Child",
          "Grandma",
          "Barnyard",
          "Innerspace",
          "Weird Science",
          "Must Love Dogs",
          "Dennis the Menace",
          "Once Upon a Time in the West",
          "The Way Back",
          "The English Patient",
          "Alfie",
          "Final Fantasy: The Spirits Within",
          "Superman III",
          "Black Knight",
          "Marmaduke",
          "The Kid",
          "I, Frankenstein",
          "No Reservations",
          "Erin Brockovich",
          "Cool World",
          "Infamous",
          "Amores Perros",
          "Southland Tales",
          "The Transformers: The Movie",
          "John Q",
          "Waiting...",
          "Never Say Never Again",
          "Eighth Grade",
          "Star Trek: Insurrection",
          "Jaws 2",
          "Excalibur",
          "Begin Again",
          "Mercury Rising",
          "Men of Honor",
          "Trading Places",
          "Welcome to Marwen",
          "True Grit",
          "George of the Jungle",
          "Jack",
          "Cirque du Freak: The Vampire's Assistant",
          "Chef",
          "I Love You, Beth Cooper",
          "Sister Act 2: Back in the Habit",
          "Zoolander",
          "Paycheck",
          "Das Boot",
          "When the Bough Breaks",
          "Dilwale",
          "Jane Got a Gun",
          "Stardust",
          "Austin Powers: International Man of Mystery",
          "Strange Days",
          "The Cell",
          "Look Who's Talking",
          "The Salvation",
          "Legends of the Fall",
          "Firewall",
          "Charlotte's Web",
          "Superman IV: The Quest for Peace",
          "Sliver",
          "The Wave",
          "Traffic",
          "The Dukes of Hazzard",
          "The Lazarus Effect",
          "The Goddess of Fortune",
          "The Pelican Brief",
          "Timecop",
          "Get Smart",
          "Nebraska",
          "Virtuosity",
          "Rain Man",
          "Head of State",
          "Muppets Most Wanted",
          "Burn After Reading",
          "Fear and Loathing in Las Vegas",
          "Surf's Up",
          "Take Me Home Tonight",
          "The Next Three Days",
          "Billy Lynn's Long Halftime Walk",
          "Fright Night",
          "Out of Time",
          "Jack and Jill",
          "Wyatt Earp",
          "Confessions of a Teenage Drama Queen",
          "Loving Pablo",
          "Party Monster",
          "Maximum Overdrive",
          "Amadeus",
          "Resident Evil",
          "Super Troopers 2",
          "The Soloist",
          "Fright Night",
          "Wild Tales",
          "Hell or High Water",
          "Moulin Rouge!",
          "Joy",
          "Ghostbusters II",
          "Ip Man",
          "The 'Burbs",
          "Gotti",
          "Stolen",
          "Road to Perdition",
          "Battle Royale",
          "Star Trek IV: The Voyage Home",
          "Shark Night 3D",
          "Rock Star",
          "Dominion: Prequel to the Exorcist",
          "L.A. Confidential",
          "Punisher: War Zone",
          "Radio",
          "Australia",
          "Shall We Dance?",
          "The 40 Year Old Virgin",
          "Tulip Fever",
          "Evolution",
          "Dilwale Dulhania Le Jayenge",
          "The Cave",
          "Spies Like Us",
          "The Black Dahlia",
          "The Dilemma",
          "A Street Cat Named Bob",
          "Mary Queen of Scots",
          "TMNT",
          "The 33",
          "The Lawnmower Man",
          "Spy Game",
          "Gone Baby Gone",
          "Space Cowboys",
          "The Green Inferno",
          "The Damned",
          "Syriana",
          "Escape from Planet Earth",
          "Underdog",
          "Chappaquiddick",
          "Layer Cake",
          "Delicatessen",
          "The Devil's Rejects",
          "A Walk in the Clouds",
          "Tron",
          "The Adjustment Bureau",
          "Paris Can Wait",
          "K-12",
          "Close Encounters of the Third Kind",
          "Think Like a Man Too",
          "The Mission",
          "Before I Fall",
          "She's the Man",
          "Before Sunrise",
          "Pain and Glory",
          "Goal! II: Living the Dream",
          "Diary of a Wimpy Kid: Rodrick Rules",
          "The Wild",
          "Goal! The Dream Begins",
          "D-Tox",
          "Domino",
          "Red Cliff Part II",
          "Queen of Katwe",
          "Moonraker",
          "Disturbia",
          "Twilight Zone: The Movie",
          "Nightbreed",
          "Curse of the Golden Flower",
          "13 Sins",
          "Condorito: The Movie",
          "Wallace & Gromit: The Curse of the Were-Rabbit",
          "United 93",
          "The Fifth Estate",
          "Sixteen Candles",
          "Mulholland Drive",
          "The Butler",
          "Running with Scissors",
          "Mojin: The Lost Legend",
          "The Divide",
          "Young Frankenstein",
          "The King's Speech",
          "Swiss Army Man",
          "Surviving Christmas",
          "Kiss the Girls",
          "Dirty Dancing: Havana Nights",
          "Exorcist: The Beginning",
          "The Beach Bum",
          "Footloose",
          "The Ghost and the Darkness",
          "A Few Good Men",
          "Sunset Boulevard",
          "The Bling Ring",
          "Beverly Hills Cop II",
          "Masterminds",
          "Snowden",
          "Rat Race",
          "Setup",
          "Irrational Man",
          "The Happytime Murders",
          "Labyrinth",
          "Paul Blart: Mall Cop",
          "The Bad Lieutenant: Port of Call - New Orleans",
          "Camp X-Ray",
          "The Long Kiss Goodnight",
          "Congo",
          "Blue Valentine",
          "21 & Over",
          "Shanghai Knights",
          "Mr. Brooks",
          "Santa Claus: The Movie",
          "Graveyard Shift",
          "Changeling",
          "Superman II",
          "Land of the Lost",
          "3 Ninjas Kick Back",
          "Three Kings",
          "High Fidelity",
          "Term Life",
          "Wild Wild West",
          "Magnolia",
          "Save the Last Dance",
          "The Pagemaster",
          "Paranoia",
          "Red Planet",
          "Samson and Delilah",
          "Open Water",
          "Ran",
          "Big Daddy",
          "The Sisters Brothers",
          "Passenger 57",
          "The Piano",
          "Under the Tuscan Sun",
          "The Big Bad Fox and Other Tales",
          "Khumba",
          "Cape Fear",
          "Tin Toy",
          "The Jacket",
          "The Santa Clause",
          "Executive Decision",
          "Doraemon: Nobita and the Space Heroes",
          "The Game",
          "The Descent",
          "The Hunted",
          "Urban Legends: Final Cut",
          "Dragon Blade",
          "Love Story",
          "The Hunt",
          "Center Stage",
          "Mother's Day",
          "Bugsy",
          "Teenage Mutant Ninja Turtles II: The Secret of the Ooze",
          "The Ghost Writer",
          "Bedazzled",
          "Gran Torino",
          "RV",
          "Barbershop 2: Back in Business",
          "Out for Justice",
          "Adaptation.",
          "The Giver",
          "Snatched",
          "Super Mario Bros.",
          "Hudson Hawk",
          "The Hustler",
          "Cheaper by the Dozen 2",
          "August Rush",
          "Short Circuit",
          "Paris Is Burning",
          "The Queen",
          "The Immigrant",
          "Fido",
          "Alive",
          "Wanderlust",
          "What Dreams May Come",
          "Spartacus",
          "The Bucket List",
          "The Wedding Date",
          "The Whole Nine Yards",
          "Captain Corelli's Mandolin",
          "Gold",
          "Deck the Halls",
          "Wild",
          "The Flintstones in Viva Rock Vegas",
          "No One Lives",
          "The Good Girl",
          "Hunt for the Wilderpeople",
          "Police Academy",
          "Napoleon Dynamite",
          "The Aviator",
          "Funny People",
          "Something Borrowed",
          "Shut In",
          "Old Dogs",
          "City Slickers",
          "The Rover",
          "The Rookie",
          "Where the Heart Is",
          "27 Dresses",
          "Kiss Me Deadly",
          "Unforgettable",
          "The Secret Life of Walter Mitty",
          "Black Christmas",
          "Singin' in the Rain",
          "Trumbo",
          "A Man Apart",
          "The Book of Henry",
          "Wonder Wheel",
          "Equilibrium",
          "Sweet Home Alabama",
          "The Kid",
          "Contraband",
          "Mallrats",
          "I Still Know What You Did Last Summer",
          "Battle of the Year",
          "Rugrats in Paris: The Movie",
          "Escape from New York",
          "Session 9",
          "Modern Times",
          "In the Mood for Love",
          "Blackway",
          "Water for Elephants",
          "Life Itself",
          "The Good Shepherd",
          "Always",
          "Atonement",
          "Freeheld",
          "Babel",
          "Out of the Furnace",
          "The Fall",
          "Like Crazy",
          "A Night at the Roxbury",
          "I Spy",
          "Out of Sight",
          "Joy Ride",
          "Entrapment",
          "Mirror Mirror",
          "Spaceballs",
          "Life After Beth",
          "The Name of the Rose",
          "For Your Eyes Only",
          "Winnie the Pooh",
          "Stir of Echoes",
          "Coach Carter",
          "Monster-in-Law",
          "Superhero Movie",
          "The Boondock Saints",
          "Escape from L.A.",
          "American Dreamz",
          "Alad'2",
          "Oliver Twist",
          "Jersey Boys",
          "The Talented Mr. Ripley",
          "The Odd Life of Timothy Green",
          "Girl, Interrupted",
          "Two Weeks Notice",
          "Return to Never Land",
          "Snow Dogs",
          "What's Your Number?",
          "Malibu's Most Wanted",
          "Sugar & Spice",
          "National Lampoon's Van Wilder",
          "Mystery Train",
          "Pumpkinhead",
          "We Bought a Zoo",
          "The Perfect Storm",
          "The Ruins",
          "Insomnia",
          "Another Earth",
          "Murder at 1600",
          "Life of Crime",
          "Appaloosa",
          "The Rocketeer",
          "The Pink Panther",
          "Elf",
          "Think Like a Man",
          "Kids",
          "Barry Lyndon",
          "Black Christmas",
          "Sorority Row",
          "The Other Boleyn Girl",
          "You Again",
          "Hop",
          "Used Cars",
          "Tenacious D in The Pick of Destiny",
          "The Place Beyond the Pines",
          "Kinky Boots",
          "Intruders",
          "The International",
          "Groundhog Day",
          "Cabin Fever",
          "The Light Between Oceans",
          "Burnt",
          "Asterix & Obelix: Mission Cleopatra",
          "Raise Your Voice",
          "Song to Song",
          "Operation Chromite",
          "Death Wish 3",
          "Raising Helen",
          "El Mariachi",
          "About Cherry",
          "Krull",
          "Pandora",
          "Fire Down Below",
          "Cellular",
          "The Basketball Diaries",
          "Urban Legend",
          "The Santa Clause 3: The Escape Clause",
          "Little Boy",
          "The Phantom of the Opera",
          "Robin Hood: Men in Tights",
          "The Good Lie",
          "Nothing Left to Fear",
          "The Forgotten",
          "O Brother, Where Art Thou?",
          "Lemony Snicket's A Series of Unfortunate Events",
          "How the West Was Won",
          "Anchorman: The Legend of Ron Burgundy",
          "Moms' Night Out",
          "The Cable Guy",
          "Misery",
          "The Santa Clause 2",
          "Valentine",
          "Jackass Number Two",
          "Inside Job",
          "Traitor",
          "The Boss",
          "Hostage",
          "The House That Jack Built",
          "Detroit",
          "Jobs",
          "Almost Christmas",
          "Penelope",
          "The Zero Theorem",
          "Downfall",
          "Foxcatcher",
          "Jessabelle",
          "Hard Rain",
          "Juice",
          "Bedtime Stories",
          "Bastille Day",
          "Road Trip",
          "Return to the Blue Lagoon",
          "Lock Up",
          "Munich",
          "The Blob",
          "Grand Hotel",
          "Sense and Sensibility",
          "Poison Ivy",
          "Tini: The New Life of Violetta",
          "Body of Lies",
          "Meet Dave",
          "Eastern Promises",
          "Star Trek: First Contact",
          "Mr. Nice Guy",
          "A Dirty Shame",
          "Lost in Space",
          "The Mexican",
          "The Stepfather",
          "I'm Not There",
          "Missing in Action",
          "Over the Top",
          "102 Dalmatians",
          "What's Eating Gilbert Grape",
          "The Cabinet of Dr. Caligari",
          "Hart's War",
          "Scent of a Woman",
          "Crocodile Dundee in Los Angeles",
          "Battlefield Earth",
          "But I'm a Cheerleader",
          "Finding Your Feet",
          "Johnny Mnemonic",
          "Frequency",
          "New York Minute",
          "Jackie Brown",
          "The Virgin Suicides",
          "Flicka",
          "Striptease",
          "Y Tu Mamá También",
          "Natural Born Killers",
          "The Witches of Eastwick",
          "Wall Street",
          "Welcome Home Roscoe Jenkins",
          "The Dead Pool",
          "The Great Debaters",
          "Philadelphia",
          "Florence Foster Jenkins",
          "The Master",
          "Glee: The Concert Movie",
          "Hotel for Dogs",
          "Nutty Professor II: The Klumps",
          "Lost Highway",
          "Witness",
          "Soul Plane",
          "What We Do in the Shadows",
          "King Kong",
          "Just Getting Started",
          "Enough",
          "The Assassination of Jesse James by the Coward Robert Ford",
          "All Dogs Go to Heaven",
          "The Alamo",
          "A Fistful of Dollars",
          "Side Effects",
          "Stealth",
          "Ali G Indahouse",
          "Fire and Ice",
          "DOA: Dead or Alive",
          "Bowfinger",
          "Only Lovers Left Alive",
          "Watership Down",
          "The Glass House",
          "Under the Silver Lake",
          "The Nut Job",
          "Baby Geniuses",
          "The Gunman",
          "The Taking of Pelham 1 2 3",
          "The Ledge",
          "Don't Tell Mom the Babysitter's Dead",
          "M*A*S*H",
          "The Gift",
          "Career Opportunities",
          "Thelma & Louise",
          "Lord of War",
          "The Perfect Guy",
          "Frailty",
          "What a Girl Wants",
          "The Dreamers",
          "Promised Land",
          "Denial",
          "You, Me and Dupree",
          "On the Waterfront",
          "Blue Crush",
          "In Bruges",
          "Willow",
          "History of the World: Part I",
          "The Thirteenth Floor",
          "Minuscule: Valley of the Lost Ants",
          "Derailed",
          "Empire of the Sun",
          "Anger Management",
          "Sahara",
          "Morning Glory",
          "The Doors",
          "A Girl Walks Home Alone at Night",
          "Showdown in Little Tokyo",
          "Flags of Our Fathers",
          "Cinderella Man",
          "A League of Their Own",
          "The Nutty Professor",
          "Frost/Nixon",
          "1941",
          "Dreamgirls",
          "Band Aid",
          "The 51st State",
          "The Guilt Trip",
          "New Year's Eve",
          "The Five-Year Engagement",
          "Bangkok Dangerous",
          "Mary Shelley's Frankenstein",
          "The Paperboy",
          "In the Cut",
          "A Lot Like Love",
          "Body Double",
          "The Boy Next Door",
          "Before Midnight",
          "Fool's Gold",
          "Tammy",
          "While at War",
          "Stitches",
          "City of Angels",
          "Twins",
          "Crocodile Dundee",
          "Friend Request",
          "The Graduate",
          "Streets of Fire",
          "The Personal History of David Copperfield",
          "Raising Arizona",
          "RockNRolla",
          "Night of the Living Dead",
          "This Is 40",
          "An American Werewolf in London",
          "Marshall",
          "So I Married an Axe Murderer",
          "One Hour Photo",
          "Rebound",
          "Can't Hardly Wait",
          "Psycho II",
          "My Sister's Keeper",
          "The Lincoln Lawyer",
          "Rules of Engagement",
          "Office Christmas Party",
          "Crossroads",
          "Sleepless in Seattle",
          "Maid in Manhattan",
          "The Covenant",
          "FernGully: The Last Rainforest",
          "Point Blank",
          "The Edge of Seventeen",
          "Serendipity",
          "Obsessed",
          "After Hours",
          "The Ninth Gate",
          "Letters to Juliet",
          "Green Room",
          "Hook",
          "The Breakfast Club",
          "Jarhead",
          "Curious George",
          "The Cold Light of Day",
          "Picture Perfect",
          "Deadfall",
          "Red Dawn",
          "Crash",
          "Flawless",
          "The Treasure of the Sierra Madre",
          "Don Juan DeMarco",
          "Mr. Smith Goes to Washington",
          "A United Kingdom",
          "Another Gay Movie",
          "Antwone Fisher",
          "Leaving Las Vegas",
          "The Replacements",
          "The Last of the Mohicans",
          "Vantage Point",
          "Untraceable",
          "Casino Jack",
          "Chain Reaction",
          "The Cannonball Run",
          "A Separation",
          "Bulletproof Monk",
          "Colonia",
          "City of Ember",
          "The Tale of the Princess Kaguya",
          "The Birth of a Nation",
          "T2 Trainspotting",
          "I Love You, Man",
          "Marathon Man",
          "Red Lights",
          "High Plains Drifter",
          "Timecrimes",
          "Dirty Harry",
          "London Boulevard",
          "Selma",
          "Loving",
          "Accepted",
          "Bridesmaids",
          "Melancholia",
          "The To Do List",
          "Angel Heart",
          "Rumble in the Bronx",
          "Act of Valor",
          "The Sum of All Fears",
          "Quarantine",
          "Wuthering Heights",
          "The Men Who Stare at Goats",
          "Donnie Brasco",
          "3 Idiots",
          "54",
          "Seabiscuit",
          "Next Friday",
          "Frankenstein",
          "Red State",
          "Xanadu",
          "Shaun the Sheep Movie",
          "Super",
          "Hatchet",
          "Chocolat",
          "Papillon",
          "The Room",
          "Speed Racer",
          "Dr. Dolittle 2",
          "Primal Fear",
          "Quo Vadis",
          "The Young Victoria",
          "Things to Do in Denver When You're Dead",
          "Bones",
          "Uncle Drew",
          "The New Guy",
          "Mustang",
          "Stay",
          "Match Point",
          "Resident Evil: Apocalypse",
          "The Water Diviner",
          "Queen of the Damned",
          "Hellraiser III: Hell on Earth",
          "JFK",
          "The Money Pit",
          "Demonic",
          "October Sky",
          "The Gift",
          "Mary and Max",
          "Money Monster",
          "Gosford Park",
          "What to Expect When You're Expecting",
          "First Reformed",
          "Pi",
          "It's Kind of a Funny Story",
          "Racing Stripes",
          "Take the Lead",
          "The Lake House",
          "The Brave One",
          "Robot & Frank",
          "Loving Vincent",
          "Walk Hard: The Dewey Cox Story",
          "Damien: Omen II",
          "Boo! A Madea Halloween",
          "The Tigger Movie",
          "The Best Man",
          "Dance Flick",
          "The Bridge on the River Kwai",
          "When a Stranger Calls",
          "The Maltese Falcon",
          "Hard to Kill",
          "Proof",
          "Mr. Holland's Opus",
          "Dolphin Tale 2",
          "We Are Marshall",
          "An American Tail",
          "Astérix at the Olympic Games",
          "The Boondock Saints II: All Saints Day",
          "Club Dread",
          "Regarding Henry",
          "Disturbing Behavior",
          "The Express",
          "The Black Hole",
          "1492: Conquest of Paradise",
          "Daddy Day Care",
          "3 Ninjas",
          "Lincoln",
          "Joe Dirt",
          "Brooklyn",
          "Nine Lives",
          "Kagemusha",
          "Recess: School's Out",
          "The Imaginarium of Doctor Parnassus",
          "Old School",
          "I Saw the Light",
          "Ballistic: Ecks vs. Sever",
          "Fences",
          "Paterson",
          "Unfinished Business",
          "The Juror",
          "Date Night",
          "Labor Day",
          "Ferris Bueller's Day Off",
          "Color of Night",
          "Teeth",
          "Caddyshack",
          "Quest for Camelot",
          "Brothers",
          "The Glass Castle",
          "Dungeons & Dragons",
          "Stake Land",
          "Our Brand Is Crisis",
          "Piglet's Big Movie",
          "Hot Tub Time Machine",
          "My Week with Marilyn",
          "Stepmom",
          "Mirror",
          "The Quiet Ones",
          "La Haine",
          "Music and Lyrics",
          "The Great Mouse Detective",
          "The Corruptor",
          "Hairspray",
          "Dead Man Walking",
          "Truth",
          "The Warrior's Way",
          "Hairspray",
          "All About My Mother",
          "Cyborg",
          "Annie",
          "Ringu",
          "Anthropoid",
          "The Bride of Frankenstein",
          "Shocker",
          "Friends with Money",
          "All Is Lost",
          "3000 Miles to Graceland",
          "Sleepers",
          "A Good Year",
          "Centurion",
          "There Will Be Blood",
          "Fire in the Sky",
          "If Beale Street Could Talk",
          "Hit & Run",
          "The Recruit",
          "42",
          "Stolen",
          "The Greatest Game Ever Played",
          "Never Let Me Go",
          "Half Nelson",
          "Above the Law",
          "Conviction",
          "How to Lose Friends & Alienate People",
          "Tideland",
          "The Return of Swamp Thing",
          "Red Sonja",
          "The Last Emperor",
          "The Postman",
          "Mother",
          "City Lights",
          "Ransom",
          "Trespass",
          "Hail, Caesar!",
          "Sex and Death 101",
          "Running Scared",
          "Prom Night",
          "Taps",
          "The Fog",
          "Monty Python and the Holy Grail",
          "When Harry Met Sally...",
          "Fast Times at Ridgemont High",
          "Kicking & Screaming",
          "Hanging Up",
          "Duplicity",
          "Big Game",
          "The Land Before Time",
          "An American Haunting",
          "Alpha and Omega",
          "Conspiracy Theory",
          "Sanctum",
          "Defendor",
          "Harsh Times",
          "Hanna",
          "Wind Chill",
          "Failure to Launch",
          "Feast",
          "The Back-Up Plan",
          "Ruby Sparks",
          "The Replacement Killers",
          "The Night Before",
          "The Final Countdown",
          "The Idiots",
          "The Midnight Meat Train",
          "20th Century Women",
          "Beerfest",
          "The Life of David Gale",
          "Life",
          "Haywire",
          "Bridget Jones: The Edge of Reason",
          "Beasts of No Nation",
          "Air Bud",
          "Something's Gotta Give",
          "Blaze",
          "The Ward",
          "Extraordinary Measures",
          "Blue Thunder",
          "Big Fat Liar",
          "Crimson Tide",
          "My Big Fat Greek Wedding 2",
          "Raging Bull",
          "The Hundred-Foot Journey",
          "Videodrome",
          "Day of the Dead",
          "Gods and Generals",
          "Little Miss Sunshine",
          "Grease 2",
          "North by Northwest",
          "The Prodigy",
          "G-Force",
          "Madea's Family Reunion",
          "License to Wed",
          "Welcome to the Sticks",
          "Blood Ties",
          "Brother",
          "Get on Up",
          "The Apartment",
          "Cool Runnings",
          "Antichrist",
          "Black Snake Moan",
          "Four Rooms",
          "Anomalisa",
          "Four Christmases",
          "Highlander III: The Sorcerer",
          "Filth",
          "Uptown Girls",
          "Red Eye",
          "Prince of Darkness",
          "Finding Neverland",
          "Duplex",
          "Deconstructing Harry",
          "The Crow: City of Angels",
          "eXistenZ",
          "Beyond the Lights",
          "Flipper",
          "James and the Giant Peach",
          "The Straight Story",
          "I Hate Valentine's Day",
          "Courage Under Fire",
          "Arthur and the Invisibles",
          "Escape From Alcatraz",
          "Kama Sutra: A Tale of Love",
          "Get Shorty",
          "Only God Forgives",
          "Casino Royale",
          "American Animals",
          "Premonition",
          "Forces of Nature",
          "Life of Brian",
          "Big Eyes",
          "The Relic",
          "Hatchet II",
          "The Dark Crystal",
          "Clue",
          "Police Academy 2: Their First Assignment",
          "Kill List",
          "15 Minutes",
          "Battle in Seattle",
          "Monster",
          "Little Manhattan",
          "Sea of Love",
          "Rashomon",
          "Kuch Kuch Hota Hai",
          "The Saint",
          "Mara",
          "House of Sand and Fog",
          "Dumb and Dumberer: When Harry Met Lloyd",
          "About Last Night",
          "King of Kings",
          "Maps to the Stars",
          "Titan A.E.",
          "The Boat That Rocked",
          "The Secret of Moonacre",
          "Phone Booth",
          "Vicky Cristina Barcelona",
          "Spellbound",
          "Inside Llewyn Davis",
          "MacGruber",
          "Kingpin",
          "Laws of Attraction",
          "School for Scoundrels",
          "Re-Animator",
          "The Nutcracker in 3D",
          "Daddy Day Camp",
          "To Die For",
          "Going the Distance",
          "Dark Angel",
          "This Is Where I Leave You",
          "DodgeBall: A True Underdog Story",
          "Dragonfly",
          "The Homesman",
          "Ooops! Noah is Gone...",
          "Phenomenon",
          "An Education",
          "Book Club",
          "Flightplan",
          "Shelter",
          "Step Brothers",
          "Last Holiday",
          "From Up on Poppy Hill",
          "Johnny Handsome",
          "Battle for Terra",
          "The Box",
          "District 13: Ultimatum",
          "Bowling for Columbine",
          "The Mothman Prophecies",
          "Anna and the King",
          "Dark Blue",
          "Pooh's Heffalump Movie",
          "Runaway Bride",
          "Someone Like You...",
          "Cold War",
          "Catch and Release",
          "Notes on a Scandal",
          "Hot Tub Time Machine 2",
          "Ernest Saves Christmas",
          "Bandslam",
          "College Road Trip",
          "Don't Say a Word",
          "The Echo",
          "Bulletproof",
          "Champions",
          "The Nice Guys",
          "Ladder 49",
          "You Kill Me",
          "Open Your Eyes",
          "The Hurricane",
          "Police Academy: Mission to Moscow",
          "The Meddler",
          "The Incredible Burt Wonderstone",
          "Billy Elliot",
          "Magic Mike",
          "Secretary",
          "Woman in Gold",
          "The Canyons",
          "The City of Lost Children",
          "Porky's 3: Revenge",
          "Weekend",
          "The Lives of Others",
          "Sinbad and the Eye of the Tiger",
          "Young Guns",
          "Chasing Liberty",
          "Before the Devil Knows You're Dead",
          "Death Wish II",
          "The Spy Next Door",
          "Diary of a Wimpy Kid",
          "The Zookeeper's Wife",
          "Hardball",
          "Winter's Bone",
          "Earth to Echo",
          "Hotel Rwanda",
          "Menace II Society",
          "Eddie the Eagle",
          "The Last Temptation of Christ",
          "Elizabeth: The Golden Age",
          "The Living Daylights",
          "Hard Eight",
          "Spanglish",
          "Rushmore",
          "The Hitcher",
          "The Jewel of the Nile",
          "The Musketeer",
          "Clerks",
          "The Duel",
          "Proud Mary",
          "Darkman",
          "Bad Santa 2",
          "League of Gods",
          "The Skulls",
          "Fair Game",
          "Role Models",
          "The Campaign",
          "White Boy Rick",
          "Ghost Dog: The Way of the Samurai",
          "Thunderstruck",
          "My Name Is Khan",
          "Kiss Kiss Bang Bang",
          "Backdraft",
          "Troll Hunter",
          "Alex Cross",
          "Cell 211",
          "Blood Work",
          "The Missing",
          "Sunshine Cleaning",
          "The Tale of Despereaux",
          "Action Point",
          "Ed Wood",
          "Jersey Girl",
          "Tucker and Dale vs. Evil",
          "Valhalla",
          "Dragon Hunters",
          "The Bounty",
          "Gridiron Gang",
          "Capitalism: A Love Story",
          "Donovan's Reef",
          "Bad Education",
          "A Guy Thing",
          "The Lost City of Z",
          "Boys Don't Cry",
          "My Big Fat Greek Wedding",
          "El Angel",
          "Chaos",
          "8MM",
          "Death Wish 4: The Crackdown",
          "Rumor Has It...",
          "Dolphin Tale",
          "A Very Harold & Kumar Christmas",
          "Your Highness",
          "Shopgirl",
          "Undercover Brother",
          "Stripes",
          "Lars and the Real Girl",
          "Fired Up!",
          "Little Shop of Horrors",
          "Whisper",
          "K-PAX",
          "Stay Tuned",
          "Latter Days",
          "A Home at the End of the World",
          "Godzilla: Final Wars",
          "The Brothers Bloom",
          "Risky Business",
          "Earth",
          "Raising Cain",
          "August: Osage County",
          "Across the Universe",
          "Hallam Foe",
          "Screamers",
          "Out of Africa",
          "The Rage: Carrie 2",
          "Margin Call",
          "Wishmaster",
          "Braindead",
          "Bad Words",
          "Parental Guidance",
          "Staying Alive",
          "A Bronx Tale",
          "Angel Eyes",
          "The Color of Money",
          "Run Lola Run",
          "Highlander: Endgame",
          "Welcome to the Dollhouse",
          "The Young and Prodigious T.S. Spivet",
          "Live by Night",
          "Cats Don't Dance",
          "Midnight Express",
          "The Weather Man",
          "Special Forces",
          "The Nanny Diaries",
          "Being John Malkovich",
          "The Last Boy Scout",
          "The Astronaut's Wife",
          "The Chronicles of Riddick",
          "Lara Croft: Tomb Raider - The Cradle of Life",
          "Invictus",
          "The Last Days of Disco",
          "Murder by Numbers",
          "Sicko",
          "Escape from the Planet of the Apes",
          "Nothing but Trouble",
          "Dial M for Murder",
          "Rock the Kasbah",
          "Solomon and Sheba",
          "88 Minutes",
          "Prison",
          "Bachelorette",
          "Up in the Air",
          "Death Warrant",
          "Fair Game",
          "Honey, I Blew Up the Kid",
          "The Double",
          "Barbershop",
          "Black Dog",
          "Charade",
          "No Escape",
          "Upside Down",
          "The Majestic",
          "Maniac",
          "Red River",
          "Star Trek II: The Wrath of Khan",
          "Country Strong",
          "Annie Hall",
          "Frida",
          "Midnight Special",
          "Yogi Bear",
          "Punch-Drunk Love",
          "Mobsters",
          "Better Living Through Chemistry",
          "Vampire in Brooklyn",
          "Everything is Illuminated",
          "Bicycle Thieves",
          "The Fan",
          "Reindeer Games",
          "Gandhi",
          "Friday Night Lights",
          "The General's Daughter",
          "Beauty Shop",
          "Harley Davidson and the Marlboro Man",
          "Stronger",
          "Middle School: The Worst Years of My Life",
          "Letters from Iwo Jima",
          "Nothing But the Truth",
          "Serpico",
          "Hannah Montana & Miley Cyrus: Best of Both Worlds Concert",
          "The Hand that Rocks the Cradle",
          "The Painted Veil",
          "The Entity",
          "The Siege",
          "The Vault",
          "Jay and Silent Bob Strike Back",
          "The Fog",
          "House on Haunted Hill",
          "Anchorman 2: The Legend Continues",
          "Boyhood",
          "Breakfast at Tiffany's",
          "Star Trek V: The Final Frontier",
          "Honey Boy",
          "The Royal Tenenbaums",
          "Dazed and Confused",
          "Keanu",
          "Mannequin",
          "Hair",
          "Everything You Always Wanted to Know About Sex *But Were Afraid to Ask",
          "The Lord of the Rings",
          "New York, I Love You",
          "Pontypool",
          "An Officer and a Gentleman",
          "Flight of the Phoenix",
          "Taking Lives",
          "Cry-Baby",
          "Green Zone",
          "Ramona and Beezus",
          "Hackers",
          "Diary of the Dead",
          "Absence of Malice",
          "The King of Fighters",
          "Baby Mama",
          "Nim's Island",
          "Midnight Cowboy",
          "Analyze That",
          "Masters of the Universe",
          "Revolver",
          "The Brown Bunny",
          "Bitter Moon",
          "Once",
          "The War of the Roses",
          "Buffy the Vampire Slayer",
          "Ghosts of Mars",
          "Paris, Texas",
          "The Raven",
          "Stuck on You",
          "A Time to Kill",
          "Back to School",
          "American Outlaws",
          "Collateral Damage",
          "Billy Madison",
          "The Scarlet Letter",
          "Another 48 Hrs.",
          "CBGB",
          "Fatal Attraction",
          "Bad Company",
          "Passion",
          "Honeymoon in Vegas",
          "The Man Who Knew Too Much",
          "MouseHunt",
          "The Grand Seduction",
          "Ondine",
          "Overboard",
          "Flypaper",
          "Byzantium",
          "The Great Escape",
          "Pawn Sacrifice",
          "The Unbearable Lightness of Being",
          "The Last Legion",
          "The Gods Must Be Crazy",
          "When the Game Stands Tall",
          "Far and Away",
          "The First Wives Club",
          "Armed and Dangerous",
          "The Switch",
          "Away We Go",
          "The Inbetweeners Movie",
          "Dark Water",
          "Double Dragon",
          "The Bachelor",
          "Tupac: Resurrection",
          "Leviathan",
          "An Inconvenient Sequel: Truth to Power",
          "Wonderland",
          "A History of Violence",
          "Open Range",
          "High Noon",
          "Testament",
          "The Salton Sea",
          "Another Year",
          "Malcolm X",
          "The Insider",
          "A Serious Man",
          "To the Wonder",
          "Hamlet 2",
          "Attack the Block",
          "Burke & Hare",
          "Jawbreaker",
          "The Good Son",
          "Beginners",
          "The Secret of NIMH",
          "Last Night",
          "The Spirit",
          "Balkan Line",
          "Taxi 3",
          "Major League",
          "Afflicted",
          "Twisted",
          "Beauty and the Beast",
          "Lone Wolf McQuade",
          "Born on the Fourth of July",
          "The Rookie",
          "Rising Sun",
          "Idle Hands",
          "The Last King of Scotland",
          "Wicker Park",
          "Just a Breath Away",
          "Margaret",
          "The Horse Whisperer",
          "Just Married",
          "Logan's Run",
          "Quills",
          "The Matador",
          "Elizabethtown",
          "Table 19",
          "I Don't Know How She Does It",
          "Tales from the Hood",
          "Coal Miner's Daughter",
          "Saving Mr. Banks",
          "Serving Sara",
          "Dancer in the Dark",
          "Butch Cassidy and the Sundance Kid",
          "Special 26",
          "Money Train",
          "Jennifer Eight",
          "The Hudsucker Proxy",
          "Heavy Metal",
          "The Haunting in Connecticut",
          "Phoenix Forgotten",
          "Whip It",
          "Almost Heroes",
          "FearDotCom",
          "Tetro",
          "The Bronze",
          "Aliens in the Attic",
          "Equals",
          "If Only",
          "Bonnie and Clyde",
          "Little Monsters",
          "Pitch Black",
          "What's the Worst That Could Happen?",
          "Domestic Disturbance",
          "A Perfect Murder",
          "3 Men and a Baby",
          "Horsemen",
          "Thirteen",
          "A Hologram for the King",
          "At Close Range",
          "Mystery Men",
          "The Stepford Wives",
          "Simply Irresistible",
          "Pulse",
          "See No Evil, Hear No Evil",
          "Red Corner",
          "Chicago",
          "A Quiet Passion",
          "Outland",
          "Seeking a Friend for the End of the World",
          "Flatliners",
          "Eight Below",
          "The Ice Storm",
          "Glengarry Glen Ross",
          "Sky Captain and the World of Tomorrow",
          "House of the Dead",
          "Mrs. Miniver",
          "The Dead Zone",
          "The NeverEnding Story II: The Next Chapter",
          "The Last Starfighter",
          "Borg vs McEnroe",
          "Changing Lanes",
          "For Your Consideration",
          "The Iron Lady",
          "Star Trek: Generations",
          "The Quiet",
          "Jem and the Holograms",
          "The Bridges of Madison County",
          "Mulan: Rise of a Warrior",
          "Rabbit Hole",
          "Broadcast News",
          "Phantasm II",
          "U Turn",
          "The Beach",
          "Firefox",
          "Babylon A.D.",
          "The D Train",
          "Doctor Zhivago",
          "5 Days of War",
          "Enter the Void",
          "The History Boys",
          "Lakeview Terrace",
          "Bad News Bears",
          "I Could Never Be Your Woman",
          "Weekend at Bernie's",
          "My Old Lady",
          "Beyond Skyline",
          "For Love of the Game",
          "Rescue Dawn",
          "Serial (Bad) Weddings",
          "A Single Man",
          "Battle for the Planet of the Apes",
          "Captive",
          "The Rainmaker",
          "Our Idiot Brother",
          "In the Name of the Father",
          "The People vs. Larry Flynt",
          "The Debt",
          "Shadows and Fog",
          "Junior",
          "Super Troopers",
          "The New World",
          "The Shadow",
          "Race to Witch Mountain",
          "Wolf Creek 2",
          "Disaster Movie",
          "Arthur",
          "Mickey's Christmas Carol",
          "Simon Birch",
          "Extract",
          "Stormbreaker",
          "Grudge Match",
          "Starter for 10",
          "Wayne's World",
          "Meet Bill",
          "One Missed Call",
          "Absolute Power",
          "Run, Fatboy, Run",
          "Falling Down",
          "On Chesil Beach",
          "Silent Night, Deadly Night",
          "Sympathy for Mr. Vengeance",
          "Under Suspicion",
          "The Family Stone",
          "The River Wild",
          "Working Girl",
          "White Girl",
          "Any Given Sunday",
          "Zulu",
          "Infernal Affairs",
          "I Know Who Killed Me",
          "Death Wish",
          "Good Night, and Good Luck.",
          "Rope",
          "Bound",
          "Uncle Buck",
          "Disconnect",
          "Thirteen Days",
          "A Mighty Wind",
          "Sid & Nancy",
          "Dinner for Schmucks",
          "Happily N'Ever After",
          "Lost Souls",
          "Valmont",
          "Lions for Lambs",
          "Mutant Chronicles",
          "Summer Catch",
          "Death on the Nile",
          "Breakin'",
          "The Good German",
          "May",
          "Teaching Mrs. Tingle",
          "Terminal Velocity",
          "To Rome with Love",
          "The Duchess",
          "WarGames",
          "Steve Jobs",
          "Sydney White",
          "Anywhere But Here",
          "The Andromeda Strain",
          "Men in Hope",
          "Bajirao Mastani",
          "Tadpole",
          "Monkeybone",
          "The Fly",
          "Dr. T & the Women",
          "Suffragette",
          "Blazing Saddles",
          "Sorcerer",
          "The Three Burials of Melquiades Estrada",
          "Broken Flowers",
          "Keeping the Faith",
          "It's All Gone Pete Tong",
          "About Schmidt",
          "Stoker",
          "Darkness",
          "Dracula: Prince of Darkness",
          "Love the Coopers",
          "My Stepmother is an Alien",
          "The Kite Runner",
          "Black or White",
          "Gigli",
          "The Lost Weekend",
          "21 Grams",
          "The Firm",
          "The Wicker Man",
          "Wish I Was Here",
          "Madea's Witness Protection",
          "Killing Me Softly",
          "Stargate: The Ark of Truth",
          "A Scanner Darkly",
          "After the Sunset",
          "Gummo",
          "The Pebble and the Penguin",
          "Love Happens",
          "Dead & Buried",
          "Win Win",
          "In the Valley of Elah",
          "Space Battleship Yamato",
          "The Four Feathers",
          "Heaven & Earth",
          "Godzilla vs. Destoroyah",
          "The Right Stuff",
          "The Sea Inside",
          "Driving Miss Daisy",
          "Mr. 3000",
          "Conquest of the Planet of the Apes",
          "Jade",
          "From Dusk Till Dawn 3: The Hangman's Daughter",
          "The Devil's Backbone",
          "Beverly Hills Cop III",
          "Iceman",
          "Hard Candy",
          "Magic in the Moonlight",
          "Let the Right One In",
          "Bounce",
          "Mermaids",
          "Bandits",
          "Brenda Starr",
          "Street Fighter: The Legend of Chun-Li",
          "Harry Brown",
          "Team America: World Police",
          "Cheri",
          "Down with Love",
          "Angela's Ashes",
          "Shadowlands",
          "Vera Drake",
          "Mindscape",
          "Renaissance Man",
          "The Sweetest Thing",
          "Muppets from Space",
          "Galaxy Quest",
          "Happiness",
          "The Ides of March",
          "The Great Outdoors",
          "Downton Abbey",
          "Saving Silverman",
          "Warlock: The Armageddon",
          "Rudderless",
          "Runaway Jury",
          "The Piano Teacher",
          "Murphy's Law",
          "Phantasm",
          "The Way Way Back",
          "Admission",
          "This Must Be the Place",
          "The Three Musketeers",
          "What Just Happened",
          "Fried Green Tomatoes",
          "Leviathan",
          "Time Bandits",
          "Julie & Julia",
          "Shakespeare in Love",
          "Armored",
          "Barbershop: The Next Cut",
          "In the Mouth of Madness",
          "The Station Agent",
          "ATL",
          "Killer Joe",
          "I Love Trouble",
          "Two Days, One Night",
          "Locke",
          "Dangerous Liaisons",
          "I Am Dragon",
          "Tidal Wave",
          "Cool Hand Luke",
          "How Do You Know",
          "Kill the Messenger",
          "Fun Size",
          "Airport 1975",
          "The Great Beauty",
          "Out Cold",
          "The Beastmaster",
          "Little Children",
          "Macbeth",
          "The Fisher King",
          "Get Carter",
          "Timeline",
          "All About Steve",
          "The Contender",
          "Yours, Mine & Ours",
          "Dick",
          "La Belle Époque",
          "Getaway",
          "The Proposition",
          "Little Black Book",
          "The Guns of Navarone",
          "The Artist",
          "Rock-A-Doodle",
          "Throw Momma from the Train",
          "Speed Kills",
          "A Royal Affair",
          "Cannonball",
          "About a Boy",
          "Silent House",
          "Veronica Guerin",
          "Killing Them Softly",
          "The Girl Who Played with Fire",
          "'71",
          "Wolf Warrior",
          "Compliance",
          "Rookie of the Year",
          "The Life Aquatic with Steve Zissou",
          "The Dressmaker",
          "Private Valentine: Blonde & Dangerous",
          "The Sacrament",
          "Choke",
          "Below",
          "Win a Date with Tad Hamilton!",
          "All Quiet on the Western Front",
          "Larry Crowne",
          "American Ninja",
          "Sleeping with the Enemy",
          "Howards End",
          "Tank Girl",
          "The Thomas Crown Affair",
          "Miller's Crossing",
          "Man of the House",
          "Grace of Monaco",
          "Grandma's Boy",
          "Bronson",
          "What If",
          "Children of Heaven",
          "The Last Exorcism",
          "Missing in Action 2: The Beginning",
          "Madea's Big Happy Family",
          "A Most Wanted Man",
          "The Messenger",
          "Body Snatchers",
          "First Knight",
          "Million Dollar Arm",
          "Inside Deep Throat",
          "Kabhi Alvida Naa Kehna",
          "The Greatest Story Ever Told",
          "Upstream Color",
          "Apollo 18",
          "Narc",
          "Annapolis",
          "The Mercy",
          "Tomcats",
          "Employee of the Month",
          "The Darjeeling Limited",
          "Everybody's Fine",
          "Super Size Me",
          "Operation Red Sea",
          "Pride and Glory",
          "A Walk in the Woods",
          "Beowulf",
          "Everybody Wants Some!!",
          "Dead Presidents",
          "Repo! The Genetic Opera",
          "Iron Sky: The Coming Race",
          "An Inconvenient Truth",
          "Roman Holiday",
          "Straw Dogs",
          "Notorious",
          "Bel Ami",
          "War of the Arrows",
          "Shattered Glass",
          "Nashville",
          "Women on the Verge of a Nervous Breakdown",
          "The Art of War",
          "The Roommate",
          "Clash of the Titans",
          "Baggage Claim",
          "Rudy",
          "The Powerpuff Girls Movie",
          "Good Bye Lenin!",
          "The Invisible",
          "The Machine",
          "Yentl",
          "Snow Buddies",
          "The Island of Dr. Moreau",
          "The Interpreter",
          "Pollock",
          "Wall Street: Money Never Sleeps",
          "Go",
          "Space Chimps",
          "The Perfect Game",
          "The Quiet American",
          "The Hollars",
          "Asterix: The Mansions of the Gods",
          "Funny Games",
          "The Best Exotic Marigold Hotel",
          "Empire",
          "Bulworth",
          "One for the Money",
          "The Grace Card",
          "The Sweet Hereafter",
          "The Ramen Girl",
          "5 Flights Up",
          "The Player",
          "TransSiberian",
          "Kramer vs. Kramer",
          "Rebel Without a Cause",
          "The Yellow Handkerchief",
          "Man-Thing",
          "The Beautician and the Beast",
          "Cosmopolis",
          "Big Miracle",
          "Reno 911!: Miami",
          "The Constant Gardener",
          "Dracula",
          "Alex & Emma",
          "Rendition",
          "Scrooged",
          "Jab We Met",
          "High Anxiety",
          "Man on the Moon",
          "It Happened One Night",
          "Godard Mon Amour",
          "Cop Land",
          "My Cousin Vinny",
          "Unknown",
          "We Own the Night",
          "My Blueberry Nights",
          "Thank You for Your Service",
          "Whatever It Takes",
          "Stone",
          "Lean on Pete",
          "The Man with the Iron Fists",
          "Dragon Wars: D-War",
          "The Bear",
          "Canadian Bacon",
          "20,000 Leagues Under the Sea",
          "Requiem for a Dream",
          "Suspect Zero",
          "Dog Day Afternoon",
          "The Kids Are All Right",
          "The Devil's Own",
          "Set It Off",
          "Abandon",
          "Death Wish V: The Face of Death",
          "Postcards from the Edge",
          "The Wild Bunch",
          "Tristan & Isolde",
          "Reign Over Me",
          "Frank",
          "Dogtooth",
          "North Country",
          "Baby Boom",
          "Touch of Evil",
          "Network",
          "Witness for the Prosecution",
          "Gimme Shelter",
          "Private Parts",
          "My Bloody Valentine",
          "Max Payne",
          "Veronica Mars",
          "Get Him to the Greek",
          "The Peacemaker",
          "Interiors",
          "Capture the Flag",
          "Milk",
          "Stagecoach",
          "Anonymous",
          "Jackie",
          "The Year of Living Dangerously",
          "Amour",
          "Airport",
          "Gallipoli",
          "The Muppet Christmas Carol",
          "An Unfinished Life",
          "Prom",
          "Joe",
          "Nothing to Lose",
          "It's Complicated",
          "THX 1138",
          "The Physician",
          "The Girl Who Kicked the Hornet's Nest",
          "Paparazzi",
          "Fish Tank",
          "Saturday Night Fever",
          "Restless",
          "Detective Dee and the Mystery of the Phantom Flame",
          "Bingo",
          "Little White Lies",
          "Top Secret!",
          "Earth Girls Are Easy",
          "100 Feet",
          "Godzilla vs. Biollante",
          "Captivity",
          "Alexander and the Terrible, Horrible, No Good, Very Bad Day",
          "Lost River",
          "EXIT",
          "The Return",
          "Days of Thunder",
          "Brubaker",
          "Confidence",
          "Split Second",
          "Smashed",
          "Return to Me",
          "The Door in the Floor",
          "Swing Time",
          "La Femme Nikita",
          "Thelma",
          "The Second Best Exotic Marigold Hotel",
          "Pirates",
          "Frankenhooker",
          "Tora! Tora! Tora!",
          "Driven",
          "C'est la vie!",
          "Open Windows",
          "He Got Game",
          "The Poseidon Adventure",
          "DeepStar Six",
          "Big Trouble",
          "Spice World: The Movie",
          "The East",
          "The Great Raid",
          "Dangal",
          "Glory",
          "Fiddler on the Roof",
          "Death at a Funeral",
          "Death at a Funeral",
          "Kate & Leopold",
          "Rent",
          "Dark Tide",
          "The Net",
          "Funny Girl",
          "The Score",
          "The Hitcher",
          "The Cider House Rules",
          "Marshland",
          "99 Homes",
          "The Big Bounce",
          "Suburban Commando",
          "Starman",
          "Elizabeth",
          "City Island",
          "The Monkey King 2",
          "White Squall",
          "Certain Women",
          "My Fair Lady",
          "Showtime",
          "Boogie Nights",
          "London Fields",
          "Dirty Girl",
          "The Astronaut Farmer",
          "Valhalla Rising",
          "My Life in Ruins",
          "Smoke",
          "African Cats",
          "Breaking Away",
          "A River Runs Through It",
          "Austenland",
          "SpaceCamp",
          "Jungle 2 Jungle",
          "Igby Goes Down",
          "Highlander II: The Quickening",
          "This Is Spinal Tap",
          "Ghost Town",
          "The Girlfriend Experience",
          "Fathers' Day",
          "Jumping the Broom",
          "Dragnet",
          "Around the World in Eighty Days",
          "Dhoom 2",
          "All the King's Men",
          "Godzilla vs. King Ghidorah",
          "Gossip",
          "Night of the Demons",
          "Adore",
          "Railroad Tigers",
          "The Whole Ten Yards",
          "The Last Picture Show",
          "Behind the Candelabra",
          "The Purple Rose of Cairo",
          "Philomena",
          "Crossing Over",
          "The Infiltrator",
          "Monster's Ball",
          "Strangers on a Train",
          "Ace in the Hole",
          "Metro",
          "Angel-A",
          "Freddy Got Fingered",
          "Hustle & Flow",
          "Let's Go to Prison",
          "Heaven's Gate",
          "Midnight in the Garden of Good and Evil",
          "Heartthrob",
          "The Magnificent Seven",
          "The Golden Child",
          "Bull Durham",
          "Jackpot",
          "The Black Cat",
          "Paris",
          "The Phantom",
          "The Last Exorcism Part II",
          "Vanity Fair",
          "Jism",
          "King of New York",
          "Blowin' In The Wind",
          "Howl",
          "There Goes My Baby",
          "Night Must Fall",
          "Switchback",
          "A Coffee in Berlin",
          "The Wiz",
          "Bullitt",
          "Shooting Fish",
          "2046",
          "Random Hearts",
          "For Richer or Poorer",
          "Happy Times",
          "Ek Tha Tiger",
          "The New Adventures of Pippi Longstocking",
          "Love & Basketball",
          "The Wizard",
          "Last Flight",
          "A Conspiracy of Faith",
          "Far Cry",
          "The Green Hornet",
          "My Best Friend's Wedding",
          "Zookeeper",
          "Turning Tide",
          "Dolemite",
          "Once Upon a Time in Mumbaai",
          "Butterfly",
          "Boat Trip",
          "Extreme Job",
          "Cabin in the Sky",
          "Their Finest",
          "Vampires Suck",
          "Sholem Aleichem: Laughing In The Darkness",
          "The Snow Queen",
          "This Is Elvis",
          "Animal House",
          "The Indian Runner",
          "Fletch Lives",
          "Made in Dagenham",
          "Evita",
          "Following",
          "The Verdict",
          "Moscow Gold",
          "Rang De Basanti",
          "Leslie Nielsen's Bad Golf My Way",
          "Dinner at Eight",
          "Jason's Lyric",
          "Blade Runner",
          "Between Us",
          "Mother of Mine",
          "Vanishing on 7th Street",
          "Boys on the Side",
          "Gamera: Guardian of the Universe",
          "Happy Family",
          "Airport '77",
          "The Lady in the Van",
          "Viper in the Fist",
          "Karan Arjun",
          "House at the End of the Street",
          "Brigham City",
          "Cutaway",
          "Lafangey Parindey",
          "The Arrival",
          "Tape",
          "Bodyguards and Assassins",
          "Philadelphia Experiment II",
          "Double Take",
          "The Runaway Bride",
          "Pane e burlesque",
          "Camilla",
          "War",
          "The Robe",
          "Trois 2: Pandora's Box",
          "Surveillance",
          "Song One",
          "The Barbarians",
          "Mrs Palfrey at The Claremont",
          "Skinning",
          "Revelation",
          "The Other Man",
          "Mr. Destiny",
          "Horton Hears a Who!",
          "Ode to Billy Joe",
          "The Illusionist",
          "Red Dragon",
          "The Cherry Orchard",
          "It Came from Hollywood",
          "Star Trek Beyond",
          "Finn & the Sea of Noise",
          "The King and I",
          "A Farewell to Arms",
          "The Adventures of Huck Finn",
          "Lage Raho Munna Bhai",
          "Last Stop 174",
          "Judgment at Nuremberg",
          "Two Much",
          "Space Truckers",
          "A Blood Pledge",
          "The River",
          "Twister",
          "Honeymoon Travels Pvt. Ltd.",
          "Quartet",
          "Paths of the Gods",
          "Dark Figure of Crime",
          "Jungle Fever",
          "Carbon Copy",
          "Sleep Dealer",
          "Monkey Shines",
          "Down",
          "The Intern",
          "Three Fugitives",
          "Amelia",
          "Road to Nowhere",
          "Meet Me in St. Louis",
          "Sarfarosh",
          "Things to Come",
          "Appleseed",
          "Are We There Yet?",
          "Cursed",
          "Peggy Sue Got Married",
          "Mars",
          "The Wraith",
          "Blow Out",
          "Conversations with Other Women",
          "Infernal Affairs II",
          "The Secret of My Success",
          "Star Trek",
          "When in Rome",
          "Very Bad Things",
          "Joyeux Noel",
          "The Sweeney",
          "Casshern",
          "Alatriste",
          "The Good Night",
          "Admiral",
          "Kissing Jessica Stein",
          "Who Killed the Electric Car?",
          "The Monster Squad",
          "Elegy",
          "Mommie Dearest",
          "The Internship",
          "Halloween H20: 20 Years Later",
          "The Weight of Water",
          "Nobel Son",
          "Connie and Carla",
          "Doctor Who",
          "Land of the Dead",
          "City by the Sea",
          "Love and Death",
          "Opal Dream",
          "The Shaggy Dog",
          "Star Trek III: The Search for Spock",
          "A Nightmare on Elm Street 3: Dream Warriors",
          "Foodfight!",
          "The Untouchables",
          "A Sound of Thunder",
          "That still Karloson!",
          "War and Peace",
          "No Way Out",
          "The Big Kahuna",
          "True Colors",
          "Cry Wolf",
          "The Blue Bird",
          "Boy Culture",
          "Transcendence",
          "Fruitvale Station",
          "In a World...",
          "Vishwaroopam",
          "Made",
          "Action Jackson",
          "My Best Friend's Girl",
          "While She Was Out",
          "Coriolanus",
          "Naach",
          "Flight of the Navigator",
          "Company",
          "Sophie's Choice",
          "Colors",
          "Alien Nation",
          "Guru",
          "A Nightmare on Elm Street 4: The Dream Master",
          "Swades",
          "Katyn",
          "Talk Radio",
          "Road House",
          "Louder Than Bombs",
          "Calendar Girl",
          "Queen of the Desert",
          "Cherry 2000",
          "Casualties of War",
          "The Bellboy",
          "Bad Santa",
          "Yossi",
          "Another American Crime",
          "Only the Strong",
          "Gangs of Wasseypur - Part 1",
          "Intolerable Cruelty",
          "Sukiyaki Western Django",
          "Department",
          "My Left Foot: The Story of Christy Brown",
          "Waking Ned",
          "Rob Roy",
          "Mother's Day",
          "Marked for Death",
          "The Caine Mutiny",
          "Arthur",
          "This Is England",
          "Swing Vote",
          "JCVD",
          "Cocktail",
          "Nine",
          "Flight of the Intruder",
          "Bottle Rocket",
          "Around the World in 80 Days",
          "The French Kissers",
          "Don't Look Back",
          "Message in a Bottle",
          "Hideous Kinky",
          "In Cold Blood",
          "Sliding Doors",
          "Wimbledon",
          "Swingers",
          "Diana",
          "The Spy",
          "HOUBA! On the Trail of the Marsupilami",
          "Amistad",
          "A Simple Plan",
          "Bring It On",
          "Aiyyaa",
          "Fishtales",
          "Locked Out",
          "The Return of the Pink Panther",
          "Chaahat",
          "Trimurti",
          "Copying Beethoven",
          "First Love, Last Rites",
          "Ernest Goes to Camp",
          "20 Feet from Stardom",
          "The Accidental Spy",
          "Blood of May",
          "Heavenly Creatures",
          "Duplicate",
          "The King Is Dancing",
          "Vivre Sa Vie",
          "Dave Chappelle's Block Party",
          "Cop and ½",
          "War, Inc.",
          "50 to 1",
          "Killer Tongue",
          "Pale Rider",
          "Accidental Love",
          "Marvin's Room",
          "Pat Garrett & Billy the Kid",
          "Wallander - The Secret",
          "Tiger Zinda Hai",
          "The Rum Diary",
          "The Flowers of War",
          "Don't Stop Me Now",
          "Aftershock",
          "The Fast and the Furious",
          "How to Make an American Quilt",
          "Akeelah and the Bee",
          "Marty",
          "English Vinglish",
          "Best of the Best",
          "Tamara",
          "Rowdy Rathore",
          "A Passage to India",
          "Maleficent",
          "Purple Rain",
          "Tuck Everlasting",
          "Make Your Move",
          "The Horseman on the Roof",
          "Cinderfella",
          "Godzilla, King of the Monsters!",
          "Shortbus",
          "Dad",
          "What About Bob?",
          "Oscar",
          "The Shaggy Dog",
          "The Amateur",
          "Summer of Sam",
          "Mommies, Happy New Year!",
          "Friday the 13th Part VII: The New Blood",
          "Runaway Train",
          "Lights in the Dusk",
          "Wake Up Sid",
          "Ryaba, My Chicken",
          "Ant-Man",
          "Bait",
          "Gleaming the Cube",
          "I Dreamed of Africa",
          "Fast & Furious",
          "Submersion of Japan",
          "Student of the Year",
          "Best Man Down",
          "She's All That",
          "Surfer, Dude",
          "The Lazarus Project",
          "Atlantic City",
          "Vanilla Sky",
          "City of Life and Death",
          "Apartment 1303 3D",
          "The Prince of Tides",
          "Spawn",
          "Valley Girl",
          "Those Magnificent Men in Their Flying Machines or How I Flew from London to Paris in 25 hours 11 minutes",
          "Moby Dick",
          "Hetalia: Axis Powers: Paint It, White!",
          "Once Bitten",
          "Supercapitalist",
          "Pure Luck",
          "The Castle",
          "The Dark Half",
          "Special",
          "The Affair of the Necklace",
          "Vanishing Point",
          "Ram Jaane",
          "Zamaana Deewana",
          "Navigating the Heart",
          "The Visitors II: The Corridors of Time",
          "English Babu Desi Mem",
          "Vulgar",
          "Bus Stop",
          "Two Lovers",
          "The Sheltering Sky",
          "Joe's Apartment",
          "Catch-22",
          "Bombay Talkies",
          "Tea with Mussolini",
          "Paradise: Love",
          "Much Ado About Nothing",
          "Breaker! Breaker!",
          "Mud",
          "Citizen Ruth",
          "The Prophecy",
          "The Face of Love",
          "Drop Dead Fred",
          "Supernova",
          "The Berlin File",
          "Jimmy P.",
          "The Limey",
          "She Wore a Yellow Ribbon",
          "Death Defying Acts",
          "Doctor Dolittle",
          "Jacked$",
          "Wolf",
          "Happy, Texas",
          "Diggstown",
          "House Party",
          "Strictly Ballroom",
          "Gaby: A True Story",
          "The Mighty Ducks",
          "Thomas and the Magic Railroad",
          "The Last Dragon",
          "Yeh Lamhe Judaai Ke",
          "The Sword and the Sorcerer",
          "The Lunchbox",
          "The Big Red One",
          "An American Carol",
          "The Death and Life of Bobby Z",
          "All About the Benjamins",
          "Biwi No.1",
          "A Different Loyalty",
          "Red Rock West",
          "Fly Me to the Moon",
          "Haunted Honeymoon",
          "The Derby Stallion",
          "The Good Mother",
          "The Power of Few",
          "Mad Dog and Glory",
          "The Cotton Club",
          "The Man From Snowy River II",
          "The Age of Innocence",
          "Miss Potter",
          "Town & Country",
          "Beethoven's 2nd",
          "Body of Evidence",
          "Manhattan Murder Mystery",
          "The Women",
          "Ghanchakkar",
          "Stop Making Sense",
          "Satya",
          "Rapa Nui",
          "Zero Effect",
          "Roommates",
          "Dil To Pagal Hai",
          "An Ideal Husband",
          "The Wackness",
          "College",
          "Tutto tutto niente niente",
          "The Wood",
          "Bottle Shock",
          "Baby Boy",
          "The Buddy Holly Story",
          "Run All Night",
          "Machuca",
          "Tom Sawyer",
          "The Riddle",
          "Slacker",
          "Tin Cup",
          "The Preacher's Wife",
          "Hello, Dolly!",
          "Soul Survivors",
          "Windtalkers",
          "The Way of the Gun",
          "Highway to Hell",
          "The Guest",
          "Lupin the 3rd",
          "The Quick and the Dead",
          "Socha Na Tha",
          "Damaged Lives",
          "Hooper",
          "Wizards",
          "Barefoot",
          "Rangeela",
          "Silent Trigger",
          "Dark Passage",
          "Dostana",
          "A Prophet",
          "The Signal",
          "The French Connection",
          "Jodhaa Akbar",
          "The Black Hole",
          "Cutthroat Island",
          "The Big Swap",
          "Excessive Force",
          "Itty Bitty Titty Committee",
          "Son of Sardaar",
          "Bride Wars",
          "Gunmen",
          "W.",
          "9th Company",
          "The Others",
          "The Touch",
          "Golden Earrings",
          "The Crocodiles",
          "Outlander",
          "Voyage to the Bottom of the Sea",
          "Pocahontas",
          "Bad Lieutenant",
          "The Rapture",
          "Auto Focus",
          "Fantastic Voyage",
          "Nighthawks",
          "Dil Aashna Hai",
          "The Funeral",
          "Tri mushketera",
          "The Hunchback of Notre Dame",
          "Chill Factor",
          "Breakdown",
          "The Flock",
          "Sheena",
          "The Man from Snowy River",
          "Zaytoun",
          "Twice Born",
          "Rita's Last Fairy Tale",
          "East Is East",
          "The First Day of the Rest of Your Life",
          "The Stupids",
          "Matewan",
          "Jealousy",
          "Biloxi Blues",
          "The Love Guru",
          "Chak De! India",
          "Boys and Girls",
          "Standing Still",
          "Let's Be Cops",
          "Funny Farm",
          "Laura",
          "Goemon",
          "Air Bud: Golden Receiver",
          "Mississippi Burning",
          "Valiant",
          "The Rose",
          "The Kung Fu Scholar",
          "Boiler Room",
          "Exodus",
          "Please Don't Eat the Daisies",
          "Luck by Chance",
          "Billu",
          "Pinocchio",
          "Zorba the Greek",
          "Nell",
          "Wet Hot American Summer",
          "The Best Little Whorehouse in Texas",
          "The Story of Us",
          "Across to Singapore",
          "Crooked Arrows",
          "The Mod Squad",
          "Oliver & Company",
          "It Came from Outer Space",
          "The Night Flier",
          "Curdled",
          "Mongol: The Rise of Genghis Khan",
          "Mo' Money",
          "In the Heat of the Night",
          "After Life",
          "The Precocious and Brief Life of Sabina Rivas",
          "Home Fries",
          "Sholay",
          "The Hills Have Eyes",
          "Winter Passing",
          "The Pink Panther Strikes Again",
          "Neighbors",
          "Initial D",
          "Love Ke Liye Kuch Bhi Karega",
          "Godzilla 2000: Millennium",
          "Manderlay",
          "Singh Is Kinng",
          "The Enforcer",
          "Savages Crossing",
          "Sudden Impact",
          "Beyond the Mat",
          "Hoop Dreams",
          "Gettysburg",
          "Subway",
          "Mean Creek",
          "The Red Violin",
          "Human Capital",
          "RRRrrrr!!!",
          "Last Tango in Paris",
          "Miracle",
          "Red Cliff",
          "The Elephant Man",
          "Deliverance",
          "Sergeant York",
          "Bringing Down the House",
          "Doogal",
          "Hero Wanted",
          "Did You Hear About the Morgans?",
          "Mutiny on the Bounty",
          "Hamlet",
          "Joe Somebody",
          "Crazy/Beautiful",
          "The Chase",
          "Infinitely Polar Bear",
          "Glitter",
          "Summer Window",
          "The Keeper of Lost Causes",
          "My Name Is Bruce",
          "A Star Is Born",
          "Bedknobs and Broomsticks",
          "The Squid and the Whale",
          "Tarnation",
          "Bluffmaster!",
          "Crossover",
          "Far from Heaven",
          "Drona",
          "The King and I",
          "Demonlover",
          "Captain Ron",
          "Ishkq in Paris",
          "Titanic",
          "Wolfen",
          "Romanzo criminale",
          "The Dirty Dozen",
          "Quick Change",
          "Rhinestone",
          "The Last of the Finest",
          "LOL (Laughing Out Loud)",
          "Love Aaj Kal",
          "Daddy's Little Girls",
          "Lagaan: Once Upon a Time in India",
          "Kidnap",
          "The Skippers of the Cameleon 2",
          "Winter in Wartime",
          "Sarkar Raj",
          "Code Name: The Cleaner",
          "The Outlaw Josey Wales",
          "Perfect Child",
          "The Hollywood Knights",
          "Me and Orson Welles",
          "Wings of Desire",
          "Just One of the Guys",
          "Bandidas",
          "Jism 2",
          "Virsa",
          "Waitress",
          "Made of Honor",
          "Volver",
          "Miracle at St. Anna",
          "The Contract",
          "Body Heat",
          "Loose Cannons",
          "Porky's II: The Next Day",
          "Sangharsh",
          "A Wednesday!",
          "PCU",
          "Ordinary People",
          "La Bamba",
          "I Think I Love My Wife",
          "Jungle",
          "Raise the Titanic",
          "Yves Saint Laurent",
          "Strangerland",
          "Bhoot",
          "Country of My Skull",
          "Jackson County Jail",
          "The Remains of the Day",
          "Life or Something Like It",
          "Empire of the Wolves",
          "Main Aurr Mrs Khanna",
          "The Other Side of Heaven",
          "Showgirls",
          "Kurbaan",
          "Battle Beyond the Stars",
          "The Manchurian Candidate",
          "The Bridge",
          "Bee Season",
          "The Hidden",
          "The Best Two Years",
          "Hannibal Rising",
          "The Oh in Ohio",
          "March of the Penguins",
          "East of Eden",
          "I'm So Excited!",
          "The Gingerbread Man",
          "Trespass",
          "The Twilight Samurai",
          "The Draughtsman's Contract",
          "Native Son",
          "Sling Blade",
          "Elmer Gantry",
          "School Ghost",
          "Dreaming of Joseph Lees",
          "This Gun for Hire",
          "Labor Pains",
          "Cry Freedom",
          "Mio in the Land of Faraway",
          "Long Live Freedom",
          "The Tracey Fragments",
          "Love and the City",
          "The Adventures of Baron Munchausen",
          "Clouds of Sils Maria",
          "The Namesake",
          "Like Mother, Like Daughter",
          "From Beyond",
          "MirrorMask",
          "Nixon",
          "Maximum Risk",
          "Foolproof",
          "Bullett Raja",
          "The In-Laws",
          "The Ref",
          "Shadow of the Vampire",
          "Exit Wounds",
          "Whale Rider",
          "Miracle Mile",
          "Avalon",
          "Sleeping Beauty",
          "Godzilla",
          "Bad Day at Black Rock",
          "Welcome to Mooseport",
          "Hud",
          "Giant Killer",
          "Godzilla Raids Again",
          "Veeram",
          "The Mysterious Lady",
          "When Unku was Ede's Girlfriend",
          "The Players Club",
          "Gymkata",
          "Outside Providence",
          "Hard Times",
          "Kalifornia",
          "Brideshead Revisited",
          "Undertaking Betty",
          "Pocketful of Miracles",
          "Black Dynamite",
          "A Mighty Heart",
          "The Fury",
          "The Ladies Man",
          "One Night Stand",
          "Little Buddha",
          "Stranger Than Fiction",
          "The Joy Luck Club",
          "Love Is All You Need",
          "Playing God",
          "The Inhabited Island",
          "Slums of Beverly Hills",
          "Havana",
          "Ernest & Celestine",
          "Godzilla Against MechaGodzilla",
          "The Car Keys",
          "New York, New York",
          "Gangs of Wasseypur - Part 2",
          "The Birdcage",
          "Blue Streak",
          "Inhale",
          "Smokey and the Bandit",
          "Black Christmas",
          "Bridge to Terabithia",
          "Romasanta: The Werewolf Hunt",
          "Boiling Point",
          "Intermission",
          "Laurence Anyways",
          "Year of the Dragon",
          "Hawaii",
          "Red Scorpion",
          "Night of the Living Dead 3D",
          "Two Brothers",
          "The Night of the Iguana",
          "Donkey X",
          "City Heat",
          "The Frisco Kid",
          "Dressed to Kill",
          "The Great Gatsby",
          "Head Over Heels",
          "Tough Guys",
          "99",
          "Komaram Puli",
          "Swim Little Fish Swim",
          "Little Big Man",
          "The Long Riders",
          "The Barbarian Invasions",
          "Without Limits",
          "Camille Claudel, 1915",
          "Acts of Death",
          "Atlas Shrugged: Part III",
          "Where Eagles Dare",
          "Niagara",
          "Gunga Din",
          "Ride with the Devil",
          "The Egyptian",
          "Chandni Chowk to China",
          "Revolution",
          "Ishtar",
          "Slackers",
          "Dil Chahta Hai",
          "Parnell",
          "An Awfully Big Adventure",
          "Ridicule",
          "Ghosts of the Abyss",
          "The End of the Affair",
          "Brewster's Millions",
          "Boomerang",
          "Sunshine",
          "Wabash Avenue",
          "Hell's Angels",
          "The Fighting Temptations",
          "In Too Deep",
          "Aitraaz",
          "What Maisie Knew",
          "The Diary of a Teenage Girl",
          "The Worst Christmas of My Life",
          "I Can Quit Whenever I Want",
          "Draft Day",
          "Mutiny on the Bounty",
          "Riding in Cars with Boys",
          "The Ten Commandments",
          "Barbecue",
          "Presumed Innocent",
          "Broadway Danny Rose",
          "Attack of the Helping Hand!",
          "The Matriarch",
          "Scarlet Street",
          "Heavyweights",
          "Wickie the Mighty Viking",
          "Swept Away",
          "Enthiran",
          "Hank Williams First Nation",
          "4 Months, 3 Weeks and 2 Days",
          "Forty Guns",
          "Blue Collar",
          "Earthquake",
          "White Tiger",
          "The Green Berets",
          "Human Traffic",
          "Shool",
          "The Ballad of Jack and Rose",
          "The Rescuers Down Under",
          "Kung Fu Dunk",
          "Dennis the Menace",
          "Giant",
          "The Object of My Affection",
          "Shorts",
          "Aloft",
          "The Last Detail",
          "The Diving Bell and the Butterfly",
          "Not Fade Away",
          "Beyond a Reasonable Doubt",
          "Secrets & Lies",
          "The Wind That Shakes the Barley",
          "The Edge of Heaven",
          "Jude",
          "Full Grown Men",
          "Leaves of Grass",
          "Peeping Tom",
          "The Secret Life of Bees",
          "Cowboys & Angels",
          "Welcome to Sarajevo",
          "Secret Sunshine",
          "Days of Glory",
          "Drowning Mona",
          "Torrente 3: The Protector",
          "Batman: Mask of the Phantasm",
          "The Women of Brewster Place",
          "Love's Deadly Triangle: The Texas Cadet Murder",
          "Bright Lights, Big City",
          "Paper Heart",
          "Janky Promoters",
          "The Fast and the Furious",
          "Eye for an Eye",
          "Miranda",
          "World's Greatest Dad",
          "Yaariyan",
          "Patton",
          "Treasures O.K.",
          "Annie Get Your Gun",
          "The Women",
          "Wait Until Dark",
          "Narco",
          "The Alamo",
          "Cool as Ice",
          "Why Did I Get Married?",
          "For the Boys",
          "Baby's Day Out",
          "Houseguest",
          "The Trouble with Harry",
          "Welcome to Dongmakgol",
          "Smart People",
          "Best Defense",
          "Daylight",
          "The Cry Baby Killer",
          "The Gorgeous Hussy",
          "Catch a Fire",
          "Hitchcock",
          "The Wrong Man",
          "My Beautiful Laundrette",
          "Valkyrie",
          "West Side Story",
          "While We're Young",
          "One Night with the King",
          "The Pick-up Artist",
          "A Room with a View",
          "Chasing Amy",
          "The Black Stallion",
          "Bird on a Wire",
          "Article 99",
          "The Fall of the Roman Empire",
          "Holy Ghost People",
          "Clockstoppers",
          "Cocoon: The Return",
          "The Battle of Algiers",
          "Paper Moon",
          "Bol Bachchan",
          "The Swan Princess",
          "Luck",
          "Birdy",
          "Fat Albert",
          "Bon Cop Bad Cop",
          "The Broken Hearts Club: A Romantic Comedy",
          "Bananas",
          "Brainstorm",
          "Extreme Measures",
          "Mean Streets",
          "The World According to Garp",
          "Never Die Alone",
          "Hardware",
          "City Slickers II: The Legend of Curly's Gold",
          "Say It Isn't So",
          "The TV Set",
          "Dinner Rush",
          "Il nostro matrimonio è in crisi",
          "The Other End of the Line",
          "Extreme Ops",
          "Pushing Hands",
          "Force 10 from Navarone",
          "The Informant!",
          "Shutter Island",
          "Rogue",
          "Tommy",
          "Bride Flight",
          "Fighter Pilot: Operation Red Flag",
          "South Pacific",
          "Popeye",
          "Stardust Memories",
          "Into the Night",
          "Warlock",
          "Paris, Je T'Aime",
          "The Zodiac",
          "A Polish Vampire in Burbank",
          "Inchon",
          "The Lair of the White Worm",
          "Cape Fear",
          "Never Been Kissed",
          "The Odd Couple",
          "Lights of New York",
          "And So It Goes",
          "Dumbo",
          "Stalingrad",
          "She's the One",
          "Blood Simple",
          "Dutch",
          "No Entry",
          "Paint Your Wagon",
          "Day Watch",
          "Airborne",
          "Hollywood Homicide",
          "Resident Evil: The Final Chapter",
          "The Outsiders",
          "In the Land of Women",
          "The Crying Game",
          "Ramayya Vasthavayya",
          "The Assassin",
          "Лесная царевна",
          "Brooklyn Rules",
          "Star Trek VI: The Undiscovered Country",
          "Miami Rhapsody",
          "The Natural",
          "The Sessions",
          "Pretty Woman",
          "Night Rush",
          "Colosio",
          "The Seeker: The Dark Is Rising",
          "A Yank at Oxford",
          "Full Frontal",
          "Mystery, Alaska",
          "From Here to Eternity",
          "The Mother of Tears",
          "The Informers",
          "Bathory: Countess of Blood",
          "Victory Through Air Power",
          "Everyone's Hero",
          "Pennies from Heaven",
          "Mighty Aphrodite",
          "Victor Frankenstein",
          "Manhunter",
          "Java Heat",
          "The SpongeBob Movie: Sponge Out of Water",
          "200 Cigarettes",
          "Suspicion",
          "The Best Offer",
          "Rapid Fire",
          "Hunting Elephants",
          "Return to Oz",
          "Ain't Them Bodies Saints",
          "Dhoom",
          "A Perfect Man",
          "Catch That Kid",
          "The Monuments Men",
          "The Past",
          "Out on a Limb",
          "The Outlander",
          "The Boys & Girls Guide to Getting Down",
          "Doggie Tails, Vol. 1: Lucky's First Sleep-Over",
          "Mangal Pandey - The Rising",
          "Lootera",
          "Chennai Express",
          "Unlawful Entry",
          "Kidulthood",
          "Don",
          "Firestarter",
          "Josh",
          "Love and Honor",
          "10th & Wolf",
          "The Serpent and the Rainbow",
          "The Crucible",
          "Jakob the Liar",
          "Kazaam",
          "Goya's Ghosts",
          "Takers",
          "Winged Migration",
          "S. Darko",
          "Perfect Assassins",
          "Return to Sender",
          "Belle",
          "Rollerball",
          "The Misfits",
          "Mutant Action",
          "Black Nativity",
          "A Madea Christmas",
          "Altered States",
          "Seraphim Falls",
          "Torrente 5",
          "Clerks II",
          "Son of Rambow",
          "Surviving the Game",
          "Cosy Dens",
          "Manglehorn",
          "Metropolitan",
          "Play Misty for Me",
          "Owning Mahowny",
          "One 2 Ka 4",
          "The Notorious Bettie Page",
          "Silver Streak",
          "Sleeper",
          "Cat People",
          "Crimes and Misdemeanors",
          "Death Race 2000",
          "Burke & Wills",
          "The Pursuit Of Victory",
          "Every Which Way But Loose",
          "Blues Brothers 2000",
          "The Cocoanuts",
          "The House of Mirth",
          "Home Run",
          "Bhaag Milkha Bhaag",
          "Journey to the Center of the Earth",
          "Hood of Horror",
          "Panic",
          "Clean Sweep",
          "I Accuse!",
          "While You Were Sleeping",
          "The Great Race",
          "It's a Mad, Mad, Mad, Mad World",
          "Clockers",
          "Roadside Romeo",
          "Miss Julie",
          "Saathiya",
          "The I Inside",
          "Kelly's Heroes",
          "Serial Mom",
          "Kismat Konnection",
          "Three O'Clock High",
          "Lucas",
          "Redd Inc.",
          "The Gauntlet",
          "Redacted",
          "The Card Player",
          "Michael Collins",
          "D-Day",
          "The Invention of Lying",
          "Snow Day",
          "Brokedown Palace",
          "Ready to Rumble",
          "Tales from the Darkside: The Movie",
          "Decoding Annie Parker",
          "Corky Romano",
          "The Adventures of Rocky & Bullwinkle",
          "Shattered",
          "Farewell to the King",
          "Carrie",
          "12",
          "Righteous Kill",
          "The Miracle Worker",
          "The Children of Huang Shi",
          "The Wash",
          "Flirting with Disaster",
          "Shootout at Lokhandwala",
          "The Spanish Apartment",
          "Play It to the Bone",
          "Alan Partridge: Alpha Papa",
          "Radio Flyer",
          "It's Alive",
          "Razia Sultan",
          "Gracie",
          "Japanese Story",
          "Roger & Me",
          "Rumble Fish",
          "The Cowboys",
          "Dangerous People",
          "Freaked",
          "Rosewood",
          "Married to the Mob",
          "Novocaine",
          "Local Color",
          "X-Men Origins: Wolverine",
          "Ramaiya Vastavaiya",
          "Joe Versus the Volcano",
          "Flame and the Flesh",
          "The Ballad of Cable Hogue",
          "A Gambler's Story",
          "8 Million Ways to Die",
          "Nick of Time",
          "Hinter Kaifeck",
          "Romeo Is Bleeding",
          "Post Grad",
          "She Hate Me",
          "Parkland",
          "Ida",
          "The Darkness",
          "The Postman Always Rings Twice",
          "House of Usher",
          "The French Minister",
          "The Tailor of Panama",
          "Damnation Alley",
          "Sarkar",
          "Mozart and the Whale",
          "The Bad News Bears",
          "Brother 2",
          "Kenny Begins",
          "Precious",
          "Class of 1999",
          "Solaris",
          "Beautiful",
          "The Book of Masters",
          "Underwater Warrior",
          "The Pallbearer",
          "What a Way to Go!",
          "Muriel's Wedding",
          "Saving Grace",
          "We Don't Live Here Anymore",
          "Legend of the Lost",
          "Dahmer",
          "Lock, Stock and Two Smoking Barrels",
          "Show Boat",
          "A Simple Wish",
          "Troll",
          "07th Changes Course",
          "Because of Winn-Dixie",
          "Earth's Most Beloved Son",
          "Paheli",
          "Mildred Pierce",
          "My Dog Skip",
          "Jurassic Park III",
          "Kick",
          "Oliver!",
          "Undiscovered",
          "Iron & Blood: The Legend of Taras Bulba",
          "Dillinger",
          "Who Is Cletis Tout?",
          "Galaxina",
          "Waterloo",
          "Delirious",
          "Crossfire",
          "Witchboard",
          "Babysitting 2",
          "Friends: Naki on Monster Island",
          "Salinger",
          "Himmatwala",
          "Elephant",
          "More American Graffiti",
          "Bilal: A New Breed of Hero",
          "Tucker: The Man and His Dream",
          "The Odyssey",
          "Chashme Baddoor",
          "Piku",
          "Julieta",
          "Bleed for This",
          "Sylvia",
          "Trick",
          "12 and Holding",
          "Eye in the Sky",
          "10 Cloverfield Lane",
          "Lowriders",
          "Mr. Right",
          "Assassination of a High School President",
          "The House of Yes",
          "Like Water for Chocolate",
          "Kiki's Delivery Service",
          "A Patch of Blue",
          "Alone With Her",
          "As White as in Snow",
          "Parrish",
          "Blue Hawaii",
          "The Bashful Bachelor",
          "Reds",
          "The Crush",
          "Russian Dolls",
          "George Washington",
          "Losing Isaiah",
          "Naayak",
          "The Next Best Thing",
          "Dogma",
          "Scaramouche",
          "Farewell, My Lovely",
          "The Country Bears",
          "Project X",
          "Legend No. 17",
          "City of Industry",
          "Once Upon a Forest",
          "Swiss Family Robinson",
          "Night of the Comet",
          "Daddy and Them",
          "The Long Goodbye",
          "The Cookout",
          "The Invisible Woman",
          "Invisible Agent",
          "Mary Kom",
          "Heavy Petting",
          "Ghoulies",
          "Yeh Jawaani Hai Deewani",
          "A Tale of Love and Darkness",
          "Never Forever",
          "Walker",
          "The Celestine Prophecy",
          "East/West",
          "Fled",
          "How Stella Got Her Groove Back",
          "Satan's Blood",
          "House of Wax",
          "Transformers",
          "10 to Midnight",
          "Ninotchka",
          "Gentleman's Agreement",
          "Losin' It",
          "Pit and the Pendulum",
          "Fur: An Imaginary Portrait of Diane Arbus",
          "I'm Staying",
          "One-Eyed Jacks",
          "Rudolph the Red-Nosed Reindeer: The Movie",
          "Eye of the Beholder",
          "Band of the Hand",
          "A Kind of Loving",
          "Capone",
          "Sands of Iwo Jima",
          "Gabbar Is Back",
          "Attack of the 50 Foot Woman",
          "Beyond Rangoon",
          "L.I.E.",
          "Tell 'em Steve-Dave: Puppet Theater",
          "The Last Breath",
          "Grindhouse",
          "Valentino",
          "Slow Burn",
          "Guess Who's Coming to Dinner",
          "A Prayer for the Dying",
          "Mao's Last Dancer",
          "Blue Ruin",
          "Finding Mr. Right",
          "The Legend of Hercules",
          "Night on Earth",
          "Three… Extremes",
          "The Girl in the Book",
          "Deadfall",
          "Shootout at Wadala",
          "Levity",
          "Gone Girl",
          "Street Hero",
          "Kevin Hart: What Now?",
          "Army Daze",
          "Malcolm",
          "She's Out of My League",
          "Warning Sign",
          "Death of a President",
          "Lakshya",
          "Vibes",
          "Personal Shopper",
          "House of Voices",
          "Ted Bundy",
          "Spaced Invaders",
          "Dil Se..",
          "Margarita with a Straw",
          "You Can't Take It with You",
          "The Original Kings of Comedy",
          "Einfach nur Liebe",
          "New Old Story",
          "Something Wicked This Way Comes",
          "Fritz the Cat",
          "Barfly",
          "Thunderbirds",
          "Pushing Tin",
          "The Best Man Holiday",
          "The Work and the Glory II: American Zion",
          "New Jack City",
          "Man Hamsarash Hastam",
          "8 Seconds",
          "The Vicious Breed",
          "Sweet Country",
          "Chalte Chalte",
          "Peter and Vandy",
          "Communion",
          "Atithi Tum Kab Jaoge?",
          "Spanish Affair",
          "Midnight Sun",
          "The Transporter Refueled",
          "Larger than Life",
          "Young Adam",
          "Topaz",
          "C.H.U.D.",
          "Vamp",
          "Sylvia Scarlett",
          "How About You...",
          "Wind",
          "Most Wanted",
          "In Dreams",
          "Murphy's Romance",
          "Men with Brooms",
          "How the Grinch Stole Christmas! Documentary",
          "Mannequin Two: On the Move",
          "No Man's Land",
          "90 Minutes in Heaven",
          "The Apostle",
          "Teen Patti",
          "Garfield and Friends: Dreams & Schemes",
          "The Perfect Weapon",
          "The Thief of Bagdad",
          "Limelight",
          "I'm No Angel",
          "Barton Fink",
          "Max Keeble's Big Move",
          "Our Family Wedding",
          "The Kid Stays in the Picture",
          "Collateral Beauty",
          "Fist Fight",
          "All I See Is You",
          "The Raven",
          "Monster from the Ocean Floor",
          "Gun Shy",
          "Franchesca Page",
          "Riding Giants",
          "Ocean's Eleven",
          "A Troll in Central Park",
          "Look Who's Back",
          "Raavan",
          "About Love",
          "The Perfect Weapon",
          "Piranha 3D",
          "She Done Him Wrong",
          "Ip Man 2",
          "Actor in Law",
          "Hardcore",
          "Ghosts of Mississippi",
          "Invaders from Mars",
          "Spanish Movie",
          "Hideaway",
          "The Valley of Decision",
          "De Dana Dan",
          "Prophecy",
          "Salaam-e-Ishq",
          "French Women",
          "Four Lions",
          "Joysticks",
          "Godzilla vs. SpaceGodzilla",
          "Ghost in the Machine",
          "Godzilla vs. Megaguirus",
          "May God Save Us",
          "Silent Fall",
          "Convention City",
          "The Golden Bowl",
          "Mafia: Survival Game",
          "The Sicilian",
          "King Kong Lives",
          "Airlift",
          "Why Did I Get Married Too?",
          "Christopher Columbus: The Discovery",
          "Ringmaster",
          "The Bread, My Sweet",
          "Jimmy Vestvood: Amerikan Hero",
          "Stateside",
          "Champion",
          "Stonewall",
          "Aferim!",
          "Chasing Ghosts",
          "Gold",
          "Desert Blue",
          "Cooley High",
          "The Woman I Love",
          "Hurricane Season",
          "The Silence of the Lambs",
          "Zabriskie Point",
          "Father Son Therapy",
          "The Good Boy",
          "The Lure",
          "Almost an Angel",
          "Man's Best Friend",
          "A Taxi Driver",
          "Emma",
          "The Science of Sleep",
          "Who's Afraid of Virginia Woolf?",
          "A Rage in Harlem",
          "The Cat o' Nine Tails",
          "Killer of Sheep",
          "Ramta Jogi",
          "Hope and Glory",
          "Girls Trip",
          "Hello, My Name Is Doris",
          "Moscow Zero",
          "Mississippi Masala",
          "From the Land of the Moon",
          "Anthony Daniels",
          "The Killing Jar",
          "Resident Evil: Afterlife",
          "Mo' Better Blues",
          "The King's Choice",
          "Hooked on the Game",
          "The Duelist",
          "Possession",
          "Surviving Picasso",
          "Same Time, Next Year",
          "Mambo Italiano",
          "Sultan",
          "The Unholy Three",
          "West of Zanzibar",
          "Bolshoi",
          "Split",
          "Wazir",
          "Blood Done Sign My Name",
          "Hangover Square",
          "Cars 3",
          "The Penguins of Madagascar: Operation Antarctica",
          "Baadshah",
          "Ready to Wear",
          "The Bride Wore Black",
          "I Hope They Serve Beer in Hell",
          "Renesse",
          "Starchaser: The Legend of Orin",
          "Three",
          "Waking the Dead",
          "It's a Boy Girl Thing",
          "Beastmaster 2: Through the Portal of Time",
          "Phat Girlz",
          "Aquarius",
          "The Singing Detective",
          "The Miracle of P. Tinto",
          "The Abyss",
          "Let's Try Again",
          "Physical Evidence",
          "Flamingo Road",
          "Alexander's Ragtime Band",
          "Capote",
          "Life During Wartime",
          "800 Bullets",
          "Princess Ka'iulani",
          "The Runaways",
          "The Opposite Sex",
          "Doctor Proctor: Bubble in the Bathtub",
          "Consenting Adults",
          "Antikiller",
          "Blowfly Park",
          "Rambling Rose",
          "Love Me Tender",
          "Cat on a Hot Tin Roof",
          "Dr. Jekyll and Mr. Hyde",
          "Birds of Passage",
          "The Midwife",
          "Salyut-7",
          "The Manhattan Project",
          "Mary of Scotland",
          "Kangaroo",
          "Duel in the Sun",
          "Onegin",
          "Baby It's You",
          "San Francisco",
          "Lost in the Sun",
          "Kingdom of the Spiders",
          "Swimming Pool",
          "The Charge of the Light Brigade",
          "Civil Brand",
          "Udta Punjab",
          "Badmaash Company",
          "The Black Room",
          "High Security Vacation",
          "Badlapur",
          "Tomorrow, When the War Began",
          "My Soul to Take",
          "Shadow of a Woman",
          "Dylan Dog: Dead of Night",
          "Gods and Monsters",
          "Like Dandelion Dust",
          "Mammuth",
          "Devil",
          "Freakonomics",
          "A Bag of Marbles",
          "The Doctor",
          "Race",
          "Naturally Native",
          "Little Spirou",
          "From a Whisper to a Scream",
          "Tom and Jerry Meet Sherlock Holmes",
          "The Grinch",
          "Music of the Heart",
          "Clifford",
          "American Gigolo",
          "Stanley & Iris",
          "127 Hours",
          "Cure",
          "Mrs. Brown's Boys D'Movie",
          "The Keep",
          "The House Across the Bay",
          "Frankie and Johnny",
          "The Informer",
          "Fan",
          "Payback: Straight Up",
          "Razorback",
          "Real Women Have Curves",
          "Lost in Galicia",
          "Hooked on the Game 2. The Next Level",
          "An American in Paris",
          "Marci X",
          "55 Days at Peking",
          "The Return of Godzilla",
          "The Hand",
          "The Bad and the Beautiful",
          "Down Terrace",
          "The Legacy",
          "The Work and the Glory",
          "The In Crowd",
          "The Sea Hawk",
          "The Spacewalker",
          "Lost & Found",
          "Undercurrent",
          "Human Nature",
          "Tales from Earthsea",
          "Harper",
          "Police, Adjective",
          "Two Girls and a Guy",
          "Strangeland",
          "Brown Sugar",
          "Not of This Earth",
          "Mrs. Winterbourne",
          "The Miracle Man",
          "Party Girl",
          "Toilet: A Love Story",
          "Prefontaine",
          "Baadshaho",
          "The Work and the Glory III: A House Divided",
          "Night Watch",
          "China Moon",
          "Wild Target",
          "The Believer",
          "Chain Letter",
          "Timebomb",
          "Godzilla, Mothra and King Ghidorah: Giant Monsters All-Out Attack",
          "Babysitting",
          "The Company Men",
          "Good Guys Wear Black",
          "Flight Crew",
          "Micmacs",
          "Killing Poe",
          "Shakes the Clown",
          "The Molly Maguires",
          "Popular Music",
          "Star",
          "Warlords of the 21st Century",
          "Garden State",
          "Smoke & Mirrors",
          "Voiceless",
          "The Hunted",
          "A Low Down Dirty Shame",
          "Prem Ratan Dhan Payo",
          "G.I. Jane",
          "Continental",
          "Everybody Knows",
          "Reality Bites",
          "Valley of the Dolls",
          "Hombre",
          "Believe",
          "Top Dog",
          "Bengal Tiger",
          "To Catch a Thief",
          "Bunraku",
          "42nd Street",
          "Whiskey Tango Foxtrot",
          "The Continent",
          "Heathers",
          "Cruel World",
          "Power of Attorney",
          "The Two Jakes",
          "Heavy Traffic",
          "The Big Parade",
          "The House on Sorority Row",
          "2010",
          "Somebody Up There Likes Me",
          "Scribblers",
          "Mohenjo Daro",
          "Macon County Line",
          "Abracadabra",
          "Intolerance: Love's Struggle Throughout the Ages",
          "Tara Road",
          "Shadow Conspiracy",
          "She's Gotta Have It",
          "The Age of Shadows",
          "Aśoka",
          "Hot to Trot",
          "Veer-Zaara",
          "A Long Way Off",
          "Soulless 2",
          "Rules Don't Apply",
          "Scary Movie 4",
          "The Double Hour",
          "One More Round",
          "Bitter Harvest",
          "Xchange",
          "Mirzya",
          "Big Fan",
          "Frankenstein Unbound",
          "The Curse of Frankenstein",
          "I Smile Back",
          "R.A.I.D. Special Unit",
          "Top Hat",
          "Act of Violence",
          "The Goalie's Anxiety at the Penalty Kick",
          "Eyes of Laura Mars",
          "Charly",
          "Black Snow",
          "Club Paradise",
          "In Country",
          "Force 2",
          "Original Gangstas",
          "The War in Space",
          "Toro",
          "Sanam Re",
          "Caché",
          "The Immortals",
          "Out for a Kill",
          "Tangerine",
          "Todo menos la chica",
          "Mummy, I'm a Zombie",
          "Animal Kingdom",
          "Teenage Mutant Ninja Turtles: Out of the Shadows",
          "Holy Camp!",
          "Standing Tall",
          "Khatta Meetha",
          "The Darkest Minds",
          "Trapeze",
          "Anjaana Anjaani",
          "The Spanish Prisoner",
          "Bob & Carol & Ted & Alice",
          "A Soldier's Story",
          "Heal the Living",
          "Danger Signal",
          "Sweet Charity",
          "The Tulse Luper Suitcases, Part 3: From Sark to the Finish",
          "Woman Thou Art Loosed",
          "Transformers: Dark of the Moon",
          "Aftershock",
          "Table for Five",
          "The Death of Mr. Lazarescu",
          "X-Men: The Last Stand",
          "The Tempest",
          "The Deep End of the Ocean",
          "Fashion Chicks",
          "Solarbabies",
          "In a Better World",
          "Mike's Murder",
          "Contempt",
          "Winter Carnival",
          "20th Century Boys 1: Beginning of the End",
          "D'Unbelievables D'Mother",
          "Meet the Deedles",
          "Captain Hurricane",
          "The Heart is Deceitful Above All Things",
          "Mayday! Überfall auf hoher See",
          "Moonlight Mile",
          "X-Men",
          "X2",
          "The Born Losers",
          "Sidewalks of New York",
          "Noises Off...",
          "The Thief and the Cobbler",
          "Shane",
          "Only The Brave",
          "Indecent Proposal",
          "Pollyanna",
          "Bling",
          "D'Unbelievables D'Telly",
          "A Ghost Story",
          "Solitary Man",
          "The Tulse Luper Suitcases, Part 1: The Moab Story",
          "Perfect Opposites",
          "Love",
          "3 Godfathers",
          "The Gospel of John",
          "The Sailor Takes a Wife",
          "300 Worte Deutsch",
          "The Lost World: Jurassic Park",
          "Curse of the Pink Panther",
          "The Tulse Luper Suitcases, Part 2: Vaux to the Sea",
          "The Little Prince",
          "Reckless Kelly",
          "All the Money in the World",
          "A Quiet Place",
          "Wonder",
          "Sunset",
          "Space Dogs",
          "Deadly Delicious",
          "Our Russia. Eggs of Destiny",
          "The Adventures of Huck Finn",
          "The Disappearance of Alice Creed",
          "The Newton Boys",
          "Trio",
          "Antikiller D.K",
          "Punchline",
          "From Justin to Kelly",
          "A Star Is Born",
          "Black Lightning",
          "Desert Hearts",
          "Guadalupe",
          "The Losers",
          "D'Unbelievables One Hell of a Do",
          "4.3.2.1",
          "kalabi",
          "I Hate Luv Storys",
          "Diamond 13",
          "The Agony and the Ecstasy",
          "The Train",
          "Soul Kitchen",
          "Norma Rae",
          "Tim",
          "Kidnap",
          "Hesher",
          "For Colored Girls Who Have Considered Suicide/When The Rainbow Is Enuf",
          "My Baby's Daddy",
          "Scandalize My Name: Stories from the Blacklist",
          "Loose Cannons",
          "Sleight",
          "The Enforcer",
          "One, Two, Three",
          "Macabre",
          "An Unmarried Woman",
          "Horoscope for Good Luck",
          "Off Limits",
          "Poor White Trash",
          "Tevar",
          "The Time That Remains",
          "The Legend of the Lone Ranger",
          "Paradise",
          "Lone Star",
          "Kitchen in Paris",
          "Switching Channels",
          "Passion Play",
          "Six Degrees of Celebration 1914",
          "Roadgames",
          "Waiting to Exhale",
          "Flesh and the Devil",
          "Çalgı Çengi İkimiz",
          "Dhoom 3",
          "Lady Frankenstein",
          "Would I Lie to You? 2",
          "Trust",
          "Spanish Affair 2",
          "Machine",
          "Heaven's Prisoners",
          "Myra Breckinridge",
          "Never on Sunday",
          "Big Bully",
          "Eegah",
          "The Killer Shrews",
          "Taras Bulba",
          "Memoirs of an Invisible Man",
          "Little Ashes",
          "Snow Cake",
          "Let's Do It Again",
          "Have Fun, Vasya!",
          "Lion of the Desert",
          "Chasing the Dragon",
          "Things We Lost in the Fire",
          "The Invincible Dragon",
          "Candidate",
          "Bajrangi Bhaijaan",
          "I Am Not Your Negro",
          "Hot Pursuit",
          "The Mudge Boy",
          "The Devil Wears Prada",
          "Black Rain",
          "Don 2",
          "Edison And Leo",
          "I Am Love",
          "Evil Angels",
          "Boogie Woogie",
          "Black and White",
          "The Beast from 20,000 Fathoms",
          "Double Lover",
          "The Cat's Meow",
          "Mars: Pioneering the Planet",
          "Hum Tum Aur Ghost",
          "Under Siege 2: Dark Territory",
          "By the Sea",
          "The Lords of Flatbush",
          "Monique",
          "The Pirate",
          "Rann",
          "Samba",
          "The Metamorphosis",
          "Car 54, Where Are You?",
          "Mercy Streets",
          "Furry Vengeance",
          "U2 3D",
          "Bangistan",
          "On the Town",
          "Friendly Persuasion",
          "No Holds Barred",
          "A Woman Is a Woman",
          "Jolly LLB 2",
          "Saint John of Las Vegas",
          "The Legend of Bhagat Singh",
          "Heartbreaker",
          "Queen Christina",
          "The Nun's Story",
          "Legend of the Guardians: The Owls of Ga'Hoole",
          "How Green Was My Valley",
          "The Fury of a Patient Man",
          "Christian Mingle",
          "Spacehunter: Adventures in the Forbidden Zone",
          "I Was a Teenage Werewolf",
          "To Steal from a Thief",
          "Melodin från Gamla Stan",
          "Seven Minutes in Heaven",
          "The Big Picture",
          "Ki & Ka",
          "Pinocchio and the Emperor of the Night",
          "Foolish Wives",
          "The First Power",
          "PK",
          "Payback",
          "The Thin Man",
          "The Concorde... Airport '79",
          "The Lucky Man",
          "Someone to Watch Over Me",
          "The Irony of Fate. The Sequel",
          "Fightin' Fools",
          "Ben-Hur: A Tale of the Christ",
          "Gemini Man",
          "Gold Diggers of 1933",
          "What Men Talk About",
          "Gautamiputra Satakarni",
          "Silent Rage",
          "The Villain",
          "Ca$h",
          "Robot Monster",
          "The Naked Gun 2½: The Smell of Fear",
          "Slack Bay",
          "A Guy Named Joe",
          "Cartels",
          "Católicos",
          "For Me and My Gal",
          "Dear Zindagi",
          "Major Dundee",
          "The Marrying Man",
          "Carlos",
          "Mishima: A Life in Four Chapters",
          "New Year's Eve",
          "Parts Per Billion",
          "Bend It Like Beckham",
          "Real Steel",
          "Pink",
          "Godzilla 1985",
          "Island in the Sun",
          "Gemma Bovery",
          "Young Soul Rebels",
          "Mata Hari",
          "Wise Guys",
          "Crazy Rich Asians",
          "Shalako",
          "Mr. Stein Goes Online",
          "Max & Leon",
          "The Round Up",
          "The Hunchback of Notre Dame",
          "Suite Française",
          "Carnosaur",
          "Becoming Jane",
          "The Miracle of the Bells",
          "The Green Carriage",
          "Bathing Beauty",
          "A Countess from Hong Kong",
          "The Meaning of Life",
          "Affliction",
          "Heyy Babyy",
          "2.0",
          "Bombay Velvet",
          "Fort Apache",
          "All The Queen's Men",
          "Yuva",
          "Zyzzyx Road",
          "Mighty Joe Young",
          "Breakout",
          "Rubber",
          "Cousins",
          "Mr. Hobbs Takes a Vacation",
          "Desperate Hours",
          "Fatal",
          "The Joneses",
          "Revolutionary Road",
          "My Life as a Zucchini",
          "The Romantics",
          "Would I Lie to You?",
          "Geronimo: An American Legend",
          "Judwaa 2",
          "Hindi Medium",
          "Everything Must Go",
          "Michael Clayton",
          "Journey to the West: The Demons Strike Back",
          "A Regular Thing",
          "Graduation",
          "Dulha Mil Gaya",
          "Trash",
          "Roar",
          "Black Rose",
          "Sugar Hill",
          "2 Fast 2 Furious",
          "RoboCop 2",
          "The Extraordinary Adventures of Adèle Blanc-Sec",
          "Women in Trouble",
          "Gloria",
          "The DUFF",
          "The Greatest Show on Earth",
          "The Broadway Melody",
          "Mahabharat",
          "The Silver Chalice",
          "Pharaoh",
          "Charlie Wilson's War",
          "Anna Karenina",
          "A Better Life",
          "Wag the Dog",
          "The Japon",
          "The New Year's Rate Plan",
          "The Innkeepers",
          "Boris - Il film",
          "Star!",
          "The Favor",
          "Crimean Bridge. Made With Love!",
          "Stereoblood",
          "Family Plot",
          "Woo",
          "The Birth of a Nation",
          "Waltzing Anna",
          "Lust, Caution",
          "Muslum",
          "About Love. Adults Only",
          "Boom Town",
          "Superlopez",
          "Closet Land",
          "Prospero's Books",
          "Girl 6",
          "FRED: The Movie",
          "Happy Birthday",
          "Marnie",
          "Empowered",
          "Twice Upon a Time in the West",
          "Killing Zoe",
          "Grand Central Murder",
          "Neon Flesh",
          "Zor",
          "Quest for Fire",
          "Blue in the Face",
          "Bolero",
          "Silent Night, Deadly Night Part 2",
          "The End of Poverty?",
          "The Awakener",
          "The Riven",
          "Brightburn",
          "Thawed Carp",
          "C.H.U.D. II: Bud the Chud",
          "Snow Flower and the Secret Fan",
          "Henry's Crime",
          "Wild Bill",
          "Kokowääh",
          "Hollywood & Wine",
          "Constellation",
          "Spy Cat",
          "The Conversation",
          "Sad Hill Unearthed",
          "Godzilla vs. Mechagodzilla II",
          "The Air Up There",
          "Cavalcade",
          "Mardaani 2",
          "The Mother",
          "Sarah's Key",
          "Khelein Hum Jee Jaan Sey",
          "The Beaver",
          "Burnt by the Sun",
          "From My Window, Without a Home",
          "Jiu Jitsu",
          "December Boys",
          "The Monk",
          "The Wounds",
          "Mosebacke monarki",
          "Apartment Zero",
          "Disappearances",
          "Shadowboxing",
          "A Bridge Too Far",
          "Higher Ground",
          "The Super",
          "The Hours",
          "Sabrina",
          "Ready",
          "Haikyuu!! Movie 4: Battle of Concepts",
          "Babumoshai Bandookbaaz",
          "A Fish Called Wanda",
          "El Dorado",
          "The Sugarland Express",
          "Yellow Is Not Just the Color of the Sun",
          "The Body of My Enemy",
          "Whispers: An Elephant's Tale",
          "The Sand Pebbles",
          "The Getaway",
          "Baywatch: Hawaiian Wedding",
          "Barood",
          "Bigger Than the Sky",
          "Of Gods and Men",
          "Love, Wedding, Marriage",
          "The Killing Fields",
          "Bamako",
          "Love in the Time of Cholera",
          "Limbo",
          "Scoop",
          "Morphine",
          "William & Kate",
          "Cold Harvest",
          "Lovey-Dovey 2",
          "The Devil's Double",
          "Central Station",
          "The Good Liar",
          "The Music Never Stopped",
          "Savages",
          "Fred Claus",
          "Joe",
          "Dingo",
          "The Fox and the Child",
          "My Own Private Idaho",
          "Offending Angels",
          "Fanny and Alexander",
          "Fiza",
          "Beyond",
          "The Pledge",
          "The Perez Family",
          "Son of the Pink Panther",
          "Hannah and Her Sisters",
          "Barney's Version",
          "Cameron's Closet",
          "Rio Rita",
          "The Last Circus",
          "Kölcsönlakás",
          "Quiet City",
          "Permanent Record",
          "30 Days",
          "Atlas Shrugged: Part I",
          "Star of Midnight",
          "Klute",
          "The 5th Quarter",
          "Love's Labour's Lost",
          "Eye of the Dolphin",
          "Second Name",
          "Delhi Belly",
          "O Astrapogiannos",
          "Pee-wee's Big Adventure",
          "Living Out Loud",
          "Meet Monica Velour",
          "Hoosiers",
          "Intersection",
          "The Rose of the Rancho",
          "Fast Five",
          "Bad Dreams",
          "Dum Maaro Dum",
          "Brotherhood of the Wolf",
          "At Play in the Fields of the Lord",
          "Armed Response",
          "Search and Destroy",
          "The Treatment",
          "The Chamber",
          "Harry Potter and the Chamber of Secrets",
          "Power",
          "Judgment Night",
          "Mr. Saturday Night",
          "Hard Contract",
          "Love, Sex, and Eating the Bones",
          "At Long Last Love",
          "BlackJack",
          "Judy Moody and the Not Bummer Summer",
          "Crook",
          "The Realm",
          "Five Graves to Cairo",
          "Vixen!",
          "Dream.net",
          "Blood, Guts, Bullets and Octane",
          "Beyond the Valley of the Dolls",
          "3:10 to Yuma",
          "Mickey",
          "Blue Car",
          "Gamera 3: Revenge of Iris",
          "Come tu mi vuoi",
          "Young Adult",
          "The Extra Man",
          "Bliss",
          "The Goya Murders",
          "I Can Quit Whenever I Want",
          "The Private Life of Sherlock Holmes",
          "The Wind in the Willows",
          "Eila",
          "Killer School Girls from Outer Space",
          "The Ape",
          "The Matrix",
          "Aloha, Bobby and Rose",
          "The Conspirator",
          "Pina",
          "Shubh Mangal Saavdhan",
          "Another Happy Day",
          "West Is West",
          "The Last Warrior",
          "There's Something About Mary",
          "Frenzy",
          "Mondays in the Sun",
          "Racing with the Moon",
          "Transamerica",
          "Hey Ram",
          "Carefree",
          "The Guard",
          "Swordsman",
          "Mother Teresa of Calcutta",
          "A Whole Life Ahead",
          "Gooische Vrouwen",
          "Arbitrage",
          "Love in Persian",
          "Black Bread",
          "Dolphins and Whales: Tribes of the Ocean",
          "One Eight Seven",
          "Come Back to the 5 & Dime, Jimmy Dean, Jimmy Dean",
          "The Robber",
          "Stealing Sinatra",
          "Nothing to Declare",
          "Inhumans: The First Chapter",
          "The Company",
          "Mickey",
          "Tom Jones",
          "The Princess of Montpensier",
          "Faithful",
          "On the Hook!",
          "Joker",
          "Hot Naked Sex & the City",
          "Kings Can Do Everything",
          "Gloss",
          "American Dresser",
          "Little Ghost",
          "Drugstore Cowboy",
          "Basquiat",
          "Tiny Furniture",
          "Last Christmas",
          "Poison",
          "Sankofa",
          "Swoon",
          "Spirit of the Forest",
          "Torn Curtain",
          "Paradise",
          "Stay Hungry",
          "Bodies, Rest & Motion",
          "Guinevere",
          "The Painted Bird",
          "Katyusha",
          "Sleeping Beauty",
          "Scenes from a Mall",
          "Megalodon",
          "Hidden 3D",
          "Bummer 2",
          "Tumbleweeds",
          "Contact",
          "Nadine",
          "3 Strikes",
          "Extremely Loud & Incredibly Close",
          "City of Joy",
          "Zindagi Na Milegi Dobara",
          "Shanghai Surprise",
          "Black Friday",
          "Alvin and the Chipmunks",
          "The Other Woman",
          "Love! Valour! Compassion!",
          "Honky Tonk Freeway",
          "Lookin' to Get Out",
          "Ruby in Paradise",
          "Sphinx",
          "Push",
          "Church Ball",
          "The Gun in Betty Lou's Handbag",
          "Shaolin",
          "The Spitfire Grill",
          "Dogville",
          "Alvin and the Chipmunks: Chipwrecked",
          "Arachnophobia",
          "Ladyhawke",
          "The Sentinel",
          "Mulk",
          "Under the Rainbow",
          "Sweet Sweetback's Baadasssss Song",
          "When Time Ran Out...",
          "Chalet Girl",
          "White Dog",
          "Thank You",
          "Dil Toh Baccha Hai Ji",
          "We will die together",
          "Money for Nothing",
          "Walk the Line",
          "Tanu Weds Manu",
          "Run",
          "The White Massai",
          "Shaft",
          "The Terrorist",
          "The Apparition",
          "Parasite",
          "Veere Di Wedding",
          "The X Files",
          "The House of Usher",
          "The Book of Mormon Movie, Volume 1: The Journey",
          "Dragonslayer",
          "Agneepath",
          "Raisin the Stakes: A Rock Opera in Three Acts",
          "Benvenuti al Sud",
          "Tingles",
          "Welcome to the North",
          "Halloween: The Curse of Michael Myers (The Producer's Cut)",
          "Devil in a Blue Dress",
          "Incident at Loch Ness",
          "The Man Who Loved Women",
          "Thief of Hearts",
          "Lynch Mob",
          "A Few Best Men",
          "The Cook, the Thief, His Wife & Her Lover",
          "Elles",
          "The Seventh Cross",
          "Who Framed Roger Rabbit",
          "The House of Sun",
          "House of the Dead - Director's Cut",
          "ACAB : All Cops Are Bastards",
          "The Hunger Games",
          "My Way",
          "Dick Tracy",
          "A Streetcar Named Desire",
          "The Student Teachers",
          "Tezz",
          "Master and Commander: The Far Side of the World",
          "The Cheat",
          "The Exorcism of Emily Rose",
          "Josh and S.A.M.",
          "Stuck on You!",
          "A Hard Day's Night",
          "Tom, Dick and Harry",
          "Labios Rojos",
          "Vasool Raja MBBS",
          "Thomas And The Magic Railroad [20th Anniversary Edition]",
          "Tsotsi",
          "Never Talk to Strangers",
          "Seven Psychopaths",
          "Would I Lie to You? 3",
          "Planet of the Apes",
          "The African Queen",
          "Calendar Girls",
          "A Little Night Music",
          "Knockaround Guys",
          "Singham",
          "King of the Mountain",
          "A Man for All Seasons",
          "The Black Balloon",
          "Like Stars on Earth",
          "The Sea of Grass",
          "Bulletproof",
          "Ann Rule Presents: The Stranger Beside Me",
          "Idiocracy",
          "Jefferson in Paris",
          "Cocktail",
          "Sparkle",
          "Is This Water?",
          "Sunday",
          "The Last Godfather",
          "Manny & Lo",
          "99 francs",
          "Il Divo",
          "Against the Ropes",
          "Jumanji",
          "Yes, Giorgio",
          "Alice in Wonderland",
          "Anna Karenina",
          "Steel",
          "Dude, Where's My Car?",
          "Hobo with a Shotgun",
          "Vampire's Kiss",
          "Johnny the Partisan",
          "The Best Years of Our Lives",
          "How the Grinch Stole Christmas",
          "Straight Lines: A Documentary",
          "Beremennyy",
          "Isn't She Great",
          "keep on smiling",
          "The Oranges",
          "Rampart",
          "All the President's Men",
          "Angel Town",
          "Now You See Me",
          "The Rocket: The Legend of Rocket Richard",
          "Rascals",
          "I Love You Phillip Morris",
          "Finding Forrester",
          "Love Letters",
          "Boogeyman",
          "ATM",
          "The Out-of-Towners",
          "The Wolverine",
          "Tentacles",
          "Birdman of Alcatraz",
          "Gully Boy",
          "Paws",
          "Stop-Loss",
          "Bopha!",
          "Ласковый май",
          "1911",
          "Just Like Heaven",
          "Midnight Run",
          "Squeeze",
          "Cops and Robbers",
          "Meet the Applegates",
          "For Love or Money",
          "The Banger Sisters",
          "Edge of Seventeen",
          "Gone Fishin'",
          "Blue Fin",
          "GS-MDS",
          "Hum Tumhare Hain Sanam",
          "Living in Oblivion",
          "Black Book",
          "Hang 'em High",
          "Ask Any Girl",
          "Corporal vs. Napoleon",
          "Dangerous Game",
          "Shaft's Big Score!",
          "Harlem Nights",
          "The American President",
          "Samar",
          "Mary Reilly",
          "Beats",
          "Medicine Man",
          "Home Alone",
          "Sunny",
          "L!fe Happens",
          "Late Autumn",
          "Black Gold",
          "Resident Evil: Extinction",
          "Aiyaary",
          "Hichki",
          "Your Friends & Neighbors",
          "Perfect",
          "Rough Cut",
          "Shaft in Africa",
          "Resident Evil: Retribution",
          "Xuxinha e Guto contra os Monstros do Espaço",
          "Blind Date",
          "Behind the Burly Q",
          "Leatherheads",
          "Trois",
          "Dead Man",
          "The Worst Week of My Life",
          "Willie and Phil",
          "Motorkavaljerer",
          "Shipwrecked",
          "Get on the Bus",
          "Do the Right Thing",
          "Bernie",
          "A Home of Our Own",
          "The Wedding Banquet",
          "Tough Guys Don't Dance",
          "Now and Then",
          "An Alan Smithee Film: Burn, Hollywood, Burn",
          "And Now for Something Completely Different",
          "Chicken with Plums",
          "Femme Fatale",
          "The Longest Day",
          "Premium Rush",
          "John Carter",
          "Be Kind Rewind",
          "Monster House",
          "Lucky Lady",
          "Orlando",
          "X-Men: First Class",
          "Drop Zone",
          "Kolya",
          "Last Man Standing",
          "Steal Big Steal Little",
          "Beneath the Darkness",
          "Garv: Pride and Honour",
          "Marche avec moi",
          "Shine",
          "Down in the Valley",
          "Bloodhounds of Broadway",
          "Ted",
          "Dan in Real Life",
          "Carnage",
          "For a Few Dollars More",
          "Welcome to the Punch",
          "In the Line of Fire",
          "Thank You for Smoking",
          "Renaissance",
          "Before the Fall: Hitler's Elite",
          "Aarakshan",
          "Lost Place",
          "Sanju",
          "The Man Who Knew Too Little",
          "The Dinner Game",
          "A Civil Action",
          "Impostor",
          "Baaz: A Bird in Danger",
          "The Full Monty",
          "When I Grow Up",
          "Leef!",
          "Blue Velvet",
          "Chariots of Fire",
          "The Boost",
          "The Big Hit",
          "The Last Wave",
          "Action Replayy",
          "Black Serenade",
          "Woodstock",
          "Cookie's Fortune",
          "Chimpanzee",
          "The Nightmare Before Christmas",
          "The Tie That Binds",
          "Eyes of a Stranger",
          "Sagar Alias Jacky Reloaded",
          "Half Baked",
          "Witness to a Rape",
          "Armageddon",
          "In the Land of Blood and Honey",
          "Tanhaji : The Unsung Warrior",
          "Dhada",
          "Kindergarten Cop",
          "The Five of Us",
          "Garfield: A Tail of Two Kitties",
          "Catcher: Cat City 2",
          "Lightning Strikes Twice",
          "Yes Boss",
          "Analyze This",
          "Bad Moon",
          "Before Sunset",
          "Scanners",
          "Dead Ringers",
          "Blues for Life",
          "Sin",
          "The Adventures of Ford Fairlane",
          "Good Morning, Vietnam",
          "The Exorcist",
          "A Perfect World",
          "American Gangster",
          "Ender's Game",
          "Tootsie",
          "Divine Secrets of the Ya-Ya Sisterhood",
          "Convoy",
          "Batman Beyond: Tech Wars / Disappearing Inque",
          "The Bonfire of the Vanities",
          "Cowboys & Aliens",
          "The Longest Yard",
          "Single White Female",
          "Matchstick Men",
          "The Fast and the Furious: Tokyo Drift",
          "Train of Life",
          "The Gold Rush",
          "W.E.",
          "The Negotiator",
          "Barbarella",
          "For Greater Glory: The True Story of Cristiada",
          "The Last Lear",
          "Band of Outsiders",
          "Om Shanti Om",
          "The Savage Eye",
          "Broken Embraces",
          "The Triplets of Belleville",
          "Ringu 2",
          "Diaz - Don't Clean Up This Blood",
          "Repentance",
          "Sideways",
          "Jack the Giant Slayer",
          "Keeping Mum",
          "Running Time",
          "Happy",
          "Lady in the Water",
          "The Lost City",
          "Holy Man",
          "The Dirty Picture",
          "Hope Floats",
          "Lovely & Amazing",
          "Desperately Seeking Susan",
          "Talladega Nights: The Ballad of Ricky Bobby",
          "Bewitched",
          "Killing the Shadows",
          "Hannibal",
          "A Lonely Place to Die",
          "Vedam",
          "Rust and Bone",
          "Bad Boys",
          "Fletch",
          "Silenced",
          "Break Ke Baad",
          "Mad City",
          "Simpatico",
          "The Sisterhood of the Traveling Pants",
          "Hate Story IV",
          "Detroit Rock City",
          "Lords of Dogtown",
          "It Runs in the Family",
          "Animal Factory",
          "Attack of Jeffree Star",
          "Synonyms",
          "The Nutcracker",
          "(T)Raumschiff Surprise - Periode 1",
          "Paragraph 78: Film Two",
          "Heartbeeps",
          "The Manchurian Candidate",
          "Captive",
          "The Man Who Knew Too Much",
          "The Painted Veil",
          "The Man Who Would Be King",
          "The Samaritan",
          "Jane Austen's Mafia!",
          "King Solomon's Mines",
          "From Prada to Nada",
          "The Opposite of Sex",
          "Dance with the Devil",
          "Sister, Sister",
          "My Favorite Martian",
          "Hitler's Children",
          "Eraserhead",
          "The Myth of Fingerprints",
          "Half-Life: Alyx",
          "People Like Us",
          "Explorers",
          "The China Syndrome",
          "Playing by Heart",
          "Man of the Year",
          "Savages",
          "Jeff, Who Lives at Home",
          "The Producers",
          "The Hoax",
          "Two for the Money",
          "Gangster Squad",
          "Go Go Tales",
          "Julia",
          "Legal Eagles",
          "Kahaani",
          "Straw Dogs",
          "Down and Out in Beverly Hills",
          "Gorky Park",
          "Poetic Justice",
          "Find Me Guilty",
          "Freedomland",
          "Sparrows",
          "Fast & Furious 6",
          "Forbidden Planet",
          "Last Minute Marocco",
          "Rampage",
          "Pink Flamingos",
          "Swim High - The Military Industrial Complex",
          "Antitrust",
          "Love Child",
          "Antibodies",
          "Blindness",
          "The Red Baron",
          "Cloud Atlas",
          "An Affair to Remember",
          "Middle of Nowhere",
          "Transformers: Revenge of the Fallen",
          "On the Road",
          "Citizen",
          "American Graffiti",
          "Albert Nobbs",
          "Parasuram",
          "How High",
          "Na Tum Jaano Na Hum",
          "What's Up, Doc?",
          "The Big Year",
          "Creature",
          "My Best Girl",
          "Wilson",
          "Karusellen går",
          "2 Days in New York",
          "For a Good Time, Call...",
          "Lay the Favorite",
          "Shadow Dancer",
          "Your Sister's Sister",
          "Fanaa"
         ],
         "type": "scattergl",
         "x": [
          200000000,
          17000000,
          75000000,
          90000000,
          42000000,
          200000000,
          85000000,
          200000000,
          100000000,
          150000000,
          26000000,
          175000000,
          300000000,
          12400000,
          15,
          125000000,
          160000000,
          356000000,
          85000000,
          28000000,
          100000000,
          150000000,
          2011799,
          40000000,
          9000000,
          14000000,
          183000000,
          260000000,
          205000000,
          40000000,
          55000000,
          115000000,
          10000000,
          26000000,
          35000000,
          79000000,
          3500000,
          42000000,
          22000000,
          150000000,
          40000000,
          21000000,
          175000000,
          150000000,
          250000000,
          67000000,
          90000000,
          175000000,
          7000000,
          50000000,
          170000000,
          129000000,
          200000000,
          40000000,
          13000000,
          178000000,
          152000000,
          5000000,
          116000000,
          109000000,
          80000000,
          48000000,
          100000000,
          170000000,
          150000000,
          4000000,
          175000000,
          180000000,
          80000000,
          175000000,
          22000000,
          300000000,
          40000000,
          150000000,
          125000000,
          49000000,
          40000000,
          130000000,
          11363000,
          70000000,
          149000000,
          110000000,
          125000000,
          200000000,
          200000000,
          34000000,
          88000000,
          40000000,
          75000000,
          15000000,
          25000000,
          125000000,
          11000000,
          27000000,
          97600000,
          135000000,
          250000000,
          160000000,
          150000000,
          28000000,
          13500000,
          58000000,
          10000000,
          1000000,
          4000000,
          50000000,
          125000000,
          250000000,
          68000000,
          165000000,
          120000000,
          16000000,
          11000000,
          110000000,
          90000000,
          150000000,
          250000000,
          97000000,
          178000000,
          165000000,
          55000000,
          237000000,
          20000000,
          13000000,
          250000000,
          18000000,
          185000000,
          132000000,
          3000000,
          87500000,
          33000000,
          40000000,
          150000000,
          34000000,
          125000000,
          250000000,
          35000000,
          40000000,
          110000000,
          50000000,
          60000000,
          135000000,
          4000000,
          60000000,
          165000000,
          4000000,
          23934823,
          12000000,
          9000000,
          40000000,
          75000000,
          150000000,
          22000000,
          250000000,
          20000000,
          8820000,
          140000000,
          84000000,
          48000000,
          3500000,
          97000000,
          185000000,
          52000000,
          200000000,
          36,
          250000000,
          120000000,
          15000000,
          4500000,
          40000000,
          100000000,
          51000000,
          200000000,
          120000000,
          111000000,
          7000,
          150000000,
          145000000,
          50000000,
          37000000,
          200000000,
          80000000,
          200000000,
          14000000,
          550000,
          25000000,
          62000000,
          19000000,
          90000000,
          180000000,
          34000000,
          24000000,
          58800000,
          29000000,
          160000000,
          100000000,
          125000000,
          175000000,
          110000000,
          15000000,
          68000000,
          88000000,
          69000000,
          12000000,
          12000000,
          170000000,
          5000000,
          11000000,
          29900000,
          125000000,
          165000000,
          60000000,
          20000000,
          60000000,
          40000000,
          130000000,
          10000000,
          200000000,
          30000000,
          180000000,
          140000000,
          20000000,
          30000000,
          200000000,
          95000000,
          139000000,
          40000000,
          155000000,
          145000000,
          200000000,
          68000000,
          94000000,
          250000000,
          258000000,
          30000000,
          18300000,
          20000000,
          140000000,
          22000000,
          230000000,
          20000000,
          105000000,
          35000000,
          93000000,
          140000000,
          175000000,
          15000000,
          165000000,
          150000000,
          110000000,
          90000000,
          79000000,
          150000000,
          190000000,
          59000000,
          104000000,
          35000000,
          7000000,
          62000000,
          11936735,
          80000000,
          250000000,
          35000000,
          250000000,
          60000000,
          25000000,
          40000000,
          50000000,
          50000000,
          18000000,
          100000000,
          1200000,
          19000000,
          165000000,
          11000000,
          800000,
          5000000,
          150000000,
          170000000,
          200000000,
          35000000,
          150000000,
          177200000,
          300000000,
          140000000,
          40000000,
          50000000,
          20000000,
          217000000,
          45000000,
          108000000,
          61000000,
          200000000,
          3500000,
          85000000,
          5000000,
          130000000,
          95000000,
          60000000,
          14000000,
          6400000,
          50000000,
          2000000,
          30000000,
          115000000,
          95000000,
          176000003,
          100000000,
          10000000,
          245000000,
          15000,
          120000000,
          40000000,
          94000000,
          12000000,
          40000000,
          160000000,
          38000000,
          5000000,
          150000000,
          5000000,
          55000000,
          50000000,
          210000000,
          200000000,
          19000000,
          15000000,
          90000000,
          2500000,
          90000000,
          80000,
          95000000,
          85000000,
          9000000,
          45000000,
          250000000,
          4200000,
          80000000,
          250000000,
          30000000,
          25000000,
          18300000,
          150000000,
          26000000,
          85000000,
          1800000,
          103000000,
          9000000,
          4000000,
          130000000,
          95000000,
          3700000,
          16000000,
          215000000,
          80000000,
          16000000,
          180000000,
          207000000,
          14000000,
          150000000,
          30000000,
          175000000,
          1250000,
          30000000,
          37000000,
          7000000,
          150000000,
          260000000,
          40000000,
          160000000,
          178000000,
          80000000,
          150000000,
          102000000,
          9000000,
          4000000,
          4000000,
          4000000,
          70000000,
          22000000,
          76000000,
          200000000,
          60000000,
          110000000,
          81000000,
          25000000,
          245000000,
          35000000,
          30000000,
          2000000,
          12600000,
          40000000,
          20000000,
          85000000,
          73000000,
          14000000,
          100000000,
          42000000,
          150000000,
          7000000,
          58000000,
          6000000,
          15000000,
          4000000,
          9000000,
          4000000,
          159000000,
          135000000,
          20000000,
          150000000,
          24000000,
          13000000,
          31000000,
          79000000,
          5000000,
          25000000,
          55000000,
          175000000,
          30000000,
          47000000,
          55000000,
          100000000,
          2600000,
          80000000,
          70000000,
          90000000,
          160000000,
          50000000,
          9500000,
          60000000,
          44000000,
          3598902,
          5000000,
          70000000,
          10000000,
          25000000,
          1000000,
          19500000,
          45000000,
          130000000,
          49000000,
          19000000,
          3300000,
          185000000,
          170000000,
          66190000,
          110000000,
          30000000,
          16000000,
          55000000,
          94000000,
          160000000,
          55000000,
          90000000,
          63000000,
          100000000,
          175000000,
          23600000,
          1500000,
          38000000,
          17000000,
          11000000,
          36000000,
          32000000,
          170000000,
          65000000,
          69000000,
          7000000,
          2900000,
          35000000,
          20000000,
          180000000,
          39000000,
          20000000,
          5400000,
          165000000,
          8000000,
          11000000,
          23000000,
          92000000,
          45000000,
          150000000,
          125000,
          19000000,
          15000000,
          19000000,
          21000000,
          45000000,
          20000000,
          37500000,
          35000000,
          29000000,
          10000000,
          4000000,
          10200000,
          100000000,
          95000000,
          22000000,
          57000000,
          40000000,
          30000000,
          30000000,
          40000000,
          12000000,
          19000000,
          78000000,
          350000,
          11000000,
          6500000,
          125000000,
          200000000,
          15000000,
          10000000,
          145000000,
          40000000,
          10000000,
          27000000,
          5000000,
          175000000,
          8000000,
          28000000,
          15000000,
          2000000,
          13000000,
          110000000,
          5000000,
          44000000,
          16000000,
          160000000,
          30000000,
          10000000,
          7000000,
          5000000,
          54000000,
          40000000,
          100000000,
          20000000,
          50000000,
          140000000,
          1000000,
          30000000,
          25000000,
          35000000,
          103000000,
          15000000,
          145000000,
          20000000,
          1500000,
          225000000,
          12000000,
          40000000,
          12000000,
          19000000,
          35000000,
          165000000,
          175000000,
          68000000,
          11000000,
          90000000,
          70000000,
          69000000,
          6000000,
          144000000,
          120000000,
          660000,
          90000000,
          32000000,
          150000000,
          1488423,
          95000000,
          145000000,
          38000000,
          140000000,
          130000000,
          18000000,
          92000000,
          4500000,
          90000000,
          103000000,
          40000000,
          1686858,
          200000000,
          135000000,
          70000000,
          48000000,
          130000000,
          170000000,
          2600000,
          82000000,
          135000000,
          2000000,
          110000000,
          150000000,
          40000000,
          60000000,
          42000000,
          130000000,
          209000000,
          50000000,
          13200000,
          25000000,
          30000000,
          110000000,
          65000000,
          10800000,
          100000000,
          26000000,
          18000000,
          100000000,
          200000000,
          5027266,
          31000000,
          12000000,
          40000000,
          125000000,
          3000000,
          90000000,
          4000000,
          200000000,
          150000000,
          50000000,
          200000000,
          26000000,
          10000000,
          24000000,
          22000000,
          35000000,
          100000000,
          58000000,
          5000000,
          20000000,
          30000000,
          5000,
          35000000,
          3500000,
          5000000,
          42000000,
          40000000,
          30000000,
          150000000,
          10000000,
          75000000,
          7500000,
          5000000,
          8500000,
          30000000,
          3500000,
          30000000,
          15000000,
          20000000,
          6000000,
          35000000,
          15000000,
          66000000,
          100000000,
          80000000,
          1000000,
          2500000,
          55000000,
          10000000,
          9000000,
          29700000,
          26500000,
          150000000,
          27000000,
          105000000,
          19000000,
          23000000,
          7000000,
          95000000,
          37000000,
          33000000,
          70000000,
          100000000,
          20000000,
          900000,
          30000000,
          20000000,
          128000000,
          35000000,
          29000000,
          15000000,
          31500000,
          66000000,
          34000000,
          19000000,
          35000000,
          18000000,
          30000000,
          80000000,
          42000000,
          20000000,
          11500000,
          60000000,
          20000000,
          69000000,
          170000000,
          3000000,
          80000000,
          150000000,
          110000000,
          11000000,
          27000000,
          28000000,
          21000000,
          1300000,
          13000000,
          36000000,
          10000000,
          18500000,
          29000000,
          14000000,
          16000000,
          500000,
          225000000,
          50100000,
          2777000,
          60000000,
          10000000,
          70000000,
          48000000,
          133000000,
          30200000,
          47000000,
          145000000,
          25000000,
          13000000,
          6000000,
          45000000,
          3000000,
          60000000,
          40000000,
          4531653,
          25000000,
          35000000,
          69000000,
          175000000,
          1000000,
          13000000,
          5000000,
          14000000,
          190000000,
          45000000,
          61000000,
          8000000,
          40000000,
          4000000,
          40000000,
          160000000,
          3000000,
          70000000,
          20000000,
          60000000,
          200000000,
          38000000,
          30000000,
          65000000,
          18000000,
          80000000,
          806948,
          65000000,
          200000000,
          2200000,
          35000000,
          52000000,
          127000000,
          20000000,
          225000000,
          90000000,
          39307171,
          48000000,
          140000000,
          30000000,
          26000000,
          75000000,
          200000000,
          11800000,
          3400000,
          99000000,
          900000,
          35000000,
          85000000,
          132000000,
          120000000,
          40000000,
          18000000,
          14000000,
          150000000,
          1800000,
          6000000,
          17000000,
          130000000,
          25000000,
          40000000,
          65000000,
          80000000,
          90000000,
          74000000,
          13000000,
          1200000,
          13000000,
          50000000,
          15000000,
          49000000,
          12308000,
          9900000,
          125000000,
          3000000,
          11000000,
          3000000,
          3500000,
          90000000,
          150000000,
          60000000,
          6000000,
          30000000,
          11000000,
          35000000,
          30000000,
          5000000,
          40000000,
          4800000,
          65000000,
          150000000,
          35000000,
          63000000,
          50000000,
          26000000,
          15774948,
          10000000,
          41000000,
          858000,
          2900000,
          4900000,
          35000000,
          23000000,
          125000000,
          17000000,
          20000000,
          10000000,
          75000000,
          50000000,
          23000000,
          190000000,
          60000000,
          200000000,
          30000000,
          17000000,
          1000000,
          75000000,
          127500000,
          200000000,
          3500000,
          28000000,
          110000000,
          125000000,
          18000000,
          23000000,
          35000000,
          50000000,
          3000000,
          120000000,
          70000000,
          10000000,
          2500000,
          20000000,
          35000000,
          28000000,
          16000000,
          35000000,
          70000000,
          45000000,
          93000000,
          130000000,
          130000000,
          50000000,
          60000000,
          2000000,
          40000000,
          6500000,
          40000000,
          50000000,
          33000000,
          3500000,
          21000000,
          50000000,
          40000000,
          37000000,
          4800000,
          85000000,
          65000000,
          115000000,
          70000000,
          84000000,
          15000000,
          45000000,
          60000000,
          25000000,
          72000000,
          25000000,
          100000000,
          98000000,
          30000000,
          15000000,
          120000000,
          100000000,
          4000000,
          10000000,
          70000000,
          125000000,
          65000000,
          60000000,
          40000000,
          47000000,
          9000000,
          20000000,
          54000000,
          150000000,
          32000000,
          40000000,
          60000000,
          25000000,
          80000000,
          20000000,
          18000000,
          10000000,
          4000000,
          75000000,
          20000000,
          20000000,
          44000000,
          29500000,
          17000000,
          30000000,
          110000000,
          100000000,
          32679734,
          38000000,
          100000000,
          25000000,
          80000000,
          33000000,
          3500000,
          105000000,
          10000000,
          115000000,
          13000000,
          10000000,
          55000000,
          200000000,
          12000000,
          8500000,
          20000000,
          30000000,
          103000000,
          45000000,
          30000000,
          35000000,
          50000000,
          90000000,
          4300000,
          84000000,
          7000000,
          8575000,
          25000000,
          15000000,
          20000000,
          120000000,
          68000000,
          30000000,
          140000000,
          180000000,
          1000000,
          53000000,
          11000000,
          120000000,
          16000000,
          60000000,
          70000000,
          90000000,
          59000000,
          30000000,
          80000000,
          60000000,
          50000000,
          58000000,
          90000000,
          120000000,
          6000000,
          41677699,
          140000000,
          13000000,
          40000000,
          130000000,
          110000000,
          175000000,
          85000000,
          120000000,
          28000000,
          5000000,
          13000000,
          14000000,
          85000000,
          15000000,
          100000000,
          28000000,
          150000000,
          35000000,
          100000000,
          11000000,
          90000000,
          3300000,
          15000000,
          5300000,
          80000000,
          13300000,
          155000000,
          70000000,
          28000000,
          25000000,
          20000000,
          37000000,
          8000000,
          46000000,
          7000000,
          10000000,
          54000000,
          2280000,
          65000000,
          1500000,
          90000000,
          61000000,
          28000000,
          137000000,
          100000000,
          20000000,
          75000000,
          200000000,
          50000000,
          75000000,
          5500000,
          60000000,
          19000000,
          170000000,
          54000000,
          46000000,
          15000000,
          3000000,
          3000000,
          90000000,
          115000000,
          13000000,
          33000000,
          16000000,
          19000000,
          25000000,
          4000000,
          1000000,
          42000000,
          39000000,
          16000000,
          45000000,
          25000000,
          3200000,
          13000000,
          33000000,
          12600000,
          12000000,
          65000000,
          40000000,
          38000000,
          48000000,
          25000000,
          85000000,
          11500000,
          28000000,
          29000000,
          125000000,
          60000000,
          2200000,
          2000000,
          17000000,
          350000,
          100000000,
          12500000,
          140000000,
          37000000,
          75000000,
          6000000,
          3000000,
          22000000,
          6000000,
          75000000,
          12000000,
          13000000,
          3000000,
          85000000,
          9000000,
          175000000,
          120000000,
          19000000,
          90000000,
          3400000,
          70000000,
          70000000,
          24000000,
          27000000,
          32350000,
          10000000,
          70000000,
          25000000,
          45000000,
          50000000,
          150000000,
          30000000,
          80000000,
          150000000,
          5000000,
          105000000,
          10778400,
          30000000,
          130000000,
          16000000,
          70000000,
          10000000,
          25000000,
          1000000,
          2000000,
          50000000,
          1200000,
          3400000,
          170000000,
          100000000,
          10700000,
          59000000,
          90000000,
          30000000,
          40000000,
          30000000,
          50000000,
          60000000,
          6000000,
          15000000,
          30000000,
          16000000,
          50000000,
          20000000,
          17000000,
          75000000,
          120000000,
          18000000,
          1500000,
          125000000,
          1000000,
          12000000,
          45000000,
          50000000,
          21000000,
          113000000,
          35000000,
          65000000,
          9000000,
          12000000,
          48000000,
          11000000,
          5500000,
          55000000,
          45000000,
          175000000,
          6500000,
          100000000,
          7000000,
          10000000,
          20000000,
          63000000,
          14000000,
          13000000,
          170000000,
          40000000,
          300000,
          10500000,
          105000000,
          51000000,
          110000000,
          15000000,
          19000000,
          42000000,
          4000000,
          43000000,
          14000000,
          6000000,
          11500000,
          40000000,
          20000000,
          13000000,
          4000000,
          24000000,
          150000000,
          70000000,
          145000000,
          60000000,
          30000000,
          50000000,
          130000000,
          28000000,
          20000000,
          60000000,
          85000000,
          20000000,
          20000000,
          36000000,
          6500000,
          110000000,
          70000000,
          30000000,
          135000000,
          15000000,
          10000000,
          25000000,
          105000000,
          40000000,
          9000000,
          42000000,
          35000000,
          50000000,
          13360000,
          35000000,
          140000000,
          30000000,
          25000000,
          7000000,
          25000000,
          30000000,
          60000,
          3600000,
          40000000,
          25000000,
          50000000,
          20000000,
          105000000,
          32000000,
          15000000,
          28000000,
          70000000,
          90000000,
          46000000,
          10000000,
          14000000,
          22000000,
          55000000,
          25000000,
          70000000,
          13000000,
          15000000,
          25000000,
          35000000,
          7000000,
          125000000,
          35000000,
          32000000,
          18000000,
          8500000,
          6200000,
          72000000,
          35000000,
          28000000,
          17000000,
          30000000,
          17000000,
          32000000,
          25000000,
          17000000,
          10500000,
          35000000,
          14000000,
          950000,
          135000000,
          100000000,
          55000000,
          9700000,
          65000000,
          15000000,
          15000000,
          20500000,
          25130430,
          25000000,
          45000000,
          38000000,
          14000000,
          5000000,
          2000000,
          15000000,
          35000000,
          92000000,
          20000000,
          1000000,
          35000000,
          30000000,
          125000000,
          70000000,
          28000000,
          110000000,
          44000000,
          70000000,
          50000000,
          28000000,
          25000000,
          10000000,
          15000000,
          60000000,
          80000000,
          4000000,
          60795000,
          29000000,
          13000000,
          7000000,
          185000000,
          130000000,
          10500000,
          112000000,
          5000000,
          50000000,
          20000000,
          110000000,
          85000000,
          37000000,
          38000000,
          110000000,
          45000000,
          30000000,
          17000000,
          11000000,
          21000000,
          20000000,
          100000000,
          30000000,
          18000000,
          130000000,
          13000000,
          102000000,
          5000000,
          12000000,
          30000000,
          40000000,
          4000000,
          150000000,
          130000000,
          50000000,
          57000000,
          50000000,
          32000000,
          2479000,
          40000000,
          10000000,
          10000000,
          40000000,
          17000000,
          25000000,
          30000000,
          40000000,
          60000000,
          6000000,
          18000000,
          16000000,
          28000000,
          5800000,
          23000000,
          75000000,
          18000000,
          40000000,
          10000000,
          17000000,
          85000000,
          11000000,
          38000000,
          85000000,
          105000000,
          16000000,
          45000000,
          12500000,
          25000000,
          5000000,
          20000000,
          62000000,
          78000000,
          25000000,
          60000000,
          55000000,
          75,
          7000000,
          30000000,
          20000000,
          60000000,
          900000,
          92000000,
          255000000,
          6000200,
          26000000,
          35000000,
          150000000,
          53000000,
          21500000,
          25000000,
          110000000,
          82000000,
          80000000,
          42000000,
          64000000,
          85000000,
          80000000,
          75000000,
          68000000,
          25000000,
          12000000,
          8000000,
          65000000,
          50000000,
          49000000,
          7280000,
          30000000,
          5000000,
          4900000,
          65000000,
          44000000,
          12000000,
          38000000,
          3180000,
          6000000,
          20000000,
          30000000,
          13000000,
          12000000,
          25000000,
          3000000,
          17000000,
          150000000,
          20000000,
          62770198,
          130000000,
          35000000,
          22000000,
          55000000,
          80000000,
          35000000,
          17500000,
          20000000,
          4000000,
          13000000,
          10000000,
          15000000,
          6000000,
          4000000,
          70000000,
          80000000,
          16000000,
          80000000,
          4000000,
          35000000,
          42000000,
          35000000,
          15000000,
          12000000,
          3860000,
          10951000,
          672000,
          6000000,
          10500000,
          12000000,
          70000000,
          76000000,
          107000000,
          22000000,
          60000000,
          45000000,
          30000000,
          70000000,
          19000000,
          10000000,
          20000000,
          75000000,
          117000000,
          45000000,
          16000000,
          18000000,
          15000000,
          1000000,
          30000000,
          30000000,
          20000000,
          40000000,
          6000000,
          18000000,
          52000000,
          11000000,
          150000000,
          28000000,
          30000000,
          45000000,
          80000000,
          75000000,
          5000000,
          62000000,
          60000000,
          1100000,
          40000000,
          12000000,
          40000000,
          35000000,
          65000000,
          45000000,
          149000000,
          37000000,
          82500000,
          2000000,
          90000000,
          73000000,
          30000000,
          25000000,
          85000,
          100000000,
          38000000,
          38000000,
          60000000,
          20000000,
          8000000,
          2500000,
          55000000,
          90000000,
          32000000,
          55000000,
          20000000,
          7700000,
          15000000,
          3500000,
          7000000,
          31000000,
          100000000,
          35000000,
          15000000,
          15000000,
          60000000,
          10000000,
          2800000,
          18000000,
          115000000,
          43000000,
          8000000,
          30000000,
          60000000,
          60000000,
          20000000,
          40000000,
          125000000,
          25000000,
          66000000,
          30000000,
          10000000,
          28000000,
          40000000,
          15000000,
          80000000,
          5000000,
          110000000,
          75000000,
          1800000,
          32000000,
          14500000,
          15000000,
          1200000,
          85000000,
          40000000,
          20000000,
          3500000,
          20000000,
          26000000,
          1300000,
          40000000,
          25000000,
          50000000,
          5000000,
          30000000,
          8000000,
          80000000,
          60000000,
          35000000,
          13000000,
          50000000,
          18000000,
          30000000,
          1500000,
          7000000,
          75000000,
          50000000,
          10,
          65000000,
          60000000,
          7400000,
          65000000,
          55000000,
          109000000,
          20000000,
          2883848,
          10000000,
          12000000,
          60000000,
          55000000,
          2000000,
          10000000,
          45000000,
          20000000,
          25000000,
          3000000,
          150000000,
          35000000,
          60000000,
          50000000,
          40000000,
          10000005,
          15000000,
          35000000,
          27000000,
          200000000,
          12000000,
          12000000,
          10000000,
          45000000,
          60000000,
          175000000,
          10500000,
          60000000,
          3500000,
          25000000,
          120000000,
          60720000,
          57000000,
          35000000,
          30000000,
          13000000,
          70000000,
          25000000,
          10000000,
          30000000,
          22000000,
          75000000,
          30000000,
          33000000,
          50000000,
          10000000,
          70000000,
          50000000,
          7500000,
          35000000,
          65000000,
          6000000,
          55000000,
          150000000,
          900000,
          40000000,
          60000000,
          15000000,
          42000000,
          5000000,
          44500000,
          25000000,
          55000000,
          65000000,
          60000000,
          60000000,
          25000000,
          30000000,
          75000000,
          8500000,
          160000000,
          35000000,
          8000000,
          5000000,
          200000000,
          30000000,
          19000000,
          80000000,
          75000000,
          25000000,
          40000000,
          14000000,
          16400000,
          50000000,
          15000000,
          185000000,
          175000000,
          185000000,
          80000000,
          65000000,
          80000000,
          170000000,
          110000000,
          220000000,
          75000000,
          150000000,
          15000000,
          100000000,
          380000000,
          10,
          80000000,
          39200000,
          37000000,
          15000000,
          18000000,
          4000000,
          27000000,
          140000000,
          5000000,
          60000000,
          25000000,
          10000000,
          15000000,
          30000000,
          22000000,
          20000000,
          61000000,
          100000000,
          25000000,
          40000000,
          18000000,
          31000000,
          30000000,
          8000000,
          100000000,
          55000000,
          28000000,
          40000000,
          100000000,
          20000000,
          40000000,
          6000000,
          60000000,
          20000000,
          20000000,
          75000000,
          12850990,
          17000000,
          23000000,
          45000000,
          13000000,
          25000000,
          3500000,
          82000000,
          30000000,
          22500000,
          32000000,
          7000000,
          36000000,
          35000000,
          15000000,
          55000000,
          35000000,
          40000000,
          8000000,
          25000000,
          75000000,
          10000000,
          15000000,
          85000000,
          25000000,
          37000000,
          50000000,
          95000000,
          5500000,
          73000000,
          15000000,
          88000000,
          4500000,
          30000000,
          160000000,
          27000000,
          155000000,
          42000000,
          63000000,
          4000000,
          22000000,
          13500000,
          5000000,
          39000000,
          5500000,
          56000000,
          40000000,
          50000000,
          43000000,
          4000000,
          50000000,
          30000000,
          48000000,
          20000005,
          35000000,
          55000000,
          3500000,
          270000000,
          12000000,
          45000000,
          26000000,
          90000000,
          45000000,
          50000000,
          22000000,
          50000000,
          31115000,
          36000000,
          80000000,
          6500000,
          23000000,
          1500000,
          475000,
          12000000,
          25000000,
          68000000,
          52000000,
          79000000,
          116000000,
          10000000,
          37000000,
          8000000,
          60000000,
          75000000,
          24000000,
          27500000,
          10000000,
          20000000,
          2800000,
          100000000,
          45000000,
          33000000,
          30000000,
          25000000,
          15000000,
          60000000,
          19000000,
          6000000,
          32000000,
          2000000,
          40000000,
          50000000,
          58000000,
          6000000,
          80000000,
          19000000,
          56000000,
          55000000,
          39000000,
          8000000,
          7000000,
          31000000,
          21000000,
          4000000,
          42000000,
          60000000,
          15000000,
          4798235,
          25000000,
          15000000,
          27000000,
          15000000,
          26000000,
          17000000,
          30000000,
          40000000,
          16500000,
          8000000,
          10400000,
          1000000,
          50000000,
          1100000,
          78000000,
          80000000,
          23000000,
          35000000,
          927262,
          70000000,
          40000000,
          25000000,
          52000000,
          5773100,
          130000,
          22000000,
          75000000,
          75000000,
          75000000,
          11000000,
          50000000,
          36000000,
          52000000,
          2000000,
          12500000,
          6000000,
          12000000,
          90000000,
          5000000,
          16000000,
          90000000,
          45000000,
          25000000,
          9000000,
          55000000,
          20000000,
          85000000,
          20000000,
          20000000,
          25000000,
          80000000,
          140000000,
          75600000,
          3000000,
          47000000,
          50000000,
          878000,
          85000000,
          75000000,
          30000000,
          9000000,
          22000000,
          30000000,
          22000000,
          10500000,
          28000000,
          72000000,
          20000000,
          2800000,
          2000000,
          55000000,
          70000000,
          14800000,
          19000000,
          10000000,
          100000000,
          14000000,
          40000000,
          3000000,
          28000000,
          5000000,
          6000000,
          7000000,
          19500000,
          20000000,
          17000000,
          29000000,
          15000000,
          4000000,
          40000000,
          20000000,
          30000000,
          50000000,
          75000000,
          35000000,
          25000000,
          9500000,
          120000000,
          40000000,
          57000000,
          1288000,
          32000000,
          25000000,
          16000000,
          38000000,
          47000000,
          80000000,
          45000000,
          92000000,
          48000000,
          6500000,
          15000000,
          65000000,
          5000000,
          130000000,
          35000000,
          70000000,
          5500000,
          12000000,
          52000000,
          31000000,
          35000000,
          1500000,
          12000000,
          2500000,
          100000000,
          60000000,
          20000000,
          100000000,
          18000000,
          13000000,
          22000000,
          6000000,
          180000000,
          35000000,
          5000000,
          10000000,
          100000000,
          44000000,
          26000000,
          70000000,
          900000,
          20000000,
          28000000,
          66000000,
          12000000,
          35000000,
          55000000,
          1000000,
          30000000,
          1300000,
          5904067,
          7200000,
          1500000,
          32000000,
          20000000,
          10000000,
          2800000,
          22000000,
          50000000,
          650000,
          19000000,
          2000000,
          29000000,
          15000000,
          20000000,
          4000000,
          42000000,
          70000000,
          24000000,
          258158,
          55000000,
          28210303,
          20000000,
          62000000,
          60000000,
          10000000,
          35000000,
          7500000,
          30000000,
          1600000,
          130000000,
          839727,
          20000000,
          5000000,
          33000000,
          2000000,
          4500000,
          9500000,
          100000,
          25000000,
          23000000,
          3000000,
          25000000,
          7000000,
          30000000,
          45000000,
          4500000,
          43000000,
          30000000,
          9804690,
          15000000,
          40000000,
          4000000,
          60000000,
          56000000,
          25000000,
          32000000,
          30000000,
          20000000,
          14000000,
          14000000,
          30000000,
          100000000,
          90000000,
          58000000,
          10500000,
          6000000,
          5000000,
          20000000,
          8200000,
          135000000,
          5000000,
          20000000,
          19250000,
          30000000,
          100000000,
          19000000,
          25000000,
          60000000,
          10000000,
          30000000,
          30000000,
          14000000,
          25000000,
          250000,
          25000000,
          30000000,
          86000000,
          25000000,
          30000000,
          45000000,
          90000000,
          34000000,
          50000000,
          44000000,
          25000000,
          10000000,
          60000000,
          6000000,
          300,
          100000000,
          24000000,
          25000000,
          17000000,
          13000000,
          600000,
          1800000,
          12000000,
          23000000,
          40000000,
          1200000,
          5000000,
          4000000,
          1500000,
          12000000,
          62000000,
          40000000,
          30000000,
          3000000,
          52000000,
          55000000,
          45000000,
          15000000,
          10000000,
          45000000,
          160000000,
          1987650,
          53000000,
          40000000,
          25000000,
          43000000,
          10000000,
          6400000,
          100000000,
          30000000,
          70000000,
          33000000,
          30000,
          17000000,
          25000000,
          25000000,
          75000000,
          1500000,
          30000000,
          2500000,
          31000000,
          40000000,
          8000000,
          53000000,
          126000000,
          45000000,
          8000000,
          25000000,
          7000000,
          25000000,
          65000000,
          40000000,
          60000000,
          20000000,
          5000000,
          30000000,
          22000000,
          50000000,
          40000000,
          50000000,
          39000000,
          40000000,
          3328289,
          15000000,
          28000000,
          5883687,
          30000000,
          5600000,
          18000000,
          58000000,
          75000000,
          10000000,
          27000000,
          30000000,
          53000000,
          18000000,
          10000000,
          17000000,
          15000000,
          75000000,
          60000000,
          2000000,
          50000000,
          27220000,
          8500000,
          35000000,
          18000000,
          20000000,
          100000000,
          25000000,
          102000000,
          700000,
          4000000,
          8000000,
          9000000,
          750000,
          27000000,
          17000000,
          24000000,
          5500000,
          60000000,
          40000000,
          4500000,
          6000000,
          18500000,
          10000000,
          15000000,
          8900000,
          35000000,
          60000000,
          25000000,
          15000000,
          38000000,
          4000000,
          35000000,
          28000000,
          22000000,
          2000000,
          6500000,
          71000000,
          25000000,
          40000000,
          50000000,
          9000000,
          25000000,
          80000000,
          28000000,
          29000000,
          25000000,
          13000000,
          4000000,
          10000000,
          7000000,
          1450000,
          8000000,
          3200000,
          5000000,
          20000000,
          27000000,
          50000000,
          35000000,
          5500000,
          20000000,
          50000000,
          17000000,
          22000000,
          35000000,
          17000000,
          27000000,
          32000000,
          80000000,
          16000000,
          35000000,
          25000000,
          18000000,
          13500000,
          4700000,
          50000000,
          30000000,
          1255000,
          18000000,
          20000000,
          35000000,
          5000000,
          12000000,
          25000000,
          21000000,
          8200000,
          80000000,
          3500000,
          15000000,
          46000000,
          14000000,
          60000000,
          4000000,
          52000000,
          27000000,
          120000000,
          52000000,
          1400000,
          65000000,
          6000000,
          100000000,
          31500000,
          17000000,
          30000000,
          26000000,
          70000000,
          38000000,
          24500000,
          12000000,
          60000000,
          16000000,
          18000000,
          50000000,
          20000000,
          20000000,
          30000000,
          10000000,
          75000000,
          60000000,
          8933400,
          40000000,
          4000000,
          20000000,
          600000,
          51000000,
          27000000,
          7500000,
          30000000,
          35000000,
          5000000,
          30000000,
          27000000,
          60000000,
          137000000,
          39000000,
          50000000,
          50000000,
          250000,
          65000000,
          28000000,
          52000000,
          30000000,
          13000000,
          2000000,
          17000000,
          6000000,
          36000000,
          3000000,
          36000000,
          2000000,
          70000000,
          20000000,
          11000000,
          8000000,
          60000000,
          82343495,
          15000000,
          39000000,
          38000000,
          55000000,
          45000000,
          40000000,
          11000000,
          18000000,
          38000000,
          28000000,
          60000000,
          14000000,
          10000000,
          26000000,
          25000000,
          70000000,
          16500000,
          42000000,
          33000000,
          7500000,
          10500000,
          30000000,
          45000000,
          85000000,
          17000000,
          40000000,
          7500000,
          48000000,
          50000000,
          3300000,
          4000000,
          45000000,
          27000000,
          80000000,
          12000000,
          30000000,
          25000000,
          35200000,
          50000000,
          37000000,
          18500000,
          85000000,
          19000000,
          30000000,
          40000000,
          30000000,
          50000000,
          79000000,
          63000000,
          15000000,
          4667008,
          5000000,
          10000000,
          18000000,
          33000000,
          13500000,
          60000000,
          9000000,
          4000000,
          12000000,
          52500000,
          60000000,
          37000000,
          11715578,
          18000000,
          10000000,
          35000000,
          80000000,
          4500000,
          24000000,
          28000000,
          57000000,
          30000000,
          35000000,
          20500000,
          35000000,
          130000000,
          50000000,
          26000000,
          25000000,
          80000000,
          13200000,
          30000000,
          22000000,
          50000000,
          70000000,
          8000000,
          25000000,
          34000000,
          25000000,
          10000000,
          115000000,
          19000000,
          65000000,
          5000000,
          3000000,
          50000000,
          40000000,
          25000000,
          34000000,
          6500000,
          4000000,
          7000000,
          20000000,
          17000000,
          50200000,
          5000000,
          50000,
          20000000,
          24000000,
          24500000,
          5000000,
          20000000,
          2500000,
          10769016,
          10000000,
          21000000,
          80000000,
          10000000,
          55000000,
          50000000,
          80000000,
          15000000,
          34000000,
          20000000,
          10000000,
          11000000,
          45000000,
          5000000,
          8000000,
          30000000,
          15000000,
          28000000,
          6500000,
          15000000,
          25000000,
          12000000,
          37000000,
          3000000,
          2800000,
          15000000,
          3000000,
          45000000,
          27000000,
          25000000,
          80000000,
          5000000,
          24000000,
          50000000,
          40000000,
          1752000,
          15000000,
          28000000,
          25000000,
          40000000,
          48000000,
          20000000,
          11000000,
          40000000,
          25000000,
          26000000,
          25000000,
          1000000,
          65000000,
          50000000,
          3500000,
          13000000,
          50000000,
          20000000,
          50000000,
          10500000,
          55000000,
          54000000,
          100000000,
          20000000,
          75000000,
          30000000,
          16500000,
          170000000,
          37000000,
          13000000,
          27000000,
          35000000,
          80000000,
          3000000,
          130000,
          11500005,
          34200000,
          38000000,
          15000000,
          7000000,
          18000000,
          3000000,
          20000000,
          35000000,
          300000,
          29000000,
          22000000,
          55000000,
          46597700,
          50000000,
          3500000,
          55000000,
          14000000,
          65000000,
          2200000,
          3800000,
          18000000,
          25000000,
          30000000,
          25000000,
          45000000,
          48000000,
          33000000,
          50000000,
          18000000,
          14000000,
          19000000,
          25000000,
          42000000,
          48000000,
          65000000,
          2000000,
          60000000,
          25000000,
          10000000,
          500000,
          15000000,
          16000000,
          8000000,
          32000000,
          35000000,
          85000000,
          12000000,
          45000000,
          15000000,
          41300000,
          57000000,
          20000000,
          51000000,
          15000000,
          83000000,
          2900000,
          8000000,
          2500000,
          4500000,
          400000,
          110000000,
          75000000,
          35000000,
          10000000,
          35000000,
          27000000,
          12250000,
          10000000,
          15000000,
          30000000,
          410000,
          12000000,
          90000000,
          5000000,
          2540800,
          15000000,
          36000000,
          10000000,
          25000000,
          20000000,
          30000000,
          65000000,
          25000000,
          6000000,
          65000000,
          20000000,
          30,
          6000000,
          1500000,
          1500000,
          150000,
          8000000,
          38000000,
          10000000,
          85000000,
          31000000,
          30000000,
          7000000,
          25000000,
          22000000,
          30000000,
          250000,
          17000000,
          70000000,
          48000000,
          23000000,
          66000000,
          85000000,
          22700000,
          2400000,
          20000000,
          28000000,
          30000000,
          12000000,
          30000000,
          43000000,
          35000000,
          6000000,
          50000000,
          17000000,
          18900000,
          50000000,
          40000000,
          40000000,
          25000000,
          40000000,
          60000000,
          20000000,
          35000000,
          20000000,
          15000000,
          11000000,
          6000000,
          2800000,
          3500000,
          50000000,
          120000000,
          8000000,
          46000000,
          100000,
          40000000,
          12000000,
          20000000,
          42000000,
          65000000,
          32000000,
          12000000,
          1500000,
          11000000,
          9000000,
          12500000,
          35000000,
          20000000,
          63000000,
          8000000,
          22000000,
          15000000,
          10000000,
          13000000,
          50000000,
          14600000,
          1500000,
          20000000,
          20000000,
          58500000,
          15000000,
          10000000,
          12700000,
          9000000,
          50000000,
          220000,
          2500000,
          27000000,
          13938145,
          60000000,
          25000000,
          2000000,
          14000000,
          12000000,
          20000000,
          70000000,
          20000000,
          20000000,
          3000000,
          42000000,
          26000000,
          140000000,
          15000000,
          26000000,
          5000000,
          47000000,
          20000000,
          65000000,
          10000000,
          11000000,
          2000000,
          22000000,
          29000000,
          52000000,
          9800000,
          34000000,
          12000000,
          17000000,
          15000000,
          8500000,
          18339750,
          24000000,
          1000000,
          70000000,
          5000000,
          80000000,
          20000000,
          16000000,
          11000000,
          24000000,
          70000000,
          19000000,
          700000,
          16000000,
          3000000,
          19201483,
          70000000,
          60000000,
          51500000,
          46000000,
          12716953,
          15000000,
          80000000,
          57000000,
          20000000,
          20000000,
          1500000,
          25000000,
          85000000,
          11000000,
          18000,
          70000000,
          31000000,
          21150000,
          44000000,
          1200000,
          7154497,
          25000000,
          31000000,
          30000000,
          12000000,
          6000000,
          15000000,
          50000000,
          5000000,
          34000000,
          22000000,
          15000000,
          35000000,
          20000000,
          15000000,
          26000000,
          29000000,
          32000000,
          9000000,
          35000000,
          84000000,
          15000000,
          12000000,
          16000000,
          1600000,
          23000000,
          22000000,
          38000000,
          30000000,
          13800000,
          145000000,
          200000,
          30000000,
          135000000,
          7000000,
          1200000,
          21000000,
          55000000,
          7000000,
          1000000,
          30000000,
          8500000,
          42000000,
          12000000,
          40000000,
          100000000,
          10000000,
          10000000,
          3500000,
          5000000,
          6000000,
          16000000,
          50000000,
          12000000,
          11000000,
          20000000,
          15000000,
          15000000,
          10000000,
          54000000,
          910000,
          25000000,
          15000000,
          35000000,
          11000000,
          16000000,
          19700000,
          22000000,
          35000000,
          75000000,
          130000000,
          40000000,
          38000000,
          1000000,
          8000000,
          90000000,
          88000000,
          40000000,
          54000000,
          25000000,
          35000000,
          70000000,
          10000000,
          28,
          40000000,
          56000000,
          30000000,
          45000000,
          45000000,
          12500000,
          12000000,
          30000000,
          10000000,
          4000000,
          3000000,
          70000000,
          20000000,
          4735684,
          100000,
          55000000,
          15000000,
          5000000,
          9900000,
          3000000,
          14500000,
          15600000,
          6000000,
          18000000,
          114000,
          35000000,
          10000000,
          12000000,
          20000000,
          12000000,
          45000000,
          10000000,
          5000000,
          30000000,
          40000000,
          60000000,
          45000000,
          12000000,
          21000000,
          55000000,
          20000000,
          24000000,
          2500000,
          9000000,
          28000000,
          20000000,
          4500000,
          38000000,
          30000000,
          5000000,
          70000000,
          1000000,
          72000000,
          50000000,
          20000000,
          19000000,
          12000000,
          17000000,
          6500000,
          20000000,
          3800000,
          25000000,
          1500000,
          14000000,
          500000,
          12500000,
          3600000,
          50000000,
          40000000,
          40000000,
          35000000,
          12500000,
          50000000,
          18000000,
          5000000,
          52000000,
          14000000,
          55000000,
          49300000,
          8500000,
          18000000,
          41000000,
          6500000,
          14000000,
          5500000,
          2600000,
          4000000,
          25000000,
          20000000,
          9000000,
          23000000,
          32500000,
          7400000,
          1500000,
          17000000,
          7500000,
          12000000,
          68000000,
          12000000,
          5692172,
          24000000,
          35000000,
          9000000,
          13000000,
          87000000,
          11000000,
          291000,
          4000000,
          20000000,
          25000000,
          2500000,
          1500000,
          25000000,
          12000000,
          6000000,
          120000000,
          70000000,
          30000000,
          7623000,
          35000000,
          8000000,
          10000000,
          19000000,
          13000000,
          1300000,
          50000000,
          15000000,
          45000000,
          22500000,
          35000000,
          5000000,
          40000000,
          10000000,
          3000000,
          25000000,
          10000000,
          590235,
          27000000,
          19800000,
          40000000,
          3500000,
          60000,
          8000000,
          30000000,
          30000000,
          40000000,
          70000000,
          2500000,
          5500000,
          35000000,
          6800000,
          20000000,
          30000000,
          9000000,
          25,
          3000000,
          15000000,
          375000,
          10000000,
          20000000,
          23000000,
          36000000,
          65000000,
          9000000,
          97250400,
          8000000,
          8500000,
          25000000,
          15000000,
          40000000,
          20000000,
          47000000,
          60000000,
          6500000,
          65000000,
          17700000,
          11000000,
          30000000,
          6000000,
          10000000,
          30000000,
          24000000,
          13000000,
          70000000,
          24000000,
          5000000,
          35000000,
          44000000,
          55000000,
          18000000,
          6000000,
          40000000,
          2000000,
          6000000,
          40000000,
          26000000,
          9000000,
          35000000,
          650000,
          28000000,
          46000000,
          36000000,
          6400000,
          50000000,
          825370,
          200000,
          2600000,
          40000000,
          14000000,
          25000000,
          50000000,
          11000000,
          9600000,
          42000000,
          2000000,
          8272296,
          500000,
          50000000,
          1200000,
          9000000,
          393750,
          5000000,
          6500000,
          9000000,
          62000000,
          44000000,
          35000000,
          12000000,
          25000000,
          19885552,
          12000000,
          2000000,
          46000000,
          40000000,
          2000000,
          25000000,
          15000000,
          700000,
          7500000,
          12500000,
          27000000,
          12000000,
          4000000,
          17900000,
          23000000,
          80000000,
          5000000,
          1500000,
          80000000,
          36000000,
          22000000,
          5,
          17000000,
          1500000,
          14000000,
          18000000,
          400000,
          16000000,
          4500000,
          45000000,
          60000000,
          60000000,
          8500000,
          12500000,
          14000000,
          20000000,
          75000000,
          30,
          3500000,
          2000000,
          30000000,
          6000000,
          50000000,
          3200000,
          35000000,
          8000000,
          30000000,
          25000000,
          12000000,
          2500000,
          15000000,
          7000000,
          17500000,
          50000000,
          80000000,
          23000000,
          40000000,
          6000000,
          3000000,
          80000000,
          1200000,
          10000000,
          31000000,
          22000000,
          15000000,
          53000000,
          18000000,
          18000000,
          22000000,
          5952000,
          3500000,
          56000000,
          8000000,
          13200000,
          4000000,
          6000000,
          150000000,
          6000000,
          35000000,
          11000000,
          25500000,
          12000000,
          30000000,
          3000000,
          14000000,
          11000000,
          15000000,
          4000000,
          8000000,
          80000000,
          26000000,
          5000000,
          20000000,
          26000000,
          3000000,
          25000000,
          40000000,
          20000000,
          13000000,
          15000000,
          7000000,
          25530000,
          38000000,
          10000000,
          3000000,
          46000000,
          86000000,
          8000000,
          3000000,
          30250000,
          4800000,
          12000000,
          3000000,
          20000000,
          75000000,
          4000000,
          10000000,
          60000000,
          2500000,
          15000000,
          15000000,
          7600000,
          500000,
          60000000,
          8000000,
          8000000,
          385373,
          19000000,
          250000,
          153000,
          68000000,
          5000000,
          16500000,
          19000000,
          12500000,
          5037000,
          15000000,
          75000000,
          50000000,
          12000000,
          13000000,
          15000000,
          1500000,
          11000000,
          10000000,
          27000000,
          28000000,
          20000000,
          900000,
          90000000,
          6000000,
          20000000,
          32000000,
          7000000,
          19800000,
          20000000,
          60000000,
          16000000,
          6000000,
          32000000,
          7500000,
          10000000,
          55000000,
          500000,
          65000000,
          45000000,
          22000000,
          20000000,
          4000000,
          30000000,
          15000000,
          4000000,
          32000000,
          75000000,
          15000000,
          20000000,
          70000000,
          23000000,
          4954500,
          25000000,
          15000000,
          14000000,
          6000000,
          20000000,
          25000000,
          50000000,
          5000000,
          25000000,
          4920975,
          50000000,
          60000000,
          4000000,
          2900000,
          50000000,
          10000000,
          3200000,
          30000000,
          5000000,
          7000000,
          4000000,
          11000000,
          250000,
          18000000,
          9000000,
          120000,
          2000000,
          3500000,
          13000000,
          23000000,
          18000000,
          2000000,
          28000000,
          15000000,
          20000000,
          32000000,
          2000000,
          13000000,
          17500000,
          3500000,
          23000000,
          7000000,
          55000000,
          40000000,
          3000000,
          80000000,
          9000000,
          10000000,
          25000000,
          40000000,
          27000,
          10000000,
          14000000,
          16000000,
          26000000,
          38000000,
          15000000,
          22000000,
          28000000,
          95000000,
          29000000,
          2000000,
          587211,
          12000000,
          15000000,
          75000000,
          3500000,
          45000000,
          5700000,
          50000000,
          60000000,
          5000000,
          60000000,
          19000000,
          18000000,
          35000000,
          5000000,
          5256817,
          12000000,
          25000000,
          30000000,
          20000000,
          2686000,
          5000000,
          20000000,
          30000000,
          2000000,
          5000000,
          3000000,
          20000000,
          40000000,
          5000000,
          70000000,
          37000000,
          19000000,
          49900000,
          10284523,
          25000000,
          10000000,
          12000000,
          20000000,
          25000000,
          12000000,
          48000000,
          25000000,
          850000,
          6500000,
          19500000,
          20000000,
          6200000,
          15000000,
          12000000,
          25000000,
          45000000,
          8000000,
          20000000,
          31000000,
          21000000,
          3500000,
          5000000,
          3000000,
          9500000,
          25000000,
          22000000,
          10000000,
          53000000,
          13800000,
          1530000,
          25000000,
          800000,
          33000000,
          108000000,
          32000000,
          2300000,
          20000000,
          10000000,
          20000000,
          13000000,
          29000000,
          75000000,
          105000000,
          95000000,
          60000000,
          8000000,
          50000000,
          9000000,
          2500000,
          40000000,
          1400000,
          15000000,
          5000000,
          30000000,
          1300000,
          3000000,
          25000000,
          4000000,
          50000000,
          40000000,
          17000000,
          12000000,
          30000000,
          4000000,
          20000000,
          60000000,
          72000000,
          6000000,
          3000000,
          12000000,
          15000000,
          4000000,
          12000000,
          18000000,
          80000000,
          25000000,
          23000000,
          5000000,
          14000000,
          7000000,
          133000,
          55000000,
          42000000,
          22000000,
          30000000,
          60000000,
          25000000,
          23000000,
          30000000,
          8500000,
          19000000,
          11500000,
          3000000,
          7000000,
          11700000,
          19400000,
          9000000,
          70000000,
          5000000,
          22000000,
          1000000,
          37000000,
          50000000,
          4000000,
          2500000,
          30000000,
          3500000,
          21000000,
          6900000,
          15000000,
          6000000,
          11000000,
          2000000,
          4000000,
          14700000,
          1500000,
          7500000,
          45000000,
          45000000,
          11000000,
          100000000,
          15000000,
          20000000,
          2000000,
          12000000,
          12000000,
          30000000,
          37000000,
          3600000,
          60000000,
          22000000,
          27000000,
          10000000,
          5000000,
          160000,
          26000000,
          7000000,
          28000000,
          1746964,
          26000000,
          55000000,
          40000000,
          11000000,
          35000000,
          85000000,
          10000000,
          50000000,
          38000000,
          5000000,
          14000000,
          70000000,
          20000000,
          25000000,
          2500000,
          38000000,
          12700000,
          12000000,
          1880006,
          5000000,
          10000000,
          4000000,
          19000000,
          17000000,
          67000000,
          5000000,
          15000000,
          60000000,
          26000000,
          12000000,
          19000000,
          17000000,
          4478250,
          30000000,
          3500000,
          51000000,
          300000,
          25000000,
          1000000,
          5000000,
          32000000,
          22000000,
          730000,
          1500000,
          18000000,
          8000000,
          34000000,
          90000000,
          7000000,
          112,
          9000000,
          14350531,
          10000000,
          3000000,
          17000000,
          3200000,
          7000000,
          7000000,
          60000000,
          3500000,
          14500000,
          11000000,
          318000,
          50000000,
          33000000,
          5000000,
          14000000,
          20000000,
          40000000,
          25000000,
          6000000,
          30000000,
          13749400,
          14000000,
          60000000,
          18000000,
          9000000,
          13500000,
          10000000,
          57000000,
          5000000,
          24000000,
          6000000,
          15000000,
          35000000,
          29000000,
          12800000,
          6000000,
          7100000,
          68000000,
          20000000,
          25000000,
          9300000,
          10000000,
          2800000,
          15000000,
          30000000,
          40000000,
          5000000,
          3500000,
          45000000,
          16000000,
          532673,
          2500000,
          7000000,
          23000000,
          60000000,
          75000000,
          60000000,
          11000000,
          20000000,
          2000000,
          30000000,
          6500000,
          68000000,
          90000000,
          6000000,
          38000000,
          18000000,
          48000000,
          45000000,
          8138338,
          16000000,
          10000000,
          26000000,
          40000000,
          18000000,
          12500000,
          70000000,
          7000000,
          1344000,
          10000000,
          32000000,
          15000000,
          7500000,
          45000000,
          12000000,
          13000000,
          38000000,
          900000,
          5000000,
          24000000,
          12000000,
          5000000,
          20000000,
          3000000,
          19000000,
          40000000,
          18000000,
          70000000,
          447524,
          11000000,
          20000000,
          13000000,
          4000000,
          20000000,
          30000000,
          24000000,
          6500000,
          5000000,
          20000000,
          50000000,
          10000000,
          13000000,
          7000000,
          1700000,
          2000000,
          40000000,
          5000000,
          13000000,
          36000000,
          20000000,
          14000000,
          60000000,
          1200000,
          30000000,
          25000000,
          50000000,
          8000000,
          25000000,
          40000000,
          3000000,
          20000000,
          8000000,
          40000000,
          40000000,
          8,
          20000000,
          5000000,
          20000,
          50000000,
          10000000,
          25000000,
          745971,
          1065000,
          4000000,
          25000000,
          19000000,
          45000000,
          28000000,
          700000,
          55000000,
          3500000,
          125000,
          12000000,
          3000000,
          7000000,
          1500000,
          4500000,
          15000000,
          10000000,
          80000000,
          6000000,
          4000000,
          69000000,
          47000000,
          50000000,
          33000000,
          35000000,
          8000000,
          34000000,
          7920000,
          1200000,
          32000000,
          500000,
          13000000,
          50000000,
          17000000,
          17759769,
          12000000,
          30000000,
          16500000,
          23000000,
          6500000,
          1130710,
          19500000,
          150000,
          75000000,
          700000,
          23000000,
          14000000,
          2600000,
          12000000,
          15000000,
          10000000,
          30000000,
          2000000,
          30000000,
          12000000,
          10600000,
          280379,
          17000000,
          20000000,
          20000000,
          9000000,
          54000000,
          1250000,
          20000000,
          42000000,
          40000000,
          5500000,
          20000000,
          25000000,
          7000000,
          8700000,
          60000000,
          1300000,
          28000000,
          18000000,
          3000000,
          10831173,
          23000000,
          12000000,
          35000000,
          33000000,
          10000000,
          27000000,
          12806000,
          7500000,
          30000000,
          1700000,
          50000000,
          5000000,
          4500000,
          50000000,
          25477000,
          950000,
          16800000,
          4000000,
          35000000,
          31000000,
          75000000,
          16000000,
          50000000,
          7300000,
          32000000,
          23000000,
          35000000,
          50000000,
          22000000,
          11000000,
          4357373,
          40000000,
          43000000,
          24000000,
          45000000,
          3000000,
          12500000,
          24000000,
          20000000,
          22000000,
          3000000,
          5000000,
          60000000,
          3000000,
          6000000,
          300000,
          4600000,
          13000000,
          25000000,
          30000000,
          25000000,
          11000000,
          4000000,
          5000000,
          40000000,
          25000000,
          20000000,
          20000000,
          8000000,
          500000,
          20000000,
          10000000,
          45000000,
          7000000,
          2000000,
          14000000,
          18000000,
          16000000,
          3200000,
          120000000,
          5000000,
          14000000,
          3000000,
          12400000,
          24000000,
          8000000,
          26000000,
          15000000,
          24000000,
          63600000,
          80000000,
          15000000,
          20000000,
          45000000,
          13000000,
          11000000,
          18000000,
          2000000,
          35000000,
          6000000,
          15000000,
          18000000,
          14000000,
          15000000,
          8000000,
          780000,
          27000000,
          2000000,
          17000000,
          15000000,
          4422952,
          11000000,
          12000000,
          270000,
          31000000,
          50000000,
          11930000,
          30000000,
          4000000,
          3000000,
          40000000,
          17000000,
          1448864,
          30000000,
          1000000,
          19000000,
          8000000,
          25000000,
          48000000,
          14000000,
          40000000,
          30000000,
          5000000,
          230000,
          11000000,
          180000,
          1800000,
          2410000,
          25000000,
          15000000,
          6500000,
          13000000,
          55000000,
          25000000,
          2000000,
          7400000,
          20000000,
          100000,
          5000000,
          6500000,
          26000000,
          18000000,
          11000000,
          12000000,
          16000000,
          21000000,
          65000,
          70000000,
          30000000,
          8000000,
          20000000,
          10000000,
          10000000,
          8500000,
          21000000,
          1000000,
          1500000,
          25000000,
          2000000,
          9000000,
          8000000,
          6000000,
          2200000,
          700000,
          40000000,
          16000000,
          15000000,
          8500000,
          12000000,
          10000000,
          4800000,
          30000000,
          1500000,
          12000000,
          4000000,
          40000000,
          80000000,
          6,
          70000000,
          6500000,
          37000000,
          12500000,
          30000000,
          3800000,
          30000000,
          15000000,
          10000000,
          4000000,
          30000000,
          40000000,
          200000,
          5000000,
          3200000,
          6000000,
          8000000,
          15000000,
          8000000,
          1500000,
          15000000,
          30000000,
          16000000,
          20500000,
          40000000,
          10000000,
          25000000,
          355000,
          30000000,
          27500000,
          32000000,
          2300000,
          4015000,
          82000000,
          325000,
          12840746,
          15000000,
          11000000,
          3700000,
          21000000,
          10000000,
          20000000,
          15000000,
          22000000,
          8000000,
          15000000,
          32000000,
          25000000,
          11000000,
          5000000,
          4500000,
          27000000,
          1800000,
          3500000,
          90000000,
          9000000,
          25000000,
          5000000,
          22000000,
          6244087,
          31000000,
          20000000,
          1000000,
          275576,
          35000000,
          15000000,
          829000,
          3800000,
          3000000,
          7500000,
          28000000,
          2200000,
          35000000,
          6000000,
          40000000,
          50000000,
          10000000,
          14000000,
          20000000,
          531374,
          30000000,
          9000000,
          6000000,
          8900000,
          10000000,
          3000000,
          12000000,
          30000000,
          8000000,
          4000000,
          25000000,
          85000000,
          777000,
          36000000,
          4000000,
          20000000,
          3000000,
          3500000,
          8000000,
          13000000,
          10000000,
          25000000,
          9000000,
          10000000,
          10000000,
          5000000,
          17000000,
          28000000,
          2000000,
          10892000,
          15000000,
          60000000,
          9000000,
          15000000,
          7000000,
          500000,
          24000000,
          7500000,
          886000,
          8538703,
          5741614,
          10000000,
          40000000,
          2500000,
          25485000,
          94000000,
          17200000,
          4000000,
          25000000,
          5000000,
          8000000,
          40000000,
          25000000,
          6500000,
          80000000,
          10400000,
          18000000,
          9000000,
          21000000,
          9,
          48000000,
          40000000,
          25000000,
          22000000,
          14000000,
          68000000,
          6000000,
          24000000,
          4000000,
          8000000,
          50000000,
          11000000,
          22000000,
          30000000,
          6000000,
          68490000,
          38000000,
          2000000,
          17000000,
          85000000,
          15000000,
          8000000,
          4000000,
          13000000,
          5641880,
          17000000,
          7000000,
          5000000,
          2300000,
          12000000,
          4900000,
          18000000,
          32000000,
          9000000,
          30000000,
          2500000,
          20000000,
          1700000,
          85000000,
          6600000,
          20000000,
          6000000,
          11000000,
          55000000,
          12000000,
          14000000,
          1200000,
          16000000,
          50000000,
          40000000,
          1300000,
          23000000,
          15000000,
          12000000,
          25000000,
          25000000,
          4000000,
          1200000,
          1821052,
          55000000,
          15000000,
          14000000,
          8000000,
          4000000,
          44000000,
          35000000,
          4000000,
          2000000,
          25000000,
          7000000,
          400000,
          95745,
          19000000,
          45000000,
          5000000,
          23000000,
          501717,
          1000000,
          12000,
          5000000,
          10500000,
          589000,
          37000000,
          300000,
          24000000,
          5500000,
          3000000,
          12000000,
          64000000,
          35000000,
          1900000,
          12000000,
          5000000,
          20000000,
          6000000,
          10000000,
          5210000,
          30000000,
          120000000,
          38000000,
          80000000,
          1700000,
          120000,
          19000000,
          3000000,
          20000000,
          8120000,
          662141,
          11795877,
          20000000,
          500000,
          7000000,
          5000000,
          2700000,
          7000000,
          8045760,
          7200000,
          55000000,
          6000,
          16000000,
          3558303,
          2200000,
          7,
          435000,
          7000000,
          28000000,
          1,
          3131855,
          10000000,
          21000000,
          4500000,
          800000,
          6000000,
          6000000,
          8311205,
          1850000,
          6900000,
          1000000,
          9,
          4500000,
          25000000,
          100000,
          23000000,
          5000000,
          24000000,
          103000,
          2000000,
          8500000,
          27941858,
          4100000,
          800000,
          3500000,
          6000000,
          4000000,
          750000,
          500000,
          1500000,
          15000000,
          20000000,
          85000000,
          1100000,
          18000000,
          78000000,
          5,
          5000000,
          185000000,
          8,
          25000000,
          4100000,
          7217957,
          1800000,
          4700002,
          3000000,
          24000000,
          25000000,
          125000,
          18000000,
          92000000,
          1400000,
          11000000,
          1000000,
          7120949,
          14000000,
          6000000,
          2500000,
          7000000,
          15000000,
          35000000,
          15000000,
          40000000,
          5000000,
          1707561,
          8500000,
          2100000,
          10000000,
          32000000,
          35000000,
          18000000,
          2000000,
          2700000,
          18000000,
          450000,
          125000,
          12000000,
          150000000,
          55000000,
          30000000,
          22000000,
          3730500,
          6000000,
          24000000,
          15000000,
          2000000,
          1000000,
          1000000,
          12000000,
          13000000,
          19032261,
          58000000,
          17000000,
          16000000,
          4000000,
          20000000,
          5000000,
          15000000,
          40000000,
          3000000,
          5000000,
          50000000,
          18000000,
          5000000,
          65000000,
          25000000,
          80000000,
          4000000,
          6000000,
          15000000,
          7000000,
          20000000,
          1000000,
          12000000,
          500000,
          100000000,
          900000,
          1000000,
          17000000,
          5000000,
          7000000,
          20000000,
          6000000,
          7700000,
          2000000,
          9000000,
          1500000,
          12000000,
          6000000,
          16000000,
          4700000,
          7000000,
          2900000,
          5600000,
          4000000,
          15000000,
          11000000,
          13000000,
          15000000,
          10000000,
          22500000,
          900000,
          23000000,
          500000,
          180000,
          6000000,
          1400000,
          60000000,
          3800000,
          3200000,
          645180,
          3000000,
          28000000,
          11000000,
          12000000,
          2000000,
          7000000,
          2380000,
          21000000,
          6000000,
          5100000,
          80000000,
          35000000,
          7000000,
          110000000,
          3500000,
          13000000,
          80000000,
          12000000,
          3500000,
          6000000,
          31000000,
          200000,
          15000000,
          6000000,
          50000000,
          36000000,
          30000000,
          28000000,
          1200000,
          14000000,
          6515167,
          5000000,
          3000000,
          6800000,
          11000000,
          300000,
          3000000,
          1000000,
          25697387,
          16300000,
          5000000,
          4500000,
          21000000,
          64000,
          3000000,
          4000000,
          5000000,
          10000000,
          4000000,
          6900000,
          26000000,
          23000000,
          4638783,
          200000,
          15000000,
          45000000,
          94000000,
          8000000,
          2000000,
          38000000,
          10000000,
          8000000,
          343000,
          2840000,
          5000000,
          4750000,
          6700000,
          8000000,
          180000000,
          7200000,
          15000000,
          15000000,
          35000000,
          3000000,
          25000,
          2000000,
          19000000,
          35000000,
          35000000,
          1250000,
          10000000,
          22000000,
          2000000,
          2800000,
          9000000,
          1380000,
          3000000,
          2700000,
          130000000,
          30000000,
          10000000,
          34000000,
          85000000,
          18596000,
          8391922,
          1500000,
          10000000,
          6000000,
          9750000,
          7200000,
          68000000,
          12000000,
          5000000,
          30000000,
          40000000,
          350000,
          5600000,
          4500000,
          250000,
          3200000,
          500000,
          17010000,
          786675,
          15000000,
          1000000,
          30000000,
          1300000,
          520000,
          560000,
          2000000,
          23030000,
          20000000,
          120000,
          220000,
          12000000,
          25000000,
          13000000,
          18000000,
          11000000,
          12000000,
          3600000,
          11000000,
          250000,
          10000000,
          3000000,
          8,
          4000000,
          6788000,
          90000000,
          9000000,
          10000000,
          10000000,
          1600000,
          20000000,
          18000000,
          500000,
          70000000,
          1700000,
          17000000,
          2500000,
          3000000,
          5000000,
          10000000,
          19000000,
          10000000,
          4800000,
          4000000,
          3400000,
          4500000,
          20000000,
          22000000,
          14000000,
          5400000,
          13000000,
          8000000,
          25000000,
          13000000,
          750000,
          14000000,
          4000000,
          19000000,
          58000000,
          6830000,
          34000000,
          30000000,
          90000000,
          15000000,
          30000000,
          13500000,
          16000000,
          4100000,
          1200000,
          310000,
          20000000,
          5000000,
          22000000,
          1300000,
          14000000,
          6000000,
          7000000,
          5579750,
          6000000,
          5000000,
          16000000,
          1200000,
          50000000,
          1500000,
          8500000,
          5000000,
          23000,
          45000000,
          40000000,
          24000000,
          17000000,
          115000000,
          8500000,
          9000000,
          5000000,
          10500000,
          32000000,
          1500000,
          10000,
          6000000,
          1200000,
          6000000,
          2800000,
          15000000,
          1678000,
          10000000,
          13000000,
          4000000,
          1800000,
          5800000,
          3500000,
          98000000,
          50,
          3000000,
          1000000,
          4300000,
          30000000,
          8030000,
          25100000,
          9500000,
          17000000,
          6900000,
          1000000,
          4980190,
          50000000,
          1580000,
          55000000,
          1000000,
          1227401,
          7000000,
          5115000,
          5000000,
          1100000,
          12500000,
          12000000,
          100000000,
          70000000,
          36000000,
          35000000,
          25000000,
          3500000,
          8000000,
          13000000,
          200000,
          3800000,
          5900000,
          25000000,
          4000000,
          4000000,
          20000000,
          62000000,
          6300000,
          16000000,
          1700000,
          17000000,
          19000000,
          1020000,
          9000000,
          11000000,
          15000000,
          35000000,
          9250000,
          5000000,
          7000000,
          4000000,
          1775000,
          2300000,
          5750000,
          40000000,
          783000,
          31000000,
          5000000,
          35000000,
          50000000,
          290000,
          13000000,
          50000000,
          31000000,
          800000,
          1000000,
          2300000,
          18000000,
          17000000,
          2000000,
          2000000,
          4620000,
          15000000,
          408000,
          230000,
          3500000,
          6000000,
          8500000,
          1549000,
          2500000,
          8300000,
          14200000,
          14000000,
          9000000,
          200000,
          22000000,
          2053648,
          700000,
          25000000,
          2000000,
          500000,
          18000000,
          6000000,
          17820000,
          1250000,
          28000000,
          80341000,
          5000000,
          2000000,
          1400000,
          20000000,
          20000000,
          6,
          58000000,
          1950000,
          2000000,
          38000000,
          13000000,
          26000000,
          6700000,
          22000000,
          4100000,
          5649897,
          1500000,
          6000000,
          20000000,
          1500000,
          218,
          1823152,
          5800000,
          13500000,
          15000000,
          4550000,
          7900000,
          24000000,
          2000000,
          1805000,
          17000000,
          818418,
          5400000,
          15000000,
          28000000,
          12000000,
          10900000,
          12500000,
          10000000,
          5200000,
          10000000,
          2187279,
          4000000,
          820000,
          20000000,
          3700000,
          5,
          2500000,
          25000000,
          2500000,
          11500000,
          35000000,
          2006871,
          580000,
          2000000,
          40000000,
          12899867,
          45000000,
          25000000,
          9000000,
          1500000,
          6500000,
          5800000,
          1400000,
          9000000,
          6000000,
          6500000,
          11000000,
          2300000,
          36000000,
          12000000,
          10000000,
          2700000,
          12000000,
          445000,
          11500000,
          40000000,
          24000000,
          2200000,
          7000000,
          45000000,
          7700000,
          2000000,
          80000000,
          25000,
          14000000,
          5000000,
          400000,
          50000000,
          5000000,
          3300000,
          1,
          5000000,
          25000000,
          14000000,
          5000000,
          370800,
          2000000,
          1000000,
          3000000,
          850000,
          2000000,
          512423,
          10000000,
          29000000,
          7200000,
          5000000,
          700000,
          3500000,
          46630000,
          6600000,
          12000000,
          50,
          4500000,
          4000000,
          44000000,
          25000000,
          8256269,
          7,
          9000000,
          11000000,
          8000000,
          50000000,
          8000000,
          3000000,
          8000000,
          6000000,
          900000,
          1271000,
          30000000,
          2500000,
          3000000,
          800000,
          5900000,
          337000,
          865000,
          4500000,
          8500000,
          7000000,
          2700000,
          9000000,
          20000000,
          8000000,
          2900000,
          2900000,
          16000000,
          5500000,
          24000000,
          24000000,
          35000000,
          30000000,
          11000000,
          5500000,
          12000000,
          36500000,
          5000000,
          40000000,
          12516654,
          8500000,
          569217,
          14000000,
          1670000,
          31000000,
          65000000,
          10000000,
          4300000,
          620000,
          60000000,
          4500000,
          9000000,
          5000000,
          9500000,
          24000000,
          15000000,
          16000000,
          3000000,
          74500000,
          3000000,
          18000000,
          25000000,
          9200000,
          6500000,
          6500000,
          14000000,
          10000000,
          3000000,
          4200000,
          70000,
          15000000,
          10000000,
          8000000,
          25000000,
          3512454,
          6,
          5000000,
          7700000,
          1250000,
          1915000,
          35000000,
          5000000,
          12000000,
          28000000,
          55000000,
          14000000,
          2079000,
          1547000,
          4000000,
          3000000,
          13000000,
          23000000,
          20000000,
          40000000,
          50000000,
          2115000,
          3950000,
          15000000,
          7000000,
          3500000,
          6000000,
          2000000,
          6843500,
          2000000,
          25000000,
          19000000,
          48000000,
          10000000,
          6000000,
          22000000,
          8000000,
          1,
          1400000,
          1202007,
          10000000,
          11000000,
          10000000,
          26400000,
          300000,
          852510,
          300000,
          1700000,
          7000000,
          11000000,
          7000000,
          600000,
          310000,
          1500000,
          37931000,
          10000000,
          35000000,
          5400000,
          15000000,
          40000000,
          8000000,
          2300000,
          14000020,
          20000000,
          25000000,
          4500000,
          6500000,
          3800000,
          7000000,
          2000000,
          9000000,
          150000,
          11000000,
          2000000,
          9000000,
          2900000,
          14500000,
          16000000,
          5473145,
          6000000,
          1200000,
          14000000,
          25000000,
          1000000,
          10000000,
          66000,
          20000000,
          784170,
          10000000,
          10,
          12000000,
          6000000,
          3768785,
          1688000,
          4000000,
          823258,
          12000000,
          6000000,
          15000000,
          40000000,
          50000000,
          10500000,
          1200000,
          8000000,
          7000000,
          18000000,
          80000000,
          50000,
          1119000,
          14000000,
          15700000,
          1200000,
          860000,
          75000000,
          6000000,
          10000000,
          20000000,
          15000000,
          3000000,
          250000,
          2700000,
          20000000,
          18000000,
          19000000,
          2000000,
          26000000,
          17500000,
          800000,
          2500000,
          12,
          20000000,
          6000000,
          12000000,
          26000000,
          8000000,
          1000000,
          2000000,
          15000000,
          38000000,
          500000,
          17000000,
          3000000,
          1500000,
          40,
          25000000,
          2000000,
          2000000,
          4000000,
          14000000,
          40000000,
          400000,
          5000000,
          22000000,
          80000000,
          20000000,
          5000000,
          6400000,
          5000000,
          6000000,
          20000000,
          10000000,
          11400000,
          7000000,
          13000000,
          1000000,
          3000,
          46000000,
          2500000,
          35000000,
          25000000,
          1200000,
          75000,
          18000000,
          812000,
          30000000,
          3500000,
          1500000,
          17000000,
          3500000,
          20000000,
          4200000,
          2600000,
          75000000,
          40000000,
          10000000,
          10000000,
          3705538,
          4200000,
          15000000,
          94,
          8000000,
          27000000,
          6,
          28000000,
          1000000,
          14000000,
          50000,
          4615385,
          45000000,
          1374000,
          2000000,
          28000000,
          1650000,
          3500000,
          18000000,
          17610801,
          799000,
          35000000,
          22000000,
          15000000,
          40000000,
          15000000,
          15000000,
          74000000,
          6000000,
          1103000,
          13500000,
          10000000,
          2300000,
          25000000,
          4000000,
          1500000,
          5000000,
          18000000,
          70000000,
          11000000,
          11000000,
          7000000,
          2100000,
          100,
          70000000,
          4100000,
          18000000,
          23000000,
          994000,
          5000000,
          15000000,
          6900000,
          489,
          8000000,
          7000000,
          25000000,
          45000000,
          20000000,
          50000000,
          32000000,
          35866397,
          4000000,
          8,
          7800000,
          10900000,
          70000000,
          4000000,
          1804296,
          17500000,
          47000000,
          15000000,
          18000000,
          9272437,
          5000000,
          4913400,
          7400000,
          578034,
          4000000,
          225000,
          725000,
          10000000,
          5200000,
          90,
          6500000,
          2000000,
          134000,
          19000000,
          300000,
          9000000,
          2000000,
          5000000,
          28000000,
          500000,
          10000000,
          1200000,
          4600000,
          3440000,
          5000000,
          1000000,
          735000,
          1768000,
          17000000,
          12000000,
          9400000,
          25000000,
          7000000,
          5500000,
          3000000,
          8800000,
          4000000,
          13000000,
          4180000,
          6000000,
          6000000,
          500000,
          5500000,
          5000000,
          2600000,
          28000000,
          3900000,
          18500000,
          130000000,
          25000000,
          24000000,
          3500000,
          2000000,
          11000000,
          76000000,
          22000000,
          16000000,
          30000000,
          4000000,
          60000000,
          500000,
          40000000,
          7000000,
          7000000,
          11000000,
          5300000,
          24000000,
          4000000,
          35000000,
          10000000,
          100000,
          9000000,
          5740000,
          160000,
          10000000,
          6000000,
          5200000,
          13000000,
          30000000,
          10000000,
          6000000,
          3250000,
          150000000,
          4600000,
          25000000,
          1275000,
          3716946,
          12500000,
          18000000,
          8169363,
          70000,
          11500000,
          15000000,
          8000000,
          10000000,
          2159280,
          4000000,
          1683000,
          270000,
          5112027,
          21000000,
          17000000,
          1900000,
          12000000,
          35000000,
          1500000,
          5729000,
          10000000,
          5200000,
          47000000,
          1500000,
          8000000,
          384000,
          8000000,
          20000000,
          3000000,
          10000000,
          3000000,
          1750000,
          250000,
          1350000,
          2300000,
          28000000,
          1100000,
          1300000,
          14000000,
          250000,
          4900000,
          1453000,
          6000000,
          93000000,
          22000000,
          10000000,
          9000000,
          25000000,
          1000000,
          9000000,
          5500000,
          25000000,
          18000000,
          250000,
          2000000,
          9458736,
          1490000,
          2000000,
          9500000,
          3000000,
          2500000,
          30000000,
          23000000,
          20000000,
          37000000,
          5500000,
          1490000,
          6000000,
          7000000,
          450000,
          400000,
          13000000,
          15000000,
          916000,
          8000000,
          11500000,
          1500000,
          2000000,
          6900000,
          800000,
          1000000,
          1000,
          1500000,
          2000000,
          165000,
          35000000,
          6000000,
          13000000,
          42000,
          17000000,
          5393500,
          25000000,
          10000000,
          3005000,
          2500000,
          35000000,
          18000000,
          7720000,
          8000000,
          13000000,
          5000000,
          3000000,
          4000000,
          1700000,
          16000000,
          269062,
          322000,
          224056,
          2800000,
          1000000,
          7700000,
          4000000,
          3500000,
          5800000,
          10000000,
          11500000,
          25000000,
          20000000,
          175000,
          658000,
          150000000,
          4520000,
          1365000,
          2000000,
          7000000,
          200000,
          16800000,
          1000000,
          6000000,
          10000000,
          15000000,
          8700000,
          213084,
          970000,
          1000000,
          11000000,
          88000,
          23000000,
          700000,
          46,
          3800000,
          67000000,
          1300000,
          15500000,
          4000000,
          6000000,
          25000000,
          420000,
          4881000,
          70000000,
          3500000,
          77532,
          8245,
          10000000,
          6900000,
          7500000,
          61000000,
          2500000,
          9900000,
          507000,
          640000,
          20000000,
          707990,
          2000000,
          4500000,
          1884000,
          6000000,
          320000,
          1200000,
          3000000,
          5200000,
          900000,
          1644736,
          13000000,
          2000000,
          100000,
          19000000,
          850000,
          3000000,
          57000000,
          33000000,
          17000000,
          6500000,
          8500000,
          15000,
          5556000,
          50,
          3200000,
          4600000,
          500000,
          5000000,
          2100000,
          3000000,
          12758853,
          25000000,
          30000000,
          6400000,
          4000000,
          1250000,
          3300000,
          641000,
          9000000,
          29000000,
          25000000,
          30000000,
          13000000,
          7500000,
          30000,
          13000000,
          8000000,
          5000000,
          5000000,
          1000000,
          10000,
          10000000,
          1135654,
          900000,
          225000,
          9000000,
          25000000,
          14000000,
          40000,
          36000000,
          22000000,
          30000000,
          350000,
          12000,
          10000000,
          1700000,
          2600000,
          2,
          23000000,
          3196621,
          4200000,
          2000000,
          8000000,
          24000000,
          200000,
          12902809,
          1600000,
          5000,
          36000000,
          12000000,
          33000000,
          15000000,
          2160000,
          8000000,
          12000000,
          5100000,
          5000000,
          967686,
          300000,
          10300000,
          12000000,
          8300000,
          4000000,
          30000000,
          239000,
          15000000,
          2570000,
          9000000,
          10000000,
          4500000,
          20000000,
          40000000,
          3500000,
          600000,
          2500000,
          16000000,
          600000,
          13500000,
          1379375,
          2000000,
          7130000,
          2000000,
          750000,
          725000,
          143000,
          19000000,
          7000000,
          7230000,
          900000,
          1300000,
          25000000,
          6000000,
          12820005,
          6000000,
          6000000,
          7500000,
          8000000,
          1000000,
          100000,
          426848,
          10,
          19000000,
          1000000,
          10000000,
          8000000,
          10300000,
          50,
          400,
          60000000,
          10000000,
          7500000,
          3500000,
          12823507,
          25000000,
          16000000,
          118,
          4361898,
          10400000,
          103000,
          259000,
          6411831,
          9000000,
          5200000,
          10000000,
          1154000,
          175000000,
          30000,
          9000000,
          15000000,
          747000,
          7000000,
          1746706,
          15000000,
          5069632,
          8500000,
          15500000,
          6000000,
          3000000,
          762241,
          8000000,
          2020000,
          70000000,
          250,
          17000000,
          1528000,
          2000000,
          7000000,
          4500000,
          4380750,
          9000000,
          10000000,
          3300000,
          4900000,
          18000000,
          5000000,
          50,
          7500000,
          1000000,
          3000000,
          535000,
          2500000,
          7000000,
          15000000,
          18000000,
          864000,
          3300000,
          6000000,
          14000000,
          3000000,
          1300000,
          25000,
          500000,
          7800000,
          1200000,
          500000,
          5980000,
          1900000,
          250000,
          5000000,
          3700000,
          27000000,
          25000000,
          427000,
          20000000,
          10000000,
          2500000,
          3000000,
          10000000,
          3000000,
          21400000,
          12000000,
          5000000,
          700000,
          9850941,
          1100000,
          35770488,
          75000000,
          27000000,
          19000000,
          4800000,
          23000000,
          18000000,
          20000,
          5900000,
          6000000,
          713965,
          29000000,
          243000,
          12750000,
          90000000,
          5500000,
          3000000,
          1885956,
          3500000,
          2723903,
          20000000,
          17000000,
          6000000,
          6500000,
          1558000,
          31192,
          2500000,
          7500000,
          15000000,
          1700000,
          7075038,
          1,
          1644000,
          6000000,
          22000000,
          3500000,
          1089360,
          1000000,
          1100000,
          8000000,
          210000,
          25000000,
          120000,
          150000,
          3700000,
          8000000,
          12300000,
          6500000,
          10000000,
          15000000,
          8000000,
          1500000,
          5000000,
          6000000,
          9400000,
          3400000,
          15000000,
          1000000,
          10000000,
          33000000,
          200000,
          1400000,
          11000000,
          2224000,
          1250000,
          1000000,
          2500000,
          5000000,
          250000,
          25000000,
          10000000,
          23400000,
          50000000,
          2595182,
          11318430,
          11500000,
          5000000,
          5860000,
          3500000,
          6000000,
          2800000,
          2500000,
          25000000,
          439000,
          35000000,
          7300000,
          3000000,
          2000000,
          1500000,
          19000000,
          950000,
          245000,
          425000,
          28000000,
          1920000,
          4000000,
          17000000,
          225000,
          5200000,
          8394751,
          12000000,
          45000000,
          175000,
          9620000,
          17000000,
          9000000,
          7000000,
          500000,
          2265160,
          25000000,
          45000000,
          3906840,
          350000,
          20000000,
          100000,
          6750000,
          250000,
          11500000,
          270000,
          495000,
          35112500,
          609000,
          1290000,
          410000,
          7000000,
          950000,
          4000000,
          15000000,
          18000000,
          6500000,
          4800000,
          2000000,
          4000000,
          3056472,
          8731048,
          50,
          14000000,
          100000,
          1200000,
          64319,
          5000000,
          135000000,
          3144622,
          5000000,
          7500000,
          34000000,
          4000000,
          6400000,
          10000000,
          2000000,
          6000000,
          10000000,
          471000,
          8000000,
          10000000,
          3000000,
          195000000,
          25000000,
          8000000,
          390000,
          210000000,
          20000000,
          38000000,
          450000,
          25000000,
          15000000,
          6300000,
          900000,
          412640,
          20000000,
          20000,
          24000000,
          208,
          74050,
          200000,
          21000000,
          75000000,
          110000000,
          360000,
          1000000,
          12000000,
          28000000,
          3100000,
          3300000,
          38000000,
          2500000,
          15000000,
          20000,
          100000,
          15000000,
          10000000,
          700000,
          3000000,
          1243000,
          10000000,
          1012000,
          2000000,
          73000000,
          11000000,
          10000000,
          64000000,
          5444534,
          50000000,
          17000000,
          20000000,
          16000000,
          25000000,
          160000,
          2000000,
          6500000,
          800000,
          27000000,
          1200000,
          2500000,
          15000000,
          12000000,
          5019770,
          10000000,
          350000,
          1490641,
          25000000,
          20000,
          4600000,
          500,
          4400000,
          6850000,
          10000000,
          5800000,
          5000000,
          4500000,
          600000,
          21000000,
          7000000,
          1000000,
          12000000,
          1000000,
          7000000,
          250000,
          1109000,
          3000000,
          90000,
          2515000,
          2800000,
          12000000,
          1200000,
          5600000,
          6500000,
          18000000,
          5444966,
          5000000,
          2300000,
          18000000,
          8000000,
          2426950,
          1750000,
          16000000,
          373000,
          3912363,
          19500000,
          200000,
          12560000,
          9500000,
          4500000,
          3851785,
          25000000,
          5000000,
          151000,
          15000000,
          15000,
          123000,
          7000000,
          40000000,
          2500000,
          12000000,
          70000,
          707503,
          35000000,
          200005000,
          16000000,
          2869666,
          250000,
          13000000,
          1000000,
          35000000,
          800000,
          35000000,
          30000000,
          11000000,
          10000000,
          3600000,
          15000000,
          6000000,
          10000000,
          210000,
          7110000,
          7000000,
          1000000,
          1900000,
          60000000,
          10000000,
          160000,
          984936,
          3700000,
          7500000,
          20000000,
          275000,
          10700000,
          600000,
          35000000,
          15000000,
          3600000,
          2133000,
          3000000,
          8000000,
          160000,
          4480000,
          3800000,
          3000000,
          8700000,
          1114000,
          3500000,
          80000000,
          1250000,
          1200000,
          650000,
          15000000,
          82000,
          6700000,
          50,
          31430,
          5000000,
          3000000,
          8000000,
          1100000,
          10000000,
          13000000,
          3000000,
          226408,
          14000000,
          1,
          17000000,
          5000000,
          23,
          3900000,
          138000000,
          433000,
          1950000,
          6000000,
          4500000,
          8616269,
          7000000,
          16000,
          23000000,
          8104734,
          2627000,
          7000000,
          2,
          802000,
          4300000,
          3800000,
          26000000,
          18000000,
          5000000,
          15000,
          1300000,
          3500159,
          110000000,
          75000000,
          700000,
          3000000,
          9700000,
          3025379,
          558000,
          13000000,
          30000000,
          1455000,
          5000000,
          12156348,
          20000000,
          1800000,
          15000000,
          1000000,
          16500000,
          2000000,
          1500000,
          2361000,
          3500000,
          9000000,
          6000000,
          9400000,
          77000000,
          18000000,
          2500000,
          15000000,
          4600000,
          2000000,
          1800000,
          1000000,
          500000,
          13000000,
          2000000,
          18000000,
          17289533,
          10000000,
          35000000,
          8000000,
          4500000,
          4000000,
          35000000,
          10000000,
          3213790,
          5000000,
          25000000,
          63300000,
          1,
          2000000,
          5600000,
          850000,
          17000000,
          7000000,
          10000000,
          76000000,
          35000000,
          25000000,
          3000000,
          30000000,
          8500000,
          4000000,
          379000,
          7000000,
          4500000,
          10000000,
          75000000,
          35000000,
          10000000,
          15000000,
          8250378,
          3200000,
          750000,
          3347850,
          14320000,
          13000000,
          2495650,
          1500000,
          2000000,
          13000000,
          100000,
          1000000,
          15000000,
          4400000,
          1350000,
          2000000,
          5200000,
          4000000,
          1738125,
          12000000,
          4000000,
          5350000,
          2135161,
          3900000,
          610000,
          1500000,
          250000,
          4364700,
          20000,
          12000000,
          2000000,
          7000000,
          250000,
          1000000,
          3500000,
          10,
          6000000,
          1000000,
          49200000,
          134005,
          12000000,
          30000000,
          5650000,
          5000000,
          7200000,
          9000000,
          1600000,
          170000,
          9500000,
          17080000,
          1180280,
          2800000,
          2500000,
          10000000,
          6500000,
          21000000,
          2800000,
          1000000,
          23000000,
          4000000,
          11000000,
          10000,
          3000,
          4000000,
          1500000,
          3500000,
          22000000,
          2000000,
          22000000,
          25000000,
          2238813,
          5800000,
          10,
          1400000,
          7500000,
          4653000,
          3000000,
          50000,
          2552781,
          4,
          12000000,
          3352254,
          5500000,
          6200000,
          750000,
          4000000,
          1,
          14400000,
          2000000,
          45000000,
          8000000,
          4000000,
          3600000,
          20,
          3600000,
          3000000,
          19100000,
          2900000,
          10000000,
          4000000,
          800000,
          100000000,
          106000,
          200000,
          13000000,
          2500000,
          88608,
          6000000,
          1000000,
          3000000,
          35000000,
          11000000,
          25000000,
          6400000,
          30000000,
          7000000,
          678000,
          7000000,
          1645266,
          2500,
          8000000,
          500000,
          15000000,
          280000,
          2500000,
          6000000,
          13000000,
          2500000,
          2500000,
          4090000,
          10000,
          6000000,
          12000000,
          5000000,
          9000000,
          45000000,
          16988,
          125000000,
          4000000,
          4800000,
          29000000,
          36000000,
          1500000,
          4000000,
          900000,
          50000000,
          100000000,
          16000000,
          21000000,
          43000000,
          4000000,
          2500000,
          6000000,
          33000,
          20000000,
          2500000,
          4552700,
          855000,
          76000,
          3500000,
          7300,
          2090000,
          55000000,
          250000,
          1000000,
          6000000,
          2500000,
          12000000,
          7000000,
          3400000,
          2700000,
          4833490,
          10000000,
          12,
          1090912,
          42,
          225000,
          63000000,
          60000,
          25000000,
          4317946,
          3425875,
          4000000,
          3837625,
          8250000,
          23000000,
          3500000,
          4000000,
          9000000,
          1000000,
          3900000,
          15,
          6000000,
          5000000,
          7000000,
          5940000,
          3500000,
          12000000,
          10000,
          6000000,
          6000000,
          20000000,
          850000,
          3900000,
          10000000,
          28000000,
          80000000,
          15000000,
          6000000,
          1000000,
          14734000,
          13000000,
          3000000,
          55000000,
          5000,
          2500000,
          2500000,
          2000000,
          1,
          2500000,
          2962051,
          65000,
          30000000,
          250000,
          1000000,
          250000,
          5730000,
          3000000,
          34000000,
          5000000,
          2500000,
          2600000,
          7838798,
          10000,
          10000000,
          3000000,
          130178,
          8000000,
          5000000,
          312000,
          90000000,
          12000000,
          6000000,
          40000000,
          27000000,
          7700000,
          17000000,
          750000,
          60000000,
          30000000,
          2000000,
          24000000,
          17000000,
          800000,
          14000000,
          1100000,
          1000000,
          13000000,
          29000000,
          6000000,
          10000000,
          75000000,
          31000000,
          20000000,
          60000000,
          2721526,
          20000000,
          150000,
          20000000,
          8000000,
          8000000,
          13100000,
          2600000,
          500000,
          11000000,
          28000000,
          400000,
          16000000,
          7000000,
          4000000,
          24554,
          9661157,
          800000,
          6800000,
          66000000,
          130000,
          2000000,
          18000000,
          8700000,
          420,
          4000000,
          7,
          6000000,
          5000000,
          27000000,
          1400000,
          19000000,
          9000000,
          365000,
          12468389,
          2300000,
          4000000,
          1300000,
          70000000,
          3700000,
          12000000,
          5000000,
          75000000,
          27563396,
          47000000,
          1800000,
          100000,
          7500000,
          150000000,
          17311,
          19000000,
          18000000,
          150,
          560000,
          806000,
          73476,
          3000000,
          19000000,
          3000000,
          6400000,
          15000000,
          25496629,
          100000000,
          1000000,
          10000000,
          200000,
          15000000,
          3062000,
          2000000,
          3900000,
          5000000,
          2600000,
          2349000,
          5000000,
          42,
          30000000,
          14000000,
          20000000,
          14000000,
          1,
          450,
          13400000,
          500000,
          13442285,
          7275000,
          39000000,
          65000000,
          19000000,
          50000,
          1152000,
          16000000,
          13000000,
          3000000,
          2000000,
          4000000,
          2100000,
          123000000,
          5000000,
          2000000,
          36000000,
          1000,
          7000000,
          12000000,
          8500000,
          855,
          75000000,
          8000000,
          6500000,
          13000000,
          43000000,
          550000,
          20000000,
          3000000,
          75000000,
          120000000,
          750000,
          2650000,
          5782853,
          137731,
          25000000,
          12000000,
          4500000,
          30000000,
          58000000,
          30000000,
          500000,
          5500000,
          5000000,
          30000000,
          10000000,
          1500000,
          53000000,
          750,
          99999,
          4800000,
          500000,
          21000000,
          1800000,
          1140000,
          8000000,
          10000000,
          1978000,
          30000000,
          62000000,
          3700000,
          47000000,
          25000,
          40000000,
          18000000,
          3550000,
          930000,
          6200000,
          40000000,
          45000000,
          9150000,
          2000000,
          5000000,
          19000000,
          14000000,
          2142000,
          65000000,
          2500000,
          18000000,
          250000,
          58000000,
          200000,
          9000000,
          11000000,
          5500000,
          50,
          8500000,
          2400000,
          6500000,
          5000000,
          12000000,
          1000000,
          5000000,
          12000000,
          10000000,
          100000,
          12000000,
          35000000,
          10000000,
          35000000,
          250000000,
          20000000,
          75000000,
          13000000,
          4000000,
          160000000,
          45000000,
          1031764,
          67000000,
          25000000,
          7300000,
          1300000,
          10000,
          5500000,
          8000000,
          4000000,
          50000000,
          25000000,
          25000000,
          600000,
          8500000,
          40000000,
          6500000,
          18000000,
          4500000,
          6100000,
          5200000,
          21918618,
          20000000,
          12500000,
          70000000,
          40000000,
          986250,
          3500000,
          50000,
          2705388,
          6000000,
          5500000,
          8000000,
          13000000,
          810000,
          10000000,
          3000000,
          600000,
          10000000,
          5000000,
          18000000,
          14000000,
          800000,
          1200000,
          8000000,
          100000,
          140000000,
          10000000,
          19908420,
          4200000,
          15000000,
          2500000,
          60000000,
          3296709,
          1108000,
          2700000,
          80000000,
          7000000,
          2700000,
          4100000,
          13000000,
          750000,
          15000000,
          49000000,
          13000000,
          8000000,
          30000000,
          100000000,
          110000000,
          21000000,
          27000000,
          12000000,
          1000000,
          47000000,
          163000000,
          2900000,
          16000000,
          62000000,
          85000000,
          154790,
          923000,
          15000000,
          50000000,
          9000000,
          12000000,
          1500000,
          120000,
          9100000,
          65000,
          18000000,
          9500000,
          6000000,
          6453637,
          5000000,
          16000000,
          195000000,
          169000,
          130000,
          2200000,
          70000000,
          9600000,
          60000000,
          2600000,
          30000000,
          250000,
          5000000,
          72500000,
          85000000,
          3500000,
          87000000,
          4000000,
          3000000,
          15400000,
          19000000,
          8000000,
          2200000,
          2600000,
          50000000,
          10000000,
          25000000,
          2900000,
          6500000,
          25000000,
          15000000,
          3600000,
          100000000,
          2500000,
          19000000,
          9000000,
          10000000,
          10000000,
          2200000,
          11180,
          2500000,
          947000,
          8000000,
          12000000,
          10000000,
          12500000,
          93,
          5000000,
          7552917,
          4000000,
          65000000,
          205000,
          100000,
          2000000,
          41000000,
          16000000,
          25000000,
          5900000,
          20000000,
          20000000,
          45000000,
          10000000,
          45000000,
          25000000,
          35000000,
          60000000,
          4000000,
          6000000,
          40000000,
          1200000,
          2200000,
          14000000,
          6,
          14000000,
          13000000,
          37665000,
          463455,
          160000000,
          1900000,
          2100000,
          7500000,
          12000,
          10000,
          30000000,
          50091,
          1900000,
          25000000,
          18000000,
          102000000,
          2100000,
          2000000,
          200000000,
          25000000,
          500000,
          777000,
          8000000,
          500000,
          12000000,
          5800000,
          4000000,
          41000000,
          3000000,
          483103,
          2995000,
          50,
          8000000,
          850000,
          26350000,
          6300000,
          125000,
          5300000
         ],
         "xaxis": "x",
         "y": [
          57000000,
          35878266,
          201858461,
          419074646,
          30234182,
          103181419,
          306766470,
          760098996,
          374733942,
          1450026933,
          34592118,
          800526015,
          2046239637,
          17133446,
          4,
          796575993,
          1131927996,
          2797800564,
          450717150,
          53181600,
          333535934,
          309979994,
          252207,
          169837010,
          47862188,
          69497587,
          1047612394,
          1656943394,
          307360000,
          203044905,
          326709727,
          286140700,
          167184112,
          67918658,
          68349884,
          473093228,
          325680,
          122801777,
          95708457,
          629443428,
          124731534,
          43928932,
          223343452,
          433005346,
          1074144248,
          3100000,
          375540831,
          529221154,
          1940234,
          91490353,
          386600138,
          517526875,
          252442974,
          146661977,
          137056262,
          791017452,
          1128276090,
          61768190,
          855013954,
          107604626,
          100176000,
          73279888,
          171616764,
          1303459585,
          530243742,
          14871307,
          582890172,
          853977126,
          363533271,
          880166924,
          114996853,
          657924295,
          175302354,
          895921036,
          976475550,
          116826172,
          62771059,
          789804554,
          257591776,
          297718711,
          821847012,
          741547413,
          292351275,
          1346739107,
          1242805359,
          31329947,
          160542134,
          17976667,
          111615070,
          146497771,
          123276807,
          544272402,
          252909177,
          71319546,
          225508210,
          587204668,
          933959197,
          1148461807,
          259239658,
          39514713,
          89203432,
          783100000,
          118587880,
          125002821,
          571006128,
          214215889,
          1341511219,
          956019788,
          215863606,
          657827828,
          426245950,
          22799033,
          235483004,
          296482446,
          304320254,
          1671713208,
          954305868,
          619021436,
          543934787,
          677700000,
          368307760,
          2787965087,
          246941965,
          319494638,
          747862775,
          3153,
          1004558444,
          373552094,
          89328627,
          132807427,
          47088457,
          171539887,
          290061297,
          348319861,
          346864462,
          1238764765,
          701796444,
          43070915,
          295238201,
          216909830,
          124596398,
          467989645,
          427399,
          484409218,
          675120017,
          41063475,
          2078370,
          22244207,
          111928365,
          458863600,
          527068851,
          928760770,
          365550119,
          1405403694,
          67200000,
          87547518,
          622674139,
          275650703,
          325771424,
          24946533,
          232380243,
          566652812,
          894027543,
          863756051,
          18,
          1153296293,
          221600160,
          5600000,
          3606395,
          117195061,
          83672673,
          35808437,
          653355901,
          829000000,
          295038508,
          545436,
          1274219009,
          521170825,
          44664690,
          393616788,
          1214811252,
          473226958,
          708962323,
          8621288,
          59754601,
          5958315,
          288175335,
          381109762,
          962102237,
          407602906,
          226945087,
          99965753,
          542307423,
          26925979,
          1263521126,
          525573161,
          477200000,
          746846894,
          473990832,
          306515884,
          211817906,
          243637091,
          177856751,
          32726956,
          100000000,
          215832199,
          86362372,
          775398007,
          44400000,
          752100229,
          752600867,
          286801374,
          208588,
          59213931,
          191540586,
          348807090,
          18610260,
          2187463944,
          231252591,
          809342332,
          585174222,
          41627431,
          287553595,
          1065659812,
          877244782,
          821708551,
          320392818,
          440603537,
          609123048,
          1332539889,
          698491347,
          274650803,
          873634919,
          890871626,
          373554033,
          112790210,
          92924405,
          655011224,
          851517,
          794861794,
          121463226,
          408579038,
          469310836,
          871368364,
          268031828,
          857611174,
          15200000,
          494878759,
          1023784195,
          712171856,
          146936910,
          926287400,
          378858340,
          1515047671,
          383257136,
          410902662,
          75836683,
          3719383,
          102084362,
          66925842,
          660998756,
          1081041287,
          92503612,
          1021103568,
          205754447,
          48818723,
          309232797,
          234989584,
          351266433,
          17643857,
          190514361,
          103911669,
          274925095,
          471222889,
          104931801,
          14000000,
          54418872,
          449326618,
          644571402,
          623933331,
          67131266,
          488533726,
          225874228,
          961000000,
          150680864,
          31672678,
          709827462,
          207945075,
          605425157,
          763455561,
          630161890,
          312296056,
          1066969703,
          7766240,
          252712101,
          23507567,
          321885765,
          190213455,
          256697520,
          10076790,
          78371200,
          97437106,
          2006704,
          140161792,
          562816256,
          374251247,
          183987723,
          392000694,
          28646544,
          2068223624,
          193355800,
          59522646,
          120654337,
          1118888979,
          24829644,
          173930596,
          825532764,
          41657844,
          205703818,
          474968763,
          14000000,
          29819114,
          113244290,
          1104054072,
          531865000,
          44781695,
          125212904,
          334901337,
          6341684,
          886686817,
          21000000,
          73515024,
          358375603,
          44196684,
          72281712,
          392952373,
          5835247,
          1031552585,
          958400000,
          210819611,
          226830568,
          125983972,
          374218673,
          18377736,
          346147658,
          25504513,
          362000072,
          278454358,
          14237880,
          185258983,
          543514353,
          45000000,
          20545116,
          757930663,
          254455986,
          31556061,
          745013115,
          562363449,
          233555708,
          331957105,
          114908830,
          966550600,
          21722776,
          48428063,
          173567581,
          5021219,
          623722818,
          592461732,
          126069509,
          653428261,
          370541256,
          271430189,
          163712074,
          520000000,
          122033739,
          25343661,
          17964238,
          5132274,
          123081555,
          43058898,
          970761885,
          559852396,
          137551594,
          179246868,
          414351546,
          50671850,
          880674609,
          81093313,
          80509622,
          572809,
          28650575,
          211343479,
          88761661,
          288747895,
          349779543,
          82468705,
          142337240,
          68467960,
          738599701,
          130234661,
          158162788,
          245066411,
          19629760,
          2363584,
          4612788,
          36690067,
          8000000,
          368871007,
          3364426,
          585410052,
          236049757,
          5774854,
          300473716,
          355692760,
          22525668,
          28341469,
          677387716,
          332207671,
          176586701,
          203388186,
          192330738,
          244819862,
          32980880,
          247022278,
          481840909,
          497366869,
          798958165,
          97607453,
          107071655,
          113231078,
          300400432,
          4001919,
          79603,
          100546153,
          253688035,
          95438172,
          3469151,
          194989655,
          27530241,
          403170142,
          104399548,
          278019771,
          13092000,
          538983207,
          299457024,
          2602149,
          169801921,
          611899420,
          45284974,
          378827494,
          940335536,
          529076069,
          231449203,
          589390539,
          100853753,
          230884728,
          735099082,
          102391540,
          97009150,
          125289450,
          66316289,
          88489643,
          433888866,
          53774397,
          710644566,
          422610419,
          543513985,
          470653000,
          263591415,
          32517248,
          22217407,
          521311860,
          35287788,
          21164799,
          4803565,
          389681935,
          91077276,
          16951798,
          53302314,
          631442092,
          131183530,
          424988211,
          8737458,
          2300000,
          69623713,
          50020902,
          112399944,
          376141306,
          72457330,
          111353135,
          66308758,
          287506194,
          139352633,
          152925093,
          35728183,
          119559110,
          226497209,
          321365567,
          132563930,
          357852395,
          91709827,
          36894225,
          332000000,
          307166834,
          91379051,
          248384621,
          29400000,
          593683,
          257047661,
          334615000,
          743559607,
          356296601,
          79336821,
          306941670,
          53847136,
          91354215,
          27200316,
          85720385,
          497409852,
          214179088,
          504050219,
          92108518,
          14674076,
          20560255,
          337580051,
          21200000,
          155160045,
          73983359,
          433677183,
          10023153,
          102952888,
          40343446,
          40100000,
          320689294,
          125729635,
          125641396,
          33692510,
          69411370,
          370569774,
          66265218,
          21360215,
          377350553,
          81967450,
          500188435,
          98267558,
          694713380,
          136150434,
          2000000,
          668045518,
          71923560,
          130290885,
          91244913,
          140705322,
          411348924,
          310634054,
          148675066,
          75700000,
          34872033,
          484635760,
          182379278,
          151572634,
          57615777,
          229147509,
          609016565,
          16000000,
          524028679,
          89083229,
          599045960,
          184925486,
          114178613,
          746921274,
          109906372,
          431971116,
          847423452,
          20497844,
          172989651,
          255407969,
          206172544,
          465361176,
          109676311,
          1891907,
          219851172,
          245724603,
          23159305,
          249348933,
          631744560,
          714766572,
          84300000,
          190320568,
          532950503,
          54207,
          293329073,
          682330139,
          123494610,
          107139399,
          131457147,
          273339556,
          303025485,
          216972543,
          53830415,
          66023329,
          100014025,
          177238796,
          156974557,
          113857533,
          425368238,
          35926213,
          389925971,
          206071502,
          1056057273,
          19454845,
          275947313,
          87100449,
          224920315,
          498814908,
          1292773,
          291465034,
          215880014,
          371353001,
          631910531,
          122915111,
          769653595,
          88092097,
          59217789,
          172363301,
          194647323,
          95437994,
          242988466,
          100541806,
          11642254,
          77912251,
          119942387,
          5000,
          57120318,
          95330493,
          103590271,
          73866088,
          86410000,
          90810892,
          301970083,
          20311536,
          542063846,
          60722734,
          17768757,
          50300000,
          191502426,
          40423945,
          34017028,
          80253908,
          8352885,
          24849029,
          62832209,
          73707461,
          203277636,
          57497699,
          214945591,
          117235147,
          60141683,
          203427584,
          163876815,
          25327500,
          870322670,
          159414369,
          128388320,
          20158808,
          270997378,
          108047131,
          319700000,
          47078545,
          76432727,
          113086475,
          327311859,
          348840316,
          94061311,
          34077920,
          8556940,
          102820008,
          14946150,
          250397798,
          83061158,
          309208309,
          164000000,
          150000000,
          99318987,
          63013281,
          85241496,
          145374099,
          538400000,
          17137302,
          126546518,
          89162162,
          157600000,
          94073028,
          104391623,
          78378744,
          116471580,
          772776600,
          15938065,
          457731198,
          603900354,
          228738393,
          68233629,
          29000000,
          121147947,
          78608288,
          28262574,
          102600000,
          156844753,
          44902237,
          183316455,
          115603229,
          173046663,
          76514050,
          33456317,
          419665568,
          153962963,
          33754967,
          162146076,
          159313561,
          162000000,
          390493908,
          300135367,
          173000000,
          157887643,
          272912430,
          158256993,
          35763605,
          1214525,
          141220678,
          10700000,
          223664608,
          215862692,
          84552250,
          117719158,
          140795793,
          180613180,
          150962475,
          34522221,
          98441954,
          2379154,
          116000000,
          209154322,
          50548152,
          131940411,
          36220872,
          54682547,
          30000000,
          186167139,
          300257475,
          19472057,
          161025640,
          53000000,
          197183546,
          1108561013,
          45465299,
          180899045,
          162091208,
          358994850,
          484592874,
          32000000,
          254212245,
          589580482,
          21930418,
          4230000,
          352114312,
          363204635,
          69766483,
          624026776,
          263920180,
          37070177,
          220673217,
          258022233,
          84025816,
          31807156,
          443140005,
          1028570889,
          47494916,
          78638987,
          246233113,
          20483423,
          28128670,
          112483764,
          591739379,
          363258859,
          317375031,
          103215094,
          18090181,
          397850012,
          33800000,
          24271196,
          129042871,
          448191819,
          50401502,
          244527583,
          93621340,
          145771527,
          161626121,
          1156730962,
          115103979,
          25118063,
          4537,
          3324330,
          14860766,
          352927224,
          49380115,
          159047649,
          64493915,
          572000000,
          21502976,
          108981275,
          3775000,
          162360636,
          169332978,
          80767884,
          213893795,
          15391979,
          78874843,
          116980662,
          2351359,
          15116634,
          227300000,
          122637878,
          133821816,
          287594577,
          108758521,
          189015611,
          200804534,
          90426405,
          741875,
          40485039,
          242875078,
          267447150,
          692079,
          6102076,
          82087155,
          79799880,
          238207122,
          46357676,
          27793200,
          183474602,
          367275019,
          226349749,
          145570827,
          467365246,
          469160692,
          1025467110,
          32540674,
          17500000,
          17985893,
          99138899,
          354248063,
          435000000,
          5155325,
          130560428,
          383531464,
          409231607,
          22320893,
          351583407,
          149542245,
          287928194,
          67790117,
          242688965,
          76066841,
          42800000,
          14400000,
          43967255,
          115664037,
          60700000,
          51764406,
          170000000,
          321455689,
          86165646,
          482860185,
          554987477,
          301913131,
          159773545,
          47383689,
          13167232,
          65146020,
          48021766,
          97552050,
          132180323,
          54700105,
          25091816,
          31635150,
          149878437,
          132820716,
          117501013,
          81979826,
          80916492,
          415252786,
          378882411,
          17752940,
          432844677,
          145000000,
          224834564,
          71073932,
          171627166,
          210000000,
          170764026,
          26249469,
          433013274,
          47042000,
          356830601,
          167977596,
          314975955,
          55675257,
          18730891,
          211819354,
          493214993,
          128905366,
          95396573,
          127233108,
          48919043,
          155313078,
          17399000,
          136766062,
          205366737,
          126041322,
          149295601,
          47664559,
          87305549,
          415885488,
          229400000,
          57096190,
          76858273,
          87404651,
          196482882,
          60000000,
          52302796,
          12342632,
          168840000,
          63102666,
          8100000,
          121790373,
          336529144,
          4412639,
          25754775,
          249288105,
          83080890,
          311950384,
          244386864,
          16367326,
          723192705,
          6272403,
          164989338,
          122700000,
          104303851,
          110000000,
          310669540,
          140312928,
          68282844,
          255105930,
          71041255,
          132675864,
          165184237,
          350448145,
          120072577,
          53431158,
          122823468,
          10165694,
          148100000,
          3377430,
          37767206,
          23057115,
          12371132,
          44093316,
          649398328,
          55003890,
          295212467,
          441818803,
          356743061,
          36764313,
          139804348,
          39055536,
          347234916,
          46749646,
          93375151,
          58058367,
          429632142,
          32140970,
          196114570,
          280000000,
          218340595,
          66002004,
          352194034,
          237202299,
          461983149,
          11122090,
          202404009,
          195243411,
          426588510,
          68766121,
          379014294,
          362744280,
          173000000,
          222231186,
          286168572,
          140767956,
          16593554,
          33400000,
          178043761,
          311312624,
          36869414,
          169327687,
          201634991,
          38992758,
          27107960,
          121975011,
          153083102,
          366101666,
          30641770,
          48686605,
          9080818,
          274470394,
          5380251,
          415686217,
          130293714,
          333000000,
          149228077,
          97644617,
          269994119,
          21028755,
          122126687,
          86026201,
          320705,
          155010032,
          83320000,
          163442937,
          1165882,
          201596308,
          95696996,
          90259536,
          245360480,
          268426634,
          72258126,
          108145109,
          325286646,
          133511855,
          817400891,
          4824499,
          264118201,
          61503218,
          185770160,
          132511035,
          23737523,
          24769466,
          4915757,
          82515113,
          347325802,
          924317558,
          53424681,
          140470746,
          19682924,
          83258226,
          7649973,
          205843612,
          9602624,
          119946358,
          26820641,
          53478166,
          50871113,
          93617009,
          33395426,
          1784763,
          66167951,
          19054534,
          14394097,
          64321501,
          167323950,
          98337295,
          474171806,
          5148503,
          315156409,
          57469467,
          102356381,
          33157615,
          240697856,
          69929545,
          26589000,
          2260622,
          14089528,
          1000000,
          288347692,
          20416563,
          109578115,
          154026136,
          86468162,
          17544173,
          29999213,
          147880543,
          23341568,
          349464664,
          56631572,
          37664855,
          4000000,
          119520023,
          39723096,
          381509870,
          203567857,
          25836616,
          142940100,
          15894372,
          442824138,
          101371017,
          42105111,
          161849455,
          572700000,
          173921954,
          217124280,
          40452643,
          184724494,
          222809600,
          335154643,
          77566815,
          233093859,
          333932083,
          44459951,
          347434178,
          34156960,
          108979549,
          211643158,
          55060212,
          240031094,
          1585582,
          84618541,
          3301446,
          24600832,
          142851197,
          2859750,
          114000000,
          396600000,
          170877916,
          122200000,
          87625666,
          63523283,
          159291809,
          672806292,
          51376861,
          28931401,
          171757863,
          49078000,
          50000000,
          75505973,
          5900000,
          161451538,
          34560577,
          29789000,
          224012234,
          415484914,
          270665134,
          32511655,
          546388105,
          14564027,
          85512300,
          136000000,
          69425966,
          94017294,
          850000000,
          15304890,
          39407616,
          82391145,
          32248241,
          14700000,
          53939297,
          44235023,
          300218018,
          178051587,
          302469017,
          3909002,
          193772504,
          17949758,
          4366460,
          23875127,
          296655431,
          1755212,
          329398046,
          400062763,
          97138686,
          8771757,
          792965326,
          133718711,
          149270999,
          333011068,
          65048678,
          70067909,
          107670357,
          93933394,
          35164920,
          159157447,
          6979093,
          1402307,
          33562069,
          136267476,
          68572378,
          22490039,
          155721132,
          413106170,
          218613188,
          401128639,
          240797623,
          44516999,
          242786137,
          243843127,
          16374328,
          86865564,
          9420546,
          197309027,
          65464324,
          1969193,
          189712432,
          1100000,
          215294342,
          160112671,
          446486224,
          282570682,
          123726688,
          64188367,
          441286195,
          266000000,
          95149435,
          81705746,
          201585328,
          155545279,
          188441614,
          2000000,
          69823199,
          456758981,
          219076518,
          11000000,
          34266564,
          71255003,
          174600318,
          248639099,
          5923044,
          65754228,
          21288692,
          177371441,
          54956140,
          121214377,
          58500000,
          32556119,
          58795814,
          171844840,
          162839667,
          341631208,
          2137751,
          30749142,
          92542418,
          307077295,
          46836394,
          368100420,
          54837234,
          46189568,
          39171130,
          74558115,
          85182160,
          362637473,
          94728529,
          79082515,
          122195920,
          16209459,
          9205924,
          408247917,
          209838559,
          96188903,
          127730736,
          152159461,
          43202283,
          27635305,
          123276807,
          97542952,
          261465,
          92158961,
          11808880,
          59600000,
          361832400,
          100086793,
          168167691,
          21200000,
          84785914,
          107217396,
          82124805,
          87987055,
          90747520,
          411006740,
          198087212,
          118034273,
          22852638,
          45172994,
          622806,
          160192031,
          27333835,
          264105545,
          46069568,
          101758490,
          14296438,
          150847207,
          198802074,
          18662027,
          52597999,
          563749323,
          155760117,
          255000211,
          83719388,
          75100000,
          56489558,
          52882018,
          59389433,
          127766650,
          52099090,
          30332385,
          73090611,
          50041732,
          6903033,
          97572000,
          786636033,
          276572938,
          23000000,
          237382724,
          1319566,
          105197635,
          46597100,
          574480841,
          208076205,
          165335153,
          107597242,
          103951461,
          101702060,
          40346186,
          115400000,
          44998252,
          236412453,
          101434304,
          117831631,
          46372519,
          141774679,
          371940071,
          35401758,
          358372926,
          51749995,
          78756177,
          122650962,
          91627228,
          119723856,
          318502923,
          459242249,
          174804407,
          159055768,
          111476513,
          147332697,
          28000000,
          30925690,
          19551067,
          57500000,
          22044277,
          270000000,
          6399,
          57076286,
          46471023,
          187436818,
          138530565,
          74189677,
          72282227,
          133346506,
          33395426,
          47351251,
          288500217,
          123306987,
          60462347,
          1785977,
          59489799,
          187134117,
          48572000,
          197011982,
          340487652,
          351040419,
          66468332,
          33904605,
          31039126,
          59192128,
          24000000,
          8654322,
          127666415,
          179179718,
          5775178,
          67312826,
          74679822,
          30,
          2360281,
          57400547,
          39143839,
          60052138,
          2019874,
          304654182,
          89289910,
          7048886,
          51164106,
          19165560,
          245527149,
          126690726,
          4811525,
          56505065,
          478207520,
          96085477,
          250200000,
          363889678,
          101595121,
          160388063,
          68514844,
          248118121,
          96976270,
          12638526,
          8880045,
          592565,
          179379533,
          155446362,
          72700000,
          6591038,
          117932401,
          142817992,
          148868835,
          217764291,
          63327201,
          80573774,
          105610124,
          9644124,
          5206,
          12639297,
          61700416,
          19233280,
          23006849,
          119188334,
          14980005,
          125586134,
          314432665,
          22165608,
          64241499,
          61648500,
          147934180,
          15447154,
          196567262,
          343397247,
          131282949,
          23438120,
          177243185,
          67760877,
          7201952,
          150000000,
          48854305,
          38435947,
          187112,
          123218424,
          37020277,
          247275374,
          245676146,
          65046687,
          99255460,
          35402320,
          84606030,
          49230772,
          15008161,
          64076736,
          47098491,
          10000000,
          102272727,
          76347426,
          114194847,
          39041505,
          70595464,
          87713825,
          40120144,
          102367405,
          11203026,
          29413900,
          177427090,
          18755936,
          151493,
          65569869,
          46683377,
          261930431,
          124914842,
          68263166,
          261572744,
          30102717,
          1574623,
          156835339,
          31070211,
          34764055,
          60965854,
          180851,
          99206215,
          98126565,
          3639345,
          690860472,
          97594140,
          49263404,
          160078586,
          123729176,
          335062621,
          31724284,
          53321673,
          176070171,
          20112926,
          251171807,
          27020284,
          86234523,
          11560806,
          235666219,
          302710615,
          178120010,
          96455697,
          240685326,
          10312540,
          113493481,
          103891409,
          22211426,
          230698791,
          30859000,
          384335608,
          5410749,
          119723358,
          214034224,
          16974459,
          18564467,
          6854611,
          259207227,
          232617430,
          31882724,
          95000000,
          32204030,
          41036181,
          69995385,
          5231128,
          48126384,
          104384188,
          108103450,
          22126842,
          94000000,
          78054825,
          30418560,
          194243,
          26279000,
          31042035,
          274703340,
          158674180,
          39187783,
          136706683,
          118338361,
          163403799,
          133332,
          141591324,
          767820459,
          91036760,
          57777106,
          173959438,
          11817275,
          1749201,
          138259062,
          60629159,
          81126522,
          32056467,
          303144152,
          152930623,
          9440272,
          54674226,
          147298761,
          660132,
          71215869,
          66976317,
          44922302,
          6348889,
          25174316,
          187000000,
          65705772,
          650422,
          55707411,
          227853986,
          260095986,
          98450062,
          5186767,
          29010817,
          116643346,
          82150183,
          46216641,
          75511123,
          160602194,
          7972967,
          54819301,
          65000000,
          25405445,
          98159963,
          25035950,
          10000000,
          117487473,
          74208267,
          26667197,
          261317921,
          351839303,
          133818283,
          4636169,
          25000000,
          27453418,
          29800000,
          170268750,
          56932305,
          2115765,
          47709193,
          104876233,
          39667665,
          48333932,
          177512032,
          215283742,
          99423521,
          164648142,
          212902372,
          196781193,
          42776760,
          40283321,
          27979040,
          85564310,
          783766341,
          15826984,
          101332962,
          11555430,
          76014335,
          58072119,
          264218220,
          100659,
          165333180,
          4100000,
          30700000,
          169956806,
          553810228,
          152944660,
          182968902,
          100491683,
          96060858,
          195735876,
          64437847,
          225933435,
          13414416,
          34061097,
          142400065,
          25480490,
          20645327,
          41037742,
          78096553,
          223241637,
          38502340,
          231411584,
          47756590,
          211780824,
          17555141,
          127906624,
          356613439,
          9097072,
          244931766,
          62357900,
          151831537,
          40462793,
          8493728,
          232324128,
          132963417,
          214015089,
          143695338,
          78309131,
          76073488,
          49042224,
          14793385,
          220021259,
          32222567,
          181674817,
          43203413,
          6739141,
          55736588,
          491868548,
          59284015,
          29922472,
          91188905,
          180557550,
          229736344,
          51070807,
          85446075,
          235860116,
          202292902,
          146292009,
          491570967,
          1073394593,
          261119292,
          155152550,
          131359052,
          40882928,
          404852543,
          252608480,
          1519557910,
          634151679,
          938212738,
          27500000,
          86493046,
          1045713802,
          4,
          122563539,
          86758912,
          26250020,
          61788393,
          62646763,
          22384741,
          38122105,
          449220945,
          43884652,
          105178561,
          17772506,
          83557872,
          30524763,
          2527904,
          22400154,
          14710975,
          441809770,
          235926552,
          281929795,
          92913171,
          50083616,
          161772375,
          51132598,
          22168359,
          93920758,
          70692101,
          68896829,
          111811453,
          82102379,
          29170410,
          46546197,
          32438988,
          108255770,
          117224271,
          98690254,
          226904017,
          3984669,
          119100758,
          51881013,
          173185859,
          71079915,
          25965144,
          28215918,
          89792502,
          130786397,
          29252978,
          83615414,
          36433975,
          86157237,
          86369815,
          32721635,
          9489829,
          113374103,
          158733820,
          74952305,
          20796847,
          114660784,
          61621140,
          120207127,
          194168700,
          71009334,
          96047633,
          119137784,
          250288523,
          38830219,
          151493655,
          77947607,
          105316267,
          58853106,
          200512643,
          61698899,
          115505027,
          167298192,
          63781810,
          920100000,
          16491080,
          505000000,
          40075446,
          10166820,
          288752301,
          141195658,
          57223890,
          103071443,
          104478416,
          56681566,
          64978931,
          41482207,
          152427960,
          197079546,
          50710400,
          321731527,
          63408614,
          7339398,
          391081192,
          78868508,
          170362582,
          110230332,
          69131860,
          19652185,
          219788712,
          26570463,
          44434439,
          71000000,
          33459416,
          15071514,
          57504069,
          150816700,
          779820,
          3919254,
          56309766,
          216639112,
          68267862,
          116112375,
          173013509,
          178127760,
          36230219,
          37962774,
          26049082,
          129832389,
          341432090,
          17506878,
          187500000,
          66984887,
          45056771,
          60922980,
          242295562,
          212000000,
          77068246,
          68369434,
          99357138,
          42724017,
          135511030,
          45158254,
          14717854,
          94539426,
          11000000,
          178866158,
          174503458,
          71664962,
          27165581,
          214104620,
          40996665,
          19701164,
          149022650,
          38869464,
          17092453,
          60611975,
          177394432,
          41170784,
          2514679,
          178311729,
          30800231,
          66000000,
          209696,
          24121245,
          51053787,
          44352417,
          722932,
          28818995,
          55534455,
          216763646,
          160583018,
          87892388,
          69821334,
          7825000,
          62882090,
          152000000,
          4105187,
          179265204,
          90874570,
          34934009,
          72436439,
          2500000,
          277448382,
          124827316,
          34942188,
          52826594,
          18144030,
          27000000,
          10696210,
          183031272,
          132274484,
          395044706,
          29355203,
          55181129,
          12532777,
          609841637,
          9250000,
          12281551,
          44703995,
          42931041,
          199850315,
          8203235,
          5367030,
          250649836,
          113916474,
          36400360,
          27105095,
          11466088,
          38673750,
          137298489,
          24261569,
          46089287,
          114977104,
          157107755,
          285444603,
          12506188,
          12090735,
          10539000,
          40828540,
          10462500,
          162242962,
          13596911,
          55583804,
          78988148,
          11942780,
          45867333,
          67000000,
          27397655,
          47053625,
          27642707,
          79114085,
          26000000,
          78898765,
          187361754,
          177841558,
          117813057,
          35300645,
          10827810,
          35168966,
          316360478,
          285176741,
          18999718,
          27139524,
          5879736,
          181813770,
          47405566,
          34854990,
          24145613,
          65535067,
          98185582,
          59209,
          13008928,
          190212113,
          5472914,
          35294470,
          110206216,
          260696994,
          40263020,
          2000000,
          14560247,
          259175788,
          413844,
          115267375,
          6000000,
          113019290,
          153997819,
          56032889,
          90247624,
          2331721,
          39459427,
          10667893,
          195702811,
          112462508,
          16861137,
          35097815,
          44806783,
          9760104,
          150406466,
          64350171,
          86658558,
          99067206,
          14301505,
          216485654,
          24185781,
          75395048,
          14697005,
          1594955,
          11403529,
          278731369,
          219417255,
          17280326,
          211989043,
          41009669,
          9101546,
          13555988,
          13231461,
          372234864,
          61181942,
          38610009,
          4160851,
          167805466,
          48190704,
          181096164,
          104945765,
          6980986,
          149281606,
          134402450,
          177584879,
          22921898,
          139000000,
          89519773,
          27762648,
          13521829,
          447741,
          12975143,
          116019547,
          2300000,
          156167015,
          57588485,
          14333790,
          1826705,
          424208848,
          49000000,
          55000000,
          29152618,
          13129846,
          48453605,
          8762890,
          48548426,
          125728258,
          46221189,
          374111707,
          23081726,
          6897446,
          65664721,
          7793,
          33526835,
          1060056,
          313542341,
          41000000,
          211952420,
          10109659,
          114281051,
          5750000,
          371876278,
          23217674,
          216197492,
          6341855,
          62022014,
          271842,
          6566916,
          111584787,
          42664410,
          2054941,
          179519401,
          22182353,
          129115,
          161777836,
          151119219,
          21075014,
          3813293,
          47309313,
          105173115,
          2341534,
          377910544,
          161834276,
          8095658,
          26673242,
          198636868,
          156822020,
          18409891,
          212385533,
          153698625,
          875386,
          185438673,
          84646831,
          202026112,
          60874615,
          53672080,
          14144000,
          254700832,
          3099314,
          8821329,
          80035402,
          163794509,
          7556,
          64822796,
          8112712,
          29359216,
          291420351,
          69631118,
          2405420,
          204594016,
          86572238,
          75000000,
          33013805,
          63513743,
          4165675,
          501818,
          14454622,
          163644662,
          14373825,
          36993168,
          254134910,
          30822861,
          182290266,
          64197205,
          55969000,
          368875760,
          27122040,
          21630088,
          242717113,
          30000000,
          300,
          170432927,
          23510601,
          26800152,
          9627492,
          109421911,
          185898,
          31623833,
          15942628,
          185991646,
          26559557,
          112892319,
          19280931,
          402352579,
          2375097,
          43493123,
          215887717,
          29918745,
          87937815,
          14016568,
          205668210,
          330444045,
          92374674,
          64191523,
          91196419,
          117615211,
          164508066,
          19152480,
          98837872,
          108332743,
          65663276,
          93983911,
          29820616,
          11019975,
          310650585,
          80630608,
          38629478,
          312016858,
          44652,
          6735922,
          70442940,
          77278331,
          875457937,
          14293601,
          64626786,
          124881062,
          231605150,
          12303411,
          8810591,
          83282296,
          162949164,
          186003591,
          11165901,
          30207393,
          10765283,
          25601244,
          163247198,
          60474340,
          87784194,
          183936074,
          64282312,
          43763247,
          84772742,
          314178011,
          91753202,
          30303072,
          101344412,
          141069860,
          2407571,
          102836002,
          40547440,
          52946454,
          163649270,
          18469680,
          35348597,
          50365377,
          215663859,
          10835752,
          101624843,
          967000,
          95226116,
          251212670,
          17979739,
          3758328,
          27462041,
          59418613,
          37141130,
          11303040,
          189859560,
          5496951,
          8936663,
          21819348,
          47088990,
          17637950,
          7103973,
          133752825,
          147080413,
          17986781,
          16675000,
          52287414,
          33556631,
          4424699,
          56308881,
          78247647,
          83531958,
          16600000,
          159330280,
          46442528,
          11774,
          119114517,
          6490401,
          3179847,
          61399552,
          4100000,
          50363790,
          48585416,
          27645491,
          12834936,
          112343513,
          14759148,
          156563139,
          38159905,
          77229695,
          43625095,
          81974493,
          294456605,
          30120671,
          165478348,
          151165787,
          23936908,
          42972994,
          122444772,
          11373501,
          34994648,
          55443032,
          24640027,
          15656193,
          10571408,
          17062499,
          368430,
          22593409,
          8000000,
          12534817,
          12007070,
          115229890,
          273552592,
          68915888,
          159616327,
          50907234,
          42792561,
          57103895,
          67800064,
          60251371,
          45719985,
          56870414,
          51155219,
          516642939,
          68411275,
          42930462,
          80936232,
          222724172,
          201965915,
          8025872,
          150270147,
          63848322,
          43059790,
          151927281,
          135680000,
          173965010,
          56303596,
          31179516,
          55494066,
          42273609,
          286214286,
          177977226,
          83453539,
          56255142,
          107196498,
          34793160,
          17834865,
          92921203,
          75450437,
          21148829,
          186053725,
          355237933,
          150438,
          250821495,
          25792310,
          347512318,
          14708696,
          213525736,
          105011053,
          53676580,
          164000000,
          321682600,
          15502112,
          9584131,
          261200000,
          30861665,
          41325328,
          171269535,
          10442808,
          51416464,
          62616646,
          1034589,
          14567883,
          62803180,
          2133033,
          136000000,
          13624522,
          21972336,
          7087452,
          116476887,
          25893810,
          38934048,
          58405313,
          117270765,
          5321508,
          20348249,
          231976425,
          35060882,
          85131830,
          75850624,
          33422806,
          83761844,
          2500000,
          76801179,
          92601050,
          256271286,
          14110589,
          2689799,
          20908467,
          374743,
          5849647,
          102244770,
          18637690,
          160000000,
          13539709,
          118000000,
          187884007,
          34967437,
          63464861,
          93107289,
          48814909,
          90404800,
          12780692,
          252276927,
          174463257,
          58620973,
          28169671,
          45967935,
          15345201,
          57319029,
          60780981,
          95427515,
          85000000,
          30658387,
          61000000,
          1397284,
          135560026,
          67683989,
          7959291,
          104155843,
          296000000,
          42070000,
          160638883,
          82800000,
          144000000,
          19300000,
          116300000,
          19000000,
          207515725,
          110803676,
          64110728,
          8277796,
          195268056,
          101646581,
          230685453,
          17654912,
          24048000,
          354825435,
          37788228,
          80383290,
          163720069,
          10680275,
          149044513,
          6928068,
          51148651,
          30930984,
          41002607,
          55495563,
          149673788,
          25052000,
          29331068,
          17535962,
          742898,
          7433663,
          51973029,
          102984862,
          18850674,
          31720158,
          24922237,
          27007072,
          37589296,
          179213434,
          101134059,
          215394738,
          21888598,
          49101993,
          4343227,
          2106557,
          181001478,
          25000000,
          133000000,
          10126458,
          16991902,
          251495,
          126216940,
          10089373,
          53293628,
          211787511,
          170128460,
          109449237,
          3425664,
          98376292,
          100000000,
          15007991,
          60088980,
          49111202,
          67112664,
          82703,
          37807625,
          95608995,
          24902723,
          32101000,
          143049560,
          34619699,
          128884132,
          6833445,
          5758519,
          93974620,
          74597643,
          65270477,
          17904202,
          11850214,
          1794187,
          19246174,
          50012507,
          33000000,
          127869379,
          6700000,
          359377,
          303788635,
          70181428,
          17218023,
          12141122,
          33889159,
          5535405,
          28747837,
          7864905,
          72526996,
          37384046,
          27610873,
          6632383,
          22944502,
          121059225,
          10367161,
          210308099,
          117760134,
          29450919,
          8862354,
          78568977,
          13809,
          8431194,
          192610372,
          76286096,
          8555008,
          23686027,
          20117339,
          115922175,
          6754898,
          278300000,
          22000,
          86273333,
          414211549,
          4210454,
          14793624,
          60527873,
          27685016,
          78000586,
          4554065,
          63543328,
          38619405,
          243240178,
          5000000,
          19145732,
          299965036,
          29200000,
          37357216,
          85498534,
          2128186,
          27391084,
          27506452,
          12729917,
          183293131,
          10589102,
          59744,
          89456761,
          152022101,
          16566240,
          48065672,
          88323487,
          41637263,
          23717291,
          11582891,
          113020255,
          190458706,
          68688831,
          11798854,
          108000000,
          47126295,
          21256,
          222104681,
          48451803,
          91038276,
          13670688,
          13785015,
          33463969,
          11500000,
          54667954,
          11859533,
          234801895,
          13143056,
          44065653,
          116700000,
          58878723,
          19030780,
          27187375,
          182300000,
          123967,
          21733230,
          189833357,
          121969216,
          32700000,
          109423648,
          57051053,
          34234008,
          38574362,
          121545703,
          136400000,
          18309793,
          17200925,
          48782670,
          49114016,
          78656813,
          60331447,
          90383208,
          269958228,
          87528173,
          65070412,
          39673161,
          32801173,
          66980456,
          60845711,
          20915465,
          17218080,
          7600000,
          129181830,
          66122026,
          40697761,
          3779620,
          123384128,
          5867686,
          426224,
          36733909,
          24159934,
          71485043,
          60000000,
          175372502,
          47175038,
          106371651,
          62112895,
          14880939,
          47231070,
          52501541,
          59468275,
          74918,
          16856124,
          23200000,
          81198894,
          46118097,
          213719942,
          61458982,
          65090821,
          13082071,
          96753696,
          179033791,
          2295423,
          21633874,
          33771174,
          160259319,
          726000,
          17768012,
          188133322,
          18529730,
          7200000,
          8235661,
          44350926,
          4596705,
          15366466,
          5359645,
          180622424,
          69700000,
          96262212,
          2122561,
          40002112,
          16549477,
          103,
          50244700,
          373967,
          8500000,
          12854953,
          16458,
          117094902,
          7997774,
          100266865,
          74134790,
          131016624,
          573335,
          135330182,
          15400000,
          3669465,
          3542353,
          30331165,
          51386477,
          77745568,
          36642838,
          212404396,
          183018522,
          38119483,
          88273,
          7153487,
          195312802,
          14460000,
          21133087,
          76669806,
          154749918,
          25871834,
          30471,
          42277365,
          7314027,
          25498160,
          42093706,
          67347013,
          128798265,
          56012642,
          48350205,
          93354918,
          109862682,
          81000000,
          30426096,
          34000000,
          13276953,
          20000000,
          1544973,
          4385516,
          120081841,
          325756637,
          22700000,
          113714830,
          1776935,
          25804707,
          265452,
          20211394,
          62000000,
          158851357,
          173398518,
          96070507,
          7412216,
          20000000,
          21510851,
          27206120,
          78269970,
          32054369,
          183953723,
          11715321,
          13405595,
          35485608,
          9950133,
          3012210,
          60161391,
          70906973,
          30553395,
          25975621,
          36606743,
          111127553,
          14867514,
          1710528,
          49196532,
          16116878,
          49718611,
          2040920,
          8315,
          16519460,
          30169000,
          16000000,
          56422687,
          2381087,
          72527595,
          84500122,
          6485961,
          154648887,
          35739755,
          3396345,
          1675381,
          117592831,
          71868327,
          209073645,
          50000000,
          90574188,
          10429707,
          102825796,
          61276872,
          172842355,
          16300000,
          72778712,
          7871522,
          23530831,
          78636257,
          77944725,
          5566776,
          23355100,
          35931410,
          42487325,
          21156270,
          770706,
          92180910,
          12096300,
          23456897,
          19870567,
          20146880,
          212874864,
          14397593,
          119754278,
          2807854,
          22099847,
          130358911,
          8247943,
          2594000,
          134582776,
          1829804,
          17000172,
          113280098,
          50650079,
          56106607,
          150000000,
          18814720,
          1914166,
          136159423,
          147845033,
          31198531,
          4001121,
          22812411,
          16057580,
          183611771,
          10032765,
          8811,
          32287044,
          134095253,
          39438674,
          21400000,
          2600000,
          15500000,
          19075720,
          68106245,
          23400000,
          39673162,
          10409377,
          21000000,
          113309743,
          33616692,
          50282766,
          63766510,
          43848069,
          43650785,
          37903295,
          30226144,
          206678440,
          48902953,
          28258060,
          18663238,
          117000198,
          123307945,
          3675201,
          68706993,
          14822346,
          6263224,
          90614445,
          6069605,
          51801187,
          14711793,
          27100027,
          25819961,
          14500000,
          63372757,
          76932943,
          25900000,
          760883,
          7563172,
          98625775,
          7600000,
          3713768,
          23619609,
          2053469,
          122529966,
          36450736,
          13644292,
          150166126,
          610986,
          25196249,
          81600000,
          58978653,
          11336986,
          45361000,
          72617068,
          60273173,
          17423030,
          50732139,
          15121165,
          8138788,
          4073489,
          130431368,
          9600000,
          51842679,
          34533783,
          57269863,
          31672907,
          18564088,
          30000000,
          57479076,
          66700000,
          195745823,
          119269486,
          58785180,
          34416893,
          395000,
          2275557,
          65900249,
          108539911,
          132440069,
          128769345,
          18593156,
          31755742,
          154937680,
          248370,
          14,
          41863726,
          142044638,
          53909751,
          42487390,
          112006296,
          1353868,
          23726793,
          42886719,
          8801940,
          52425855,
          11176469,
          111231041,
          100525432,
          12277353,
          95000,
          198685114,
          216614388,
          328203506,
          2400000,
          104945305,
          8089290,
          11620337,
          29180280,
          25739015,
          30000000,
          88058786,
          31973249,
          10051659,
          11585483,
          52223306,
          16809014,
          25605015,
          34725000,
          95714875,
          85412898,
          71000000,
          114501299,
          61141030,
          227799884,
          154906693,
          37597471,
          32710894,
          3200000,
          18803648,
          77516304,
          73830340,
          10609321,
          58401898,
          82148538,
          3220371,
          300854823,
          51525171,
          96889998,
          69834815,
          16863583,
          44332015,
          66351,
          38376497,
          98410061,
          6819587,
          4307000,
          22200000,
          9600000,
          13819139,
          745327,
          23367586,
          49800000,
          50054511,
          75505856,
          151161491,
          52659594,
          1083683,
          60209334,
          72179579,
          24426169,
          37713879,
          3621046,
          17869048,
          24186232,
          15861566,
          42067430,
          91980359,
          21709020,
          13551174,
          15700000,
          553198,
          35976000,
          4644108,
          66787908,
          8996802,
          38505009,
          288383523,
          15946321,
          3566225,
          17185632,
          32392047,
          81272766,
          193921372,
          40855419,
          1742215,
          68729358,
          124909762,
          70000000,
          16757163,
          148336445,
          59827328,
          12000000,
          1104682,
          22471595,
          106209378,
          324138,
          208550,
          152500343,
          53267000,
          1752988,
          93945766,
          176104344,
          102616183,
          101486,
          31878891,
          529766,
          7316658,
          17665000,
          31167388,
          250000,
          8342132,
          85306374,
          129394835,
          15520023,
          45479110,
          12534961,
          205405498,
          54999651,
          3387000,
          34698685,
          12008642,
          1725381,
          93282604,
          87754044,
          79700000,
          2525738,
          3221152,
          6491240,
          90754475,
          65742992,
          114830111,
          69766619,
          3325038,
          42187665,
          18317151,
          26518355,
          74827344,
          45554533,
          34573780,
          32,
          44908000,
          66966987,
          1772000,
          47410000,
          7535331,
          106269971,
          52424533,
          43545364,
          84542002,
          132900000,
          10629321,
          5001655,
          43001500,
          17507368,
          9793496,
          35841901,
          7191399,
          164433867,
          29000301,
          275293450,
          30987695,
          62076141,
          57814445,
          4000000,
          44460850,
          64352607,
          87135520,
          1646788,
          19924033,
          64414761,
          2152738,
          14431253,
          22754725,
          152263880,
          20275812,
          70136369,
          19726050,
          2340110,
          39846344,
          38172500,
          43318349,
          22088533,
          15185241,
          33245,
          7002261,
          62870546,
          64572262,
          35057696,
          159710793,
          48841,
          17834867,
          15300000,
          145896422,
          38625550,
          15156200,
          90450008,
          39363635,
          2541554,
          11087569,
          6671108,
          67872296,
          10166459,
          57059003,
          8690429,
          4600000,
          2000000,
          16554699,
          13368437,
          6108720,
          18720175,
          165615285,
          42064105,
          6890432,
          77208711,
          19724334,
          20572691,
          14400000,
          101191884,
          95020213,
          7306,
          15431177,
          9918093,
          4911725,
          18869631,
          6732980,
          17286299,
          566611,
          192816,
          6948633,
          43984230,
          17626234,
          17112713,
          19181,
          309492681,
          9612469,
          63647656,
          1,
          9500000,
          14796236,
          35856053,
          46201432,
          5028948,
          92823546,
          27092880,
          56070433,
          51880044,
          78146652,
          7500000,
          84460846,
          29612137,
          50500000,
          136982834,
          108609310,
          44462,
          5967038,
          63782078,
          285000,
          128406887,
          658573,
          77477008,
          9128263,
          19204929,
          52395996,
          16647800,
          7235,
          3533227,
          5664764,
          19179969,
          38955598,
          73521587,
          33372606,
          262500000,
          9077700,
          23144499,
          266728738,
          467306,
          498974,
          15134293,
          42313354,
          52970014,
          157387195,
          88923251,
          23000000,
          88880821,
          2120439,
          34000000,
          12923936,
          100523181,
          15171476,
          13275000,
          21150265,
          292817841,
          57231524,
          69307224,
          53191886,
          2415472,
          15250000,
          33448971,
          25000000,
          154856263,
          791867,
          10903846,
          4257354,
          5659286,
          163733697,
          36800000,
          9114264,
          37095657,
          57891803,
          14182492,
          116766556,
          19322135,
          10686841,
          17917287,
          2856712,
          14618727,
          20080020,
          28946127,
          6203044,
          4243957,
          100860818,
          107944236,
          43000000,
          4109095,
          115101622,
          10337387,
          41744718,
          2847319,
          84146832,
          93888180,
          20045115,
          28883511,
          33956608,
          156190,
          40577001,
          14643997,
          55600000,
          450275,
          56359980,
          908847,
          60378584,
          1117920,
          110879513,
          96568,
          15306000,
          118063304,
          470901,
          16942795,
          39267515,
          49002684,
          14483352,
          1338365,
          36754634,
          36348784,
          7070330,
          97837138,
          96408652,
          7000000,
          32935319,
          9322895,
          25023434,
          30016165,
          17807569,
          2023414,
          17177993,
          18197398,
          21284514,
          42045846,
          9229401,
          41296320,
          167722310,
          52322400,
          3442853,
          769028,
          152036382,
          26096852,
          78720293,
          223387299,
          142666,
          128107642,
          38399961,
          61037844,
          7237794,
          6101046,
          33333531,
          8786375,
          35564473,
          55305279,
          113996937,
          9237470,
          52900000,
          309457509,
          38689940,
          18754051,
          16159325,
          49469904,
          12314651,
          28202109,
          12225023,
          51549674,
          100020092,
          124048,
          22611954,
          20121318,
          62788218,
          74541707,
          2426851,
          368234,
          73956241,
          126247,
          4267218,
          27437881,
          109280263,
          167221571,
          9304609,
          61619773,
          56825,
          1738611,
          20518905,
          484592,
          70000000,
          16000000,
          44726644,
          12,
          25005257,
          45000000,
          45236543,
          76196538,
          23299081,
          40222729,
          13831503,
          45300000,
          38000000,
          27900000,
          46152411,
          8373585,
          74237563,
          191185897,
          222559,
          55041367,
          17096053,
          25399945,
          96773200,
          27053815,
          3151130,
          4500,
          21753365,
          48878502,
          23229371,
          43300000,
          35007180,
          25806953,
          92380927,
          104907746,
          26000000,
          9400000,
          587211,
          42345360,
          15785148,
          152368585,
          4159678,
          30353232,
          19300483,
          31794718,
          38364277,
          16174377,
          86947965,
          5059608,
          5887457,
          36098382,
          5224938,
          70821,
          12235843,
          8613462,
          41480851,
          17436509,
          6600000,
          40266982,
          17432163,
          8574339,
          11540607,
          368744044,
          10452324,
          10289,
          96618699,
          6880310,
          88933562,
          95404397,
          35387212,
          26121638,
          11588205,
          41604473,
          85300000,
          11293663,
          18599102,
          38748395,
          5285197,
          50315140,
          10736401,
          819939,
          1548955,
          12000000,
          5530764,
          63541777,
          109000000,
          37170057,
          74188937,
          29625761,
          60641,
          5781885,
          128499205,
          17762705,
          19504039,
          15719109,
          242623,
          7800000,
          119772232,
          64892670,
          17287898,
          29700000,
          52293982,
          7267585,
          15843608,
          5034794,
          9494789,
          22678555,
          3566637,
          35000000,
          12482775,
          3424648,
          47817020,
          22863596,
          59509925,
          19598588,
          115772733,
          160099222,
          122233971,
          3020601,
          56714147,
          24538513,
          12348905,
          8479793,
          3000000,
          3020664,
          12200000,
          32593385,
          354704,
          11947954,
          163670000,
          16853487,
          11534477,
          58662452,
          3696232,
          75781642,
          12951088,
          13474588,
          15340000,
          8106475,
          37317558,
          31081,
          9012000,
          96800000,
          20601987,
          38251425,
          56298474,
          6740647,
          201584141,
          24665649,
          20246790,
          75143,
          19800000,
          2697930,
          361712,
          18626419,
          32168970,
          77737889,
          61255921,
          149705852,
          36351350,
          7434726,
          8484418,
          23316139,
          68673228,
          186702,
          29800000,
          70642966,
          88036683,
          26910847,
          13277558,
          116672912,
          5728,
          33788161,
          21378361,
          40846082,
          173649015,
          44349000,
          9500000,
          70200000,
          3400977,
          71441250,
          7993039,
          20609977,
          42721196,
          15313606,
          18016290,
          30471420,
          8049666,
          32000,
          129795554,
          21009180,
          65470529,
          8266343,
          94882889,
          27293743,
          7563728,
          5364858,
          40716963,
          2000371,
          63833449,
          100076342,
          44785053,
          55003135,
          17336370,
          6700000,
          365734,
          1862805,
          20710513,
          160188546,
          16624456,
          14010832,
          2181987,
          29657751,
          65784503,
          152266007,
          91258000,
          13678913,
          78382433,
          26488734,
          10382407,
          153518974,
          40400,
          320145693,
          65977295,
          713616,
          35,
          10250000,
          122417389,
          3430018,
          1644755,
          26713187,
          3142154,
          89237,
          11744471,
          5578519,
          10006806,
          25303038,
          60000000,
          30127963,
          137783840,
          116400000,
          15945534,
          49830607,
          14899417,
          88823111,
          25473093,
          2341309,
          36911617,
          7808524,
          15704614,
          5398976,
          2466444,
          60740827,
          68296293,
          8000000,
          2044892,
          676698,
          18124262,
          48169908,
          60289912,
          31430334,
          587615,
          4886216,
          3964682,
          4349187,
          3076820,
          44456478,
          14311701,
          14665733,
          7644937,
          39031337,
          4944386,
          65497208,
          49797148,
          121179,
          25195000,
          49100000,
          12232628,
          161001698,
          75597042,
          107198790,
          4152230,
          48027970,
          13001257,
          2842040,
          46495,
          186883563,
          101564935,
          25000000,
          7060876,
          17297244,
          52034889,
          5042014,
          31410151,
          12000000,
          67182787,
          112544580,
          16930185,
          40031879,
          102308889,
          18000000,
          77224232,
          11390479,
          2800000,
          546545,
          77527732,
          3600000,
          16633035,
          6100000,
          18902015,
          2852915,
          615816,
          57881056,
          2084628,
          3000000,
          50700000,
          793775,
          53187659,
          32095318,
          54249294,
          128038368,
          242780960,
          1017401,
          4601043,
          4212494,
          2347000,
          29762011,
          102000000,
          4398989,
          29907685,
          46908987,
          22420000,
          306776732,
          1864266,
          17374595,
          9636289,
          61489265,
          120455994,
          8038061,
          10725228,
          57958696,
          13818181,
          13500000,
          20766616,
          16283667,
          28733290,
          16657800,
          94935764,
          5542025,
          115890699,
          120000000,
          381420,
          2333684,
          182016617,
          13380561,
          5132850,
          67330500,
          7282851,
          6682098,
          144056873,
          70687344,
          72108608,
          771317,
          111858363,
          17479,
          754249,
          13401952,
          27640028,
          34252847,
          9576495,
          30218387,
          7527232,
          992181,
          46112640,
          7177143,
          176404493,
          24964890,
          8844595,
          2801508,
          45916769,
          24816118,
          65796862,
          20300385,
          45636368,
          2735731,
          108431355,
          18492362,
          30536013,
          48063435,
          106303988,
          9630444,
          14109284,
          45735397,
          21000000,
          18253415,
          10848783,
          23937870,
          44907260,
          21,
          183097323,
          346592,
          26890,
          50068310,
          33000000,
          40903593,
          3335913,
          2491460,
          1954937,
          260562,
          92000000,
          94216343,
          103173635,
          200242,
          100230832,
          8000000,
          8708932,
          9620399,
          22000000,
          54600000,
          2200000,
          7011317,
          79258538,
          3428048,
          34566746,
          18750246,
          2826523,
          86387857,
          38085778,
          31355910,
          1132112,
          63215872,
          2131057,
          19693891,
          14560084,
          38682707,
          5914908,
          150277,
          8946237,
          16478900,
          73244881,
          43306325,
          79567667,
          34441873,
          13620075,
          18653615,
          12376563,
          6638849,
          56000000,
          2891288,
          5409517,
          3000000,
          22844291,
          16002420,
          119601481,
          9000000,
          12036149,
          46720491,
          59945183,
          120620,
          105834556,
          12077441,
          12241855,
          364937,
          42426912,
          13854000,
          73276047,
          21571189,
          7266209,
          11000000,
          60427839,
          270248367,
          38755073,
          5483299,
          66899242,
          7775138,
          8900000,
          7659918,
          61347797,
          116799,
          3983912,
          36133014,
          216166,
          10654385,
          29541790,
          11212294,
          29882645,
          5,
          18000000,
          21500000,
          38535221,
          145793296,
          21800302,
          9700000,
          9851610,
          9617000,
          6582065,
          119208989,
          26033917,
          7022209,
          51029361,
          10785801,
          36779296,
          35419397,
          67631903,
          67878,
          12764201,
          10329747,
          50907422,
          9366227,
          20298207,
          13042112,
          25842000,
          13300000,
          1200000,
          24332324,
          68696770,
          16290976,
          90683916,
          2807390,
          76338111,
          43455230,
          192094429,
          19351569,
          3902679,
          58293,
          80154140,
          9801375,
          9947631,
          11988469,
          23198652,
          18637201,
          11790979,
          53898845,
          6673422,
          119418501,
          4396821,
          42365581,
          129540499,
          289317794,
          22942221,
          55030051,
          8946600,
          8679814,
          21170563,
          3665069,
          61947267,
          6860853,
          4635300,
          34670720,
          1776333,
          71641901,
          16217773,
          48668907,
          5218973,
          11417362,
          47000000,
          24164400,
          14782676,
          14056528,
          14821658,
          16322067,
          41895491,
          19412993,
          43935763,
          40105542,
          22428990,
          72028752,
          27500000,
          13935410,
          10501938,
          5048693,
          22034832,
          28900000,
          133432856,
          11657385,
          57915972,
          5812,
          7594693,
          1500000,
          129000000,
          13101672,
          9439660,
          37930465,
          67126795,
          3200000,
          80000000,
          319285,
          56500758,
          34808403,
          18340000,
          103971,
          9221,
          3830137,
          605562,
          16980098,
          3270000,
          36160375,
          10499694,
          174999005,
          26126837,
          4064495,
          124305181,
          5080409,
          21577624,
          26576000,
          6538177,
          2260712,
          7847000,
          925402,
          67738090,
          10755447,
          53213633,
          31554855,
          1595417,
          428868,
          127600435,
          38307627,
          653621,
          17000000,
          15473333,
          444098,
          25562924,
          12633747,
          17496992,
          4536348,
          23430766,
          38368909,
          24377151,
          16443609,
          28575078,
          579220560,
          31148328,
          35991087,
          1531251,
          3400278,
          24147179,
          188126,
          400900,
          46243000,
          12000000,
          10324441,
          24464742,
          8303261,
          49000000,
          2944752,
          10,
          7179298,
          30199105,
          52545707,
          41092328,
          22456509,
          22750363,
          11411644,
          79384880,
          26810113,
          314131,
          30400000,
          50802372,
          49627779,
          162944923,
          8,
          134748021,
          28451622,
          64762724,
          3878993,
          27674124,
          1016985,
          42830578,
          7938872,
          136836156,
          18591272,
          29202884,
          36893721,
          2295733,
          7951247,
          179590,
          1020921,
          21706101,
          5926410,
          106260000,
          4500000,
          317000,
          1123136,
          11486880,
          6063556,
          24719215,
          20342161,
          82466670,
          700000,
          15368897,
          24748670,
          60328558,
          4600000,
          31063038,
          47434430,
          4500000,
          82264,
          44862187,
          64088552,
          3338228,
          54926886,
          21786738,
          9438370,
          9902115,
          9479718,
          2455027,
          15608545,
          75108998,
          138241022,
          178104,
          28200000,
          7390108,
          13000000,
          46665856,
          34705850,
          140807547,
          41590886,
          10719357,
          1702394,
          39071603,
          638641,
          28000000,
          22222308,
          1897363,
          110197,
          25224242,
          26712476,
          2247465,
          23689877,
          9000000,
          1359910,
          41230799,
          5672031,
          85416905,
          3485127,
          90029656,
          110463140,
          10400000,
          8306690,
          54586584,
          1103757,
          15395087,
          13960394,
          1317657,
          29844753,
          100489151,
          11740000,
          27281507,
          18618284,
          10130000,
          2365467,
          44480039,
          219103655,
          2437000,
          57284237,
          43498108,
          16605763,
          2357852,
          237113184,
          163265,
          51723285,
          8667684,
          48531470,
          20458340,
          3916303,
          1415804,
          7000000,
          10921200,
          100654149,
          45431,
          68325551,
          11992014,
          157920733,
          37121708,
          23014206,
          5430822,
          376597,
          36609995,
          6715067,
          2600000,
          5000000,
          1471656,
          85978266,
          1641825,
          205068,
          29548291,
          54744738,
          23800000,
          100000,
          21567853,
          84563118,
          8143225,
          8493890,
          100000000,
          2401510,
          10166502,
          310000000,
          26828365,
          83304330,
          49050886,
          8,
          76019048,
          31670620,
          432274,
          110627965,
          52223306,
          113579918,
          5844868,
          88545092,
          5169755,
          1411927,
          6808550,
          8000000,
          28744356,
          82150642,
          7875862,
          193677158,
          10300000,
          1215691,
          72661442,
          77741732,
          43101594,
          252676,
          55125,
          11130889,
          30638,
          20455276,
          8349430,
          30857747,
          20000000,
          43440294,
          2159041,
          9697739,
          59927618,
          4777465,
          15556340,
          4736202,
          27074492,
          1007962,
          35598376,
          37710610,
          66673516,
          42000000,
          46396427,
          9450897,
          11000000,
          5108820,
          3109904,
          1575749,
          102205175,
          26155781,
          29133000,
          15600000,
          10631333,
          100129872,
          1037335,
          15436808,
          44909486,
          7000000,
          1300000,
          31987563,
          9995168,
          14343028,
          23563727,
          4630045,
          3484331,
          25105255,
          90000000,
          4905000,
          79817939,
          50888000,
          43719,
          236000,
          23550000,
          17300889,
          15179302,
          16123851,
          5481471,
          2554476,
          167000,
          1183258,
          123509,
          1015000,
          6482195,
          2750275,
          21049053,
          42300873,
          302204,
          19271312,
          74608570,
          31611225,
          240093,
          51000000,
          3569939,
          27728118,
          14278900,
          5900000,
          5900000,
          743,
          227817248,
          299288605,
          169852759,
          7029858,
          12000000,
          8300000,
          6000000,
          8586376,
          124652206,
          1606624,
          3603484,
          80547866,
          845188,
          12400000,
          2028612,
          141000000,
          191125,
          35150960,
          12629471,
          141047179,
          48482,
          53977250,
          6890947,
          11502151,
          14,
          2156000,
          20851521,
          41473619,
          2755584,
          2851888,
          1068682,
          23450000,
          16000000,
          966214,
          30000000,
          41387687,
          7095755,
          16540000,
          44287131,
          852206,
          37,
          5000000,
          14063331,
          490475,
          5837674,
          2970,
          31600000,
          204000,
          319180,
          250993,
          66293455,
          36000000,
          833779,
          1115493,
          32251,
          800000,
          1720953,
          198,
          206626,
          1143856,
          15379253,
          297138014,
          27000000,
          6007194,
          209196298,
          135,
          2091037,
          343471816,
          6,
          12000000,
          20000000,
          1217451,
          31517561,
          1672292,
          10000000,
          1141556,
          1614266,
          3470000,
          11500000,
          494471524,
          2500000,
          59520298,
          4000000,
          29433930,
          32482682,
          9566593,
          107559,
          5344577,
          163169,
          194564672,
          40590000,
          19643086,
          27046,
          7566000,
          9100000,
          282382,
          1461989,
          97918663,
          19294901,
          41382841,
          240000,
          3500000,
          12000000,
          973525,
          3208262,
          110996879,
          385680446,
          43042835,
          9898412,
          17709155,
          6294161,
          12353768,
          23321954,
          20380,
          38135878,
          10013424,
          1678874,
          3769990,
          14894347,
          5000000,
          44000000,
          55041738,
          109130,
          333912,
          11341016,
          42000000,
          46770602,
          22433915,
          20173742,
          140666,
          61112916,
          87000000,
          44793222,
          73706,
          76270454,
          5989640,
          9938268,
          12500000,
          35509515,
          3728888,
          418807,
          10047674,
          887000,
          220151,
          103039258,
          17549645,
          2963902,
          51000000,
          5476060,
          20256975,
          36620508,
          391410,
          1072602,
          490000,
          18564613,
          6000000,
          30036000,
          46616067,
          32155047,
          31000000,
          72500000,
          4800000,
          14768451,
          3468572,
          30050028,
          161789,
          2570145,
          1592853,
          14000,
          18671317,
          10000000,
          76488889,
          116207,
          175742,
          3283371,
          4100000,
          119940815,
          2725258,
          4800000,
          14743391,
          43515982,
          31596911,
          863044,
          46044400,
          21750000,
          95461682,
          8176544,
          17600000,
          276891,
          18000000,
          53825515,
          14587732,
          560069,
          72178895,
          14751272,
          2651917,
          118880016,
          1263279,
          13007551,
          58000000,
          41512007,
          4505922,
          21766271,
          4588176,
          48600000,
          74000000,
          16316273,
          90449929,
          2500000,
          9216,
          3666789,
          41833347,
          7100000,
          9600000,
          6191746,
          40542,
          23509382,
          5892466,
          3849941,
          2800000,
          3049135,
          10000000,
          320300000,
          24517,
          11718595,
          40700000,
          1296184,
          1064454,
          219449,
          41410568,
          24487,
          12803305,
          11000000,
          500000,
          87320000,
          24000000,
          95311434,
          5000000,
          58510,
          207283925,
          23574130,
          18948425,
          3000000,
          11620000,
          1700000,
          206871,
          31000000,
          27187653,
          758539785,
          68392977,
          19158074,
          1583687,
          15000000,
          7100000,
          2000000,
          5179037,
          19738015,
          63710000,
          23562716,
          17658000,
          6892098,
          19288130,
          11666088,
          19170001,
          7936012,
          1615018,
          11000000,
          4635143,
          519311965,
          32500000,
          2777280,
          14400327,
          363164265,
          49651320,
          13749809,
          1938,
          103166989,
          69497,
          558000,
          12729675,
          203388341,
          10652498,
          3377891,
          74787599,
          87840042,
          17343596,
          29950000,
          10400000,
          1950000,
          10000000,
          15919,
          24941969,
          861789,
          10611160,
          7202,
          1198113,
          72266306,
          2100000,
          650000,
          5000000,
          66000000,
          39000000,
          14904,
          7270000,
          3148182,
          2075084,
          4619014,
          24911670,
          2700000,
          21001563,
          24267,
          22551000,
          12000000,
          21587700,
          153155,
          16,
          350006,
          13878334,
          14828081,
          48965210,
          30283,
          3193102,
          5400000,
          8380329,
          9000000,
          3080000,
          131002597,
          1943649,
          4836637,
          26386000,
          33946224,
          125400,
          50752337,
          19748009,
          25754284,
          11000000,
          39103425,
          17240000,
          7206220,
          7000000,
          413454,
          25482931,
          2200000,
          574672,
          2500000,
          41412264,
          8033397,
          4000000,
          4764606,
          45659,
          11081586,
          25928721,
          10743000,
          32255440,
          35078241,
          10372291,
          118243066,
          13273595,
          11285588,
          50007546,
          5300000,
          4978922,
          2300000,
          305070,
          1980338,
          12400000,
          11000000,
          18535191,
          2899975,
          6230276,
          8927600,
          25059640,
          4040588,
          29381649,
          14363400,
          71561644,
          3187700,
          2963639,
          37948,
          1228108,
          53854588,
          48093211,
          33208099,
          4299141,
          77628265,
          19125401,
          26055,
          2367161,
          22300000,
          18636537,
          2400000,
          1800000,
          78000000,
          9000000,
          15071,
          14000000,
          76382,
          3430000,
          20000000,
          17873691,
          2665322,
          41158757,
          28700000,
          3500000,
          10017322,
          60,
          1200000,
          18479,
          2200000,
          114663461,
          3411885,
          29506464,
          24000000,
          209947037,
          6530000,
          7000000,
          4628777,
          7033683,
          7000000,
          346079773,
          2019469,
          1277401,
          2062066,
          12000000,
          19905359,
          11000000,
          1227324,
          157937,
          100138851,
          11263966,
          50159144,
          7155358,
          5778353,
          20659423,
          42330,
          18295,
          486937,
          28200000,
          13200000,
          2491989,
          1680358,
          63946,
          51684798,
          40854735,
          40000000,
          20627372,
          12762,
          136621271,
          25537221,
          2000000,
          16000000,
          10224116,
          34604000,
          61746888,
          29174648,
          5000000,
          28780255,
          21750000,
          5150000,
          3000000,
          10000000,
          41323171,
          9000000,
          106683817,
          295206,
          69701637,
          58900031,
          596000,
          1832541,
          13260050,
          74151346,
          1600000,
          91549,
          49620,
          26527510,
          40227006,
          27379978,
          249104,
          2395000,
          10443316,
          4800000,
          25000000,
          113783,
          33833201,
          29916207,
          7096000,
          4500000,
          25037390,
          674918,
          25000000,
          46236000,
          30000,
          67642693,
          500000,
          7830611,
          12700000,
          390659,
          603943,
          9495408,
          5809330,
          14054361,
          36144000,
          64445708,
          127814609,
          26010864,
          46122355,
          16361885,
          132675402,
          27450189,
          10,
          85280250,
          4460000,
          1568749,
          24516772,
          16929123,
          8009329,
          1430655,
          5271666,
          280408,
          13656380,
          173066,
          80000000,
          17900000,
          11098131,
          1162014,
          7133082,
          7000000,
          29027914,
          3250000,
          21300000,
          231800,
          22518097,
          355000,
          4905000,
          10626725,
          4851244,
          45300000,
          15260154,
          21435321,
          1531489,
          31451622,
          20794985,
          31609243,
          8100000,
          8750000,
          2733118,
          530048,
          8130000,
          10337477,
          31800000,
          5,
          10000000,
          2336172,
          3210139,
          11528900,
          18381890,
          7040609,
          1600000,
          22179430,
          106407672,
          85582407,
          9323833,
          5549200,
          24058838,
          5585154,
          33759266,
          1400000,
          3500000,
          4350774,
          54766923,
          54215416,
          13196245,
          10000000,
          7000000,
          21026290,
          111107,
          9600000,
          163536,
          2300000,
          23237911,
          16872671,
          11875866,
          3600000,
          4720371,
          20350754,
          6600000,
          11000000,
          96105964,
          179780,
          6856989,
          9747988,
          1163450,
          82169884,
          648183,
          127392239,
          5,
          11724119,
          1677131,
          13249535,
          7338987,
          2256246,
          1301121,
          24444121,
          10400000,
          150000,
          7,
          1000000,
          1895782,
          25899797,
          2300000,
          48125,
          31576,
          9112193,
          8083123,
          1851517,
          20354321,
          60,
          1261000,
          866999,
          13681765,
          51702483,
          460978,
          12,
          38200000,
          11439193,
          8279017,
          79958599,
          41400000,
          1145404,
          8826094,
          51000000,
          2250000,
          3788000,
          14000000,
          10000000,
          4000000,
          1952653,
          19000000,
          551000,
          925000,
          23261485,
          5730596,
          7292175,
          5000000,
          2395231,
          13204291,
          1868949,
          5000000,
          296557,
          18928871,
          24000000,
          13700000,
          2642983,
          4858139,
          53653224,
          32861136,
          16722143,
          4166918,
          21834845,
          5502773,
          9243140,
          8109160,
          16000000,
          569217,
          16400000,
          4900000,
          185260553,
          117758500,
          55089,
          126737428,
          4053000,
          137587063,
          432671,
          10000000,
          4856298,
          12250,
          18707466,
          34562222,
          4192440,
          1449945,
          62172050,
          12000000,
          7365250,
          38348988,
          9346177,
          31899000,
          26533200,
          10424470,
          21458229,
          6600000,
          2600000,
          354877,
          31559552,
          15795189,
          3432342,
          777423,
          115860,
          7,
          846704,
          21000000,
          8500000,
          2807000,
          635096,
          15000000,
          17000000,
          358574,
          14375181,
          6413915,
          4099000,
          1576000,
          851545,
          2503829,
          17040871,
          10827816,
          45833132,
          70100000,
          32017803,
          2039000,
          8000000,
          30238577,
          14011454,
          9250000,
          1066471,
          1477002,
          10703234,
          54606,
          28831145,
          13680000,
          35743308,
          952820,
          14348529,
          221303188,
          10600497,
          1,
          435000,
          2948386,
          17689177,
          32000000,
          598645,
          62000000,
          166000,
          1185783,
          6344,
          6521083,
          79666653,
          7200000,
          11000000,
          4000000,
          2300000,
          712294,
          47431461,
          22896728,
          117270765,
          35000000,
          46905889,
          28972508,
          53086,
          10000000,
          19777647,
          610792,
          4388563,
          13417292,
          22889018,
          17804565,
          409144,
          13716,
          985117,
          83957,
          38105395,
          33700,
          334319,
          11581469,
          22963701,
          15427192,
          19888231,
          5617391,
          100000,
          161001698,
          16118077,
          1296971,
          9069,
          250000,
          26877589,
          834332,
          295750,
          100,
          89800000,
          1431461,
          8000000,
          2270000,
          11000000,
          823258,
          7900000,
          1193062,
          55184721,
          23202444,
          16671505,
          26325256,
          7000000,
          33579813,
          10569964,
          19265302,
          159212469,
          600000,
          2019000,
          5710236,
          23570541,
          2000000,
          2451545,
          200276000,
          43656822,
          17287309,
          13391174,
          13290368,
          20966644,
          12021272,
          37799643,
          138700000,
          6375979,
          4750000,
          120000,
          38793283,
          25024919,
          921548,
          30900000,
          17,
          9771658,
          400000,
          1400000,
          48563556,
          12671300,
          1744858,
          11833696,
          10219460,
          17380126,
          3000000,
          29712172,
          5923000,
          5728953,
          43,
          12320393,
          265198,
          1075504,
          1500000,
          115592,
          10959475,
          152322,
          7230000,
          35424826,
          294804195,
          4609644,
          34251525,
          2556911,
          30000000,
          36800000,
          49823037,
          10389003,
          6700000,
          9094451,
          4857367,
          86872,
          500000,
          5200000,
          1189315,
          103000000,
          84565230,
          44527234,
          1200000,
          25312387,
          1600000,
          68129518,
          9538948,
          3851855,
          4603929,
          14000000,
          31678778,
          38862717,
          2850263,
          51142659,
          312242626,
          33697647,
          17500000,
          62548947,
          4300000,
          632542,
          370000,
          458232,
          96900000,
          5,
          47951979,
          9138338,
          463000000,
          200000,
          4346138,
          31852619,
          2736000,
          2506446,
          8888143,
          30500000,
          3119957,
          382174,
          7005528,
          788000,
          16627188,
          9171289,
          6700000,
          34227298,
          8620929,
          1061,
          311594032,
          6852450,
          4500000,
          19255873,
          14356479,
          4500000,
          11137801,
          1031243,
          12000000,
          388,
          16702864,
          154984035,
          10631747,
          1659542,
          2866324,
          14487294,
          105,
          7250000,
          5100000,
          62000000,
          57138719,
          165000,
          15000000,
          17080167,
          15000000,
          11,
          143451,
          19595031,
          7343114,
          4956701,
          18937262,
          9448082,
          69055695,
          20217080,
          4100000,
          17,
          326563,
          16505460,
          25852764,
          8200000,
          1089975,
          7018189,
          53396354,
          19853892,
          1196307,
          11672363,
          26888376,
          10871449,
          7690013,
          1923918,
          143101,
          2900000,
          10600000,
          1271244,
          5900000,
          1410778,
          51079064,
          18344729,
          4000000,
          18254702,
          8000000,
          1600000,
          23000000,
          85196485,
          14051384,
          1800000,
          5164404,
          2861020,
          25000000,
          10000000,
          25900,
          779137,
          124165,
          665000,
          182057016,
          25333333,
          60000000,
          13071518,
          1100000,
          5000000,
          12000000,
          72962,
          5200000,
          7820688,
          11000000,
          3685862,
          8200000,
          1000000,
          26414658,
          782102,
          3368452,
          16900000,
          5600000,
          31912793,
          62500000,
          13000000,
          12372410,
          16324573,
          48390,
          23978402,
          35134820,
          11511031,
          2420917,
          82394288,
          7537453,
          78460699,
          2500000,
          7785317,
          10229331,
          14702438,
          12000000,
          3897799,
          8434146,
          9800000,
          4651977,
          15500000,
          100000,
          2955039,
          4098613,
          6706368,
          2494480,
          7500000,
          355974,
          29296,
          13130349,
          21486757,
          2025238,
          32788,
          373062864,
          7300000,
          39404261,
          2294000,
          5000000,
          123021750,
          1305114,
          8175346,
          20000,
          3275585,
          6414729,
          365134,
          1412181,
          15298355,
          10898293,
          5086000,
          1450000,
          5586646,
          28008462,
          8720000,
          5900000,
          84967,
          35323292,
          1080000,
          1220709,
          47536959,
          2459895,
          30002758,
          56000,
          10814122,
          405000,
          5656388,
          13298000,
          15119639,
          26330482,
          2037545,
          2200000,
          144008,
          28356188,
          11000000,
          8345056,
          5450815,
          95000,
          32645546,
          10000,
          11000000,
          5638000,
          35547761,
          368780809,
          55000000,
          37402877,
          1046166,
          16815892,
          2000000,
          252706,
          4865000,
          3052000,
          5546827,
          1300000,
          7369373,
          22832174,
          378187,
          650675,
          6800000,
          10012022,
          15014674,
          1750000,
          19652638,
          9722918,
          5500000,
          22159216,
          22468044,
          6174491,
          10000000,
          2049595,
          95687,
          18704595,
          108286421,
          6179955,
          34694,
          69564,
          626057,
          21665468,
          18172849,
          6792000,
          10018,
          1000,
          4200000,
          4200000,
          675000,
          40382659,
          13609396,
          23727301,
          241816,
          7603766,
          8552550,
          24362772,
          30652890,
          6746000,
          2000000,
          18012097,
          18532286,
          29523237,
          1568258,
          6582052,
          40356000,
          14418922,
          6718,
          959000,
          12,
          659600,
          1040000,
          15536328,
          272371,
          35000000,
          46000000,
          572212,
          689473,
          257043,
          615752,
          6032000,
          17193231,
          37672350,
          594947,
          23800000,
          709709780,
          7175592,
          2279000,
          7800000,
          1246141,
          2000000,
          2281089,
          814790,
          4300000,
          113484,
          17589705,
          4865912,
          581138,
          2000000,
          7800000,
          41000000,
          480000,
          14700000,
          1667192,
          46,
          559298,
          25422088,
          1550000,
          1237615,
          56666667,
          1432687,
          20719451,
          993313,
          81350000,
          61279452,
          2015810,
          176532,
          81379,
          18,
          11000000,
          209151,
          369330363,
          700000,
          23600000,
          1160000,
          2459000,
          49779728,
          1918117,
          167000,
          4600000,
          1883811,
          1305195,
          6782283,
          68716,
          15369573,
          13000000,
          1000000,
          7433101,
          38251106,
          3500000,
          100,
          5656087,
          100000000,
          3221568,
          28283637,
          8408835,
          71625195,
          2025032,
          47624253,
          1500000,
          1759935,
          60,
          2000000,
          18000000,
          11276,
          1919653,
          5400000,
          78768613,
          3016126,
          72629670,
          8315693,
          2500000,
          6000000,
          3412497,
          4941117,
          497000,
          706000,
          5519569,
          11838218,
          12017369,
          30867525,
          4245870,
          100000,
          3752426,
          2877571,
          4842699,
          19868354,
          3900000,
          50000,
          14061361,
          1213880,
          1000000,
          2850000,
          6153939,
          18634654,
          21409028,
          1434436,
          88528280,
          41087017,
          646946,
          1499275,
          117000,
          1631839,
          1960000,
          3166000,
          12,
          71368,
          25513752,
          4000000,
          182710,
          17000000,
          83188165,
          2200000,
          36000000,
          4800000,
          5000,
          13323144,
          4884663,
          6982465,
          12201255,
          9132000,
          9000000,
          54000000,
          4300000,
          12058187,
          4658570,
          3952448,
          20000000,
          5086909,
          11068800,
          1598584,
          3180674,
          522000,
          5753678,
          4026795,
          5406879,
          4711220,
          32000000,
          60072596,
          8251071,
          9247881,
          1023156,
          230069,
          174318,
          2500000,
          187674,
          105097,
          1102000,
          1528185,
          100590,
          13000000,
          783000,
          1000000,
          272742922,
          1000000,
          1453270,
          1237319,
          102986,
          6939946,
          12974636,
          81927980,
          22231658,
          9524340,
          33736689,
          10400000,
          1204739,
          362222,
          38000,
          9,
          140376621,
          14659448,
          62500,
          7310000,
          47748,
          25,
          2,
          300228084,
          16153593,
          9100000,
          3704408,
          6101904,
          10113733,
          1985001,
          19,
          3031801,
          102000000,
          704000,
          921000,
          4029886,
          278454378,
          9200000,
          82739,
          1798500,
          383925276,
          1000000,
          1400000,
          11300653,
          44566,
          1429299,
          506588,
          3360800,
          4817642,
          327418,
          7385434,
          869325,
          7301115,
          285930,
          337174,
          4374994,
          90000098,
          183,
          3560932,
          2896000,
          4000000,
          49084830,
          744816,
          1947000,
          771499,
          2995811,
          45000,
          2498851,
          21591728,
          340312,
          60,
          6266621,
          9000000,
          17570324,
          1250000,
          11000000,
          7286136,
          13767037,
          3900000,
          1276000,
          432266,
          20400000,
          206128,
          1867792,
          5273000,
          25000,
          17000000,
          22441323,
          2736000,
          243347,
          14900000,
          5100000,
          2160000,
          17566040,
          11480000,
          16504936,
          19829957,
          732000,
          4634062,
          6451628,
          352810,
          7100000,
          33583175,
          103735,
          10898998,
          38120905,
          24804129,
          10508,
          3503943,
          1400000,
          347988775,
          508575295,
          14859394,
          7411659,
          22743674,
          5820015,
          35692920,
          99000,
          23000000,
          3661757,
          684374,
          22773535,
          950000,
          28000000,
          161626121,
          801000,
          7700000,
          403547,
          2294357,
          4500000,
          1675706,
          10000000,
          11000000,
          566736,
          3373000,
          10000,
          11364985,
          3347647,
          5217498,
          2000000,
          9868942,
          100,
          4327000,
          1600000,
          68625104,
          12000000,
          48298,
          2057193,
          631221,
          27362712,
          107352,
          10070000,
          3600000,
          472370,
          13800000,
          589304,
          27000000,
          1325092,
          50336279,
          3038499,
          3453043,
          416925,
          143000,
          64532,
          20000000,
          20258904,
          4882577,
          18300000,
          27305571,
          14000000,
          2500000,
          115103,
          2200000,
          28000000,
          92500,
          3000000,
          26781723,
          2387127,
          418940,
          6600000,
          29392418,
          67000000,
          48169156,
          288486,
          17997350,
          20079850,
          50000000,
          12000000,
          890303,
          5093707,
          5600000,
          8750000,
          129706,
          2281000,
          23083334,
          9166810,
          1108462,
          16344,
          2800000,
          10005969,
          1500000,
          22000000,
          10604986,
          40400657,
          3360000,
          429098,
          16000000,
          18000000,
          13975,
          4000000,
          875898,
          2154540,
          7137503,
          53165427,
          19000000,
          6436211,
          29385320,
          28951,
          9194350,
          3885342,
          178262620,
          4300000,
          4984,
          557241,
          5000000,
          1500000,
          232732,
          334748,
          8000000,
          63373,
          36360000,
          3202000,
          1129000,
          100,
          20000000,
          814666,
          1440000,
          12308521,
          3531971,
          6900000,
          3014000,
          4000000,
          1903083,
          4472886,
          36000000,
          83,
          547333,
          924793,
          93059,
          1000000,
          1000000,
          245623848,
          2963886,
          26144,
          10000000,
          41142379,
          14400000,
          5900000,
          13835130,
          30000000,
          21821347,
          3176,
          1110000,
          20000000,
          12000,
          6804016,
          1123794079,
          100297064,
          2439705,
          216000,
          459359555,
          346594,
          28121100,
          1500000,
          1579260,
          13004198,
          1059966,
          528428,
          474286,
          31244858,
          50000,
          4562146,
          150,
          176153,
          500000,
          10011050,
          296339527,
          407711549,
          36000000,
          2402459,
          2280148,
          669276,
          20000000,
          150000,
          266614059,
          3750000,
          1404291,
          50000,
          1596371,
          5024782,
          25800,
          16201,
          249083,
          2841000,
          4078741,
          2559000,
          276792,
          618638999,
          4491986,
          24250,
          97571250,
          20,
          56996304,
          340677200,
          305937718,
          4594452,
          6500000,
          1100000,
          22212223,
          24103594,
          867714,
          76000000,
          151200,
          2141028,
          21032267,
          4922166,
          4335968,
          21500000,
          2400000,
          1499149,
          23580000,
          50000,
          1163967,
          600,
          12000000,
          878153,
          4000000,
          6800000,
          17872796,
          22228000,
          809000,
          30718107,
          382946,
          100000,
          51,
          100000,
          8220215,
          3914430,
          2873000,
          4000000,
          5000000,
          24000000,
          964206,
          7242035,
          1404,
          7800000,
          753808,
          2945600,
          945991,
          13269963,
          13969785,
          9129999,
          25603,
          12848123,
          100000,
          81452156,
          658000,
          9072414,
          91000000,
          139683000,
          42700000,
          120000,
          38482411,
          500732,
          5009305,
          3000000,
          8000000,
          2042530,
          3274,
          1000000,
          4000000,
          14358033,
          767567,
          1381665,
          11800000,
          4781454,
          1500000,
          445000000,
          2849142,
          12000000,
          540000,
          150000000,
          7123919,
          51680201,
          62852,
          326551094,
          134212055,
          2900000,
          1000000,
          12014663,
          6908797,
          47527,
          5241315,
          5000000,
          4248574,
          3646994,
          2000000,
          680000,
          104324083,
          3727746,
          4000000,
          984936,
          2956000,
          2000000,
          151530,
          60000,
          1238080,
          173599,
          36236710,
          22730842,
          830000,
          4428000,
          8000000,
          16093651,
          100655,
          1632440,
          111731,
          6000000,
          47355187,
          2610000,
          12800000,
          140073390,
          6000000,
          1813729,
          25480,
          16500000,
          2000000,
          9074836,
          60,
          31430,
          117463,
          15480000,
          3261638,
          400200,
          22424195,
          120000000,
          2400000,
          1423000,
          13015688,
          24,
          10278549,
          55635037,
          31,
          9000000,
          173469516,
          3200000,
          12005838,
          12000000,
          10500000,
          6593565,
          46488,
          1000000,
          86930411,
          920719,
          5363000,
          37766,
          2,
          4371000,
          3376375,
          14873,
          12454768,
          871279,
          502758,
          50000,
          15000000,
          76578641,
          299268508,
          15020702,
          4116395,
          5000000,
          154701,
          53502,
          2227000,
          8475466,
          237994561,
          2620000,
          3358085,
          7900000,
          25346148,
          6877900,
          9104716,
          1753979,
          37311672,
          2100000,
          40840,
          6892000,
          2000000,
          14900000,
          6330054,
          2200000,
          114629169,
          1500000,
          3000000,
          23000,
          6700000,
          30,
          1950000,
          16000000,
          98017,
          22030000,
          4000000,
          2742912,
          8929413,
          7022728,
          75225693,
          5873256,
          123820,
          29456000,
          18635620,
          34500000,
          52390000,
          2614773,
          92991835,
          731607,
          1,
          343617,
          2700000,
          5154,
          2000000,
          855450,
          18225518,
          236350661,
          45681173,
          34100000,
          18097,
          4197729,
          43528634,
          36000000,
          4358000,
          210000,
          3200000,
          10000000,
          119000410,
          791830,
          1759252,
          64256513,
          3262957,
          3877492,
          78396,
          1248748,
          14000000,
          3134081,
          1066431,
          139622,
          7900000,
          8026971,
          11000000,
          11455,
          67091915,
          14701918,
          2157136,
          9172000,
          12496155,
          259012,
          1750301,
          4939939,
          1309580,
          2536386,
          7000000,
          4200000,
          1045,
          418961,
          515000,
          486756,
          30000,
          55260558,
          1275000,
          8914881,
          154323,
          57,
          2000000,
          15,
          32893421,
          173187,
          62405000,
          1332231,
          204940,
          2193982,
          43000000,
          8000000,
          23006533,
          3882729,
          4420000,
          22834,
          18000000,
          21011500,
          7630000,
          9,
          1062253,
          17511906,
          710000,
          970816,
          2616503,
          300000,
          74000000,
          46474,
          1809527,
          150000,
          2500,
          670774,
          312642,
          8262833,
          50750000,
          841733,
          11000863,
          41597830,
          10000000,
          27000000,
          10,
          2500000,
          62493712,
          6000000,
          12800000,
          50000,
          13300000,
          537,
          20000000,
          36734619,
          136000000,
          10000000,
          20149,
          41424067,
          1378,
          34700291,
          111000,
          4607608,
          1997807,
          31584901,
          766075,
          15,
          110765,
          17850711,
          5728213,
          5596708,
          33856058,
          253899,
          1328612,
          97838349,
          19319254,
          300000,
          29610210,
          6401336,
          100,
          6795771,
          623791,
          4800080,
          29400000,
          2832826,
          2438031,
          40084041,
          8454301,
          136203,
          2400000,
          3604598,
          757123,
          15425,
          1893139,
          5000000,
          4627375,
          831000,
          12512637,
          399611,
          299792,
          71904,
          1044665,
          18035000,
          12000,
          40940662,
          12902790,
          31649,
          28607524,
          21355893,
          87028,
          626137675,
          9797098,
          8400000,
          70752904,
          1345903,
          1300000,
          389503,
          82701,
          22540359,
          876688482,
          3800000,
          12136938,
          13300000,
          1750000,
          321000,
          1500000,
          1624278,
          14166853,
          1800000,
          1932261,
          1200000,
          6000000,
          169466,
          13674,
          40000000,
          70016220,
          8000000,
          464000,
          15000000,
          7086000,
          22939027,
          453079,
          660537,
          443038,
          11788968,
          1500000,
          1,
          60,
          13,
          225000,
          463517383,
          35000000,
          15478800,
          14624826,
          8838757,
          355688,
          3867000,
          30060061,
          369884651,
          12600000,
          146402,
          6045657,
          13350369,
          4900000,
          70,
          19560274,
          3919731,
          15000000,
          4250000,
          18000000,
          35485056,
          10000,
          3770657,
          7518876,
          5716080,
          840000,
          208475,
          10,
          93800000,
          2600000,
          2281585,
          293793,
          37600000,
          6775121,
          9789900,
          1957000,
          1074251311,
          5000,
          7465423,
          4684165,
          2231,
          14,
          4729352,
          3011195,
          416498,
          121550750,
          609524,
          2691899,
          340147,
          295000,
          13000000,
          18634643,
          24854765,
          764083,
          614202,
          579026,
          100000,
          408680,
          9563393,
          5303,
          1670477,
          13000000,
          1281176,
          171120329,
          5669831,
          9000000,
          55247881,
          14683921,
          160000000,
          2315683,
          500,
          361366633,
          102000000,
          2900000,
          939423,
          946461,
          1001437,
          439564,
          590000,
          464991,
          3721911,
          33662874,
          12643776,
          16680836,
          342695435,
          53208180,
          18432000,
          78810595,
          4080000,
          2297493,
          15200000,
          3763988,
          1749457,
          46509,
          4100000,
          5700000,
          65000,
          1044824,
          186438883,
          252000,
          4409328,
          22000000,
          12121618,
          140021,
          3562793,
          7000000,
          19700000,
          189198313,
          1677,
          1672730,
          14110013,
          28000000,
          4200,
          65584679,
          8,
          35000000,
          15100000,
          16140822,
          37493,
          11000000,
          10364904,
          40,
          29007412,
          7724701,
          911466,
          3600000,
          329803958,
          69948,
          13800000,
          3300000,
          691210692,
          29193330,
          103738726,
          8000000,
          1078000,
          3800000,
          212011111,
          137365,
          144216468,
          1528163,
          9,
          12299668,
          1628000,
          134906,
          10000000,
          19748009,
          9879971,
          6,
          33035736,
          40924982,
          362211740,
          46921,
          96542059,
          286000,
          12000000,
          25034000,
          958000,
          28350000,
          5000000,
          28430000,
          4689000,
          807947,
          19,
          495303,
          2474000,
          171504781,
          24637469,
          2,
          288,
          16700000,
          431326,
          12500000,
          11260366,
          6432551,
          262797249,
          2279543,
          90000000,
          1439000,
          1686429,
          73180723,
          748453,
          725131,
          400000,
          23650000,
          345141403,
          18000,
          8000000,
          3003296,
          250,
          1941667,
          972512,
          70600000,
          855810,
          351723989,
          2019009,
          7100000,
          20722843,
          80049764,
          5269990,
          67192859,
          3010,
          29000000,
          415440673,
          3000000,
          3100000,
          33974264,
          1778391,
          11207130,
          212483,
          1630907,
          108348,
          102854431,
          38413606,
          10300,
          5500000,
          485772,
          11146270,
          38068353,
          870751,
          19745922,
          703,
          10000,
          14000000,
          1148752,
          26768563,
          6800000,
          3745000,
          10365684,
          1261210,
          10000000,
          60864870,
          107879496,
          8300000,
          12379402,
          310827,
          45500797,
          476684675,
          48000000,
          30905,
          4820000,
          5446000,
          148412065,
          41000000,
          25629954,
          4710749,
          12918858,
          16656125,
          1458000,
          240159255,
          1228700,
          39321715,
          23859,
          41299492,
          1160268,
          103800000,
          12935800,
          4400000,
          60,
          15024232,
          5731103,
          37295445,
          9206470,
          1703282,
          6933459,
          858250,
          27400000,
          45779,
          7000,
          1428291,
          16838910,
          50100000,
          31083599,
          284139100,
          30600000,
          140175006,
          24441725,
          5377643,
          353624124,
          28735315,
          7566841,
          47267001,
          6278139,
          23998,
          2900000,
          300,
          35892330,
          852872,
          43671,
          549368315,
          68377859,
          30722632,
          15000000,
          9747,
          176997168,
          24793509,
          1831348,
          3764219,
          7900000,
          159828,
          67414985,
          13801755,
          78599508,
          56702901,
          8694320,
          750000,
          257850122,
          100000,
          667160,
          8551228,
          58972904,
          784990,
          27007143,
          1258000,
          5000000,
          3098924,
          34505110,
          10920544,
          34823764,
          75634409,
          5830454,
          1118634,
          2100000,
          17460020,
          100000,
          553799566,
          303877,
          52,
          350000,
          201957688,
          408000,
          141702264,
          1267198,
          1144000,
          12000000,
          176885658,
          1100000,
          15992615,
          14225876,
          8038508,
          2000000,
          1047676,
          20423389,
          123922370,
          441306145,
          135130999,
          266465037,
          125537191,
          177200000,
          73839240,
          45000000,
          1000000,
          15691192,
          174822325,
          43008075,
          48017402,
          65565672,
          158468292,
          3311162,
          2500000,
          868439,
          44547681,
          2500000,
          9622846,
          202000,
          182857,
          37707444,
          16366,
          30991660,
          14776760,
          18686644,
          1800000,
          1189612,
          109502303,
          197687603,
          18564702,
          1596,
          5800000,
          72785169,
          4386236,
          12069719,
          17000000,
          81471882,
          4186931,
          27400000,
          162966177,
          131426169,
          3004541,
          351692268,
          25345000,
          9000000,
          25762027,
          141407024,
          59612888,
          31500000,
          427628,
          10541523,
          929606,
          39053061,
          3200000,
          4217115,
          13411957,
          70936,
          43805,
          100000000,
          242483,
          2119994,
          76341401,
          2754691,
          2154696,
          7700000,
          24591,
          10250000,
          1120000,
          12678,
          2521,
          19000000,
          238227,
          2500000,
          5879254,
          2957970,
          743445,
          36850101,
          3355000,
          7000000,
          458815,
          720000000,
          12434778,
          9873044,
          51718367,
          3970078,
          41237648,
          82966152,
          4417580,
          38058335,
          11772461,
          30526509,
          105200903,
          907456,
          1300000,
          93151591,
          16000000,
          3251794,
          62134225,
          15856028,
          27515786,
          2636637,
          14655628,
          966878,
          788679850,
          3250000,
          400000,
          796368,
          6000000,
          356,
          18195610,
          112940,
          891133,
          19844979,
          40239,
          130482868,
          3800000,
          2368060,
          836303693,
          8784318,
          500000,
          140000000,
          5634828,
          500000,
          31155435,
          8000000,
          66000000,
          7448385,
          533235,
          1027757,
          2000000,
          60,
          1653792,
          1243961,
          1576687,
          1777709,
          3200000,
          22175908
         ],
         "yaxis": "y"
        }
       ],
       "layout": {
        "legend": {
         "title": {
          "text": "Legend"
         },
         "tracegroupgap": 0
        },
        "shapes": [
         {
          "line": {
           "color": "Red",
           "dash": "dash"
          },
          "name": "x=y",
          "type": "line",
          "x0": 1,
          "x1": 380000000,
          "y0": 1,
          "y1": 380000000
         }
        ],
        "showlegend": false,
        "template": {
         "data": {
          "bar": [
           {
            "error_x": {
             "color": "#2a3f5f"
            },
            "error_y": {
             "color": "#2a3f5f"
            },
            "marker": {
             "line": {
              "color": "#E5ECF6",
              "width": 0.5
             },
             "pattern": {
              "fillmode": "overlay",
              "size": 10,
              "solidity": 0.2
             }
            },
            "type": "bar"
           }
          ],
          "barpolar": [
           {
            "marker": {
             "line": {
              "color": "#E5ECF6",
              "width": 0.5
             },
             "pattern": {
              "fillmode": "overlay",
              "size": 10,
              "solidity": 0.2
             }
            },
            "type": "barpolar"
           }
          ],
          "carpet": [
           {
            "aaxis": {
             "endlinecolor": "#2a3f5f",
             "gridcolor": "white",
             "linecolor": "white",
             "minorgridcolor": "white",
             "startlinecolor": "#2a3f5f"
            },
            "baxis": {
             "endlinecolor": "#2a3f5f",
             "gridcolor": "white",
             "linecolor": "white",
             "minorgridcolor": "white",
             "startlinecolor": "#2a3f5f"
            },
            "type": "carpet"
           }
          ],
          "choropleth": [
           {
            "colorbar": {
             "outlinewidth": 0,
             "ticks": ""
            },
            "type": "choropleth"
           }
          ],
          "contour": [
           {
            "colorbar": {
             "outlinewidth": 0,
             "ticks": ""
            },
            "colorscale": [
             [
              0,
              "#0d0887"
             ],
             [
              0.1111111111111111,
              "#46039f"
             ],
             [
              0.2222222222222222,
              "#7201a8"
             ],
             [
              0.3333333333333333,
              "#9c179e"
             ],
             [
              0.4444444444444444,
              "#bd3786"
             ],
             [
              0.5555555555555556,
              "#d8576b"
             ],
             [
              0.6666666666666666,
              "#ed7953"
             ],
             [
              0.7777777777777778,
              "#fb9f3a"
             ],
             [
              0.8888888888888888,
              "#fdca26"
             ],
             [
              1,
              "#f0f921"
             ]
            ],
            "type": "contour"
           }
          ],
          "contourcarpet": [
           {
            "colorbar": {
             "outlinewidth": 0,
             "ticks": ""
            },
            "type": "contourcarpet"
           }
          ],
          "heatmap": [
           {
            "colorbar": {
             "outlinewidth": 0,
             "ticks": ""
            },
            "colorscale": [
             [
              0,
              "#0d0887"
             ],
             [
              0.1111111111111111,
              "#46039f"
             ],
             [
              0.2222222222222222,
              "#7201a8"
             ],
             [
              0.3333333333333333,
              "#9c179e"
             ],
             [
              0.4444444444444444,
              "#bd3786"
             ],
             [
              0.5555555555555556,
              "#d8576b"
             ],
             [
              0.6666666666666666,
              "#ed7953"
             ],
             [
              0.7777777777777778,
              "#fb9f3a"
             ],
             [
              0.8888888888888888,
              "#fdca26"
             ],
             [
              1,
              "#f0f921"
             ]
            ],
            "type": "heatmap"
           }
          ],
          "heatmapgl": [
           {
            "colorbar": {
             "outlinewidth": 0,
             "ticks": ""
            },
            "colorscale": [
             [
              0,
              "#0d0887"
             ],
             [
              0.1111111111111111,
              "#46039f"
             ],
             [
              0.2222222222222222,
              "#7201a8"
             ],
             [
              0.3333333333333333,
              "#9c179e"
             ],
             [
              0.4444444444444444,
              "#bd3786"
             ],
             [
              0.5555555555555556,
              "#d8576b"
             ],
             [
              0.6666666666666666,
              "#ed7953"
             ],
             [
              0.7777777777777778,
              "#fb9f3a"
             ],
             [
              0.8888888888888888,
              "#fdca26"
             ],
             [
              1,
              "#f0f921"
             ]
            ],
            "type": "heatmapgl"
           }
          ],
          "histogram": [
           {
            "marker": {
             "pattern": {
              "fillmode": "overlay",
              "size": 10,
              "solidity": 0.2
             }
            },
            "type": "histogram"
           }
          ],
          "histogram2d": [
           {
            "colorbar": {
             "outlinewidth": 0,
             "ticks": ""
            },
            "colorscale": [
             [
              0,
              "#0d0887"
             ],
             [
              0.1111111111111111,
              "#46039f"
             ],
             [
              0.2222222222222222,
              "#7201a8"
             ],
             [
              0.3333333333333333,
              "#9c179e"
             ],
             [
              0.4444444444444444,
              "#bd3786"
             ],
             [
              0.5555555555555556,
              "#d8576b"
             ],
             [
              0.6666666666666666,
              "#ed7953"
             ],
             [
              0.7777777777777778,
              "#fb9f3a"
             ],
             [
              0.8888888888888888,
              "#fdca26"
             ],
             [
              1,
              "#f0f921"
             ]
            ],
            "type": "histogram2d"
           }
          ],
          "histogram2dcontour": [
           {
            "colorbar": {
             "outlinewidth": 0,
             "ticks": ""
            },
            "colorscale": [
             [
              0,
              "#0d0887"
             ],
             [
              0.1111111111111111,
              "#46039f"
             ],
             [
              0.2222222222222222,
              "#7201a8"
             ],
             [
              0.3333333333333333,
              "#9c179e"
             ],
             [
              0.4444444444444444,
              "#bd3786"
             ],
             [
              0.5555555555555556,
              "#d8576b"
             ],
             [
              0.6666666666666666,
              "#ed7953"
             ],
             [
              0.7777777777777778,
              "#fb9f3a"
             ],
             [
              0.8888888888888888,
              "#fdca26"
             ],
             [
              1,
              "#f0f921"
             ]
            ],
            "type": "histogram2dcontour"
           }
          ],
          "mesh3d": [
           {
            "colorbar": {
             "outlinewidth": 0,
             "ticks": ""
            },
            "type": "mesh3d"
           }
          ],
          "parcoords": [
           {
            "line": {
             "colorbar": {
              "outlinewidth": 0,
              "ticks": ""
             }
            },
            "type": "parcoords"
           }
          ],
          "pie": [
           {
            "automargin": true,
            "type": "pie"
           }
          ],
          "scatter": [
           {
            "fillpattern": {
             "fillmode": "overlay",
             "size": 10,
             "solidity": 0.2
            },
            "type": "scatter"
           }
          ],
          "scatter3d": [
           {
            "line": {
             "colorbar": {
              "outlinewidth": 0,
              "ticks": ""
             }
            },
            "marker": {
             "colorbar": {
              "outlinewidth": 0,
              "ticks": ""
             }
            },
            "type": "scatter3d"
           }
          ],
          "scattercarpet": [
           {
            "marker": {
             "colorbar": {
              "outlinewidth": 0,
              "ticks": ""
             }
            },
            "type": "scattercarpet"
           }
          ],
          "scattergeo": [
           {
            "marker": {
             "colorbar": {
              "outlinewidth": 0,
              "ticks": ""
             }
            },
            "type": "scattergeo"
           }
          ],
          "scattergl": [
           {
            "marker": {
             "colorbar": {
              "outlinewidth": 0,
              "ticks": ""
             }
            },
            "type": "scattergl"
           }
          ],
          "scattermapbox": [
           {
            "marker": {
             "colorbar": {
              "outlinewidth": 0,
              "ticks": ""
             }
            },
            "type": "scattermapbox"
           }
          ],
          "scatterpolar": [
           {
            "marker": {
             "colorbar": {
              "outlinewidth": 0,
              "ticks": ""
             }
            },
            "type": "scatterpolar"
           }
          ],
          "scatterpolargl": [
           {
            "marker": {
             "colorbar": {
              "outlinewidth": 0,
              "ticks": ""
             }
            },
            "type": "scatterpolargl"
           }
          ],
          "scatterternary": [
           {
            "marker": {
             "colorbar": {
              "outlinewidth": 0,
              "ticks": ""
             }
            },
            "type": "scatterternary"
           }
          ],
          "surface": [
           {
            "colorbar": {
             "outlinewidth": 0,
             "ticks": ""
            },
            "colorscale": [
             [
              0,
              "#0d0887"
             ],
             [
              0.1111111111111111,
              "#46039f"
             ],
             [
              0.2222222222222222,
              "#7201a8"
             ],
             [
              0.3333333333333333,
              "#9c179e"
             ],
             [
              0.4444444444444444,
              "#bd3786"
             ],
             [
              0.5555555555555556,
              "#d8576b"
             ],
             [
              0.6666666666666666,
              "#ed7953"
             ],
             [
              0.7777777777777778,
              "#fb9f3a"
             ],
             [
              0.8888888888888888,
              "#fdca26"
             ],
             [
              1,
              "#f0f921"
             ]
            ],
            "type": "surface"
           }
          ],
          "table": [
           {
            "cells": {
             "fill": {
              "color": "#EBF0F8"
             },
             "line": {
              "color": "white"
             }
            },
            "header": {
             "fill": {
              "color": "#C8D4E3"
             },
             "line": {
              "color": "white"
             }
            },
            "type": "table"
           }
          ]
         },
         "layout": {
          "annotationdefaults": {
           "arrowcolor": "#2a3f5f",
           "arrowhead": 0,
           "arrowwidth": 1
          },
          "autotypenumbers": "strict",
          "coloraxis": {
           "colorbar": {
            "outlinewidth": 0,
            "ticks": ""
           }
          },
          "colorscale": {
           "diverging": [
            [
             0,
             "#8e0152"
            ],
            [
             0.1,
             "#c51b7d"
            ],
            [
             0.2,
             "#de77ae"
            ],
            [
             0.3,
             "#f1b6da"
            ],
            [
             0.4,
             "#fde0ef"
            ],
            [
             0.5,
             "#f7f7f7"
            ],
            [
             0.6,
             "#e6f5d0"
            ],
            [
             0.7,
             "#b8e186"
            ],
            [
             0.8,
             "#7fbc41"
            ],
            [
             0.9,
             "#4d9221"
            ],
            [
             1,
             "#276419"
            ]
           ],
           "sequential": [
            [
             0,
             "#0d0887"
            ],
            [
             0.1111111111111111,
             "#46039f"
            ],
            [
             0.2222222222222222,
             "#7201a8"
            ],
            [
             0.3333333333333333,
             "#9c179e"
            ],
            [
             0.4444444444444444,
             "#bd3786"
            ],
            [
             0.5555555555555556,
             "#d8576b"
            ],
            [
             0.6666666666666666,
             "#ed7953"
            ],
            [
             0.7777777777777778,
             "#fb9f3a"
            ],
            [
             0.8888888888888888,
             "#fdca26"
            ],
            [
             1,
             "#f0f921"
            ]
           ],
           "sequentialminus": [
            [
             0,
             "#0d0887"
            ],
            [
             0.1111111111111111,
             "#46039f"
            ],
            [
             0.2222222222222222,
             "#7201a8"
            ],
            [
             0.3333333333333333,
             "#9c179e"
            ],
            [
             0.4444444444444444,
             "#bd3786"
            ],
            [
             0.5555555555555556,
             "#d8576b"
            ],
            [
             0.6666666666666666,
             "#ed7953"
            ],
            [
             0.7777777777777778,
             "#fb9f3a"
            ],
            [
             0.8888888888888888,
             "#fdca26"
            ],
            [
             1,
             "#f0f921"
            ]
           ]
          },
          "colorway": [
           "#636efa",
           "#EF553B",
           "#00cc96",
           "#ab63fa",
           "#FFA15A",
           "#19d3f3",
           "#FF6692",
           "#B6E880",
           "#FF97FF",
           "#FECB52"
          ],
          "font": {
           "color": "#2a3f5f"
          },
          "geo": {
           "bgcolor": "white",
           "lakecolor": "white",
           "landcolor": "#E5ECF6",
           "showlakes": true,
           "showland": true,
           "subunitcolor": "white"
          },
          "hoverlabel": {
           "align": "left"
          },
          "hovermode": "closest",
          "mapbox": {
           "style": "light"
          },
          "paper_bgcolor": "white",
          "plot_bgcolor": "#E5ECF6",
          "polar": {
           "angularaxis": {
            "gridcolor": "white",
            "linecolor": "white",
            "ticks": ""
           },
           "bgcolor": "#E5ECF6",
           "radialaxis": {
            "gridcolor": "white",
            "linecolor": "white",
            "ticks": ""
           }
          },
          "scene": {
           "xaxis": {
            "backgroundcolor": "#E5ECF6",
            "gridcolor": "white",
            "gridwidth": 2,
            "linecolor": "white",
            "showbackground": true,
            "ticks": "",
            "zerolinecolor": "white"
           },
           "yaxis": {
            "backgroundcolor": "#E5ECF6",
            "gridcolor": "white",
            "gridwidth": 2,
            "linecolor": "white",
            "showbackground": true,
            "ticks": "",
            "zerolinecolor": "white"
           },
           "zaxis": {
            "backgroundcolor": "#E5ECF6",
            "gridcolor": "white",
            "gridwidth": 2,
            "linecolor": "white",
            "showbackground": true,
            "ticks": "",
            "zerolinecolor": "white"
           }
          },
          "shapedefaults": {
           "line": {
            "color": "#2a3f5f"
           }
          },
          "ternary": {
           "aaxis": {
            "gridcolor": "white",
            "linecolor": "white",
            "ticks": ""
           },
           "baxis": {
            "gridcolor": "white",
            "linecolor": "white",
            "ticks": ""
           },
           "bgcolor": "#E5ECF6",
           "caxis": {
            "gridcolor": "white",
            "linecolor": "white",
            "ticks": ""
           }
          },
          "title": {
           "x": 0.05
          },
          "xaxis": {
           "automargin": true,
           "gridcolor": "white",
           "linecolor": "white",
           "ticks": "",
           "title": {
            "standoff": 15
           },
           "zerolinecolor": "white",
           "zerolinewidth": 2
          },
          "yaxis": {
           "automargin": true,
           "gridcolor": "white",
           "linecolor": "white",
           "ticks": "",
           "title": {
            "standoff": 15
           },
           "zerolinecolor": "white",
           "zerolinewidth": 2
          }
         }
        },
        "title": {
         "text": "Budget vs Revenue for Movies"
        },
        "xaxis": {
         "anchor": "y",
         "domain": [
          0,
          1
         ],
         "title": {
          "text": "Budget (in dollars)"
         }
        },
        "yaxis": {
         "anchor": "x",
         "domain": [
          0,
          1
         ],
         "title": {
          "text": "Revenue (in dollars)"
         }
        }
       }
      }
     },
     "metadata": {},
     "output_type": "display_data"
    },
    {
     "name": "stdout",
     "output_type": "stream",
     "text": [
      "Correlation between Budget and Revenue: 0.74\n"
     ]
    }
   ],
   "source": [
    "import pandas as pd\n",
    "import plotly.express as px\n",
    "\n",
    "# Load the dataset\n",
    "csv_file_path = '/Users/mehdibouchoucha/Desktop/ADA/ada-2024-project-theundocumentedanalysts/data/TMDB_dataset_csv/Data.csv'  # Replace with your CSV file path\n",
    "movies_df = pd.read_csv(csv_file_path)\n",
    "\n",
    "# Filter out rows where BUDGET or REVENUE is zero or missing\n",
    "filtered_df = movies_df[(movies_df['BUDGET'] > 0) & (movies_df['REVENUE'] > 0)]\n",
    "\n",
    "# Create a scatter plot with hovering functionality\n",
    "fig = px.scatter(\n",
    "    filtered_df,\n",
    "    x='BUDGET',\n",
    "    y='REVENUE',\n",
    "    text='TITLE',\n",
    "    hover_data={'BUDGET': True, 'REVENUE': True, 'TITLE': True},\n",
    "    title='Budget vs Revenue for Movies',\n",
    "    labels={'BUDGET': 'Budget (in dollars)', 'REVENUE': 'Revenue (in dollars)'},\n",
    ")\n",
    "\n",
    "# Add a line where x = y (Budget equals Revenue)\n",
    "fig.add_shape(\n",
    "    type='line',\n",
    "    x0=filtered_df['BUDGET'].min(),\n",
    "    y0=filtered_df['BUDGET'].min(),\n",
    "    x1=filtered_df['BUDGET'].max(),\n",
    "    y1=filtered_df['BUDGET'].max(),\n",
    "    line=dict(color='Red', dash='dash'),\n",
    "    name='x=y'\n",
    ")\n",
    "\n",
    "# Update layout for better visualization\n",
    "fig.update_traces(marker=dict(size=8, opacity=0.6))\n",
    "fig.update_layout(\n",
    "    xaxis_title='Budget (in dollars)',\n",
    "    yaxis_title='Revenue (in dollars)',\n",
    "    legend_title='Legend',\n",
    "    showlegend=False,\n",
    ")\n",
    "\n",
    "# Show the plot\n",
    "fig.show()\n",
    "\n",
    "# Calculate correlation between Budget and Revenue\n",
    "correlation = filtered_df['BUDGET'].corr(filtered_df['REVENUE'])\n",
    "print(f\"Correlation between Budget and Revenue: {correlation:.2f}\")"
   ]
  },
  {
   "cell_type": "code",
   "execution_count": 14,
   "metadata": {},
   "outputs": [
    {
     "name": "stdout",
     "output_type": "stream",
     "text": [
      "   FILMID                    GENRE\n",
      "0       2     Comedy, Crime, Drama\n",
      "1       3            Comedy, Drama\n",
      "2       5            Comedy, Crime\n",
      "3       6  Action, Crime, Thriller\n",
      "4       9                    Drama\n",
      "Final CSV saved as 'movies_with_genres.csv'\n"
     ]
    }
   ],
   "source": [
    "# Load the CSV files into DataFrames\n",
    "movies_df = pd.read_csv('/Users/mehdibouchoucha/Desktop/ADA/ada-2024-project-theundocumentedanalysts/data/TMDB_dataset_csv/MOVIE.csv')  # Replace with the path to your first CSV file\n",
    "genre_mapping_df = pd.read_csv('/Users/mehdibouchoucha/Desktop/ADA/ada-2024-project-theundocumentedanalysts/data/TMDB_dataset_csv/MOVIE_GENRE.csv')  # Replace with the path to your second CSV file\n",
    "genres_df = pd.read_csv('/Users/mehdibouchoucha/Desktop/ADA/ada-2024-project-theundocumentedanalysts/data/TMDB_dataset_csv/GENRE.csv')  # Replace with the path to your third CSV file\n",
    "\n",
    "# Merge the first two DataFrames on FILMID\n",
    "movies_with_genre_ids = pd.merge(movies_df, genre_mapping_df, on='FILMID', how='inner')\n",
    "\n",
    "# Merge the resulting DataFrame with the third DataFrame on GENREID\n",
    "merged_df = pd.merge(movies_with_genre_ids, genres_df, on='GENREID', how='inner')\n",
    "\n",
    "# Remove intermediate IDs (ID, GENREID) and keep only relevant columns\n",
    "cleaned_df = merged_df.drop(columns=['ID_x', 'ID_y', 'GENREID'])\n",
    "\n",
    "# Aggregate genres for each movie into a comma-separated list\n",
    "final_df = cleaned_df.groupby(['FILMID']).agg({\n",
    "    'GENRE': lambda x: ', '.join(sorted(x.unique()))\n",
    "}).reset_index()\n",
    "# , 'BUDGET', 'REVENUE', 'IMDB_ID', 'POPULARITY', 'OVERVIEW', 'RELEASE_DATE', 'RUNTIME', 'VOTE_AVERAGE', 'VOTE_COUNT', 'COLLECTIONID'\n",
    "print(final_df.head())\n",
    "\n",
    "# Save the final DataFrame to a new CSV file\n",
    "final_df.to_csv('unique_movies_with_genres.csv', index=False)\n",
    "print(\"Final CSV saved as 'movies_with_genres.csv'\")"
   ]
  },
  {
   "cell_type": "code",
   "execution_count": 16,
   "metadata": {},
   "outputs": [
    {
     "data": {
      "text/plain": [
       "Index(['ID', 'FILMID', 'TITLE', 'ADULT', 'BACKDROP_PATH', 'BUDGET', 'HOMEPAGE',\n",
       "       'IMDB_ID', 'ORIGINAL_LANGUAGE', 'ORIGINAL_TITLE', 'OVERVIEW',\n",
       "       'POPULARITY', 'POSTER_PATH', 'RELEASE_DATE', 'REVENUE', 'RUNTIME',\n",
       "       'VOTE_AVERAGE', 'VOTE_COUNT', 'STATUS_', 'TAGLINE', 'COLLECTIONID'],\n",
       "      dtype='object')"
      ]
     },
     "execution_count": 16,
     "metadata": {},
     "output_type": "execute_result"
    }
   ],
   "source": [
    "movies_df = pd.read_csv('/Users/mehdibouchoucha/Desktop/ADA/ada-2024-project-theundocumentedanalysts/data/TMDB_dataset_csv/MOVIE.csv')  # Replace with the path to your first CSV file\n",
    "movies_df.columns"
   ]
  },
  {
   "cell_type": "code",
   "execution_count": 19,
   "metadata": {},
   "outputs": [
    {
     "data": {
      "text/plain": [
       "Index(['ID', 'HOMEPAGE', 'DESCRIPTION_', 'HEADQUERTERS', 'COMPANYID',\n",
       "       'LOGO_PATH', 'NAME_', 'ORIGIN_COUNTRY', 'PARENT_COMPANY'],\n",
       "      dtype='object')"
      ]
     },
     "execution_count": 19,
     "metadata": {},
     "output_type": "execute_result"
    }
   ],
   "source": [
    "genre_mapping_df = pd.read_csv('/Users/mehdibouchoucha/Desktop/ADA/ada-2024-project-theundocumentedanalysts/data/TMDB_dataset_csv/COMPANY.csv')  # Replace with the path to your second CSV file\n",
    "genres_df = pd.read_csv('/Users/mehdibouchoucha/Desktop/ADA/ada-2024-project-theundocumentedanalysts/data/TMDB_dataset_csv/GENRE.csv')  # Replace with the path to your third CSV file\n",
    "genre_mapping_df.columns\n"
   ]
  },
  {
   "cell_type": "code",
   "execution_count": 18,
   "metadata": {},
   "outputs": [
    {
     "data": {
      "text/plain": [
       "Index(['ID', 'GENREID', 'GENRE'], dtype='object')"
      ]
     },
     "execution_count": 18,
     "metadata": {},
     "output_type": "execute_result"
    }
   ],
   "source": [
    "genres_df.columns"
   ]
  },
  {
   "cell_type": "code",
   "execution_count": null,
   "metadata": {},
   "outputs": [],
   "source": []
  }
 ],
 "metadata": {
  "kernelspec": {
   "display_name": "ada_new",
   "language": "python",
   "name": "python3"
  },
  "language_info": {
   "codemirror_mode": {
    "name": "ipython",
    "version": 3
   },
   "file_extension": ".py",
   "mimetype": "text/x-python",
   "name": "python",
   "nbconvert_exporter": "python",
   "pygments_lexer": "ipython3",
   "version": "3.11.10"
  }
 },
 "nbformat": 4,
 "nbformat_minor": 2
}

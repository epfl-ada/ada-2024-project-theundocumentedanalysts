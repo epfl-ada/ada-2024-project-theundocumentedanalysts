{
 "cells": [
  {
   "cell_type": "markdown",
   "metadata": {},
   "source": [
    "Cult Characters"
   ]
  },
  {
   "cell_type": "code",
   "metadata": {
    "ExecuteTime": {
     "end_time": "2024-12-20T19:29:01.396253Z",
     "start_time": "2024-12-20T19:28:59.133913Z"
    }
   },
   "source": [
    "import pandas as pd\n",
    "import os\n",
    "import matplotlib.pyplot as plt\n",
    "from cult_part_helpers import *\n",
    "import plotly.express as px\n",
    "import plotly.graph_objects as go\n",
    "\n",
    "\n",
    "\n",
    "ABS_PATH = os.getcwd()\n",
    "awards_df =pd.read_csv(ABS_PATH+'/data/the_oscar_award.csv')\n",
    "movies_df = pd.read_csv(ABS_PATH+'/data/movie_data.csv')\n",
    "character_df = pd.read_csv(ABS_PATH+'/data/character.metadata.tsv', sep='\\t', names=[\n",
    "    'movie_id', 'freebase_id', 'release_date', 'character_name', 'actor_dob', 'actor_gender', \n",
    "    'actor_height', 'actor_ethnicity', 'actor_name', 'actor_age', 'character_actor_map_id', \n",
    "    'character_freebase_id', 'actor_freebase_id'])\n",
    "#tmdb_df = pd.read_csv('data/TMDB_dataset_csv/MOVIE.csv')\n",
    "character_metadata = character_df.copy()\n",
    "plot_summaries = pd.read_csv(ABS_PATH+'/data/plot_summaries.txt', sep='\\t', names=['movie_id', 'plot_summary'])"
   ],
   "outputs": [],
   "execution_count": 4
  },
  {
   "cell_type": "code",
   "metadata": {},
   "source": [
    "# Convert release_date to datetime\n",
    "character_df['release_date'] = pd.to_datetime(character_df['release_date'], errors='coerce')\n",
    "\n",
    "# Extract decade\n",
    "character_df['decade'] = (character_df['release_date'].dt.year // 10) * 10\n",
    "\n",
    "# Filter to only include rows with valid release dates\n",
    "character_df = character_df.dropna(subset=['release_date'])\n",
    "\n",
    "plot_nb_of_characters_by_decade(character_df)"
   ],
   "outputs": [],
   "execution_count": null
  },
  {
   "cell_type": "code",
   "metadata": {},
   "source": [
    "df = plot_summaries.copy()\n",
    "cult_movies_df = movies_df.copy()\n",
    "df.columns = ['id', 'plot_summary']\n",
    "merged_df = pd.merge(character_df, df, left_on='movie_id', right_on='id', how='inner')\n",
    "actor_scores_df = pd.read_csv('output_data/actor_sentiment_popularity_scores.csv')\n",
    "merged_df = clean_merged_df(merged_df)\n",
    "actor_scores_df = clean_actor_scores_df(actor_scores_df)\n",
    "\n",
    "# Merge actor sentiment and popularity scores with character data\n",
    "merged_with_actor_df = pd.merge(merged_df, actor_scores_df, on='actor_name', how='left')\n",
    "merged_with_actor_df = clean_merged_with_actor_df(merged_with_actor_df)\n",
    "\n",
    "# Normalize movie names in movie_revenues\n",
    "tmdb_df['normalized_title'] = tmdb_df['TITLE'].apply(normalize_name)\n",
    "movies_df['normalized_title'] = movies_df['movie_title'].apply(normalize_name)\n",
    "\n",
    "# Merge datasets based on normalized names\n",
    "plots_df = pd.merge(tmdb_df, movies_df, how='inner', left_on='normalized_title', right_on='normalized_title')\n",
    "plots_df = clean_plots_df(plots_df)\n"
   ],
   "outputs": [],
   "execution_count": null
  },
  {
   "cell_type": "code",
   "metadata": {},
   "source": [
    "plot_revenue_vs_popularity(plots_df)\n",
    "plot_avg_imdb_by_decade(plots_df)"
   ],
   "outputs": [],
   "execution_count": null
  },
  {
   "cell_type": "markdown",
   "metadata": {},
   "source": [
    "SYMPATHETIC VILLAIN"
   ]
  },
  {
   "cell_type": "code",
   "metadata": {},
   "source": [
    "plot_sym_villain_by_decade(character_metadata, plot_summaries)"
   ],
   "outputs": [],
   "execution_count": null
  },
  {
   "cell_type": "markdown",
   "metadata": {},
   "source": [
    "CULT MOVIES"
   ]
  },
  {
   "cell_type": "code",
   "metadata": {},
   "source": [
    "plot_movies(cult_movies_df)"
   ],
   "outputs": [],
   "execution_count": null
  },
  {
   "cell_type": "code",
   "metadata": {
    "ExecuteTime": {
     "end_time": "2024-12-20T19:31:45.793592Z",
     "start_time": "2024-12-20T19:31:45.353849Z"
    }
   },
   "source": [
    "movies_df = movies_df.drop_duplicates(subset=[_ for _ in movies_df.columns if _ != 'num_voted_users'], keep='last')\n",
    "top_20_directors_movies = oscars_to_directors(awards_df, movies_df)\n",
    "# Create the interactive bar plot again with layout adjustments\n",
    "fig = px.bar(\n",
    "    top_20_directors_movies.sort_values(['director_total_reviews', 'num_user_for_reviews'], ascending=False),\n",
    "    x='director_name',\n",
    "    y='num_user_for_reviews',\n",
    "    color='movie_title',  # Different movies represented by different colors\n",
    "    text='movie_title',  # Display movie names\n",
    "    title='Top Directors and Their Movies',\n",
    "    labels={'unique_movies_count': 'Number of Oscar winning Movies', 'director_name': 'Director Name', 'movie_title': 'Movie'},\n",
    "    hover_data={'movie_title': True}\n",
    ")\n",
    "\n",
    "# Customize layout for better visibility\n",
    "fig.update_traces(textposition='inside', textfont_size=10)  # Move text inside bars and reduce font size\n",
    "fig.update_layout(\n",
    "    height=800,  # Increase plot height for more spacing\n",
    "    margin=dict(l=50, r=50, t=100, b=150),  # Add margins to avoid clipping\n",
    "    xaxis_title='Director Name',\n",
    "    yaxis_title='Number of Reviews',\n",
    "    legend_title='Movies',\n",
    "    showlegend=False  # Disable legend if the movie list is too large\n",
    ")\n",
    "\n",
    "# Show the plot\n",
    "fig.show()"
   ],
   "outputs": [
    {
     "name": "stderr",
     "output_type": "stream",
     "text": [
      "[nltk_data] Downloading package punkt to /Users/zad_1/nltk_data...\n",
      "[nltk_data]   Package punkt is already up-to-date!\n",
      "[nltk_data] Downloading package vader_lexicon to\n",
      "[nltk_data]     /Users/zad_1/nltk_data...\n",
      "[nltk_data]   Package vader_lexicon is already up-to-date!\n"
     ]
    },
    {
     "data": {
      "application/vnd.plotly.v1+json": {
       "data": [
        {
         "alignmentgroup": "True",
         "customdata": [
          [
           "the lord of the rings: the fellowship of the ring"
          ]
         ],
         "hovertemplate": "Movie=%{customdata[0]}<br>Director Name=%{x}<br>num_user_for_reviews=%{y}<extra></extra>",
         "legendgroup": "the lord of the rings: the fellowship of the ring",
         "marker": {
          "color": "#636efa",
          "pattern": {
           "shape": ""
          }
         },
         "name": "the lord of the rings: the fellowship of the ring",
         "offsetgroup": "the lord of the rings: the fellowship of the ring",
         "orientation": "v",
         "showlegend": true,
         "text": [
          "the lord of the rings: the fellowship of the ring"
         ],
         "textposition": "inside",
         "x": [
          "Peter Jackson"
         ],
         "xaxis": "x",
         "y": [
          5060.0
         ],
         "yaxis": "y",
         "type": "bar",
         "textfont": {
          "size": 10
         }
        },
        {
         "alignmentgroup": "True",
         "customdata": [
          [
           "the lord of the rings: the return of the king"
          ]
         ],
         "hovertemplate": "Movie=%{customdata[0]}<br>Director Name=%{x}<br>num_user_for_reviews=%{y}<extra></extra>",
         "legendgroup": "the lord of the rings: the return of the king",
         "marker": {
          "color": "#EF553B",
          "pattern": {
           "shape": ""
          }
         },
         "name": "the lord of the rings: the return of the king",
         "offsetgroup": "the lord of the rings: the return of the king",
         "orientation": "v",
         "showlegend": true,
         "text": [
          "the lord of the rings: the return of the king"
         ],
         "textposition": "inside",
         "x": [
          "Peter Jackson"
         ],
         "xaxis": "x",
         "y": [
          3189.0
         ],
         "yaxis": "y",
         "type": "bar",
         "textfont": {
          "size": 10
         }
        },
        {
         "alignmentgroup": "True",
         "customdata": [
          [
           "king kong"
          ]
         ],
         "hovertemplate": "Movie=%{customdata[0]}<br>Director Name=%{x}<br>num_user_for_reviews=%{y}<extra></extra>",
         "legendgroup": "king kong",
         "marker": {
          "color": "#00cc96",
          "pattern": {
           "shape": ""
          }
         },
         "name": "king kong",
         "offsetgroup": "king kong",
         "orientation": "v",
         "showlegend": true,
         "text": [
          "king kong"
         ],
         "textposition": "inside",
         "x": [
          "Peter Jackson"
         ],
         "xaxis": "x",
         "y": [
          2618.0
         ],
         "yaxis": "y",
         "type": "bar",
         "textfont": {
          "size": 10
         }
        },
        {
         "alignmentgroup": "True",
         "customdata": [
          [
           "the lord of the rings: the two towers"
          ]
         ],
         "hovertemplate": "Movie=%{customdata[0]}<br>Director Name=%{x}<br>num_user_for_reviews=%{y}<extra></extra>",
         "legendgroup": "the lord of the rings: the two towers",
         "marker": {
          "color": "#ab63fa",
          "pattern": {
           "shape": ""
          }
         },
         "name": "the lord of the rings: the two towers",
         "offsetgroup": "the lord of the rings: the two towers",
         "orientation": "v",
         "showlegend": true,
         "text": [
          "the lord of the rings: the two towers"
         ],
         "textposition": "inside",
         "x": [
          "Peter Jackson"
         ],
         "xaxis": "x",
         "y": [
          2417.0
         ],
         "yaxis": "y",
         "type": "bar",
         "textfont": {
          "size": 10
         }
        },
        {
         "alignmentgroup": "True",
         "customdata": [
          [
           "the dark knight"
          ]
         ],
         "hovertemplate": "Movie=%{customdata[0]}<br>Director Name=%{x}<br>num_user_for_reviews=%{y}<extra></extra>",
         "legendgroup": "the dark knight",
         "marker": {
          "color": "#FFA15A",
          "pattern": {
           "shape": ""
          }
         },
         "name": "the dark knight",
         "offsetgroup": "the dark knight",
         "orientation": "v",
         "showlegend": true,
         "text": [
          "the dark knight"
         ],
         "textposition": "inside",
         "x": [
          "Christopher Nolan"
         ],
         "xaxis": "x",
         "y": [
          4667.0
         ],
         "yaxis": "y",
         "type": "bar",
         "textfont": {
          "size": 10
         }
        },
        {
         "alignmentgroup": "True",
         "customdata": [
          [
           "inception"
          ]
         ],
         "hovertemplate": "Movie=%{customdata[0]}<br>Director Name=%{x}<br>num_user_for_reviews=%{y}<extra></extra>",
         "legendgroup": "inception",
         "marker": {
          "color": "#19d3f3",
          "pattern": {
           "shape": ""
          }
         },
         "name": "inception",
         "offsetgroup": "inception",
         "orientation": "v",
         "showlegend": true,
         "text": [
          "inception"
         ],
         "textposition": "inside",
         "x": [
          "Christopher Nolan"
         ],
         "xaxis": "x",
         "y": [
          2803.0
         ],
         "yaxis": "y",
         "type": "bar",
         "textfont": {
          "size": 10
         }
        },
        {
         "alignmentgroup": "True",
         "customdata": [
          [
           "interstellar"
          ]
         ],
         "hovertemplate": "Movie=%{customdata[0]}<br>Director Name=%{x}<br>num_user_for_reviews=%{y}<extra></extra>",
         "legendgroup": "interstellar",
         "marker": {
          "color": "#FF6692",
          "pattern": {
           "shape": ""
          }
         },
         "name": "interstellar",
         "offsetgroup": "interstellar",
         "orientation": "v",
         "showlegend": true,
         "text": [
          "interstellar"
         ],
         "textposition": "inside",
         "x": [
          "Christopher Nolan"
         ],
         "xaxis": "x",
         "y": [
          2725.0
         ],
         "yaxis": "y",
         "type": "bar",
         "textfont": {
          "size": 10
         }
        },
        {
         "alignmentgroup": "True",
         "customdata": [
          [
           "saving private ryan"
          ]
         ],
         "hovertemplate": "Movie=%{customdata[0]}<br>Director Name=%{x}<br>num_user_for_reviews=%{y}<extra></extra>",
         "legendgroup": "saving private ryan",
         "marker": {
          "color": "#B6E880",
          "pattern": {
           "shape": ""
          }
         },
         "name": "saving private ryan",
         "offsetgroup": "saving private ryan",
         "orientation": "v",
         "showlegend": true,
         "text": [
          "saving private ryan"
         ],
         "textposition": "inside",
         "x": [
          "Steven Spielberg"
         ],
         "xaxis": "x",
         "y": [
          2277.0
         ],
         "yaxis": "y",
         "type": "bar",
         "textfont": {
          "size": 10
         }
        },
        {
         "alignmentgroup": "True",
         "customdata": [
          [
           "schindler's list"
          ]
         ],
         "hovertemplate": "Movie=%{customdata[0]}<br>Director Name=%{x}<br>num_user_for_reviews=%{y}<extra></extra>",
         "legendgroup": "schindler's list",
         "marker": {
          "color": "#FF97FF",
          "pattern": {
           "shape": ""
          }
         },
         "name": "schindler's list",
         "offsetgroup": "schindler's list",
         "orientation": "v",
         "showlegend": true,
         "text": [
          "schindler's list"
         ],
         "textposition": "inside",
         "x": [
          "Steven Spielberg"
         ],
         "xaxis": "x",
         "y": [
          1273.0
         ],
         "yaxis": "y",
         "type": "bar",
         "textfont": {
          "size": 10
         }
        },
        {
         "alignmentgroup": "True",
         "customdata": [
          [
           "jaws"
          ]
         ],
         "hovertemplate": "Movie=%{customdata[0]}<br>Director Name=%{x}<br>num_user_for_reviews=%{y}<extra></extra>",
         "legendgroup": "jaws",
         "marker": {
          "color": "#FECB52",
          "pattern": {
           "shape": ""
          }
         },
         "name": "jaws",
         "offsetgroup": "jaws",
         "orientation": "v",
         "showlegend": true,
         "text": [
          "jaws"
         ],
         "textposition": "inside",
         "x": [
          "Steven Spielberg"
         ],
         "xaxis": "x",
         "y": [
          962.0
         ],
         "yaxis": "y",
         "type": "bar",
         "textfont": {
          "size": 10
         }
        },
        {
         "alignmentgroup": "True",
         "customdata": [
          [
           "jurassic park"
          ]
         ],
         "hovertemplate": "Movie=%{customdata[0]}<br>Director Name=%{x}<br>num_user_for_reviews=%{y}<extra></extra>",
         "legendgroup": "jurassic park",
         "marker": {
          "color": "#636efa",
          "pattern": {
           "shape": ""
          }
         },
         "name": "jurassic park",
         "offsetgroup": "jurassic park",
         "orientation": "v",
         "showlegend": true,
         "text": [
          "jurassic park"
         ],
         "textposition": "inside",
         "x": [
          "Steven Spielberg"
         ],
         "xaxis": "x",
         "y": [
          895.0
         ],
         "yaxis": "y",
         "type": "bar",
         "textfont": {
          "size": 10
         }
        },
        {
         "alignmentgroup": "True",
         "customdata": [
          [
           "raiders of the lost ark"
          ]
         ],
         "hovertemplate": "Movie=%{customdata[0]}<br>Director Name=%{x}<br>num_user_for_reviews=%{y}<extra></extra>",
         "legendgroup": "raiders of the lost ark",
         "marker": {
          "color": "#EF553B",
          "pattern": {
           "shape": ""
          }
         },
         "name": "raiders of the lost ark",
         "offsetgroup": "raiders of the lost ark",
         "orientation": "v",
         "showlegend": true,
         "text": [
          "raiders of the lost ark"
         ],
         "textposition": "inside",
         "x": [
          "Steven Spielberg"
         ],
         "xaxis": "x",
         "y": [
          771.0
         ],
         "yaxis": "y",
         "type": "bar",
         "textfont": {
          "size": 10
         }
        },
        {
         "alignmentgroup": "True",
         "customdata": [
          [
           "lincoln"
          ]
         ],
         "hovertemplate": "Movie=%{customdata[0]}<br>Director Name=%{x}<br>num_user_for_reviews=%{y}<extra></extra>",
         "legendgroup": "lincoln",
         "marker": {
          "color": "#00cc96",
          "pattern": {
           "shape": ""
          }
         },
         "name": "lincoln",
         "offsetgroup": "lincoln",
         "orientation": "v",
         "showlegend": true,
         "text": [
          "lincoln"
         ],
         "textposition": "inside",
         "x": [
          "Steven Spielberg"
         ],
         "xaxis": "x",
         "y": [
          720.0
         ],
         "yaxis": "y",
         "type": "bar",
         "textfont": {
          "size": 10
         }
        },
        {
         "alignmentgroup": "True",
         "customdata": [
          [
           "indiana jones and the temple of doom"
          ]
         ],
         "hovertemplate": "Movie=%{customdata[0]}<br>Director Name=%{x}<br>num_user_for_reviews=%{y}<extra></extra>",
         "legendgroup": "indiana jones and the temple of doom",
         "marker": {
          "color": "#ab63fa",
          "pattern": {
           "shape": ""
          }
         },
         "name": "indiana jones and the temple of doom",
         "offsetgroup": "indiana jones and the temple of doom",
         "orientation": "v",
         "showlegend": true,
         "text": [
          "indiana jones and the temple of doom"
         ],
         "textposition": "inside",
         "x": [
          "Steven Spielberg"
         ],
         "xaxis": "x",
         "y": [
          524.0
         ],
         "yaxis": "y",
         "type": "bar",
         "textfont": {
          "size": 10
         }
        },
        {
         "alignmentgroup": "True",
         "customdata": [
          [
           "e.t. the extra-terrestrial"
          ]
         ],
         "hovertemplate": "Movie=%{customdata[0]}<br>Director Name=%{x}<br>num_user_for_reviews=%{y}<extra></extra>",
         "legendgroup": "e.t. the extra-terrestrial",
         "marker": {
          "color": "#FFA15A",
          "pattern": {
           "shape": ""
          }
         },
         "name": "e.t. the extra-terrestrial",
         "offsetgroup": "e.t. the extra-terrestrial",
         "orientation": "v",
         "showlegend": true,
         "text": [
          "e.t. the extra-terrestrial"
         ],
         "textposition": "inside",
         "x": [
          "Steven Spielberg"
         ],
         "xaxis": "x",
         "y": [
          515.0
         ],
         "yaxis": "y",
         "type": "bar",
         "textfont": {
          "size": 10
         }
        },
        {
         "alignmentgroup": "True",
         "customdata": [
          [
           "indiana jones and the last crusade"
          ]
         ],
         "hovertemplate": "Movie=%{customdata[0]}<br>Director Name=%{x}<br>num_user_for_reviews=%{y}<extra></extra>",
         "legendgroup": "indiana jones and the last crusade",
         "marker": {
          "color": "#19d3f3",
          "pattern": {
           "shape": ""
          }
         },
         "name": "indiana jones and the last crusade",
         "offsetgroup": "indiana jones and the last crusade",
         "orientation": "v",
         "showlegend": true,
         "text": [
          "indiana jones and the last crusade"
         ],
         "textposition": "inside",
         "x": [
          "Steven Spielberg"
         ],
         "xaxis": "x",
         "y": [
          477.0
         ],
         "yaxis": "y",
         "type": "bar",
         "textfont": {
          "size": 10
         }
        },
        {
         "alignmentgroup": "True",
         "customdata": [
          [
           "bridge of spies"
          ]
         ],
         "hovertemplate": "Movie=%{customdata[0]}<br>Director Name=%{x}<br>num_user_for_reviews=%{y}<extra></extra>",
         "legendgroup": "bridge of spies",
         "marker": {
          "color": "#FF6692",
          "pattern": {
           "shape": ""
          }
         },
         "name": "bridge of spies",
         "offsetgroup": "bridge of spies",
         "orientation": "v",
         "showlegend": true,
         "text": [
          "bridge of spies"
         ],
         "textposition": "inside",
         "x": [
          "Steven Spielberg"
         ],
         "xaxis": "x",
         "y": [
          355.0
         ],
         "yaxis": "y",
         "type": "bar",
         "textfont": {
          "size": 10
         }
        },
        {
         "alignmentgroup": "True",
         "customdata": [
          [
           "close encounters of the third kind"
          ]
         ],
         "hovertemplate": "Movie=%{customdata[0]}<br>Director Name=%{x}<br>num_user_for_reviews=%{y}<extra></extra>",
         "legendgroup": "close encounters of the third kind",
         "marker": {
          "color": "#B6E880",
          "pattern": {
           "shape": ""
          }
         },
         "name": "close encounters of the third kind",
         "offsetgroup": "close encounters of the third kind",
         "orientation": "v",
         "showlegend": true,
         "text": [
          "close encounters of the third kind"
         ],
         "textposition": "inside",
         "x": [
          "Steven Spielberg"
         ],
         "xaxis": "x",
         "y": [
          339.0
         ],
         "yaxis": "y",
         "type": "bar",
         "textfont": {
          "size": 10
         }
        },
        {
         "alignmentgroup": "True",
         "customdata": [
          [
           "avatar"
          ]
         ],
         "hovertemplate": "Movie=%{customdata[0]}<br>Director Name=%{x}<br>num_user_for_reviews=%{y}<extra></extra>",
         "legendgroup": "avatar",
         "marker": {
          "color": "#FF97FF",
          "pattern": {
           "shape": ""
          }
         },
         "name": "avatar",
         "offsetgroup": "avatar",
         "orientation": "v",
         "showlegend": true,
         "text": [
          "avatar"
         ],
         "textposition": "inside",
         "x": [
          "James Cameron"
         ],
         "xaxis": "x",
         "y": [
          3054.0
         ],
         "yaxis": "y",
         "type": "bar",
         "textfont": {
          "size": 10
         }
        },
        {
         "alignmentgroup": "True",
         "customdata": [
          [
           "titanic"
          ]
         ],
         "hovertemplate": "Movie=%{customdata[0]}<br>Director Name=%{x}<br>num_user_for_reviews=%{y}<extra></extra>",
         "legendgroup": "titanic",
         "marker": {
          "color": "#FECB52",
          "pattern": {
           "shape": ""
          }
         },
         "name": "titanic",
         "offsetgroup": "titanic",
         "orientation": "v",
         "showlegend": true,
         "text": [
          "titanic"
         ],
         "textposition": "inside",
         "x": [
          "James Cameron"
         ],
         "xaxis": "x",
         "y": [
          2528.0
         ],
         "yaxis": "y",
         "type": "bar",
         "textfont": {
          "size": 10
         }
        },
        {
         "alignmentgroup": "True",
         "customdata": [
          [
           "aliens"
          ]
         ],
         "hovertemplate": "Movie=%{customdata[0]}<br>Director Name=%{x}<br>num_user_for_reviews=%{y}<extra></extra>",
         "legendgroup": "aliens",
         "marker": {
          "color": "#636efa",
          "pattern": {
           "shape": ""
          }
         },
         "name": "aliens",
         "offsetgroup": "aliens",
         "orientation": "v",
         "showlegend": true,
         "text": [
          "aliens"
         ],
         "textposition": "inside",
         "x": [
          "James Cameron"
         ],
         "xaxis": "x",
         "y": [
          1076.0
         ],
         "yaxis": "y",
         "type": "bar",
         "textfont": {
          "size": 10
         }
        },
        {
         "alignmentgroup": "True",
         "customdata": [
          [
           "terminator 2: judgment day"
          ]
         ],
         "hovertemplate": "Movie=%{customdata[0]}<br>Director Name=%{x}<br>num_user_for_reviews=%{y}<extra></extra>",
         "legendgroup": "terminator 2: judgment day",
         "marker": {
          "color": "#EF553B",
          "pattern": {
           "shape": ""
          }
         },
         "name": "terminator 2: judgment day",
         "offsetgroup": "terminator 2: judgment day",
         "orientation": "v",
         "showlegend": true,
         "text": [
          "terminator 2: judgment day"
         ],
         "textposition": "inside",
         "x": [
          "James Cameron"
         ],
         "xaxis": "x",
         "y": [
          983.0
         ],
         "yaxis": "y",
         "type": "bar",
         "textfont": {
          "size": 10
         }
        },
        {
         "alignmentgroup": "True",
         "customdata": [
          [
           "the abyss"
          ]
         ],
         "hovertemplate": "Movie=%{customdata[0]}<br>Director Name=%{x}<br>num_user_for_reviews=%{y}<extra></extra>",
         "legendgroup": "the abyss",
         "marker": {
          "color": "#00cc96",
          "pattern": {
           "shape": ""
          }
         },
         "name": "the abyss",
         "offsetgroup": "the abyss",
         "orientation": "v",
         "showlegend": true,
         "text": [
          "the abyss"
         ],
         "textposition": "inside",
         "x": [
          "James Cameron"
         ],
         "xaxis": "x",
         "y": [
          380.0
         ],
         "yaxis": "y",
         "type": "bar",
         "textfont": {
          "size": 10
         }
        },
        {
         "alignmentgroup": "True",
         "customdata": [
          [
           "american beauty"
          ]
         ],
         "hovertemplate": "Movie=%{customdata[0]}<br>Director Name=%{x}<br>num_user_for_reviews=%{y}<extra></extra>",
         "legendgroup": "american beauty",
         "marker": {
          "color": "#ab63fa",
          "pattern": {
           "shape": ""
          }
         },
         "name": "american beauty",
         "offsetgroup": "american beauty",
         "orientation": "v",
         "showlegend": true,
         "text": [
          "american beauty"
         ],
         "textposition": "inside",
         "x": [
          "Sam Mendes"
         ],
         "xaxis": "x",
         "y": [
          2715.0
         ],
         "yaxis": "y",
         "type": "bar",
         "textfont": {
          "size": 10
         }
        },
        {
         "alignmentgroup": "True",
         "customdata": [
          [
           "skyfall"
          ]
         ],
         "hovertemplate": "Movie=%{customdata[0]}<br>Director Name=%{x}<br>num_user_for_reviews=%{y}<extra></extra>",
         "legendgroup": "skyfall",
         "marker": {
          "color": "#FFA15A",
          "pattern": {
           "shape": ""
          }
         },
         "name": "skyfall",
         "offsetgroup": "skyfall",
         "orientation": "v",
         "showlegend": true,
         "text": [
          "skyfall"
         ],
         "textposition": "inside",
         "x": [
          "Sam Mendes"
         ],
         "xaxis": "x",
         "y": [
          1498.0
         ],
         "yaxis": "y",
         "type": "bar",
         "textfont": {
          "size": 10
         }
        },
        {
         "alignmentgroup": "True",
         "customdata": [
          [
           "road to perdition"
          ]
         ],
         "hovertemplate": "Movie=%{customdata[0]}<br>Director Name=%{x}<br>num_user_for_reviews=%{y}<extra></extra>",
         "legendgroup": "road to perdition",
         "marker": {
          "color": "#19d3f3",
          "pattern": {
           "shape": ""
          }
         },
         "name": "road to perdition",
         "offsetgroup": "road to perdition",
         "orientation": "v",
         "showlegend": true,
         "text": [
          "road to perdition"
         ],
         "textposition": "inside",
         "x": [
          "Sam Mendes"
         ],
         "xaxis": "x",
         "y": [
          1009.0
         ],
         "yaxis": "y",
         "type": "bar",
         "textfont": {
          "size": 10
         }
        },
        {
         "alignmentgroup": "True",
         "customdata": [
          [
           "spectre"
          ]
         ],
         "hovertemplate": "Movie=%{customdata[0]}<br>Director Name=%{x}<br>num_user_for_reviews=%{y}<extra></extra>",
         "legendgroup": "spectre",
         "marker": {
          "color": "#FF6692",
          "pattern": {
           "shape": ""
          }
         },
         "name": "spectre",
         "offsetgroup": "spectre",
         "orientation": "v",
         "showlegend": true,
         "text": [
          "spectre"
         ],
         "textposition": "inside",
         "x": [
          "Sam Mendes"
         ],
         "xaxis": "x",
         "y": [
          994.0
         ],
         "yaxis": "y",
         "type": "bar",
         "textfont": {
          "size": 10
         }
        },
        {
         "alignmentgroup": "True",
         "customdata": [
          [
           "pulp fiction"
          ]
         ],
         "hovertemplate": "Movie=%{customdata[0]}<br>Director Name=%{x}<br>num_user_for_reviews=%{y}<extra></extra>",
         "legendgroup": "pulp fiction",
         "marker": {
          "color": "#B6E880",
          "pattern": {
           "shape": ""
          }
         },
         "name": "pulp fiction",
         "offsetgroup": "pulp fiction",
         "orientation": "v",
         "showlegend": true,
         "text": [
          "pulp fiction"
         ],
         "textposition": "inside",
         "x": [
          "Quentin Tarantino"
         ],
         "xaxis": "x",
         "y": [
          2195.0
         ],
         "yaxis": "y",
         "type": "bar",
         "textfont": {
          "size": 10
         }
        },
        {
         "alignmentgroup": "True",
         "customdata": [
          [
           "inglourious basterds"
          ]
         ],
         "hovertemplate": "Movie=%{customdata[0]}<br>Director Name=%{x}<br>num_user_for_reviews=%{y}<extra></extra>",
         "legendgroup": "inglourious basterds",
         "marker": {
          "color": "#FF97FF",
          "pattern": {
           "shape": ""
          }
         },
         "name": "inglourious basterds",
         "offsetgroup": "inglourious basterds",
         "orientation": "v",
         "showlegend": true,
         "text": [
          "inglourious basterds"
         ],
         "textposition": "inside",
         "x": [
          "Quentin Tarantino"
         ],
         "xaxis": "x",
         "y": [
          1527.0
         ],
         "yaxis": "y",
         "type": "bar",
         "textfont": {
          "size": 10
         }
        },
        {
         "alignmentgroup": "True",
         "customdata": [
          [
           "django unchained"
          ]
         ],
         "hovertemplate": "Movie=%{customdata[0]}<br>Director Name=%{x}<br>num_user_for_reviews=%{y}<extra></extra>",
         "legendgroup": "django unchained",
         "marker": {
          "color": "#FECB52",
          "pattern": {
           "shape": ""
          }
         },
         "name": "django unchained",
         "offsetgroup": "django unchained",
         "orientation": "v",
         "showlegend": true,
         "text": [
          "django unchained"
         ],
         "textposition": "inside",
         "x": [
          "Quentin Tarantino"
         ],
         "xaxis": "x",
         "y": [
          1193.0
         ],
         "yaxis": "y",
         "type": "bar",
         "textfont": {
          "size": 10
         }
        },
        {
         "alignmentgroup": "True",
         "customdata": [
          [
           "the hateful eight"
          ]
         ],
         "hovertemplate": "Movie=%{customdata[0]}<br>Director Name=%{x}<br>num_user_for_reviews=%{y}<extra></extra>",
         "legendgroup": "the hateful eight",
         "marker": {
          "color": "#636efa",
          "pattern": {
           "shape": ""
          }
         },
         "name": "the hateful eight",
         "offsetgroup": "the hateful eight",
         "orientation": "v",
         "showlegend": true,
         "text": [
          "the hateful eight"
         ],
         "textposition": "inside",
         "x": [
          "Quentin Tarantino"
         ],
         "xaxis": "x",
         "y": [
          1018.0
         ],
         "yaxis": "y",
         "type": "bar",
         "textfont": {
          "size": 10
         }
        },
        {
         "alignmentgroup": "True",
         "customdata": [
          [
           "brokeback mountain"
          ]
         ],
         "hovertemplate": "Movie=%{customdata[0]}<br>Director Name=%{x}<br>num_user_for_reviews=%{y}<extra></extra>",
         "legendgroup": "brokeback mountain",
         "marker": {
          "color": "#EF553B",
          "pattern": {
           "shape": ""
          }
         },
         "name": "brokeback mountain",
         "offsetgroup": "brokeback mountain",
         "orientation": "v",
         "showlegend": true,
         "text": [
          "brokeback mountain"
         ],
         "textposition": "inside",
         "x": [
          "Ang Lee"
         ],
         "xaxis": "x",
         "y": [
          2254.0
         ],
         "yaxis": "y",
         "type": "bar",
         "textfont": {
          "size": 10
         }
        },
        {
         "alignmentgroup": "True",
         "customdata": [
          [
           "crouching tiger, hidden dragon"
          ]
         ],
         "hovertemplate": "Movie=%{customdata[0]}<br>Director Name=%{x}<br>num_user_for_reviews=%{y}<extra></extra>",
         "legendgroup": "crouching tiger, hidden dragon",
         "marker": {
          "color": "#00cc96",
          "pattern": {
           "shape": ""
          }
         },
         "name": "crouching tiger, hidden dragon",
         "offsetgroup": "crouching tiger, hidden dragon",
         "orientation": "v",
         "showlegend": true,
         "text": [
          "crouching tiger, hidden dragon"
         ],
         "textposition": "inside",
         "x": [
          "Ang Lee"
         ],
         "xaxis": "x",
         "y": [
          1641.0
         ],
         "yaxis": "y",
         "type": "bar",
         "textfont": {
          "size": 10
         }
        },
        {
         "alignmentgroup": "True",
         "customdata": [
          [
           "life of pi"
          ]
         ],
         "hovertemplate": "Movie=%{customdata[0]}<br>Director Name=%{x}<br>num_user_for_reviews=%{y}<extra></extra>",
         "legendgroup": "life of pi",
         "marker": {
          "color": "#ab63fa",
          "pattern": {
           "shape": ""
          }
         },
         "name": "life of pi",
         "offsetgroup": "life of pi",
         "orientation": "v",
         "showlegend": true,
         "text": [
          "life of pi"
         ],
         "textposition": "inside",
         "x": [
          "Ang Lee"
         ],
         "xaxis": "x",
         "y": [
          755.0
         ],
         "yaxis": "y",
         "type": "bar",
         "textfont": {
          "size": 10
         }
        },
        {
         "alignmentgroup": "True",
         "customdata": [
          [
           "sense and sensibility"
          ]
         ],
         "hovertemplate": "Movie=%{customdata[0]}<br>Director Name=%{x}<br>num_user_for_reviews=%{y}<extra></extra>",
         "legendgroup": "sense and sensibility",
         "marker": {
          "color": "#FFA15A",
          "pattern": {
           "shape": ""
          }
         },
         "name": "sense and sensibility",
         "offsetgroup": "sense and sensibility",
         "orientation": "v",
         "showlegend": true,
         "text": [
          "sense and sensibility"
         ],
         "textposition": "inside",
         "x": [
          "Ang Lee"
         ],
         "xaxis": "x",
         "y": [
          196.0
         ],
         "yaxis": "y",
         "type": "bar",
         "textfont": {
          "size": 10
         }
        },
        {
         "alignmentgroup": "True",
         "customdata": [
          [
           "the departed"
          ]
         ],
         "hovertemplate": "Movie=%{customdata[0]}<br>Director Name=%{x}<br>num_user_for_reviews=%{y}<extra></extra>",
         "legendgroup": "the departed",
         "marker": {
          "color": "#19d3f3",
          "pattern": {
           "shape": ""
          }
         },
         "name": "the departed",
         "offsetgroup": "the departed",
         "orientation": "v",
         "showlegend": true,
         "text": [
          "the departed"
         ],
         "textposition": "inside",
         "x": [
          "Martin Scorsese"
         ],
         "xaxis": "x",
         "y": [
          2054.0
         ],
         "yaxis": "y",
         "type": "bar",
         "textfont": {
          "size": 10
         }
        },
        {
         "alignmentgroup": "True",
         "customdata": [
          [
           "the aviator"
          ]
         ],
         "hovertemplate": "Movie=%{customdata[0]}<br>Director Name=%{x}<br>num_user_for_reviews=%{y}<extra></extra>",
         "legendgroup": "the aviator",
         "marker": {
          "color": "#FF6692",
          "pattern": {
           "shape": ""
          }
         },
         "name": "the aviator",
         "offsetgroup": "the aviator",
         "orientation": "v",
         "showlegend": true,
         "text": [
          "the aviator"
         ],
         "textposition": "inside",
         "x": [
          "Martin Scorsese"
         ],
         "xaxis": "x",
         "y": [
          799.0
         ],
         "yaxis": "y",
         "type": "bar",
         "textfont": {
          "size": 10
         }
        },
        {
         "alignmentgroup": "True",
         "customdata": [
          [
           "hugo"
          ]
         ],
         "hovertemplate": "Movie=%{customdata[0]}<br>Director Name=%{x}<br>num_user_for_reviews=%{y}<extra></extra>",
         "legendgroup": "hugo",
         "marker": {
          "color": "#B6E880",
          "pattern": {
           "shape": ""
          }
         },
         "name": "hugo",
         "offsetgroup": "hugo",
         "orientation": "v",
         "showlegend": true,
         "text": [
          "hugo"
         ],
         "textposition": "inside",
         "x": [
          "Martin Scorsese"
         ],
         "xaxis": "x",
         "y": [
          678.0
         ],
         "yaxis": "y",
         "type": "bar",
         "textfont": {
          "size": 10
         }
        },
        {
         "alignmentgroup": "True",
         "customdata": [
          [
           "raging bull"
          ]
         ],
         "hovertemplate": "Movie=%{customdata[0]}<br>Director Name=%{x}<br>num_user_for_reviews=%{y}<extra></extra>",
         "legendgroup": "raging bull",
         "marker": {
          "color": "#FF97FF",
          "pattern": {
           "shape": ""
          }
         },
         "name": "raging bull",
         "offsetgroup": "raging bull",
         "orientation": "v",
         "showlegend": true,
         "text": [
          "raging bull"
         ],
         "textposition": "inside",
         "x": [
          "Martin Scorsese"
         ],
         "xaxis": "x",
         "y": [
          494.0
         ],
         "yaxis": "y",
         "type": "bar",
         "textfont": {
          "size": 10
         }
        },
        {
         "alignmentgroup": "True",
         "customdata": [
          [
           "the age of innocence"
          ]
         ],
         "hovertemplate": "Movie=%{customdata[0]}<br>Director Name=%{x}<br>num_user_for_reviews=%{y}<extra></extra>",
         "legendgroup": "the age of innocence",
         "marker": {
          "color": "#FECB52",
          "pattern": {
           "shape": ""
          }
         },
         "name": "the age of innocence",
         "offsetgroup": "the age of innocence",
         "orientation": "v",
         "showlegend": true,
         "text": [
          "the age of innocence"
         ],
         "textposition": "inside",
         "x": [
          "Martin Scorsese"
         ],
         "xaxis": "x",
         "y": [
          150.0
         ],
         "yaxis": "y",
         "type": "bar",
         "textfont": {
          "size": 10
         }
        },
        {
         "alignmentgroup": "True",
         "customdata": [
          [
           "the color of money"
          ]
         ],
         "hovertemplate": "Movie=%{customdata[0]}<br>Director Name=%{x}<br>num_user_for_reviews=%{y}<extra></extra>",
         "legendgroup": "the color of money",
         "marker": {
          "color": "#636efa",
          "pattern": {
           "shape": ""
          }
         },
         "name": "the color of money",
         "offsetgroup": "the color of money",
         "orientation": "v",
         "showlegend": true,
         "text": [
          "the color of money"
         ],
         "textposition": "inside",
         "x": [
          "Martin Scorsese"
         ],
         "xaxis": "x",
         "y": [
          115.0
         ],
         "yaxis": "y",
         "type": "bar",
         "textfont": {
          "size": 10
         }
        },
        {
         "alignmentgroup": "True",
         "customdata": [
          [
           "million dollar baby"
          ]
         ],
         "hovertemplate": "Movie=%{customdata[0]}<br>Director Name=%{x}<br>num_user_for_reviews=%{y}<extra></extra>",
         "legendgroup": "million dollar baby",
         "marker": {
          "color": "#EF553B",
          "pattern": {
           "shape": ""
          }
         },
         "name": "million dollar baby",
         "offsetgroup": "million dollar baby",
         "orientation": "v",
         "showlegend": true,
         "text": [
          "million dollar baby"
         ],
         "textposition": "inside",
         "x": [
          "Clint Eastwood"
         ],
         "xaxis": "x",
         "y": [
          1106.0
         ],
         "yaxis": "y",
         "type": "bar",
         "textfont": {
          "size": 10
         }
        },
        {
         "alignmentgroup": "True",
         "customdata": [
          [
           "mystic river"
          ]
         ],
         "hovertemplate": "Movie=%{customdata[0]}<br>Director Name=%{x}<br>num_user_for_reviews=%{y}<extra></extra>",
         "legendgroup": "mystic river",
         "marker": {
          "color": "#00cc96",
          "pattern": {
           "shape": ""
          }
         },
         "name": "mystic river",
         "offsetgroup": "mystic river",
         "orientation": "v",
         "showlegend": true,
         "text": [
          "mystic river"
         ],
         "textposition": "inside",
         "x": [
          "Clint Eastwood"
         ],
         "xaxis": "x",
         "y": [
          935.0
         ],
         "yaxis": "y",
         "type": "bar",
         "textfont": {
          "size": 10
         }
        },
        {
         "alignmentgroup": "True",
         "customdata": [
          [
           "american sniper"
          ]
         ],
         "hovertemplate": "Movie=%{customdata[0]}<br>Director Name=%{x}<br>num_user_for_reviews=%{y}<extra></extra>",
         "legendgroup": "american sniper",
         "marker": {
          "color": "#ab63fa",
          "pattern": {
           "shape": ""
          }
         },
         "name": "american sniper",
         "offsetgroup": "american sniper",
         "orientation": "v",
         "showlegend": true,
         "text": [
          "american sniper"
         ],
         "textposition": "inside",
         "x": [
          "Clint Eastwood"
         ],
         "xaxis": "x",
         "y": [
          916.0
         ],
         "yaxis": "y",
         "type": "bar",
         "textfont": {
          "size": 10
         }
        },
        {
         "alignmentgroup": "True",
         "customdata": [
          [
           "unforgiven"
          ]
         ],
         "hovertemplate": "Movie=%{customdata[0]}<br>Director Name=%{x}<br>num_user_for_reviews=%{y}<extra></extra>",
         "legendgroup": "unforgiven",
         "marker": {
          "color": "#FFA15A",
          "pattern": {
           "shape": ""
          }
         },
         "name": "unforgiven",
         "offsetgroup": "unforgiven",
         "orientation": "v",
         "showlegend": true,
         "text": [
          "unforgiven"
         ],
         "textposition": "inside",
         "x": [
          "Clint Eastwood"
         ],
         "xaxis": "x",
         "y": [
          495.0
         ],
         "yaxis": "y",
         "type": "bar",
         "textfont": {
          "size": 10
         }
        },
        {
         "alignmentgroup": "True",
         "customdata": [
          [
           "letters from iwo jima"
          ]
         ],
         "hovertemplate": "Movie=%{customdata[0]}<br>Director Name=%{x}<br>num_user_for_reviews=%{y}<extra></extra>",
         "legendgroup": "letters from iwo jima",
         "marker": {
          "color": "#19d3f3",
          "pattern": {
           "shape": ""
          }
         },
         "name": "letters from iwo jima",
         "offsetgroup": "letters from iwo jima",
         "orientation": "v",
         "showlegend": true,
         "text": [
          "letters from iwo jima"
         ],
         "textposition": "inside",
         "x": [
          "Clint Eastwood"
         ],
         "xaxis": "x",
         "y": [
          316.0
         ],
         "yaxis": "y",
         "type": "bar",
         "textfont": {
          "size": 10
         }
        },
        {
         "alignmentgroup": "True",
         "customdata": [
          [
           "the revenant"
          ]
         ],
         "hovertemplate": "Movie=%{customdata[0]}<br>Director Name=%{x}<br>num_user_for_reviews=%{y}<extra></extra>",
         "legendgroup": "the revenant",
         "marker": {
          "color": "#FF6692",
          "pattern": {
           "shape": ""
          }
         },
         "name": "the revenant",
         "offsetgroup": "the revenant",
         "orientation": "v",
         "showlegend": true,
         "text": [
          "the revenant"
         ],
         "textposition": "inside",
         "x": [
          "Alejandro G. Iñárritu"
         ],
         "xaxis": "x",
         "y": [
          1188.0
         ],
         "yaxis": "y",
         "type": "bar",
         "textfont": {
          "size": 10
         }
        },
        {
         "alignmentgroup": "True",
         "customdata": [
          [
           "birdman or (the unexpected virtue of ignorance)"
          ]
         ],
         "hovertemplate": "Movie=%{customdata[0]}<br>Director Name=%{x}<br>num_user_for_reviews=%{y}<extra></extra>",
         "legendgroup": "birdman or (the unexpected virtue of ignorance)",
         "marker": {
          "color": "#B6E880",
          "pattern": {
           "shape": ""
          }
         },
         "name": "birdman or (the unexpected virtue of ignorance)",
         "offsetgroup": "birdman or (the unexpected virtue of ignorance)",
         "orientation": "v",
         "showlegend": true,
         "text": [
          "birdman or (the unexpected virtue of ignorance)"
         ],
         "textposition": "inside",
         "x": [
          "Alejandro G. Iñárritu"
         ],
         "xaxis": "x",
         "y": [
          1101.0
         ],
         "yaxis": "y",
         "type": "bar",
         "textfont": {
          "size": 10
         }
        },
        {
         "alignmentgroup": "True",
         "customdata": [
          [
           "babel"
          ]
         ],
         "hovertemplate": "Movie=%{customdata[0]}<br>Director Name=%{x}<br>num_user_for_reviews=%{y}<extra></extra>",
         "legendgroup": "babel",
         "marker": {
          "color": "#FF97FF",
          "pattern": {
           "shape": ""
          }
         },
         "name": "babel",
         "offsetgroup": "babel",
         "orientation": "v",
         "showlegend": true,
         "text": [
          "babel"
         ],
         "textposition": "inside",
         "x": [
          "Alejandro G. Iñárritu"
         ],
         "xaxis": "x",
         "y": [
          908.0
         ],
         "yaxis": "y",
         "type": "bar",
         "textfont": {
          "size": 10
         }
        },
        {
         "alignmentgroup": "True",
         "customdata": [
          [
           "forrest gump"
          ]
         ],
         "hovertemplate": "Movie=%{customdata[0]}<br>Director Name=%{x}<br>num_user_for_reviews=%{y}<extra></extra>",
         "legendgroup": "forrest gump",
         "marker": {
          "color": "#FECB52",
          "pattern": {
           "shape": ""
          }
         },
         "name": "forrest gump",
         "offsetgroup": "forrest gump",
         "orientation": "v",
         "showlegend": true,
         "text": [
          "forrest gump"
         ],
         "textposition": "inside",
         "x": [
          "Robert Zemeckis"
         ],
         "xaxis": "x",
         "y": [
          1398.0
         ],
         "yaxis": "y",
         "type": "bar",
         "textfont": {
          "size": 10
         }
        },
        {
         "alignmentgroup": "True",
         "customdata": [
          [
           "back to the future"
          ]
         ],
         "hovertemplate": "Movie=%{customdata[0]}<br>Director Name=%{x}<br>num_user_for_reviews=%{y}<extra></extra>",
         "legendgroup": "back to the future",
         "marker": {
          "color": "#636efa",
          "pattern": {
           "shape": ""
          }
         },
         "name": "back to the future",
         "offsetgroup": "back to the future",
         "orientation": "v",
         "showlegend": true,
         "text": [
          "back to the future"
         ],
         "textposition": "inside",
         "x": [
          "Robert Zemeckis"
         ],
         "xaxis": "x",
         "y": [
          809.0
         ],
         "yaxis": "y",
         "type": "bar",
         "textfont": {
          "size": 10
         }
        },
        {
         "alignmentgroup": "True",
         "customdata": [
          [
           "a christmas carol"
          ]
         ],
         "hovertemplate": "Movie=%{customdata[0]}<br>Director Name=%{x}<br>num_user_for_reviews=%{y}<extra></extra>",
         "legendgroup": "a christmas carol",
         "marker": {
          "color": "#EF553B",
          "pattern": {
           "shape": ""
          }
         },
         "name": "a christmas carol",
         "offsetgroup": "a christmas carol",
         "orientation": "v",
         "showlegend": true,
         "text": [
          "a christmas carol"
         ],
         "textposition": "inside",
         "x": [
          "Robert Zemeckis"
         ],
         "xaxis": "x",
         "y": [
          249.0
         ],
         "yaxis": "y",
         "type": "bar",
         "textfont": {
          "size": 10
         }
        },
        {
         "alignmentgroup": "True",
         "customdata": [
          [
           "death becomes her"
          ]
         ],
         "hovertemplate": "Movie=%{customdata[0]}<br>Director Name=%{x}<br>num_user_for_reviews=%{y}<extra></extra>",
         "legendgroup": "death becomes her",
         "marker": {
          "color": "#00cc96",
          "pattern": {
           "shape": ""
          }
         },
         "name": "death becomes her",
         "offsetgroup": "death becomes her",
         "orientation": "v",
         "showlegend": true,
         "text": [
          "death becomes her"
         ],
         "textposition": "inside",
         "x": [
          "Robert Zemeckis"
         ],
         "xaxis": "x",
         "y": [
          173.0
         ],
         "yaxis": "y",
         "type": "bar",
         "textfont": {
          "size": 10
         }
        },
        {
         "alignmentgroup": "True",
         "customdata": [
          [
           "batman"
          ]
         ],
         "hovertemplate": "Movie=%{customdata[0]}<br>Director Name=%{x}<br>num_user_for_reviews=%{y}<extra></extra>",
         "legendgroup": "batman",
         "marker": {
          "color": "#ab63fa",
          "pattern": {
           "shape": ""
          }
         },
         "name": "batman",
         "offsetgroup": "batman",
         "orientation": "v",
         "showlegend": true,
         "text": [
          "batman"
         ],
         "textposition": "inside",
         "x": [
          "Tim Burton"
         ],
         "xaxis": "x",
         "y": [
          817.0
         ],
         "yaxis": "y",
         "type": "bar",
         "textfont": {
          "size": 10
         }
        },
        {
         "alignmentgroup": "True",
         "customdata": [
          [
           "alice in wonderland"
          ]
         ],
         "hovertemplate": "Movie=%{customdata[0]}<br>Director Name=%{x}<br>num_user_for_reviews=%{y}<extra></extra>",
         "legendgroup": "alice in wonderland",
         "marker": {
          "color": "#FFA15A",
          "pattern": {
           "shape": ""
          }
         },
         "name": "alice in wonderland",
         "offsetgroup": "alice in wonderland",
         "orientation": "v",
         "showlegend": true,
         "text": [
          "alice in wonderland"
         ],
         "textposition": "inside",
         "x": [
          "Tim Burton"
         ],
         "xaxis": "x",
         "y": [
          736.0
         ],
         "yaxis": "y",
         "type": "bar",
         "textfont": {
          "size": 10
         }
        },
        {
         "alignmentgroup": "True",
         "customdata": [
          [
           "ed wood"
          ]
         ],
         "hovertemplate": "Movie=%{customdata[0]}<br>Director Name=%{x}<br>num_user_for_reviews=%{y}<extra></extra>",
         "legendgroup": "ed wood",
         "marker": {
          "color": "#19d3f3",
          "pattern": {
           "shape": ""
          }
         },
         "name": "ed wood",
         "offsetgroup": "ed wood",
         "orientation": "v",
         "showlegend": true,
         "text": [
          "ed wood"
         ],
         "textposition": "inside",
         "x": [
          "Tim Burton"
         ],
         "xaxis": "x",
         "y": [
          420.0
         ],
         "yaxis": "y",
         "type": "bar",
         "textfont": {
          "size": 10
         }
        },
        {
         "alignmentgroup": "True",
         "customdata": [
          [
           "beetlejuice"
          ]
         ],
         "hovertemplate": "Movie=%{customdata[0]}<br>Director Name=%{x}<br>num_user_for_reviews=%{y}<extra></extra>",
         "legendgroup": "beetlejuice",
         "marker": {
          "color": "#FF6692",
          "pattern": {
           "shape": ""
          }
         },
         "name": "beetlejuice",
         "offsetgroup": "beetlejuice",
         "orientation": "v",
         "showlegend": true,
         "text": [
          "beetlejuice"
         ],
         "textposition": "inside",
         "x": [
          "Tim Burton"
         ],
         "xaxis": "x",
         "y": [
          306.0
         ],
         "yaxis": "y",
         "type": "bar",
         "textfont": {
          "size": 10
         }
        },
        {
         "alignmentgroup": "True",
         "customdata": [
          [
           "the curious case of benjamin button"
          ]
         ],
         "hovertemplate": "Movie=%{customdata[0]}<br>Director Name=%{x}<br>num_user_for_reviews=%{y}<extra></extra>",
         "legendgroup": "the curious case of benjamin button",
         "marker": {
          "color": "#B6E880",
          "pattern": {
           "shape": ""
          }
         },
         "name": "the curious case of benjamin button",
         "offsetgroup": "the curious case of benjamin button",
         "orientation": "v",
         "showlegend": true,
         "text": [
          "the curious case of benjamin button"
         ],
         "textposition": "inside",
         "x": [
          "David Fincher"
         ],
         "xaxis": "x",
         "y": [
          822.0
         ],
         "yaxis": "y",
         "type": "bar",
         "textfont": {
          "size": 10
         }
        },
        {
         "alignmentgroup": "True",
         "customdata": [
          [
           "the social network"
          ]
         ],
         "hovertemplate": "Movie=%{customdata[0]}<br>Director Name=%{x}<br>num_user_for_reviews=%{y}<extra></extra>",
         "legendgroup": "the social network",
         "marker": {
          "color": "#FF97FF",
          "pattern": {
           "shape": ""
          }
         },
         "name": "the social network",
         "offsetgroup": "the social network",
         "orientation": "v",
         "showlegend": true,
         "text": [
          "the social network"
         ],
         "textposition": "inside",
         "x": [
          "David Fincher"
         ],
         "xaxis": "x",
         "y": [
          696.0
         ],
         "yaxis": "y",
         "type": "bar",
         "textfont": {
          "size": 10
         }
        },
        {
         "alignmentgroup": "True",
         "customdata": [
          [
           "the girl with the dragon tattoo"
          ]
         ],
         "hovertemplate": "Movie=%{customdata[0]}<br>Director Name=%{x}<br>num_user_for_reviews=%{y}<extra></extra>",
         "legendgroup": "the girl with the dragon tattoo",
         "marker": {
          "color": "#FECB52",
          "pattern": {
           "shape": ""
          }
         },
         "name": "the girl with the dragon tattoo",
         "offsetgroup": "the girl with the dragon tattoo",
         "orientation": "v",
         "showlegend": true,
         "text": [
          "the girl with the dragon tattoo"
         ],
         "textposition": "inside",
         "x": [
          "David Fincher"
         ],
         "xaxis": "x",
         "y": [
          632.0
         ],
         "yaxis": "y",
         "type": "bar",
         "textfont": {
          "size": 10
         }
        },
        {
         "alignmentgroup": "True",
         "customdata": [
          [
           "inside out"
          ]
         ],
         "hovertemplate": "Movie=%{customdata[0]}<br>Director Name=%{x}<br>num_user_for_reviews=%{y}<extra></extra>",
         "legendgroup": "inside out",
         "marker": {
          "color": "#636efa",
          "pattern": {
           "shape": ""
          }
         },
         "name": "inside out",
         "offsetgroup": "inside out",
         "orientation": "v",
         "showlegend": true,
         "text": [
          "inside out"
         ],
         "textposition": "inside",
         "x": [
          "Pete Docter"
         ],
         "xaxis": "x",
         "y": [
          773.0
         ],
         "yaxis": "y",
         "type": "bar",
         "textfont": {
          "size": 10
         }
        },
        {
         "alignmentgroup": "True",
         "customdata": [
          [
           "up"
          ]
         ],
         "hovertemplate": "Movie=%{customdata[0]}<br>Director Name=%{x}<br>num_user_for_reviews=%{y}<extra></extra>",
         "legendgroup": "up",
         "marker": {
          "color": "#EF553B",
          "pattern": {
           "shape": ""
          }
         },
         "name": "up",
         "offsetgroup": "up",
         "orientation": "v",
         "showlegend": true,
         "text": [
          "up"
         ],
         "textposition": "inside",
         "x": [
          "Pete Docter"
         ],
         "xaxis": "x",
         "y": [
          704.0
         ],
         "yaxis": "y",
         "type": "bar",
         "textfont": {
          "size": 10
         }
        },
        {
         "alignmentgroup": "True",
         "customdata": [
          [
           "monsters, inc."
          ]
         ],
         "hovertemplate": "Movie=%{customdata[0]}<br>Director Name=%{x}<br>num_user_for_reviews=%{y}<extra></extra>",
         "legendgroup": "monsters, inc.",
         "marker": {
          "color": "#00cc96",
          "pattern": {
           "shape": ""
          }
         },
         "name": "monsters, inc.",
         "offsetgroup": "monsters, inc.",
         "orientation": "v",
         "showlegend": true,
         "text": [
          "monsters, inc."
         ],
         "textposition": "inside",
         "x": [
          "Pete Docter"
         ],
         "xaxis": "x",
         "y": [
          593.0
         ],
         "yaxis": "y",
         "type": "bar",
         "textfont": {
          "size": 10
         }
        },
        {
         "alignmentgroup": "True",
         "customdata": [
          [
           "midnight in paris"
          ]
         ],
         "hovertemplate": "Movie=%{customdata[0]}<br>Director Name=%{x}<br>num_user_for_reviews=%{y}<extra></extra>",
         "legendgroup": "midnight in paris",
         "marker": {
          "color": "#ab63fa",
          "pattern": {
           "shape": ""
          }
         },
         "name": "midnight in paris",
         "offsetgroup": "midnight in paris",
         "orientation": "v",
         "showlegend": true,
         "text": [
          "midnight in paris"
         ],
         "textposition": "inside",
         "x": [
          "Woody Allen"
         ],
         "xaxis": "x",
         "y": [
          509.0
         ],
         "yaxis": "y",
         "type": "bar",
         "textfont": {
          "size": 10
         }
        },
        {
         "alignmentgroup": "True",
         "customdata": [
          [
           "annie hall"
          ]
         ],
         "hovertemplate": "Movie=%{customdata[0]}<br>Director Name=%{x}<br>num_user_for_reviews=%{y}<extra></extra>",
         "legendgroup": "annie hall",
         "marker": {
          "color": "#FFA15A",
          "pattern": {
           "shape": ""
          }
         },
         "name": "annie hall",
         "offsetgroup": "annie hall",
         "orientation": "v",
         "showlegend": true,
         "text": [
          "annie hall"
         ],
         "textposition": "inside",
         "x": [
          "Woody Allen"
         ],
         "xaxis": "x",
         "y": [
          491.0
         ],
         "yaxis": "y",
         "type": "bar",
         "textfont": {
          "size": 10
         }
        },
        {
         "alignmentgroup": "True",
         "customdata": [
          [
           "blue jasmine"
          ]
         ],
         "hovertemplate": "Movie=%{customdata[0]}<br>Director Name=%{x}<br>num_user_for_reviews=%{y}<extra></extra>",
         "legendgroup": "blue jasmine",
         "marker": {
          "color": "#19d3f3",
          "pattern": {
           "shape": ""
          }
         },
         "name": "blue jasmine",
         "offsetgroup": "blue jasmine",
         "orientation": "v",
         "showlegend": true,
         "text": [
          "blue jasmine"
         ],
         "textposition": "inside",
         "x": [
          "Woody Allen"
         ],
         "xaxis": "x",
         "y": [
          384.0
         ],
         "yaxis": "y",
         "type": "bar",
         "textfont": {
          "size": 10
         }
        },
        {
         "alignmentgroup": "True",
         "customdata": [
          [
           "vicky cristina barcelona"
          ]
         ],
         "hovertemplate": "Movie=%{customdata[0]}<br>Director Name=%{x}<br>num_user_for_reviews=%{y}<extra></extra>",
         "legendgroup": "vicky cristina barcelona",
         "marker": {
          "color": "#FF6692",
          "pattern": {
           "shape": ""
          }
         },
         "name": "vicky cristina barcelona",
         "offsetgroup": "vicky cristina barcelona",
         "orientation": "v",
         "showlegend": true,
         "text": [
          "vicky cristina barcelona"
         ],
         "textposition": "inside",
         "x": [
          "Woody Allen"
         ],
         "xaxis": "x",
         "y": [
          365.0
         ],
         "yaxis": "y",
         "type": "bar",
         "textfont": {
          "size": 10
         }
        },
        {
         "alignmentgroup": "True",
         "customdata": [
          [
           "bullets over broadway"
          ]
         ],
         "hovertemplate": "Movie=%{customdata[0]}<br>Director Name=%{x}<br>num_user_for_reviews=%{y}<extra></extra>",
         "legendgroup": "bullets over broadway",
         "marker": {
          "color": "#B6E880",
          "pattern": {
           "shape": ""
          }
         },
         "name": "bullets over broadway",
         "offsetgroup": "bullets over broadway",
         "orientation": "v",
         "showlegend": true,
         "text": [
          "bullets over broadway"
         ],
         "textposition": "inside",
         "x": [
          "Woody Allen"
         ],
         "xaxis": "x",
         "y": [
          86.0
         ],
         "yaxis": "y",
         "type": "bar",
         "textfont": {
          "size": 10
         }
        },
        {
         "alignmentgroup": "True",
         "customdata": [
          [
           "platoon"
          ]
         ],
         "hovertemplate": "Movie=%{customdata[0]}<br>Director Name=%{x}<br>num_user_for_reviews=%{y}<extra></extra>",
         "legendgroup": "platoon",
         "marker": {
          "color": "#FF97FF",
          "pattern": {
           "shape": ""
          }
         },
         "name": "platoon",
         "offsetgroup": "platoon",
         "orientation": "v",
         "showlegend": true,
         "text": [
          "platoon"
         ],
         "textposition": "inside",
         "x": [
          "Oliver Stone"
         ],
         "xaxis": "x",
         "y": [
          505.0
         ],
         "yaxis": "y",
         "type": "bar",
         "textfont": {
          "size": 10
         }
        },
        {
         "alignmentgroup": "True",
         "customdata": [
          [
           "jfk"
          ]
         ],
         "hovertemplate": "Movie=%{customdata[0]}<br>Director Name=%{x}<br>num_user_for_reviews=%{y}<extra></extra>",
         "legendgroup": "jfk",
         "marker": {
          "color": "#FECB52",
          "pattern": {
           "shape": ""
          }
         },
         "name": "jfk",
         "offsetgroup": "jfk",
         "orientation": "v",
         "showlegend": true,
         "text": [
          "jfk"
         ],
         "textposition": "inside",
         "x": [
          "Oliver Stone"
         ],
         "xaxis": "x",
         "y": [
          442.0
         ],
         "yaxis": "y",
         "type": "bar",
         "textfont": {
          "size": 10
         }
        },
        {
         "alignmentgroup": "True",
         "customdata": [
          [
           "wall street"
          ]
         ],
         "hovertemplate": "Movie=%{customdata[0]}<br>Director Name=%{x}<br>num_user_for_reviews=%{y}<extra></extra>",
         "legendgroup": "wall street",
         "marker": {
          "color": "#636efa",
          "pattern": {
           "shape": ""
          }
         },
         "name": "wall street",
         "offsetgroup": "wall street",
         "orientation": "v",
         "showlegend": true,
         "text": [
          "wall street"
         ],
         "textposition": "inside",
         "x": [
          "Oliver Stone"
         ],
         "xaxis": "x",
         "y": [
          219.0
         ],
         "yaxis": "y",
         "type": "bar",
         "textfont": {
          "size": 10
         }
        },
        {
         "alignmentgroup": "True",
         "customdata": [
          [
           "born on the fourth of july"
          ]
         ],
         "hovertemplate": "Movie=%{customdata[0]}<br>Director Name=%{x}<br>num_user_for_reviews=%{y}<extra></extra>",
         "legendgroup": "born on the fourth of july",
         "marker": {
          "color": "#EF553B",
          "pattern": {
           "shape": ""
          }
         },
         "name": "born on the fourth of july",
         "offsetgroup": "born on the fourth of july",
         "orientation": "v",
         "showlegend": true,
         "text": [
          "born on the fourth of july"
         ],
         "textposition": "inside",
         "x": [
          "Oliver Stone"
         ],
         "xaxis": "x",
         "y": [
          173.0
         ],
         "yaxis": "y",
         "type": "bar",
         "textfont": {
          "size": 10
         }
        },
        {
         "alignmentgroup": "True",
         "customdata": [
          [
           "lawrence of arabia"
          ]
         ],
         "hovertemplate": "Movie=%{customdata[0]}<br>Director Name=%{x}<br>num_user_for_reviews=%{y}<extra></extra>",
         "legendgroup": "lawrence of arabia",
         "marker": {
          "color": "#00cc96",
          "pattern": {
           "shape": ""
          }
         },
         "name": "lawrence of arabia",
         "offsetgroup": "lawrence of arabia",
         "orientation": "v",
         "showlegend": true,
         "text": [
          "lawrence of arabia"
         ],
         "textposition": "inside",
         "x": [
          "David Lean"
         ],
         "xaxis": "x",
         "y": [
          559.0
         ],
         "yaxis": "y",
         "type": "bar",
         "textfont": {
          "size": 10
         }
        },
        {
         "alignmentgroup": "True",
         "customdata": [
          [
           "the bridge on the river kwai"
          ]
         ],
         "hovertemplate": "Movie=%{customdata[0]}<br>Director Name=%{x}<br>num_user_for_reviews=%{y}<extra></extra>",
         "legendgroup": "the bridge on the river kwai",
         "marker": {
          "color": "#ab63fa",
          "pattern": {
           "shape": ""
          }
         },
         "name": "the bridge on the river kwai",
         "offsetgroup": "the bridge on the river kwai",
         "orientation": "v",
         "showlegend": true,
         "text": [
          "the bridge on the river kwai"
         ],
         "textposition": "inside",
         "x": [
          "David Lean"
         ],
         "xaxis": "x",
         "y": [
          273.0
         ],
         "yaxis": "y",
         "type": "bar",
         "textfont": {
          "size": 10
         }
        },
        {
         "alignmentgroup": "True",
         "customdata": [
          [
           "doctor zhivago"
          ]
         ],
         "hovertemplate": "Movie=%{customdata[0]}<br>Director Name=%{x}<br>num_user_for_reviews=%{y}<extra></extra>",
         "legendgroup": "doctor zhivago",
         "marker": {
          "color": "#FFA15A",
          "pattern": {
           "shape": ""
          }
         },
         "name": "doctor zhivago",
         "offsetgroup": "doctor zhivago",
         "orientation": "v",
         "showlegend": true,
         "text": [
          "doctor zhivago"
         ],
         "textposition": "inside",
         "x": [
          "David Lean"
         ],
         "xaxis": "x",
         "y": [
          255.0
         ],
         "yaxis": "y",
         "type": "bar",
         "textfont": {
          "size": 10
         }
        },
        {
         "alignmentgroup": "True",
         "customdata": [
          [
           "a passage to india"
          ]
         ],
         "hovertemplate": "Movie=%{customdata[0]}<br>Director Name=%{x}<br>num_user_for_reviews=%{y}<extra></extra>",
         "legendgroup": "a passage to india",
         "marker": {
          "color": "#19d3f3",
          "pattern": {
           "shape": ""
          }
         },
         "name": "a passage to india",
         "offsetgroup": "a passage to india",
         "orientation": "v",
         "showlegend": true,
         "text": [
          "a passage to india"
         ],
         "textposition": "inside",
         "x": [
          "David Lean"
         ],
         "xaxis": "x",
         "y": [
          89.0
         ],
         "yaxis": "y",
         "type": "bar",
         "textfont": {
          "size": 10
         }
        },
        {
         "alignmentgroup": "True",
         "customdata": [
          [
           "high noon"
          ]
         ],
         "hovertemplate": "Movie=%{customdata[0]}<br>Director Name=%{x}<br>num_user_for_reviews=%{y}<extra></extra>",
         "legendgroup": "high noon",
         "marker": {
          "color": "#FF6692",
          "pattern": {
           "shape": ""
          }
         },
         "name": "high noon",
         "offsetgroup": "high noon",
         "orientation": "v",
         "showlegend": true,
         "text": [
          "high noon"
         ],
         "textposition": "inside",
         "x": [
          "Fred Zinnemann"
         ],
         "xaxis": "x",
         "y": [
          333.0
         ],
         "yaxis": "y",
         "type": "bar",
         "textfont": {
          "size": 10
         }
        },
        {
         "alignmentgroup": "True",
         "customdata": [
          [
           "a man for all seasons"
          ]
         ],
         "hovertemplate": "Movie=%{customdata[0]}<br>Director Name=%{x}<br>num_user_for_reviews=%{y}<extra></extra>",
         "legendgroup": "a man for all seasons",
         "marker": {
          "color": "#B6E880",
          "pattern": {
           "shape": ""
          }
         },
         "name": "a man for all seasons",
         "offsetgroup": "a man for all seasons",
         "orientation": "v",
         "showlegend": true,
         "text": [
          "a man for all seasons"
         ],
         "textposition": "inside",
         "x": [
          "Fred Zinnemann"
         ],
         "xaxis": "x",
         "y": [
          167.0
         ],
         "yaxis": "y",
         "type": "bar",
         "textfont": {
          "size": 10
         }
        },
        {
         "alignmentgroup": "True",
         "customdata": [
          [
           "from here to eternity"
          ]
         ],
         "hovertemplate": "Movie=%{customdata[0]}<br>Director Name=%{x}<br>num_user_for_reviews=%{y}<extra></extra>",
         "legendgroup": "from here to eternity",
         "marker": {
          "color": "#FF97FF",
          "pattern": {
           "shape": ""
          }
         },
         "name": "from here to eternity",
         "offsetgroup": "from here to eternity",
         "orientation": "v",
         "showlegend": true,
         "text": [
          "from here to eternity"
         ],
         "textposition": "inside",
         "x": [
          "Fred Zinnemann"
         ],
         "xaxis": "x",
         "y": [
          150.0
         ],
         "yaxis": "y",
         "type": "bar",
         "textfont": {
          "size": 10
         }
        },
        {
         "alignmentgroup": "True",
         "customdata": [
          [
           "julia"
          ]
         ],
         "hovertemplate": "Movie=%{customdata[0]}<br>Director Name=%{x}<br>num_user_for_reviews=%{y}<extra></extra>",
         "legendgroup": "julia",
         "marker": {
          "color": "#FECB52",
          "pattern": {
           "shape": ""
          }
         },
         "name": "julia",
         "offsetgroup": "julia",
         "orientation": "v",
         "showlegend": true,
         "text": [
          "julia"
         ],
         "textposition": "inside",
         "x": [
          "Fred Zinnemann"
         ],
         "xaxis": "x",
         "y": [
          44.0
         ],
         "yaxis": "y",
         "type": "bar",
         "textfont": {
          "size": 10
         }
        },
        {
         "alignmentgroup": "True",
         "customdata": [
          [
           "on the waterfront"
          ]
         ],
         "hovertemplate": "Movie=%{customdata[0]}<br>Director Name=%{x}<br>num_user_for_reviews=%{y}<extra></extra>",
         "legendgroup": "on the waterfront",
         "marker": {
          "color": "#636efa",
          "pattern": {
           "shape": ""
          }
         },
         "name": "on the waterfront",
         "offsetgroup": "on the waterfront",
         "orientation": "v",
         "showlegend": true,
         "text": [
          "on the waterfront"
         ],
         "textposition": "inside",
         "x": [
          "Elia Kazan"
         ],
         "xaxis": "x",
         "y": [
          281.0
         ],
         "yaxis": "y",
         "type": "bar",
         "textfont": {
          "size": 10
         }
        },
        {
         "alignmentgroup": "True",
         "customdata": [
          [
           "a streetcar named desire"
          ]
         ],
         "hovertemplate": "Movie=%{customdata[0]}<br>Director Name=%{x}<br>num_user_for_reviews=%{y}<extra></extra>",
         "legendgroup": "a streetcar named desire",
         "marker": {
          "color": "#EF553B",
          "pattern": {
           "shape": ""
          }
         },
         "name": "a streetcar named desire",
         "offsetgroup": "a streetcar named desire",
         "orientation": "v",
         "showlegend": true,
         "text": [
          "a streetcar named desire"
         ],
         "textposition": "inside",
         "x": [
          "Elia Kazan"
         ],
         "xaxis": "x",
         "y": [
          233.0
         ],
         "yaxis": "y",
         "type": "bar",
         "textfont": {
          "size": 10
         }
        },
        {
         "alignmentgroup": "True",
         "customdata": [
          [
           "gentleman's agreement"
          ]
         ],
         "hovertemplate": "Movie=%{customdata[0]}<br>Director Name=%{x}<br>num_user_for_reviews=%{y}<extra></extra>",
         "legendgroup": "gentleman's agreement",
         "marker": {
          "color": "#00cc96",
          "pattern": {
           "shape": ""
          }
         },
         "name": "gentleman's agreement",
         "offsetgroup": "gentleman's agreement",
         "orientation": "v",
         "showlegend": true,
         "text": [
          "gentleman's agreement"
         ],
         "textposition": "inside",
         "x": [
          "Elia Kazan"
         ],
         "xaxis": "x",
         "y": [
          113.0
         ],
         "yaxis": "y",
         "type": "bar",
         "textfont": {
          "size": 10
         }
        },
        {
         "alignmentgroup": "True",
         "customdata": [
          [
           "mr. smith goes to washington"
          ]
         ],
         "hovertemplate": "Movie=%{customdata[0]}<br>Director Name=%{x}<br>num_user_for_reviews=%{y}<extra></extra>",
         "legendgroup": "mr. smith goes to washington",
         "marker": {
          "color": "#ab63fa",
          "pattern": {
           "shape": ""
          }
         },
         "name": "mr. smith goes to washington",
         "offsetgroup": "mr. smith goes to washington",
         "orientation": "v",
         "showlegend": true,
         "text": [
          "mr. smith goes to washington"
         ],
         "textposition": "inside",
         "x": [
          "Frank Capra"
         ],
         "xaxis": "x",
         "y": [
          245.0
         ],
         "yaxis": "y",
         "type": "bar",
         "textfont": {
          "size": 10
         }
        },
        {
         "alignmentgroup": "True",
         "customdata": [
          [
           "it happened one night"
          ]
         ],
         "hovertemplate": "Movie=%{customdata[0]}<br>Director Name=%{x}<br>num_user_for_reviews=%{y}<extra></extra>",
         "legendgroup": "it happened one night",
         "marker": {
          "color": "#FFA15A",
          "pattern": {
           "shape": ""
          }
         },
         "name": "it happened one night",
         "offsetgroup": "it happened one night",
         "orientation": "v",
         "showlegend": true,
         "text": [
          "it happened one night"
         ],
         "textposition": "inside",
         "x": [
          "Frank Capra"
         ],
         "xaxis": "x",
         "y": [
          235.0
         ],
         "yaxis": "y",
         "type": "bar",
         "textfont": {
          "size": 10
         }
        },
        {
         "alignmentgroup": "True",
         "customdata": [
          [
           "you can't take it with you"
          ]
         ],
         "hovertemplate": "Movie=%{customdata[0]}<br>Director Name=%{x}<br>num_user_for_reviews=%{y}<extra></extra>",
         "legendgroup": "you can't take it with you",
         "marker": {
          "color": "#19d3f3",
          "pattern": {
           "shape": ""
          }
         },
         "name": "you can't take it with you",
         "offsetgroup": "you can't take it with you",
         "orientation": "v",
         "showlegend": true,
         "text": [
          "you can't take it with you"
         ],
         "textposition": "inside",
         "x": [
          "Frank Capra"
         ],
         "xaxis": "x",
         "y": [
          133.0
         ],
         "yaxis": "y",
         "type": "bar",
         "textfont": {
          "size": 10
         }
        }
       ],
       "layout": {
        "template": {
         "data": {
          "histogram2dcontour": [
           {
            "type": "histogram2dcontour",
            "colorbar": {
             "outlinewidth": 0,
             "ticks": ""
            },
            "colorscale": [
             [
              0.0,
              "#0d0887"
             ],
             [
              0.1111111111111111,
              "#46039f"
             ],
             [
              0.2222222222222222,
              "#7201a8"
             ],
             [
              0.3333333333333333,
              "#9c179e"
             ],
             [
              0.4444444444444444,
              "#bd3786"
             ],
             [
              0.5555555555555556,
              "#d8576b"
             ],
             [
              0.6666666666666666,
              "#ed7953"
             ],
             [
              0.7777777777777778,
              "#fb9f3a"
             ],
             [
              0.8888888888888888,
              "#fdca26"
             ],
             [
              1.0,
              "#f0f921"
             ]
            ]
           }
          ],
          "choropleth": [
           {
            "type": "choropleth",
            "colorbar": {
             "outlinewidth": 0,
             "ticks": ""
            }
           }
          ],
          "histogram2d": [
           {
            "type": "histogram2d",
            "colorbar": {
             "outlinewidth": 0,
             "ticks": ""
            },
            "colorscale": [
             [
              0.0,
              "#0d0887"
             ],
             [
              0.1111111111111111,
              "#46039f"
             ],
             [
              0.2222222222222222,
              "#7201a8"
             ],
             [
              0.3333333333333333,
              "#9c179e"
             ],
             [
              0.4444444444444444,
              "#bd3786"
             ],
             [
              0.5555555555555556,
              "#d8576b"
             ],
             [
              0.6666666666666666,
              "#ed7953"
             ],
             [
              0.7777777777777778,
              "#fb9f3a"
             ],
             [
              0.8888888888888888,
              "#fdca26"
             ],
             [
              1.0,
              "#f0f921"
             ]
            ]
           }
          ],
          "heatmap": [
           {
            "type": "heatmap",
            "colorbar": {
             "outlinewidth": 0,
             "ticks": ""
            },
            "colorscale": [
             [
              0.0,
              "#0d0887"
             ],
             [
              0.1111111111111111,
              "#46039f"
             ],
             [
              0.2222222222222222,
              "#7201a8"
             ],
             [
              0.3333333333333333,
              "#9c179e"
             ],
             [
              0.4444444444444444,
              "#bd3786"
             ],
             [
              0.5555555555555556,
              "#d8576b"
             ],
             [
              0.6666666666666666,
              "#ed7953"
             ],
             [
              0.7777777777777778,
              "#fb9f3a"
             ],
             [
              0.8888888888888888,
              "#fdca26"
             ],
             [
              1.0,
              "#f0f921"
             ]
            ]
           }
          ],
          "heatmapgl": [
           {
            "type": "heatmapgl",
            "colorbar": {
             "outlinewidth": 0,
             "ticks": ""
            },
            "colorscale": [
             [
              0.0,
              "#0d0887"
             ],
             [
              0.1111111111111111,
              "#46039f"
             ],
             [
              0.2222222222222222,
              "#7201a8"
             ],
             [
              0.3333333333333333,
              "#9c179e"
             ],
             [
              0.4444444444444444,
              "#bd3786"
             ],
             [
              0.5555555555555556,
              "#d8576b"
             ],
             [
              0.6666666666666666,
              "#ed7953"
             ],
             [
              0.7777777777777778,
              "#fb9f3a"
             ],
             [
              0.8888888888888888,
              "#fdca26"
             ],
             [
              1.0,
              "#f0f921"
             ]
            ]
           }
          ],
          "contourcarpet": [
           {
            "type": "contourcarpet",
            "colorbar": {
             "outlinewidth": 0,
             "ticks": ""
            }
           }
          ],
          "contour": [
           {
            "type": "contour",
            "colorbar": {
             "outlinewidth": 0,
             "ticks": ""
            },
            "colorscale": [
             [
              0.0,
              "#0d0887"
             ],
             [
              0.1111111111111111,
              "#46039f"
             ],
             [
              0.2222222222222222,
              "#7201a8"
             ],
             [
              0.3333333333333333,
              "#9c179e"
             ],
             [
              0.4444444444444444,
              "#bd3786"
             ],
             [
              0.5555555555555556,
              "#d8576b"
             ],
             [
              0.6666666666666666,
              "#ed7953"
             ],
             [
              0.7777777777777778,
              "#fb9f3a"
             ],
             [
              0.8888888888888888,
              "#fdca26"
             ],
             [
              1.0,
              "#f0f921"
             ]
            ]
           }
          ],
          "surface": [
           {
            "type": "surface",
            "colorbar": {
             "outlinewidth": 0,
             "ticks": ""
            },
            "colorscale": [
             [
              0.0,
              "#0d0887"
             ],
             [
              0.1111111111111111,
              "#46039f"
             ],
             [
              0.2222222222222222,
              "#7201a8"
             ],
             [
              0.3333333333333333,
              "#9c179e"
             ],
             [
              0.4444444444444444,
              "#bd3786"
             ],
             [
              0.5555555555555556,
              "#d8576b"
             ],
             [
              0.6666666666666666,
              "#ed7953"
             ],
             [
              0.7777777777777778,
              "#fb9f3a"
             ],
             [
              0.8888888888888888,
              "#fdca26"
             ],
             [
              1.0,
              "#f0f921"
             ]
            ]
           }
          ],
          "mesh3d": [
           {
            "type": "mesh3d",
            "colorbar": {
             "outlinewidth": 0,
             "ticks": ""
            }
           }
          ],
          "scatter": [
           {
            "fillpattern": {
             "fillmode": "overlay",
             "size": 10,
             "solidity": 0.2
            },
            "type": "scatter"
           }
          ],
          "parcoords": [
           {
            "type": "parcoords",
            "line": {
             "colorbar": {
              "outlinewidth": 0,
              "ticks": ""
             }
            }
           }
          ],
          "scatterpolargl": [
           {
            "type": "scatterpolargl",
            "marker": {
             "colorbar": {
              "outlinewidth": 0,
              "ticks": ""
             }
            }
           }
          ],
          "bar": [
           {
            "error_x": {
             "color": "#2a3f5f"
            },
            "error_y": {
             "color": "#2a3f5f"
            },
            "marker": {
             "line": {
              "color": "#E5ECF6",
              "width": 0.5
             },
             "pattern": {
              "fillmode": "overlay",
              "size": 10,
              "solidity": 0.2
             }
            },
            "type": "bar"
           }
          ],
          "scattergeo": [
           {
            "type": "scattergeo",
            "marker": {
             "colorbar": {
              "outlinewidth": 0,
              "ticks": ""
             }
            }
           }
          ],
          "scatterpolar": [
           {
            "type": "scatterpolar",
            "marker": {
             "colorbar": {
              "outlinewidth": 0,
              "ticks": ""
             }
            }
           }
          ],
          "histogram": [
           {
            "marker": {
             "pattern": {
              "fillmode": "overlay",
              "size": 10,
              "solidity": 0.2
             }
            },
            "type": "histogram"
           }
          ],
          "scattergl": [
           {
            "type": "scattergl",
            "marker": {
             "colorbar": {
              "outlinewidth": 0,
              "ticks": ""
             }
            }
           }
          ],
          "scatter3d": [
           {
            "type": "scatter3d",
            "line": {
             "colorbar": {
              "outlinewidth": 0,
              "ticks": ""
             }
            },
            "marker": {
             "colorbar": {
              "outlinewidth": 0,
              "ticks": ""
             }
            }
           }
          ],
          "scattermapbox": [
           {
            "type": "scattermapbox",
            "marker": {
             "colorbar": {
              "outlinewidth": 0,
              "ticks": ""
             }
            }
           }
          ],
          "scatterternary": [
           {
            "type": "scatterternary",
            "marker": {
             "colorbar": {
              "outlinewidth": 0,
              "ticks": ""
             }
            }
           }
          ],
          "scattercarpet": [
           {
            "type": "scattercarpet",
            "marker": {
             "colorbar": {
              "outlinewidth": 0,
              "ticks": ""
             }
            }
           }
          ],
          "carpet": [
           {
            "aaxis": {
             "endlinecolor": "#2a3f5f",
             "gridcolor": "white",
             "linecolor": "white",
             "minorgridcolor": "white",
             "startlinecolor": "#2a3f5f"
            },
            "baxis": {
             "endlinecolor": "#2a3f5f",
             "gridcolor": "white",
             "linecolor": "white",
             "minorgridcolor": "white",
             "startlinecolor": "#2a3f5f"
            },
            "type": "carpet"
           }
          ],
          "table": [
           {
            "cells": {
             "fill": {
              "color": "#EBF0F8"
             },
             "line": {
              "color": "white"
             }
            },
            "header": {
             "fill": {
              "color": "#C8D4E3"
             },
             "line": {
              "color": "white"
             }
            },
            "type": "table"
           }
          ],
          "barpolar": [
           {
            "marker": {
             "line": {
              "color": "#E5ECF6",
              "width": 0.5
             },
             "pattern": {
              "fillmode": "overlay",
              "size": 10,
              "solidity": 0.2
             }
            },
            "type": "barpolar"
           }
          ],
          "pie": [
           {
            "automargin": true,
            "type": "pie"
           }
          ]
         },
         "layout": {
          "autotypenumbers": "strict",
          "colorway": [
           "#636efa",
           "#EF553B",
           "#00cc96",
           "#ab63fa",
           "#FFA15A",
           "#19d3f3",
           "#FF6692",
           "#B6E880",
           "#FF97FF",
           "#FECB52"
          ],
          "font": {
           "color": "#2a3f5f"
          },
          "hovermode": "closest",
          "hoverlabel": {
           "align": "left"
          },
          "paper_bgcolor": "white",
          "plot_bgcolor": "#E5ECF6",
          "polar": {
           "bgcolor": "#E5ECF6",
           "angularaxis": {
            "gridcolor": "white",
            "linecolor": "white",
            "ticks": ""
           },
           "radialaxis": {
            "gridcolor": "white",
            "linecolor": "white",
            "ticks": ""
           }
          },
          "ternary": {
           "bgcolor": "#E5ECF6",
           "aaxis": {
            "gridcolor": "white",
            "linecolor": "white",
            "ticks": ""
           },
           "baxis": {
            "gridcolor": "white",
            "linecolor": "white",
            "ticks": ""
           },
           "caxis": {
            "gridcolor": "white",
            "linecolor": "white",
            "ticks": ""
           }
          },
          "coloraxis": {
           "colorbar": {
            "outlinewidth": 0,
            "ticks": ""
           }
          },
          "colorscale": {
           "sequential": [
            [
             0.0,
             "#0d0887"
            ],
            [
             0.1111111111111111,
             "#46039f"
            ],
            [
             0.2222222222222222,
             "#7201a8"
            ],
            [
             0.3333333333333333,
             "#9c179e"
            ],
            [
             0.4444444444444444,
             "#bd3786"
            ],
            [
             0.5555555555555556,
             "#d8576b"
            ],
            [
             0.6666666666666666,
             "#ed7953"
            ],
            [
             0.7777777777777778,
             "#fb9f3a"
            ],
            [
             0.8888888888888888,
             "#fdca26"
            ],
            [
             1.0,
             "#f0f921"
            ]
           ],
           "sequentialminus": [
            [
             0.0,
             "#0d0887"
            ],
            [
             0.1111111111111111,
             "#46039f"
            ],
            [
             0.2222222222222222,
             "#7201a8"
            ],
            [
             0.3333333333333333,
             "#9c179e"
            ],
            [
             0.4444444444444444,
             "#bd3786"
            ],
            [
             0.5555555555555556,
             "#d8576b"
            ],
            [
             0.6666666666666666,
             "#ed7953"
            ],
            [
             0.7777777777777778,
             "#fb9f3a"
            ],
            [
             0.8888888888888888,
             "#fdca26"
            ],
            [
             1.0,
             "#f0f921"
            ]
           ],
           "diverging": [
            [
             0,
             "#8e0152"
            ],
            [
             0.1,
             "#c51b7d"
            ],
            [
             0.2,
             "#de77ae"
            ],
            [
             0.3,
             "#f1b6da"
            ],
            [
             0.4,
             "#fde0ef"
            ],
            [
             0.5,
             "#f7f7f7"
            ],
            [
             0.6,
             "#e6f5d0"
            ],
            [
             0.7,
             "#b8e186"
            ],
            [
             0.8,
             "#7fbc41"
            ],
            [
             0.9,
             "#4d9221"
            ],
            [
             1,
             "#276419"
            ]
           ]
          },
          "xaxis": {
           "gridcolor": "white",
           "linecolor": "white",
           "ticks": "",
           "title": {
            "standoff": 15
           },
           "zerolinecolor": "white",
           "automargin": true,
           "zerolinewidth": 2
          },
          "yaxis": {
           "gridcolor": "white",
           "linecolor": "white",
           "ticks": "",
           "title": {
            "standoff": 15
           },
           "zerolinecolor": "white",
           "automargin": true,
           "zerolinewidth": 2
          },
          "scene": {
           "xaxis": {
            "backgroundcolor": "#E5ECF6",
            "gridcolor": "white",
            "linecolor": "white",
            "showbackground": true,
            "ticks": "",
            "zerolinecolor": "white",
            "gridwidth": 2
           },
           "yaxis": {
            "backgroundcolor": "#E5ECF6",
            "gridcolor": "white",
            "linecolor": "white",
            "showbackground": true,
            "ticks": "",
            "zerolinecolor": "white",
            "gridwidth": 2
           },
           "zaxis": {
            "backgroundcolor": "#E5ECF6",
            "gridcolor": "white",
            "linecolor": "white",
            "showbackground": true,
            "ticks": "",
            "zerolinecolor": "white",
            "gridwidth": 2
           }
          },
          "shapedefaults": {
           "line": {
            "color": "#2a3f5f"
           }
          },
          "annotationdefaults": {
           "arrowcolor": "#2a3f5f",
           "arrowhead": 0,
           "arrowwidth": 1
          },
          "geo": {
           "bgcolor": "white",
           "landcolor": "#E5ECF6",
           "subunitcolor": "white",
           "showland": true,
           "showlakes": true,
           "lakecolor": "white"
          },
          "title": {
           "x": 0.05
          },
          "mapbox": {
           "style": "light"
          }
         }
        },
        "xaxis": {
         "anchor": "y",
         "domain": [
          0.0,
          1.0
         ],
         "title": {
          "text": "Director Name"
         }
        },
        "yaxis": {
         "anchor": "x",
         "domain": [
          0.0,
          1.0
         ],
         "title": {
          "text": "Number of Reviews"
         }
        },
        "legend": {
         "title": {
          "text": "Movies"
         },
         "tracegroupgap": 0
        },
        "title": {
         "text": "Top Directors and Their Movies"
        },
        "barmode": "relative",
        "margin": {
         "l": 50,
         "r": 50,
         "t": 100,
         "b": 150
        },
        "height": 800,
        "showlegend": false
       },
       "config": {
        "plotlyServerURL": "https://plotly.com"
       }
      },
      "text/html": [
       "<div>                            <div id=\"aa5ffbfc-ddc1-409f-8c27-869b7f8e550f\" class=\"plotly-graph-div\" style=\"height:800px; width:100%;\"></div>            <script type=\"text/javascript\">                require([\"plotly\"], function(Plotly) {                    window.PLOTLYENV=window.PLOTLYENV || {};                                    if (document.getElementById(\"aa5ffbfc-ddc1-409f-8c27-869b7f8e550f\")) {                    Plotly.newPlot(                        \"aa5ffbfc-ddc1-409f-8c27-869b7f8e550f\",                        [{\"alignmentgroup\":\"True\",\"customdata\":[[\"the lord of the rings: the fellowship of the ring\"]],\"hovertemplate\":\"Movie=%{customdata[0]}\\u003cbr\\u003eDirector Name=%{x}\\u003cbr\\u003enum_user_for_reviews=%{y}\\u003cextra\\u003e\\u003c\\u002fextra\\u003e\",\"legendgroup\":\"the lord of the rings: the fellowship of the ring\",\"marker\":{\"color\":\"#636efa\",\"pattern\":{\"shape\":\"\"}},\"name\":\"the lord of the rings: the fellowship of the ring\",\"offsetgroup\":\"the lord of the rings: the fellowship of the ring\",\"orientation\":\"v\",\"showlegend\":true,\"text\":[\"the lord of the rings: the fellowship of the ring\"],\"textposition\":\"inside\",\"x\":[\"Peter Jackson\"],\"xaxis\":\"x\",\"y\":[5060.0],\"yaxis\":\"y\",\"type\":\"bar\",\"textfont\":{\"size\":10}},{\"alignmentgroup\":\"True\",\"customdata\":[[\"the lord of the rings: the return of the king\"]],\"hovertemplate\":\"Movie=%{customdata[0]}\\u003cbr\\u003eDirector Name=%{x}\\u003cbr\\u003enum_user_for_reviews=%{y}\\u003cextra\\u003e\\u003c\\u002fextra\\u003e\",\"legendgroup\":\"the lord of the rings: the return of the king\",\"marker\":{\"color\":\"#EF553B\",\"pattern\":{\"shape\":\"\"}},\"name\":\"the lord of the rings: the return of the king\",\"offsetgroup\":\"the lord of the rings: the return of the king\",\"orientation\":\"v\",\"showlegend\":true,\"text\":[\"the lord of the rings: the return of the king\"],\"textposition\":\"inside\",\"x\":[\"Peter Jackson\"],\"xaxis\":\"x\",\"y\":[3189.0],\"yaxis\":\"y\",\"type\":\"bar\",\"textfont\":{\"size\":10}},{\"alignmentgroup\":\"True\",\"customdata\":[[\"king kong\"]],\"hovertemplate\":\"Movie=%{customdata[0]}\\u003cbr\\u003eDirector Name=%{x}\\u003cbr\\u003enum_user_for_reviews=%{y}\\u003cextra\\u003e\\u003c\\u002fextra\\u003e\",\"legendgroup\":\"king kong\",\"marker\":{\"color\":\"#00cc96\",\"pattern\":{\"shape\":\"\"}},\"name\":\"king kong\",\"offsetgroup\":\"king kong\",\"orientation\":\"v\",\"showlegend\":true,\"text\":[\"king kong\"],\"textposition\":\"inside\",\"x\":[\"Peter Jackson\"],\"xaxis\":\"x\",\"y\":[2618.0],\"yaxis\":\"y\",\"type\":\"bar\",\"textfont\":{\"size\":10}},{\"alignmentgroup\":\"True\",\"customdata\":[[\"the lord of the rings: the two towers\"]],\"hovertemplate\":\"Movie=%{customdata[0]}\\u003cbr\\u003eDirector Name=%{x}\\u003cbr\\u003enum_user_for_reviews=%{y}\\u003cextra\\u003e\\u003c\\u002fextra\\u003e\",\"legendgroup\":\"the lord of the rings: the two towers\",\"marker\":{\"color\":\"#ab63fa\",\"pattern\":{\"shape\":\"\"}},\"name\":\"the lord of the rings: the two towers\",\"offsetgroup\":\"the lord of the rings: the two towers\",\"orientation\":\"v\",\"showlegend\":true,\"text\":[\"the lord of the rings: the two towers\"],\"textposition\":\"inside\",\"x\":[\"Peter Jackson\"],\"xaxis\":\"x\",\"y\":[2417.0],\"yaxis\":\"y\",\"type\":\"bar\",\"textfont\":{\"size\":10}},{\"alignmentgroup\":\"True\",\"customdata\":[[\"the dark knight\"]],\"hovertemplate\":\"Movie=%{customdata[0]}\\u003cbr\\u003eDirector Name=%{x}\\u003cbr\\u003enum_user_for_reviews=%{y}\\u003cextra\\u003e\\u003c\\u002fextra\\u003e\",\"legendgroup\":\"the dark knight\",\"marker\":{\"color\":\"#FFA15A\",\"pattern\":{\"shape\":\"\"}},\"name\":\"the dark knight\",\"offsetgroup\":\"the dark knight\",\"orientation\":\"v\",\"showlegend\":true,\"text\":[\"the dark knight\"],\"textposition\":\"inside\",\"x\":[\"Christopher Nolan\"],\"xaxis\":\"x\",\"y\":[4667.0],\"yaxis\":\"y\",\"type\":\"bar\",\"textfont\":{\"size\":10}},{\"alignmentgroup\":\"True\",\"customdata\":[[\"inception\"]],\"hovertemplate\":\"Movie=%{customdata[0]}\\u003cbr\\u003eDirector Name=%{x}\\u003cbr\\u003enum_user_for_reviews=%{y}\\u003cextra\\u003e\\u003c\\u002fextra\\u003e\",\"legendgroup\":\"inception\",\"marker\":{\"color\":\"#19d3f3\",\"pattern\":{\"shape\":\"\"}},\"name\":\"inception\",\"offsetgroup\":\"inception\",\"orientation\":\"v\",\"showlegend\":true,\"text\":[\"inception\"],\"textposition\":\"inside\",\"x\":[\"Christopher Nolan\"],\"xaxis\":\"x\",\"y\":[2803.0],\"yaxis\":\"y\",\"type\":\"bar\",\"textfont\":{\"size\":10}},{\"alignmentgroup\":\"True\",\"customdata\":[[\"interstellar\"]],\"hovertemplate\":\"Movie=%{customdata[0]}\\u003cbr\\u003eDirector Name=%{x}\\u003cbr\\u003enum_user_for_reviews=%{y}\\u003cextra\\u003e\\u003c\\u002fextra\\u003e\",\"legendgroup\":\"interstellar\",\"marker\":{\"color\":\"#FF6692\",\"pattern\":{\"shape\":\"\"}},\"name\":\"interstellar\",\"offsetgroup\":\"interstellar\",\"orientation\":\"v\",\"showlegend\":true,\"text\":[\"interstellar\"],\"textposition\":\"inside\",\"x\":[\"Christopher Nolan\"],\"xaxis\":\"x\",\"y\":[2725.0],\"yaxis\":\"y\",\"type\":\"bar\",\"textfont\":{\"size\":10}},{\"alignmentgroup\":\"True\",\"customdata\":[[\"saving private ryan\"]],\"hovertemplate\":\"Movie=%{customdata[0]}\\u003cbr\\u003eDirector Name=%{x}\\u003cbr\\u003enum_user_for_reviews=%{y}\\u003cextra\\u003e\\u003c\\u002fextra\\u003e\",\"legendgroup\":\"saving private ryan\",\"marker\":{\"color\":\"#B6E880\",\"pattern\":{\"shape\":\"\"}},\"name\":\"saving private ryan\",\"offsetgroup\":\"saving private ryan\",\"orientation\":\"v\",\"showlegend\":true,\"text\":[\"saving private ryan\"],\"textposition\":\"inside\",\"x\":[\"Steven Spielberg\"],\"xaxis\":\"x\",\"y\":[2277.0],\"yaxis\":\"y\",\"type\":\"bar\",\"textfont\":{\"size\":10}},{\"alignmentgroup\":\"True\",\"customdata\":[[\"schindler's list\"]],\"hovertemplate\":\"Movie=%{customdata[0]}\\u003cbr\\u003eDirector Name=%{x}\\u003cbr\\u003enum_user_for_reviews=%{y}\\u003cextra\\u003e\\u003c\\u002fextra\\u003e\",\"legendgroup\":\"schindler's list\",\"marker\":{\"color\":\"#FF97FF\",\"pattern\":{\"shape\":\"\"}},\"name\":\"schindler's list\",\"offsetgroup\":\"schindler's list\",\"orientation\":\"v\",\"showlegend\":true,\"text\":[\"schindler's list\"],\"textposition\":\"inside\",\"x\":[\"Steven Spielberg\"],\"xaxis\":\"x\",\"y\":[1273.0],\"yaxis\":\"y\",\"type\":\"bar\",\"textfont\":{\"size\":10}},{\"alignmentgroup\":\"True\",\"customdata\":[[\"jaws\"]],\"hovertemplate\":\"Movie=%{customdata[0]}\\u003cbr\\u003eDirector Name=%{x}\\u003cbr\\u003enum_user_for_reviews=%{y}\\u003cextra\\u003e\\u003c\\u002fextra\\u003e\",\"legendgroup\":\"jaws\",\"marker\":{\"color\":\"#FECB52\",\"pattern\":{\"shape\":\"\"}},\"name\":\"jaws\",\"offsetgroup\":\"jaws\",\"orientation\":\"v\",\"showlegend\":true,\"text\":[\"jaws\"],\"textposition\":\"inside\",\"x\":[\"Steven Spielberg\"],\"xaxis\":\"x\",\"y\":[962.0],\"yaxis\":\"y\",\"type\":\"bar\",\"textfont\":{\"size\":10}},{\"alignmentgroup\":\"True\",\"customdata\":[[\"jurassic park\"]],\"hovertemplate\":\"Movie=%{customdata[0]}\\u003cbr\\u003eDirector Name=%{x}\\u003cbr\\u003enum_user_for_reviews=%{y}\\u003cextra\\u003e\\u003c\\u002fextra\\u003e\",\"legendgroup\":\"jurassic park\",\"marker\":{\"color\":\"#636efa\",\"pattern\":{\"shape\":\"\"}},\"name\":\"jurassic park\",\"offsetgroup\":\"jurassic park\",\"orientation\":\"v\",\"showlegend\":true,\"text\":[\"jurassic park\"],\"textposition\":\"inside\",\"x\":[\"Steven Spielberg\"],\"xaxis\":\"x\",\"y\":[895.0],\"yaxis\":\"y\",\"type\":\"bar\",\"textfont\":{\"size\":10}},{\"alignmentgroup\":\"True\",\"customdata\":[[\"raiders of the lost ark\"]],\"hovertemplate\":\"Movie=%{customdata[0]}\\u003cbr\\u003eDirector Name=%{x}\\u003cbr\\u003enum_user_for_reviews=%{y}\\u003cextra\\u003e\\u003c\\u002fextra\\u003e\",\"legendgroup\":\"raiders of the lost ark\",\"marker\":{\"color\":\"#EF553B\",\"pattern\":{\"shape\":\"\"}},\"name\":\"raiders of the lost ark\",\"offsetgroup\":\"raiders of the lost ark\",\"orientation\":\"v\",\"showlegend\":true,\"text\":[\"raiders of the lost ark\"],\"textposition\":\"inside\",\"x\":[\"Steven Spielberg\"],\"xaxis\":\"x\",\"y\":[771.0],\"yaxis\":\"y\",\"type\":\"bar\",\"textfont\":{\"size\":10}},{\"alignmentgroup\":\"True\",\"customdata\":[[\"lincoln\"]],\"hovertemplate\":\"Movie=%{customdata[0]}\\u003cbr\\u003eDirector Name=%{x}\\u003cbr\\u003enum_user_for_reviews=%{y}\\u003cextra\\u003e\\u003c\\u002fextra\\u003e\",\"legendgroup\":\"lincoln\",\"marker\":{\"color\":\"#00cc96\",\"pattern\":{\"shape\":\"\"}},\"name\":\"lincoln\",\"offsetgroup\":\"lincoln\",\"orientation\":\"v\",\"showlegend\":true,\"text\":[\"lincoln\"],\"textposition\":\"inside\",\"x\":[\"Steven Spielberg\"],\"xaxis\":\"x\",\"y\":[720.0],\"yaxis\":\"y\",\"type\":\"bar\",\"textfont\":{\"size\":10}},{\"alignmentgroup\":\"True\",\"customdata\":[[\"indiana jones and the temple of doom\"]],\"hovertemplate\":\"Movie=%{customdata[0]}\\u003cbr\\u003eDirector Name=%{x}\\u003cbr\\u003enum_user_for_reviews=%{y}\\u003cextra\\u003e\\u003c\\u002fextra\\u003e\",\"legendgroup\":\"indiana jones and the temple of doom\",\"marker\":{\"color\":\"#ab63fa\",\"pattern\":{\"shape\":\"\"}},\"name\":\"indiana jones and the temple of doom\",\"offsetgroup\":\"indiana jones and the temple of doom\",\"orientation\":\"v\",\"showlegend\":true,\"text\":[\"indiana jones and the temple of doom\"],\"textposition\":\"inside\",\"x\":[\"Steven Spielberg\"],\"xaxis\":\"x\",\"y\":[524.0],\"yaxis\":\"y\",\"type\":\"bar\",\"textfont\":{\"size\":10}},{\"alignmentgroup\":\"True\",\"customdata\":[[\"e.t. the extra-terrestrial\"]],\"hovertemplate\":\"Movie=%{customdata[0]}\\u003cbr\\u003eDirector Name=%{x}\\u003cbr\\u003enum_user_for_reviews=%{y}\\u003cextra\\u003e\\u003c\\u002fextra\\u003e\",\"legendgroup\":\"e.t. the extra-terrestrial\",\"marker\":{\"color\":\"#FFA15A\",\"pattern\":{\"shape\":\"\"}},\"name\":\"e.t. the extra-terrestrial\",\"offsetgroup\":\"e.t. the extra-terrestrial\",\"orientation\":\"v\",\"showlegend\":true,\"text\":[\"e.t. the extra-terrestrial\"],\"textposition\":\"inside\",\"x\":[\"Steven Spielberg\"],\"xaxis\":\"x\",\"y\":[515.0],\"yaxis\":\"y\",\"type\":\"bar\",\"textfont\":{\"size\":10}},{\"alignmentgroup\":\"True\",\"customdata\":[[\"indiana jones and the last crusade\"]],\"hovertemplate\":\"Movie=%{customdata[0]}\\u003cbr\\u003eDirector Name=%{x}\\u003cbr\\u003enum_user_for_reviews=%{y}\\u003cextra\\u003e\\u003c\\u002fextra\\u003e\",\"legendgroup\":\"indiana jones and the last crusade\",\"marker\":{\"color\":\"#19d3f3\",\"pattern\":{\"shape\":\"\"}},\"name\":\"indiana jones and the last crusade\",\"offsetgroup\":\"indiana jones and the last crusade\",\"orientation\":\"v\",\"showlegend\":true,\"text\":[\"indiana jones and the last crusade\"],\"textposition\":\"inside\",\"x\":[\"Steven Spielberg\"],\"xaxis\":\"x\",\"y\":[477.0],\"yaxis\":\"y\",\"type\":\"bar\",\"textfont\":{\"size\":10}},{\"alignmentgroup\":\"True\",\"customdata\":[[\"bridge of spies\"]],\"hovertemplate\":\"Movie=%{customdata[0]}\\u003cbr\\u003eDirector Name=%{x}\\u003cbr\\u003enum_user_for_reviews=%{y}\\u003cextra\\u003e\\u003c\\u002fextra\\u003e\",\"legendgroup\":\"bridge of spies\",\"marker\":{\"color\":\"#FF6692\",\"pattern\":{\"shape\":\"\"}},\"name\":\"bridge of spies\",\"offsetgroup\":\"bridge of spies\",\"orientation\":\"v\",\"showlegend\":true,\"text\":[\"bridge of spies\"],\"textposition\":\"inside\",\"x\":[\"Steven Spielberg\"],\"xaxis\":\"x\",\"y\":[355.0],\"yaxis\":\"y\",\"type\":\"bar\",\"textfont\":{\"size\":10}},{\"alignmentgroup\":\"True\",\"customdata\":[[\"close encounters of the third kind\"]],\"hovertemplate\":\"Movie=%{customdata[0]}\\u003cbr\\u003eDirector Name=%{x}\\u003cbr\\u003enum_user_for_reviews=%{y}\\u003cextra\\u003e\\u003c\\u002fextra\\u003e\",\"legendgroup\":\"close encounters of the third kind\",\"marker\":{\"color\":\"#B6E880\",\"pattern\":{\"shape\":\"\"}},\"name\":\"close encounters of the third kind\",\"offsetgroup\":\"close encounters of the third kind\",\"orientation\":\"v\",\"showlegend\":true,\"text\":[\"close encounters of the third kind\"],\"textposition\":\"inside\",\"x\":[\"Steven Spielberg\"],\"xaxis\":\"x\",\"y\":[339.0],\"yaxis\":\"y\",\"type\":\"bar\",\"textfont\":{\"size\":10}},{\"alignmentgroup\":\"True\",\"customdata\":[[\"avatar\"]],\"hovertemplate\":\"Movie=%{customdata[0]}\\u003cbr\\u003eDirector Name=%{x}\\u003cbr\\u003enum_user_for_reviews=%{y}\\u003cextra\\u003e\\u003c\\u002fextra\\u003e\",\"legendgroup\":\"avatar\",\"marker\":{\"color\":\"#FF97FF\",\"pattern\":{\"shape\":\"\"}},\"name\":\"avatar\",\"offsetgroup\":\"avatar\",\"orientation\":\"v\",\"showlegend\":true,\"text\":[\"avatar\"],\"textposition\":\"inside\",\"x\":[\"James Cameron\"],\"xaxis\":\"x\",\"y\":[3054.0],\"yaxis\":\"y\",\"type\":\"bar\",\"textfont\":{\"size\":10}},{\"alignmentgroup\":\"True\",\"customdata\":[[\"titanic\"]],\"hovertemplate\":\"Movie=%{customdata[0]}\\u003cbr\\u003eDirector Name=%{x}\\u003cbr\\u003enum_user_for_reviews=%{y}\\u003cextra\\u003e\\u003c\\u002fextra\\u003e\",\"legendgroup\":\"titanic\",\"marker\":{\"color\":\"#FECB52\",\"pattern\":{\"shape\":\"\"}},\"name\":\"titanic\",\"offsetgroup\":\"titanic\",\"orientation\":\"v\",\"showlegend\":true,\"text\":[\"titanic\"],\"textposition\":\"inside\",\"x\":[\"James Cameron\"],\"xaxis\":\"x\",\"y\":[2528.0],\"yaxis\":\"y\",\"type\":\"bar\",\"textfont\":{\"size\":10}},{\"alignmentgroup\":\"True\",\"customdata\":[[\"aliens\"]],\"hovertemplate\":\"Movie=%{customdata[0]}\\u003cbr\\u003eDirector Name=%{x}\\u003cbr\\u003enum_user_for_reviews=%{y}\\u003cextra\\u003e\\u003c\\u002fextra\\u003e\",\"legendgroup\":\"aliens\",\"marker\":{\"color\":\"#636efa\",\"pattern\":{\"shape\":\"\"}},\"name\":\"aliens\",\"offsetgroup\":\"aliens\",\"orientation\":\"v\",\"showlegend\":true,\"text\":[\"aliens\"],\"textposition\":\"inside\",\"x\":[\"James Cameron\"],\"xaxis\":\"x\",\"y\":[1076.0],\"yaxis\":\"y\",\"type\":\"bar\",\"textfont\":{\"size\":10}},{\"alignmentgroup\":\"True\",\"customdata\":[[\"terminator 2: judgment day\"]],\"hovertemplate\":\"Movie=%{customdata[0]}\\u003cbr\\u003eDirector Name=%{x}\\u003cbr\\u003enum_user_for_reviews=%{y}\\u003cextra\\u003e\\u003c\\u002fextra\\u003e\",\"legendgroup\":\"terminator 2: judgment day\",\"marker\":{\"color\":\"#EF553B\",\"pattern\":{\"shape\":\"\"}},\"name\":\"terminator 2: judgment day\",\"offsetgroup\":\"terminator 2: judgment day\",\"orientation\":\"v\",\"showlegend\":true,\"text\":[\"terminator 2: judgment day\"],\"textposition\":\"inside\",\"x\":[\"James Cameron\"],\"xaxis\":\"x\",\"y\":[983.0],\"yaxis\":\"y\",\"type\":\"bar\",\"textfont\":{\"size\":10}},{\"alignmentgroup\":\"True\",\"customdata\":[[\"the abyss\"]],\"hovertemplate\":\"Movie=%{customdata[0]}\\u003cbr\\u003eDirector Name=%{x}\\u003cbr\\u003enum_user_for_reviews=%{y}\\u003cextra\\u003e\\u003c\\u002fextra\\u003e\",\"legendgroup\":\"the abyss\",\"marker\":{\"color\":\"#00cc96\",\"pattern\":{\"shape\":\"\"}},\"name\":\"the abyss\",\"offsetgroup\":\"the abyss\",\"orientation\":\"v\",\"showlegend\":true,\"text\":[\"the abyss\"],\"textposition\":\"inside\",\"x\":[\"James Cameron\"],\"xaxis\":\"x\",\"y\":[380.0],\"yaxis\":\"y\",\"type\":\"bar\",\"textfont\":{\"size\":10}},{\"alignmentgroup\":\"True\",\"customdata\":[[\"american beauty\"]],\"hovertemplate\":\"Movie=%{customdata[0]}\\u003cbr\\u003eDirector Name=%{x}\\u003cbr\\u003enum_user_for_reviews=%{y}\\u003cextra\\u003e\\u003c\\u002fextra\\u003e\",\"legendgroup\":\"american beauty\",\"marker\":{\"color\":\"#ab63fa\",\"pattern\":{\"shape\":\"\"}},\"name\":\"american beauty\",\"offsetgroup\":\"american beauty\",\"orientation\":\"v\",\"showlegend\":true,\"text\":[\"american beauty\"],\"textposition\":\"inside\",\"x\":[\"Sam Mendes\"],\"xaxis\":\"x\",\"y\":[2715.0],\"yaxis\":\"y\",\"type\":\"bar\",\"textfont\":{\"size\":10}},{\"alignmentgroup\":\"True\",\"customdata\":[[\"skyfall\"]],\"hovertemplate\":\"Movie=%{customdata[0]}\\u003cbr\\u003eDirector Name=%{x}\\u003cbr\\u003enum_user_for_reviews=%{y}\\u003cextra\\u003e\\u003c\\u002fextra\\u003e\",\"legendgroup\":\"skyfall\",\"marker\":{\"color\":\"#FFA15A\",\"pattern\":{\"shape\":\"\"}},\"name\":\"skyfall\",\"offsetgroup\":\"skyfall\",\"orientation\":\"v\",\"showlegend\":true,\"text\":[\"skyfall\"],\"textposition\":\"inside\",\"x\":[\"Sam Mendes\"],\"xaxis\":\"x\",\"y\":[1498.0],\"yaxis\":\"y\",\"type\":\"bar\",\"textfont\":{\"size\":10}},{\"alignmentgroup\":\"True\",\"customdata\":[[\"road to perdition\"]],\"hovertemplate\":\"Movie=%{customdata[0]}\\u003cbr\\u003eDirector Name=%{x}\\u003cbr\\u003enum_user_for_reviews=%{y}\\u003cextra\\u003e\\u003c\\u002fextra\\u003e\",\"legendgroup\":\"road to perdition\",\"marker\":{\"color\":\"#19d3f3\",\"pattern\":{\"shape\":\"\"}},\"name\":\"road to perdition\",\"offsetgroup\":\"road to perdition\",\"orientation\":\"v\",\"showlegend\":true,\"text\":[\"road to perdition\"],\"textposition\":\"inside\",\"x\":[\"Sam Mendes\"],\"xaxis\":\"x\",\"y\":[1009.0],\"yaxis\":\"y\",\"type\":\"bar\",\"textfont\":{\"size\":10}},{\"alignmentgroup\":\"True\",\"customdata\":[[\"spectre\"]],\"hovertemplate\":\"Movie=%{customdata[0]}\\u003cbr\\u003eDirector Name=%{x}\\u003cbr\\u003enum_user_for_reviews=%{y}\\u003cextra\\u003e\\u003c\\u002fextra\\u003e\",\"legendgroup\":\"spectre\",\"marker\":{\"color\":\"#FF6692\",\"pattern\":{\"shape\":\"\"}},\"name\":\"spectre\",\"offsetgroup\":\"spectre\",\"orientation\":\"v\",\"showlegend\":true,\"text\":[\"spectre\"],\"textposition\":\"inside\",\"x\":[\"Sam Mendes\"],\"xaxis\":\"x\",\"y\":[994.0],\"yaxis\":\"y\",\"type\":\"bar\",\"textfont\":{\"size\":10}},{\"alignmentgroup\":\"True\",\"customdata\":[[\"pulp fiction\"]],\"hovertemplate\":\"Movie=%{customdata[0]}\\u003cbr\\u003eDirector Name=%{x}\\u003cbr\\u003enum_user_for_reviews=%{y}\\u003cextra\\u003e\\u003c\\u002fextra\\u003e\",\"legendgroup\":\"pulp fiction\",\"marker\":{\"color\":\"#B6E880\",\"pattern\":{\"shape\":\"\"}},\"name\":\"pulp fiction\",\"offsetgroup\":\"pulp fiction\",\"orientation\":\"v\",\"showlegend\":true,\"text\":[\"pulp fiction\"],\"textposition\":\"inside\",\"x\":[\"Quentin Tarantino\"],\"xaxis\":\"x\",\"y\":[2195.0],\"yaxis\":\"y\",\"type\":\"bar\",\"textfont\":{\"size\":10}},{\"alignmentgroup\":\"True\",\"customdata\":[[\"inglourious basterds\"]],\"hovertemplate\":\"Movie=%{customdata[0]}\\u003cbr\\u003eDirector Name=%{x}\\u003cbr\\u003enum_user_for_reviews=%{y}\\u003cextra\\u003e\\u003c\\u002fextra\\u003e\",\"legendgroup\":\"inglourious basterds\",\"marker\":{\"color\":\"#FF97FF\",\"pattern\":{\"shape\":\"\"}},\"name\":\"inglourious basterds\",\"offsetgroup\":\"inglourious basterds\",\"orientation\":\"v\",\"showlegend\":true,\"text\":[\"inglourious basterds\"],\"textposition\":\"inside\",\"x\":[\"Quentin Tarantino\"],\"xaxis\":\"x\",\"y\":[1527.0],\"yaxis\":\"y\",\"type\":\"bar\",\"textfont\":{\"size\":10}},{\"alignmentgroup\":\"True\",\"customdata\":[[\"django unchained\"]],\"hovertemplate\":\"Movie=%{customdata[0]}\\u003cbr\\u003eDirector Name=%{x}\\u003cbr\\u003enum_user_for_reviews=%{y}\\u003cextra\\u003e\\u003c\\u002fextra\\u003e\",\"legendgroup\":\"django unchained\",\"marker\":{\"color\":\"#FECB52\",\"pattern\":{\"shape\":\"\"}},\"name\":\"django unchained\",\"offsetgroup\":\"django unchained\",\"orientation\":\"v\",\"showlegend\":true,\"text\":[\"django unchained\"],\"textposition\":\"inside\",\"x\":[\"Quentin Tarantino\"],\"xaxis\":\"x\",\"y\":[1193.0],\"yaxis\":\"y\",\"type\":\"bar\",\"textfont\":{\"size\":10}},{\"alignmentgroup\":\"True\",\"customdata\":[[\"the hateful eight\"]],\"hovertemplate\":\"Movie=%{customdata[0]}\\u003cbr\\u003eDirector Name=%{x}\\u003cbr\\u003enum_user_for_reviews=%{y}\\u003cextra\\u003e\\u003c\\u002fextra\\u003e\",\"legendgroup\":\"the hateful eight\",\"marker\":{\"color\":\"#636efa\",\"pattern\":{\"shape\":\"\"}},\"name\":\"the hateful eight\",\"offsetgroup\":\"the hateful eight\",\"orientation\":\"v\",\"showlegend\":true,\"text\":[\"the hateful eight\"],\"textposition\":\"inside\",\"x\":[\"Quentin Tarantino\"],\"xaxis\":\"x\",\"y\":[1018.0],\"yaxis\":\"y\",\"type\":\"bar\",\"textfont\":{\"size\":10}},{\"alignmentgroup\":\"True\",\"customdata\":[[\"brokeback mountain\"]],\"hovertemplate\":\"Movie=%{customdata[0]}\\u003cbr\\u003eDirector Name=%{x}\\u003cbr\\u003enum_user_for_reviews=%{y}\\u003cextra\\u003e\\u003c\\u002fextra\\u003e\",\"legendgroup\":\"brokeback mountain\",\"marker\":{\"color\":\"#EF553B\",\"pattern\":{\"shape\":\"\"}},\"name\":\"brokeback mountain\",\"offsetgroup\":\"brokeback mountain\",\"orientation\":\"v\",\"showlegend\":true,\"text\":[\"brokeback mountain\"],\"textposition\":\"inside\",\"x\":[\"Ang Lee\"],\"xaxis\":\"x\",\"y\":[2254.0],\"yaxis\":\"y\",\"type\":\"bar\",\"textfont\":{\"size\":10}},{\"alignmentgroup\":\"True\",\"customdata\":[[\"crouching tiger, hidden dragon\"]],\"hovertemplate\":\"Movie=%{customdata[0]}\\u003cbr\\u003eDirector Name=%{x}\\u003cbr\\u003enum_user_for_reviews=%{y}\\u003cextra\\u003e\\u003c\\u002fextra\\u003e\",\"legendgroup\":\"crouching tiger, hidden dragon\",\"marker\":{\"color\":\"#00cc96\",\"pattern\":{\"shape\":\"\"}},\"name\":\"crouching tiger, hidden dragon\",\"offsetgroup\":\"crouching tiger, hidden dragon\",\"orientation\":\"v\",\"showlegend\":true,\"text\":[\"crouching tiger, hidden dragon\"],\"textposition\":\"inside\",\"x\":[\"Ang Lee\"],\"xaxis\":\"x\",\"y\":[1641.0],\"yaxis\":\"y\",\"type\":\"bar\",\"textfont\":{\"size\":10}},{\"alignmentgroup\":\"True\",\"customdata\":[[\"life of pi\"]],\"hovertemplate\":\"Movie=%{customdata[0]}\\u003cbr\\u003eDirector Name=%{x}\\u003cbr\\u003enum_user_for_reviews=%{y}\\u003cextra\\u003e\\u003c\\u002fextra\\u003e\",\"legendgroup\":\"life of pi\",\"marker\":{\"color\":\"#ab63fa\",\"pattern\":{\"shape\":\"\"}},\"name\":\"life of pi\",\"offsetgroup\":\"life of pi\",\"orientation\":\"v\",\"showlegend\":true,\"text\":[\"life of pi\"],\"textposition\":\"inside\",\"x\":[\"Ang Lee\"],\"xaxis\":\"x\",\"y\":[755.0],\"yaxis\":\"y\",\"type\":\"bar\",\"textfont\":{\"size\":10}},{\"alignmentgroup\":\"True\",\"customdata\":[[\"sense and sensibility\"]],\"hovertemplate\":\"Movie=%{customdata[0]}\\u003cbr\\u003eDirector Name=%{x}\\u003cbr\\u003enum_user_for_reviews=%{y}\\u003cextra\\u003e\\u003c\\u002fextra\\u003e\",\"legendgroup\":\"sense and sensibility\",\"marker\":{\"color\":\"#FFA15A\",\"pattern\":{\"shape\":\"\"}},\"name\":\"sense and sensibility\",\"offsetgroup\":\"sense and sensibility\",\"orientation\":\"v\",\"showlegend\":true,\"text\":[\"sense and sensibility\"],\"textposition\":\"inside\",\"x\":[\"Ang Lee\"],\"xaxis\":\"x\",\"y\":[196.0],\"yaxis\":\"y\",\"type\":\"bar\",\"textfont\":{\"size\":10}},{\"alignmentgroup\":\"True\",\"customdata\":[[\"the departed\"]],\"hovertemplate\":\"Movie=%{customdata[0]}\\u003cbr\\u003eDirector Name=%{x}\\u003cbr\\u003enum_user_for_reviews=%{y}\\u003cextra\\u003e\\u003c\\u002fextra\\u003e\",\"legendgroup\":\"the departed\",\"marker\":{\"color\":\"#19d3f3\",\"pattern\":{\"shape\":\"\"}},\"name\":\"the departed\",\"offsetgroup\":\"the departed\",\"orientation\":\"v\",\"showlegend\":true,\"text\":[\"the departed\"],\"textposition\":\"inside\",\"x\":[\"Martin Scorsese\"],\"xaxis\":\"x\",\"y\":[2054.0],\"yaxis\":\"y\",\"type\":\"bar\",\"textfont\":{\"size\":10}},{\"alignmentgroup\":\"True\",\"customdata\":[[\"the aviator\"]],\"hovertemplate\":\"Movie=%{customdata[0]}\\u003cbr\\u003eDirector Name=%{x}\\u003cbr\\u003enum_user_for_reviews=%{y}\\u003cextra\\u003e\\u003c\\u002fextra\\u003e\",\"legendgroup\":\"the aviator\",\"marker\":{\"color\":\"#FF6692\",\"pattern\":{\"shape\":\"\"}},\"name\":\"the aviator\",\"offsetgroup\":\"the aviator\",\"orientation\":\"v\",\"showlegend\":true,\"text\":[\"the aviator\"],\"textposition\":\"inside\",\"x\":[\"Martin Scorsese\"],\"xaxis\":\"x\",\"y\":[799.0],\"yaxis\":\"y\",\"type\":\"bar\",\"textfont\":{\"size\":10}},{\"alignmentgroup\":\"True\",\"customdata\":[[\"hugo\"]],\"hovertemplate\":\"Movie=%{customdata[0]}\\u003cbr\\u003eDirector Name=%{x}\\u003cbr\\u003enum_user_for_reviews=%{y}\\u003cextra\\u003e\\u003c\\u002fextra\\u003e\",\"legendgroup\":\"hugo\",\"marker\":{\"color\":\"#B6E880\",\"pattern\":{\"shape\":\"\"}},\"name\":\"hugo\",\"offsetgroup\":\"hugo\",\"orientation\":\"v\",\"showlegend\":true,\"text\":[\"hugo\"],\"textposition\":\"inside\",\"x\":[\"Martin Scorsese\"],\"xaxis\":\"x\",\"y\":[678.0],\"yaxis\":\"y\",\"type\":\"bar\",\"textfont\":{\"size\":10}},{\"alignmentgroup\":\"True\",\"customdata\":[[\"raging bull\"]],\"hovertemplate\":\"Movie=%{customdata[0]}\\u003cbr\\u003eDirector Name=%{x}\\u003cbr\\u003enum_user_for_reviews=%{y}\\u003cextra\\u003e\\u003c\\u002fextra\\u003e\",\"legendgroup\":\"raging bull\",\"marker\":{\"color\":\"#FF97FF\",\"pattern\":{\"shape\":\"\"}},\"name\":\"raging bull\",\"offsetgroup\":\"raging bull\",\"orientation\":\"v\",\"showlegend\":true,\"text\":[\"raging bull\"],\"textposition\":\"inside\",\"x\":[\"Martin Scorsese\"],\"xaxis\":\"x\",\"y\":[494.0],\"yaxis\":\"y\",\"type\":\"bar\",\"textfont\":{\"size\":10}},{\"alignmentgroup\":\"True\",\"customdata\":[[\"the age of innocence\"]],\"hovertemplate\":\"Movie=%{customdata[0]}\\u003cbr\\u003eDirector Name=%{x}\\u003cbr\\u003enum_user_for_reviews=%{y}\\u003cextra\\u003e\\u003c\\u002fextra\\u003e\",\"legendgroup\":\"the age of innocence\",\"marker\":{\"color\":\"#FECB52\",\"pattern\":{\"shape\":\"\"}},\"name\":\"the age of innocence\",\"offsetgroup\":\"the age of innocence\",\"orientation\":\"v\",\"showlegend\":true,\"text\":[\"the age of innocence\"],\"textposition\":\"inside\",\"x\":[\"Martin Scorsese\"],\"xaxis\":\"x\",\"y\":[150.0],\"yaxis\":\"y\",\"type\":\"bar\",\"textfont\":{\"size\":10}},{\"alignmentgroup\":\"True\",\"customdata\":[[\"the color of money\"]],\"hovertemplate\":\"Movie=%{customdata[0]}\\u003cbr\\u003eDirector Name=%{x}\\u003cbr\\u003enum_user_for_reviews=%{y}\\u003cextra\\u003e\\u003c\\u002fextra\\u003e\",\"legendgroup\":\"the color of money\",\"marker\":{\"color\":\"#636efa\",\"pattern\":{\"shape\":\"\"}},\"name\":\"the color of money\",\"offsetgroup\":\"the color of money\",\"orientation\":\"v\",\"showlegend\":true,\"text\":[\"the color of money\"],\"textposition\":\"inside\",\"x\":[\"Martin Scorsese\"],\"xaxis\":\"x\",\"y\":[115.0],\"yaxis\":\"y\",\"type\":\"bar\",\"textfont\":{\"size\":10}},{\"alignmentgroup\":\"True\",\"customdata\":[[\"million dollar baby\"]],\"hovertemplate\":\"Movie=%{customdata[0]}\\u003cbr\\u003eDirector Name=%{x}\\u003cbr\\u003enum_user_for_reviews=%{y}\\u003cextra\\u003e\\u003c\\u002fextra\\u003e\",\"legendgroup\":\"million dollar baby\",\"marker\":{\"color\":\"#EF553B\",\"pattern\":{\"shape\":\"\"}},\"name\":\"million dollar baby\",\"offsetgroup\":\"million dollar baby\",\"orientation\":\"v\",\"showlegend\":true,\"text\":[\"million dollar baby\"],\"textposition\":\"inside\",\"x\":[\"Clint Eastwood\"],\"xaxis\":\"x\",\"y\":[1106.0],\"yaxis\":\"y\",\"type\":\"bar\",\"textfont\":{\"size\":10}},{\"alignmentgroup\":\"True\",\"customdata\":[[\"mystic river\"]],\"hovertemplate\":\"Movie=%{customdata[0]}\\u003cbr\\u003eDirector Name=%{x}\\u003cbr\\u003enum_user_for_reviews=%{y}\\u003cextra\\u003e\\u003c\\u002fextra\\u003e\",\"legendgroup\":\"mystic river\",\"marker\":{\"color\":\"#00cc96\",\"pattern\":{\"shape\":\"\"}},\"name\":\"mystic river\",\"offsetgroup\":\"mystic river\",\"orientation\":\"v\",\"showlegend\":true,\"text\":[\"mystic river\"],\"textposition\":\"inside\",\"x\":[\"Clint Eastwood\"],\"xaxis\":\"x\",\"y\":[935.0],\"yaxis\":\"y\",\"type\":\"bar\",\"textfont\":{\"size\":10}},{\"alignmentgroup\":\"True\",\"customdata\":[[\"american sniper\"]],\"hovertemplate\":\"Movie=%{customdata[0]}\\u003cbr\\u003eDirector Name=%{x}\\u003cbr\\u003enum_user_for_reviews=%{y}\\u003cextra\\u003e\\u003c\\u002fextra\\u003e\",\"legendgroup\":\"american sniper\",\"marker\":{\"color\":\"#ab63fa\",\"pattern\":{\"shape\":\"\"}},\"name\":\"american sniper\",\"offsetgroup\":\"american sniper\",\"orientation\":\"v\",\"showlegend\":true,\"text\":[\"american sniper\"],\"textposition\":\"inside\",\"x\":[\"Clint Eastwood\"],\"xaxis\":\"x\",\"y\":[916.0],\"yaxis\":\"y\",\"type\":\"bar\",\"textfont\":{\"size\":10}},{\"alignmentgroup\":\"True\",\"customdata\":[[\"unforgiven\"]],\"hovertemplate\":\"Movie=%{customdata[0]}\\u003cbr\\u003eDirector Name=%{x}\\u003cbr\\u003enum_user_for_reviews=%{y}\\u003cextra\\u003e\\u003c\\u002fextra\\u003e\",\"legendgroup\":\"unforgiven\",\"marker\":{\"color\":\"#FFA15A\",\"pattern\":{\"shape\":\"\"}},\"name\":\"unforgiven\",\"offsetgroup\":\"unforgiven\",\"orientation\":\"v\",\"showlegend\":true,\"text\":[\"unforgiven\"],\"textposition\":\"inside\",\"x\":[\"Clint Eastwood\"],\"xaxis\":\"x\",\"y\":[495.0],\"yaxis\":\"y\",\"type\":\"bar\",\"textfont\":{\"size\":10}},{\"alignmentgroup\":\"True\",\"customdata\":[[\"letters from iwo jima\"]],\"hovertemplate\":\"Movie=%{customdata[0]}\\u003cbr\\u003eDirector Name=%{x}\\u003cbr\\u003enum_user_for_reviews=%{y}\\u003cextra\\u003e\\u003c\\u002fextra\\u003e\",\"legendgroup\":\"letters from iwo jima\",\"marker\":{\"color\":\"#19d3f3\",\"pattern\":{\"shape\":\"\"}},\"name\":\"letters from iwo jima\",\"offsetgroup\":\"letters from iwo jima\",\"orientation\":\"v\",\"showlegend\":true,\"text\":[\"letters from iwo jima\"],\"textposition\":\"inside\",\"x\":[\"Clint Eastwood\"],\"xaxis\":\"x\",\"y\":[316.0],\"yaxis\":\"y\",\"type\":\"bar\",\"textfont\":{\"size\":10}},{\"alignmentgroup\":\"True\",\"customdata\":[[\"the revenant\"]],\"hovertemplate\":\"Movie=%{customdata[0]}\\u003cbr\\u003eDirector Name=%{x}\\u003cbr\\u003enum_user_for_reviews=%{y}\\u003cextra\\u003e\\u003c\\u002fextra\\u003e\",\"legendgroup\":\"the revenant\",\"marker\":{\"color\":\"#FF6692\",\"pattern\":{\"shape\":\"\"}},\"name\":\"the revenant\",\"offsetgroup\":\"the revenant\",\"orientation\":\"v\",\"showlegend\":true,\"text\":[\"the revenant\"],\"textposition\":\"inside\",\"x\":[\"Alejandro G. I\\u00f1\\u00e1rritu\"],\"xaxis\":\"x\",\"y\":[1188.0],\"yaxis\":\"y\",\"type\":\"bar\",\"textfont\":{\"size\":10}},{\"alignmentgroup\":\"True\",\"customdata\":[[\"birdman or (the unexpected virtue of ignorance)\"]],\"hovertemplate\":\"Movie=%{customdata[0]}\\u003cbr\\u003eDirector Name=%{x}\\u003cbr\\u003enum_user_for_reviews=%{y}\\u003cextra\\u003e\\u003c\\u002fextra\\u003e\",\"legendgroup\":\"birdman or (the unexpected virtue of ignorance)\",\"marker\":{\"color\":\"#B6E880\",\"pattern\":{\"shape\":\"\"}},\"name\":\"birdman or (the unexpected virtue of ignorance)\",\"offsetgroup\":\"birdman or (the unexpected virtue of ignorance)\",\"orientation\":\"v\",\"showlegend\":true,\"text\":[\"birdman or (the unexpected virtue of ignorance)\"],\"textposition\":\"inside\",\"x\":[\"Alejandro G. I\\u00f1\\u00e1rritu\"],\"xaxis\":\"x\",\"y\":[1101.0],\"yaxis\":\"y\",\"type\":\"bar\",\"textfont\":{\"size\":10}},{\"alignmentgroup\":\"True\",\"customdata\":[[\"babel\"]],\"hovertemplate\":\"Movie=%{customdata[0]}\\u003cbr\\u003eDirector Name=%{x}\\u003cbr\\u003enum_user_for_reviews=%{y}\\u003cextra\\u003e\\u003c\\u002fextra\\u003e\",\"legendgroup\":\"babel\",\"marker\":{\"color\":\"#FF97FF\",\"pattern\":{\"shape\":\"\"}},\"name\":\"babel\",\"offsetgroup\":\"babel\",\"orientation\":\"v\",\"showlegend\":true,\"text\":[\"babel\"],\"textposition\":\"inside\",\"x\":[\"Alejandro G. I\\u00f1\\u00e1rritu\"],\"xaxis\":\"x\",\"y\":[908.0],\"yaxis\":\"y\",\"type\":\"bar\",\"textfont\":{\"size\":10}},{\"alignmentgroup\":\"True\",\"customdata\":[[\"forrest gump\"]],\"hovertemplate\":\"Movie=%{customdata[0]}\\u003cbr\\u003eDirector Name=%{x}\\u003cbr\\u003enum_user_for_reviews=%{y}\\u003cextra\\u003e\\u003c\\u002fextra\\u003e\",\"legendgroup\":\"forrest gump\",\"marker\":{\"color\":\"#FECB52\",\"pattern\":{\"shape\":\"\"}},\"name\":\"forrest gump\",\"offsetgroup\":\"forrest gump\",\"orientation\":\"v\",\"showlegend\":true,\"text\":[\"forrest gump\"],\"textposition\":\"inside\",\"x\":[\"Robert Zemeckis\"],\"xaxis\":\"x\",\"y\":[1398.0],\"yaxis\":\"y\",\"type\":\"bar\",\"textfont\":{\"size\":10}},{\"alignmentgroup\":\"True\",\"customdata\":[[\"back to the future\"]],\"hovertemplate\":\"Movie=%{customdata[0]}\\u003cbr\\u003eDirector Name=%{x}\\u003cbr\\u003enum_user_for_reviews=%{y}\\u003cextra\\u003e\\u003c\\u002fextra\\u003e\",\"legendgroup\":\"back to the future\",\"marker\":{\"color\":\"#636efa\",\"pattern\":{\"shape\":\"\"}},\"name\":\"back to the future\",\"offsetgroup\":\"back to the future\",\"orientation\":\"v\",\"showlegend\":true,\"text\":[\"back to the future\"],\"textposition\":\"inside\",\"x\":[\"Robert Zemeckis\"],\"xaxis\":\"x\",\"y\":[809.0],\"yaxis\":\"y\",\"type\":\"bar\",\"textfont\":{\"size\":10}},{\"alignmentgroup\":\"True\",\"customdata\":[[\"a christmas carol\"]],\"hovertemplate\":\"Movie=%{customdata[0]}\\u003cbr\\u003eDirector Name=%{x}\\u003cbr\\u003enum_user_for_reviews=%{y}\\u003cextra\\u003e\\u003c\\u002fextra\\u003e\",\"legendgroup\":\"a christmas carol\",\"marker\":{\"color\":\"#EF553B\",\"pattern\":{\"shape\":\"\"}},\"name\":\"a christmas carol\",\"offsetgroup\":\"a christmas carol\",\"orientation\":\"v\",\"showlegend\":true,\"text\":[\"a christmas carol\"],\"textposition\":\"inside\",\"x\":[\"Robert Zemeckis\"],\"xaxis\":\"x\",\"y\":[249.0],\"yaxis\":\"y\",\"type\":\"bar\",\"textfont\":{\"size\":10}},{\"alignmentgroup\":\"True\",\"customdata\":[[\"death becomes her\"]],\"hovertemplate\":\"Movie=%{customdata[0]}\\u003cbr\\u003eDirector Name=%{x}\\u003cbr\\u003enum_user_for_reviews=%{y}\\u003cextra\\u003e\\u003c\\u002fextra\\u003e\",\"legendgroup\":\"death becomes her\",\"marker\":{\"color\":\"#00cc96\",\"pattern\":{\"shape\":\"\"}},\"name\":\"death becomes her\",\"offsetgroup\":\"death becomes her\",\"orientation\":\"v\",\"showlegend\":true,\"text\":[\"death becomes her\"],\"textposition\":\"inside\",\"x\":[\"Robert Zemeckis\"],\"xaxis\":\"x\",\"y\":[173.0],\"yaxis\":\"y\",\"type\":\"bar\",\"textfont\":{\"size\":10}},{\"alignmentgroup\":\"True\",\"customdata\":[[\"batman\"]],\"hovertemplate\":\"Movie=%{customdata[0]}\\u003cbr\\u003eDirector Name=%{x}\\u003cbr\\u003enum_user_for_reviews=%{y}\\u003cextra\\u003e\\u003c\\u002fextra\\u003e\",\"legendgroup\":\"batman\",\"marker\":{\"color\":\"#ab63fa\",\"pattern\":{\"shape\":\"\"}},\"name\":\"batman\",\"offsetgroup\":\"batman\",\"orientation\":\"v\",\"showlegend\":true,\"text\":[\"batman\"],\"textposition\":\"inside\",\"x\":[\"Tim Burton\"],\"xaxis\":\"x\",\"y\":[817.0],\"yaxis\":\"y\",\"type\":\"bar\",\"textfont\":{\"size\":10}},{\"alignmentgroup\":\"True\",\"customdata\":[[\"alice in wonderland\"]],\"hovertemplate\":\"Movie=%{customdata[0]}\\u003cbr\\u003eDirector Name=%{x}\\u003cbr\\u003enum_user_for_reviews=%{y}\\u003cextra\\u003e\\u003c\\u002fextra\\u003e\",\"legendgroup\":\"alice in wonderland\",\"marker\":{\"color\":\"#FFA15A\",\"pattern\":{\"shape\":\"\"}},\"name\":\"alice in wonderland\",\"offsetgroup\":\"alice in wonderland\",\"orientation\":\"v\",\"showlegend\":true,\"text\":[\"alice in wonderland\"],\"textposition\":\"inside\",\"x\":[\"Tim Burton\"],\"xaxis\":\"x\",\"y\":[736.0],\"yaxis\":\"y\",\"type\":\"bar\",\"textfont\":{\"size\":10}},{\"alignmentgroup\":\"True\",\"customdata\":[[\"ed wood\"]],\"hovertemplate\":\"Movie=%{customdata[0]}\\u003cbr\\u003eDirector Name=%{x}\\u003cbr\\u003enum_user_for_reviews=%{y}\\u003cextra\\u003e\\u003c\\u002fextra\\u003e\",\"legendgroup\":\"ed wood\",\"marker\":{\"color\":\"#19d3f3\",\"pattern\":{\"shape\":\"\"}},\"name\":\"ed wood\",\"offsetgroup\":\"ed wood\",\"orientation\":\"v\",\"showlegend\":true,\"text\":[\"ed wood\"],\"textposition\":\"inside\",\"x\":[\"Tim Burton\"],\"xaxis\":\"x\",\"y\":[420.0],\"yaxis\":\"y\",\"type\":\"bar\",\"textfont\":{\"size\":10}},{\"alignmentgroup\":\"True\",\"customdata\":[[\"beetlejuice\"]],\"hovertemplate\":\"Movie=%{customdata[0]}\\u003cbr\\u003eDirector Name=%{x}\\u003cbr\\u003enum_user_for_reviews=%{y}\\u003cextra\\u003e\\u003c\\u002fextra\\u003e\",\"legendgroup\":\"beetlejuice\",\"marker\":{\"color\":\"#FF6692\",\"pattern\":{\"shape\":\"\"}},\"name\":\"beetlejuice\",\"offsetgroup\":\"beetlejuice\",\"orientation\":\"v\",\"showlegend\":true,\"text\":[\"beetlejuice\"],\"textposition\":\"inside\",\"x\":[\"Tim Burton\"],\"xaxis\":\"x\",\"y\":[306.0],\"yaxis\":\"y\",\"type\":\"bar\",\"textfont\":{\"size\":10}},{\"alignmentgroup\":\"True\",\"customdata\":[[\"the curious case of benjamin button\"]],\"hovertemplate\":\"Movie=%{customdata[0]}\\u003cbr\\u003eDirector Name=%{x}\\u003cbr\\u003enum_user_for_reviews=%{y}\\u003cextra\\u003e\\u003c\\u002fextra\\u003e\",\"legendgroup\":\"the curious case of benjamin button\",\"marker\":{\"color\":\"#B6E880\",\"pattern\":{\"shape\":\"\"}},\"name\":\"the curious case of benjamin button\",\"offsetgroup\":\"the curious case of benjamin button\",\"orientation\":\"v\",\"showlegend\":true,\"text\":[\"the curious case of benjamin button\"],\"textposition\":\"inside\",\"x\":[\"David Fincher\"],\"xaxis\":\"x\",\"y\":[822.0],\"yaxis\":\"y\",\"type\":\"bar\",\"textfont\":{\"size\":10}},{\"alignmentgroup\":\"True\",\"customdata\":[[\"the social network\"]],\"hovertemplate\":\"Movie=%{customdata[0]}\\u003cbr\\u003eDirector Name=%{x}\\u003cbr\\u003enum_user_for_reviews=%{y}\\u003cextra\\u003e\\u003c\\u002fextra\\u003e\",\"legendgroup\":\"the social network\",\"marker\":{\"color\":\"#FF97FF\",\"pattern\":{\"shape\":\"\"}},\"name\":\"the social network\",\"offsetgroup\":\"the social network\",\"orientation\":\"v\",\"showlegend\":true,\"text\":[\"the social network\"],\"textposition\":\"inside\",\"x\":[\"David Fincher\"],\"xaxis\":\"x\",\"y\":[696.0],\"yaxis\":\"y\",\"type\":\"bar\",\"textfont\":{\"size\":10}},{\"alignmentgroup\":\"True\",\"customdata\":[[\"the girl with the dragon tattoo\"]],\"hovertemplate\":\"Movie=%{customdata[0]}\\u003cbr\\u003eDirector Name=%{x}\\u003cbr\\u003enum_user_for_reviews=%{y}\\u003cextra\\u003e\\u003c\\u002fextra\\u003e\",\"legendgroup\":\"the girl with the dragon tattoo\",\"marker\":{\"color\":\"#FECB52\",\"pattern\":{\"shape\":\"\"}},\"name\":\"the girl with the dragon tattoo\",\"offsetgroup\":\"the girl with the dragon tattoo\",\"orientation\":\"v\",\"showlegend\":true,\"text\":[\"the girl with the dragon tattoo\"],\"textposition\":\"inside\",\"x\":[\"David Fincher\"],\"xaxis\":\"x\",\"y\":[632.0],\"yaxis\":\"y\",\"type\":\"bar\",\"textfont\":{\"size\":10}},{\"alignmentgroup\":\"True\",\"customdata\":[[\"inside out\"]],\"hovertemplate\":\"Movie=%{customdata[0]}\\u003cbr\\u003eDirector Name=%{x}\\u003cbr\\u003enum_user_for_reviews=%{y}\\u003cextra\\u003e\\u003c\\u002fextra\\u003e\",\"legendgroup\":\"inside out\",\"marker\":{\"color\":\"#636efa\",\"pattern\":{\"shape\":\"\"}},\"name\":\"inside out\",\"offsetgroup\":\"inside out\",\"orientation\":\"v\",\"showlegend\":true,\"text\":[\"inside out\"],\"textposition\":\"inside\",\"x\":[\"Pete Docter\"],\"xaxis\":\"x\",\"y\":[773.0],\"yaxis\":\"y\",\"type\":\"bar\",\"textfont\":{\"size\":10}},{\"alignmentgroup\":\"True\",\"customdata\":[[\"up\"]],\"hovertemplate\":\"Movie=%{customdata[0]}\\u003cbr\\u003eDirector Name=%{x}\\u003cbr\\u003enum_user_for_reviews=%{y}\\u003cextra\\u003e\\u003c\\u002fextra\\u003e\",\"legendgroup\":\"up\",\"marker\":{\"color\":\"#EF553B\",\"pattern\":{\"shape\":\"\"}},\"name\":\"up\",\"offsetgroup\":\"up\",\"orientation\":\"v\",\"showlegend\":true,\"text\":[\"up\"],\"textposition\":\"inside\",\"x\":[\"Pete Docter\"],\"xaxis\":\"x\",\"y\":[704.0],\"yaxis\":\"y\",\"type\":\"bar\",\"textfont\":{\"size\":10}},{\"alignmentgroup\":\"True\",\"customdata\":[[\"monsters, inc.\"]],\"hovertemplate\":\"Movie=%{customdata[0]}\\u003cbr\\u003eDirector Name=%{x}\\u003cbr\\u003enum_user_for_reviews=%{y}\\u003cextra\\u003e\\u003c\\u002fextra\\u003e\",\"legendgroup\":\"monsters, inc.\",\"marker\":{\"color\":\"#00cc96\",\"pattern\":{\"shape\":\"\"}},\"name\":\"monsters, inc.\",\"offsetgroup\":\"monsters, inc.\",\"orientation\":\"v\",\"showlegend\":true,\"text\":[\"monsters, inc.\"],\"textposition\":\"inside\",\"x\":[\"Pete Docter\"],\"xaxis\":\"x\",\"y\":[593.0],\"yaxis\":\"y\",\"type\":\"bar\",\"textfont\":{\"size\":10}},{\"alignmentgroup\":\"True\",\"customdata\":[[\"midnight in paris\"]],\"hovertemplate\":\"Movie=%{customdata[0]}\\u003cbr\\u003eDirector Name=%{x}\\u003cbr\\u003enum_user_for_reviews=%{y}\\u003cextra\\u003e\\u003c\\u002fextra\\u003e\",\"legendgroup\":\"midnight in paris\",\"marker\":{\"color\":\"#ab63fa\",\"pattern\":{\"shape\":\"\"}},\"name\":\"midnight in paris\",\"offsetgroup\":\"midnight in paris\",\"orientation\":\"v\",\"showlegend\":true,\"text\":[\"midnight in paris\"],\"textposition\":\"inside\",\"x\":[\"Woody Allen\"],\"xaxis\":\"x\",\"y\":[509.0],\"yaxis\":\"y\",\"type\":\"bar\",\"textfont\":{\"size\":10}},{\"alignmentgroup\":\"True\",\"customdata\":[[\"annie hall\"]],\"hovertemplate\":\"Movie=%{customdata[0]}\\u003cbr\\u003eDirector Name=%{x}\\u003cbr\\u003enum_user_for_reviews=%{y}\\u003cextra\\u003e\\u003c\\u002fextra\\u003e\",\"legendgroup\":\"annie hall\",\"marker\":{\"color\":\"#FFA15A\",\"pattern\":{\"shape\":\"\"}},\"name\":\"annie hall\",\"offsetgroup\":\"annie hall\",\"orientation\":\"v\",\"showlegend\":true,\"text\":[\"annie hall\"],\"textposition\":\"inside\",\"x\":[\"Woody Allen\"],\"xaxis\":\"x\",\"y\":[491.0],\"yaxis\":\"y\",\"type\":\"bar\",\"textfont\":{\"size\":10}},{\"alignmentgroup\":\"True\",\"customdata\":[[\"blue jasmine\"]],\"hovertemplate\":\"Movie=%{customdata[0]}\\u003cbr\\u003eDirector Name=%{x}\\u003cbr\\u003enum_user_for_reviews=%{y}\\u003cextra\\u003e\\u003c\\u002fextra\\u003e\",\"legendgroup\":\"blue jasmine\",\"marker\":{\"color\":\"#19d3f3\",\"pattern\":{\"shape\":\"\"}},\"name\":\"blue jasmine\",\"offsetgroup\":\"blue jasmine\",\"orientation\":\"v\",\"showlegend\":true,\"text\":[\"blue jasmine\"],\"textposition\":\"inside\",\"x\":[\"Woody Allen\"],\"xaxis\":\"x\",\"y\":[384.0],\"yaxis\":\"y\",\"type\":\"bar\",\"textfont\":{\"size\":10}},{\"alignmentgroup\":\"True\",\"customdata\":[[\"vicky cristina barcelona\"]],\"hovertemplate\":\"Movie=%{customdata[0]}\\u003cbr\\u003eDirector Name=%{x}\\u003cbr\\u003enum_user_for_reviews=%{y}\\u003cextra\\u003e\\u003c\\u002fextra\\u003e\",\"legendgroup\":\"vicky cristina barcelona\",\"marker\":{\"color\":\"#FF6692\",\"pattern\":{\"shape\":\"\"}},\"name\":\"vicky cristina barcelona\",\"offsetgroup\":\"vicky cristina barcelona\",\"orientation\":\"v\",\"showlegend\":true,\"text\":[\"vicky cristina barcelona\"],\"textposition\":\"inside\",\"x\":[\"Woody Allen\"],\"xaxis\":\"x\",\"y\":[365.0],\"yaxis\":\"y\",\"type\":\"bar\",\"textfont\":{\"size\":10}},{\"alignmentgroup\":\"True\",\"customdata\":[[\"bullets over broadway\"]],\"hovertemplate\":\"Movie=%{customdata[0]}\\u003cbr\\u003eDirector Name=%{x}\\u003cbr\\u003enum_user_for_reviews=%{y}\\u003cextra\\u003e\\u003c\\u002fextra\\u003e\",\"legendgroup\":\"bullets over broadway\",\"marker\":{\"color\":\"#B6E880\",\"pattern\":{\"shape\":\"\"}},\"name\":\"bullets over broadway\",\"offsetgroup\":\"bullets over broadway\",\"orientation\":\"v\",\"showlegend\":true,\"text\":[\"bullets over broadway\"],\"textposition\":\"inside\",\"x\":[\"Woody Allen\"],\"xaxis\":\"x\",\"y\":[86.0],\"yaxis\":\"y\",\"type\":\"bar\",\"textfont\":{\"size\":10}},{\"alignmentgroup\":\"True\",\"customdata\":[[\"platoon\"]],\"hovertemplate\":\"Movie=%{customdata[0]}\\u003cbr\\u003eDirector Name=%{x}\\u003cbr\\u003enum_user_for_reviews=%{y}\\u003cextra\\u003e\\u003c\\u002fextra\\u003e\",\"legendgroup\":\"platoon\",\"marker\":{\"color\":\"#FF97FF\",\"pattern\":{\"shape\":\"\"}},\"name\":\"platoon\",\"offsetgroup\":\"platoon\",\"orientation\":\"v\",\"showlegend\":true,\"text\":[\"platoon\"],\"textposition\":\"inside\",\"x\":[\"Oliver Stone\"],\"xaxis\":\"x\",\"y\":[505.0],\"yaxis\":\"y\",\"type\":\"bar\",\"textfont\":{\"size\":10}},{\"alignmentgroup\":\"True\",\"customdata\":[[\"jfk\"]],\"hovertemplate\":\"Movie=%{customdata[0]}\\u003cbr\\u003eDirector Name=%{x}\\u003cbr\\u003enum_user_for_reviews=%{y}\\u003cextra\\u003e\\u003c\\u002fextra\\u003e\",\"legendgroup\":\"jfk\",\"marker\":{\"color\":\"#FECB52\",\"pattern\":{\"shape\":\"\"}},\"name\":\"jfk\",\"offsetgroup\":\"jfk\",\"orientation\":\"v\",\"showlegend\":true,\"text\":[\"jfk\"],\"textposition\":\"inside\",\"x\":[\"Oliver Stone\"],\"xaxis\":\"x\",\"y\":[442.0],\"yaxis\":\"y\",\"type\":\"bar\",\"textfont\":{\"size\":10}},{\"alignmentgroup\":\"True\",\"customdata\":[[\"wall street\"]],\"hovertemplate\":\"Movie=%{customdata[0]}\\u003cbr\\u003eDirector Name=%{x}\\u003cbr\\u003enum_user_for_reviews=%{y}\\u003cextra\\u003e\\u003c\\u002fextra\\u003e\",\"legendgroup\":\"wall street\",\"marker\":{\"color\":\"#636efa\",\"pattern\":{\"shape\":\"\"}},\"name\":\"wall street\",\"offsetgroup\":\"wall street\",\"orientation\":\"v\",\"showlegend\":true,\"text\":[\"wall street\"],\"textposition\":\"inside\",\"x\":[\"Oliver Stone\"],\"xaxis\":\"x\",\"y\":[219.0],\"yaxis\":\"y\",\"type\":\"bar\",\"textfont\":{\"size\":10}},{\"alignmentgroup\":\"True\",\"customdata\":[[\"born on the fourth of july\"]],\"hovertemplate\":\"Movie=%{customdata[0]}\\u003cbr\\u003eDirector Name=%{x}\\u003cbr\\u003enum_user_for_reviews=%{y}\\u003cextra\\u003e\\u003c\\u002fextra\\u003e\",\"legendgroup\":\"born on the fourth of july\",\"marker\":{\"color\":\"#EF553B\",\"pattern\":{\"shape\":\"\"}},\"name\":\"born on the fourth of july\",\"offsetgroup\":\"born on the fourth of july\",\"orientation\":\"v\",\"showlegend\":true,\"text\":[\"born on the fourth of july\"],\"textposition\":\"inside\",\"x\":[\"Oliver Stone\"],\"xaxis\":\"x\",\"y\":[173.0],\"yaxis\":\"y\",\"type\":\"bar\",\"textfont\":{\"size\":10}},{\"alignmentgroup\":\"True\",\"customdata\":[[\"lawrence of arabia\"]],\"hovertemplate\":\"Movie=%{customdata[0]}\\u003cbr\\u003eDirector Name=%{x}\\u003cbr\\u003enum_user_for_reviews=%{y}\\u003cextra\\u003e\\u003c\\u002fextra\\u003e\",\"legendgroup\":\"lawrence of arabia\",\"marker\":{\"color\":\"#00cc96\",\"pattern\":{\"shape\":\"\"}},\"name\":\"lawrence of arabia\",\"offsetgroup\":\"lawrence of arabia\",\"orientation\":\"v\",\"showlegend\":true,\"text\":[\"lawrence of arabia\"],\"textposition\":\"inside\",\"x\":[\"David Lean\"],\"xaxis\":\"x\",\"y\":[559.0],\"yaxis\":\"y\",\"type\":\"bar\",\"textfont\":{\"size\":10}},{\"alignmentgroup\":\"True\",\"customdata\":[[\"the bridge on the river kwai\"]],\"hovertemplate\":\"Movie=%{customdata[0]}\\u003cbr\\u003eDirector Name=%{x}\\u003cbr\\u003enum_user_for_reviews=%{y}\\u003cextra\\u003e\\u003c\\u002fextra\\u003e\",\"legendgroup\":\"the bridge on the river kwai\",\"marker\":{\"color\":\"#ab63fa\",\"pattern\":{\"shape\":\"\"}},\"name\":\"the bridge on the river kwai\",\"offsetgroup\":\"the bridge on the river kwai\",\"orientation\":\"v\",\"showlegend\":true,\"text\":[\"the bridge on the river kwai\"],\"textposition\":\"inside\",\"x\":[\"David Lean\"],\"xaxis\":\"x\",\"y\":[273.0],\"yaxis\":\"y\",\"type\":\"bar\",\"textfont\":{\"size\":10}},{\"alignmentgroup\":\"True\",\"customdata\":[[\"doctor zhivago\"]],\"hovertemplate\":\"Movie=%{customdata[0]}\\u003cbr\\u003eDirector Name=%{x}\\u003cbr\\u003enum_user_for_reviews=%{y}\\u003cextra\\u003e\\u003c\\u002fextra\\u003e\",\"legendgroup\":\"doctor zhivago\",\"marker\":{\"color\":\"#FFA15A\",\"pattern\":{\"shape\":\"\"}},\"name\":\"doctor zhivago\",\"offsetgroup\":\"doctor zhivago\",\"orientation\":\"v\",\"showlegend\":true,\"text\":[\"doctor zhivago\"],\"textposition\":\"inside\",\"x\":[\"David Lean\"],\"xaxis\":\"x\",\"y\":[255.0],\"yaxis\":\"y\",\"type\":\"bar\",\"textfont\":{\"size\":10}},{\"alignmentgroup\":\"True\",\"customdata\":[[\"a passage to india\"]],\"hovertemplate\":\"Movie=%{customdata[0]}\\u003cbr\\u003eDirector Name=%{x}\\u003cbr\\u003enum_user_for_reviews=%{y}\\u003cextra\\u003e\\u003c\\u002fextra\\u003e\",\"legendgroup\":\"a passage to india\",\"marker\":{\"color\":\"#19d3f3\",\"pattern\":{\"shape\":\"\"}},\"name\":\"a passage to india\",\"offsetgroup\":\"a passage to india\",\"orientation\":\"v\",\"showlegend\":true,\"text\":[\"a passage to india\"],\"textposition\":\"inside\",\"x\":[\"David Lean\"],\"xaxis\":\"x\",\"y\":[89.0],\"yaxis\":\"y\",\"type\":\"bar\",\"textfont\":{\"size\":10}},{\"alignmentgroup\":\"True\",\"customdata\":[[\"high noon\"]],\"hovertemplate\":\"Movie=%{customdata[0]}\\u003cbr\\u003eDirector Name=%{x}\\u003cbr\\u003enum_user_for_reviews=%{y}\\u003cextra\\u003e\\u003c\\u002fextra\\u003e\",\"legendgroup\":\"high noon\",\"marker\":{\"color\":\"#FF6692\",\"pattern\":{\"shape\":\"\"}},\"name\":\"high noon\",\"offsetgroup\":\"high noon\",\"orientation\":\"v\",\"showlegend\":true,\"text\":[\"high noon\"],\"textposition\":\"inside\",\"x\":[\"Fred Zinnemann\"],\"xaxis\":\"x\",\"y\":[333.0],\"yaxis\":\"y\",\"type\":\"bar\",\"textfont\":{\"size\":10}},{\"alignmentgroup\":\"True\",\"customdata\":[[\"a man for all seasons\"]],\"hovertemplate\":\"Movie=%{customdata[0]}\\u003cbr\\u003eDirector Name=%{x}\\u003cbr\\u003enum_user_for_reviews=%{y}\\u003cextra\\u003e\\u003c\\u002fextra\\u003e\",\"legendgroup\":\"a man for all seasons\",\"marker\":{\"color\":\"#B6E880\",\"pattern\":{\"shape\":\"\"}},\"name\":\"a man for all seasons\",\"offsetgroup\":\"a man for all seasons\",\"orientation\":\"v\",\"showlegend\":true,\"text\":[\"a man for all seasons\"],\"textposition\":\"inside\",\"x\":[\"Fred Zinnemann\"],\"xaxis\":\"x\",\"y\":[167.0],\"yaxis\":\"y\",\"type\":\"bar\",\"textfont\":{\"size\":10}},{\"alignmentgroup\":\"True\",\"customdata\":[[\"from here to eternity\"]],\"hovertemplate\":\"Movie=%{customdata[0]}\\u003cbr\\u003eDirector Name=%{x}\\u003cbr\\u003enum_user_for_reviews=%{y}\\u003cextra\\u003e\\u003c\\u002fextra\\u003e\",\"legendgroup\":\"from here to eternity\",\"marker\":{\"color\":\"#FF97FF\",\"pattern\":{\"shape\":\"\"}},\"name\":\"from here to eternity\",\"offsetgroup\":\"from here to eternity\",\"orientation\":\"v\",\"showlegend\":true,\"text\":[\"from here to eternity\"],\"textposition\":\"inside\",\"x\":[\"Fred Zinnemann\"],\"xaxis\":\"x\",\"y\":[150.0],\"yaxis\":\"y\",\"type\":\"bar\",\"textfont\":{\"size\":10}},{\"alignmentgroup\":\"True\",\"customdata\":[[\"julia\"]],\"hovertemplate\":\"Movie=%{customdata[0]}\\u003cbr\\u003eDirector Name=%{x}\\u003cbr\\u003enum_user_for_reviews=%{y}\\u003cextra\\u003e\\u003c\\u002fextra\\u003e\",\"legendgroup\":\"julia\",\"marker\":{\"color\":\"#FECB52\",\"pattern\":{\"shape\":\"\"}},\"name\":\"julia\",\"offsetgroup\":\"julia\",\"orientation\":\"v\",\"showlegend\":true,\"text\":[\"julia\"],\"textposition\":\"inside\",\"x\":[\"Fred Zinnemann\"],\"xaxis\":\"x\",\"y\":[44.0],\"yaxis\":\"y\",\"type\":\"bar\",\"textfont\":{\"size\":10}},{\"alignmentgroup\":\"True\",\"customdata\":[[\"on the waterfront\"]],\"hovertemplate\":\"Movie=%{customdata[0]}\\u003cbr\\u003eDirector Name=%{x}\\u003cbr\\u003enum_user_for_reviews=%{y}\\u003cextra\\u003e\\u003c\\u002fextra\\u003e\",\"legendgroup\":\"on the waterfront\",\"marker\":{\"color\":\"#636efa\",\"pattern\":{\"shape\":\"\"}},\"name\":\"on the waterfront\",\"offsetgroup\":\"on the waterfront\",\"orientation\":\"v\",\"showlegend\":true,\"text\":[\"on the waterfront\"],\"textposition\":\"inside\",\"x\":[\"Elia Kazan\"],\"xaxis\":\"x\",\"y\":[281.0],\"yaxis\":\"y\",\"type\":\"bar\",\"textfont\":{\"size\":10}},{\"alignmentgroup\":\"True\",\"customdata\":[[\"a streetcar named desire\"]],\"hovertemplate\":\"Movie=%{customdata[0]}\\u003cbr\\u003eDirector Name=%{x}\\u003cbr\\u003enum_user_for_reviews=%{y}\\u003cextra\\u003e\\u003c\\u002fextra\\u003e\",\"legendgroup\":\"a streetcar named desire\",\"marker\":{\"color\":\"#EF553B\",\"pattern\":{\"shape\":\"\"}},\"name\":\"a streetcar named desire\",\"offsetgroup\":\"a streetcar named desire\",\"orientation\":\"v\",\"showlegend\":true,\"text\":[\"a streetcar named desire\"],\"textposition\":\"inside\",\"x\":[\"Elia Kazan\"],\"xaxis\":\"x\",\"y\":[233.0],\"yaxis\":\"y\",\"type\":\"bar\",\"textfont\":{\"size\":10}},{\"alignmentgroup\":\"True\",\"customdata\":[[\"gentleman's agreement\"]],\"hovertemplate\":\"Movie=%{customdata[0]}\\u003cbr\\u003eDirector Name=%{x}\\u003cbr\\u003enum_user_for_reviews=%{y}\\u003cextra\\u003e\\u003c\\u002fextra\\u003e\",\"legendgroup\":\"gentleman's agreement\",\"marker\":{\"color\":\"#00cc96\",\"pattern\":{\"shape\":\"\"}},\"name\":\"gentleman's agreement\",\"offsetgroup\":\"gentleman's agreement\",\"orientation\":\"v\",\"showlegend\":true,\"text\":[\"gentleman's agreement\"],\"textposition\":\"inside\",\"x\":[\"Elia Kazan\"],\"xaxis\":\"x\",\"y\":[113.0],\"yaxis\":\"y\",\"type\":\"bar\",\"textfont\":{\"size\":10}},{\"alignmentgroup\":\"True\",\"customdata\":[[\"mr. smith goes to washington\"]],\"hovertemplate\":\"Movie=%{customdata[0]}\\u003cbr\\u003eDirector Name=%{x}\\u003cbr\\u003enum_user_for_reviews=%{y}\\u003cextra\\u003e\\u003c\\u002fextra\\u003e\",\"legendgroup\":\"mr. smith goes to washington\",\"marker\":{\"color\":\"#ab63fa\",\"pattern\":{\"shape\":\"\"}},\"name\":\"mr. smith goes to washington\",\"offsetgroup\":\"mr. smith goes to washington\",\"orientation\":\"v\",\"showlegend\":true,\"text\":[\"mr. smith goes to washington\"],\"textposition\":\"inside\",\"x\":[\"Frank Capra\"],\"xaxis\":\"x\",\"y\":[245.0],\"yaxis\":\"y\",\"type\":\"bar\",\"textfont\":{\"size\":10}},{\"alignmentgroup\":\"True\",\"customdata\":[[\"it happened one night\"]],\"hovertemplate\":\"Movie=%{customdata[0]}\\u003cbr\\u003eDirector Name=%{x}\\u003cbr\\u003enum_user_for_reviews=%{y}\\u003cextra\\u003e\\u003c\\u002fextra\\u003e\",\"legendgroup\":\"it happened one night\",\"marker\":{\"color\":\"#FFA15A\",\"pattern\":{\"shape\":\"\"}},\"name\":\"it happened one night\",\"offsetgroup\":\"it happened one night\",\"orientation\":\"v\",\"showlegend\":true,\"text\":[\"it happened one night\"],\"textposition\":\"inside\",\"x\":[\"Frank Capra\"],\"xaxis\":\"x\",\"y\":[235.0],\"yaxis\":\"y\",\"type\":\"bar\",\"textfont\":{\"size\":10}},{\"alignmentgroup\":\"True\",\"customdata\":[[\"you can't take it with you\"]],\"hovertemplate\":\"Movie=%{customdata[0]}\\u003cbr\\u003eDirector Name=%{x}\\u003cbr\\u003enum_user_for_reviews=%{y}\\u003cextra\\u003e\\u003c\\u002fextra\\u003e\",\"legendgroup\":\"you can't take it with you\",\"marker\":{\"color\":\"#19d3f3\",\"pattern\":{\"shape\":\"\"}},\"name\":\"you can't take it with you\",\"offsetgroup\":\"you can't take it with you\",\"orientation\":\"v\",\"showlegend\":true,\"text\":[\"you can't take it with you\"],\"textposition\":\"inside\",\"x\":[\"Frank Capra\"],\"xaxis\":\"x\",\"y\":[133.0],\"yaxis\":\"y\",\"type\":\"bar\",\"textfont\":{\"size\":10}}],                        {\"template\":{\"data\":{\"histogram2dcontour\":[{\"type\":\"histogram2dcontour\",\"colorbar\":{\"outlinewidth\":0,\"ticks\":\"\"},\"colorscale\":[[0.0,\"#0d0887\"],[0.1111111111111111,\"#46039f\"],[0.2222222222222222,\"#7201a8\"],[0.3333333333333333,\"#9c179e\"],[0.4444444444444444,\"#bd3786\"],[0.5555555555555556,\"#d8576b\"],[0.6666666666666666,\"#ed7953\"],[0.7777777777777778,\"#fb9f3a\"],[0.8888888888888888,\"#fdca26\"],[1.0,\"#f0f921\"]]}],\"choropleth\":[{\"type\":\"choropleth\",\"colorbar\":{\"outlinewidth\":0,\"ticks\":\"\"}}],\"histogram2d\":[{\"type\":\"histogram2d\",\"colorbar\":{\"outlinewidth\":0,\"ticks\":\"\"},\"colorscale\":[[0.0,\"#0d0887\"],[0.1111111111111111,\"#46039f\"],[0.2222222222222222,\"#7201a8\"],[0.3333333333333333,\"#9c179e\"],[0.4444444444444444,\"#bd3786\"],[0.5555555555555556,\"#d8576b\"],[0.6666666666666666,\"#ed7953\"],[0.7777777777777778,\"#fb9f3a\"],[0.8888888888888888,\"#fdca26\"],[1.0,\"#f0f921\"]]}],\"heatmap\":[{\"type\":\"heatmap\",\"colorbar\":{\"outlinewidth\":0,\"ticks\":\"\"},\"colorscale\":[[0.0,\"#0d0887\"],[0.1111111111111111,\"#46039f\"],[0.2222222222222222,\"#7201a8\"],[0.3333333333333333,\"#9c179e\"],[0.4444444444444444,\"#bd3786\"],[0.5555555555555556,\"#d8576b\"],[0.6666666666666666,\"#ed7953\"],[0.7777777777777778,\"#fb9f3a\"],[0.8888888888888888,\"#fdca26\"],[1.0,\"#f0f921\"]]}],\"heatmapgl\":[{\"type\":\"heatmapgl\",\"colorbar\":{\"outlinewidth\":0,\"ticks\":\"\"},\"colorscale\":[[0.0,\"#0d0887\"],[0.1111111111111111,\"#46039f\"],[0.2222222222222222,\"#7201a8\"],[0.3333333333333333,\"#9c179e\"],[0.4444444444444444,\"#bd3786\"],[0.5555555555555556,\"#d8576b\"],[0.6666666666666666,\"#ed7953\"],[0.7777777777777778,\"#fb9f3a\"],[0.8888888888888888,\"#fdca26\"],[1.0,\"#f0f921\"]]}],\"contourcarpet\":[{\"type\":\"contourcarpet\",\"colorbar\":{\"outlinewidth\":0,\"ticks\":\"\"}}],\"contour\":[{\"type\":\"contour\",\"colorbar\":{\"outlinewidth\":0,\"ticks\":\"\"},\"colorscale\":[[0.0,\"#0d0887\"],[0.1111111111111111,\"#46039f\"],[0.2222222222222222,\"#7201a8\"],[0.3333333333333333,\"#9c179e\"],[0.4444444444444444,\"#bd3786\"],[0.5555555555555556,\"#d8576b\"],[0.6666666666666666,\"#ed7953\"],[0.7777777777777778,\"#fb9f3a\"],[0.8888888888888888,\"#fdca26\"],[1.0,\"#f0f921\"]]}],\"surface\":[{\"type\":\"surface\",\"colorbar\":{\"outlinewidth\":0,\"ticks\":\"\"},\"colorscale\":[[0.0,\"#0d0887\"],[0.1111111111111111,\"#46039f\"],[0.2222222222222222,\"#7201a8\"],[0.3333333333333333,\"#9c179e\"],[0.4444444444444444,\"#bd3786\"],[0.5555555555555556,\"#d8576b\"],[0.6666666666666666,\"#ed7953\"],[0.7777777777777778,\"#fb9f3a\"],[0.8888888888888888,\"#fdca26\"],[1.0,\"#f0f921\"]]}],\"mesh3d\":[{\"type\":\"mesh3d\",\"colorbar\":{\"outlinewidth\":0,\"ticks\":\"\"}}],\"scatter\":[{\"fillpattern\":{\"fillmode\":\"overlay\",\"size\":10,\"solidity\":0.2},\"type\":\"scatter\"}],\"parcoords\":[{\"type\":\"parcoords\",\"line\":{\"colorbar\":{\"outlinewidth\":0,\"ticks\":\"\"}}}],\"scatterpolargl\":[{\"type\":\"scatterpolargl\",\"marker\":{\"colorbar\":{\"outlinewidth\":0,\"ticks\":\"\"}}}],\"bar\":[{\"error_x\":{\"color\":\"#2a3f5f\"},\"error_y\":{\"color\":\"#2a3f5f\"},\"marker\":{\"line\":{\"color\":\"#E5ECF6\",\"width\":0.5},\"pattern\":{\"fillmode\":\"overlay\",\"size\":10,\"solidity\":0.2}},\"type\":\"bar\"}],\"scattergeo\":[{\"type\":\"scattergeo\",\"marker\":{\"colorbar\":{\"outlinewidth\":0,\"ticks\":\"\"}}}],\"scatterpolar\":[{\"type\":\"scatterpolar\",\"marker\":{\"colorbar\":{\"outlinewidth\":0,\"ticks\":\"\"}}}],\"histogram\":[{\"marker\":{\"pattern\":{\"fillmode\":\"overlay\",\"size\":10,\"solidity\":0.2}},\"type\":\"histogram\"}],\"scattergl\":[{\"type\":\"scattergl\",\"marker\":{\"colorbar\":{\"outlinewidth\":0,\"ticks\":\"\"}}}],\"scatter3d\":[{\"type\":\"scatter3d\",\"line\":{\"colorbar\":{\"outlinewidth\":0,\"ticks\":\"\"}},\"marker\":{\"colorbar\":{\"outlinewidth\":0,\"ticks\":\"\"}}}],\"scattermapbox\":[{\"type\":\"scattermapbox\",\"marker\":{\"colorbar\":{\"outlinewidth\":0,\"ticks\":\"\"}}}],\"scatterternary\":[{\"type\":\"scatterternary\",\"marker\":{\"colorbar\":{\"outlinewidth\":0,\"ticks\":\"\"}}}],\"scattercarpet\":[{\"type\":\"scattercarpet\",\"marker\":{\"colorbar\":{\"outlinewidth\":0,\"ticks\":\"\"}}}],\"carpet\":[{\"aaxis\":{\"endlinecolor\":\"#2a3f5f\",\"gridcolor\":\"white\",\"linecolor\":\"white\",\"minorgridcolor\":\"white\",\"startlinecolor\":\"#2a3f5f\"},\"baxis\":{\"endlinecolor\":\"#2a3f5f\",\"gridcolor\":\"white\",\"linecolor\":\"white\",\"minorgridcolor\":\"white\",\"startlinecolor\":\"#2a3f5f\"},\"type\":\"carpet\"}],\"table\":[{\"cells\":{\"fill\":{\"color\":\"#EBF0F8\"},\"line\":{\"color\":\"white\"}},\"header\":{\"fill\":{\"color\":\"#C8D4E3\"},\"line\":{\"color\":\"white\"}},\"type\":\"table\"}],\"barpolar\":[{\"marker\":{\"line\":{\"color\":\"#E5ECF6\",\"width\":0.5},\"pattern\":{\"fillmode\":\"overlay\",\"size\":10,\"solidity\":0.2}},\"type\":\"barpolar\"}],\"pie\":[{\"automargin\":true,\"type\":\"pie\"}]},\"layout\":{\"autotypenumbers\":\"strict\",\"colorway\":[\"#636efa\",\"#EF553B\",\"#00cc96\",\"#ab63fa\",\"#FFA15A\",\"#19d3f3\",\"#FF6692\",\"#B6E880\",\"#FF97FF\",\"#FECB52\"],\"font\":{\"color\":\"#2a3f5f\"},\"hovermode\":\"closest\",\"hoverlabel\":{\"align\":\"left\"},\"paper_bgcolor\":\"white\",\"plot_bgcolor\":\"#E5ECF6\",\"polar\":{\"bgcolor\":\"#E5ECF6\",\"angularaxis\":{\"gridcolor\":\"white\",\"linecolor\":\"white\",\"ticks\":\"\"},\"radialaxis\":{\"gridcolor\":\"white\",\"linecolor\":\"white\",\"ticks\":\"\"}},\"ternary\":{\"bgcolor\":\"#E5ECF6\",\"aaxis\":{\"gridcolor\":\"white\",\"linecolor\":\"white\",\"ticks\":\"\"},\"baxis\":{\"gridcolor\":\"white\",\"linecolor\":\"white\",\"ticks\":\"\"},\"caxis\":{\"gridcolor\":\"white\",\"linecolor\":\"white\",\"ticks\":\"\"}},\"coloraxis\":{\"colorbar\":{\"outlinewidth\":0,\"ticks\":\"\"}},\"colorscale\":{\"sequential\":[[0.0,\"#0d0887\"],[0.1111111111111111,\"#46039f\"],[0.2222222222222222,\"#7201a8\"],[0.3333333333333333,\"#9c179e\"],[0.4444444444444444,\"#bd3786\"],[0.5555555555555556,\"#d8576b\"],[0.6666666666666666,\"#ed7953\"],[0.7777777777777778,\"#fb9f3a\"],[0.8888888888888888,\"#fdca26\"],[1.0,\"#f0f921\"]],\"sequentialminus\":[[0.0,\"#0d0887\"],[0.1111111111111111,\"#46039f\"],[0.2222222222222222,\"#7201a8\"],[0.3333333333333333,\"#9c179e\"],[0.4444444444444444,\"#bd3786\"],[0.5555555555555556,\"#d8576b\"],[0.6666666666666666,\"#ed7953\"],[0.7777777777777778,\"#fb9f3a\"],[0.8888888888888888,\"#fdca26\"],[1.0,\"#f0f921\"]],\"diverging\":[[0,\"#8e0152\"],[0.1,\"#c51b7d\"],[0.2,\"#de77ae\"],[0.3,\"#f1b6da\"],[0.4,\"#fde0ef\"],[0.5,\"#f7f7f7\"],[0.6,\"#e6f5d0\"],[0.7,\"#b8e186\"],[0.8,\"#7fbc41\"],[0.9,\"#4d9221\"],[1,\"#276419\"]]},\"xaxis\":{\"gridcolor\":\"white\",\"linecolor\":\"white\",\"ticks\":\"\",\"title\":{\"standoff\":15},\"zerolinecolor\":\"white\",\"automargin\":true,\"zerolinewidth\":2},\"yaxis\":{\"gridcolor\":\"white\",\"linecolor\":\"white\",\"ticks\":\"\",\"title\":{\"standoff\":15},\"zerolinecolor\":\"white\",\"automargin\":true,\"zerolinewidth\":2},\"scene\":{\"xaxis\":{\"backgroundcolor\":\"#E5ECF6\",\"gridcolor\":\"white\",\"linecolor\":\"white\",\"showbackground\":true,\"ticks\":\"\",\"zerolinecolor\":\"white\",\"gridwidth\":2},\"yaxis\":{\"backgroundcolor\":\"#E5ECF6\",\"gridcolor\":\"white\",\"linecolor\":\"white\",\"showbackground\":true,\"ticks\":\"\",\"zerolinecolor\":\"white\",\"gridwidth\":2},\"zaxis\":{\"backgroundcolor\":\"#E5ECF6\",\"gridcolor\":\"white\",\"linecolor\":\"white\",\"showbackground\":true,\"ticks\":\"\",\"zerolinecolor\":\"white\",\"gridwidth\":2}},\"shapedefaults\":{\"line\":{\"color\":\"#2a3f5f\"}},\"annotationdefaults\":{\"arrowcolor\":\"#2a3f5f\",\"arrowhead\":0,\"arrowwidth\":1},\"geo\":{\"bgcolor\":\"white\",\"landcolor\":\"#E5ECF6\",\"subunitcolor\":\"white\",\"showland\":true,\"showlakes\":true,\"lakecolor\":\"white\"},\"title\":{\"x\":0.05},\"mapbox\":{\"style\":\"light\"}}},\"xaxis\":{\"anchor\":\"y\",\"domain\":[0.0,1.0],\"title\":{\"text\":\"Director Name\"}},\"yaxis\":{\"anchor\":\"x\",\"domain\":[0.0,1.0],\"title\":{\"text\":\"Number of Reviews\"}},\"legend\":{\"title\":{\"text\":\"Movies\"},\"tracegroupgap\":0},\"title\":{\"text\":\"Top Directors and Their Movies\"},\"barmode\":\"relative\",\"margin\":{\"l\":50,\"r\":50,\"t\":100,\"b\":150},\"height\":800,\"showlegend\":false},                        {\"responsive\": true}                    ).then(function(){\n",
       "                            \n",
       "var gd = document.getElementById('aa5ffbfc-ddc1-409f-8c27-869b7f8e550f');\n",
       "var x = new MutationObserver(function (mutations, observer) {{\n",
       "        var display = window.getComputedStyle(gd).display;\n",
       "        if (!display || display === 'none') {{\n",
       "            console.log([gd, 'removed!']);\n",
       "            Plotly.purge(gd);\n",
       "            observer.disconnect();\n",
       "        }}\n",
       "}});\n",
       "\n",
       "// Listen for the removal of the full notebook cells\n",
       "var notebookContainer = gd.closest('#notebook-container');\n",
       "if (notebookContainer) {{\n",
       "    x.observe(notebookContainer, {childList: true});\n",
       "}}\n",
       "\n",
       "// Listen for the clearing of the current output cell\n",
       "var outputEl = gd.closest('.output');\n",
       "if (outputEl) {{\n",
       "    x.observe(outputEl, {childList: true});\n",
       "}}\n",
       "\n",
       "                        })                };                });            </script>        </div>"
      ]
     },
     "metadata": {},
     "output_type": "display_data"
    }
   ],
   "execution_count": 8
  },
  {
   "cell_type": "code",
   "metadata": {},
   "source": [
    "# Create a choropleth map with hover data showing the top movies\n",
    "fig = px.choropleth(\n",
    "    movies_df.sort_values('imdb_score').groupby(['country', 'decade']),\n",
    "    locations=movies_df['country'].str.title(),\n",
    "    locationmode=\"country names\",\n",
    "    color=movies_df['imdb_score'],\n",
    "    animation_frame=movies_df['decade'],\n",
    "    title=\"Evolution of popular movies in the world over the decades\"\n",
    "    ,\n",
    "    color_continuous_scale=px.colors.sequential.Plasma,\n",
    ")\n",
    "\n",
    "# Update layout for better readability\n",
    "fig.update_layout(\n",
    "    title=dict(x=0.5),\n",
    "    coloraxis_colorbar=dict(title=\"IMDB Score\"),\n",
    "    template=\"plotly_white\",\n",
    "    height=700\n",
    ")\n",
    "\n",
    "# Show the interactive map\n",
    "fig.show()\n"
   ],
   "outputs": [],
   "execution_count": null
  },
  {
   "cell_type": "code",
   "metadata": {},
   "source": [],
   "outputs": [],
   "execution_count": null
  }
 ],
 "metadata": {
  "kernelspec": {
   "display_name": "ada_new",
   "language": "python",
   "name": "python3"
  },
  "language_info": {
   "codemirror_mode": {
    "name": "ipython",
    "version": 3
   },
   "file_extension": ".py",
   "mimetype": "text/x-python",
   "name": "python",
   "nbconvert_exporter": "python",
   "pygments_lexer": "ipython3",
   "version": "3.11.10"
  }
 },
 "nbformat": 4,
 "nbformat_minor": 2
}
